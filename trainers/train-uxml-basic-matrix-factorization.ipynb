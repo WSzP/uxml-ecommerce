{
 "cells": [
  {
   "cell_type": "code",
   "execution_count": 1,
   "metadata": {},
   "outputs": [
    {
     "name": "stdout",
     "output_type": "stream",
     "text": [
      "PyTorch version: 1.4.0\n",
      "CUDA GPU 1: GeForce RTX 2080 Ti [Compute Capability: 7.5]\n",
      "PyTorch Lightning version: 0.7.1\n"
     ]
    },
    {
     "name": "stderr",
     "output_type": "stream",
     "text": [
      "DEBUG:root:Logging enabled at DEBUG level.\n"
     ]
    }
   ],
   "source": [
    "# import os\n",
    "# os.environ[\"CUDA_VISIBLE_DEVICES\"] = \"-1\" \n",
    "\n",
    "import numpy as np\n",
    "import torch\n",
    "print(\"PyTorch version:\",torch.__version__)\n",
    "if torch.cuda.is_available():\n",
    "    for i in range(torch.cuda.device_count()):\n",
    "      print(f\"CUDA GPU {i+1}: {torch.cuda.get_device_name(i)} [Compute Capability: {torch.cuda.get_device_capability(0)[0]}.{torch.cuda.get_device_capability(0)[1]}]\")\n",
    "    device = torch.device('cuda')\n",
    "    kwargs = {'num_workers': 8, 'pin_memory': True}\n",
    "    torch.backends.cudnn.benchmark = True\n",
    "else:\n",
    "    device = torch.device('cpu')\n",
    "    print(\"CUDA GPU is not available. :(\")  \n",
    "import torch.nn as nn\n",
    "from torch.utils.data import DataLoader, Dataset\n",
    "\n",
    "import pytorch_lightning as pl\n",
    "from pytorch_lightning.loggers import TensorBoardLogger\n",
    "\n",
    "print (\"PyTorch Lightning version:\",pl.__version__)\n",
    "    \n",
    "import scipy.sparse as sp\n",
    "from argparse import Namespace\n",
    "\n",
    "from utilities import CSVProfiler\n",
    "\n",
    "import logging\n",
    "logger = logging.getLogger()\n",
    "logger.setLevel(logging.DEBUG)\n",
    "logging.debug(\"Logging enabled at DEBUG level.\")"
   ]
  },
  {
   "cell_type": "code",
   "execution_count": 2,
   "metadata": {},
   "outputs": [],
   "source": [
    "NAME = r'BasicMatrixFactorization' \n",
    "DATA_DIR = r'../data/'\n",
    "LOG_DIR = r'C:\\TensorLogs'\n",
    "SAVE_PATH = DATA_DIR+r'/'+NAME+r'.pt'\n",
    "PROFILE_PATH = LOG_DIR+'\\\\'+NAME+'\\\\profile.csv'\n",
    "TRAIN_DATA_PATH = DATA_DIR+r'uxm_train.npz'\n",
    "VAL_DATA_PATH = DATA_DIR+r'uxm_val.npz'\n",
    "TEST_DATA_PATH = DATA_DIR+r'uxm_test.npz'"
   ]
  },
  {
   "cell_type": "code",
   "execution_count": 3,
   "metadata": {},
   "outputs": [],
   "source": [
    "SEED = 74\n",
    "torch.manual_seed(SEED)\n",
    "torch.cuda.manual_seed(SEED)"
   ]
  },
  {
   "cell_type": "code",
   "execution_count": 4,
   "metadata": {},
   "outputs": [],
   "source": [
    "class Interactions(Dataset):\n",
    "    \"\"\"\n",
    "    Create interactions matrix.\n",
    "    \"\"\"\n",
    "\n",
    "    def __init__(self, matrix):\n",
    "        self.matrix = matrix\n",
    "        self.n_users = self.matrix.shape[0]\n",
    "        self.n_items = self.matrix.shape[1]\n",
    "\n",
    "    def __getitem__(self, index):\n",
    "        row = self.matrix.row[index]\n",
    "        col = self.matrix.col[index]\n",
    "        val = self.matrix.data[index]\n",
    "        return (row, col), val\n",
    "\n",
    "    def __len__(self):\n",
    "        return self.matrix.nnz\n",
    "    \n",
    "interaction = Interactions"
   ]
  },
  {
   "cell_type": "code",
   "execution_count": 5,
   "metadata": {},
   "outputs": [],
   "source": [
    "class TestingCallbacks(pl.Callback):\n",
    "    def on_test_start(self, trainer, pl_module):\n",
    "        global y_hat \n",
    "        y_hat = sp.dok_matrix((hparams.total_users, hparams.total_items), dtype=np.float32) \n",
    "    def on_test_end(self, trainer, pl_module):\n",
    "        logging.debug(f\"Non-zero values in prediction matrix: {y_hat.nnz:,}\")\n",
    "        sp.save_npz(DATA_DIR+NAME+r'-y_hat.npz',y_hat.tocoo())\n",
    "\n"
   ]
  },
  {
   "cell_type": "code",
   "execution_count": 6,
   "metadata": {},
   "outputs": [],
   "source": [
    "class BasicMatrixFactorization(pl.LightningModule):\n",
    "    def __init__(self, hparams):\n",
    "        super(BasicMatrixFactorization, self).__init__() \n",
    "        self.hparams = hparams\n",
    "        self.user_factors = nn.Embedding(hparams.total_users, hparams.n_factors, sparse=hparams.sparse)\n",
    "        self.item_factors = nn.Embedding(hparams.total_items, hparams.n_factors, sparse=hparams.sparse)\n",
    "        \n",
    "    def forward(self, users, items):            \n",
    "        predictions = (self.user_factors(users) * self.item_factors(items)).sum(dim=1, keepdim=True)\n",
    "        return predictions.squeeze()\n",
    "    \n",
    "    def MSELoss(self, logits, labels):\n",
    "        return nn.functional.mse_loss(logits, labels)\n",
    "    \n",
    "    def training_step(self, train_batch, batch_idx):\n",
    "        x, y = train_batch\n",
    "        row, column = x\n",
    "        row = row.long()\n",
    "        column = column.long()\n",
    "        logits = self.forward(row,column)\n",
    "        loss = self.MSELoss(logits, y)\n",
    "        logs = {'train_loss': loss}\n",
    "        return {'loss': loss, 'log': logs}\n",
    "\n",
    "    def validation_step(self, val_batch, batch_idx):\n",
    "        x, y = val_batch\n",
    "        row, column = x\n",
    "        row = row.long()\n",
    "        column = column.long()\n",
    "        logits = self.forward(row,column)                \n",
    "        loss = self.MSELoss(logits, y)\n",
    "        return {'val_loss': loss}\n",
    "    \n",
    "    def validation_epoch_end(self, outputs):\n",
    "        avg_loss = torch.stack([x['val_loss'] for x in outputs]).mean()\n",
    "        tensorboard_logs = {'val_loss': avg_loss}\n",
    "        return {'avg_val_loss': avg_loss, 'log': tensorboard_logs}\n",
    "    \n",
    "    def test_step(self, test_batch, batch_idx):\n",
    "        x, y = test_batch\n",
    "        row, column = x\n",
    "        row = row.long()\n",
    "        column = column.long()\n",
    "        logits = self.forward(row,column)                \n",
    "        loss = self.MSELoss(logits, y)        \n",
    "       \n",
    "        logits_array = logits.cpu().numpy()\n",
    "        r = row.cpu().numpy()\n",
    "        c = column.cpu().numpy()\n",
    "        for i in range(len(logits_array)):\n",
    "            y_hat[r[i],c[i]]=logits_array[i]      \n",
    "        \n",
    "        return {'test_loss': loss}\n",
    "    \n",
    "    def test_epoch_end(self, outputs):\n",
    "        avg_loss = torch.stack([x['test_loss'] for x in outputs]).mean()\n",
    "        tensorboard_logs = {'MSE': avg_loss}\n",
    "        print(f\"Test Mean Squared Error (MSE): {avg_loss}\")                   \n",
    "        \n",
    "        return {'avg_test_loss': avg_loss, 'log': tensorboard_logs}\n",
    "      \n",
    "    def prepare_data(self):\n",
    "        self.train_dataset = sp.load_npz(TRAIN_DATA_PATH)\n",
    "        self.val_dataset = sp.load_npz(VAL_DATA_PATH)\n",
    "        self.test_dataset = sp.load_npz(TEST_DATA_PATH)\n",
    "        \n",
    "    def train_dataloader(self):\n",
    "        return DataLoader(interaction(self.train_dataset), batch_size=self.hparams.batch_size, shuffle=True)\n",
    "    \n",
    "    def val_dataloader(self):\n",
    "        return DataLoader(interaction(self.val_dataset), batch_size=self.hparams.batch_size, shuffle=True)\n",
    "    \n",
    "    def test_dataloader(self):\n",
    "        return DataLoader(interaction(self.test_dataset), batch_size=self.hparams.batch_size, shuffle=True)\n",
    "    \n",
    "    def configure_optimizers(self):\n",
    "        optimizer = torch.optim.SGD(self.parameters(), lr=self.hparams.learning_rate)\n",
    "        return optimizer"
   ]
  },
  {
   "cell_type": "code",
   "execution_count": 7,
   "metadata": {},
   "outputs": [
    {
     "name": "stderr",
     "output_type": "stream",
     "text": [
      "INFO:root:GPU available: True, used: True\n",
      "INFO:root:VISIBLE GPUS: 0\n",
      "INFO:root:\n",
      "  | Name         | Type      | Params\n",
      "---------------------------------------\n",
      "0 | user_factors | Embedding | 3 M   \n",
      "1 | item_factors | Embedding | 895 K \n"
     ]
    },
    {
     "data": {
      "application/vnd.jupyter.widget-view+json": {
       "model_id": "",
       "version_major": 2,
       "version_minor": 0
      },
      "text/plain": [
       "HBox(children=(FloatProgress(value=0.0, description='Validation sanity check', layout=Layout(flex='2'), max=5.…"
      ]
     },
     "metadata": {},
     "output_type": "display_data"
    },
    {
     "name": "stdout",
     "output_type": "stream",
     "text": [
      "\r"
     ]
    },
    {
     "data": {
      "application/vnd.jupyter.widget-view+json": {
       "model_id": "e8ed0b2fc8cc44399ff89ad67ebd33a5",
       "version_major": 2,
       "version_minor": 0
      },
      "text/plain": [
       "HBox(children=(FloatProgress(value=1.0, bar_style='info', layout=Layout(flex='2'), max=1.0), HTML(value='')), …"
      ]
     },
     "metadata": {},
     "output_type": "display_data"
    },
    {
     "data": {
      "application/vnd.jupyter.widget-view+json": {
       "model_id": "",
       "version_major": 2,
       "version_minor": 0
      },
      "text/plain": [
       "HBox(children=(FloatProgress(value=0.0, description='Validating', layout=Layout(flex='2'), max=541.0, style=Pr…"
      ]
     },
     "metadata": {},
     "output_type": "display_data"
    },
    {
     "data": {
      "application/vnd.jupyter.widget-view+json": {
       "model_id": "",
       "version_major": 2,
       "version_minor": 0
      },
      "text/plain": [
       "HBox(children=(FloatProgress(value=0.0, description='Validating', layout=Layout(flex='2'), max=541.0, style=Pr…"
      ]
     },
     "metadata": {},
     "output_type": "display_data"
    },
    {
     "data": {
      "application/vnd.jupyter.widget-view+json": {
       "model_id": "",
       "version_major": 2,
       "version_minor": 0
      },
      "text/plain": [
       "HBox(children=(FloatProgress(value=0.0, description='Validating', layout=Layout(flex='2'), max=541.0, style=Pr…"
      ]
     },
     "metadata": {},
     "output_type": "display_data"
    },
    {
     "data": {
      "application/vnd.jupyter.widget-view+json": {
       "model_id": "",
       "version_major": 2,
       "version_minor": 0
      },
      "text/plain": [
       "HBox(children=(FloatProgress(value=0.0, description='Validating', layout=Layout(flex='2'), max=541.0, style=Pr…"
      ]
     },
     "metadata": {},
     "output_type": "display_data"
    },
    {
     "data": {
      "application/vnd.jupyter.widget-view+json": {
       "model_id": "",
       "version_major": 2,
       "version_minor": 0
      },
      "text/plain": [
       "HBox(children=(FloatProgress(value=0.0, description='Validating', layout=Layout(flex='2'), max=541.0, style=Pr…"
      ]
     },
     "metadata": {},
     "output_type": "display_data"
    },
    {
     "data": {
      "application/vnd.jupyter.widget-view+json": {
       "model_id": "",
       "version_major": 2,
       "version_minor": 0
      },
      "text/plain": [
       "HBox(children=(FloatProgress(value=0.0, description='Validating', layout=Layout(flex='2'), max=541.0, style=Pr…"
      ]
     },
     "metadata": {},
     "output_type": "display_data"
    },
    {
     "data": {
      "application/vnd.jupyter.widget-view+json": {
       "model_id": "",
       "version_major": 2,
       "version_minor": 0
      },
      "text/plain": [
       "HBox(children=(FloatProgress(value=0.0, description='Validating', layout=Layout(flex='2'), max=541.0, style=Pr…"
      ]
     },
     "metadata": {},
     "output_type": "display_data"
    },
    {
     "data": {
      "application/vnd.jupyter.widget-view+json": {
       "model_id": "",
       "version_major": 2,
       "version_minor": 0
      },
      "text/plain": [
       "HBox(children=(FloatProgress(value=0.0, description='Validating', layout=Layout(flex='2'), max=541.0, style=Pr…"
      ]
     },
     "metadata": {},
     "output_type": "display_data"
    },
    {
     "data": {
      "application/vnd.jupyter.widget-view+json": {
       "model_id": "",
       "version_major": 2,
       "version_minor": 0
      },
      "text/plain": [
       "HBox(children=(FloatProgress(value=0.0, description='Validating', layout=Layout(flex='2'), max=541.0, style=Pr…"
      ]
     },
     "metadata": {},
     "output_type": "display_data"
    },
    {
     "data": {
      "application/vnd.jupyter.widget-view+json": {
       "model_id": "",
       "version_major": 2,
       "version_minor": 0
      },
      "text/plain": [
       "HBox(children=(FloatProgress(value=0.0, description='Validating', layout=Layout(flex='2'), max=541.0, style=Pr…"
      ]
     },
     "metadata": {},
     "output_type": "display_data"
    },
    {
     "data": {
      "application/vnd.jupyter.widget-view+json": {
       "model_id": "",
       "version_major": 2,
       "version_minor": 0
      },
      "text/plain": [
       "HBox(children=(FloatProgress(value=0.0, description='Validating', layout=Layout(flex='2'), max=541.0, style=Pr…"
      ]
     },
     "metadata": {},
     "output_type": "display_data"
    },
    {
     "data": {
      "application/vnd.jupyter.widget-view+json": {
       "model_id": "",
       "version_major": 2,
       "version_minor": 0
      },
      "text/plain": [
       "HBox(children=(FloatProgress(value=0.0, description='Validating', layout=Layout(flex='2'), max=541.0, style=Pr…"
      ]
     },
     "metadata": {},
     "output_type": "display_data"
    },
    {
     "data": {
      "application/vnd.jupyter.widget-view+json": {
       "model_id": "",
       "version_major": 2,
       "version_minor": 0
      },
      "text/plain": [
       "HBox(children=(FloatProgress(value=0.0, description='Validating', layout=Layout(flex='2'), max=541.0, style=Pr…"
      ]
     },
     "metadata": {},
     "output_type": "display_data"
    },
    {
     "data": {
      "application/vnd.jupyter.widget-view+json": {
       "model_id": "",
       "version_major": 2,
       "version_minor": 0
      },
      "text/plain": [
       "HBox(children=(FloatProgress(value=0.0, description='Validating', layout=Layout(flex='2'), max=541.0, style=Pr…"
      ]
     },
     "metadata": {},
     "output_type": "display_data"
    },
    {
     "data": {
      "application/vnd.jupyter.widget-view+json": {
       "model_id": "",
       "version_major": 2,
       "version_minor": 0
      },
      "text/plain": [
       "HBox(children=(FloatProgress(value=0.0, description='Validating', layout=Layout(flex='2'), max=541.0, style=Pr…"
      ]
     },
     "metadata": {},
     "output_type": "display_data"
    },
    {
     "data": {
      "application/vnd.jupyter.widget-view+json": {
       "model_id": "",
       "version_major": 2,
       "version_minor": 0
      },
      "text/plain": [
       "HBox(children=(FloatProgress(value=0.0, description='Validating', layout=Layout(flex='2'), max=541.0, style=Pr…"
      ]
     },
     "metadata": {},
     "output_type": "display_data"
    },
    {
     "data": {
      "application/vnd.jupyter.widget-view+json": {
       "model_id": "",
       "version_major": 2,
       "version_minor": 0
      },
      "text/plain": [
       "HBox(children=(FloatProgress(value=0.0, description='Validating', layout=Layout(flex='2'), max=541.0, style=Pr…"
      ]
     },
     "metadata": {},
     "output_type": "display_data"
    },
    {
     "data": {
      "application/vnd.jupyter.widget-view+json": {
       "model_id": "",
       "version_major": 2,
       "version_minor": 0
      },
      "text/plain": [
       "HBox(children=(FloatProgress(value=0.0, description='Validating', layout=Layout(flex='2'), max=541.0, style=Pr…"
      ]
     },
     "metadata": {},
     "output_type": "display_data"
    },
    {
     "data": {
      "application/vnd.jupyter.widget-view+json": {
       "model_id": "",
       "version_major": 2,
       "version_minor": 0
      },
      "text/plain": [
       "HBox(children=(FloatProgress(value=0.0, description='Validating', layout=Layout(flex='2'), max=541.0, style=Pr…"
      ]
     },
     "metadata": {},
     "output_type": "display_data"
    },
    {
     "data": {
      "application/vnd.jupyter.widget-view+json": {
       "model_id": "",
       "version_major": 2,
       "version_minor": 0
      },
      "text/plain": [
       "HBox(children=(FloatProgress(value=0.0, description='Validating', layout=Layout(flex='2'), max=541.0, style=Pr…"
      ]
     },
     "metadata": {},
     "output_type": "display_data"
    },
    {
     "data": {
      "application/vnd.jupyter.widget-view+json": {
       "model_id": "",
       "version_major": 2,
       "version_minor": 0
      },
      "text/plain": [
       "HBox(children=(FloatProgress(value=0.0, description='Validating', layout=Layout(flex='2'), max=541.0, style=Pr…"
      ]
     },
     "metadata": {},
     "output_type": "display_data"
    },
    {
     "data": {
      "application/vnd.jupyter.widget-view+json": {
       "model_id": "",
       "version_major": 2,
       "version_minor": 0
      },
      "text/plain": [
       "HBox(children=(FloatProgress(value=0.0, description='Validating', layout=Layout(flex='2'), max=541.0, style=Pr…"
      ]
     },
     "metadata": {},
     "output_type": "display_data"
    },
    {
     "data": {
      "application/vnd.jupyter.widget-view+json": {
       "model_id": "",
       "version_major": 2,
       "version_minor": 0
      },
      "text/plain": [
       "HBox(children=(FloatProgress(value=0.0, description='Validating', layout=Layout(flex='2'), max=541.0, style=Pr…"
      ]
     },
     "metadata": {},
     "output_type": "display_data"
    },
    {
     "data": {
      "application/vnd.jupyter.widget-view+json": {
       "model_id": "",
       "version_major": 2,
       "version_minor": 0
      },
      "text/plain": [
       "HBox(children=(FloatProgress(value=0.0, description='Validating', layout=Layout(flex='2'), max=541.0, style=Pr…"
      ]
     },
     "metadata": {},
     "output_type": "display_data"
    },
    {
     "data": {
      "application/vnd.jupyter.widget-view+json": {
       "model_id": "",
       "version_major": 2,
       "version_minor": 0
      },
      "text/plain": [
       "HBox(children=(FloatProgress(value=0.0, description='Validating', layout=Layout(flex='2'), max=541.0, style=Pr…"
      ]
     },
     "metadata": {},
     "output_type": "display_data"
    },
    {
     "data": {
      "application/vnd.jupyter.widget-view+json": {
       "model_id": "",
       "version_major": 2,
       "version_minor": 0
      },
      "text/plain": [
       "HBox(children=(FloatProgress(value=0.0, description='Validating', layout=Layout(flex='2'), max=541.0, style=Pr…"
      ]
     },
     "metadata": {},
     "output_type": "display_data"
    },
    {
     "data": {
      "application/vnd.jupyter.widget-view+json": {
       "model_id": "",
       "version_major": 2,
       "version_minor": 0
      },
      "text/plain": [
       "HBox(children=(FloatProgress(value=0.0, description='Validating', layout=Layout(flex='2'), max=541.0, style=Pr…"
      ]
     },
     "metadata": {},
     "output_type": "display_data"
    },
    {
     "data": {
      "application/vnd.jupyter.widget-view+json": {
       "model_id": "",
       "version_major": 2,
       "version_minor": 0
      },
      "text/plain": [
       "HBox(children=(FloatProgress(value=0.0, description='Validating', layout=Layout(flex='2'), max=541.0, style=Pr…"
      ]
     },
     "metadata": {},
     "output_type": "display_data"
    },
    {
     "data": {
      "application/vnd.jupyter.widget-view+json": {
       "model_id": "",
       "version_major": 2,
       "version_minor": 0
      },
      "text/plain": [
       "HBox(children=(FloatProgress(value=0.0, description='Validating', layout=Layout(flex='2'), max=541.0, style=Pr…"
      ]
     },
     "metadata": {},
     "output_type": "display_data"
    },
    {
     "data": {
      "application/vnd.jupyter.widget-view+json": {
       "model_id": "",
       "version_major": 2,
       "version_minor": 0
      },
      "text/plain": [
       "HBox(children=(FloatProgress(value=0.0, description='Validating', layout=Layout(flex='2'), max=541.0, style=Pr…"
      ]
     },
     "metadata": {},
     "output_type": "display_data"
    },
    {
     "data": {
      "application/vnd.jupyter.widget-view+json": {
       "model_id": "",
       "version_major": 2,
       "version_minor": 0
      },
      "text/plain": [
       "HBox(children=(FloatProgress(value=0.0, description='Validating', layout=Layout(flex='2'), max=541.0, style=Pr…"
      ]
     },
     "metadata": {},
     "output_type": "display_data"
    },
    {
     "data": {
      "application/vnd.jupyter.widget-view+json": {
       "model_id": "",
       "version_major": 2,
       "version_minor": 0
      },
      "text/plain": [
       "HBox(children=(FloatProgress(value=0.0, description='Validating', layout=Layout(flex='2'), max=541.0, style=Pr…"
      ]
     },
     "metadata": {},
     "output_type": "display_data"
    },
    {
     "data": {
      "application/vnd.jupyter.widget-view+json": {
       "model_id": "",
       "version_major": 2,
       "version_minor": 0
      },
      "text/plain": [
       "HBox(children=(FloatProgress(value=0.0, description='Validating', layout=Layout(flex='2'), max=541.0, style=Pr…"
      ]
     },
     "metadata": {},
     "output_type": "display_data"
    },
    {
     "data": {
      "application/vnd.jupyter.widget-view+json": {
       "model_id": "",
       "version_major": 2,
       "version_minor": 0
      },
      "text/plain": [
       "HBox(children=(FloatProgress(value=0.0, description='Validating', layout=Layout(flex='2'), max=541.0, style=Pr…"
      ]
     },
     "metadata": {},
     "output_type": "display_data"
    },
    {
     "data": {
      "application/vnd.jupyter.widget-view+json": {
       "model_id": "",
       "version_major": 2,
       "version_minor": 0
      },
      "text/plain": [
       "HBox(children=(FloatProgress(value=0.0, description='Validating', layout=Layout(flex='2'), max=541.0, style=Pr…"
      ]
     },
     "metadata": {},
     "output_type": "display_data"
    },
    {
     "data": {
      "application/vnd.jupyter.widget-view+json": {
       "model_id": "",
       "version_major": 2,
       "version_minor": 0
      },
      "text/plain": [
       "HBox(children=(FloatProgress(value=0.0, description='Validating', layout=Layout(flex='2'), max=541.0, style=Pr…"
      ]
     },
     "metadata": {},
     "output_type": "display_data"
    },
    {
     "data": {
      "application/vnd.jupyter.widget-view+json": {
       "model_id": "",
       "version_major": 2,
       "version_minor": 0
      },
      "text/plain": [
       "HBox(children=(FloatProgress(value=0.0, description='Validating', layout=Layout(flex='2'), max=541.0, style=Pr…"
      ]
     },
     "metadata": {},
     "output_type": "display_data"
    },
    {
     "data": {
      "application/vnd.jupyter.widget-view+json": {
       "model_id": "",
       "version_major": 2,
       "version_minor": 0
      },
      "text/plain": [
       "HBox(children=(FloatProgress(value=0.0, description='Validating', layout=Layout(flex='2'), max=541.0, style=Pr…"
      ]
     },
     "metadata": {},
     "output_type": "display_data"
    },
    {
     "data": {
      "application/vnd.jupyter.widget-view+json": {
       "model_id": "",
       "version_major": 2,
       "version_minor": 0
      },
      "text/plain": [
       "HBox(children=(FloatProgress(value=0.0, description='Validating', layout=Layout(flex='2'), max=541.0, style=Pr…"
      ]
     },
     "metadata": {},
     "output_type": "display_data"
    },
    {
     "data": {
      "application/vnd.jupyter.widget-view+json": {
       "model_id": "",
       "version_major": 2,
       "version_minor": 0
      },
      "text/plain": [
       "HBox(children=(FloatProgress(value=0.0, description='Validating', layout=Layout(flex='2'), max=541.0, style=Pr…"
      ]
     },
     "metadata": {},
     "output_type": "display_data"
    },
    {
     "data": {
      "application/vnd.jupyter.widget-view+json": {
       "model_id": "",
       "version_major": 2,
       "version_minor": 0
      },
      "text/plain": [
       "HBox(children=(FloatProgress(value=0.0, description='Validating', layout=Layout(flex='2'), max=541.0, style=Pr…"
      ]
     },
     "metadata": {},
     "output_type": "display_data"
    },
    {
     "data": {
      "application/vnd.jupyter.widget-view+json": {
       "model_id": "",
       "version_major": 2,
       "version_minor": 0
      },
      "text/plain": [
       "HBox(children=(FloatProgress(value=0.0, description='Validating', layout=Layout(flex='2'), max=541.0, style=Pr…"
      ]
     },
     "metadata": {},
     "output_type": "display_data"
    },
    {
     "data": {
      "application/vnd.jupyter.widget-view+json": {
       "model_id": "",
       "version_major": 2,
       "version_minor": 0
      },
      "text/plain": [
       "HBox(children=(FloatProgress(value=0.0, description='Validating', layout=Layout(flex='2'), max=541.0, style=Pr…"
      ]
     },
     "metadata": {},
     "output_type": "display_data"
    },
    {
     "data": {
      "application/vnd.jupyter.widget-view+json": {
       "model_id": "",
       "version_major": 2,
       "version_minor": 0
      },
      "text/plain": [
       "HBox(children=(FloatProgress(value=0.0, description='Validating', layout=Layout(flex='2'), max=541.0, style=Pr…"
      ]
     },
     "metadata": {},
     "output_type": "display_data"
    },
    {
     "data": {
      "application/vnd.jupyter.widget-view+json": {
       "model_id": "",
       "version_major": 2,
       "version_minor": 0
      },
      "text/plain": [
       "HBox(children=(FloatProgress(value=0.0, description='Validating', layout=Layout(flex='2'), max=541.0, style=Pr…"
      ]
     },
     "metadata": {},
     "output_type": "display_data"
    },
    {
     "data": {
      "application/vnd.jupyter.widget-view+json": {
       "model_id": "",
       "version_major": 2,
       "version_minor": 0
      },
      "text/plain": [
       "HBox(children=(FloatProgress(value=0.0, description='Validating', layout=Layout(flex='2'), max=541.0, style=Pr…"
      ]
     },
     "metadata": {},
     "output_type": "display_data"
    },
    {
     "data": {
      "application/vnd.jupyter.widget-view+json": {
       "model_id": "",
       "version_major": 2,
       "version_minor": 0
      },
      "text/plain": [
       "HBox(children=(FloatProgress(value=0.0, description='Validating', layout=Layout(flex='2'), max=541.0, style=Pr…"
      ]
     },
     "metadata": {},
     "output_type": "display_data"
    },
    {
     "data": {
      "application/vnd.jupyter.widget-view+json": {
       "model_id": "",
       "version_major": 2,
       "version_minor": 0
      },
      "text/plain": [
       "HBox(children=(FloatProgress(value=0.0, description='Validating', layout=Layout(flex='2'), max=541.0, style=Pr…"
      ]
     },
     "metadata": {},
     "output_type": "display_data"
    },
    {
     "data": {
      "application/vnd.jupyter.widget-view+json": {
       "model_id": "",
       "version_major": 2,
       "version_minor": 0
      },
      "text/plain": [
       "HBox(children=(FloatProgress(value=0.0, description='Validating', layout=Layout(flex='2'), max=541.0, style=Pr…"
      ]
     },
     "metadata": {},
     "output_type": "display_data"
    },
    {
     "data": {
      "application/vnd.jupyter.widget-view+json": {
       "model_id": "",
       "version_major": 2,
       "version_minor": 0
      },
      "text/plain": [
       "HBox(children=(FloatProgress(value=0.0, description='Validating', layout=Layout(flex='2'), max=541.0, style=Pr…"
      ]
     },
     "metadata": {},
     "output_type": "display_data"
    },
    {
     "data": {
      "application/vnd.jupyter.widget-view+json": {
       "model_id": "",
       "version_major": 2,
       "version_minor": 0
      },
      "text/plain": [
       "HBox(children=(FloatProgress(value=0.0, description='Validating', layout=Layout(flex='2'), max=541.0, style=Pr…"
      ]
     },
     "metadata": {},
     "output_type": "display_data"
    },
    {
     "data": {
      "application/vnd.jupyter.widget-view+json": {
       "model_id": "",
       "version_major": 2,
       "version_minor": 0
      },
      "text/plain": [
       "HBox(children=(FloatProgress(value=0.0, description='Validating', layout=Layout(flex='2'), max=541.0, style=Pr…"
      ]
     },
     "metadata": {},
     "output_type": "display_data"
    },
    {
     "data": {
      "application/vnd.jupyter.widget-view+json": {
       "model_id": "",
       "version_major": 2,
       "version_minor": 0
      },
      "text/plain": [
       "HBox(children=(FloatProgress(value=0.0, description='Validating', layout=Layout(flex='2'), max=541.0, style=Pr…"
      ]
     },
     "metadata": {},
     "output_type": "display_data"
    },
    {
     "data": {
      "application/vnd.jupyter.widget-view+json": {
       "model_id": "",
       "version_major": 2,
       "version_minor": 0
      },
      "text/plain": [
       "HBox(children=(FloatProgress(value=0.0, description='Validating', layout=Layout(flex='2'), max=541.0, style=Pr…"
      ]
     },
     "metadata": {},
     "output_type": "display_data"
    },
    {
     "data": {
      "application/vnd.jupyter.widget-view+json": {
       "model_id": "",
       "version_major": 2,
       "version_minor": 0
      },
      "text/plain": [
       "HBox(children=(FloatProgress(value=0.0, description='Validating', layout=Layout(flex='2'), max=541.0, style=Pr…"
      ]
     },
     "metadata": {},
     "output_type": "display_data"
    },
    {
     "data": {
      "application/vnd.jupyter.widget-view+json": {
       "model_id": "",
       "version_major": 2,
       "version_minor": 0
      },
      "text/plain": [
       "HBox(children=(FloatProgress(value=0.0, description='Validating', layout=Layout(flex='2'), max=541.0, style=Pr…"
      ]
     },
     "metadata": {},
     "output_type": "display_data"
    },
    {
     "data": {
      "application/vnd.jupyter.widget-view+json": {
       "model_id": "",
       "version_major": 2,
       "version_minor": 0
      },
      "text/plain": [
       "HBox(children=(FloatProgress(value=0.0, description='Validating', layout=Layout(flex='2'), max=541.0, style=Pr…"
      ]
     },
     "metadata": {},
     "output_type": "display_data"
    },
    {
     "data": {
      "application/vnd.jupyter.widget-view+json": {
       "model_id": "",
       "version_major": 2,
       "version_minor": 0
      },
      "text/plain": [
       "HBox(children=(FloatProgress(value=0.0, description='Validating', layout=Layout(flex='2'), max=541.0, style=Pr…"
      ]
     },
     "metadata": {},
     "output_type": "display_data"
    },
    {
     "data": {
      "application/vnd.jupyter.widget-view+json": {
       "model_id": "",
       "version_major": 2,
       "version_minor": 0
      },
      "text/plain": [
       "HBox(children=(FloatProgress(value=0.0, description='Validating', layout=Layout(flex='2'), max=541.0, style=Pr…"
      ]
     },
     "metadata": {},
     "output_type": "display_data"
    },
    {
     "data": {
      "application/vnd.jupyter.widget-view+json": {
       "model_id": "",
       "version_major": 2,
       "version_minor": 0
      },
      "text/plain": [
       "HBox(children=(FloatProgress(value=0.0, description='Validating', layout=Layout(flex='2'), max=541.0, style=Pr…"
      ]
     },
     "metadata": {},
     "output_type": "display_data"
    },
    {
     "data": {
      "application/vnd.jupyter.widget-view+json": {
       "model_id": "",
       "version_major": 2,
       "version_minor": 0
      },
      "text/plain": [
       "HBox(children=(FloatProgress(value=0.0, description='Validating', layout=Layout(flex='2'), max=541.0, style=Pr…"
      ]
     },
     "metadata": {},
     "output_type": "display_data"
    },
    {
     "data": {
      "application/vnd.jupyter.widget-view+json": {
       "model_id": "",
       "version_major": 2,
       "version_minor": 0
      },
      "text/plain": [
       "HBox(children=(FloatProgress(value=0.0, description='Validating', layout=Layout(flex='2'), max=541.0, style=Pr…"
      ]
     },
     "metadata": {},
     "output_type": "display_data"
    },
    {
     "data": {
      "application/vnd.jupyter.widget-view+json": {
       "model_id": "",
       "version_major": 2,
       "version_minor": 0
      },
      "text/plain": [
       "HBox(children=(FloatProgress(value=0.0, description='Validating', layout=Layout(flex='2'), max=541.0, style=Pr…"
      ]
     },
     "metadata": {},
     "output_type": "display_data"
    },
    {
     "data": {
      "application/vnd.jupyter.widget-view+json": {
       "model_id": "",
       "version_major": 2,
       "version_minor": 0
      },
      "text/plain": [
       "HBox(children=(FloatProgress(value=0.0, description='Validating', layout=Layout(flex='2'), max=541.0, style=Pr…"
      ]
     },
     "metadata": {},
     "output_type": "display_data"
    },
    {
     "data": {
      "application/vnd.jupyter.widget-view+json": {
       "model_id": "",
       "version_major": 2,
       "version_minor": 0
      },
      "text/plain": [
       "HBox(children=(FloatProgress(value=0.0, description='Validating', layout=Layout(flex='2'), max=541.0, style=Pr…"
      ]
     },
     "metadata": {},
     "output_type": "display_data"
    },
    {
     "data": {
      "application/vnd.jupyter.widget-view+json": {
       "model_id": "",
       "version_major": 2,
       "version_minor": 0
      },
      "text/plain": [
       "HBox(children=(FloatProgress(value=0.0, description='Validating', layout=Layout(flex='2'), max=541.0, style=Pr…"
      ]
     },
     "metadata": {},
     "output_type": "display_data"
    },
    {
     "data": {
      "application/vnd.jupyter.widget-view+json": {
       "model_id": "",
       "version_major": 2,
       "version_minor": 0
      },
      "text/plain": [
       "HBox(children=(FloatProgress(value=0.0, description='Validating', layout=Layout(flex='2'), max=541.0, style=Pr…"
      ]
     },
     "metadata": {},
     "output_type": "display_data"
    },
    {
     "data": {
      "application/vnd.jupyter.widget-view+json": {
       "model_id": "",
       "version_major": 2,
       "version_minor": 0
      },
      "text/plain": [
       "HBox(children=(FloatProgress(value=0.0, description='Validating', layout=Layout(flex='2'), max=541.0, style=Pr…"
      ]
     },
     "metadata": {},
     "output_type": "display_data"
    },
    {
     "data": {
      "application/vnd.jupyter.widget-view+json": {
       "model_id": "",
       "version_major": 2,
       "version_minor": 0
      },
      "text/plain": [
       "HBox(children=(FloatProgress(value=0.0, description='Validating', layout=Layout(flex='2'), max=541.0, style=Pr…"
      ]
     },
     "metadata": {},
     "output_type": "display_data"
    },
    {
     "data": {
      "application/vnd.jupyter.widget-view+json": {
       "model_id": "",
       "version_major": 2,
       "version_minor": 0
      },
      "text/plain": [
       "HBox(children=(FloatProgress(value=0.0, description='Validating', layout=Layout(flex='2'), max=541.0, style=Pr…"
      ]
     },
     "metadata": {},
     "output_type": "display_data"
    },
    {
     "data": {
      "application/vnd.jupyter.widget-view+json": {
       "model_id": "",
       "version_major": 2,
       "version_minor": 0
      },
      "text/plain": [
       "HBox(children=(FloatProgress(value=0.0, description='Validating', layout=Layout(flex='2'), max=541.0, style=Pr…"
      ]
     },
     "metadata": {},
     "output_type": "display_data"
    },
    {
     "data": {
      "application/vnd.jupyter.widget-view+json": {
       "model_id": "",
       "version_major": 2,
       "version_minor": 0
      },
      "text/plain": [
       "HBox(children=(FloatProgress(value=0.0, description='Validating', layout=Layout(flex='2'), max=541.0, style=Pr…"
      ]
     },
     "metadata": {},
     "output_type": "display_data"
    },
    {
     "data": {
      "application/vnd.jupyter.widget-view+json": {
       "model_id": "",
       "version_major": 2,
       "version_minor": 0
      },
      "text/plain": [
       "HBox(children=(FloatProgress(value=0.0, description='Validating', layout=Layout(flex='2'), max=541.0, style=Pr…"
      ]
     },
     "metadata": {},
     "output_type": "display_data"
    },
    {
     "data": {
      "application/vnd.jupyter.widget-view+json": {
       "model_id": "",
       "version_major": 2,
       "version_minor": 0
      },
      "text/plain": [
       "HBox(children=(FloatProgress(value=0.0, description='Validating', layout=Layout(flex='2'), max=541.0, style=Pr…"
      ]
     },
     "metadata": {},
     "output_type": "display_data"
    },
    {
     "data": {
      "application/vnd.jupyter.widget-view+json": {
       "model_id": "",
       "version_major": 2,
       "version_minor": 0
      },
      "text/plain": [
       "HBox(children=(FloatProgress(value=0.0, description='Validating', layout=Layout(flex='2'), max=541.0, style=Pr…"
      ]
     },
     "metadata": {},
     "output_type": "display_data"
    },
    {
     "data": {
      "application/vnd.jupyter.widget-view+json": {
       "model_id": "",
       "version_major": 2,
       "version_minor": 0
      },
      "text/plain": [
       "HBox(children=(FloatProgress(value=0.0, description='Validating', layout=Layout(flex='2'), max=541.0, style=Pr…"
      ]
     },
     "metadata": {},
     "output_type": "display_data"
    },
    {
     "data": {
      "application/vnd.jupyter.widget-view+json": {
       "model_id": "",
       "version_major": 2,
       "version_minor": 0
      },
      "text/plain": [
       "HBox(children=(FloatProgress(value=0.0, description='Validating', layout=Layout(flex='2'), max=541.0, style=Pr…"
      ]
     },
     "metadata": {},
     "output_type": "display_data"
    },
    {
     "data": {
      "application/vnd.jupyter.widget-view+json": {
       "model_id": "",
       "version_major": 2,
       "version_minor": 0
      },
      "text/plain": [
       "HBox(children=(FloatProgress(value=0.0, description='Validating', layout=Layout(flex='2'), max=541.0, style=Pr…"
      ]
     },
     "metadata": {},
     "output_type": "display_data"
    },
    {
     "data": {
      "application/vnd.jupyter.widget-view+json": {
       "model_id": "",
       "version_major": 2,
       "version_minor": 0
      },
      "text/plain": [
       "HBox(children=(FloatProgress(value=0.0, description='Validating', layout=Layout(flex='2'), max=541.0, style=Pr…"
      ]
     },
     "metadata": {},
     "output_type": "display_data"
    },
    {
     "data": {
      "application/vnd.jupyter.widget-view+json": {
       "model_id": "",
       "version_major": 2,
       "version_minor": 0
      },
      "text/plain": [
       "HBox(children=(FloatProgress(value=0.0, description='Validating', layout=Layout(flex='2'), max=541.0, style=Pr…"
      ]
     },
     "metadata": {},
     "output_type": "display_data"
    },
    {
     "data": {
      "application/vnd.jupyter.widget-view+json": {
       "model_id": "",
       "version_major": 2,
       "version_minor": 0
      },
      "text/plain": [
       "HBox(children=(FloatProgress(value=0.0, description='Validating', layout=Layout(flex='2'), max=541.0, style=Pr…"
      ]
     },
     "metadata": {},
     "output_type": "display_data"
    },
    {
     "data": {
      "application/vnd.jupyter.widget-view+json": {
       "model_id": "",
       "version_major": 2,
       "version_minor": 0
      },
      "text/plain": [
       "HBox(children=(FloatProgress(value=0.0, description='Validating', layout=Layout(flex='2'), max=541.0, style=Pr…"
      ]
     },
     "metadata": {},
     "output_type": "display_data"
    },
    {
     "data": {
      "application/vnd.jupyter.widget-view+json": {
       "model_id": "",
       "version_major": 2,
       "version_minor": 0
      },
      "text/plain": [
       "HBox(children=(FloatProgress(value=0.0, description='Validating', layout=Layout(flex='2'), max=541.0, style=Pr…"
      ]
     },
     "metadata": {},
     "output_type": "display_data"
    },
    {
     "data": {
      "application/vnd.jupyter.widget-view+json": {
       "model_id": "",
       "version_major": 2,
       "version_minor": 0
      },
      "text/plain": [
       "HBox(children=(FloatProgress(value=0.0, description='Validating', layout=Layout(flex='2'), max=541.0, style=Pr…"
      ]
     },
     "metadata": {},
     "output_type": "display_data"
    },
    {
     "data": {
      "application/vnd.jupyter.widget-view+json": {
       "model_id": "",
       "version_major": 2,
       "version_minor": 0
      },
      "text/plain": [
       "HBox(children=(FloatProgress(value=0.0, description='Validating', layout=Layout(flex='2'), max=541.0, style=Pr…"
      ]
     },
     "metadata": {},
     "output_type": "display_data"
    },
    {
     "data": {
      "application/vnd.jupyter.widget-view+json": {
       "model_id": "",
       "version_major": 2,
       "version_minor": 0
      },
      "text/plain": [
       "HBox(children=(FloatProgress(value=0.0, description='Validating', layout=Layout(flex='2'), max=541.0, style=Pr…"
      ]
     },
     "metadata": {},
     "output_type": "display_data"
    },
    {
     "data": {
      "application/vnd.jupyter.widget-view+json": {
       "model_id": "",
       "version_major": 2,
       "version_minor": 0
      },
      "text/plain": [
       "HBox(children=(FloatProgress(value=0.0, description='Validating', layout=Layout(flex='2'), max=541.0, style=Pr…"
      ]
     },
     "metadata": {},
     "output_type": "display_data"
    },
    {
     "data": {
      "application/vnd.jupyter.widget-view+json": {
       "model_id": "",
       "version_major": 2,
       "version_minor": 0
      },
      "text/plain": [
       "HBox(children=(FloatProgress(value=0.0, description='Validating', layout=Layout(flex='2'), max=541.0, style=Pr…"
      ]
     },
     "metadata": {},
     "output_type": "display_data"
    },
    {
     "data": {
      "application/vnd.jupyter.widget-view+json": {
       "model_id": "",
       "version_major": 2,
       "version_minor": 0
      },
      "text/plain": [
       "HBox(children=(FloatProgress(value=0.0, description='Validating', layout=Layout(flex='2'), max=541.0, style=Pr…"
      ]
     },
     "metadata": {},
     "output_type": "display_data"
    },
    {
     "data": {
      "application/vnd.jupyter.widget-view+json": {
       "model_id": "",
       "version_major": 2,
       "version_minor": 0
      },
      "text/plain": [
       "HBox(children=(FloatProgress(value=0.0, description='Validating', layout=Layout(flex='2'), max=541.0, style=Pr…"
      ]
     },
     "metadata": {},
     "output_type": "display_data"
    },
    {
     "data": {
      "application/vnd.jupyter.widget-view+json": {
       "model_id": "",
       "version_major": 2,
       "version_minor": 0
      },
      "text/plain": [
       "HBox(children=(FloatProgress(value=0.0, description='Validating', layout=Layout(flex='2'), max=541.0, style=Pr…"
      ]
     },
     "metadata": {},
     "output_type": "display_data"
    },
    {
     "data": {
      "application/vnd.jupyter.widget-view+json": {
       "model_id": "",
       "version_major": 2,
       "version_minor": 0
      },
      "text/plain": [
       "HBox(children=(FloatProgress(value=0.0, description='Validating', layout=Layout(flex='2'), max=541.0, style=Pr…"
      ]
     },
     "metadata": {},
     "output_type": "display_data"
    },
    {
     "data": {
      "application/vnd.jupyter.widget-view+json": {
       "model_id": "",
       "version_major": 2,
       "version_minor": 0
      },
      "text/plain": [
       "HBox(children=(FloatProgress(value=0.0, description='Validating', layout=Layout(flex='2'), max=541.0, style=Pr…"
      ]
     },
     "metadata": {},
     "output_type": "display_data"
    },
    {
     "data": {
      "application/vnd.jupyter.widget-view+json": {
       "model_id": "",
       "version_major": 2,
       "version_minor": 0
      },
      "text/plain": [
       "HBox(children=(FloatProgress(value=0.0, description='Validating', layout=Layout(flex='2'), max=541.0, style=Pr…"
      ]
     },
     "metadata": {},
     "output_type": "display_data"
    },
    {
     "data": {
      "application/vnd.jupyter.widget-view+json": {
       "model_id": "",
       "version_major": 2,
       "version_minor": 0
      },
      "text/plain": [
       "HBox(children=(FloatProgress(value=0.0, description='Validating', layout=Layout(flex='2'), max=541.0, style=Pr…"
      ]
     },
     "metadata": {},
     "output_type": "display_data"
    },
    {
     "data": {
      "application/vnd.jupyter.widget-view+json": {
       "model_id": "",
       "version_major": 2,
       "version_minor": 0
      },
      "text/plain": [
       "HBox(children=(FloatProgress(value=0.0, description='Validating', layout=Layout(flex='2'), max=541.0, style=Pr…"
      ]
     },
     "metadata": {},
     "output_type": "display_data"
    },
    {
     "data": {
      "application/vnd.jupyter.widget-view+json": {
       "model_id": "",
       "version_major": 2,
       "version_minor": 0
      },
      "text/plain": [
       "HBox(children=(FloatProgress(value=0.0, description='Validating', layout=Layout(flex='2'), max=541.0, style=Pr…"
      ]
     },
     "metadata": {},
     "output_type": "display_data"
    },
    {
     "data": {
      "application/vnd.jupyter.widget-view+json": {
       "model_id": "",
       "version_major": 2,
       "version_minor": 0
      },
      "text/plain": [
       "HBox(children=(FloatProgress(value=0.0, description='Validating', layout=Layout(flex='2'), max=541.0, style=Pr…"
      ]
     },
     "metadata": {},
     "output_type": "display_data"
    },
    {
     "data": {
      "application/vnd.jupyter.widget-view+json": {
       "model_id": "",
       "version_major": 2,
       "version_minor": 0
      },
      "text/plain": [
       "HBox(children=(FloatProgress(value=0.0, description='Validating', layout=Layout(flex='2'), max=541.0, style=Pr…"
      ]
     },
     "metadata": {},
     "output_type": "display_data"
    },
    {
     "data": {
      "application/vnd.jupyter.widget-view+json": {
       "model_id": "",
       "version_major": 2,
       "version_minor": 0
      },
      "text/plain": [
       "HBox(children=(FloatProgress(value=0.0, description='Validating', layout=Layout(flex='2'), max=541.0, style=Pr…"
      ]
     },
     "metadata": {},
     "output_type": "display_data"
    },
    {
     "name": "stdout",
     "output_type": "stream",
     "text": [
      "\n",
      "\u001b[1mProfiler Report\u001b[0m\n",
      "                   mean_duration  total_time\n",
      "on_train_start              0.00        0.00\n",
      "on_epoch_start              0.00        0.00\n",
      "get_train_batch             0.00      546.29\n",
      "on_batch_start              0.00        1.84\n",
      "model_forward               0.00      144.08\n",
      "model_backward              0.00      150.92\n",
      "on_after_backward           0.00        0.28\n",
      "optimizer_step              0.00       51.89\n",
      "on_batch_end                0.00        1.80\n",
      "on_epoch_end                0.00        0.00\n",
      "on_train_end                0.00        0.00\n",
      "\n",
      "Profiler output saved to: C:\\TensorLogs\\BasicMatrixFactorization\\profile.csv\n"
     ]
    },
    {
     "data": {
      "text/plain": [
       "1"
      ]
     },
     "execution_count": 7,
     "metadata": {},
     "output_type": "execute_result"
    }
   ],
   "source": [
    "hparams = Namespace(**{\n",
    "    'batch_size': 1024,\n",
    "    'learning_rate': 0.3,\n",
    "    'n_factors': 20,\n",
    "    'sparse': True,\n",
    "    'max_epochs': 100,\n",
    "    'total_users': 177592,\n",
    "    'total_items': 44780\n",
    "})\n",
    "\n",
    "profiler = CSVProfiler(output_path=PROFILE_PATH,verbose=True)\n",
    "logger = TensorBoardLogger(LOG_DIR, name=NAME)\n",
    "model = BasicMatrixFactorization(hparams)\n",
    "trainer = pl.Trainer(max_epochs=hparams.max_epochs,\n",
    "                     benchmark=True,\n",
    "                     profiler=profiler,\n",
    "                     logger=logger,\n",
    "                     gpus=1,\n",
    "                     fast_dev_run=False,\n",
    "                     callbacks=[TestingCallbacks()])                \n",
    "trainer.fit(model)"
   ]
  },
  {
   "cell_type": "code",
   "execution_count": 8,
   "metadata": {},
   "outputs": [
    {
     "data": {
      "application/vnd.jupyter.widget-view+json": {
       "model_id": "9eea764671b74b469bed8267e402e7c6",
       "version_major": 2,
       "version_minor": 0
      },
      "text/plain": [
       "HBox(children=(FloatProgress(value=0.0, description='Testing', layout=Layout(flex='2'), max=540.0, style=Progr…"
      ]
     },
     "metadata": {},
     "output_type": "display_data"
    },
    {
     "name": "stderr",
     "output_type": "stream",
     "text": [
      "DEBUG:root:Non-zero values in prediction matrix: 552,255\n"
     ]
    },
    {
     "name": "stdout",
     "output_type": "stream",
     "text": [
      "Test Mean Squared Error (MSE): 1.6555936336517334\n",
      "----------------------------------------------------------------------------------------------------\n",
      "TEST RESULTS\n",
      "{}\n",
      "----------------------------------------------------------------------------------------------------\n",
      "\n"
     ]
    }
   ],
   "source": [
    "trainer.test()"
   ]
  },
  {
   "cell_type": "code",
   "execution_count": 9,
   "metadata": {},
   "outputs": [],
   "source": [
    "# torch.save(model.state_dict(), SAVE_PATH)"
   ]
  },
  {
   "cell_type": "code",
   "execution_count": 10,
   "metadata": {},
   "outputs": [],
   "source": [
    "# loaded_model = BasicMatrixFactorization(hparams)\n",
    "# loaded_model.load_state_dict(torch.load(SAVE_PATH))\n",
    "# loaded_model.eval()\n",
    "# print(\"Model's state_dict:\")\n",
    "# for param_tensor in loaded_model.state_dict():\n",
    "#     print(param_tensor, \"\\t\", loaded_model.state_dict()[param_tensor].size())"
   ]
  },
  {
   "cell_type": "code",
   "execution_count": 11,
   "metadata": {},
   "outputs": [],
   "source": [
    "# loaded_model.state_dict()['user_factors.weight']"
   ]
  },
  {
   "cell_type": "code",
   "execution_count": 12,
   "metadata": {},
   "outputs": [],
   "source": [
    "# loaded_model.state_dict()['item_factors.weight']"
   ]
  },
  {
   "cell_type": "code",
   "execution_count": null,
   "metadata": {},
   "outputs": [],
   "source": []
  }
 ],
 "metadata": {
  "kernelspec": {
   "display_name": "Python 3",
   "language": "python",
   "name": "python3"
  },
  "language_info": {
   "codemirror_mode": {
    "name": "ipython",
    "version": 3
   },
   "file_extension": ".py",
   "mimetype": "text/x-python",
   "name": "python",
   "nbconvert_exporter": "python",
   "pygments_lexer": "ipython3",
   "version": "3.7.7"
  },
  "widgets": {
   "application/vnd.jupyter.widget-state+json": {
    "state": {
     "001165c3e8c944bbb868f0facb5ad432": {
      "model_module": "@jupyter-widgets/controls",
      "model_module_version": "1.5.0",
      "model_name": "FloatProgressModel",
      "state": {
       "description": "Validating: ",
       "layout": "IPY_MODEL_114cc594eb4c40358eacfe98efc7587c",
       "max": 541,
       "style": "IPY_MODEL_91bf0251246f41678c0fa2fbfd6d0c8e",
       "value": 541
      }
     },
     "002297773121417381db5aac63a7ddc4": {
      "model_module": "@jupyter-widgets/controls",
      "model_module_version": "1.5.0",
      "model_name": "FloatProgressModel",
      "state": {
       "description": "Validating: ",
       "layout": "IPY_MODEL_01fcdf9e07dd4868b93cd9949b2eb020",
       "max": 541,
       "style": "IPY_MODEL_76c7b74db2d346e4b24b642ccc807882",
       "value": 541
      }
     },
     "003db669108041159285a785cd91855c": {
      "model_module": "@jupyter-widgets/base",
      "model_module_version": "1.2.0",
      "model_name": "LayoutModel",
      "state": {}
     },
     "00400a14f4bc4745a3c7eec737cec721": {
      "model_module": "@jupyter-widgets/controls",
      "model_module_version": "1.5.0",
      "model_name": "HTMLModel",
      "state": {
       "layout": "IPY_MODEL_bb7532cfa30a4eea89fd6428e1d2d8b6",
       "style": "IPY_MODEL_2f1018378b1a4881ac9397b7d91b2bcd",
       "value": " 550/? [00:01&lt;00:00, 444.62it/s]"
      }
     },
     "00a39e49b84049a0b1785f6e69838aff": {
      "model_module": "@jupyter-widgets/controls",
      "model_module_version": "1.5.0",
      "model_name": "DescriptionStyleModel",
      "state": {
       "description_width": ""
      }
     },
     "00f8433323c641ff8fc290e09fc6d221": {
      "model_module": "@jupyter-widgets/base",
      "model_module_version": "1.2.0",
      "model_name": "LayoutModel",
      "state": {}
     },
     "015b925e7a29464eb4c2c3c6362a6ccf": {
      "model_module": "@jupyter-widgets/controls",
      "model_module_version": "1.5.0",
      "model_name": "FloatProgressModel",
      "state": {
       "description": "Validation sanity check: ",
       "layout": "IPY_MODEL_83147cedb90341e79821e52caa51564c",
       "max": 5,
       "style": "IPY_MODEL_5a80f497a0c943cba8b0cdbda8b136a1",
       "value": 5
      }
     },
     "015c70204fcd4f6380ad919ecab7225a": {
      "model_module": "@jupyter-widgets/controls",
      "model_module_version": "1.5.0",
      "model_name": "FloatProgressModel",
      "state": {
       "description": "Validating: ",
       "layout": "IPY_MODEL_3ccf5eae553e47d8b055386e1d82be54",
       "max": 541,
       "style": "IPY_MODEL_d9e1d7239e084ede9c4a193a802f7db4",
       "value": 541
      }
     },
     "01fcdf9e07dd4868b93cd9949b2eb020": {
      "model_module": "@jupyter-widgets/base",
      "model_module_version": "1.2.0",
      "model_name": "LayoutModel",
      "state": {
       "flex": "2"
      }
     },
     "0216080a9bfd4b06bebcbe09afaf5040": {
      "model_module": "@jupyter-widgets/base",
      "model_module_version": "1.2.0",
      "model_name": "LayoutModel",
      "state": {
       "display": "inline-flex",
       "flex_flow": "row wrap",
       "width": "100%"
      }
     },
     "02835f8f7a464794a3e67bf0d2db7092": {
      "model_module": "@jupyter-widgets/controls",
      "model_module_version": "1.5.0",
      "model_name": "FloatProgressModel",
      "state": {
       "description": "Validating: ",
       "layout": "IPY_MODEL_d2a1182ba77f44dbb810f2086e33d9e3",
       "max": 541,
       "style": "IPY_MODEL_427bd526a8554252b1e802be6132a826",
       "value": 541
      }
     },
     "029db0ff2ed540469fa855f591171688": {
      "model_module": "@jupyter-widgets/controls",
      "model_module_version": "1.5.0",
      "model_name": "ProgressStyleModel",
      "state": {
       "description_width": "initial"
      }
     },
     "02afded9ab2f49f086b8b4c43c22e180": {
      "model_module": "@jupyter-widgets/controls",
      "model_module_version": "1.5.0",
      "model_name": "FloatProgressModel",
      "state": {
       "description": "Validating: ",
       "layout": "IPY_MODEL_15db0789f7ca415d80632b79211fc22e",
       "max": 541,
       "style": "IPY_MODEL_371ae0ed474c418f94daa2f05d0eeae7",
       "value": 541
      }
     },
     "03ecd5cb230c4826a1a90d0b8c8b8981": {
      "model_module": "@jupyter-widgets/base",
      "model_module_version": "1.2.0",
      "model_name": "LayoutModel",
      "state": {
       "display": "inline-flex",
       "flex_flow": "row wrap",
       "width": "100%"
      }
     },
     "052fca04eb8d43458b6bc70cd456ec74": {
      "model_module": "@jupyter-widgets/controls",
      "model_module_version": "1.5.0",
      "model_name": "FloatProgressModel",
      "state": {
       "description": "Validating: ",
       "layout": "IPY_MODEL_7669dbdbda984684bc2208714c820ba6",
       "max": 541,
       "style": "IPY_MODEL_474a10f49ba543218fcc056648317ef0",
       "value": 541
      }
     },
     "05784ed060204d2bb8946665651ef220": {
      "model_module": "@jupyter-widgets/controls",
      "model_module_version": "1.5.0",
      "model_name": "DescriptionStyleModel",
      "state": {
       "description_width": ""
      }
     },
     "05bd7526a2a04786af48acc8841f56ee": {
      "model_module": "@jupyter-widgets/base",
      "model_module_version": "1.2.0",
      "model_name": "LayoutModel",
      "state": {
       "display": "inline-flex",
       "flex_flow": "row wrap",
       "width": "100%"
      }
     },
     "05bfef13e46f4226ad790ba7d65f30f6": {
      "model_module": "@jupyter-widgets/base",
      "model_module_version": "1.2.0",
      "model_name": "LayoutModel",
      "state": {}
     },
     "05c2618731104d0ba5da0f98c105e8be": {
      "model_module": "@jupyter-widgets/controls",
      "model_module_version": "1.5.0",
      "model_name": "ProgressStyleModel",
      "state": {
       "description_width": "initial"
      }
     },
     "0612d7f0d57f489fa71237f73d175210": {
      "model_module": "@jupyter-widgets/base",
      "model_module_version": "1.2.0",
      "model_name": "LayoutModel",
      "state": {}
     },
     "0631bc25b2064737ac83710c377a6206": {
      "model_module": "@jupyter-widgets/controls",
      "model_module_version": "1.5.0",
      "model_name": "FloatProgressModel",
      "state": {
       "description": "Validating: ",
       "layout": "IPY_MODEL_93651e3be1e54dd9a3a5bb453db8360a",
       "max": 541,
       "style": "IPY_MODEL_ee91e75ff61f481584a51d24a7863a2e",
       "value": 541
      }
     },
     "067387a9de3d4fb992f3648fb10fe265": {
      "model_module": "@jupyter-widgets/base",
      "model_module_version": "1.2.0",
      "model_name": "LayoutModel",
      "state": {
       "display": "inline-flex",
       "flex_flow": "row wrap",
       "width": "100%"
      }
     },
     "06a1c36a6c8a4f42988b10689386c752": {
      "model_module": "@jupyter-widgets/controls",
      "model_module_version": "1.5.0",
      "model_name": "ProgressStyleModel",
      "state": {
       "description_width": "initial"
      }
     },
     "07002f1f764f4ba895a28a4d6afbc49b": {
      "model_module": "@jupyter-widgets/controls",
      "model_module_version": "1.5.0",
      "model_name": "ProgressStyleModel",
      "state": {
       "description_width": "initial"
      }
     },
     "070a74d60af644f48a431753ff9ebde0": {
      "model_module": "@jupyter-widgets/controls",
      "model_module_version": "1.5.0",
      "model_name": "HTMLModel",
      "state": {
       "layout": "IPY_MODEL_1b7bba77ccaa4cb5b2ae6bf88c985a91",
       "style": "IPY_MODEL_f9363e8e3ca3436ea52ae67e9d9f790b",
       "value": " 550/? [00:01&lt;00:00, 419.95it/s]"
      }
     },
     "07856216ece74cd88248af89665fa55a": {
      "model_module": "@jupyter-widgets/controls",
      "model_module_version": "1.5.0",
      "model_name": "FloatProgressModel",
      "state": {
       "description": "Validating: ",
       "layout": "IPY_MODEL_6e90697f7ed749aabebeccc7ecfd86fb",
       "max": 541,
       "style": "IPY_MODEL_2e88af4741d248e6b5331dd0c03d5133",
       "value": 541
      }
     },
     "07889fba76f14d108afeaf6dac62b691": {
      "model_module": "@jupyter-widgets/controls",
      "model_module_version": "1.5.0",
      "model_name": "DescriptionStyleModel",
      "state": {
       "description_width": ""
      }
     },
     "089064cd9d684b5695cf050092e1dddd": {
      "model_module": "@jupyter-widgets/base",
      "model_module_version": "1.2.0",
      "model_name": "LayoutModel",
      "state": {
       "display": "inline-flex",
       "flex_flow": "row wrap",
       "width": "100%"
      }
     },
     "08ce4321fcf84b2789104c52ff257456": {
      "model_module": "@jupyter-widgets/base",
      "model_module_version": "1.2.0",
      "model_name": "LayoutModel",
      "state": {
       "display": "inline-flex",
       "flex_flow": "row wrap",
       "width": "100%"
      }
     },
     "08e972bbbd5d44678c13b522fee2ba35": {
      "model_module": "@jupyter-widgets/controls",
      "model_module_version": "1.5.0",
      "model_name": "HTMLModel",
      "state": {
       "layout": "IPY_MODEL_857096762d924d60a992b5a0cdaa01f1",
       "style": "IPY_MODEL_5d21326bb04b4ed4b13fe7fb98410d36",
       "value": " 550/? [00:01&lt;00:00, 461.53it/s]"
      }
     },
     "096bfc9c89c24d63adbc6213cabe9612": {
      "model_module": "@jupyter-widgets/base",
      "model_module_version": "1.2.0",
      "model_name": "LayoutModel",
      "state": {
       "display": "inline-flex",
       "flex_flow": "row wrap",
       "width": "100%"
      }
     },
     "099634c27e7b4ab3ab2230175b89f21f": {
      "model_module": "@jupyter-widgets/controls",
      "model_module_version": "1.5.0",
      "model_name": "DescriptionStyleModel",
      "state": {
       "description_width": ""
      }
     },
     "09a226e3fc4a4156805aa4e1ebd84593": {
      "model_module": "@jupyter-widgets/controls",
      "model_module_version": "1.5.0",
      "model_name": "ProgressStyleModel",
      "state": {
       "description_width": "initial"
      }
     },
     "09aa39e2770a42ebb0bd8a758c3c6c17": {
      "model_module": "@jupyter-widgets/controls",
      "model_module_version": "1.5.0",
      "model_name": "HTMLModel",
      "state": {
       "layout": "IPY_MODEL_f7377280a8a841959df17227cf764f7d",
       "style": "IPY_MODEL_af4e7ef695424eddb2403076b42d2108",
       "value": " 550/? [00:01&lt;00:00, 403.25it/s]"
      }
     },
     "0a9652aeb9464465bfffbae7c190d5f4": {
      "model_module": "@jupyter-widgets/base",
      "model_module_version": "1.2.0",
      "model_name": "LayoutModel",
      "state": {}
     },
     "0a9bbd76eef141bd8938d2f8fa6292b9": {
      "model_module": "@jupyter-widgets/controls",
      "model_module_version": "1.5.0",
      "model_name": "FloatProgressModel",
      "state": {
       "description": "Validating: ",
       "layout": "IPY_MODEL_a19e00860615440b8a968914d33d01e4",
       "max": 541,
       "style": "IPY_MODEL_d8e7cefe9f6645f38dbe7354eee68039",
       "value": 541
      }
     },
     "0ba911172e1e45ada2e97259f3a29220": {
      "model_module": "@jupyter-widgets/controls",
      "model_module_version": "1.5.0",
      "model_name": "FloatProgressModel",
      "state": {
       "description": "Validating: ",
       "layout": "IPY_MODEL_6b74367beec74ecc8b2d41f672d2e2b7",
       "max": 541,
       "style": "IPY_MODEL_ce5a245a955e4ab4bd359d0f2858aef4",
       "value": 541
      }
     },
     "0bfd6af8864d490fbc4a6f86483bc5b2": {
      "model_module": "@jupyter-widgets/controls",
      "model_module_version": "1.5.0",
      "model_name": "FloatProgressModel",
      "state": {
       "description": "Validating: ",
       "layout": "IPY_MODEL_dc7b9d1ff27946c4a00445e943f5735c",
       "max": 541,
       "style": "IPY_MODEL_fb93502efd15406d85e0bf95ff13ae91",
       "value": 541
      }
     },
     "0bfefb6d1f014669ab680211106b0a8d": {
      "model_module": "@jupyter-widgets/base",
      "model_module_version": "1.2.0",
      "model_name": "LayoutModel",
      "state": {
       "display": "inline-flex",
       "flex_flow": "row wrap",
       "width": "100%"
      }
     },
     "0c67952c66fd4c6b8bad0be8f67ede12": {
      "model_module": "@jupyter-widgets/controls",
      "model_module_version": "1.5.0",
      "model_name": "FloatProgressModel",
      "state": {
       "description": "Validating: ",
       "layout": "IPY_MODEL_78d69b667ebf425195a315bedc5c63a9",
       "max": 541,
       "style": "IPY_MODEL_27a5c79d823b4444b7c294a0ff84725e",
       "value": 541
      }
     },
     "0c86ea671d7c4abe858ec793ff599a95": {
      "model_module": "@jupyter-widgets/base",
      "model_module_version": "1.2.0",
      "model_name": "LayoutModel",
      "state": {
       "display": "inline-flex",
       "flex_flow": "row wrap",
       "width": "100%"
      }
     },
     "0cbc5c0d99794722bd2e579b5a10f30f": {
      "model_module": "@jupyter-widgets/controls",
      "model_module_version": "1.5.0",
      "model_name": "FloatProgressModel",
      "state": {
       "description": "Validating: ",
       "layout": "IPY_MODEL_d3c338291eab45198132e4905d4655ec",
       "max": 541,
       "style": "IPY_MODEL_5e5d9ad7585342059294b12876241729",
       "value": 541
      }
     },
     "0ce9f85dbbbd4e8fabf480a092ad8f6e": {
      "model_module": "@jupyter-widgets/base",
      "model_module_version": "1.2.0",
      "model_name": "LayoutModel",
      "state": {}
     },
     "0d8afa9d00494450a937a270453f357f": {
      "model_module": "@jupyter-widgets/controls",
      "model_module_version": "1.5.0",
      "model_name": "FloatProgressModel",
      "state": {
       "bar_style": "success",
       "description": "Testing: ",
       "layout": "IPY_MODEL_fcf2db551149419396ced6e54f05e14e",
       "max": 540,
       "style": "IPY_MODEL_5caad517722b4180a7954847ca61d6c8",
       "value": 540
      }
     },
     "0df6330de27a4a1792a89e2dbc8fa033": {
      "model_module": "@jupyter-widgets/controls",
      "model_module_version": "1.5.0",
      "model_name": "DescriptionStyleModel",
      "state": {
       "description_width": ""
      }
     },
     "0e1927f1b61f49e09f3ad563da53537e": {
      "model_module": "@jupyter-widgets/base",
      "model_module_version": "1.2.0",
      "model_name": "LayoutModel",
      "state": {}
     },
     "0ec7ee9c99104eff8fd3fda0c88d7055": {
      "model_module": "@jupyter-widgets/controls",
      "model_module_version": "1.5.0",
      "model_name": "DescriptionStyleModel",
      "state": {
       "description_width": ""
      }
     },
     "0ed82727e97f44b28b855b9c452455a7": {
      "model_module": "@jupyter-widgets/controls",
      "model_module_version": "1.5.0",
      "model_name": "FloatProgressModel",
      "state": {
       "description": "Validating: ",
       "layout": "IPY_MODEL_8a429ac5f52141adb6a7d3679d842a45",
       "max": 541,
       "style": "IPY_MODEL_6427f45ba2914d23bb0a15fbde744b0e",
       "value": 541
      }
     },
     "0f4062ded136471dbe8963bd868216fe": {
      "model_module": "@jupyter-widgets/base",
      "model_module_version": "1.2.0",
      "model_name": "LayoutModel",
      "state": {}
     },
     "0f990541557e420eb7d4fdf484f1b95d": {
      "model_module": "@jupyter-widgets/base",
      "model_module_version": "1.2.0",
      "model_name": "LayoutModel",
      "state": {}
     },
     "0fcabfce916441ca8bab5f31834cd986": {
      "model_module": "@jupyter-widgets/base",
      "model_module_version": "1.2.0",
      "model_name": "LayoutModel",
      "state": {}
     },
     "109a696ec86e4b6481a63752d2d82e55": {
      "model_module": "@jupyter-widgets/controls",
      "model_module_version": "1.5.0",
      "model_name": "HTMLModel",
      "state": {
       "layout": "IPY_MODEL_213cd232eb7a4ac8b6060d3a11a6c628",
       "style": "IPY_MODEL_384544e064814d32b1f05f40613f9a3b",
       "value": " 550/? [00:01&lt;00:00, 472.79it/s]"
      }
     },
     "10bd12c848c34c4eab220f39ebaf0a90": {
      "model_module": "@jupyter-widgets/controls",
      "model_module_version": "1.5.0",
      "model_name": "DescriptionStyleModel",
      "state": {
       "description_width": ""
      }
     },
     "10e016c2620142be865a899447ebb611": {
      "model_module": "@jupyter-widgets/controls",
      "model_module_version": "1.5.0",
      "model_name": "ProgressStyleModel",
      "state": {
       "description_width": "initial"
      }
     },
     "10e77a6e4b1e49b28a73e91e9390c207": {
      "model_module": "@jupyter-widgets/base",
      "model_module_version": "1.2.0",
      "model_name": "LayoutModel",
      "state": {}
     },
     "114cc594eb4c40358eacfe98efc7587c": {
      "model_module": "@jupyter-widgets/base",
      "model_module_version": "1.2.0",
      "model_name": "LayoutModel",
      "state": {
       "flex": "2"
      }
     },
     "12deb56e966546b886e081b33891a048": {
      "model_module": "@jupyter-widgets/controls",
      "model_module_version": "1.5.0",
      "model_name": "ProgressStyleModel",
      "state": {
       "description_width": "initial"
      }
     },
     "1398134ac1dc443ea6f9aee5ab2cea15": {
      "model_module": "@jupyter-widgets/base",
      "model_module_version": "1.2.0",
      "model_name": "LayoutModel",
      "state": {}
     },
     "14cd5a2703534712b6295fa04550d808": {
      "model_module": "@jupyter-widgets/controls",
      "model_module_version": "1.5.0",
      "model_name": "ProgressStyleModel",
      "state": {
       "description_width": "initial"
      }
     },
     "14f84ac5d48f4928bb0a280c0db0e578": {
      "model_module": "@jupyter-widgets/base",
      "model_module_version": "1.2.0",
      "model_name": "LayoutModel",
      "state": {
       "flex": "2"
      }
     },
     "14ff0014f5aa4c9b993160e78aa4db72": {
      "model_module": "@jupyter-widgets/base",
      "model_module_version": "1.2.0",
      "model_name": "LayoutModel",
      "state": {}
     },
     "1511967526514c448ddff5e4c7850018": {
      "model_module": "@jupyter-widgets/base",
      "model_module_version": "1.2.0",
      "model_name": "LayoutModel",
      "state": {
       "display": "inline-flex",
       "flex_flow": "row wrap",
       "width": "100%"
      }
     },
     "157380d3e5904a4dad9c07112cd4840f": {
      "model_module": "@jupyter-widgets/controls",
      "model_module_version": "1.5.0",
      "model_name": "DescriptionStyleModel",
      "state": {
       "description_width": ""
      }
     },
     "15db0789f7ca415d80632b79211fc22e": {
      "model_module": "@jupyter-widgets/base",
      "model_module_version": "1.2.0",
      "model_name": "LayoutModel",
      "state": {
       "flex": "2"
      }
     },
     "166b2eb3a46741c6922f5c2504c7e386": {
      "model_module": "@jupyter-widgets/controls",
      "model_module_version": "1.5.0",
      "model_name": "DescriptionStyleModel",
      "state": {
       "description_width": ""
      }
     },
     "1722d14264d4497d9749d2b7fad02aa9": {
      "model_module": "@jupyter-widgets/controls",
      "model_module_version": "1.5.0",
      "model_name": "FloatProgressModel",
      "state": {
       "description": "Validating: ",
       "layout": "IPY_MODEL_b2bb9201891840cbb3608f0874903775",
       "max": 541,
       "style": "IPY_MODEL_6196f761a2a74631a9f224408992f151",
       "value": 541
      }
     },
     "1724b82a2090445b8ec364afa00c58d4": {
      "model_module": "@jupyter-widgets/base",
      "model_module_version": "1.2.0",
      "model_name": "LayoutModel",
      "state": {}
     },
     "18230063d013483f982e25ab662df018": {
      "model_module": "@jupyter-widgets/controls",
      "model_module_version": "1.5.0",
      "model_name": "HTMLModel",
      "state": {
       "layout": "IPY_MODEL_29255fb988bd4098ab0062b052a0247e",
       "style": "IPY_MODEL_5236e465919c40d9ac9b677a3e333674",
       "value": " 550/? [00:01&lt;00:00, 430.44it/s]"
      }
     },
     "1831d16e4edb44a683cd21729cda95a2": {
      "model_module": "@jupyter-widgets/base",
      "model_module_version": "1.2.0",
      "model_name": "LayoutModel",
      "state": {
       "flex": "2"
      }
     },
     "19d484c5a5c045e697818f811645a5c3": {
      "model_module": "@jupyter-widgets/controls",
      "model_module_version": "1.5.0",
      "model_name": "FloatProgressModel",
      "state": {
       "description": "Validating: ",
       "layout": "IPY_MODEL_c547cb587a1b46c784992038c85ab79f",
       "max": 541,
       "style": "IPY_MODEL_27b2859d02e3495a96b75e3f8f90c301",
       "value": 541
      }
     },
     "19fd23e4a2bc4d9797f2e2b85962a62e": {
      "model_module": "@jupyter-widgets/controls",
      "model_module_version": "1.5.0",
      "model_name": "FloatProgressModel",
      "state": {
       "description": "Validating: ",
       "layout": "IPY_MODEL_d3ac3717893c428ca19576239b51ba60",
       "max": 541,
       "style": "IPY_MODEL_37c852d7fe6f4a99881be82df69f0f9c",
       "value": 541
      }
     },
     "1b036c83bbfa4e8aa82782bb3f91f9bd": {
      "model_module": "@jupyter-widgets/base",
      "model_module_version": "1.2.0",
      "model_name": "LayoutModel",
      "state": {
       "display": "inline-flex",
       "flex_flow": "row wrap",
       "width": "100%"
      }
     },
     "1b66d49b9c2b486da9274066cf8a67df": {
      "model_module": "@jupyter-widgets/controls",
      "model_module_version": "1.5.0",
      "model_name": "HTMLModel",
      "state": {
       "layout": "IPY_MODEL_8d0a7f271feb46cba8ce1b242a070055",
       "style": "IPY_MODEL_41f1feafa03146e9bd4ed7e21698b10f",
       "value": " 550/? [00:01&lt;00:00, 472.94it/s]"
      }
     },
     "1b7bba77ccaa4cb5b2ae6bf88c985a91": {
      "model_module": "@jupyter-widgets/base",
      "model_module_version": "1.2.0",
      "model_name": "LayoutModel",
      "state": {}
     },
     "1b7f7ecc220448d281b74e301ba6bf5b": {
      "model_module": "@jupyter-widgets/base",
      "model_module_version": "1.2.0",
      "model_name": "LayoutModel",
      "state": {
       "flex": "2"
      }
     },
     "1b9dee3e335e48d5ae92e60e2f9739f8": {
      "model_module": "@jupyter-widgets/controls",
      "model_module_version": "1.5.0",
      "model_name": "ProgressStyleModel",
      "state": {
       "description_width": "initial"
      }
     },
     "1be803673ded48a2935cff7473349a66": {
      "model_module": "@jupyter-widgets/base",
      "model_module_version": "1.2.0",
      "model_name": "LayoutModel",
      "state": {}
     },
     "1c0378473eb148c6b4751a116712f0de": {
      "model_module": "@jupyter-widgets/base",
      "model_module_version": "1.2.0",
      "model_name": "LayoutModel",
      "state": {
       "display": "inline-flex",
       "flex_flow": "row wrap",
       "width": "100%"
      }
     },
     "1c5155ea8ac34bf386adf7e5a5d78393": {
      "model_module": "@jupyter-widgets/controls",
      "model_module_version": "1.5.0",
      "model_name": "FloatProgressModel",
      "state": {
       "description": "Validating: ",
       "layout": "IPY_MODEL_381787cfbb6643a7b871bf6ebd9bd714",
       "max": 541,
       "style": "IPY_MODEL_80d09ba5d6384dc18f82134466013fe5",
       "value": 541
      }
     },
     "1c617a37957a434e91e43b156d038ad5": {
      "model_module": "@jupyter-widgets/controls",
      "model_module_version": "1.5.0",
      "model_name": "FloatProgressModel",
      "state": {
       "description": "Validating: ",
       "layout": "IPY_MODEL_14f84ac5d48f4928bb0a280c0db0e578",
       "max": 541,
       "style": "IPY_MODEL_e617356f81f342058b02be139d4a8ab8",
       "value": 541
      }
     },
     "1cb6fe6d9c0845349d1ac5e619b479f8": {
      "model_module": "@jupyter-widgets/controls",
      "model_module_version": "1.5.0",
      "model_name": "DescriptionStyleModel",
      "state": {
       "description_width": ""
      }
     },
     "1cc89abbbdce42bc87d35adfc63ef493": {
      "model_module": "@jupyter-widgets/base",
      "model_module_version": "1.2.0",
      "model_name": "LayoutModel",
      "state": {
       "flex": "2"
      }
     },
     "1d1d6fae957c44b486b1f06b74ffef80": {
      "model_module": "@jupyter-widgets/base",
      "model_module_version": "1.2.0",
      "model_name": "LayoutModel",
      "state": {
       "flex": "2"
      }
     },
     "1d1e2aaded8b4a67985a7588397b8b47": {
      "model_module": "@jupyter-widgets/controls",
      "model_module_version": "1.5.0",
      "model_name": "FloatProgressModel",
      "state": {
       "description": "Validating: ",
       "layout": "IPY_MODEL_cf3729ac550c4fc79f6029e30a373de4",
       "max": 541,
       "style": "IPY_MODEL_51f72668274942b782d37390b74f0a51",
       "value": 541
      }
     },
     "1d861e9860ff4e04a5872541f63f3b8a": {
      "model_module": "@jupyter-widgets/base",
      "model_module_version": "1.2.0",
      "model_name": "LayoutModel",
      "state": {
       "display": "inline-flex",
       "flex_flow": "row wrap",
       "width": "100%"
      }
     },
     "1dc3c4dc47fa41fdb2054ccaa3ef57d2": {
      "model_module": "@jupyter-widgets/controls",
      "model_module_version": "1.5.0",
      "model_name": "FloatProgressModel",
      "state": {
       "description": "Validating: ",
       "layout": "IPY_MODEL_1cc89abbbdce42bc87d35adfc63ef493",
       "max": 541,
       "style": "IPY_MODEL_14cd5a2703534712b6295fa04550d808",
       "value": 541
      }
     },
     "1dd40ad310704a5398774ada8fa2e519": {
      "model_module": "@jupyter-widgets/base",
      "model_module_version": "1.2.0",
      "model_name": "LayoutModel",
      "state": {}
     },
     "1e2d54416863408cbc8100ae8eaa0256": {
      "model_module": "@jupyter-widgets/controls",
      "model_module_version": "1.5.0",
      "model_name": "FloatProgressModel",
      "state": {
       "description": "Validating: ",
       "layout": "IPY_MODEL_863260cb22c241d3a21d9da0990e84eb",
       "max": 541,
       "style": "IPY_MODEL_5198de2ab2504381a5d90b05669d5c37",
       "value": 541
      }
     },
     "1e7eb7a0fcfd4ef0a368a9e17959b2aa": {
      "model_module": "@jupyter-widgets/base",
      "model_module_version": "1.2.0",
      "model_name": "LayoutModel",
      "state": {
       "flex": "2"
      }
     },
     "1e8aee248efe4c44a31f767bb10f3441": {
      "model_module": "@jupyter-widgets/controls",
      "model_module_version": "1.5.0",
      "model_name": "DescriptionStyleModel",
      "state": {
       "description_width": ""
      }
     },
     "1f851d514364499e9f6a12d534582a8d": {
      "model_module": "@jupyter-widgets/base",
      "model_module_version": "1.2.0",
      "model_name": "LayoutModel",
      "state": {}
     },
     "1ff78c08515740688bdb77a6bb024587": {
      "model_module": "@jupyter-widgets/base",
      "model_module_version": "1.2.0",
      "model_name": "LayoutModel",
      "state": {}
     },
     "2020e2d0b8b848a1a1b80351915eedb2": {
      "model_module": "@jupyter-widgets/base",
      "model_module_version": "1.2.0",
      "model_name": "LayoutModel",
      "state": {
       "flex": "2"
      }
     },
     "20798d668e844cdaa68d441243cbfd3b": {
      "model_module": "@jupyter-widgets/base",
      "model_module_version": "1.2.0",
      "model_name": "LayoutModel",
      "state": {
       "flex": "2"
      }
     },
     "213cd232eb7a4ac8b6060d3a11a6c628": {
      "model_module": "@jupyter-widgets/base",
      "model_module_version": "1.2.0",
      "model_name": "LayoutModel",
      "state": {}
     },
     "219aec9851304584b0228b1293024731": {
      "model_module": "@jupyter-widgets/base",
      "model_module_version": "1.2.0",
      "model_name": "LayoutModel",
      "state": {
       "display": "inline-flex",
       "flex_flow": "row wrap",
       "width": "100%"
      }
     },
     "21a44c85e91f4611a33f710963503b42": {
      "model_module": "@jupyter-widgets/base",
      "model_module_version": "1.2.0",
      "model_name": "LayoutModel",
      "state": {
       "display": "inline-flex",
       "flex_flow": "row wrap",
       "width": "100%"
      }
     },
     "21a7046fc7a940d28a2771ac2b8b2c19": {
      "model_module": "@jupyter-widgets/base",
      "model_module_version": "1.2.0",
      "model_name": "LayoutModel",
      "state": {}
     },
     "2205fc884aa04d23857a4eeeb1f1eb52": {
      "model_module": "@jupyter-widgets/controls",
      "model_module_version": "1.5.0",
      "model_name": "HTMLModel",
      "state": {
       "layout": "IPY_MODEL_404137349c3d4d82a5889fd26eaf3b67",
       "style": "IPY_MODEL_c6c1738f290e4dc08144415126318a2c",
       "value": " 550/? [00:01&lt;00:00, 335.79it/s]"
      }
     },
     "22a452fd4bfe48cdb752384ae8c61b54": {
      "model_module": "@jupyter-widgets/controls",
      "model_module_version": "1.5.0",
      "model_name": "FloatProgressModel",
      "state": {
       "description": "Validating: ",
       "layout": "IPY_MODEL_5f2d7eedf539435b8c02bea53e1fe648",
       "max": 541,
       "style": "IPY_MODEL_44e71220064f4d378c259914e758e48b",
       "value": 541
      }
     },
     "22ffd3f3d20d4bb0ae288d1ebb9e35f1": {
      "model_module": "@jupyter-widgets/base",
      "model_module_version": "1.2.0",
      "model_name": "LayoutModel",
      "state": {
       "display": "inline-flex",
       "flex_flow": "row wrap",
       "width": "100%"
      }
     },
     "235d2af4048c4c2d82807e51aba44fcb": {
      "model_module": "@jupyter-widgets/base",
      "model_module_version": "1.2.0",
      "model_name": "LayoutModel",
      "state": {
       "display": "inline-flex",
       "flex_flow": "row wrap",
       "width": "100%"
      }
     },
     "2389b7ceb8564d58aa728ca348197b87": {
      "model_module": "@jupyter-widgets/controls",
      "model_module_version": "1.5.0",
      "model_name": "FloatProgressModel",
      "state": {
       "description": "Validating: ",
       "layout": "IPY_MODEL_3982ade3723543cc8a1dab5f123c6145",
       "max": 541,
       "style": "IPY_MODEL_93e56e23df2b4b6d91733046a6026cfb",
       "value": 541
      }
     },
     "23a5bbd09db24ff6ae80ae2a951fef34": {
      "model_module": "@jupyter-widgets/controls",
      "model_module_version": "1.5.0",
      "model_name": "ProgressStyleModel",
      "state": {
       "description_width": "initial"
      }
     },
     "245dac69390e4d5e939ffb01c0186407": {
      "model_module": "@jupyter-widgets/base",
      "model_module_version": "1.2.0",
      "model_name": "LayoutModel",
      "state": {}
     },
     "250f02fd85c7401db3f15314a6b8fcda": {
      "model_module": "@jupyter-widgets/controls",
      "model_module_version": "1.5.0",
      "model_name": "FloatProgressModel",
      "state": {
       "description": "Validating: ",
       "layout": "IPY_MODEL_e942d926b8b74084818eca6eca0563f9",
       "max": 541,
       "style": "IPY_MODEL_8c277ca5f1c446e98f26759218353f0d",
       "value": 541
      }
     },
     "259851adf3b5489cbade1abbe096769c": {
      "model_module": "@jupyter-widgets/base",
      "model_module_version": "1.2.0",
      "model_name": "LayoutModel",
      "state": {
       "flex": "2"
      }
     },
     "25c038c8f045472e92fa0ea2476b28b8": {
      "model_module": "@jupyter-widgets/controls",
      "model_module_version": "1.5.0",
      "model_name": "FloatProgressModel",
      "state": {
       "description": "Validating: ",
       "layout": "IPY_MODEL_1b7f7ecc220448d281b74e301ba6bf5b",
       "max": 541,
       "style": "IPY_MODEL_49e972f951ef49989c50fb7e0a320b6c",
       "value": 541
      }
     },
     "25fcb29612b64a7dac7a6f330a34ff07": {
      "model_module": "@jupyter-widgets/base",
      "model_module_version": "1.2.0",
      "model_name": "LayoutModel",
      "state": {
       "flex": "2"
      }
     },
     "2638eeb161144fd29b1c6eeaa7aecf07": {
      "model_module": "@jupyter-widgets/controls",
      "model_module_version": "1.5.0",
      "model_name": "ProgressStyleModel",
      "state": {
       "description_width": "initial"
      }
     },
     "26e9d5bce64145b186246eaf1e374c68": {
      "model_module": "@jupyter-widgets/controls",
      "model_module_version": "1.5.0",
      "model_name": "ProgressStyleModel",
      "state": {
       "description_width": "initial"
      }
     },
     "27a5c79d823b4444b7c294a0ff84725e": {
      "model_module": "@jupyter-widgets/controls",
      "model_module_version": "1.5.0",
      "model_name": "ProgressStyleModel",
      "state": {
       "description_width": "initial"
      }
     },
     "27b2859d02e3495a96b75e3f8f90c301": {
      "model_module": "@jupyter-widgets/controls",
      "model_module_version": "1.5.0",
      "model_name": "ProgressStyleModel",
      "state": {
       "description_width": "initial"
      }
     },
     "27c9275a5ac64269a50c7e16c14587b2": {
      "model_module": "@jupyter-widgets/base",
      "model_module_version": "1.2.0",
      "model_name": "LayoutModel",
      "state": {}
     },
     "28d735bbd610483e82ab15cd788e6680": {
      "model_module": "@jupyter-widgets/controls",
      "model_module_version": "1.5.0",
      "model_name": "DescriptionStyleModel",
      "state": {
       "description_width": ""
      }
     },
     "29255fb988bd4098ab0062b052a0247e": {
      "model_module": "@jupyter-widgets/base",
      "model_module_version": "1.2.0",
      "model_name": "LayoutModel",
      "state": {}
     },
     "297eb5d9420644ea9f538ce0919b9cc3": {
      "model_module": "@jupyter-widgets/controls",
      "model_module_version": "1.5.0",
      "model_name": "ProgressStyleModel",
      "state": {
       "description_width": "initial"
      }
     },
     "2995d6cc5aa846208ed351f5367a6e81": {
      "model_module": "@jupyter-widgets/controls",
      "model_module_version": "1.5.0",
      "model_name": "HTMLModel",
      "state": {
       "layout": "IPY_MODEL_d59f6ee9dc204a9bac26eb0f8b97909c",
       "style": "IPY_MODEL_91dc9c6161e646a39e0d25814107cc81",
       "value": " 550/? [00:01&lt;00:00, 411.83it/s]"
      }
     },
     "2a3be341ae4e4eb58d0f114e7204e30f": {
      "model_module": "@jupyter-widgets/controls",
      "model_module_version": "1.5.0",
      "model_name": "DescriptionStyleModel",
      "state": {
       "description_width": ""
      }
     },
     "2a67b3625a064971a7217f0491c38467": {
      "model_module": "@jupyter-widgets/controls",
      "model_module_version": "1.5.0",
      "model_name": "HTMLModel",
      "state": {
       "layout": "IPY_MODEL_4b268aed62504d89bbdfb7c6230b8357",
       "style": "IPY_MODEL_8260973a8ef343bdb964919e54194a7b",
       "value": " 550/? [00:01&lt;00:00, 459.82it/s]"
      }
     },
     "2a9ed7bd919c43ea9b225b66b60c7d11": {
      "model_module": "@jupyter-widgets/controls",
      "model_module_version": "1.5.0",
      "model_name": "ProgressStyleModel",
      "state": {
       "description_width": "initial"
      }
     },
     "2aaae7a5bd734ff585acbe77dc12da6b": {
      "model_module": "@jupyter-widgets/base",
      "model_module_version": "1.2.0",
      "model_name": "LayoutModel",
      "state": {
       "display": "inline-flex",
       "flex_flow": "row wrap",
       "width": "100%"
      }
     },
     "2af826a842284ecf99ca18c759c9f940": {
      "model_module": "@jupyter-widgets/controls",
      "model_module_version": "1.5.0",
      "model_name": "FloatProgressModel",
      "state": {
       "description": "Validating: ",
       "layout": "IPY_MODEL_a7025360b0654848b3cdc7150bb62c87",
       "max": 541,
       "style": "IPY_MODEL_df2ed3e63e374ebcbc73c8116d254d96",
       "value": 541
      }
     },
     "2b78265bf6a3454895dad54d982e1a4c": {
      "model_module": "@jupyter-widgets/controls",
      "model_module_version": "1.5.0",
      "model_name": "DescriptionStyleModel",
      "state": {
       "description_width": ""
      }
     },
     "2bf9571abfaa42c5a43acdd7f6b166f6": {
      "model_module": "@jupyter-widgets/controls",
      "model_module_version": "1.5.0",
      "model_name": "DescriptionStyleModel",
      "state": {
       "description_width": ""
      }
     },
     "2cae67a3ba884bb5b4ed0cde263e8eed": {
      "model_module": "@jupyter-widgets/controls",
      "model_module_version": "1.5.0",
      "model_name": "HTMLModel",
      "state": {
       "layout": "IPY_MODEL_62d6ae9f8b7e4b5ca21852b1b2cf0238",
       "style": "IPY_MODEL_5b1f32764856478987733ebfa5877bdf",
       "value": " 550/? [00:01&lt;00:00, 426.09it/s]"
      }
     },
     "2ccf7bb480da4a7b9e34690b24a6fef6": {
      "model_module": "@jupyter-widgets/controls",
      "model_module_version": "1.5.0",
      "model_name": "DescriptionStyleModel",
      "state": {
       "description_width": ""
      }
     },
     "2d09ecdd940d4de8b74d78e11a3240a9": {
      "model_module": "@jupyter-widgets/controls",
      "model_module_version": "1.5.0",
      "model_name": "ProgressStyleModel",
      "state": {
       "description_width": "initial"
      }
     },
     "2d2bbfe565f74869819af79b39d04402": {
      "model_module": "@jupyter-widgets/controls",
      "model_module_version": "1.5.0",
      "model_name": "FloatProgressModel",
      "state": {
       "description": "Validating: ",
       "layout": "IPY_MODEL_e69577742bee4181a38bc8071021d210",
       "max": 541,
       "style": "IPY_MODEL_7848cab1841141cbb24294c4e7958391",
       "value": 541
      }
     },
     "2e1af9b4e26a47f5b84fbb472bf24fb5": {
      "model_module": "@jupyter-widgets/controls",
      "model_module_version": "1.5.0",
      "model_name": "HTMLModel",
      "state": {
       "layout": "IPY_MODEL_003db669108041159285a785cd91855c",
       "style": "IPY_MODEL_850ea25499a1467698028c08dd2fef0a",
       "value": " 550/? [00:01&lt;00:00, 448.88it/s]"
      }
     },
     "2e24b5b0f86f4899a79a7569cd8a8326": {
      "model_module": "@jupyter-widgets/controls",
      "model_module_version": "1.5.0",
      "model_name": "HTMLModel",
      "state": {
       "layout": "IPY_MODEL_b36ec0096a2144668ec6d5ffd2a50751",
       "style": "IPY_MODEL_e10a4588d6cd4cb694be733b13bac98c",
       "value": " 550/? [00:01&lt;00:00, 389.12it/s]"
      }
     },
     "2e3acfa85a13418ea5d92b85602f1003": {
      "model_module": "@jupyter-widgets/base",
      "model_module_version": "1.2.0",
      "model_name": "LayoutModel",
      "state": {
       "display": "inline-flex",
       "flex_flow": "row wrap",
       "width": "100%"
      }
     },
     "2e4c95d519ec423b8fc77b8489b90203": {
      "model_module": "@jupyter-widgets/base",
      "model_module_version": "1.2.0",
      "model_name": "LayoutModel",
      "state": {}
     },
     "2e513a8dce2f4b93a6494ca3d6795c83": {
      "model_module": "@jupyter-widgets/controls",
      "model_module_version": "1.5.0",
      "model_name": "ProgressStyleModel",
      "state": {
       "description_width": "initial"
      }
     },
     "2e7f74a7e2bc4d8981216e9244473e83": {
      "model_module": "@jupyter-widgets/controls",
      "model_module_version": "1.5.0",
      "model_name": "HTMLModel",
      "state": {
       "layout": "IPY_MODEL_8ffa9a34ab2440199818191843c2e14a",
       "style": "IPY_MODEL_2a3be341ae4e4eb58d0f114e7204e30f",
       "value": " 550/? [00:01&lt;00:00, 428.64it/s]"
      }
     },
     "2e88af4741d248e6b5331dd0c03d5133": {
      "model_module": "@jupyter-widgets/controls",
      "model_module_version": "1.5.0",
      "model_name": "ProgressStyleModel",
      "state": {
       "description_width": "initial"
      }
     },
     "2ee0891793cc4d1b967d89da53870a56": {
      "model_module": "@jupyter-widgets/controls",
      "model_module_version": "1.5.0",
      "model_name": "DescriptionStyleModel",
      "state": {
       "description_width": ""
      }
     },
     "2ef5769b0ca547c78d7b02d06cbd30bf": {
      "model_module": "@jupyter-widgets/controls",
      "model_module_version": "1.5.0",
      "model_name": "ProgressStyleModel",
      "state": {
       "description_width": "initial"
      }
     },
     "2f1018378b1a4881ac9397b7d91b2bcd": {
      "model_module": "@jupyter-widgets/controls",
      "model_module_version": "1.5.0",
      "model_name": "DescriptionStyleModel",
      "state": {
       "description_width": ""
      }
     },
     "2f8712d8b326475984a1c92f3ad01b37": {
      "model_module": "@jupyter-widgets/controls",
      "model_module_version": "1.5.0",
      "model_name": "FloatProgressModel",
      "state": {
       "description": "Validating: ",
       "layout": "IPY_MODEL_e8c17194f4f845fabfd314e3e209a7d4",
       "max": 541,
       "style": "IPY_MODEL_4c1367acf4344764bf6142140f2cf663",
       "value": 541
      }
     },
     "2fe7b93ffb714e45bf9d490154fc0831": {
      "model_module": "@jupyter-widgets/base",
      "model_module_version": "1.2.0",
      "model_name": "LayoutModel",
      "state": {
       "flex": "2"
      }
     },
     "3026ac66b95240bbb0494016a409971d": {
      "model_module": "@jupyter-widgets/controls",
      "model_module_version": "1.5.0",
      "model_name": "ProgressStyleModel",
      "state": {
       "description_width": "initial"
      }
     },
     "30597d1b4fd644009b58fb1e1533a55f": {
      "model_module": "@jupyter-widgets/base",
      "model_module_version": "1.2.0",
      "model_name": "LayoutModel",
      "state": {
       "display": "inline-flex",
       "flex_flow": "row wrap",
       "width": "100%"
      }
     },
     "30d22868040141fb86869b57ec398ca7": {
      "model_module": "@jupyter-widgets/controls",
      "model_module_version": "1.5.0",
      "model_name": "FloatProgressModel",
      "state": {
       "description": "Validating: ",
       "layout": "IPY_MODEL_406de484318a4bdaac7b0f0bea1d9e24",
       "max": 541,
       "style": "IPY_MODEL_3026ac66b95240bbb0494016a409971d",
       "value": 541
      }
     },
     "3131a531d0514b6888db72ea1cc8adac": {
      "model_module": "@jupyter-widgets/base",
      "model_module_version": "1.2.0",
      "model_name": "LayoutModel",
      "state": {
       "display": "inline-flex",
       "flex_flow": "row wrap",
       "width": "100%"
      }
     },
     "31f3cf446a494824b86c7d5ff0af8fd3": {
      "model_module": "@jupyter-widgets/controls",
      "model_module_version": "1.5.0",
      "model_name": "HTMLModel",
      "state": {
       "layout": "IPY_MODEL_3e88e663e89b4489b6a7f429e4098288",
       "style": "IPY_MODEL_e398bcdbc0044cfc880a5130b9faa63a",
       "value": " 550/? [00:01&lt;00:00, 435.91it/s]"
      }
     },
     "332a68c6a38442d598096ec10124a5e3": {
      "model_module": "@jupyter-widgets/controls",
      "model_module_version": "1.5.0",
      "model_name": "HTMLModel",
      "state": {
       "layout": "IPY_MODEL_71a8f7cc7c6743e0bf65aa3d2d86ff5b",
       "style": "IPY_MODEL_0df6330de27a4a1792a89e2dbc8fa033",
       "value": " 550/? [00:01&lt;00:00, 433.65it/s]"
      }
     },
     "33ab4648bbc54908ba128b392a8cd0a4": {
      "model_module": "@jupyter-widgets/base",
      "model_module_version": "1.2.0",
      "model_name": "LayoutModel",
      "state": {}
     },
     "33d6a8c9c14e44fd98ab99842e0512b7": {
      "model_module": "@jupyter-widgets/base",
      "model_module_version": "1.2.0",
      "model_name": "LayoutModel",
      "state": {
       "flex": "2"
      }
     },
     "33fe36c95fff4aa7a74cefc0f51dbb25": {
      "model_module": "@jupyter-widgets/controls",
      "model_module_version": "1.5.0",
      "model_name": "HTMLModel",
      "state": {
       "layout": "IPY_MODEL_14ff0014f5aa4c9b993160e78aa4db72",
       "style": "IPY_MODEL_3cc0ecba05024e64b1998081f5fea556",
       "value": " 550/? [00:01&lt;00:00, 405.69it/s]"
      }
     },
     "345ada3089bf402692a8d1f557a0d152": {
      "model_module": "@jupyter-widgets/base",
      "model_module_version": "1.2.0",
      "model_name": "LayoutModel",
      "state": {}
     },
     "3477957315c24cb59d252d269ea08329": {
      "model_module": "@jupyter-widgets/controls",
      "model_module_version": "1.5.0",
      "model_name": "FloatProgressModel",
      "state": {
       "description": "Validating: ",
       "layout": "IPY_MODEL_a60258ce0abc4550ab2e2dff458245c3",
       "max": 541,
       "style": "IPY_MODEL_2a9ed7bd919c43ea9b225b66b60c7d11",
       "value": 541
      }
     },
     "3496426ccef04de28bd622be8b679830": {
      "model_module": "@jupyter-widgets/controls",
      "model_module_version": "1.5.0",
      "model_name": "FloatProgressModel",
      "state": {
       "description": "Validating: ",
       "layout": "IPY_MODEL_5705084e97cb4ccb9421e61c547c623e",
       "max": 541,
       "style": "IPY_MODEL_b981c17017714e5fa4da7a1a3acfa90d",
       "value": 541
      }
     },
     "352bd3af9bdb45de9f0cab4a90d33fec": {
      "model_module": "@jupyter-widgets/controls",
      "model_module_version": "1.5.0",
      "model_name": "ProgressStyleModel",
      "state": {
       "description_width": "initial"
      }
     },
     "3543eb0c34714c22bc455e6c88dd5c35": {
      "model_module": "@jupyter-widgets/base",
      "model_module_version": "1.2.0",
      "model_name": "LayoutModel",
      "state": {
       "display": "inline-flex",
       "flex_flow": "row wrap",
       "width": "100%"
      }
     },
     "35ea95b5dd9a4a62bcf5fbc0a96f08e7": {
      "model_module": "@jupyter-widgets/base",
      "model_module_version": "1.2.0",
      "model_name": "LayoutModel",
      "state": {
       "display": "inline-flex",
       "flex_flow": "row wrap",
       "width": "100%"
      }
     },
     "3677fcc744a4447f9db6fbbc6261cd79": {
      "model_module": "@jupyter-widgets/base",
      "model_module_version": "1.2.0",
      "model_name": "LayoutModel",
      "state": {
       "flex": "2"
      }
     },
     "367e6277cc634c4690e86d7b335d79cf": {
      "model_module": "@jupyter-widgets/controls",
      "model_module_version": "1.5.0",
      "model_name": "HTMLModel",
      "state": {
       "layout": "IPY_MODEL_0612d7f0d57f489fa71237f73d175210",
       "style": "IPY_MODEL_2bf9571abfaa42c5a43acdd7f6b166f6",
       "value": " 550/? [00:01&lt;00:00, 349.02it/s]"
      }
     },
     "369729c2ef3a4923a7727e38f1c3d53b": {
      "model_module": "@jupyter-widgets/controls",
      "model_module_version": "1.5.0",
      "model_name": "ProgressStyleModel",
      "state": {
       "description_width": "initial"
      }
     },
     "371ae0ed474c418f94daa2f05d0eeae7": {
      "model_module": "@jupyter-widgets/controls",
      "model_module_version": "1.5.0",
      "model_name": "ProgressStyleModel",
      "state": {
       "description_width": "initial"
      }
     },
     "37c852d7fe6f4a99881be82df69f0f9c": {
      "model_module": "@jupyter-widgets/controls",
      "model_module_version": "1.5.0",
      "model_name": "ProgressStyleModel",
      "state": {
       "description_width": "initial"
      }
     },
     "381787cfbb6643a7b871bf6ebd9bd714": {
      "model_module": "@jupyter-widgets/base",
      "model_module_version": "1.2.0",
      "model_name": "LayoutModel",
      "state": {
       "flex": "2"
      }
     },
     "384544e064814d32b1f05f40613f9a3b": {
      "model_module": "@jupyter-widgets/controls",
      "model_module_version": "1.5.0",
      "model_name": "DescriptionStyleModel",
      "state": {
       "description_width": ""
      }
     },
     "3886902612cd422aabad73982732888d": {
      "model_module": "@jupyter-widgets/controls",
      "model_module_version": "1.5.0",
      "model_name": "HTMLModel",
      "state": {
       "layout": "IPY_MODEL_0fcabfce916441ca8bab5f31834cd986",
       "style": "IPY_MODEL_28d735bbd610483e82ab15cd788e6680",
       "value": " 550/? [00:01&lt;00:00, 439.12it/s]"
      }
     },
     "3982ade3723543cc8a1dab5f123c6145": {
      "model_module": "@jupyter-widgets/base",
      "model_module_version": "1.2.0",
      "model_name": "LayoutModel",
      "state": {
       "flex": "2"
      }
     },
     "398431040fe9497dbed6b2de2879883f": {
      "model_module": "@jupyter-widgets/controls",
      "model_module_version": "1.5.0",
      "model_name": "DescriptionStyleModel",
      "state": {
       "description_width": ""
      }
     },
     "39b3a6c5dfb847d895459a0fcaba7400": {
      "model_module": "@jupyter-widgets/base",
      "model_module_version": "1.2.0",
      "model_name": "LayoutModel",
      "state": {}
     },
     "39e3913370294d798929162a956f2cc7": {
      "model_module": "@jupyter-widgets/base",
      "model_module_version": "1.2.0",
      "model_name": "LayoutModel",
      "state": {}
     },
     "3a3e718492614ec295e14a388043ca7d": {
      "model_module": "@jupyter-widgets/controls",
      "model_module_version": "1.5.0",
      "model_name": "DescriptionStyleModel",
      "state": {
       "description_width": ""
      }
     },
     "3b42cf29844543938d6737cb247c1330": {
      "model_module": "@jupyter-widgets/controls",
      "model_module_version": "1.5.0",
      "model_name": "DescriptionStyleModel",
      "state": {
       "description_width": ""
      }
     },
     "3bb58ee186d744f28d2c037483749577": {
      "model_module": "@jupyter-widgets/base",
      "model_module_version": "1.2.0",
      "model_name": "LayoutModel",
      "state": {
       "flex": "2"
      }
     },
     "3c19c93bc50f4a7b8a450ec610d0f4db": {
      "model_module": "@jupyter-widgets/controls",
      "model_module_version": "1.5.0",
      "model_name": "ProgressStyleModel",
      "state": {
       "description_width": "initial"
      }
     },
     "3cc0ecba05024e64b1998081f5fea556": {
      "model_module": "@jupyter-widgets/controls",
      "model_module_version": "1.5.0",
      "model_name": "DescriptionStyleModel",
      "state": {
       "description_width": ""
      }
     },
     "3ccf5eae553e47d8b055386e1d82be54": {
      "model_module": "@jupyter-widgets/base",
      "model_module_version": "1.2.0",
      "model_name": "LayoutModel",
      "state": {
       "flex": "2"
      }
     },
     "3d0f32ba405e440195e092c36ed249d8": {
      "model_module": "@jupyter-widgets/controls",
      "model_module_version": "1.5.0",
      "model_name": "HTMLModel",
      "state": {
       "layout": "IPY_MODEL_8c07ba8e6c184b188856f6e11d071aa2",
       "style": "IPY_MODEL_8172aa99c48542f69e3ab9b9cc7e506b",
       "value": " 550/? [00:01&lt;00:00, 436.75it/s]"
      }
     },
     "3d18c14ae033435188fae7ed342a6357": {
      "model_module": "@jupyter-widgets/controls",
      "model_module_version": "1.5.0",
      "model_name": "ProgressStyleModel",
      "state": {
       "description_width": "initial"
      }
     },
     "3d3af9dd69234306af4f8df2f4627f1e": {
      "model_module": "@jupyter-widgets/base",
      "model_module_version": "1.2.0",
      "model_name": "LayoutModel",
      "state": {
       "flex": "2"
      }
     },
     "3d45744195184ea3ae1c2648127ed9d9": {
      "model_module": "@jupyter-widgets/controls",
      "model_module_version": "1.5.0",
      "model_name": "HTMLModel",
      "state": {
       "layout": "IPY_MODEL_bd0cc3fd076942b49cb7d65ff486e330",
       "style": "IPY_MODEL_e2235219301745f0b7df6191d68f30ad",
       "value": " 550/? [00:01&lt;00:00, 420.23it/s]"
      }
     },
     "3d6cf654bda7439e8fa63cf47654fa7f": {
      "model_module": "@jupyter-widgets/base",
      "model_module_version": "1.2.0",
      "model_name": "LayoutModel",
      "state": {
       "display": "inline-flex",
       "flex_flow": "row wrap",
       "width": "100%"
      }
     },
     "3d77d3aeb64f4866b29609b42230f990": {
      "model_module": "@jupyter-widgets/controls",
      "model_module_version": "1.5.0",
      "model_name": "DescriptionStyleModel",
      "state": {
       "description_width": ""
      }
     },
     "3d941dfd8dae4fac853d7780077cc2ff": {
      "model_module": "@jupyter-widgets/base",
      "model_module_version": "1.2.0",
      "model_name": "LayoutModel",
      "state": {}
     },
     "3dc820806c114da09857ece532c61021": {
      "model_module": "@jupyter-widgets/base",
      "model_module_version": "1.2.0",
      "model_name": "LayoutModel",
      "state": {}
     },
     "3dfb155153b34a8980fd5db4c3f5bc66": {
      "model_module": "@jupyter-widgets/controls",
      "model_module_version": "1.5.0",
      "model_name": "DescriptionStyleModel",
      "state": {
       "description_width": ""
      }
     },
     "3e40e72a244f471b954354d063ec6575": {
      "model_module": "@jupyter-widgets/base",
      "model_module_version": "1.2.0",
      "model_name": "LayoutModel",
      "state": {}
     },
     "3e88e663e89b4489b6a7f429e4098288": {
      "model_module": "@jupyter-widgets/base",
      "model_module_version": "1.2.0",
      "model_name": "LayoutModel",
      "state": {}
     },
     "3e8904ea63854966b19fa6bcf899edb9": {
      "model_module": "@jupyter-widgets/base",
      "model_module_version": "1.2.0",
      "model_name": "LayoutModel",
      "state": {
       "flex": "2"
      }
     },
     "3f89208d0b2e45ec9ee97ada5e4db0b4": {
      "model_module": "@jupyter-widgets/base",
      "model_module_version": "1.2.0",
      "model_name": "LayoutModel",
      "state": {
       "flex": "2"
      }
     },
     "3fe522574b7841628fc6006dbd0e8736": {
      "model_module": "@jupyter-widgets/controls",
      "model_module_version": "1.5.0",
      "model_name": "HTMLModel",
      "state": {
       "layout": "IPY_MODEL_0ce9f85dbbbd4e8fabf480a092ad8f6e",
       "style": "IPY_MODEL_9e1372ae2e6e4b36a1c6ab5f938162d4",
       "value": " 550/? [00:01&lt;00:00, 435.95it/s]"
      }
     },
     "4021e87f6ee848bca04a431acf2777fb": {
      "model_module": "@jupyter-widgets/base",
      "model_module_version": "1.2.0",
      "model_name": "LayoutModel",
      "state": {
       "display": "inline-flex",
       "flex_flow": "row wrap",
       "width": "100%"
      }
     },
     "404137349c3d4d82a5889fd26eaf3b67": {
      "model_module": "@jupyter-widgets/base",
      "model_module_version": "1.2.0",
      "model_name": "LayoutModel",
      "state": {}
     },
     "406de484318a4bdaac7b0f0bea1d9e24": {
      "model_module": "@jupyter-widgets/base",
      "model_module_version": "1.2.0",
      "model_name": "LayoutModel",
      "state": {
       "flex": "2"
      }
     },
     "406fc8bee23e4edfaa68c332e098a28d": {
      "model_module": "@jupyter-widgets/controls",
      "model_module_version": "1.5.0",
      "model_name": "DescriptionStyleModel",
      "state": {
       "description_width": ""
      }
     },
     "409ccc7ab4f54e24a4e88b0a49499c03": {
      "model_module": "@jupyter-widgets/controls",
      "model_module_version": "1.5.0",
      "model_name": "DescriptionStyleModel",
      "state": {
       "description_width": ""
      }
     },
     "40d16ae497644a648e6a58cbe4bbd507": {
      "model_module": "@jupyter-widgets/base",
      "model_module_version": "1.2.0",
      "model_name": "LayoutModel",
      "state": {
       "display": "inline-flex",
       "flex_flow": "row wrap",
       "width": "100%"
      }
     },
     "40dbdc42b2b545e2b927d2f46d3664d6": {
      "model_module": "@jupyter-widgets/controls",
      "model_module_version": "1.5.0",
      "model_name": "FloatProgressModel",
      "state": {
       "description": "Validating: ",
       "layout": "IPY_MODEL_d958771b019c4e11a01ced44450871a8",
       "max": 541,
       "style": "IPY_MODEL_61daa70a8e964cae93a840ae88dbca31",
       "value": 541
      }
     },
     "41f1feafa03146e9bd4ed7e21698b10f": {
      "model_module": "@jupyter-widgets/controls",
      "model_module_version": "1.5.0",
      "model_name": "DescriptionStyleModel",
      "state": {
       "description_width": ""
      }
     },
     "4238c00548b3414a92109c6d1159fb38": {
      "model_module": "@jupyter-widgets/base",
      "model_module_version": "1.2.0",
      "model_name": "LayoutModel",
      "state": {}
     },
     "427bd526a8554252b1e802be6132a826": {
      "model_module": "@jupyter-widgets/controls",
      "model_module_version": "1.5.0",
      "model_name": "ProgressStyleModel",
      "state": {
       "description_width": "initial"
      }
     },
     "42a6aeabf0a549a491860c26aad8e121": {
      "model_module": "@jupyter-widgets/controls",
      "model_module_version": "1.5.0",
      "model_name": "HTMLModel",
      "state": {
       "layout": "IPY_MODEL_8812f08a002c4a2592afd33f1d162108",
       "style": "IPY_MODEL_acda974777a1415d99b75f8b78d55684",
       "value": " 550/? [00:01&lt;00:00, 418.22it/s]"
      }
     },
     "4445ff52e9354338ae7d12b02ae237f8": {
      "model_module": "@jupyter-widgets/base",
      "model_module_version": "1.2.0",
      "model_name": "LayoutModel",
      "state": {
       "display": "inline-flex",
       "flex_flow": "row wrap",
       "width": "100%"
      }
     },
     "44a01d4ef7e442e7a1f792794d800293": {
      "model_module": "@jupyter-widgets/controls",
      "model_module_version": "1.5.0",
      "model_name": "HTMLModel",
      "state": {
       "layout": "IPY_MODEL_39e3913370294d798929162a956f2cc7",
       "style": "IPY_MODEL_c6d687e7b650475c8dd0442a85ebbfd3",
       "value": " 550/? [00:01&lt;00:00, 407.64it/s]"
      }
     },
     "44c2f7e59fa54761bba44d1a60f66a79": {
      "model_module": "@jupyter-widgets/controls",
      "model_module_version": "1.5.0",
      "model_name": "DescriptionStyleModel",
      "state": {
       "description_width": ""
      }
     },
     "44c74e495b0b4a3bb58da5068739ac02": {
      "model_module": "@jupyter-widgets/base",
      "model_module_version": "1.2.0",
      "model_name": "LayoutModel",
      "state": {}
     },
     "44e71220064f4d378c259914e758e48b": {
      "model_module": "@jupyter-widgets/controls",
      "model_module_version": "1.5.0",
      "model_name": "ProgressStyleModel",
      "state": {
       "description_width": "initial"
      }
     },
     "451b8d65e8e5410f802912bbbb264a0c": {
      "model_module": "@jupyter-widgets/base",
      "model_module_version": "1.2.0",
      "model_name": "LayoutModel",
      "state": {
       "display": "inline-flex",
       "flex_flow": "row wrap",
       "width": "100%"
      }
     },
     "454deb1ff17d48dab3c27dbc51cd55ae": {
      "model_module": "@jupyter-widgets/controls",
      "model_module_version": "1.5.0",
      "model_name": "FloatProgressModel",
      "state": {
       "description": "Validating: ",
       "layout": "IPY_MODEL_1d1d6fae957c44b486b1f06b74ffef80",
       "max": 541,
       "style": "IPY_MODEL_9c5c2e17b7cd4f73960575b4ab84c477",
       "value": 541
      }
     },
     "45776ad080994c77935621763ee04c9c": {
      "model_module": "@jupyter-widgets/controls",
      "model_module_version": "1.5.0",
      "model_name": "DescriptionStyleModel",
      "state": {
       "description_width": ""
      }
     },
     "45a7dd595cef4b5d9823764574d3d0e0": {
      "model_module": "@jupyter-widgets/controls",
      "model_module_version": "1.5.0",
      "model_name": "HTMLModel",
      "state": {
       "layout": "IPY_MODEL_0e1927f1b61f49e09f3ad563da53537e",
       "style": "IPY_MODEL_d01499cc1f97417c8ce81c5b1c30813a",
       "value": " 550/? [00:01&lt;00:00, 463.23it/s]"
      }
     },
     "474a10f49ba543218fcc056648317ef0": {
      "model_module": "@jupyter-widgets/controls",
      "model_module_version": "1.5.0",
      "model_name": "ProgressStyleModel",
      "state": {
       "description_width": "initial"
      }
     },
     "4795f7b0137f457f8c4c8bd3041a7d27": {
      "model_module": "@jupyter-widgets/controls",
      "model_module_version": "1.5.0",
      "model_name": "HTMLModel",
      "state": {
       "layout": "IPY_MODEL_a38cc727cd06474d86b3ba766981071d",
       "style": "IPY_MODEL_e0aab7ae86b34c5183cffaa39b8d143f",
       "value": " 550/? [00:01&lt;00:00, 381.94it/s]"
      }
     },
     "47e6282c88e34994a441e92966924270": {
      "model_module": "@jupyter-widgets/base",
      "model_module_version": "1.2.0",
      "model_name": "LayoutModel",
      "state": {
       "display": "inline-flex",
       "flex_flow": "row wrap",
       "width": "100%"
      }
     },
     "48672814875a44cbadad1658b17cc0e6": {
      "model_module": "@jupyter-widgets/base",
      "model_module_version": "1.2.0",
      "model_name": "LayoutModel",
      "state": {
       "flex": "2"
      }
     },
     "48acfaf3132a44ff904e4f96a1465af8": {
      "model_module": "@jupyter-widgets/base",
      "model_module_version": "1.2.0",
      "model_name": "LayoutModel",
      "state": {}
     },
     "4915dd5e1ec247b898d349865e020aa5": {
      "model_module": "@jupyter-widgets/controls",
      "model_module_version": "1.5.0",
      "model_name": "HTMLModel",
      "state": {
       "layout": "IPY_MODEL_1dd40ad310704a5398774ada8fa2e519",
       "style": "IPY_MODEL_f57aba5864c74370b43db49e6f6c2876",
       "value": " 550/? [00:01&lt;00:00, 368.04it/s]"
      }
     },
     "4968c2a62f1745d8b1d96d194f586d96": {
      "model_module": "@jupyter-widgets/controls",
      "model_module_version": "1.5.0",
      "model_name": "FloatProgressModel",
      "state": {
       "description": "Validating: ",
       "layout": "IPY_MODEL_bebfeb62efc0455b9de26f406d9ee143",
       "max": 541,
       "style": "IPY_MODEL_591b6028e396449f86e090b7b03b2f2d",
       "value": 541
      }
     },
     "49bed05cfceb407087ff22a32fd97f52": {
      "model_module": "@jupyter-widgets/controls",
      "model_module_version": "1.5.0",
      "model_name": "ProgressStyleModel",
      "state": {
       "description_width": "initial"
      }
     },
     "49e972f951ef49989c50fb7e0a320b6c": {
      "model_module": "@jupyter-widgets/controls",
      "model_module_version": "1.5.0",
      "model_name": "ProgressStyleModel",
      "state": {
       "description_width": "initial"
      }
     },
     "4a1ae882e22349d0a55913ec084987a9": {
      "model_module": "@jupyter-widgets/controls",
      "model_module_version": "1.5.0",
      "model_name": "HTMLModel",
      "state": {
       "layout": "IPY_MODEL_61e4d91f21934c6ea9862166d5b79fe5",
       "style": "IPY_MODEL_90fdbea0eb8f46b7be1e5c57b08ee814",
       "value": " 550/? [00:01&lt;00:00, 418.66it/s]"
      }
     },
     "4a9f7eb470934b9c8e0951ab4802f491": {
      "model_module": "@jupyter-widgets/base",
      "model_module_version": "1.2.0",
      "model_name": "LayoutModel",
      "state": {}
     },
     "4af5773061614a1b85b2b3da3d91f235": {
      "model_module": "@jupyter-widgets/controls",
      "model_module_version": "1.5.0",
      "model_name": "FloatProgressModel",
      "state": {
       "description": "Validating: ",
       "layout": "IPY_MODEL_5cac61cc5528461ea7b4d76cd358dedb",
       "max": 541,
       "style": "IPY_MODEL_548dd62cb274489584fab3dfd472b6c9",
       "value": 541
      }
     },
     "4b268aed62504d89bbdfb7c6230b8357": {
      "model_module": "@jupyter-widgets/base",
      "model_module_version": "1.2.0",
      "model_name": "LayoutModel",
      "state": {}
     },
     "4c1184043c2348c39268fc28c5df5c7b": {
      "model_module": "@jupyter-widgets/controls",
      "model_module_version": "1.5.0",
      "model_name": "DescriptionStyleModel",
      "state": {
       "description_width": ""
      }
     },
     "4c1367acf4344764bf6142140f2cf663": {
      "model_module": "@jupyter-widgets/controls",
      "model_module_version": "1.5.0",
      "model_name": "ProgressStyleModel",
      "state": {
       "description_width": "initial"
      }
     },
     "4c58ef45d5154d918d23399d9c156f49": {
      "model_module": "@jupyter-widgets/base",
      "model_module_version": "1.2.0",
      "model_name": "LayoutModel",
      "state": {
       "flex": "2"
      }
     },
     "4d0b8250a41e482495d46c5b83658196": {
      "model_module": "@jupyter-widgets/base",
      "model_module_version": "1.2.0",
      "model_name": "LayoutModel",
      "state": {
       "flex": "2"
      }
     },
     "4d927ef8e77246cea63d41d1eea38b31": {
      "model_module": "@jupyter-widgets/base",
      "model_module_version": "1.2.0",
      "model_name": "LayoutModel",
      "state": {
       "display": "inline-flex",
       "flex_flow": "row wrap",
       "width": "100%"
      }
     },
     "4dc4f14230ce46f3a82faa01a797ff40": {
      "model_module": "@jupyter-widgets/controls",
      "model_module_version": "1.5.0",
      "model_name": "HTMLModel",
      "state": {
       "layout": "IPY_MODEL_f99e3c23f0f949388a8ad72238c1223f",
       "style": "IPY_MODEL_d9f19dc0e6114115857ba31cc568665a",
       "value": " 550/? [00:01&lt;00:00, 424.16it/s]"
      }
     },
     "4e3661337fc24f939e19032a65e19378": {
      "model_module": "@jupyter-widgets/controls",
      "model_module_version": "1.5.0",
      "model_name": "ProgressStyleModel",
      "state": {
       "description_width": "initial"
      }
     },
     "4e941505ee8949df9d8735c6dac707e8": {
      "model_module": "@jupyter-widgets/controls",
      "model_module_version": "1.5.0",
      "model_name": "ProgressStyleModel",
      "state": {
       "description_width": "initial"
      }
     },
     "4eab0c51be4f4b83800664137838c10d": {
      "model_module": "@jupyter-widgets/base",
      "model_module_version": "1.2.0",
      "model_name": "LayoutModel",
      "state": {
       "display": "inline-flex",
       "flex_flow": "row wrap",
       "width": "100%"
      }
     },
     "4f8e6913e4ed4d438b64a56efe381631": {
      "model_module": "@jupyter-widgets/base",
      "model_module_version": "1.2.0",
      "model_name": "LayoutModel",
      "state": {}
     },
     "5198de2ab2504381a5d90b05669d5c37": {
      "model_module": "@jupyter-widgets/controls",
      "model_module_version": "1.5.0",
      "model_name": "ProgressStyleModel",
      "state": {
       "description_width": "initial"
      }
     },
     "51ea81d2a6654cd8b88ff6d2faaca43a": {
      "model_module": "@jupyter-widgets/base",
      "model_module_version": "1.2.0",
      "model_name": "LayoutModel",
      "state": {
       "display": "inline-flex",
       "flex_flow": "row wrap",
       "width": "100%"
      }
     },
     "51f637e5263641d9ace88e9040a5a222": {
      "model_module": "@jupyter-widgets/controls",
      "model_module_version": "1.5.0",
      "model_name": "HTMLModel",
      "state": {
       "layout": "IPY_MODEL_6eb86ec7d9844bcc93e7677f218ceaa3",
       "style": "IPY_MODEL_87b5c195f2ff48a6b499c85967d84aec",
       "value": " 550/? [00:01&lt;00:00, 435.01it/s]"
      }
     },
     "51f72668274942b782d37390b74f0a51": {
      "model_module": "@jupyter-widgets/controls",
      "model_module_version": "1.5.0",
      "model_name": "ProgressStyleModel",
      "state": {
       "description_width": "initial"
      }
     },
     "5236e465919c40d9ac9b677a3e333674": {
      "model_module": "@jupyter-widgets/controls",
      "model_module_version": "1.5.0",
      "model_name": "DescriptionStyleModel",
      "state": {
       "description_width": ""
      }
     },
     "524265c89f6f4c0e8ae98a3c62f7c83c": {
      "model_module": "@jupyter-widgets/controls",
      "model_module_version": "1.5.0",
      "model_name": "ProgressStyleModel",
      "state": {
       "description_width": "initial"
      }
     },
     "5249d53478c04657bb442ee8e8627d99": {
      "model_module": "@jupyter-widgets/controls",
      "model_module_version": "1.5.0",
      "model_name": "DescriptionStyleModel",
      "state": {
       "description_width": ""
      }
     },
     "5259889612954218876745c12ecd9850": {
      "model_module": "@jupyter-widgets/base",
      "model_module_version": "1.2.0",
      "model_name": "LayoutModel",
      "state": {
       "flex": "2"
      }
     },
     "529cf67483e5426f826ec49e1cc30503": {
      "model_module": "@jupyter-widgets/base",
      "model_module_version": "1.2.0",
      "model_name": "LayoutModel",
      "state": {
       "display": "inline-flex",
       "flex_flow": "row wrap",
       "width": "100%"
      }
     },
     "52a6a25e4f9d4f948104a9a282fe6588": {
      "model_module": "@jupyter-widgets/controls",
      "model_module_version": "1.5.0",
      "model_name": "HTMLModel",
      "state": {
       "layout": "IPY_MODEL_44c74e495b0b4a3bb58da5068739ac02",
       "style": "IPY_MODEL_099634c27e7b4ab3ab2230175b89f21f",
       "value": " 550/? [00:01&lt;00:00, 400.96it/s]"
      }
     },
     "52ff5001a43449dba522380bda543f8b": {
      "model_module": "@jupyter-widgets/controls",
      "model_module_version": "1.5.0",
      "model_name": "ProgressStyleModel",
      "state": {
       "description_width": "initial"
      }
     },
     "53f41cd8892b43df8967362a1baedc9d": {
      "model_module": "@jupyter-widgets/controls",
      "model_module_version": "1.5.0",
      "model_name": "FloatProgressModel",
      "state": {
       "description": "Validating: ",
       "layout": "IPY_MODEL_ec45519b9de64006a73adc6a3b1760d1",
       "max": 541,
       "style": "IPY_MODEL_c064711015ea4fa0810a2255c33b46e0",
       "value": 541
      }
     },
     "54518b9ac6da46a1ba438dd5790ffab9": {
      "model_module": "@jupyter-widgets/controls",
      "model_module_version": "1.5.0",
      "model_name": "DescriptionStyleModel",
      "state": {
       "description_width": ""
      }
     },
     "546d1f5b415540668df0e0aca697bd05": {
      "model_module": "@jupyter-widgets/base",
      "model_module_version": "1.2.0",
      "model_name": "LayoutModel",
      "state": {
       "display": "inline-flex",
       "flex_flow": "row wrap",
       "width": "100%"
      }
     },
     "5484ad65d4d945fcaf24fba13bf2fdb7": {
      "model_module": "@jupyter-widgets/base",
      "model_module_version": "1.2.0",
      "model_name": "LayoutModel",
      "state": {}
     },
     "548dd62cb274489584fab3dfd472b6c9": {
      "model_module": "@jupyter-widgets/controls",
      "model_module_version": "1.5.0",
      "model_name": "ProgressStyleModel",
      "state": {
       "description_width": "initial"
      }
     },
     "54bba6ac2e8c4efb9c828d2a5073492e": {
      "model_module": "@jupyter-widgets/controls",
      "model_module_version": "1.5.0",
      "model_name": "HTMLModel",
      "state": {
       "layout": "IPY_MODEL_5c414b70878c45c09a394095d7ddd88a",
       "style": "IPY_MODEL_1e8aee248efe4c44a31f767bb10f3441",
       "value": " 550/? [00:01&lt;00:00, 380.27it/s]"
      }
     },
     "56578032d1b54aaeb09835ab519cec48": {
      "model_module": "@jupyter-widgets/base",
      "model_module_version": "1.2.0",
      "model_name": "LayoutModel",
      "state": {
       "display": "inline-flex",
       "flex_flow": "row wrap",
       "width": "100%"
      }
     },
     "56e838e0d94c48cd96d6fa6a7a5975cd": {
      "model_module": "@jupyter-widgets/controls",
      "model_module_version": "1.5.0",
      "model_name": "DescriptionStyleModel",
      "state": {
       "description_width": ""
      }
     },
     "5705084e97cb4ccb9421e61c547c623e": {
      "model_module": "@jupyter-widgets/base",
      "model_module_version": "1.2.0",
      "model_name": "LayoutModel",
      "state": {
       "flex": "2"
      }
     },
     "5706cb0d4e1541c0ac3a72227795e7f5": {
      "model_module": "@jupyter-widgets/controls",
      "model_module_version": "1.5.0",
      "model_name": "FloatProgressModel",
      "state": {
       "description": "Validating: ",
       "layout": "IPY_MODEL_20798d668e844cdaa68d441243cbfd3b",
       "max": 541,
       "style": "IPY_MODEL_fbcc7f61bc37496e9341b2a67111f1df",
       "value": 541
      }
     },
     "57fbc86bcdde475fa00926157fa1bf81": {
      "model_module": "@jupyter-widgets/controls",
      "model_module_version": "1.5.0",
      "model_name": "FloatProgressModel",
      "state": {
       "description": "Validating: ",
       "layout": "IPY_MODEL_59b7d2d9a9b94f2cb48b3f9206161a67",
       "max": 541,
       "style": "IPY_MODEL_2638eeb161144fd29b1c6eeaa7aecf07",
       "value": 541
      }
     },
     "582aa5b3f11446afab00b294bd4ad34c": {
      "model_module": "@jupyter-widgets/base",
      "model_module_version": "1.2.0",
      "model_name": "LayoutModel",
      "state": {
       "flex": "2"
      }
     },
     "58840405ab1a45cb966cf994a9298ac0": {
      "model_module": "@jupyter-widgets/controls",
      "model_module_version": "1.5.0",
      "model_name": "ProgressStyleModel",
      "state": {
       "description_width": "initial"
      }
     },
     "58c7688a312044b485ae16f2b9e07641": {
      "model_module": "@jupyter-widgets/controls",
      "model_module_version": "1.5.0",
      "model_name": "FloatProgressModel",
      "state": {
       "description": "Validating: ",
       "layout": "IPY_MODEL_ebdc5eac026c4de788cc90cd70bdacca",
       "max": 541,
       "style": "IPY_MODEL_e382fbc2b5cd486e91e0a9c6d3727ecc",
       "value": 541
      }
     },
     "58e44c0772d44eaab81330a5e50d55ac": {
      "model_module": "@jupyter-widgets/base",
      "model_module_version": "1.2.0",
      "model_name": "LayoutModel",
      "state": {
       "display": "inline-flex",
       "flex_flow": "row wrap",
       "width": "100%"
      }
     },
     "591b6028e396449f86e090b7b03b2f2d": {
      "model_module": "@jupyter-widgets/controls",
      "model_module_version": "1.5.0",
      "model_name": "ProgressStyleModel",
      "state": {
       "description_width": "initial"
      }
     },
     "592d063eb6794c6cbc3245ef2db10fb4": {
      "model_module": "@jupyter-widgets/controls",
      "model_module_version": "1.5.0",
      "model_name": "DescriptionStyleModel",
      "state": {
       "description_width": ""
      }
     },
     "594bcf87a0d642b9afbfe160b893b893": {
      "model_module": "@jupyter-widgets/base",
      "model_module_version": "1.2.0",
      "model_name": "LayoutModel",
      "state": {}
     },
     "59ab3b9ff1fd4436b0929c0df39ceae1": {
      "model_module": "@jupyter-widgets/controls",
      "model_module_version": "1.5.0",
      "model_name": "ProgressStyleModel",
      "state": {
       "description_width": "initial"
      }
     },
     "59abf388f4634fabba4de58fbf406672": {
      "model_module": "@jupyter-widgets/controls",
      "model_module_version": "1.5.0",
      "model_name": "FloatProgressModel",
      "state": {
       "description": "Validating: ",
       "layout": "IPY_MODEL_c375915cdb424287a5f4f2ef7b7f6a22",
       "max": 541,
       "style": "IPY_MODEL_ebaa18e6b21d4cc28d3f568701b680e5",
       "value": 541
      }
     },
     "59b7d2d9a9b94f2cb48b3f9206161a67": {
      "model_module": "@jupyter-widgets/base",
      "model_module_version": "1.2.0",
      "model_name": "LayoutModel",
      "state": {
       "flex": "2"
      }
     },
     "59b9628085924956aff0a95b5500fa43": {
      "model_module": "@jupyter-widgets/base",
      "model_module_version": "1.2.0",
      "model_name": "LayoutModel",
      "state": {}
     },
     "59e3b9ebf4484b2c9be8312e60e4b4f9": {
      "model_module": "@jupyter-widgets/base",
      "model_module_version": "1.2.0",
      "model_name": "LayoutModel",
      "state": {
       "display": "inline-flex",
       "flex_flow": "row wrap",
       "width": "100%"
      }
     },
     "5a336e49b1d64519a3756b03057186b1": {
      "model_module": "@jupyter-widgets/base",
      "model_module_version": "1.2.0",
      "model_name": "LayoutModel",
      "state": {
       "flex": "2"
      }
     },
     "5a61684bc5de4e68b6cf4e8c239c926c": {
      "model_module": "@jupyter-widgets/controls",
      "model_module_version": "1.5.0",
      "model_name": "HTMLModel",
      "state": {
       "layout": "IPY_MODEL_59b9628085924956aff0a95b5500fa43",
       "style": "IPY_MODEL_fe721b48f90c422e9e3cb11f95559de7",
       "value": " 550/? [00:01&lt;00:00, 438.53it/s]"
      }
     },
     "5a80f497a0c943cba8b0cdbda8b136a1": {
      "model_module": "@jupyter-widgets/controls",
      "model_module_version": "1.5.0",
      "model_name": "ProgressStyleModel",
      "state": {
       "description_width": "initial"
      }
     },
     "5a99b428bebf4697bc966c7902555dbc": {
      "model_module": "@jupyter-widgets/base",
      "model_module_version": "1.2.0",
      "model_name": "LayoutModel",
      "state": {
       "flex": "2"
      }
     },
     "5b03261cbc614f37a36234ec5cf44fa8": {
      "model_module": "@jupyter-widgets/controls",
      "model_module_version": "1.5.0",
      "model_name": "FloatProgressModel",
      "state": {
       "description": "Validating: ",
       "layout": "IPY_MODEL_48672814875a44cbadad1658b17cc0e6",
       "max": 541,
       "style": "IPY_MODEL_fd520594a3844c89989c4bc85fd00a74",
       "value": 541
      }
     },
     "5b08f3fac48748cb94c5a28e9493fa84": {
      "model_module": "@jupyter-widgets/controls",
      "model_module_version": "1.5.0",
      "model_name": "HTMLModel",
      "state": {
       "layout": "IPY_MODEL_c8567665fc0643c2a0f707ee7d9004da",
       "style": "IPY_MODEL_a5ce47bdd37143a18c82a394fcf547e8",
       "value": " 50/? [00:00&lt;00:00, 759.84it/s]"
      }
     },
     "5b1bd168f0dc4770a026eb9c9569fba8": {
      "model_module": "@jupyter-widgets/controls",
      "model_module_version": "1.5.0",
      "model_name": "HTMLModel",
      "state": {
       "layout": "IPY_MODEL_3e40e72a244f471b954354d063ec6575",
       "style": "IPY_MODEL_56e838e0d94c48cd96d6fa6a7a5975cd",
       "value": " 550/? [00:01&lt;00:00, 429.16it/s]"
      }
     },
     "5b1f32764856478987733ebfa5877bdf": {
      "model_module": "@jupyter-widgets/controls",
      "model_module_version": "1.5.0",
      "model_name": "DescriptionStyleModel",
      "state": {
       "description_width": ""
      }
     },
     "5b27c22403c143c283b22e81509d73c2": {
      "model_module": "@jupyter-widgets/controls",
      "model_module_version": "1.5.0",
      "model_name": "FloatProgressModel",
      "state": {
       "description": "Validating: ",
       "layout": "IPY_MODEL_91f4bb97efb44347a394f18072341297",
       "max": 541,
       "style": "IPY_MODEL_ab8b7e3947ed40949f90a343a8119f91",
       "value": 541
      }
     },
     "5c414b70878c45c09a394095d7ddd88a": {
      "model_module": "@jupyter-widgets/base",
      "model_module_version": "1.2.0",
      "model_name": "LayoutModel",
      "state": {}
     },
     "5c752d51d60d4ff99f3ae6906a33ac7d": {
      "model_module": "@jupyter-widgets/controls",
      "model_module_version": "1.5.0",
      "model_name": "DescriptionStyleModel",
      "state": {
       "description_width": ""
      }
     },
     "5ca4fa37d83f4ec9a84583f238c015df": {
      "model_module": "@jupyter-widgets/base",
      "model_module_version": "1.2.0",
      "model_name": "LayoutModel",
      "state": {}
     },
     "5caa1efc1c524759a1b93f834e88c7b5": {
      "model_module": "@jupyter-widgets/controls",
      "model_module_version": "1.5.0",
      "model_name": "HTMLModel",
      "state": {
       "layout": "IPY_MODEL_f95829d5a4544090897cd3fa81a0f20d",
       "style": "IPY_MODEL_4c1184043c2348c39268fc28c5df5c7b",
       "value": " 550/? [00:01&lt;00:00, 377.98it/s]"
      }
     },
     "5caad517722b4180a7954847ca61d6c8": {
      "model_module": "@jupyter-widgets/controls",
      "model_module_version": "1.5.0",
      "model_name": "ProgressStyleModel",
      "state": {
       "description_width": "initial"
      }
     },
     "5cac61cc5528461ea7b4d76cd358dedb": {
      "model_module": "@jupyter-widgets/base",
      "model_module_version": "1.2.0",
      "model_name": "LayoutModel",
      "state": {
       "flex": "2"
      }
     },
     "5ce45736766e4bd08e51c301945e2115": {
      "model_module": "@jupyter-widgets/controls",
      "model_module_version": "1.5.0",
      "model_name": "HTMLModel",
      "state": {
       "layout": "IPY_MODEL_9ca6d4a62c4e460ba7a168db08401b05",
       "style": "IPY_MODEL_ed96befe408b4e2e94e64bf874a0af71",
       "value": " 550/? [00:01&lt;00:00, 412.26it/s]"
      }
     },
     "5d17f895435543b7be2e0d43605b5336": {
      "model_module": "@jupyter-widgets/controls",
      "model_module_version": "1.5.0",
      "model_name": "DescriptionStyleModel",
      "state": {
       "description_width": ""
      }
     },
     "5d21326bb04b4ed4b13fe7fb98410d36": {
      "model_module": "@jupyter-widgets/controls",
      "model_module_version": "1.5.0",
      "model_name": "DescriptionStyleModel",
      "state": {
       "description_width": ""
      }
     },
     "5d37128c28ec49a0804d77521d3e9987": {
      "model_module": "@jupyter-widgets/base",
      "model_module_version": "1.2.0",
      "model_name": "LayoutModel",
      "state": {}
     },
     "5e2e878e3d28448b869470b13506866d": {
      "model_module": "@jupyter-widgets/controls",
      "model_module_version": "1.5.0",
      "model_name": "FloatProgressModel",
      "state": {
       "description": "Validating: ",
       "layout": "IPY_MODEL_aa92dec3227948589cb22004749f1301",
       "max": 541,
       "style": "IPY_MODEL_d0b5f2dc9de24967a4c9efd90bf78761",
       "value": 541
      }
     },
     "5e5d9ad7585342059294b12876241729": {
      "model_module": "@jupyter-widgets/controls",
      "model_module_version": "1.5.0",
      "model_name": "ProgressStyleModel",
      "state": {
       "description_width": "initial"
      }
     },
     "5e8b7bf29a554a6a87cce32040579f18": {
      "model_module": "@jupyter-widgets/controls",
      "model_module_version": "1.5.0",
      "model_name": "HTMLModel",
      "state": {
       "layout": "IPY_MODEL_245dac69390e4d5e939ffb01c0186407",
       "style": "IPY_MODEL_5249d53478c04657bb442ee8e8627d99",
       "value": " 550/? [00:01&lt;00:00, 421.98it/s]"
      }
     },
     "5f17039ffa314b64a3044b23bcd75acb": {
      "model_module": "@jupyter-widgets/base",
      "model_module_version": "1.2.0",
      "model_name": "LayoutModel",
      "state": {}
     },
     "5f2d7eedf539435b8c02bea53e1fe648": {
      "model_module": "@jupyter-widgets/base",
      "model_module_version": "1.2.0",
      "model_name": "LayoutModel",
      "state": {
       "flex": "2"
      }
     },
     "5ffda845b9824f9e82d22f5162647e11": {
      "model_module": "@jupyter-widgets/base",
      "model_module_version": "1.2.0",
      "model_name": "LayoutModel",
      "state": {
       "display": "inline-flex",
       "flex_flow": "row wrap",
       "width": "100%"
      }
     },
     "60fcb41bf89a49f193d08e254bedbaf0": {
      "model_module": "@jupyter-widgets/base",
      "model_module_version": "1.2.0",
      "model_name": "LayoutModel",
      "state": {}
     },
     "6196f761a2a74631a9f224408992f151": {
      "model_module": "@jupyter-widgets/controls",
      "model_module_version": "1.5.0",
      "model_name": "ProgressStyleModel",
      "state": {
       "description_width": "initial"
      }
     },
     "61daa70a8e964cae93a840ae88dbca31": {
      "model_module": "@jupyter-widgets/controls",
      "model_module_version": "1.5.0",
      "model_name": "ProgressStyleModel",
      "state": {
       "description_width": "initial"
      }
     },
     "61e4d91f21934c6ea9862166d5b79fe5": {
      "model_module": "@jupyter-widgets/base",
      "model_module_version": "1.2.0",
      "model_name": "LayoutModel",
      "state": {}
     },
     "620a5e7c9131432284fcfa90529189ff": {
      "model_module": "@jupyter-widgets/controls",
      "model_module_version": "1.5.0",
      "model_name": "ProgressStyleModel",
      "state": {
       "description_width": "initial"
      }
     },
     "620e5a902f284502a00c6630b6169eea": {
      "model_module": "@jupyter-widgets/controls",
      "model_module_version": "1.5.0",
      "model_name": "FloatProgressModel",
      "state": {
       "description": "Validating: ",
       "layout": "IPY_MODEL_e26d96d9ac3a429aa4df2aa17f359ba9",
       "max": 541,
       "style": "IPY_MODEL_23a5bbd09db24ff6ae80ae2a951fef34",
       "value": 541
      }
     },
     "6228c767a17f47509ec763ed0a7dd662": {
      "model_module": "@jupyter-widgets/controls",
      "model_module_version": "1.5.0",
      "model_name": "HTMLModel",
      "state": {
       "layout": "IPY_MODEL_3d941dfd8dae4fac853d7780077cc2ff",
       "style": "IPY_MODEL_ba3f6d24286e4f51be0c257419814504",
       "value": " 550/? [00:01&lt;00:00, 422.18it/s]"
      }
     },
     "62487afe42ed45f7b47a7c865b0595ae": {
      "model_module": "@jupyter-widgets/controls",
      "model_module_version": "1.5.0",
      "model_name": "HTMLModel",
      "state": {
       "layout": "IPY_MODEL_c2ec0f8dd87d4ab5ae6515ccaa06ef22",
       "style": "IPY_MODEL_ef6b2f0ca1684ab18f80ec1c126fbd4b",
       "value": " 550/? [00:01&lt;00:00, 430.10it/s]"
      }
     },
     "6259567a94a94b2e99f05846109860ef": {
      "model_module": "@jupyter-widgets/controls",
      "model_module_version": "1.5.0",
      "model_name": "DescriptionStyleModel",
      "state": {
       "description_width": ""
      }
     },
     "626be549ecbc472dbec25e1af46b703d": {
      "model_module": "@jupyter-widgets/controls",
      "model_module_version": "1.5.0",
      "model_name": "HTMLModel",
      "state": {
       "layout": "IPY_MODEL_00f8433323c641ff8fc290e09fc6d221",
       "style": "IPY_MODEL_6259567a94a94b2e99f05846109860ef",
       "value": " 550/? [00:01&lt;00:00, 381.32it/s]"
      }
     },
     "62bad38b74e3486688716ad967d277bd": {
      "model_module": "@jupyter-widgets/controls",
      "model_module_version": "1.5.0",
      "model_name": "FloatProgressModel",
      "state": {
       "description": "Validating: ",
       "layout": "IPY_MODEL_89904377af4948fe98e56992a66d54a5",
       "max": 541,
       "style": "IPY_MODEL_2ef5769b0ca547c78d7b02d06cbd30bf",
       "value": 541
      }
     },
     "62d6ae9f8b7e4b5ca21852b1b2cf0238": {
      "model_module": "@jupyter-widgets/base",
      "model_module_version": "1.2.0",
      "model_name": "LayoutModel",
      "state": {}
     },
     "62da91153b794d81b4ec0ae56c2dc939": {
      "model_module": "@jupyter-widgets/controls",
      "model_module_version": "1.5.0",
      "model_name": "FloatProgressModel",
      "state": {
       "description": "Validating: ",
       "layout": "IPY_MODEL_25fcb29612b64a7dac7a6f330a34ff07",
       "max": 541,
       "style": "IPY_MODEL_c4f79a05381748cda87d95286bf6a289",
       "value": 541
      }
     },
     "62f132d382fe456c9410e04c8078056e": {
      "model_module": "@jupyter-widgets/base",
      "model_module_version": "1.2.0",
      "model_name": "LayoutModel",
      "state": {}
     },
     "63117fcec64543638d1c2682cd2a08c7": {
      "model_module": "@jupyter-widgets/base",
      "model_module_version": "1.2.0",
      "model_name": "LayoutModel",
      "state": {
       "display": "inline-flex",
       "flex_flow": "row wrap",
       "width": "100%"
      }
     },
     "6368b1bb5bc94817b6fce08502ccd741": {
      "model_module": "@jupyter-widgets/base",
      "model_module_version": "1.2.0",
      "model_name": "LayoutModel",
      "state": {
       "display": "inline-flex",
       "flex_flow": "row wrap",
       "width": "100%"
      }
     },
     "63a4458ddfc94d96b5760f7af4d3698c": {
      "model_module": "@jupyter-widgets/controls",
      "model_module_version": "1.5.0",
      "model_name": "DescriptionStyleModel",
      "state": {
       "description_width": ""
      }
     },
     "63c69032d0a74f77869343dbc203e584": {
      "model_module": "@jupyter-widgets/controls",
      "model_module_version": "1.5.0",
      "model_name": "DescriptionStyleModel",
      "state": {
       "description_width": ""
      }
     },
     "63e1e6e094b54919b685697a773f6137": {
      "model_module": "@jupyter-widgets/controls",
      "model_module_version": "1.5.0",
      "model_name": "DescriptionStyleModel",
      "state": {
       "description_width": ""
      }
     },
     "641a30ceee774be489a4e4aaf59da533": {
      "model_module": "@jupyter-widgets/controls",
      "model_module_version": "1.5.0",
      "model_name": "DescriptionStyleModel",
      "state": {
       "description_width": ""
      }
     },
     "6427f45ba2914d23bb0a15fbde744b0e": {
      "model_module": "@jupyter-widgets/controls",
      "model_module_version": "1.5.0",
      "model_name": "ProgressStyleModel",
      "state": {
       "description_width": "initial"
      }
     },
     "64b6c51b1eee4d5d9bf3f511328f56be": {
      "model_module": "@jupyter-widgets/base",
      "model_module_version": "1.2.0",
      "model_name": "LayoutModel",
      "state": {}
     },
     "659e61d4c552408aa237216a6ec3c70d": {
      "model_module": "@jupyter-widgets/controls",
      "model_module_version": "1.5.0",
      "model_name": "FloatProgressModel",
      "state": {
       "description": "Validating: ",
       "layout": "IPY_MODEL_33d6a8c9c14e44fd98ab99842e0512b7",
       "max": 541,
       "style": "IPY_MODEL_4e941505ee8949df9d8735c6dac707e8",
       "value": 541
      }
     },
     "65a62382359a4982956463c346c01db5": {
      "model_module": "@jupyter-widgets/base",
      "model_module_version": "1.2.0",
      "model_name": "LayoutModel",
      "state": {
       "display": "inline-flex",
       "flex_flow": "row wrap",
       "width": "100%"
      }
     },
     "66cebd2f65f84f5ea7246bee929e86b0": {
      "model_module": "@jupyter-widgets/controls",
      "model_module_version": "1.5.0",
      "model_name": "HTMLModel",
      "state": {
       "layout": "IPY_MODEL_3dc820806c114da09857ece532c61021",
       "style": "IPY_MODEL_ec460c3fb56542c290de87c14023bdac",
       "value": " 550/? [00:01&lt;00:00, 405.46it/s]"
      }
     },
     "66cf4b16b48c45fcb69bdf907c3f85eb": {
      "model_module": "@jupyter-widgets/controls",
      "model_module_version": "1.5.0",
      "model_name": "HTMLModel",
      "state": {
       "layout": "IPY_MODEL_1ff78c08515740688bdb77a6bb024587",
       "style": "IPY_MODEL_63a4458ddfc94d96b5760f7af4d3698c",
       "value": " 550/? [00:01&lt;00:00, 401.69it/s]"
      }
     },
     "66ed170b39a244cabf863782990b087b": {
      "model_module": "@jupyter-widgets/base",
      "model_module_version": "1.2.0",
      "model_name": "LayoutModel",
      "state": {}
     },
     "66f4d639175747ca99ffccc871e1b826": {
      "model_module": "@jupyter-widgets/controls",
      "model_module_version": "1.5.0",
      "model_name": "HTMLModel",
      "state": {
       "layout": "IPY_MODEL_eb9b6bf001514a6b8de858aada1c9714",
       "style": "IPY_MODEL_157380d3e5904a4dad9c07112cd4840f",
       "value": " 550/? [00:01&lt;00:00, 449.10it/s]"
      }
     },
     "6739c20d8a9640bdb4359b59727a2fd0": {
      "model_module": "@jupyter-widgets/controls",
      "model_module_version": "1.5.0",
      "model_name": "FloatProgressModel",
      "state": {
       "description": "Validating: ",
       "layout": "IPY_MODEL_a02fc8c835594e89af839972fc2cd3c4",
       "max": 541,
       "style": "IPY_MODEL_d663b272fe7f4daea45fdd94554b1e8c",
       "value": 541
      }
     },
     "67500df0cd9047e4a8e5fd1d8a978456": {
      "model_module": "@jupyter-widgets/base",
      "model_module_version": "1.2.0",
      "model_name": "LayoutModel",
      "state": {}
     },
     "67a063b564b540a3990af390dad23a08": {
      "model_module": "@jupyter-widgets/base",
      "model_module_version": "1.2.0",
      "model_name": "LayoutModel",
      "state": {}
     },
     "67b6031e996d4c2793a562bc1ad7088a": {
      "model_module": "@jupyter-widgets/controls",
      "model_module_version": "1.5.0",
      "model_name": "HTMLModel",
      "state": {
       "layout": "IPY_MODEL_a807ce2431564d36a0826096bb7df310",
       "style": "IPY_MODEL_c9392120675f4115bd14a202518783bc",
       "value": " 550/? [00:01&lt;00:00, 405.75it/s]"
      }
     },
     "67d4a16d8dda4af0b9a16c1e08c42b4a": {
      "model_module": "@jupyter-widgets/controls",
      "model_module_version": "1.5.0",
      "model_name": "HTMLModel",
      "state": {
       "layout": "IPY_MODEL_33ab4648bbc54908ba128b392a8cd0a4",
       "style": "IPY_MODEL_766c1eda9c3247769d1738e0f236dd41",
       "value": " 550/? [00:01&lt;00:00, 401.88it/s]"
      }
     },
     "6819fd0bcef8417ba7807e43f8e5c5a4": {
      "model_module": "@jupyter-widgets/controls",
      "model_module_version": "1.5.0",
      "model_name": "HTMLModel",
      "state": {
       "layout": "IPY_MODEL_0f990541557e420eb7d4fdf484f1b95d",
       "style": "IPY_MODEL_e85b832383bf431ba9d142365adc15ca",
       "value": " 550/? [00:01&lt;00:00, 413.48it/s]"
      }
     },
     "69dde33c84804b50b9da45bdce7d9297": {
      "model_module": "@jupyter-widgets/controls",
      "model_module_version": "1.5.0",
      "model_name": "FloatProgressModel",
      "state": {
       "description": "Validating: ",
       "layout": "IPY_MODEL_adc45d5ad303455794881d883f27aed3",
       "max": 541,
       "style": "IPY_MODEL_9611b4500fd54de28cd37735cbceb0b2",
       "value": 541
      }
     },
     "69e53fd0e33442bc828d7b177ac6bfd4": {
      "model_module": "@jupyter-widgets/controls",
      "model_module_version": "1.5.0",
      "model_name": "FloatProgressModel",
      "state": {
       "description": "Validating: ",
       "layout": "IPY_MODEL_2020e2d0b8b848a1a1b80351915eedb2",
       "max": 541,
       "style": "IPY_MODEL_ef7bb5b0b52a4762a76d2d30f45872c7",
       "value": 541
      }
     },
     "6a1f3a6ac21e47f5a5e37ccc0ef75331": {
      "model_module": "@jupyter-widgets/controls",
      "model_module_version": "1.5.0",
      "model_name": "ProgressStyleModel",
      "state": {
       "description_width": "initial"
      }
     },
     "6afb568223fd42848efdcb6e1ff2a396": {
      "model_module": "@jupyter-widgets/base",
      "model_module_version": "1.2.0",
      "model_name": "LayoutModel",
      "state": {
       "flex": "2"
      }
     },
     "6b1e32791db44cd78ec9c667cade34f4": {
      "model_module": "@jupyter-widgets/base",
      "model_module_version": "1.2.0",
      "model_name": "LayoutModel",
      "state": {
       "display": "inline-flex",
       "flex_flow": "row wrap",
       "width": "100%"
      }
     },
     "6b2850e5d94549b087605c7d0fb4f22f": {
      "model_module": "@jupyter-widgets/controls",
      "model_module_version": "1.5.0",
      "model_name": "DescriptionStyleModel",
      "state": {
       "description_width": ""
      }
     },
     "6b58856e6ec64efc87f02d605545eb69": {
      "model_module": "@jupyter-widgets/controls",
      "model_module_version": "1.5.0",
      "model_name": "DescriptionStyleModel",
      "state": {
       "description_width": ""
      }
     },
     "6b74367beec74ecc8b2d41f672d2e2b7": {
      "model_module": "@jupyter-widgets/base",
      "model_module_version": "1.2.0",
      "model_name": "LayoutModel",
      "state": {
       "flex": "2"
      }
     },
     "6baef6ea523d4b9abfbf75864e9afc2b": {
      "model_module": "@jupyter-widgets/controls",
      "model_module_version": "1.5.0",
      "model_name": "FloatProgressModel",
      "state": {
       "description": "Validating: ",
       "layout": "IPY_MODEL_3bb58ee186d744f28d2c037483749577",
       "max": 541,
       "style": "IPY_MODEL_eb8c26bcadc64dbb87395e50764220f3",
       "value": 541
      }
     },
     "6c1a2a5434ae4807a6fbe2949ac33dfa": {
      "model_module": "@jupyter-widgets/controls",
      "model_module_version": "1.5.0",
      "model_name": "FloatProgressModel",
      "state": {
       "description": "Validating: ",
       "layout": "IPY_MODEL_259851adf3b5489cbade1abbe096769c",
       "max": 541,
       "style": "IPY_MODEL_9c1b073be7bf4e62a7d6d19f35e24181",
       "value": 541
      }
     },
     "6c51c0e50bac4bdcbb0b668517926aca": {
      "model_module": "@jupyter-widgets/controls",
      "model_module_version": "1.5.0",
      "model_name": "HTMLModel",
      "state": {
       "layout": "IPY_MODEL_4238c00548b3414a92109c6d1159fb38",
       "style": "IPY_MODEL_0ec7ee9c99104eff8fd3fda0c88d7055",
       "value": " 550/? [00:05&lt;00:00, 101.49it/s]"
      }
     },
     "6d589d370dd7409bb7f40d209c05e428": {
      "model_module": "@jupyter-widgets/base",
      "model_module_version": "1.2.0",
      "model_name": "LayoutModel",
      "state": {
       "display": "inline-flex",
       "flex_flow": "row wrap",
       "width": "100%"
      }
     },
     "6d8d00fa9d5a4936b9c67bc531462651": {
      "model_module": "@jupyter-widgets/base",
      "model_module_version": "1.2.0",
      "model_name": "LayoutModel",
      "state": {
       "flex": "2"
      }
     },
     "6e90697f7ed749aabebeccc7ecfd86fb": {
      "model_module": "@jupyter-widgets/base",
      "model_module_version": "1.2.0",
      "model_name": "LayoutModel",
      "state": {
       "flex": "2"
      }
     },
     "6eb86ec7d9844bcc93e7677f218ceaa3": {
      "model_module": "@jupyter-widgets/base",
      "model_module_version": "1.2.0",
      "model_name": "LayoutModel",
      "state": {}
     },
     "6ec63b11af1b4e38a3f2bd04b4620c5a": {
      "model_module": "@jupyter-widgets/controls",
      "model_module_version": "1.5.0",
      "model_name": "DescriptionStyleModel",
      "state": {
       "description_width": ""
      }
     },
     "6f2fb4d8648d4e11a7dbdd0a7e0d03e5": {
      "model_module": "@jupyter-widgets/base",
      "model_module_version": "1.2.0",
      "model_name": "LayoutModel",
      "state": {}
     },
     "6f89f46002f54c97948eac4467004d54": {
      "model_module": "@jupyter-widgets/controls",
      "model_module_version": "1.5.0",
      "model_name": "HTMLModel",
      "state": {
       "layout": "IPY_MODEL_21a7046fc7a940d28a2771ac2b8b2c19",
       "style": "IPY_MODEL_e98b0f1f4e1f447483a2d8d16abdd230",
       "value": " 550/? [00:01&lt;00:00, 423.97it/s]"
      }
     },
     "7067f312fcbd43468e71a933c0833502": {
      "model_module": "@jupyter-widgets/base",
      "model_module_version": "1.2.0",
      "model_name": "LayoutModel",
      "state": {
       "flex": "2"
      }
     },
     "70c2675e6d67449692c895717406a8dc": {
      "model_module": "@jupyter-widgets/base",
      "model_module_version": "1.2.0",
      "model_name": "LayoutModel",
      "state": {
       "display": "inline-flex",
       "flex_flow": "row wrap",
       "width": "100%"
      }
     },
     "71685bfe49cd42f6be0297adffdf4df9": {
      "model_module": "@jupyter-widgets/controls",
      "model_module_version": "1.5.0",
      "model_name": "DescriptionStyleModel",
      "state": {
       "description_width": ""
      }
     },
     "716e028fa4214e89afbfd15b271d57b6": {
      "model_module": "@jupyter-widgets/base",
      "model_module_version": "1.2.0",
      "model_name": "LayoutModel",
      "state": {
       "flex": "2"
      }
     },
     "718c21f965504142892b7a87c9fcc1fc": {
      "model_module": "@jupyter-widgets/base",
      "model_module_version": "1.2.0",
      "model_name": "LayoutModel",
      "state": {}
     },
     "71a8f7cc7c6743e0bf65aa3d2d86ff5b": {
      "model_module": "@jupyter-widgets/base",
      "model_module_version": "1.2.0",
      "model_name": "LayoutModel",
      "state": {}
     },
     "71d97058733f49039fffeebbfdc42fb0": {
      "model_module": "@jupyter-widgets/base",
      "model_module_version": "1.2.0",
      "model_name": "LayoutModel",
      "state": {
       "flex": "2"
      }
     },
     "722a6e13fa66402ca53a5abdc8b205ed": {
      "model_module": "@jupyter-widgets/controls",
      "model_module_version": "1.5.0",
      "model_name": "ProgressStyleModel",
      "state": {
       "description_width": "initial"
      }
     },
     "7316f6dd0c524eeb97e251b1f39beb15": {
      "model_module": "@jupyter-widgets/base",
      "model_module_version": "1.2.0",
      "model_name": "LayoutModel",
      "state": {}
     },
     "73e78b0af2f04371a30752c2871ac159": {
      "model_module": "@jupyter-widgets/controls",
      "model_module_version": "1.5.0",
      "model_name": "ProgressStyleModel",
      "state": {
       "description_width": "initial"
      }
     },
     "745385eba88f429297ecaa63b59f2569": {
      "model_module": "@jupyter-widgets/controls",
      "model_module_version": "1.5.0",
      "model_name": "FloatProgressModel",
      "state": {
       "description": "Validating: ",
       "layout": "IPY_MODEL_7602af4ccac14a2c86c4756271bf6285",
       "max": 541,
       "style": "IPY_MODEL_6a1f3a6ac21e47f5a5e37ccc0ef75331",
       "value": 541
      }
     },
     "7520397384174c719c981a28b701d18b": {
      "model_module": "@jupyter-widgets/base",
      "model_module_version": "1.2.0",
      "model_name": "LayoutModel",
      "state": {
       "display": "inline-flex",
       "flex_flow": "row wrap",
       "width": "100%"
      }
     },
     "75e01cdf26684488b6256dbabd0aba5e": {
      "model_module": "@jupyter-widgets/base",
      "model_module_version": "1.2.0",
      "model_name": "LayoutModel",
      "state": {
       "flex": "2"
      }
     },
     "7602af4ccac14a2c86c4756271bf6285": {
      "model_module": "@jupyter-widgets/base",
      "model_module_version": "1.2.0",
      "model_name": "LayoutModel",
      "state": {
       "flex": "2"
      }
     },
     "760edffcd5554fd58d4899d3b29141f0": {
      "model_module": "@jupyter-widgets/controls",
      "model_module_version": "1.5.0",
      "model_name": "HTMLModel",
      "state": {
       "layout": "IPY_MODEL_f80c6f59f3564869bd2f194608970c35",
       "style": "IPY_MODEL_3d77d3aeb64f4866b29609b42230f990",
       "value": " 550/? [00:01&lt;00:00, 450.97it/s]"
      }
     },
     "763c5190ebfd4631a85c4022739d9383": {
      "model_module": "@jupyter-widgets/base",
      "model_module_version": "1.2.0",
      "model_name": "LayoutModel",
      "state": {}
     },
     "7669dbdbda984684bc2208714c820ba6": {
      "model_module": "@jupyter-widgets/base",
      "model_module_version": "1.2.0",
      "model_name": "LayoutModel",
      "state": {
       "flex": "2"
      }
     },
     "766c1eda9c3247769d1738e0f236dd41": {
      "model_module": "@jupyter-widgets/controls",
      "model_module_version": "1.5.0",
      "model_name": "DescriptionStyleModel",
      "state": {
       "description_width": ""
      }
     },
     "76c7b74db2d346e4b24b642ccc807882": {
      "model_module": "@jupyter-widgets/controls",
      "model_module_version": "1.5.0",
      "model_name": "ProgressStyleModel",
      "state": {
       "description_width": "initial"
      }
     },
     "7751915077344eb1bc7662c4ed08240f": {
      "model_module": "@jupyter-widgets/base",
      "model_module_version": "1.2.0",
      "model_name": "LayoutModel",
      "state": {
       "flex": "2"
      }
     },
     "7787fdf76ba34c5b9c3516c8a5ae4b21": {
      "model_module": "@jupyter-widgets/base",
      "model_module_version": "1.2.0",
      "model_name": "LayoutModel",
      "state": {
       "flex": "2"
      }
     },
     "7797a68516a043efa58173bf8c9b7e1a": {
      "model_module": "@jupyter-widgets/base",
      "model_module_version": "1.2.0",
      "model_name": "LayoutModel",
      "state": {
       "flex": "2"
      }
     },
     "7848cab1841141cbb24294c4e7958391": {
      "model_module": "@jupyter-widgets/controls",
      "model_module_version": "1.5.0",
      "model_name": "ProgressStyleModel",
      "state": {
       "description_width": "initial"
      }
     },
     "78a5a5ce4dc64874b961f2dd467b7d23": {
      "model_module": "@jupyter-widgets/base",
      "model_module_version": "1.2.0",
      "model_name": "LayoutModel",
      "state": {
       "display": "inline-flex",
       "flex_flow": "row wrap",
       "width": "100%"
      }
     },
     "78cd946205fa42d0a6feb985c370d7d4": {
      "model_module": "@jupyter-widgets/base",
      "model_module_version": "1.2.0",
      "model_name": "LayoutModel",
      "state": {}
     },
     "78d69b667ebf425195a315bedc5c63a9": {
      "model_module": "@jupyter-widgets/base",
      "model_module_version": "1.2.0",
      "model_name": "LayoutModel",
      "state": {
       "flex": "2"
      }
     },
     "78f49bc4b7c14c0d8707f25e1850cb76": {
      "model_module": "@jupyter-widgets/controls",
      "model_module_version": "1.5.0",
      "model_name": "HTMLModel",
      "state": {
       "layout": "IPY_MODEL_27c9275a5ac64269a50c7e16c14587b2",
       "style": "IPY_MODEL_e5645923f60243938c533aa40a6fa812",
       "value": " 550/? [00:01&lt;00:00, 398.99it/s]"
      }
     },
     "79592dec278849ae8ec8e59a68176a23": {
      "model_module": "@jupyter-widgets/controls",
      "model_module_version": "1.5.0",
      "model_name": "HTMLModel",
      "state": {
       "layout": "IPY_MODEL_b7181de28e7e42faaa5bc0774efc6cc4",
       "style": "IPY_MODEL_166b2eb3a46741c6922f5c2504c7e386",
       "value": " 550/? [00:01&lt;00:00, 470.14it/s]"
      }
     },
     "796328264d5541858d8889f4b8f8d409": {
      "model_module": "@jupyter-widgets/controls",
      "model_module_version": "1.5.0",
      "model_name": "FloatProgressModel",
      "state": {
       "description": "Validating: ",
       "layout": "IPY_MODEL_a12487c77db5465b90872de90dbac684",
       "max": 541,
       "style": "IPY_MODEL_92ff2edce39c46069408783894971e15",
       "value": 541
      }
     },
     "79862fbe7f424260958bc163147b1a50": {
      "model_module": "@jupyter-widgets/base",
      "model_module_version": "1.2.0",
      "model_name": "LayoutModel",
      "state": {
       "flex": "2"
      }
     },
     "7a0b907c46b84bd48f47892be7d282d2": {
      "model_module": "@jupyter-widgets/controls",
      "model_module_version": "1.5.0",
      "model_name": "DescriptionStyleModel",
      "state": {
       "description_width": ""
      }
     },
     "7a563fba6f424a809ffa4841769023b0": {
      "model_module": "@jupyter-widgets/base",
      "model_module_version": "1.2.0",
      "model_name": "LayoutModel",
      "state": {
       "display": "inline-flex",
       "flex_flow": "row wrap",
       "width": "100%"
      }
     },
     "7b365516ac834d19be179fb702177ab0": {
      "model_module": "@jupyter-widgets/base",
      "model_module_version": "1.2.0",
      "model_name": "LayoutModel",
      "state": {
       "flex": "2"
      }
     },
     "7b3782a972ef46c1a802b24c15f21a8e": {
      "model_module": "@jupyter-widgets/controls",
      "model_module_version": "1.5.0",
      "model_name": "DescriptionStyleModel",
      "state": {
       "description_width": ""
      }
     },
     "7c4670b891174f60be47201be829d46b": {
      "model_module": "@jupyter-widgets/base",
      "model_module_version": "1.2.0",
      "model_name": "LayoutModel",
      "state": {
       "display": "inline-flex",
       "flex_flow": "row wrap",
       "width": "100%"
      }
     },
     "7c60443d1afb479cb09b0649cc8d4a52": {
      "model_module": "@jupyter-widgets/controls",
      "model_module_version": "1.5.0",
      "model_name": "ProgressStyleModel",
      "state": {
       "description_width": "initial"
      }
     },
     "7d23f8cc17aa49b8bddc2d031ffc9708": {
      "model_module": "@jupyter-widgets/controls",
      "model_module_version": "1.5.0",
      "model_name": "HTMLModel",
      "state": {
       "layout": "IPY_MODEL_60fcb41bf89a49f193d08e254bedbaf0",
       "style": "IPY_MODEL_10bd12c848c34c4eab220f39ebaf0a90",
       "value": " 550/? [00:01&lt;00:00, 350.27it/s]"
      }
     },
     "7e099f13703c4d38afdf5b11b5513d5b": {
      "model_module": "@jupyter-widgets/controls",
      "model_module_version": "1.5.0",
      "model_name": "FloatProgressModel",
      "state": {
       "description": "Validating: ",
       "layout": "IPY_MODEL_bc64485e210f41689e8c33352a6d38ec",
       "max": 541,
       "style": "IPY_MODEL_49bed05cfceb407087ff22a32fd97f52",
       "value": 541
      }
     },
     "7e171d10f4d249768248d334879dcd10": {
      "model_module": "@jupyter-widgets/controls",
      "model_module_version": "1.5.0",
      "model_name": "HTMLModel",
      "state": {
       "layout": "IPY_MODEL_896543456def4dd29241d0a4509e3d08",
       "style": "IPY_MODEL_409ccc7ab4f54e24a4e88b0a49499c03",
       "value": " 550/? [00:01&lt;00:00, 424.05it/s]"
      }
     },
     "7e6f703542874e08978e55a2664a74ad": {
      "model_module": "@jupyter-widgets/controls",
      "model_module_version": "1.5.0",
      "model_name": "HTMLModel",
      "state": {
       "layout": "IPY_MODEL_48acfaf3132a44ff904e4f96a1465af8",
       "style": "IPY_MODEL_c80aee5a2208404494154fddefe93a69",
       "value": " 550/? [00:01&lt;00:00, 347.81it/s]"
      }
     },
     "7f35be2d6ef44d0287cd3cf12eeda0e8": {
      "model_module": "@jupyter-widgets/base",
      "model_module_version": "1.2.0",
      "model_name": "LayoutModel",
      "state": {
       "display": "inline-flex",
       "flex_flow": "row wrap",
       "width": "100%"
      }
     },
     "7f40819ddce6431dac0d1ae2ef877cf9": {
      "model_module": "@jupyter-widgets/controls",
      "model_module_version": "1.5.0",
      "model_name": "HTMLModel",
      "state": {
       "layout": "IPY_MODEL_97895091c6f3494480704243ff0eaa50",
       "style": "IPY_MODEL_406fc8bee23e4edfaa68c332e098a28d",
       "value": " 550/? [00:01&lt;00:00, 413.15it/s]"
      }
     },
     "7f46902be5f844a9b30265ac9532b287": {
      "model_module": "@jupyter-widgets/base",
      "model_module_version": "1.2.0",
      "model_name": "LayoutModel",
      "state": {
       "flex": "2"
      }
     },
     "80046011bf174526b9d0a855e9f7fead": {
      "model_module": "@jupyter-widgets/controls",
      "model_module_version": "1.5.0",
      "model_name": "DescriptionStyleModel",
      "state": {
       "description_width": ""
      }
     },
     "80d09ba5d6384dc18f82134466013fe5": {
      "model_module": "@jupyter-widgets/controls",
      "model_module_version": "1.5.0",
      "model_name": "ProgressStyleModel",
      "state": {
       "description_width": "initial"
      }
     },
     "8172aa99c48542f69e3ab9b9cc7e506b": {
      "model_module": "@jupyter-widgets/controls",
      "model_module_version": "1.5.0",
      "model_name": "DescriptionStyleModel",
      "state": {
       "description_width": ""
      }
     },
     "81b93e6c6f0d4f0fa8cb0905fe6407d4": {
      "model_module": "@jupyter-widgets/controls",
      "model_module_version": "1.5.0",
      "model_name": "HTMLModel",
      "state": {
       "layout": "IPY_MODEL_2e4c95d519ec423b8fc77b8489b90203",
       "style": "IPY_MODEL_afb4ab75ff234c0fb0743fb894c0bd29",
       "value": " 550/? [00:01&lt;00:00, 457.01it/s]"
      }
     },
     "8260973a8ef343bdb964919e54194a7b": {
      "model_module": "@jupyter-widgets/controls",
      "model_module_version": "1.5.0",
      "model_name": "DescriptionStyleModel",
      "state": {
       "description_width": ""
      }
     },
     "82dc2b342a374264b4849e7ba2573f5d": {
      "model_module": "@jupyter-widgets/base",
      "model_module_version": "1.2.0",
      "model_name": "LayoutModel",
      "state": {
       "display": "inline-flex",
       "flex_flow": "row wrap",
       "width": "100%"
      }
     },
     "82e230008d254486946c2b22d2571f78": {
      "model_module": "@jupyter-widgets/controls",
      "model_module_version": "1.5.0",
      "model_name": "DescriptionStyleModel",
      "state": {
       "description_width": ""
      }
     },
     "82fa2afb19b24f7aaf4e685dcee9986a": {
      "model_module": "@jupyter-widgets/controls",
      "model_module_version": "1.5.0",
      "model_name": "FloatProgressModel",
      "state": {
       "description": "Validating: ",
       "layout": "IPY_MODEL_873f7c74518a49d69acb4dd8b51a7e2b",
       "max": 541,
       "style": "IPY_MODEL_620a5e7c9131432284fcfa90529189ff",
       "value": 541
      }
     },
     "83147cedb90341e79821e52caa51564c": {
      "model_module": "@jupyter-widgets/base",
      "model_module_version": "1.2.0",
      "model_name": "LayoutModel",
      "state": {
       "flex": "2"
      }
     },
     "8395ee88749f4b059c438a5b2d548445": {
      "model_module": "@jupyter-widgets/controls",
      "model_module_version": "1.5.0",
      "model_name": "FloatProgressModel",
      "state": {
       "description": "Validating: ",
       "layout": "IPY_MODEL_7787fdf76ba34c5b9c3516c8a5ae4b21",
       "max": 541,
       "style": "IPY_MODEL_09a226e3fc4a4156805aa4e1ebd84593",
       "value": 541
      }
     },
     "83a7bd483b5f46cba06fb9d3ea0a1d0a": {
      "model_module": "@jupyter-widgets/base",
      "model_module_version": "1.2.0",
      "model_name": "LayoutModel",
      "state": {}
     },
     "83ede4241e644d9b84bb173373c4fa5c": {
      "model_module": "@jupyter-widgets/controls",
      "model_module_version": "1.5.0",
      "model_name": "FloatProgressModel",
      "state": {
       "bar_style": "success",
       "description": "Epoch 100: ",
       "layout": "IPY_MODEL_9184eb58d5164be99ffab4ed66d72b18",
       "max": 3063,
       "style": "IPY_MODEL_52ff5001a43449dba522380bda543f8b",
       "value": 3063
      }
     },
     "84c6c4a678194f6c998ae6d3fe08168a": {
      "model_module": "@jupyter-widgets/base",
      "model_module_version": "1.2.0",
      "model_name": "LayoutModel",
      "state": {
       "display": "inline-flex",
       "flex_flow": "row wrap",
       "width": "100%"
      }
     },
     "84f2075837f14e75abf4cf16dbddda28": {
      "model_module": "@jupyter-widgets/base",
      "model_module_version": "1.2.0",
      "model_name": "LayoutModel",
      "state": {
       "display": "inline-flex",
       "flex_flow": "row wrap",
       "width": "100%"
      }
     },
     "850ea25499a1467698028c08dd2fef0a": {
      "model_module": "@jupyter-widgets/controls",
      "model_module_version": "1.5.0",
      "model_name": "DescriptionStyleModel",
      "state": {
       "description_width": ""
      }
     },
     "857096762d924d60a992b5a0cdaa01f1": {
      "model_module": "@jupyter-widgets/base",
      "model_module_version": "1.2.0",
      "model_name": "LayoutModel",
      "state": {}
     },
     "863260cb22c241d3a21d9da0990e84eb": {
      "model_module": "@jupyter-widgets/base",
      "model_module_version": "1.2.0",
      "model_name": "LayoutModel",
      "state": {
       "flex": "2"
      }
     },
     "865953cb2e864f6ebe870fd5a5af6459": {
      "model_module": "@jupyter-widgets/controls",
      "model_module_version": "1.5.0",
      "model_name": "HTMLModel",
      "state": {
       "layout": "IPY_MODEL_a96e2f710c6148b385cd5327c58ae85a",
       "style": "IPY_MODEL_45776ad080994c77935621763ee04c9c",
       "value": " 550/? [00:01&lt;00:00, 465.18it/s]"
      }
     },
     "865d18a6f4e942fda2a54375c1f1c760": {
      "model_module": "@jupyter-widgets/controls",
      "model_module_version": "1.5.0",
      "model_name": "FloatProgressModel",
      "state": {
       "description": "Validating: ",
       "layout": "IPY_MODEL_4c58ef45d5154d918d23399d9c156f49",
       "max": 541,
       "style": "IPY_MODEL_2d09ecdd940d4de8b74d78e11a3240a9",
       "value": 541
      }
     },
     "867f405c2bef4b15afd7a706da5a1394": {
      "model_module": "@jupyter-widgets/base",
      "model_module_version": "1.2.0",
      "model_name": "LayoutModel",
      "state": {
       "display": "inline-flex",
       "flex_flow": "row wrap",
       "width": "100%"
      }
     },
     "86977fca791e479baa11fd2196cf81ef": {
      "model_module": "@jupyter-widgets/base",
      "model_module_version": "1.2.0",
      "model_name": "LayoutModel",
      "state": {}
     },
     "873f7c74518a49d69acb4dd8b51a7e2b": {
      "model_module": "@jupyter-widgets/base",
      "model_module_version": "1.2.0",
      "model_name": "LayoutModel",
      "state": {
       "flex": "2"
      }
     },
     "87b573bbb0434d87a3a11babff125b23": {
      "model_module": "@jupyter-widgets/controls",
      "model_module_version": "1.5.0",
      "model_name": "DescriptionStyleModel",
      "state": {
       "description_width": ""
      }
     },
     "87b5c195f2ff48a6b499c85967d84aec": {
      "model_module": "@jupyter-widgets/controls",
      "model_module_version": "1.5.0",
      "model_name": "DescriptionStyleModel",
      "state": {
       "description_width": ""
      }
     },
     "8812f08a002c4a2592afd33f1d162108": {
      "model_module": "@jupyter-widgets/base",
      "model_module_version": "1.2.0",
      "model_name": "LayoutModel",
      "state": {}
     },
     "89351b506150437f9f3128fd585a53f9": {
      "model_module": "@jupyter-widgets/controls",
      "model_module_version": "1.5.0",
      "model_name": "HTMLModel",
      "state": {
       "layout": "IPY_MODEL_fa3951756cc2476aa1cdd0707074a2d8",
       "style": "IPY_MODEL_07889fba76f14d108afeaf6dac62b691",
       "value": " 550/? [00:01&lt;00:00, 436.22it/s]"
      }
     },
     "896543456def4dd29241d0a4509e3d08": {
      "model_module": "@jupyter-widgets/base",
      "model_module_version": "1.2.0",
      "model_name": "LayoutModel",
      "state": {}
     },
     "8971b938246e4b3f9e656e0ba7193bb3": {
      "model_module": "@jupyter-widgets/controls",
      "model_module_version": "1.5.0",
      "model_name": "HTMLModel",
      "state": {
       "layout": "IPY_MODEL_c57bc71aac8d493e9a31d4890226d371",
       "style": "IPY_MODEL_6b58856e6ec64efc87f02d605545eb69",
       "value": " 550/? [00:01&lt;00:00, 443.63it/s]"
      }
     },
     "89904377af4948fe98e56992a66d54a5": {
      "model_module": "@jupyter-widgets/base",
      "model_module_version": "1.2.0",
      "model_name": "LayoutModel",
      "state": {
       "flex": "2"
      }
     },
     "89b1433fac7f40588c614d2917cb8ef2": {
      "model_module": "@jupyter-widgets/controls",
      "model_module_version": "1.5.0",
      "model_name": "FloatProgressModel",
      "state": {
       "description": "Validating: ",
       "layout": "IPY_MODEL_e52d3146f70c4404acadf2d2f5cd1e46",
       "max": 541,
       "style": "IPY_MODEL_3d18c14ae033435188fae7ed342a6357",
       "value": 541
      }
     },
     "8a429ac5f52141adb6a7d3679d842a45": {
      "model_module": "@jupyter-widgets/base",
      "model_module_version": "1.2.0",
      "model_name": "LayoutModel",
      "state": {
       "flex": "2"
      }
     },
     "8a980ad1aea148b5aff83f599d397cfb": {
      "model_module": "@jupyter-widgets/base",
      "model_module_version": "1.2.0",
      "model_name": "LayoutModel",
      "state": {
       "flex": "2"
      }
     },
     "8b846e0312ac494a9206a79d39d4d770": {
      "model_module": "@jupyter-widgets/base",
      "model_module_version": "1.2.0",
      "model_name": "LayoutModel",
      "state": {}
     },
     "8c07ba8e6c184b188856f6e11d071aa2": {
      "model_module": "@jupyter-widgets/base",
      "model_module_version": "1.2.0",
      "model_name": "LayoutModel",
      "state": {}
     },
     "8c277ca5f1c446e98f26759218353f0d": {
      "model_module": "@jupyter-widgets/controls",
      "model_module_version": "1.5.0",
      "model_name": "ProgressStyleModel",
      "state": {
       "description_width": "initial"
      }
     },
     "8d0a7f271feb46cba8ce1b242a070055": {
      "model_module": "@jupyter-widgets/base",
      "model_module_version": "1.2.0",
      "model_name": "LayoutModel",
      "state": {}
     },
     "8e298b98195c4120ab1f0e7b52d4f975": {
      "model_module": "@jupyter-widgets/controls",
      "model_module_version": "1.5.0",
      "model_name": "ProgressStyleModel",
      "state": {
       "description_width": "initial"
      }
     },
     "8e44c2a44b734097b9aa664915d7e95b": {
      "model_module": "@jupyter-widgets/controls",
      "model_module_version": "1.5.0",
      "model_name": "HTMLModel",
      "state": {
       "layout": "IPY_MODEL_67500df0cd9047e4a8e5fd1d8a978456",
       "style": "IPY_MODEL_87b573bbb0434d87a3a11babff125b23",
       "value": " 550/? [00:01&lt;00:00, 359.57it/s]"
      }
     },
     "8e6441274a1043a4b0e92c0071ccafe5": {
      "model_module": "@jupyter-widgets/base",
      "model_module_version": "1.2.0",
      "model_name": "LayoutModel",
      "state": {
       "display": "inline-flex",
       "flex_flow": "row wrap",
       "width": "100%"
      }
     },
     "8fd0e569314a471ba3542912f290c1b0": {
      "model_module": "@jupyter-widgets/controls",
      "model_module_version": "1.5.0",
      "model_name": "HTMLModel",
      "state": {
       "layout": "IPY_MODEL_f82ba1f1f46346c18f1232ff43d089e7",
       "style": "IPY_MODEL_7a0b907c46b84bd48f47892be7d282d2",
       "value": " 550/? [00:01&lt;00:00, 473.57it/s]"
      }
     },
     "8ffa9a34ab2440199818191843c2e14a": {
      "model_module": "@jupyter-widgets/base",
      "model_module_version": "1.2.0",
      "model_name": "LayoutModel",
      "state": {}
     },
     "907d255db9e6459589ff1522be75e575": {
      "model_module": "@jupyter-widgets/controls",
      "model_module_version": "1.5.0",
      "model_name": "ProgressStyleModel",
      "state": {
       "description_width": "initial"
      }
     },
     "90fdbea0eb8f46b7be1e5c57b08ee814": {
      "model_module": "@jupyter-widgets/controls",
      "model_module_version": "1.5.0",
      "model_name": "DescriptionStyleModel",
      "state": {
       "description_width": ""
      }
     },
     "917612b249154efa945c9bf19f0b2c11": {
      "model_module": "@jupyter-widgets/base",
      "model_module_version": "1.2.0",
      "model_name": "LayoutModel",
      "state": {
       "flex": "2"
      }
     },
     "9184eb58d5164be99ffab4ed66d72b18": {
      "model_module": "@jupyter-widgets/base",
      "model_module_version": "1.2.0",
      "model_name": "LayoutModel",
      "state": {
       "flex": "2"
      }
     },
     "91bf0251246f41678c0fa2fbfd6d0c8e": {
      "model_module": "@jupyter-widgets/controls",
      "model_module_version": "1.5.0",
      "model_name": "ProgressStyleModel",
      "state": {
       "description_width": "initial"
      }
     },
     "91dc9c6161e646a39e0d25814107cc81": {
      "model_module": "@jupyter-widgets/controls",
      "model_module_version": "1.5.0",
      "model_name": "DescriptionStyleModel",
      "state": {
       "description_width": ""
      }
     },
     "91f4bb97efb44347a394f18072341297": {
      "model_module": "@jupyter-widgets/base",
      "model_module_version": "1.2.0",
      "model_name": "LayoutModel",
      "state": {
       "flex": "2"
      }
     },
     "921e2bd39c7441d19f9610f65692d7c3": {
      "model_module": "@jupyter-widgets/base",
      "model_module_version": "1.2.0",
      "model_name": "LayoutModel",
      "state": {
       "display": "inline-flex",
       "flex_flow": "row wrap",
       "width": "100%"
      }
     },
     "921e3d5ee40a441aad834bfb8e92a4b1": {
      "model_module": "@jupyter-widgets/base",
      "model_module_version": "1.2.0",
      "model_name": "LayoutModel",
      "state": {
       "flex": "2"
      }
     },
     "92546127327e40cca145d643e1cad9f2": {
      "model_module": "@jupyter-widgets/controls",
      "model_module_version": "1.5.0",
      "model_name": "DescriptionStyleModel",
      "state": {
       "description_width": ""
      }
     },
     "92ff2edce39c46069408783894971e15": {
      "model_module": "@jupyter-widgets/controls",
      "model_module_version": "1.5.0",
      "model_name": "ProgressStyleModel",
      "state": {
       "description_width": "initial"
      }
     },
     "93651e3be1e54dd9a3a5bb453db8360a": {
      "model_module": "@jupyter-widgets/base",
      "model_module_version": "1.2.0",
      "model_name": "LayoutModel",
      "state": {
       "flex": "2"
      }
     },
     "93e56e23df2b4b6d91733046a6026cfb": {
      "model_module": "@jupyter-widgets/controls",
      "model_module_version": "1.5.0",
      "model_name": "ProgressStyleModel",
      "state": {
       "description_width": "initial"
      }
     },
     "945d3d3473344a71ac87f1756f4c7453": {
      "model_module": "@jupyter-widgets/controls",
      "model_module_version": "1.5.0",
      "model_name": "FloatProgressModel",
      "state": {
       "description": "Validating: ",
       "layout": "IPY_MODEL_5a336e49b1d64519a3756b03057186b1",
       "max": 541,
       "style": "IPY_MODEL_26e9d5bce64145b186246eaf1e374c68",
       "value": 541
      }
     },
     "945d8dfddcf7490e8ef5ded61c947021": {
      "model_module": "@jupyter-widgets/controls",
      "model_module_version": "1.5.0",
      "model_name": "HTMLModel",
      "state": {
       "layout": "IPY_MODEL_86977fca791e479baa11fd2196cf81ef",
       "style": "IPY_MODEL_6b2850e5d94549b087605c7d0fb4f22f",
       "value": " 550/? [00:01&lt;00:00, 408.19it/s]"
      }
     },
     "949693c56c93494f95aae948b05b4304": {
      "model_module": "@jupyter-widgets/base",
      "model_module_version": "1.2.0",
      "model_name": "LayoutModel",
      "state": {
       "flex": "2"
      }
     },
     "95c8afea63ef4cdab780beb4cefffd07": {
      "model_module": "@jupyter-widgets/controls",
      "model_module_version": "1.5.0",
      "model_name": "FloatProgressModel",
      "state": {
       "description": "Validating: ",
       "layout": "IPY_MODEL_db1a00dd11dd4f7c98fcb505d35c7e84",
       "max": 541,
       "style": "IPY_MODEL_bf89928b42654958b50ce6374fb13c11",
       "value": 541
      }
     },
     "9611b4500fd54de28cd37735cbceb0b2": {
      "model_module": "@jupyter-widgets/controls",
      "model_module_version": "1.5.0",
      "model_name": "ProgressStyleModel",
      "state": {
       "description_width": "initial"
      }
     },
     "96769caf4fee4bb883ba408f6fec84ea": {
      "model_module": "@jupyter-widgets/controls",
      "model_module_version": "1.5.0",
      "model_name": "DescriptionStyleModel",
      "state": {
       "description_width": ""
      }
     },
     "971f9db6b240419aafd1471eb8e939c4": {
      "model_module": "@jupyter-widgets/controls",
      "model_module_version": "1.5.0",
      "model_name": "FloatProgressModel",
      "state": {
       "description": "Validating: ",
       "layout": "IPY_MODEL_7751915077344eb1bc7662c4ed08240f",
       "max": 541,
       "style": "IPY_MODEL_722a6e13fa66402ca53a5abdc8b205ed",
       "value": 541
      }
     },
     "9779daea00cb415ea0be061228e416c7": {
      "model_module": "@jupyter-widgets/controls",
      "model_module_version": "1.5.0",
      "model_name": "ProgressStyleModel",
      "state": {
       "description_width": "initial"
      }
     },
     "97895091c6f3494480704243ff0eaa50": {
      "model_module": "@jupyter-widgets/base",
      "model_module_version": "1.2.0",
      "model_name": "LayoutModel",
      "state": {}
     },
     "97a6e764330c480198401b86f5cb8a22": {
      "model_module": "@jupyter-widgets/controls",
      "model_module_version": "1.5.0",
      "model_name": "DescriptionStyleModel",
      "state": {
       "description_width": ""
      }
     },
     "97bb112b005243418954b5219333b45c": {
      "model_module": "@jupyter-widgets/base",
      "model_module_version": "1.2.0",
      "model_name": "LayoutModel",
      "state": {
       "display": "inline-flex",
       "flex_flow": "row wrap",
       "width": "100%"
      }
     },
     "97cc72123bf5401c919859ce918d87f2": {
      "model_module": "@jupyter-widgets/controls",
      "model_module_version": "1.5.0",
      "model_name": "ProgressStyleModel",
      "state": {
       "description_width": "initial"
      }
     },
     "982794666e20497c864cd5388ce87488": {
      "model_module": "@jupyter-widgets/base",
      "model_module_version": "1.2.0",
      "model_name": "LayoutModel",
      "state": {
       "display": "inline-flex",
       "flex_flow": "row wrap",
       "width": "100%"
      }
     },
     "98a4a9c80ec24a769a9eb4c881433cd4": {
      "model_module": "@jupyter-widgets/controls",
      "model_module_version": "1.5.0",
      "model_name": "DescriptionStyleModel",
      "state": {
       "description_width": ""
      }
     },
     "99daaee7bece4d13b27f6911855d3941": {
      "model_module": "@jupyter-widgets/controls",
      "model_module_version": "1.5.0",
      "model_name": "FloatProgressModel",
      "state": {
       "description": "Validating: ",
       "layout": "IPY_MODEL_921e3d5ee40a441aad834bfb8e92a4b1",
       "max": 541,
       "style": "IPY_MODEL_bb72140ce399492cb404b681e9ce8912",
       "value": 541
      }
     },
     "9a3b1b3e91274f8796229fd0a06e1ae8": {
      "model_module": "@jupyter-widgets/controls",
      "model_module_version": "1.5.0",
      "model_name": "HTMLModel",
      "state": {
       "layout": "IPY_MODEL_cb5404f3955f4b12b86851ff215925a6",
       "style": "IPY_MODEL_b828f6e134134e05be15ab94a1c8e458",
       "value": " 550/? [00:01&lt;00:00, 439.37it/s]"
      }
     },
     "9ab7e68605364d3bace8f46dbf21bfe0": {
      "model_module": "@jupyter-widgets/base",
      "model_module_version": "1.2.0",
      "model_name": "LayoutModel",
      "state": {
       "display": "inline-flex",
       "flex_flow": "row wrap",
       "width": "100%"
      }
     },
     "9b0667e75dda45b89d104cb48af76ee8": {
      "model_module": "@jupyter-widgets/controls",
      "model_module_version": "1.5.0",
      "model_name": "HTMLModel",
      "state": {
       "layout": "IPY_MODEL_c36d9df445ca4f229d169552d2448e36",
       "style": "IPY_MODEL_6ec63b11af1b4e38a3f2bd04b4620c5a",
       "value": " 550/? [00:01&lt;00:00, 432.30it/s]"
      }
     },
     "9b6f3d66d9f14c0193b0520e9f018ba7": {
      "model_module": "@jupyter-widgets/base",
      "model_module_version": "1.2.0",
      "model_name": "LayoutModel",
      "state": {
       "display": "inline-flex",
       "flex_flow": "row wrap",
       "width": "100%"
      }
     },
     "9b70ca899de3454eb6851ad94aadb541": {
      "model_module": "@jupyter-widgets/base",
      "model_module_version": "1.2.0",
      "model_name": "LayoutModel",
      "state": {
       "display": "inline-flex",
       "flex_flow": "row wrap",
       "width": "100%"
      }
     },
     "9c1b073be7bf4e62a7d6d19f35e24181": {
      "model_module": "@jupyter-widgets/controls",
      "model_module_version": "1.5.0",
      "model_name": "ProgressStyleModel",
      "state": {
       "description_width": "initial"
      }
     },
     "9c5c2e17b7cd4f73960575b4ab84c477": {
      "model_module": "@jupyter-widgets/controls",
      "model_module_version": "1.5.0",
      "model_name": "ProgressStyleModel",
      "state": {
       "description_width": "initial"
      }
     },
     "9c994eb069ce423e8636e17f63d012e6": {
      "model_module": "@jupyter-widgets/base",
      "model_module_version": "1.2.0",
      "model_name": "LayoutModel",
      "state": {
       "display": "inline-flex",
       "flex_flow": "row wrap",
       "width": "100%"
      }
     },
     "9ca380e210e6424a8ae4f97ec748e531": {
      "model_module": "@jupyter-widgets/base",
      "model_module_version": "1.2.0",
      "model_name": "LayoutModel",
      "state": {
       "display": "inline-flex",
       "flex_flow": "row wrap",
       "width": "100%"
      }
     },
     "9ca6d4a62c4e460ba7a168db08401b05": {
      "model_module": "@jupyter-widgets/base",
      "model_module_version": "1.2.0",
      "model_name": "LayoutModel",
      "state": {}
     },
     "9ccc2384eaea4a5984596449c89f6345": {
      "model_module": "@jupyter-widgets/base",
      "model_module_version": "1.2.0",
      "model_name": "LayoutModel",
      "state": {
       "flex": "2"
      }
     },
     "9dadd02458c34fecadb56b5b96486813": {
      "model_module": "@jupyter-widgets/controls",
      "model_module_version": "1.5.0",
      "model_name": "HTMLModel",
      "state": {
       "layout": "IPY_MODEL_b5095798f4d444c19efacbee12bcd6dc",
       "style": "IPY_MODEL_3b42cf29844543938d6737cb247c1330",
       "value": " 550/? [00:01&lt;00:00, 405.48it/s]"
      }
     },
     "9e1372ae2e6e4b36a1c6ab5f938162d4": {
      "model_module": "@jupyter-widgets/controls",
      "model_module_version": "1.5.0",
      "model_name": "DescriptionStyleModel",
      "state": {
       "description_width": ""
      }
     },
     "9eea764671b74b469bed8267e402e7c6": {
      "model_module": "@jupyter-widgets/controls",
      "model_module_version": "1.5.0",
      "model_name": "HBoxModel",
      "state": {
       "children": [
        "IPY_MODEL_0d8afa9d00494450a937a270453f357f",
        "IPY_MODEL_6c51c0e50bac4bdcbb0b668517926aca"
       ],
       "layout": "IPY_MODEL_867f405c2bef4b15afd7a706da5a1394"
      }
     },
     "9f07beabc4564ee48c786dbfca7ae731": {
      "model_module": "@jupyter-widgets/controls",
      "model_module_version": "1.5.0",
      "model_name": "FloatProgressModel",
      "state": {
       "description": "Validating: ",
       "layout": "IPY_MODEL_716e028fa4214e89afbfd15b271d57b6",
       "max": 541,
       "style": "IPY_MODEL_c99245b0a01443afab6832a378310303",
       "value": 541
      }
     },
     "9f305d62b14544ca969eb7e35fd4a98c": {
      "model_module": "@jupyter-widgets/controls",
      "model_module_version": "1.5.0",
      "model_name": "FloatProgressModel",
      "state": {
       "description": "Validating: ",
       "layout": "IPY_MODEL_5259889612954218876745c12ecd9850",
       "max": 541,
       "style": "IPY_MODEL_07002f1f764f4ba895a28a4d6afbc49b",
       "value": 541
      }
     },
     "9fdad84d49014846813fd596a6f26373": {
      "model_module": "@jupyter-widgets/base",
      "model_module_version": "1.2.0",
      "model_name": "LayoutModel",
      "state": {
       "display": "inline-flex",
       "flex_flow": "row wrap",
       "width": "100%"
      }
     },
     "a02fc8c835594e89af839972fc2cd3c4": {
      "model_module": "@jupyter-widgets/base",
      "model_module_version": "1.2.0",
      "model_name": "LayoutModel",
      "state": {
       "flex": "2"
      }
     },
     "a0b8e07189114c76b0adfd8e7e1be00f": {
      "model_module": "@jupyter-widgets/controls",
      "model_module_version": "1.5.0",
      "model_name": "HTMLModel",
      "state": {
       "layout": "IPY_MODEL_c375e4400a5649f49dfcf24bb2deda40",
       "style": "IPY_MODEL_ed9dc6fd3d804a0d8137a780a3c1931a",
       "value": " 550/? [00:01&lt;00:00, 449.65it/s]"
      }
     },
     "a0c844a34322471d9d75399320f540b9": {
      "model_module": "@jupyter-widgets/base",
      "model_module_version": "1.2.0",
      "model_name": "LayoutModel",
      "state": {
       "display": "inline-flex",
       "flex_flow": "row wrap",
       "width": "100%"
      }
     },
     "a0ecf94a0a1249a2a553e158e4c619b1": {
      "model_module": "@jupyter-widgets/base",
      "model_module_version": "1.2.0",
      "model_name": "LayoutModel",
      "state": {
       "display": "inline-flex",
       "flex_flow": "row wrap",
       "width": "100%"
      }
     },
     "a12487c77db5465b90872de90dbac684": {
      "model_module": "@jupyter-widgets/base",
      "model_module_version": "1.2.0",
      "model_name": "LayoutModel",
      "state": {
       "flex": "2"
      }
     },
     "a19e00860615440b8a968914d33d01e4": {
      "model_module": "@jupyter-widgets/base",
      "model_module_version": "1.2.0",
      "model_name": "LayoutModel",
      "state": {
       "flex": "2"
      }
     },
     "a1c7ead401ad442ab5a8c657ee676f59": {
      "model_module": "@jupyter-widgets/controls",
      "model_module_version": "1.5.0",
      "model_name": "FloatProgressModel",
      "state": {
       "description": "Validating: ",
       "layout": "IPY_MODEL_6d8d00fa9d5a4936b9c67bc531462651",
       "max": 541,
       "style": "IPY_MODEL_7c60443d1afb479cb09b0649cc8d4a52",
       "value": 541
      }
     },
     "a244cae6d7694d118c45de942a8bad13": {
      "model_module": "@jupyter-widgets/base",
      "model_module_version": "1.2.0",
      "model_name": "LayoutModel",
      "state": {
       "display": "inline-flex",
       "flex_flow": "row wrap",
       "width": "100%"
      }
     },
     "a29ffb4397e64e0f8ecb6831db74fe82": {
      "model_module": "@jupyter-widgets/controls",
      "model_module_version": "1.5.0",
      "model_name": "FloatProgressModel",
      "state": {
       "description": "Validating: ",
       "layout": "IPY_MODEL_3d3af9dd69234306af4f8df2f4627f1e",
       "max": 541,
       "style": "IPY_MODEL_d9b59d907cd742f7bfe8226771424c21",
       "value": 541
      }
     },
     "a2e68e167b184dc98fa5ebc6a5db5f9d": {
      "model_module": "@jupyter-widgets/controls",
      "model_module_version": "1.5.0",
      "model_name": "HTMLModel",
      "state": {
       "layout": "IPY_MODEL_5484ad65d4d945fcaf24fba13bf2fdb7",
       "style": "IPY_MODEL_97a6e764330c480198401b86f5cb8a22",
       "value": " 550/? [00:01&lt;00:00, 426.42it/s]"
      }
     },
     "a38cc727cd06474d86b3ba766981071d": {
      "model_module": "@jupyter-widgets/base",
      "model_module_version": "1.2.0",
      "model_name": "LayoutModel",
      "state": {}
     },
     "a43aaa83b67e492dad29f8eff927b658": {
      "model_module": "@jupyter-widgets/base",
      "model_module_version": "1.2.0",
      "model_name": "LayoutModel",
      "state": {}
     },
     "a522d20953e9426693690b4d78631214": {
      "model_module": "@jupyter-widgets/base",
      "model_module_version": "1.2.0",
      "model_name": "LayoutModel",
      "state": {
       "display": "inline-flex",
       "flex_flow": "row wrap",
       "width": "100%"
      }
     },
     "a5ce47bdd37143a18c82a394fcf547e8": {
      "model_module": "@jupyter-widgets/controls",
      "model_module_version": "1.5.0",
      "model_name": "DescriptionStyleModel",
      "state": {
       "description_width": ""
      }
     },
     "a5e740f3516146cc8e6a08abe7faf60d": {
      "model_module": "@jupyter-widgets/base",
      "model_module_version": "1.2.0",
      "model_name": "LayoutModel",
      "state": {
       "display": "inline-flex",
       "flex_flow": "row wrap",
       "width": "100%"
      }
     },
     "a5f148694cc447e5a5c0b2055eda4285": {
      "model_module": "@jupyter-widgets/controls",
      "model_module_version": "1.5.0",
      "model_name": "DescriptionStyleModel",
      "state": {
       "description_width": ""
      }
     },
     "a60258ce0abc4550ab2e2dff458245c3": {
      "model_module": "@jupyter-widgets/base",
      "model_module_version": "1.2.0",
      "model_name": "LayoutModel",
      "state": {
       "flex": "2"
      }
     },
     "a7025360b0654848b3cdc7150bb62c87": {
      "model_module": "@jupyter-widgets/base",
      "model_module_version": "1.2.0",
      "model_name": "LayoutModel",
      "state": {
       "flex": "2"
      }
     },
     "a70a499cec0448d2a42d4dcf1024d2bb": {
      "model_module": "@jupyter-widgets/controls",
      "model_module_version": "1.5.0",
      "model_name": "HTMLModel",
      "state": {
       "layout": "IPY_MODEL_05bfef13e46f4226ad790ba7d65f30f6",
       "style": "IPY_MODEL_a5f148694cc447e5a5c0b2055eda4285",
       "value": " 550/? [00:01&lt;00:00, 445.19it/s]"
      }
     },
     "a779a0f378714501a6975c7f37b58dad": {
      "model_module": "@jupyter-widgets/base",
      "model_module_version": "1.2.0",
      "model_name": "LayoutModel",
      "state": {
       "display": "inline-flex",
       "flex_flow": "row wrap",
       "width": "100%"
      }
     },
     "a7c91998d7ed402584fe6a4b52f18d25": {
      "model_module": "@jupyter-widgets/base",
      "model_module_version": "1.2.0",
      "model_name": "LayoutModel",
      "state": {
       "display": "inline-flex",
       "flex_flow": "row wrap",
       "width": "100%"
      }
     },
     "a7e4eeb34bb04c569cd15307b1b74f67": {
      "model_module": "@jupyter-widgets/base",
      "model_module_version": "1.2.0",
      "model_name": "LayoutModel",
      "state": {
       "display": "inline-flex",
       "flex_flow": "row wrap",
       "width": "100%"
      }
     },
     "a807ce2431564d36a0826096bb7df310": {
      "model_module": "@jupyter-widgets/base",
      "model_module_version": "1.2.0",
      "model_name": "LayoutModel",
      "state": {}
     },
     "a96e2f710c6148b385cd5327c58ae85a": {
      "model_module": "@jupyter-widgets/base",
      "model_module_version": "1.2.0",
      "model_name": "LayoutModel",
      "state": {}
     },
     "aa92dec3227948589cb22004749f1301": {
      "model_module": "@jupyter-widgets/base",
      "model_module_version": "1.2.0",
      "model_name": "LayoutModel",
      "state": {
       "flex": "2"
      }
     },
     "aad6b8f13bbe49d78368a7040d71e242": {
      "model_module": "@jupyter-widgets/base",
      "model_module_version": "1.2.0",
      "model_name": "LayoutModel",
      "state": {
       "display": "inline-flex",
       "flex_flow": "row wrap",
       "width": "100%"
      }
     },
     "aadb04797acb489b91dba3a3c5d640ea": {
      "model_module": "@jupyter-widgets/controls",
      "model_module_version": "1.5.0",
      "model_name": "FloatProgressModel",
      "state": {
       "description": "Validating: ",
       "layout": "IPY_MODEL_3e8904ea63854966b19fa6bcf899edb9",
       "max": 541,
       "style": "IPY_MODEL_369729c2ef3a4923a7727e38f1c3d53b",
       "value": 541
      }
     },
     "ab014afe666a40a6853e68c8092c5ffc": {
      "model_module": "@jupyter-widgets/controls",
      "model_module_version": "1.5.0",
      "model_name": "HTMLModel",
      "state": {
       "layout": "IPY_MODEL_1724b82a2090445b8ec364afa00c58d4",
       "style": "IPY_MODEL_00a39e49b84049a0b1785f6e69838aff",
       "value": " 550/? [00:01&lt;00:00, 388.89it/s]"
      }
     },
     "ab8b7e3947ed40949f90a343a8119f91": {
      "model_module": "@jupyter-widgets/controls",
      "model_module_version": "1.5.0",
      "model_name": "ProgressStyleModel",
      "state": {
       "description_width": "initial"
      }
     },
     "acbe45fd24db4ba2ace9261c50c02213": {
      "model_module": "@jupyter-widgets/base",
      "model_module_version": "1.2.0",
      "model_name": "LayoutModel",
      "state": {
       "display": "inline-flex",
       "flex_flow": "row wrap",
       "width": "100%"
      }
     },
     "acda974777a1415d99b75f8b78d55684": {
      "model_module": "@jupyter-widgets/controls",
      "model_module_version": "1.5.0",
      "model_name": "DescriptionStyleModel",
      "state": {
       "description_width": ""
      }
     },
     "ad5ac57ee26f4a51ad94d33e57db97e7": {
      "model_module": "@jupyter-widgets/controls",
      "model_module_version": "1.5.0",
      "model_name": "HTMLModel",
      "state": {
       "layout": "IPY_MODEL_a43aaa83b67e492dad29f8eff927b658",
       "style": "IPY_MODEL_592d063eb6794c6cbc3245ef2db10fb4",
       "value": " 550/? [00:01&lt;00:00, 432.85it/s]"
      }
     },
     "adbae14a5624472d970ce1c0cb7e5f24": {
      "model_module": "@jupyter-widgets/base",
      "model_module_version": "1.2.0",
      "model_name": "LayoutModel",
      "state": {
       "display": "inline-flex",
       "flex_flow": "row wrap",
       "width": "100%"
      }
     },
     "adc45d5ad303455794881d883f27aed3": {
      "model_module": "@jupyter-widgets/base",
      "model_module_version": "1.2.0",
      "model_name": "LayoutModel",
      "state": {
       "flex": "2"
      }
     },
     "ae6c6c6775654ffb80eddddbb9ef4550": {
      "model_module": "@jupyter-widgets/controls",
      "model_module_version": "1.5.0",
      "model_name": "ProgressStyleModel",
      "state": {
       "description_width": "initial"
      }
     },
     "aeb67e9e79ba4bddaf3319faa94a9895": {
      "model_module": "@jupyter-widgets/base",
      "model_module_version": "1.2.0",
      "model_name": "LayoutModel",
      "state": {
       "display": "inline-flex",
       "flex_flow": "row wrap",
       "width": "100%"
      }
     },
     "aec295f9cbc140bd92fca638a441fcec": {
      "model_module": "@jupyter-widgets/controls",
      "model_module_version": "1.5.0",
      "model_name": "HTMLModel",
      "state": {
       "layout": "IPY_MODEL_ec95d38895c14cddbf430ebd6355fb95",
       "style": "IPY_MODEL_f6d1d9bd326a41ffa6e3dcfad1bb3572",
       "value": " 550/? [00:01&lt;00:00, 434.97it/s]"
      }
     },
     "af23e8b2521f4a118ee747f23082df80": {
      "model_module": "@jupyter-widgets/controls",
      "model_module_version": "1.5.0",
      "model_name": "DescriptionStyleModel",
      "state": {
       "description_width": ""
      }
     },
     "af4b29ce7fdf4e76a54a0a831d3db55d": {
      "model_module": "@jupyter-widgets/base",
      "model_module_version": "1.2.0",
      "model_name": "LayoutModel",
      "state": {
       "flex": "2"
      }
     },
     "af4c04da349745cc85b70a3fa2a06554": {
      "model_module": "@jupyter-widgets/controls",
      "model_module_version": "1.5.0",
      "model_name": "FloatProgressModel",
      "state": {
       "description": "Validating: ",
       "layout": "IPY_MODEL_7067f312fcbd43468e71a933c0833502",
       "max": 541,
       "style": "IPY_MODEL_05c2618731104d0ba5da0f98c105e8be",
       "value": 541
      }
     },
     "af4e7ef695424eddb2403076b42d2108": {
      "model_module": "@jupyter-widgets/controls",
      "model_module_version": "1.5.0",
      "model_name": "DescriptionStyleModel",
      "state": {
       "description_width": ""
      }
     },
     "afb4ab75ff234c0fb0743fb894c0bd29": {
      "model_module": "@jupyter-widgets/controls",
      "model_module_version": "1.5.0",
      "model_name": "DescriptionStyleModel",
      "state": {
       "description_width": ""
      }
     },
     "b095d32250414c54870f5847607d4d91": {
      "model_module": "@jupyter-widgets/controls",
      "model_module_version": "1.5.0",
      "model_name": "HTMLModel",
      "state": {
       "layout": "IPY_MODEL_1f851d514364499e9f6a12d534582a8d",
       "style": "IPY_MODEL_2ee0891793cc4d1b967d89da53870a56",
       "value": " 550/? [00:01&lt;00:00, 410.31it/s]"
      }
     },
     "b09ade6cf47144fb839cc4f80580c548": {
      "model_module": "@jupyter-widgets/controls",
      "model_module_version": "1.5.0",
      "model_name": "FloatProgressModel",
      "state": {
       "description": "Validating: ",
       "layout": "IPY_MODEL_7b365516ac834d19be179fb702177ab0",
       "max": 541,
       "style": "IPY_MODEL_ae6c6c6775654ffb80eddddbb9ef4550",
       "value": 541
      }
     },
     "b0abcaf57a704ae8b6d3395a4a96f3c3": {
      "model_module": "@jupyter-widgets/controls",
      "model_module_version": "1.5.0",
      "model_name": "DescriptionStyleModel",
      "state": {
       "description_width": ""
      }
     },
     "b1d56eb2e85347e69c2aada29c120e02": {
      "model_module": "@jupyter-widgets/controls",
      "model_module_version": "1.5.0",
      "model_name": "HTMLModel",
      "state": {
       "layout": "IPY_MODEL_7316f6dd0c524eeb97e251b1f39beb15",
       "style": "IPY_MODEL_fcba3cacf6ca48cd8a71145be5e6c01c",
       "value": " 550/? [00:01&lt;00:00, 442.78it/s]"
      }
     },
     "b2bb9201891840cbb3608f0874903775": {
      "model_module": "@jupyter-widgets/base",
      "model_module_version": "1.2.0",
      "model_name": "LayoutModel",
      "state": {
       "flex": "2"
      }
     },
     "b36ec0096a2144668ec6d5ffd2a50751": {
      "model_module": "@jupyter-widgets/base",
      "model_module_version": "1.2.0",
      "model_name": "LayoutModel",
      "state": {}
     },
     "b37d4fc1e8404f0d914e17eb7d96484c": {
      "model_module": "@jupyter-widgets/base",
      "model_module_version": "1.2.0",
      "model_name": "LayoutModel",
      "state": {
       "display": "inline-flex",
       "flex_flow": "row wrap",
       "width": "100%"
      }
     },
     "b3a605ce7f9b4ae3b9291ae106a979d9": {
      "model_module": "@jupyter-widgets/controls",
      "model_module_version": "1.5.0",
      "model_name": "FloatProgressModel",
      "state": {
       "description": "Validating: ",
       "layout": "IPY_MODEL_c88e4d16ddf9490f986f02fcdf673a33",
       "max": 541,
       "style": "IPY_MODEL_e4c1b8f8d6a94e14b614730f19d48f96",
       "value": 541
      }
     },
     "b47c4af0828e444ea44ae6f9d7de3291": {
      "model_module": "@jupyter-widgets/base",
      "model_module_version": "1.2.0",
      "model_name": "LayoutModel",
      "state": {
       "display": "inline-flex",
       "flex_flow": "row wrap",
       "width": "100%"
      }
     },
     "b4eaeca72e48492a95984b6ff76a913b": {
      "model_module": "@jupyter-widgets/controls",
      "model_module_version": "1.5.0",
      "model_name": "FloatProgressModel",
      "state": {
       "description": "Validating: ",
       "layout": "IPY_MODEL_ca74c525da4340a9a3acda2f15f85c0a",
       "max": 541,
       "style": "IPY_MODEL_f39986df147d431caceab097ddc520a4",
       "value": 541
      }
     },
     "b5095798f4d444c19efacbee12bcd6dc": {
      "model_module": "@jupyter-widgets/base",
      "model_module_version": "1.2.0",
      "model_name": "LayoutModel",
      "state": {}
     },
     "b585aa2da3154f6d8f5f75748a585a09": {
      "model_module": "@jupyter-widgets/base",
      "model_module_version": "1.2.0",
      "model_name": "LayoutModel",
      "state": {
       "display": "inline-flex",
       "flex_flow": "row wrap",
       "width": "100%"
      }
     },
     "b5cf71b2210343718214c33415b3b9cc": {
      "model_module": "@jupyter-widgets/controls",
      "model_module_version": "1.5.0",
      "model_name": "ProgressStyleModel",
      "state": {
       "description_width": "initial"
      }
     },
     "b7181de28e7e42faaa5bc0774efc6cc4": {
      "model_module": "@jupyter-widgets/base",
      "model_module_version": "1.2.0",
      "model_name": "LayoutModel",
      "state": {}
     },
     "b7683748fc2c437d84065f139557ca39": {
      "model_module": "@jupyter-widgets/base",
      "model_module_version": "1.2.0",
      "model_name": "LayoutModel",
      "state": {
       "display": "inline-flex",
       "flex_flow": "row wrap",
       "width": "100%"
      }
     },
     "b828f6e134134e05be15ab94a1c8e458": {
      "model_module": "@jupyter-widgets/controls",
      "model_module_version": "1.5.0",
      "model_name": "DescriptionStyleModel",
      "state": {
       "description_width": ""
      }
     },
     "b8cc23c549bd4da58002fb50ec6ec7dd": {
      "model_module": "@jupyter-widgets/controls",
      "model_module_version": "1.5.0",
      "model_name": "FloatProgressModel",
      "state": {
       "description": "Validating: ",
       "layout": "IPY_MODEL_1e7eb7a0fcfd4ef0a368a9e17959b2aa",
       "max": 541,
       "style": "IPY_MODEL_d908106ad27544ab8960e0ee20da7635",
       "value": 541
      }
     },
     "b96bf420d97f465380d98cdb92098e95": {
      "model_module": "@jupyter-widgets/base",
      "model_module_version": "1.2.0",
      "model_name": "LayoutModel",
      "state": {
       "flex": "2"
      }
     },
     "b981c17017714e5fa4da7a1a3acfa90d": {
      "model_module": "@jupyter-widgets/controls",
      "model_module_version": "1.5.0",
      "model_name": "ProgressStyleModel",
      "state": {
       "description_width": "initial"
      }
     },
     "ba3f6d24286e4f51be0c257419814504": {
      "model_module": "@jupyter-widgets/controls",
      "model_module_version": "1.5.0",
      "model_name": "DescriptionStyleModel",
      "state": {
       "description_width": ""
      }
     },
     "ba75e32af8964732bdaf89f73319a240": {
      "model_module": "@jupyter-widgets/base",
      "model_module_version": "1.2.0",
      "model_name": "LayoutModel",
      "state": {
       "flex": "2"
      }
     },
     "bb0d99ce8715461bba26ad5cf55931fb": {
      "model_module": "@jupyter-widgets/base",
      "model_module_version": "1.2.0",
      "model_name": "LayoutModel",
      "state": {
       "display": "inline-flex",
       "flex_flow": "row wrap",
       "width": "100%"
      }
     },
     "bb0e4eeac0d349499bf69e24804ba4f8": {
      "model_module": "@jupyter-widgets/controls",
      "model_module_version": "1.5.0",
      "model_name": "HTMLModel",
      "state": {
       "layout": "IPY_MODEL_763c5190ebfd4631a85c4022739d9383",
       "style": "IPY_MODEL_71685bfe49cd42f6be0297adffdf4df9",
       "value": " 550/? [00:01&lt;00:00, 439.66it/s]"
      }
     },
     "bb72140ce399492cb404b681e9ce8912": {
      "model_module": "@jupyter-widgets/controls",
      "model_module_version": "1.5.0",
      "model_name": "ProgressStyleModel",
      "state": {
       "description_width": "initial"
      }
     },
     "bb7532cfa30a4eea89fd6428e1d2d8b6": {
      "model_module": "@jupyter-widgets/base",
      "model_module_version": "1.2.0",
      "model_name": "LayoutModel",
      "state": {}
     },
     "bc13e41e63d14290999f686da1469f36": {
      "model_module": "@jupyter-widgets/controls",
      "model_module_version": "1.5.0",
      "model_name": "HTMLModel",
      "state": {
       "layout": "IPY_MODEL_4f8e6913e4ed4d438b64a56efe381631",
       "style": "IPY_MODEL_c2b5766529b14203a6c0f5aad430e0a8",
       "value": " 550/? [00:01&lt;00:00, 419.83it/s]"
      }
     },
     "bc64485e210f41689e8c33352a6d38ec": {
      "model_module": "@jupyter-widgets/base",
      "model_module_version": "1.2.0",
      "model_name": "LayoutModel",
      "state": {
       "flex": "2"
      }
     },
     "bd0cc3fd076942b49cb7d65ff486e330": {
      "model_module": "@jupyter-widgets/base",
      "model_module_version": "1.2.0",
      "model_name": "LayoutModel",
      "state": {}
     },
     "bebfeb62efc0455b9de26f406d9ee143": {
      "model_module": "@jupyter-widgets/base",
      "model_module_version": "1.2.0",
      "model_name": "LayoutModel",
      "state": {
       "flex": "2"
      }
     },
     "bf2e1e0f3bb747fb8f417c9321b07820": {
      "model_module": "@jupyter-widgets/controls",
      "model_module_version": "1.5.0",
      "model_name": "HTMLModel",
      "state": {
       "layout": "IPY_MODEL_5f17039ffa314b64a3044b23bcd75acb",
       "style": "IPY_MODEL_b0abcaf57a704ae8b6d3395a4a96f3c3",
       "value": " 550/? [00:01&lt;00:00, 464.23it/s]"
      }
     },
     "bf5104eaf09b4434a927e69eebaf1367": {
      "model_module": "@jupyter-widgets/controls",
      "model_module_version": "1.5.0",
      "model_name": "FloatProgressModel",
      "state": {
       "description": "Validating: ",
       "layout": "IPY_MODEL_4d0b8250a41e482495d46c5b83658196",
       "max": 541,
       "style": "IPY_MODEL_029db0ff2ed540469fa855f591171688",
       "value": 541
      }
     },
     "bf89928b42654958b50ce6374fb13c11": {
      "model_module": "@jupyter-widgets/controls",
      "model_module_version": "1.5.0",
      "model_name": "ProgressStyleModel",
      "state": {
       "description_width": "initial"
      }
     },
     "bfd8fa9e9ca84c1080c382ea53fc6e0f": {
      "model_module": "@jupyter-widgets/controls",
      "model_module_version": "1.5.0",
      "model_name": "HTMLModel",
      "state": {
       "layout": "IPY_MODEL_345ada3089bf402692a8d1f557a0d152",
       "style": "IPY_MODEL_af23e8b2521f4a118ee747f23082df80",
       "value": " 550/? [00:01&lt;00:00, 397.37it/s]"
      }
     },
     "c046c4ac30ee4c97916809cbefe20e5a": {
      "model_module": "@jupyter-widgets/controls",
      "model_module_version": "1.5.0",
      "model_name": "HTMLModel",
      "state": {
       "layout": "IPY_MODEL_c9a008cae72346ed82e91b1e8b36878b",
       "style": "IPY_MODEL_05784ed060204d2bb8946665651ef220",
       "value": " 550/? [00:01&lt;00:00, 433.34it/s]"
      }
     },
     "c064711015ea4fa0810a2255c33b46e0": {
      "model_module": "@jupyter-widgets/controls",
      "model_module_version": "1.5.0",
      "model_name": "ProgressStyleModel",
      "state": {
       "description_width": "initial"
      }
     },
     "c19b88dc49ba43df8faf7e12668c79b1": {
      "model_module": "@jupyter-widgets/base",
      "model_module_version": "1.2.0",
      "model_name": "LayoutModel",
      "state": {
       "display": "inline-flex",
       "flex_flow": "row wrap",
       "width": "100%"
      }
     },
     "c22712a59cdf4af79e6e9c0320b11e0b": {
      "model_module": "@jupyter-widgets/controls",
      "model_module_version": "1.5.0",
      "model_name": "HTMLModel",
      "state": {
       "layout": "IPY_MODEL_78cd946205fa42d0a6feb985c370d7d4",
       "style": "IPY_MODEL_63e1e6e094b54919b685697a773f6137",
       "value": " 550/? [00:01&lt;00:00, 424.58it/s]"
      }
     },
     "c27083f3ad5e4450a3bd33c0ee30fac4": {
      "model_module": "@jupyter-widgets/controls",
      "model_module_version": "1.5.0",
      "model_name": "FloatProgressModel",
      "state": {
       "description": "Validating: ",
       "layout": "IPY_MODEL_949693c56c93494f95aae948b05b4304",
       "max": 541,
       "style": "IPY_MODEL_cc31a7f01922484bb0105f138436a6d6",
       "value": 541
      }
     },
     "c2b5766529b14203a6c0f5aad430e0a8": {
      "model_module": "@jupyter-widgets/controls",
      "model_module_version": "1.5.0",
      "model_name": "DescriptionStyleModel",
      "state": {
       "description_width": ""
      }
     },
     "c2c5249a4fc44a2eba7e2b757f88326b": {
      "model_module": "@jupyter-widgets/controls",
      "model_module_version": "1.5.0",
      "model_name": "ProgressStyleModel",
      "state": {
       "description_width": "initial"
      }
     },
     "c2e8a7c8948043b0ad1bf1dac6bab547": {
      "model_module": "@jupyter-widgets/base",
      "model_module_version": "1.2.0",
      "model_name": "LayoutModel",
      "state": {
       "display": "inline-flex",
       "flex_flow": "row wrap",
       "width": "100%"
      }
     },
     "c2ec0f8dd87d4ab5ae6515ccaa06ef22": {
      "model_module": "@jupyter-widgets/base",
      "model_module_version": "1.2.0",
      "model_name": "LayoutModel",
      "state": {}
     },
     "c2f8216b5beb41049fff9529a458b0d5": {
      "model_module": "@jupyter-widgets/controls",
      "model_module_version": "1.5.0",
      "model_name": "FloatProgressModel",
      "state": {
       "description": "Validating: ",
       "layout": "IPY_MODEL_71d97058733f49039fffeebbfdc42fb0",
       "max": 541,
       "style": "IPY_MODEL_97cc72123bf5401c919859ce918d87f2",
       "value": 541
      }
     },
     "c31b2d8ff3574876b851d9a05e33d374": {
      "model_module": "@jupyter-widgets/controls",
      "model_module_version": "1.5.0",
      "model_name": "FloatProgressModel",
      "state": {
       "description": "Validating: ",
       "layout": "IPY_MODEL_75e01cdf26684488b6256dbabd0aba5e",
       "max": 541,
       "style": "IPY_MODEL_8e298b98195c4120ab1f0e7b52d4f975",
       "value": 541
      }
     },
     "c36d9df445ca4f229d169552d2448e36": {
      "model_module": "@jupyter-widgets/base",
      "model_module_version": "1.2.0",
      "model_name": "LayoutModel",
      "state": {}
     },
     "c375915cdb424287a5f4f2ef7b7f6a22": {
      "model_module": "@jupyter-widgets/base",
      "model_module_version": "1.2.0",
      "model_name": "LayoutModel",
      "state": {
       "flex": "2"
      }
     },
     "c375e4400a5649f49dfcf24bb2deda40": {
      "model_module": "@jupyter-widgets/base",
      "model_module_version": "1.2.0",
      "model_name": "LayoutModel",
      "state": {}
     },
     "c423ba89b89f426ca7b8613d7c02c2a9": {
      "model_module": "@jupyter-widgets/controls",
      "model_module_version": "1.5.0",
      "model_name": "DescriptionStyleModel",
      "state": {
       "description_width": ""
      }
     },
     "c47adf47464c47a3835208dca986bc13": {
      "model_module": "@jupyter-widgets/controls",
      "model_module_version": "1.5.0",
      "model_name": "HTMLModel",
      "state": {
       "layout": "IPY_MODEL_39b3a6c5dfb847d895459a0fcaba7400",
       "style": "IPY_MODEL_5d17f895435543b7be2e0d43605b5336",
       "value": " 550/? [00:01&lt;00:00, 468.25it/s]"
      }
     },
     "c4e60facea274499bdf6065a8a837a0c": {
      "model_module": "@jupyter-widgets/base",
      "model_module_version": "1.2.0",
      "model_name": "LayoutModel",
      "state": {
       "flex": "2"
      }
     },
     "c4f79a05381748cda87d95286bf6a289": {
      "model_module": "@jupyter-widgets/controls",
      "model_module_version": "1.5.0",
      "model_name": "ProgressStyleModel",
      "state": {
       "description_width": "initial"
      }
     },
     "c547cb587a1b46c784992038c85ab79f": {
      "model_module": "@jupyter-widgets/base",
      "model_module_version": "1.2.0",
      "model_name": "LayoutModel",
      "state": {
       "flex": "2"
      }
     },
     "c57bc71aac8d493e9a31d4890226d371": {
      "model_module": "@jupyter-widgets/base",
      "model_module_version": "1.2.0",
      "model_name": "LayoutModel",
      "state": {}
     },
     "c5888391bb6f4a3a9a5a2e3cae46f414": {
      "model_module": "@jupyter-widgets/base",
      "model_module_version": "1.2.0",
      "model_name": "LayoutModel",
      "state": {
       "flex": "2"
      }
     },
     "c5b7febb880c4aa39faf56e969665870": {
      "model_module": "@jupyter-widgets/base",
      "model_module_version": "1.2.0",
      "model_name": "LayoutModel",
      "state": {
       "display": "inline-flex",
       "flex_flow": "row wrap",
       "width": "100%"
      }
     },
     "c5cc038d86ad45e7b110901a58ea3076": {
      "model_module": "@jupyter-widgets/controls",
      "model_module_version": "1.5.0",
      "model_name": "HTMLModel",
      "state": {
       "layout": "IPY_MODEL_62f132d382fe456c9410e04c8078056e",
       "style": "IPY_MODEL_63c69032d0a74f77869343dbc203e584",
       "value": " 550/? [00:01&lt;00:00, 473.19it/s]"
      }
     },
     "c5de433f7a9a449dba511446df296d42": {
      "model_module": "@jupyter-widgets/base",
      "model_module_version": "1.2.0",
      "model_name": "LayoutModel",
      "state": {
       "display": "inline-flex",
       "flex_flow": "row wrap",
       "width": "100%"
      }
     },
     "c5f1c5a0e0f64443851beefe60152e99": {
      "model_module": "@jupyter-widgets/controls",
      "model_module_version": "1.5.0",
      "model_name": "HTMLModel",
      "state": {
       "layout": "IPY_MODEL_f8953db7e77841b7a96a85811f437ed6",
       "style": "IPY_MODEL_d0d98f2bb0cd42b1ac238d8db227b42f",
       "value": " 550/? [00:01&lt;00:00, 447.43it/s]"
      }
     },
     "c5f3af52eec841eea916f9f56fbaeaf5": {
      "model_module": "@jupyter-widgets/controls",
      "model_module_version": "1.5.0",
      "model_name": "HTMLModel",
      "state": {
       "layout": "IPY_MODEL_8b846e0312ac494a9206a79d39d4d770",
       "style": "IPY_MODEL_398431040fe9497dbed6b2de2879883f",
       "value": " 550/? [00:01&lt;00:00, 417.58it/s]"
      }
     },
     "c6370e78a6eb4e4298c577994104c8d3": {
      "model_module": "@jupyter-widgets/base",
      "model_module_version": "1.2.0",
      "model_name": "LayoutModel",
      "state": {
       "display": "inline-flex",
       "flex_flow": "row wrap",
       "width": "100%"
      }
     },
     "c6c1738f290e4dc08144415126318a2c": {
      "model_module": "@jupyter-widgets/controls",
      "model_module_version": "1.5.0",
      "model_name": "DescriptionStyleModel",
      "state": {
       "description_width": ""
      }
     },
     "c6d687e7b650475c8dd0442a85ebbfd3": {
      "model_module": "@jupyter-widgets/controls",
      "model_module_version": "1.5.0",
      "model_name": "DescriptionStyleModel",
      "state": {
       "description_width": ""
      }
     },
     "c7ca1839985a4426a340590f3a869d9f": {
      "model_module": "@jupyter-widgets/base",
      "model_module_version": "1.2.0",
      "model_name": "LayoutModel",
      "state": {
       "display": "inline-flex",
       "flex_flow": "row wrap",
       "width": "100%"
      }
     },
     "c80aee5a2208404494154fddefe93a69": {
      "model_module": "@jupyter-widgets/controls",
      "model_module_version": "1.5.0",
      "model_name": "DescriptionStyleModel",
      "state": {
       "description_width": ""
      }
     },
     "c817c422993c48b8a23d30e135d9ce6f": {
      "model_module": "@jupyter-widgets/controls",
      "model_module_version": "1.5.0",
      "model_name": "ProgressStyleModel",
      "state": {
       "description_width": "initial"
      }
     },
     "c8567665fc0643c2a0f707ee7d9004da": {
      "model_module": "@jupyter-widgets/base",
      "model_module_version": "1.2.0",
      "model_name": "LayoutModel",
      "state": {}
     },
     "c88e4d16ddf9490f986f02fcdf673a33": {
      "model_module": "@jupyter-widgets/base",
      "model_module_version": "1.2.0",
      "model_name": "LayoutModel",
      "state": {
       "flex": "2"
      }
     },
     "c9127743ebb54fbcae82552f6d5ff9d1": {
      "model_module": "@jupyter-widgets/base",
      "model_module_version": "1.2.0",
      "model_name": "LayoutModel",
      "state": {
       "display": "inline-flex",
       "flex_flow": "row wrap",
       "width": "100%"
      }
     },
     "c9392120675f4115bd14a202518783bc": {
      "model_module": "@jupyter-widgets/controls",
      "model_module_version": "1.5.0",
      "model_name": "DescriptionStyleModel",
      "state": {
       "description_width": ""
      }
     },
     "c95df72f306b46aa922381de1bc867ba": {
      "model_module": "@jupyter-widgets/controls",
      "model_module_version": "1.5.0",
      "model_name": "FloatProgressModel",
      "state": {
       "description": "Validating: ",
       "layout": "IPY_MODEL_1831d16e4edb44a683cd21729cda95a2",
       "max": 541,
       "style": "IPY_MODEL_1b9dee3e335e48d5ae92e60e2f9739f8",
       "value": 541
      }
     },
     "c9662e6713b843aa836780f21c664bcd": {
      "model_module": "@jupyter-widgets/base",
      "model_module_version": "1.2.0",
      "model_name": "LayoutModel",
      "state": {
       "display": "inline-flex",
       "flex_flow": "row wrap",
       "width": "100%"
      }
     },
     "c99245b0a01443afab6832a378310303": {
      "model_module": "@jupyter-widgets/controls",
      "model_module_version": "1.5.0",
      "model_name": "ProgressStyleModel",
      "state": {
       "description_width": "initial"
      }
     },
     "c9a008cae72346ed82e91b1e8b36878b": {
      "model_module": "@jupyter-widgets/base",
      "model_module_version": "1.2.0",
      "model_name": "LayoutModel",
      "state": {}
     },
     "c9acf094ee074a0690d494e35adf0a4b": {
      "model_module": "@jupyter-widgets/controls",
      "model_module_version": "1.5.0",
      "model_name": "FloatProgressModel",
      "state": {
       "description": "Validating: ",
       "layout": "IPY_MODEL_7f46902be5f844a9b30265ac9532b287",
       "max": 541,
       "style": "IPY_MODEL_4e3661337fc24f939e19032a65e19378",
       "value": 541
      }
     },
     "ca5560e0f4374b1e964e11377fb668a1": {
      "model_module": "@jupyter-widgets/controls",
      "model_module_version": "1.5.0",
      "model_name": "HTMLModel",
      "state": {
       "layout": "IPY_MODEL_1be803673ded48a2935cff7473349a66",
       "style": "IPY_MODEL_54518b9ac6da46a1ba438dd5790ffab9",
       "value": " 550/? [00:01&lt;00:00, 410.69it/s]"
      }
     },
     "ca74c525da4340a9a3acda2f15f85c0a": {
      "model_module": "@jupyter-widgets/base",
      "model_module_version": "1.2.0",
      "model_name": "LayoutModel",
      "state": {
       "flex": "2"
      }
     },
     "cb5404f3955f4b12b86851ff215925a6": {
      "model_module": "@jupyter-widgets/base",
      "model_module_version": "1.2.0",
      "model_name": "LayoutModel",
      "state": {}
     },
     "cc31a7f01922484bb0105f138436a6d6": {
      "model_module": "@jupyter-widgets/controls",
      "model_module_version": "1.5.0",
      "model_name": "ProgressStyleModel",
      "state": {
       "description_width": "initial"
      }
     },
     "ccb95c86421549eaa9008ff1072750f2": {
      "model_module": "@jupyter-widgets/controls",
      "model_module_version": "1.5.0",
      "model_name": "FloatProgressModel",
      "state": {
       "description": "Validating: ",
       "layout": "IPY_MODEL_c4e60facea274499bdf6065a8a837a0c",
       "max": 541,
       "style": "IPY_MODEL_12deb56e966546b886e081b33891a048",
       "value": 541
      }
     },
     "ce4d8f4ec7df4802a2a8431602fb4c41": {
      "model_module": "@jupyter-widgets/controls",
      "model_module_version": "1.5.0",
      "model_name": "HTMLModel",
      "state": {
       "layout": "IPY_MODEL_5ca4fa37d83f4ec9a84583f238c015df",
       "style": "IPY_MODEL_d624294035ca40419b63fd1e6c132890",
       "value": " 550/? [00:01&lt;00:00, 440.39it/s]"
      }
     },
     "ce5a245a955e4ab4bd359d0f2858aef4": {
      "model_module": "@jupyter-widgets/controls",
      "model_module_version": "1.5.0",
      "model_name": "ProgressStyleModel",
      "state": {
       "description_width": "initial"
      }
     },
     "cede58b9533943888806d0fede595d80": {
      "model_module": "@jupyter-widgets/controls",
      "model_module_version": "1.5.0",
      "model_name": "HTMLModel",
      "state": {
       "layout": "IPY_MODEL_0a9652aeb9464465bfffbae7c190d5f4",
       "style": "IPY_MODEL_1cb6fe6d9c0845349d1ac5e619b479f8",
       "value": " 550/? [00:01&lt;00:00, 455.53it/s]"
      }
     },
     "cf3729ac550c4fc79f6029e30a373de4": {
      "model_module": "@jupyter-widgets/base",
      "model_module_version": "1.2.0",
      "model_name": "LayoutModel",
      "state": {
       "flex": "2"
      }
     },
     "cface5a7c5374737b30c1b7224139cef": {
      "model_module": "@jupyter-widgets/controls",
      "model_module_version": "1.5.0",
      "model_name": "HTMLModel",
      "state": {
       "layout": "IPY_MODEL_64b6c51b1eee4d5d9bf3f511328f56be",
       "style": "IPY_MODEL_92546127327e40cca145d643e1cad9f2",
       "value": " 550/? [00:01&lt;00:00, 402.06it/s]"
      }
     },
     "cfd13c497220463d9ae77cfeaf74b806": {
      "model_module": "@jupyter-widgets/controls",
      "model_module_version": "1.5.0",
      "model_name": "HTMLModel",
      "state": {
       "layout": "IPY_MODEL_db783c12cab14bd2a6489c00cb276268",
       "style": "IPY_MODEL_e92bbe3658ea486bb40f02fe313a8c4f",
       "value": " 550/? [00:01&lt;00:00, 457.77it/s]"
      }
     },
     "d01499cc1f97417c8ce81c5b1c30813a": {
      "model_module": "@jupyter-widgets/controls",
      "model_module_version": "1.5.0",
      "model_name": "DescriptionStyleModel",
      "state": {
       "description_width": ""
      }
     },
     "d0b5f2dc9de24967a4c9efd90bf78761": {
      "model_module": "@jupyter-widgets/controls",
      "model_module_version": "1.5.0",
      "model_name": "ProgressStyleModel",
      "state": {
       "description_width": "initial"
      }
     },
     "d0d98f2bb0cd42b1ac238d8db227b42f": {
      "model_module": "@jupyter-widgets/controls",
      "model_module_version": "1.5.0",
      "model_name": "DescriptionStyleModel",
      "state": {
       "description_width": ""
      }
     },
     "d0da06e7a4804e53b5e03c89e5d20100": {
      "model_module": "@jupyter-widgets/controls",
      "model_module_version": "1.5.0",
      "model_name": "FloatProgressModel",
      "state": {
       "description": "Validating: ",
       "layout": "IPY_MODEL_8a980ad1aea148b5aff83f599d397cfb",
       "max": 541,
       "style": "IPY_MODEL_2e513a8dce2f4b93a6494ca3d6795c83",
       "value": 541
      }
     },
     "d1acc6f2fec14a4bb47c76713671dd90": {
      "model_module": "@jupyter-widgets/base",
      "model_module_version": "1.2.0",
      "model_name": "LayoutModel",
      "state": {
       "flex": "2"
      }
     },
     "d2a1182ba77f44dbb810f2086e33d9e3": {
      "model_module": "@jupyter-widgets/base",
      "model_module_version": "1.2.0",
      "model_name": "LayoutModel",
      "state": {
       "flex": "2"
      }
     },
     "d3373ac4893e43d0ba8183fa73c331a5": {
      "model_module": "@jupyter-widgets/base",
      "model_module_version": "1.2.0",
      "model_name": "LayoutModel",
      "state": {
       "display": "inline-flex",
       "flex_flow": "row wrap",
       "width": "100%"
      }
     },
     "d3ac3717893c428ca19576239b51ba60": {
      "model_module": "@jupyter-widgets/base",
      "model_module_version": "1.2.0",
      "model_name": "LayoutModel",
      "state": {
       "flex": "2"
      }
     },
     "d3c338291eab45198132e4905d4655ec": {
      "model_module": "@jupyter-widgets/base",
      "model_module_version": "1.2.0",
      "model_name": "LayoutModel",
      "state": {
       "flex": "2"
      }
     },
     "d3dfa9140d444ceab378055dab37adec": {
      "model_module": "@jupyter-widgets/base",
      "model_module_version": "1.2.0",
      "model_name": "LayoutModel",
      "state": {
       "flex": "2"
      }
     },
     "d4e3e1beb56e4fb0951ea16edbd0ba69": {
      "model_module": "@jupyter-widgets/controls",
      "model_module_version": "1.5.0",
      "model_name": "DescriptionStyleModel",
      "state": {
       "description_width": ""
      }
     },
     "d59f6ee9dc204a9bac26eb0f8b97909c": {
      "model_module": "@jupyter-widgets/base",
      "model_module_version": "1.2.0",
      "model_name": "LayoutModel",
      "state": {}
     },
     "d624294035ca40419b63fd1e6c132890": {
      "model_module": "@jupyter-widgets/controls",
      "model_module_version": "1.5.0",
      "model_name": "DescriptionStyleModel",
      "state": {
       "description_width": ""
      }
     },
     "d663b272fe7f4daea45fdd94554b1e8c": {
      "model_module": "@jupyter-widgets/controls",
      "model_module_version": "1.5.0",
      "model_name": "ProgressStyleModel",
      "state": {
       "description_width": "initial"
      }
     },
     "d7c7c48d877d47fbb69cf57d5ca13b6a": {
      "model_module": "@jupyter-widgets/base",
      "model_module_version": "1.2.0",
      "model_name": "LayoutModel",
      "state": {}
     },
     "d7c7ec649d25470aa26a8f77a15e2172": {
      "model_module": "@jupyter-widgets/base",
      "model_module_version": "1.2.0",
      "model_name": "LayoutModel",
      "state": {
       "display": "inline-flex",
       "flex_flow": "row wrap",
       "width": "100%"
      }
     },
     "d8e7cefe9f6645f38dbe7354eee68039": {
      "model_module": "@jupyter-widgets/controls",
      "model_module_version": "1.5.0",
      "model_name": "ProgressStyleModel",
      "state": {
       "description_width": "initial"
      }
     },
     "d908106ad27544ab8960e0ee20da7635": {
      "model_module": "@jupyter-widgets/controls",
      "model_module_version": "1.5.0",
      "model_name": "ProgressStyleModel",
      "state": {
       "description_width": "initial"
      }
     },
     "d958771b019c4e11a01ced44450871a8": {
      "model_module": "@jupyter-widgets/base",
      "model_module_version": "1.2.0",
      "model_name": "LayoutModel",
      "state": {
       "flex": "2"
      }
     },
     "d9b59d907cd742f7bfe8226771424c21": {
      "model_module": "@jupyter-widgets/controls",
      "model_module_version": "1.5.0",
      "model_name": "ProgressStyleModel",
      "state": {
       "description_width": "initial"
      }
     },
     "d9e1d7239e084ede9c4a193a802f7db4": {
      "model_module": "@jupyter-widgets/controls",
      "model_module_version": "1.5.0",
      "model_name": "ProgressStyleModel",
      "state": {
       "description_width": "initial"
      }
     },
     "d9f19dc0e6114115857ba31cc568665a": {
      "model_module": "@jupyter-widgets/controls",
      "model_module_version": "1.5.0",
      "model_name": "DescriptionStyleModel",
      "state": {
       "description_width": ""
      }
     },
     "da56721356554bc1a7e06da733a0c3a8": {
      "model_module": "@jupyter-widgets/base",
      "model_module_version": "1.2.0",
      "model_name": "LayoutModel",
      "state": {}
     },
     "db1a00dd11dd4f7c98fcb505d35c7e84": {
      "model_module": "@jupyter-widgets/base",
      "model_module_version": "1.2.0",
      "model_name": "LayoutModel",
      "state": {
       "flex": "2"
      }
     },
     "db783c12cab14bd2a6489c00cb276268": {
      "model_module": "@jupyter-widgets/base",
      "model_module_version": "1.2.0",
      "model_name": "LayoutModel",
      "state": {}
     },
     "dbcfa20f75944e30b96398e6975f6b86": {
      "model_module": "@jupyter-widgets/base",
      "model_module_version": "1.2.0",
      "model_name": "LayoutModel",
      "state": {
       "display": "inline-flex",
       "flex_flow": "row wrap",
       "width": "100%"
      }
     },
     "dbf7160b38be427d94dd5d063115d13e": {
      "model_module": "@jupyter-widgets/base",
      "model_module_version": "1.2.0",
      "model_name": "LayoutModel",
      "state": {
       "flex": "2"
      }
     },
     "dc38969ba36c48dbb9a857c00925517a": {
      "model_module": "@jupyter-widgets/base",
      "model_module_version": "1.2.0",
      "model_name": "LayoutModel",
      "state": {
       "flex": "2"
      }
     },
     "dc69155b56e24b029380da8c3cb6e2b5": {
      "model_module": "@jupyter-widgets/base",
      "model_module_version": "1.2.0",
      "model_name": "LayoutModel",
      "state": {
       "display": "inline-flex",
       "flex_flow": "row wrap",
       "width": "100%"
      }
     },
     "dc7b9d1ff27946c4a00445e943f5735c": {
      "model_module": "@jupyter-widgets/base",
      "model_module_version": "1.2.0",
      "model_name": "LayoutModel",
      "state": {
       "flex": "2"
      }
     },
     "dd85393c5ea74dcda67155780ebb3a41": {
      "model_module": "@jupyter-widgets/controls",
      "model_module_version": "1.5.0",
      "model_name": "FloatProgressModel",
      "state": {
       "description": "Validating: ",
       "layout": "IPY_MODEL_dbf7160b38be427d94dd5d063115d13e",
       "max": 541,
       "style": "IPY_MODEL_352bd3af9bdb45de9f0cab4a90d33fec",
       "value": 541
      }
     },
     "dda79530ae8b41a49acd46aa560badeb": {
      "model_module": "@jupyter-widgets/controls",
      "model_module_version": "1.5.0",
      "model_name": "HTMLModel",
      "state": {
       "layout": "IPY_MODEL_66ed170b39a244cabf863782990b087b",
       "style": "IPY_MODEL_82e230008d254486946c2b22d2571f78",
       "value": " 550/? [00:01&lt;00:00, 407.61it/s]"
      }
     },
     "de625673635e4dce9030e498d5729219": {
      "model_module": "@jupyter-widgets/controls",
      "model_module_version": "1.5.0",
      "model_name": "FloatProgressModel",
      "state": {
       "description": "Validating: ",
       "layout": "IPY_MODEL_9ccc2384eaea4a5984596449c89f6345",
       "max": 541,
       "style": "IPY_MODEL_907d255db9e6459589ff1522be75e575",
       "value": 541
      }
     },
     "dea4ec3280a044e2a81128225c58c264": {
      "model_module": "@jupyter-widgets/controls",
      "model_module_version": "1.5.0",
      "model_name": "FloatProgressModel",
      "state": {
       "description": "Validating: ",
       "layout": "IPY_MODEL_c5888391bb6f4a3a9a5a2e3cae46f414",
       "max": 541,
       "style": "IPY_MODEL_524265c89f6f4c0e8ae98a3c62f7c83c",
       "value": 541
      }
     },
     "df2ed3e63e374ebcbc73c8116d254d96": {
      "model_module": "@jupyter-widgets/controls",
      "model_module_version": "1.5.0",
      "model_name": "ProgressStyleModel",
      "state": {
       "description_width": "initial"
      }
     },
     "df3c967f69cd445c80967c3dbae2affc": {
      "model_module": "@jupyter-widgets/controls",
      "model_module_version": "1.5.0",
      "model_name": "HTMLModel",
      "state": {
       "layout": "IPY_MODEL_da56721356554bc1a7e06da733a0c3a8",
       "style": "IPY_MODEL_44c2f7e59fa54761bba44d1a60f66a79",
       "value": " 550/? [00:01&lt;00:00, 433.15it/s]"
      }
     },
     "dffe6649e7a64186aa5bea7d7a18e50b": {
      "model_module": "@jupyter-widgets/controls",
      "model_module_version": "1.5.0",
      "model_name": "HTMLModel",
      "state": {
       "layout": "IPY_MODEL_1398134ac1dc443ea6f9aee5ab2cea15",
       "style": "IPY_MODEL_3dfb155153b34a8980fd5db4c3f5bc66",
       "value": " 550/? [00:01&lt;00:00, 403.53it/s]"
      }
     },
     "e00702f6bbe143dc90ede32c55e1deb4": {
      "model_module": "@jupyter-widgets/controls",
      "model_module_version": "1.5.0",
      "model_name": "FloatProgressModel",
      "state": {
       "description": "Validating: ",
       "layout": "IPY_MODEL_917612b249154efa945c9bf19f0b2c11",
       "max": 541,
       "style": "IPY_MODEL_3c19c93bc50f4a7b8a450ec610d0f4db",
       "value": 541
      }
     },
     "e0aab7ae86b34c5183cffaa39b8d143f": {
      "model_module": "@jupyter-widgets/controls",
      "model_module_version": "1.5.0",
      "model_name": "DescriptionStyleModel",
      "state": {
       "description_width": ""
      }
     },
     "e10a4588d6cd4cb694be733b13bac98c": {
      "model_module": "@jupyter-widgets/controls",
      "model_module_version": "1.5.0",
      "model_name": "DescriptionStyleModel",
      "state": {
       "description_width": ""
      }
     },
     "e2235219301745f0b7df6191d68f30ad": {
      "model_module": "@jupyter-widgets/controls",
      "model_module_version": "1.5.0",
      "model_name": "DescriptionStyleModel",
      "state": {
       "description_width": ""
      }
     },
     "e26d96d9ac3a429aa4df2aa17f359ba9": {
      "model_module": "@jupyter-widgets/base",
      "model_module_version": "1.2.0",
      "model_name": "LayoutModel",
      "state": {
       "flex": "2"
      }
     },
     "e2a202435a2b412b9b4b08740eb7ff35": {
      "model_module": "@jupyter-widgets/base",
      "model_module_version": "1.2.0",
      "model_name": "LayoutModel",
      "state": {
       "display": "inline-flex",
       "flex_flow": "row wrap",
       "width": "100%"
      }
     },
     "e382fbc2b5cd486e91e0a9c6d3727ecc": {
      "model_module": "@jupyter-widgets/controls",
      "model_module_version": "1.5.0",
      "model_name": "ProgressStyleModel",
      "state": {
       "description_width": "initial"
      }
     },
     "e398bcdbc0044cfc880a5130b9faa63a": {
      "model_module": "@jupyter-widgets/controls",
      "model_module_version": "1.5.0",
      "model_name": "DescriptionStyleModel",
      "state": {
       "description_width": ""
      }
     },
     "e4c1b8f8d6a94e14b614730f19d48f96": {
      "model_module": "@jupyter-widgets/controls",
      "model_module_version": "1.5.0",
      "model_name": "ProgressStyleModel",
      "state": {
       "description_width": "initial"
      }
     },
     "e52d3146f70c4404acadf2d2f5cd1e46": {
      "model_module": "@jupyter-widgets/base",
      "model_module_version": "1.2.0",
      "model_name": "LayoutModel",
      "state": {
       "flex": "2"
      }
     },
     "e5645923f60243938c533aa40a6fa812": {
      "model_module": "@jupyter-widgets/controls",
      "model_module_version": "1.5.0",
      "model_name": "DescriptionStyleModel",
      "state": {
       "description_width": ""
      }
     },
     "e5d3ed2441d743f5be5f43a8da72c477": {
      "model_module": "@jupyter-widgets/controls",
      "model_module_version": "1.5.0",
      "model_name": "HTMLModel",
      "state": {
       "layout": "IPY_MODEL_f618908929284f02984137c5f1ee5c73",
       "style": "IPY_MODEL_c423ba89b89f426ca7b8613d7c02c2a9",
       "value": " 550/? [00:01&lt;00:00, 411.59it/s]"
      }
     },
     "e617356f81f342058b02be139d4a8ab8": {
      "model_module": "@jupyter-widgets/controls",
      "model_module_version": "1.5.0",
      "model_name": "ProgressStyleModel",
      "state": {
       "description_width": "initial"
      }
     },
     "e674db538c284de09c82ffdc05f9110a": {
      "model_module": "@jupyter-widgets/controls",
      "model_module_version": "1.5.0",
      "model_name": "FloatProgressModel",
      "state": {
       "description": "Validating: ",
       "layout": "IPY_MODEL_3677fcc744a4447f9db6fbbc6261cd79",
       "max": 541,
       "style": "IPY_MODEL_58840405ab1a45cb966cf994a9298ac0",
       "value": 541
      }
     },
     "e69577742bee4181a38bc8071021d210": {
      "model_module": "@jupyter-widgets/base",
      "model_module_version": "1.2.0",
      "model_name": "LayoutModel",
      "state": {
       "flex": "2"
      }
     },
     "e7cce68ee08a44719292f315d3bb6503": {
      "model_module": "@jupyter-widgets/controls",
      "model_module_version": "1.5.0",
      "model_name": "HTMLModel",
      "state": {
       "layout": "IPY_MODEL_0f4062ded136471dbe8963bd868216fe",
       "style": "IPY_MODEL_96769caf4fee4bb883ba408f6fec84ea",
       "value": " 3100/? [00:11&lt;00:00, 266.83it/s, loss=0.239, v_num=12]"
      }
     },
     "e7f57a4a350e4af4a4a29cdf123a65c0": {
      "model_module": "@jupyter-widgets/controls",
      "model_module_version": "1.5.0",
      "model_name": "FloatProgressModel",
      "state": {
       "description": "Validating: ",
       "layout": "IPY_MODEL_d1acc6f2fec14a4bb47c76713671dd90",
       "max": 541,
       "style": "IPY_MODEL_b5cf71b2210343718214c33415b3b9cc",
       "value": 541
      }
     },
     "e82d65d241104bfab69e7a10f21af914": {
      "model_module": "@jupyter-widgets/base",
      "model_module_version": "1.2.0",
      "model_name": "LayoutModel",
      "state": {
       "display": "inline-flex",
       "flex_flow": "row wrap",
       "width": "100%"
      }
     },
     "e85b832383bf431ba9d142365adc15ca": {
      "model_module": "@jupyter-widgets/controls",
      "model_module_version": "1.5.0",
      "model_name": "DescriptionStyleModel",
      "state": {
       "description_width": ""
      }
     },
     "e8c17194f4f845fabfd314e3e209a7d4": {
      "model_module": "@jupyter-widgets/base",
      "model_module_version": "1.2.0",
      "model_name": "LayoutModel",
      "state": {
       "flex": "2"
      }
     },
     "e8ed0b2fc8cc44399ff89ad67ebd33a5": {
      "model_module": "@jupyter-widgets/controls",
      "model_module_version": "1.5.0",
      "model_name": "HBoxModel",
      "state": {
       "children": [
        "IPY_MODEL_83ede4241e644d9b84bb173373c4fa5c",
        "IPY_MODEL_e7cce68ee08a44719292f315d3bb6503"
       ],
       "layout": "IPY_MODEL_70c2675e6d67449692c895717406a8dc"
      }
     },
     "e92bbe3658ea486bb40f02fe313a8c4f": {
      "model_module": "@jupyter-widgets/controls",
      "model_module_version": "1.5.0",
      "model_name": "DescriptionStyleModel",
      "state": {
       "description_width": ""
      }
     },
     "e942d926b8b74084818eca6eca0563f9": {
      "model_module": "@jupyter-widgets/base",
      "model_module_version": "1.2.0",
      "model_name": "LayoutModel",
      "state": {
       "flex": "2"
      }
     },
     "e974d8e4c7d54558ad6df4bbb87340a4": {
      "model_module": "@jupyter-widgets/controls",
      "model_module_version": "1.5.0",
      "model_name": "FloatProgressModel",
      "state": {
       "description": "Validating: ",
       "layout": "IPY_MODEL_582aa5b3f11446afab00b294bd4ad34c",
       "max": 541,
       "style": "IPY_MODEL_10e016c2620142be865a899447ebb611",
       "value": 541
      }
     },
     "e98b0f1f4e1f447483a2d8d16abdd230": {
      "model_module": "@jupyter-widgets/controls",
      "model_module_version": "1.5.0",
      "model_name": "DescriptionStyleModel",
      "state": {
       "description_width": ""
      }
     },
     "eaad62b82e5640c28cdcd3cc9d0c3d9c": {
      "model_module": "@jupyter-widgets/controls",
      "model_module_version": "1.5.0",
      "model_name": "HTMLModel",
      "state": {
       "layout": "IPY_MODEL_67a063b564b540a3990af390dad23a08",
       "style": "IPY_MODEL_3a3e718492614ec295e14a388043ca7d",
       "value": " 550/? [00:01&lt;00:00, 446.11it/s]"
      }
     },
     "eaf386d87bb04885ae38dfddf67b8c64": {
      "model_module": "@jupyter-widgets/controls",
      "model_module_version": "1.5.0",
      "model_name": "ProgressStyleModel",
      "state": {
       "description_width": "initial"
      }
     },
     "eb1ed9841a4d498a9444a56eadc04eb2": {
      "model_module": "@jupyter-widgets/controls",
      "model_module_version": "1.5.0",
      "model_name": "HTMLModel",
      "state": {
       "layout": "IPY_MODEL_6f2fb4d8648d4e11a7dbdd0a7e0d03e5",
       "style": "IPY_MODEL_2ccf7bb480da4a7b9e34690b24a6fef6",
       "value": " 550/? [00:01&lt;00:00, 434.77it/s]"
      }
     },
     "eb6cc805478d494386741e6f37f889c6": {
      "model_module": "@jupyter-widgets/controls",
      "model_module_version": "1.5.0",
      "model_name": "FloatProgressModel",
      "state": {
       "description": "Validating: ",
       "layout": "IPY_MODEL_5a99b428bebf4697bc966c7902555dbc",
       "max": 541,
       "style": "IPY_MODEL_c817c422993c48b8a23d30e135d9ce6f",
       "value": 541
      }
     },
     "eb8c26bcadc64dbb87395e50764220f3": {
      "model_module": "@jupyter-widgets/controls",
      "model_module_version": "1.5.0",
      "model_name": "ProgressStyleModel",
      "state": {
       "description_width": "initial"
      }
     },
     "eb9b6bf001514a6b8de858aada1c9714": {
      "model_module": "@jupyter-widgets/base",
      "model_module_version": "1.2.0",
      "model_name": "LayoutModel",
      "state": {}
     },
     "ebaa18e6b21d4cc28d3f568701b680e5": {
      "model_module": "@jupyter-widgets/controls",
      "model_module_version": "1.5.0",
      "model_name": "ProgressStyleModel",
      "state": {
       "description_width": "initial"
      }
     },
     "ebdc5eac026c4de788cc90cd70bdacca": {
      "model_module": "@jupyter-widgets/base",
      "model_module_version": "1.2.0",
      "model_name": "LayoutModel",
      "state": {
       "flex": "2"
      }
     },
     "ec45519b9de64006a73adc6a3b1760d1": {
      "model_module": "@jupyter-widgets/base",
      "model_module_version": "1.2.0",
      "model_name": "LayoutModel",
      "state": {
       "flex": "2"
      }
     },
     "ec460c3fb56542c290de87c14023bdac": {
      "model_module": "@jupyter-widgets/controls",
      "model_module_version": "1.5.0",
      "model_name": "DescriptionStyleModel",
      "state": {
       "description_width": ""
      }
     },
     "ec95d38895c14cddbf430ebd6355fb95": {
      "model_module": "@jupyter-widgets/base",
      "model_module_version": "1.2.0",
      "model_name": "LayoutModel",
      "state": {}
     },
     "ed04dbcae5154794aea130820469f61b": {
      "model_module": "@jupyter-widgets/base",
      "model_module_version": "1.2.0",
      "model_name": "LayoutModel",
      "state": {
       "display": "inline-flex",
       "flex_flow": "row wrap",
       "width": "100%"
      }
     },
     "ed96befe408b4e2e94e64bf874a0af71": {
      "model_module": "@jupyter-widgets/controls",
      "model_module_version": "1.5.0",
      "model_name": "DescriptionStyleModel",
      "state": {
       "description_width": ""
      }
     },
     "ed9dc6fd3d804a0d8137a780a3c1931a": {
      "model_module": "@jupyter-widgets/controls",
      "model_module_version": "1.5.0",
      "model_name": "DescriptionStyleModel",
      "state": {
       "description_width": ""
      }
     },
     "ed9f8c5ebb824c4f8afc564fe9d7c6d8": {
      "model_module": "@jupyter-widgets/controls",
      "model_module_version": "1.5.0",
      "model_name": "FloatProgressModel",
      "state": {
       "description": "Validating: ",
       "layout": "IPY_MODEL_6afb568223fd42848efdcb6e1ff2a396",
       "max": 541,
       "style": "IPY_MODEL_73e78b0af2f04371a30752c2871ac159",
       "value": 541
      }
     },
     "ee91e75ff61f481584a51d24a7863a2e": {
      "model_module": "@jupyter-widgets/controls",
      "model_module_version": "1.5.0",
      "model_name": "ProgressStyleModel",
      "state": {
       "description_width": "initial"
      }
     },
     "eecda0ea2b8c405b837f4121f688fdc2": {
      "model_module": "@jupyter-widgets/controls",
      "model_module_version": "1.5.0",
      "model_name": "ProgressStyleModel",
      "state": {
       "description_width": "initial"
      }
     },
     "eee8db2df9de40eea481ec02ca66a987": {
      "model_module": "@jupyter-widgets/controls",
      "model_module_version": "1.5.0",
      "model_name": "HTMLModel",
      "state": {
       "layout": "IPY_MODEL_5d37128c28ec49a0804d77521d3e9987",
       "style": "IPY_MODEL_7b3782a972ef46c1a802b24c15f21a8e",
       "value": " 550/? [00:01&lt;00:00, 409.61it/s]"
      }
     },
     "ef0f6382f227418da0a664c2a787d136": {
      "model_module": "@jupyter-widgets/controls",
      "model_module_version": "1.5.0",
      "model_name": "FloatProgressModel",
      "state": {
       "description": "Validating: ",
       "layout": "IPY_MODEL_d3dfa9140d444ceab378055dab37adec",
       "max": 541,
       "style": "IPY_MODEL_9779daea00cb415ea0be061228e416c7",
       "value": 541
      }
     },
     "ef686f10aedb41e9a6063e608b9484b1": {
      "model_module": "@jupyter-widgets/base",
      "model_module_version": "1.2.0",
      "model_name": "LayoutModel",
      "state": {
       "display": "inline-flex",
       "flex_flow": "row wrap",
       "width": "100%"
      }
     },
     "ef6b2f0ca1684ab18f80ec1c126fbd4b": {
      "model_module": "@jupyter-widgets/controls",
      "model_module_version": "1.5.0",
      "model_name": "DescriptionStyleModel",
      "state": {
       "description_width": ""
      }
     },
     "ef7bb5b0b52a4762a76d2d30f45872c7": {
      "model_module": "@jupyter-widgets/controls",
      "model_module_version": "1.5.0",
      "model_name": "ProgressStyleModel",
      "state": {
       "description_width": "initial"
      }
     },
     "f1ba79e16eed44a8a7c822e71beb494b": {
      "model_module": "@jupyter-widgets/controls",
      "model_module_version": "1.5.0",
      "model_name": "HTMLModel",
      "state": {
       "layout": "IPY_MODEL_83a7bd483b5f46cba06fb9d3ea0a1d0a",
       "style": "IPY_MODEL_80046011bf174526b9d0a855e9f7fead",
       "value": " 550/? [00:01&lt;00:00, 474.82it/s]"
      }
     },
     "f2877cddf9bc49a087751b85876d2a96": {
      "model_module": "@jupyter-widgets/controls",
      "model_module_version": "1.5.0",
      "model_name": "FloatProgressModel",
      "state": {
       "description": "Validating: ",
       "layout": "IPY_MODEL_7797a68516a043efa58173bf8c9b7e1a",
       "max": 541,
       "style": "IPY_MODEL_59ab3b9ff1fd4436b0929c0df39ceae1",
       "value": 541
      }
     },
     "f2d0d7b80a58499894955b5b156aa97a": {
      "model_module": "@jupyter-widgets/base",
      "model_module_version": "1.2.0",
      "model_name": "LayoutModel",
      "state": {
       "display": "inline-flex",
       "flex_flow": "row wrap",
       "width": "100%"
      }
     },
     "f2fea12816c84467a00b97ecb7076b20": {
      "model_module": "@jupyter-widgets/controls",
      "model_module_version": "1.5.0",
      "model_name": "FloatProgressModel",
      "state": {
       "description": "Validating: ",
       "layout": "IPY_MODEL_af4b29ce7fdf4e76a54a0a831d3db55d",
       "max": 541,
       "style": "IPY_MODEL_fa29c055aab948cbaae8cd09e4eef7ef",
       "value": 541
      }
     },
     "f37988fc6f2f43268ffe02847b44e311": {
      "model_module": "@jupyter-widgets/controls",
      "model_module_version": "1.5.0",
      "model_name": "FloatProgressModel",
      "state": {
       "description": "Validating: ",
       "layout": "IPY_MODEL_3f89208d0b2e45ec9ee97ada5e4db0b4",
       "max": 541,
       "style": "IPY_MODEL_eaf386d87bb04885ae38dfddf67b8c64",
       "value": 541
      }
     },
     "f39986df147d431caceab097ddc520a4": {
      "model_module": "@jupyter-widgets/controls",
      "model_module_version": "1.5.0",
      "model_name": "ProgressStyleModel",
      "state": {
       "description_width": "initial"
      }
     },
     "f4b47496924a4179b0d8957d0fec85c2": {
      "model_module": "@jupyter-widgets/base",
      "model_module_version": "1.2.0",
      "model_name": "LayoutModel",
      "state": {
       "display": "inline-flex",
       "flex_flow": "row wrap",
       "width": "100%"
      }
     },
     "f547ba7a21fa40c9abb8ac614ab357e1": {
      "model_module": "@jupyter-widgets/controls",
      "model_module_version": "1.5.0",
      "model_name": "FloatProgressModel",
      "state": {
       "description": "Validating: ",
       "layout": "IPY_MODEL_dc38969ba36c48dbb9a857c00925517a",
       "max": 541,
       "style": "IPY_MODEL_ff47e0d5ee584e8ba3020c7f1c347c28",
       "value": 541
      }
     },
     "f57aba5864c74370b43db49e6f6c2876": {
      "model_module": "@jupyter-widgets/controls",
      "model_module_version": "1.5.0",
      "model_name": "DescriptionStyleModel",
      "state": {
       "description_width": ""
      }
     },
     "f618908929284f02984137c5f1ee5c73": {
      "model_module": "@jupyter-widgets/base",
      "model_module_version": "1.2.0",
      "model_name": "LayoutModel",
      "state": {}
     },
     "f6230e924e0b4ff8b1b0cf05b9f56373": {
      "model_module": "@jupyter-widgets/controls",
      "model_module_version": "1.5.0",
      "model_name": "FloatProgressModel",
      "state": {
       "description": "Validating: ",
       "layout": "IPY_MODEL_2fe7b93ffb714e45bf9d490154fc0831",
       "max": 541,
       "style": "IPY_MODEL_c2c5249a4fc44a2eba7e2b757f88326b",
       "value": 541
      }
     },
     "f6d1d9bd326a41ffa6e3dcfad1bb3572": {
      "model_module": "@jupyter-widgets/controls",
      "model_module_version": "1.5.0",
      "model_name": "DescriptionStyleModel",
      "state": {
       "description_width": ""
      }
     },
     "f7377280a8a841959df17227cf764f7d": {
      "model_module": "@jupyter-widgets/base",
      "model_module_version": "1.2.0",
      "model_name": "LayoutModel",
      "state": {}
     },
     "f7531177c6c44acca37a0302022e57d6": {
      "model_module": "@jupyter-widgets/controls",
      "model_module_version": "1.5.0",
      "model_name": "FloatProgressModel",
      "state": {
       "description": "Validating: ",
       "layout": "IPY_MODEL_79862fbe7f424260958bc163147b1a50",
       "max": 541,
       "style": "IPY_MODEL_06a1c36a6c8a4f42988b10689386c752",
       "value": 541
      }
     },
     "f75dbf3a69a5480093253df400732763": {
      "model_module": "@jupyter-widgets/base",
      "model_module_version": "1.2.0",
      "model_name": "LayoutModel",
      "state": {
       "display": "inline-flex",
       "flex_flow": "row wrap",
       "width": "100%"
      }
     },
     "f80c6f59f3564869bd2f194608970c35": {
      "model_module": "@jupyter-widgets/base",
      "model_module_version": "1.2.0",
      "model_name": "LayoutModel",
      "state": {}
     },
     "f82ba1f1f46346c18f1232ff43d089e7": {
      "model_module": "@jupyter-widgets/base",
      "model_module_version": "1.2.0",
      "model_name": "LayoutModel",
      "state": {}
     },
     "f8953db7e77841b7a96a85811f437ed6": {
      "model_module": "@jupyter-widgets/base",
      "model_module_version": "1.2.0",
      "model_name": "LayoutModel",
      "state": {}
     },
     "f9363e8e3ca3436ea52ae67e9d9f790b": {
      "model_module": "@jupyter-widgets/controls",
      "model_module_version": "1.5.0",
      "model_name": "DescriptionStyleModel",
      "state": {
       "description_width": ""
      }
     },
     "f95829d5a4544090897cd3fa81a0f20d": {
      "model_module": "@jupyter-widgets/base",
      "model_module_version": "1.2.0",
      "model_name": "LayoutModel",
      "state": {}
     },
     "f98aca3725c64f78a8664ba24d562b13": {
      "model_module": "@jupyter-widgets/controls",
      "model_module_version": "1.5.0",
      "model_name": "HTMLModel",
      "state": {
       "layout": "IPY_MODEL_594bcf87a0d642b9afbfe160b893b893",
       "style": "IPY_MODEL_641a30ceee774be489a4e4aaf59da533",
       "value": " 550/? [00:01&lt;00:00, 461.02it/s]"
      }
     },
     "f99e3c23f0f949388a8ad72238c1223f": {
      "model_module": "@jupyter-widgets/base",
      "model_module_version": "1.2.0",
      "model_name": "LayoutModel",
      "state": {}
     },
     "fa0cb458f7c9426e8714148f43a7e9f3": {
      "model_module": "@jupyter-widgets/base",
      "model_module_version": "1.2.0",
      "model_name": "LayoutModel",
      "state": {
       "display": "inline-flex",
       "flex_flow": "row wrap",
       "width": "100%"
      }
     },
     "fa29c055aab948cbaae8cd09e4eef7ef": {
      "model_module": "@jupyter-widgets/controls",
      "model_module_version": "1.5.0",
      "model_name": "ProgressStyleModel",
      "state": {
       "description_width": "initial"
      }
     },
     "fa3951756cc2476aa1cdd0707074a2d8": {
      "model_module": "@jupyter-widgets/base",
      "model_module_version": "1.2.0",
      "model_name": "LayoutModel",
      "state": {}
     },
     "faa9c51f65a04b86b58bde71b39d1f2b": {
      "model_module": "@jupyter-widgets/base",
      "model_module_version": "1.2.0",
      "model_name": "LayoutModel",
      "state": {
       "display": "inline-flex",
       "flex_flow": "row wrap",
       "width": "100%"
      }
     },
     "fb93502efd15406d85e0bf95ff13ae91": {
      "model_module": "@jupyter-widgets/controls",
      "model_module_version": "1.5.0",
      "model_name": "ProgressStyleModel",
      "state": {
       "description_width": "initial"
      }
     },
     "fbcc7f61bc37496e9341b2a67111f1df": {
      "model_module": "@jupyter-widgets/controls",
      "model_module_version": "1.5.0",
      "model_name": "ProgressStyleModel",
      "state": {
       "description_width": "initial"
      }
     },
     "fbdedc761aa14e579b26994c60a9a5af": {
      "model_module": "@jupyter-widgets/controls",
      "model_module_version": "1.5.0",
      "model_name": "HTMLModel",
      "state": {
       "layout": "IPY_MODEL_718c21f965504142892b7a87c9fcc1fc",
       "style": "IPY_MODEL_d4e3e1beb56e4fb0951ea16edbd0ba69",
       "value": " 550/? [00:01&lt;00:00, 435.52it/s]"
      }
     },
     "fc5b410e51844bfcb8f23196c21ba0bb": {
      "model_module": "@jupyter-widgets/base",
      "model_module_version": "1.2.0",
      "model_name": "LayoutModel",
      "state": {
       "display": "inline-flex",
       "flex_flow": "row wrap",
       "width": "100%"
      }
     },
     "fc77b55936564255b6b4a53762ddd8b5": {
      "model_module": "@jupyter-widgets/controls",
      "model_module_version": "1.5.0",
      "model_name": "FloatProgressModel",
      "state": {
       "description": "Validating: ",
       "layout": "IPY_MODEL_b96bf420d97f465380d98cdb92098e95",
       "max": 541,
       "style": "IPY_MODEL_297eb5d9420644ea9f538ce0919b9cc3",
       "value": 541
      }
     },
     "fcba3cacf6ca48cd8a71145be5e6c01c": {
      "model_module": "@jupyter-widgets/controls",
      "model_module_version": "1.5.0",
      "model_name": "DescriptionStyleModel",
      "state": {
       "description_width": ""
      }
     },
     "fcf2db551149419396ced6e54f05e14e": {
      "model_module": "@jupyter-widgets/base",
      "model_module_version": "1.2.0",
      "model_name": "LayoutModel",
      "state": {
       "flex": "2"
      }
     },
     "fd12915fb538419f828a4990ff8c1246": {
      "model_module": "@jupyter-widgets/controls",
      "model_module_version": "1.5.0",
      "model_name": "HTMLModel",
      "state": {
       "layout": "IPY_MODEL_4a9f7eb470934b9c8e0951ab4802f491",
       "style": "IPY_MODEL_2b78265bf6a3454895dad54d982e1a4c",
       "value": " 550/? [00:01&lt;00:00, 394.23it/s]"
      }
     },
     "fd368289da3e4f60bf889ed5412e8956": {
      "model_module": "@jupyter-widgets/controls",
      "model_module_version": "1.5.0",
      "model_name": "HTMLModel",
      "state": {
       "layout": "IPY_MODEL_10e77a6e4b1e49b28a73e91e9390c207",
       "style": "IPY_MODEL_5c752d51d60d4ff99f3ae6906a33ac7d",
       "value": " 550/? [00:01&lt;00:00, 433.86it/s]"
      }
     },
     "fd520594a3844c89989c4bc85fd00a74": {
      "model_module": "@jupyter-widgets/controls",
      "model_module_version": "1.5.0",
      "model_name": "ProgressStyleModel",
      "state": {
       "description_width": "initial"
      }
     },
     "fe06524a6a704e28a85cf5b4c4cdae71": {
      "model_module": "@jupyter-widgets/controls",
      "model_module_version": "1.5.0",
      "model_name": "FloatProgressModel",
      "state": {
       "description": "Validating: ",
       "layout": "IPY_MODEL_ba75e32af8964732bdaf89f73319a240",
       "max": 541,
       "style": "IPY_MODEL_eecda0ea2b8c405b837f4121f688fdc2",
       "value": 541
      }
     },
     "fe1b64dcb6a34f21a07038796fafe40b": {
      "model_module": "@jupyter-widgets/controls",
      "model_module_version": "1.5.0",
      "model_name": "HTMLModel",
      "state": {
       "layout": "IPY_MODEL_d7c7c48d877d47fbb69cf57d5ca13b6a",
       "style": "IPY_MODEL_98a4a9c80ec24a769a9eb4c881433cd4",
       "value": " 550/? [00:01&lt;00:00, 453.40it/s]"
      }
     },
     "fe721b48f90c422e9e3cb11f95559de7": {
      "model_module": "@jupyter-widgets/controls",
      "model_module_version": "1.5.0",
      "model_name": "DescriptionStyleModel",
      "state": {
       "description_width": ""
      }
     },
     "ff47e0d5ee584e8ba3020c7f1c347c28": {
      "model_module": "@jupyter-widgets/controls",
      "model_module_version": "1.5.0",
      "model_name": "ProgressStyleModel",
      "state": {
       "description_width": "initial"
      }
     },
     "ff55a3581db14359bc35044a9dd1d658": {
      "model_module": "@jupyter-widgets/base",
      "model_module_version": "1.2.0",
      "model_name": "LayoutModel",
      "state": {
       "display": "inline-flex",
       "flex_flow": "row wrap",
       "width": "100%"
      }
     }
    },
    "version_major": 2,
    "version_minor": 0
   }
  }
 },
 "nbformat": 4,
 "nbformat_minor": 4
}

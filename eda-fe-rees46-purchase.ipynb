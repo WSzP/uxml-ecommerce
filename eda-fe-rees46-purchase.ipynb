{
 "cells": [
  {
   "cell_type": "code",
   "execution_count": 1,
   "metadata": {},
   "outputs": [
    {
     "name": "stdout",
     "output_type": "stream",
     "text": [
      "SciPy version: 1.5.2\n"
     ]
    }
   ],
   "source": [
    "import numpy as np\n",
    "import pandas as pd\n",
    "from datetime import datetime as dt\n",
    "import time\n",
    "from constants import (EXPORT_DIR, T, DATA_DIR, VAL_THRESHOLD, TEST_THRESHOLD, SEED)\n",
    "import itertools\n",
    "from collections import OrderedDict\n",
    "import scipy\n",
    "print(f\"SciPy version: {scipy.__version__}\")\n",
    "import scipy.sparse as sp\n",
    "import random\n",
    "random.seed(SEED)"
   ]
  },
  {
   "cell_type": "code",
   "execution_count": 2,
   "metadata": {},
   "outputs": [],
   "source": [
    "import matplotlib.pyplot as plt\n",
    "FONT_SIZE = 24\n",
    "plt.rcParams['figure.figsize'] = (20,8)\n",
    "plt.rcParams['text.usetex'] = True\n",
    "plt.rcParams['font.size'] = FONT_SIZE\n",
    "plt.rcParams['legend.fontsize'] = FONT_SIZE\n",
    "plt.rcParams['xtick.labelsize'] = FONT_SIZE\n",
    "plt.rcParams['ytick.labelsize'] = FONT_SIZE\n",
    "%config InlineBackend.figure_format ='retina'"
   ]
  },
  {
   "cell_type": "code",
   "execution_count": 3,
   "metadata": {},
   "outputs": [
    {
     "name": "stdout",
     "output_type": "stream",
     "text": [
      "Wall time: 129 ms\n"
     ]
    }
   ],
   "source": [
    "%%time\n",
    "df = pd.read_csv(DATA_DIR+'rees46-data-cleaned.csv',engine='c', sep=',',usecols=[\"user_id\",\"csd\"],\n",
    "                 dtype={'user_id': np.int64,'csd':'category'})"
   ]
  },
  {
   "cell_type": "code",
   "execution_count": 4,
   "metadata": {},
   "outputs": [
    {
     "name": "stdout",
     "output_type": "stream",
     "text": [
      "<class 'pandas.core.frame.DataFrame'>\n",
      "RangeIndex: 433938 entries, 0 to 433937\n",
      "Data columns (total 2 columns):\n",
      " #   Column   Non-Null Count   Dtype   \n",
      "---  ------   --------------   -----   \n",
      " 0   csd      433938 non-null  category\n",
      " 1   user_id  433938 non-null  int64   \n",
      "dtypes: category(1), int64(1)\n",
      "memory usage: 3.7 MB\n"
     ]
    }
   ],
   "source": [
    "df.info()"
   ]
  },
  {
   "cell_type": "code",
   "execution_count": 5,
   "metadata": {},
   "outputs": [
    {
     "name": "stdout",
     "output_type": "stream",
     "text": [
      "We will have \u001b[94m82,534 unique users.\u001b[0m\n"
     ]
    }
   ],
   "source": [
    "new_user_id = pd.DataFrame()\n",
    "new_user_id['user_id']=df.user_id.unique()\n",
    "print(f\"We will have {T.B}{len(new_user_id):,} unique users.{T.E}\")\n",
    "new_user_id.to_csv(DATA_DIR+'purchase_uid_key.csv', index = True, header=True)\n",
    "uid_lookup = pd.Series(index=new_user_id.user_id,data=new_user_id.index)\n",
    "uid_lookup = uid_lookup.to_dict(OrderedDict)\n",
    "del new_user_id"
   ]
  },
  {
   "cell_type": "code",
   "execution_count": 6,
   "metadata": {},
   "outputs": [
    {
     "name": "stdout",
     "output_type": "stream",
     "text": [
      "There are \u001b[92m123\u001b[0m categories in the dataframe\n"
     ]
    }
   ],
   "source": [
    "categories = set(df.csd)\n",
    "print(f'There are {T.G}{len(categories)}{T.E} categories in the dataframe')"
   ]
  },
  {
   "cell_type": "code",
   "execution_count": 7,
   "metadata": {},
   "outputs": [],
   "source": [
    "def pair_id_creator(df):\n",
    "    \"\"\"Creates pair ID for the dataframe 'df'\n",
    "       we assume a single event type in the dataframe\"\"\"\n",
    "    return df[['user_id','csd']].drop_duplicates().sort_values('user_id')"
   ]
  },
  {
   "cell_type": "code",
   "execution_count": 8,
   "metadata": {},
   "outputs": [
    {
     "name": "stdout",
     "output_type": "stream",
     "text": [
      "Total outcomes: 219281\n"
     ]
    }
   ],
   "source": [
    "user_csd_pairs = pair_id_creator(df)\n",
    "total_outcomes = len(user_csd_pairs)\n",
    "print('Total outcomes:',total_outcomes)"
   ]
  },
  {
   "cell_type": "code",
   "execution_count": 9,
   "metadata": {},
   "outputs": [
    {
     "data": {
      "text/plain": [
       "electronics.smartphone              39663\n",
       "computers.notebook                  12391\n",
       "appliances.kitchen.refrigerators    10025\n",
       "electronics.audio.headphone          9976\n",
       "electronics.video.tv                 8383\n",
       "                                    ...  \n",
       "sport.diving                            4\n",
       "country_yard.watering                   3\n",
       "apparel.costume                         2\n",
       "sport.snowboard                         2\n",
       "apparel.shoes                           1\n",
       "Name: csd, Length: 123, dtype: int64"
      ]
     },
     "execution_count": 9,
     "metadata": {},
     "output_type": "execute_result"
    }
   ],
   "source": [
    "csd_value_counts = user_csd_pairs['csd'].value_counts()\n",
    "csd_value_counts"
   ]
  },
  {
   "cell_type": "markdown",
   "metadata": {},
   "source": [
    "# Probabilities including **all** categories"
   ]
  },
  {
   "cell_type": "code",
   "execution_count": 10,
   "metadata": {},
   "outputs": [],
   "source": [
    "num_categories = len(csd_value_counts)"
   ]
  },
  {
   "cell_type": "code",
   "execution_count": 11,
   "metadata": {},
   "outputs": [
    {
     "name": "stdout",
     "output_type": "stream",
     "text": [
      "We will have \u001b[94m123\u001b[0m unique categories.\n"
     ]
    }
   ],
   "source": [
    "csd_key = pd.DataFrame()\n",
    "csd_key['csd']=csd_value_counts.index\n",
    "assert num_categories == len(csd_key), 'The number of categories must match regardless of method'\n",
    "print(f\"We will have {T.B}{len(csd_key):,}{T.E} unique categories.\")\n",
    "# csd_key.to_csv(DATA_DIR+'purchase_csd_key.csv', index = True, header=True)\n",
    "csd_rlookup = pd.Series(index=csd_key.index,data=csd_key.csd)\n",
    "csd_rlookup = csd_rlookup.to_dict(OrderedDict)\n",
    "del csd_key"
   ]
  },
  {
   "cell_type": "code",
   "execution_count": 12,
   "metadata": {},
   "outputs": [
    {
     "name": "stdout",
     "output_type": "stream",
     "text": [
      "Last key is \u001b[94m122\u001b[0m, representing \u001b[94mapparel.shoes\u001b[0m.\n"
     ]
    }
   ],
   "source": [
    "print(f'Last key is {T.B}{num_categories-1}{T.E}, representing {T.B}{csd_rlookup[num_categories-1]}{T.E}.')"
   ]
  },
  {
   "cell_type": "code",
   "execution_count": 13,
   "metadata": {},
   "outputs": [],
   "source": [
    "def PAgivenB(A,B):\n",
    "    P_B = csd_value_counts[B]/total_outcomes\n",
    "    B_users = set(user_csd_pairs[user_csd_pairs['csd']==B]['user_id'])\n",
    "    A_users = set(user_csd_pairs[user_csd_pairs['csd']==A]['user_id'])\n",
    "    P_AiB = len(A_users.intersection(B_users))/total_outcomes\n",
    "    return P_AiB / P_B"
   ]
  },
  {
   "cell_type": "code",
   "execution_count": 14,
   "metadata": {},
   "outputs": [
    {
     "name": "stdout",
     "output_type": "stream",
     "text": [
      "Probability of a user buying kettle given they bought a washer: 0.2057443480733684\n"
     ]
    }
   ],
   "source": [
    "print('Probability of a user buying kettle given they bought a washer:',PAgivenB('appliances.kitchen.kettle','appliances.kitchen.washer'))"
   ]
  },
  {
   "cell_type": "code",
   "execution_count": 15,
   "metadata": {},
   "outputs": [
    {
     "name": "stdout",
     "output_type": "stream",
     "text": [
      "Wall time: 22.2 s\n"
     ]
    }
   ],
   "source": [
    "%%time\n",
    "P = np.zeros((num_categories, num_categories))\n",
    "for i in range(num_categories):\n",
    "    for j in range(num_categories):\n",
    "        P[i,j] = PAgivenB(csd_rlookup[i],csd_rlookup[j]) "
   ]
  },
  {
   "cell_type": "code",
   "execution_count": 16,
   "metadata": {},
   "outputs": [
    {
     "name": "stdout",
     "output_type": "stream",
     "text": [
      "Probability of electronics.video.tv given computers.peripherals.mouse: 0.21696891191709844\n"
     ]
    }
   ],
   "source": [
    "a = 4\n",
    "b = 7\n",
    "print(f'Probability of {csd_rlookup[a]} given {csd_rlookup[b]}: {P[a,b]}')"
   ]
  },
  {
   "cell_type": "code",
   "execution_count": 17,
   "metadata": {},
   "outputs": [
    {
     "name": "stdout",
     "output_type": "stream",
     "text": [
      "Probability of construction.components.faucet given construction.components.faucet: 1.0\n"
     ]
    }
   ],
   "source": [
    "a = 90\n",
    "b = 90\n",
    "print(f'Probability of {csd_rlookup[a]} given {csd_rlookup[b]}: {P[a,b]}')"
   ]
  },
  {
   "cell_type": "code",
   "execution_count": 18,
   "metadata": {},
   "outputs": [
    {
     "name": "stdout",
     "output_type": "stream",
     "text": [
      "Probability of construction.components.faucet given auto.accessories.radar: 0.0\n"
     ]
    }
   ],
   "source": [
    "a = 90\n",
    "b = 94\n",
    "print(f'Probability of {csd_rlookup[a]} given {csd_rlookup[b]}: {P[a,b]}')"
   ]
  },
  {
   "cell_type": "code",
   "execution_count": 19,
   "metadata": {},
   "outputs": [
    {
     "name": "stdout",
     "output_type": "stream",
     "text": [
      "Maximum value of the array is: 1.0\n"
     ]
    },
    {
     "data": {
      "text/plain": [
       "(array([ 0,  4, 13, 24], dtype=int64),\n",
       " array([122, 122, 122, 122], dtype=int64))"
      ]
     },
     "execution_count": 19,
     "metadata": {},
     "output_type": "execute_result"
    }
   ],
   "source": [
    "P_Eye =  P-np.eye(num_categories, num_categories)\n",
    "max_value = np.amax(P_Eye)\n",
    "print('Maximum value of the array is:',max_value)\n",
    "np.where(P_Eye == max_value)"
   ]
  },
  {
   "cell_type": "code",
   "execution_count": 20,
   "metadata": {},
   "outputs": [
    {
     "name": "stdout",
     "output_type": "stream",
     "text": [
      "Probability of electronics.smartphone given apparel.shoes: 1.0\n"
     ]
    }
   ],
   "source": [
    "a = 0\n",
    "b = 122\n",
    "print(f'Probability of {csd_rlookup[a]} given {csd_rlookup[b]}: {P[a,b]}')"
   ]
  },
  {
   "cell_type": "code",
   "execution_count": 21,
   "metadata": {},
   "outputs": [
    {
     "data": {
      "text/html": [
       "<div>\n",
       "<style scoped>\n",
       "    .dataframe tbody tr th:only-of-type {\n",
       "        vertical-align: middle;\n",
       "    }\n",
       "\n",
       "    .dataframe tbody tr th {\n",
       "        vertical-align: top;\n",
       "    }\n",
       "\n",
       "    .dataframe thead th {\n",
       "        text-align: right;\n",
       "    }\n",
       "</style>\n",
       "<table border=\"1\" class=\"dataframe\">\n",
       "  <thead>\n",
       "    <tr style=\"text-align: right;\">\n",
       "      <th></th>\n",
       "      <th>csd</th>\n",
       "      <th>user_id</th>\n",
       "    </tr>\n",
       "  </thead>\n",
       "  <tbody>\n",
       "    <tr>\n",
       "      <th>369724</th>\n",
       "      <td>apparel.shoes</td>\n",
       "      <td>1515915625512096000</td>\n",
       "    </tr>\n",
       "    <tr>\n",
       "      <th>384821</th>\n",
       "      <td>apparel.shoes</td>\n",
       "      <td>1515915625512096000</td>\n",
       "    </tr>\n",
       "  </tbody>\n",
       "</table>\n",
       "</div>"
      ],
      "text/plain": [
       "                  csd              user_id\n",
       "369724  apparel.shoes  1515915625512096000\n",
       "384821  apparel.shoes  1515915625512096000"
      ]
     },
     "execution_count": 21,
     "metadata": {},
     "output_type": "execute_result"
    }
   ],
   "source": [
    "df[df['csd']=='apparel.shoes']"
   ]
  },
  {
   "cell_type": "code",
   "execution_count": 22,
   "metadata": {},
   "outputs": [
    {
     "data": {
      "text/html": [
       "<div>\n",
       "<style scoped>\n",
       "    .dataframe tbody tr th:only-of-type {\n",
       "        vertical-align: middle;\n",
       "    }\n",
       "\n",
       "    .dataframe tbody tr th {\n",
       "        vertical-align: top;\n",
       "    }\n",
       "\n",
       "    .dataframe thead th {\n",
       "        text-align: right;\n",
       "    }\n",
       "</style>\n",
       "<table border=\"1\" class=\"dataframe\">\n",
       "  <thead>\n",
       "    <tr style=\"text-align: right;\">\n",
       "      <th></th>\n",
       "      <th>csd</th>\n",
       "      <th>user_id</th>\n",
       "    </tr>\n",
       "  </thead>\n",
       "  <tbody>\n",
       "    <tr>\n",
       "      <th>316751</th>\n",
       "      <td>electronics.video.tv</td>\n",
       "      <td>1515915625512096000</td>\n",
       "    </tr>\n",
       "    <tr>\n",
       "      <th>316759</th>\n",
       "      <td>electronics.smartphone</td>\n",
       "      <td>1515915625512096000</td>\n",
       "    </tr>\n",
       "    <tr>\n",
       "      <th>316760</th>\n",
       "      <td>appliances.environment.water_heater</td>\n",
       "      <td>1515915625512096000</td>\n",
       "    </tr>\n",
       "    <tr>\n",
       "      <th>316777</th>\n",
       "      <td>appliances.kitchen.hood</td>\n",
       "      <td>1515915625512096000</td>\n",
       "    </tr>\n",
       "    <tr>\n",
       "      <th>316780</th>\n",
       "      <td>appliances.kitchen.hood</td>\n",
       "      <td>1515915625512096000</td>\n",
       "    </tr>\n",
       "    <tr>\n",
       "      <th>316782</th>\n",
       "      <td>appliances.kitchen.hood</td>\n",
       "      <td>1515915625512096000</td>\n",
       "    </tr>\n",
       "    <tr>\n",
       "      <th>369724</th>\n",
       "      <td>apparel.shoes</td>\n",
       "      <td>1515915625512096000</td>\n",
       "    </tr>\n",
       "    <tr>\n",
       "      <th>384821</th>\n",
       "      <td>apparel.shoes</td>\n",
       "      <td>1515915625512096000</td>\n",
       "    </tr>\n",
       "  </tbody>\n",
       "</table>\n",
       "</div>"
      ],
      "text/plain": [
       "                                        csd              user_id\n",
       "316751                 electronics.video.tv  1515915625512096000\n",
       "316759               electronics.smartphone  1515915625512096000\n",
       "316760  appliances.environment.water_heater  1515915625512096000\n",
       "316777              appliances.kitchen.hood  1515915625512096000\n",
       "316780              appliances.kitchen.hood  1515915625512096000\n",
       "316782              appliances.kitchen.hood  1515915625512096000\n",
       "369724                        apparel.shoes  1515915625512096000\n",
       "384821                        apparel.shoes  1515915625512096000"
      ]
     },
     "execution_count": 22,
     "metadata": {},
     "output_type": "execute_result"
    }
   ],
   "source": [
    "df[df['user_id']==1515915625512096000]"
   ]
  },
  {
   "cell_type": "markdown",
   "metadata": {},
   "source": [
    "### **Conclusion:** we need to eliminate categories with very few purchases!"
   ]
  },
  {
   "cell_type": "code",
   "execution_count": 23,
   "metadata": {},
   "outputs": [
    {
     "data": {
      "text/plain": [
       "24"
      ]
     },
     "execution_count": 23,
     "metadata": {},
     "output_type": "execute_result"
    }
   ],
   "source": [
    "num_categories = int(len(csd_value_counts)*.2)\n",
    "num_categories"
   ]
  },
  {
   "cell_type": "code",
   "execution_count": 24,
   "metadata": {},
   "outputs": [
    {
     "name": "stdout",
     "output_type": "stream",
     "text": [
      "We will have \u001b[94m24\u001b[0m unique categories.\n"
     ]
    }
   ],
   "source": [
    "csd_key = pd.DataFrame()\n",
    "csd_key['csd']=csd_value_counts.index[:num_categories]\n",
    "assert num_categories == len(csd_key), 'The number of categories must match regardless of method'\n",
    "print(f\"We will have {T.B}{len(csd_key):,}{T.E} unique categories.\")\n",
    "csd_key.to_csv(DATA_DIR+'purchase_csd_key.csv', index = True, header=True)\n",
    "csd_rlookup = pd.Series(index=csd_key.index,data=csd_key.csd)\n",
    "csd_rlookup = csd_rlookup.to_dict(OrderedDict)\n",
    "csd_lookup = pd.Series(index=csd_key.csd,data=csd_key.index)\n",
    "csd_lookup = csd_lookup.to_dict(OrderedDict)\n",
    "del csd_key"
   ]
  },
  {
   "cell_type": "code",
   "execution_count": 25,
   "metadata": {},
   "outputs": [
    {
     "name": "stdout",
     "output_type": "stream",
     "text": [
      "Last key is \u001b[94m23\u001b[0m, representing \u001b[94mappliances.kitchen.oven\u001b[0m.\n"
     ]
    }
   ],
   "source": [
    "print(f'Last key is {T.B}{num_categories-1}{T.E}, representing {T.B}{csd_rlookup[num_categories-1]}{T.E}.')"
   ]
  },
  {
   "cell_type": "code",
   "execution_count": 26,
   "metadata": {},
   "outputs": [],
   "source": [
    "def PAgivenB(A,B):\n",
    "    P_B = csd_value_counts[B]/total_outcomes\n",
    "    B_users = set(user_csd_pairs[user_csd_pairs['csd']==B]['user_id'])\n",
    "    A_users = set(user_csd_pairs[user_csd_pairs['csd']==A]['user_id'])\n",
    "    P_AiB = len(A_users.intersection(B_users))/total_outcomes\n",
    "    return P_AiB / P_B"
   ]
  },
  {
   "cell_type": "code",
   "execution_count": 27,
   "metadata": {},
   "outputs": [
    {
     "name": "stdout",
     "output_type": "stream",
     "text": [
      "Probability of a user buying kettle given they bought a washer: 0.2057443480733684\n"
     ]
    }
   ],
   "source": [
    "print('Probability of a user buying kettle given they bought a washer:',PAgivenB('appliances.kitchen.kettle','appliances.kitchen.washer'))"
   ]
  },
  {
   "cell_type": "code",
   "execution_count": 28,
   "metadata": {},
   "outputs": [
    {
     "name": "stdout",
     "output_type": "stream",
     "text": [
      "Wall time: 1.82 s\n"
     ]
    }
   ],
   "source": [
    "%%time\n",
    "P = np.zeros((num_categories, num_categories))\n",
    "for i in range(num_categories):\n",
    "    for j in range(num_categories):\n",
    "        P[i,j] = PAgivenB(csd_rlookup[i],csd_rlookup[j]) "
   ]
  },
  {
   "cell_type": "code",
   "execution_count": 29,
   "metadata": {},
   "outputs": [
    {
     "name": "stdout",
     "output_type": "stream",
     "text": [
      "Maximum value of the array is: 0.8182947019867549\n"
     ]
    }
   ],
   "source": [
    "P_Eye =  P-np.eye(num_categories, num_categories)\n",
    "max_value = np.amax(P_Eye)\n",
    "print('Maximum value of the array is:',max_value)"
   ]
  },
  {
   "cell_type": "code",
   "execution_count": 30,
   "metadata": {},
   "outputs": [
    {
     "name": "stdout",
     "output_type": "stream",
     "text": [
      "Probability of appliances.kitchen.hood given appliances.kitchen.oven: 0.8182947019867549\n",
      "Probability of appliances.kitchen.oven given appliances.kitchen.hood: 0.48996282527881035\n"
     ]
    }
   ],
   "source": [
    "(a,b) = np.where(P_Eye == max_value) \n",
    "a,b = a[0],b[0]\n",
    "print(f'Probability of {csd_rlookup[a]} given {csd_rlookup[b]}: {P[a,b]}')\n",
    "print(f'Probability of {csd_rlookup[b]} given {csd_rlookup[a]}: {P[b,a]}')"
   ]
  },
  {
   "cell_type": "code",
   "execution_count": 31,
   "metadata": {},
   "outputs": [
    {
     "name": "stdout",
     "output_type": "stream",
     "text": [
      "Minimum value of the array is: 0.03217104102059854\n"
     ]
    },
    {
     "data": {
      "text/plain": [
       "(array([13], dtype=int64), array([23], dtype=int64))"
      ]
     },
     "execution_count": 31,
     "metadata": {},
     "output_type": "execute_result"
    }
   ],
   "source": [
    "min_value = np.amin(P)\n",
    "print('Minimum value of the array is:',min_value)\n",
    "np.where(P_Eye == max_value)"
   ]
  },
  {
   "cell_type": "code",
   "execution_count": 32,
   "metadata": {},
   "outputs": [
    {
     "name": "stdout",
     "output_type": "stream",
     "text": [
      "Probability of appliances.environment.fan given electronics.smartphone: 0.03217104102059854\n"
     ]
    }
   ],
   "source": [
    "(a,b) = np.where(P == min_value) \n",
    "a,b = a[0],b[0]\n",
    "print(f'Probability of {csd_rlookup[a]} given {csd_rlookup[b]}: {P[a,b]}')"
   ]
  },
  {
   "cell_type": "markdown",
   "metadata": {},
   "source": [
    "# Predicting notebook sales"
   ]
  },
  {
   "cell_type": "code",
   "execution_count": 33,
   "metadata": {},
   "outputs": [
    {
     "name": "stdout",
     "output_type": "stream",
     "text": [
      "computers.notebook (id:1) sales prediction\n"
     ]
    }
   ],
   "source": [
    "print(f\"computers.notebook (id:{csd_lookup['computers.notebook']}) sales prediction\")"
   ]
  },
  {
   "cell_type": "code",
   "execution_count": 34,
   "metadata": {},
   "outputs": [],
   "source": [
    "start_time = time.time()\n",
    "number_of_users = df['user_id'].unique().shape[0]\n",
    "number_of_features = num_categories"
   ]
  },
  {
   "cell_type": "code",
   "execution_count": 35,
   "metadata": {},
   "outputs": [],
   "source": [
    "def user_experience_matrix(df,category_id_to_predict,print_freq=30000):\n",
    "    last_index = df.shape[0]-1      \n",
    "    # Use np.float32 for torch.cuda.FloatTensor.or np.float16 for torch.cuda.HalfTensor (float64 not recommended)\n",
    "    uxm = sp.dok_matrix((number_of_users, number_of_features), dtype=np.float32)   \n",
    "    print(f\"       # |   User | {'Category':40} |  Previous |   {T.b}New UX{T.E}\")\n",
    "    ignored_keys = 0\n",
    "    for row in df.itertuples():\n",
    "        uid = uid_lookup[row.user_id]\n",
    "        try:\n",
    "            csd = csd_lookup[row.csd]            \n",
    "            prev_ux = uxm[uid,csd]\n",
    "            ux = np.tanh(prev_ux+P[category_id_to_predict,csd])   \n",
    "            uxm[uid,csd] = ux\n",
    "            if (row.Index % print_freq == 0) or (row.Index == last_index):\n",
    "                print(f\"{row.Index:8} | \"+\n",
    "                      f\"{uid:6} | \"+\n",
    "                      f\"{row.csd:40} |  \"+\n",
    "                      f\"{prev_ux:8.5f} | \"+\n",
    "                      f\"{T.b}{ux:8.5f}{T.E}\")\n",
    "        except KeyError:\n",
    "            ignored_keys += 1\n",
    "            if (row.Index % print_freq == 0) or (row.Index == last_index):\n",
    "                print(f\"{row.Index:8} | \"+\n",
    "                      f\"{uid:6} | \"+\n",
    "                      f\"{row.csd:40} |  \"+\n",
    "                      f\"{T.R}   ignored category{T.E}\")\n",
    "    print(f'Ignored keys: {ignored_keys}')\n",
    "    return uxm"
   ]
  },
  {
   "cell_type": "code",
   "execution_count": 36,
   "metadata": {},
   "outputs": [
    {
     "name": "stdout",
     "output_type": "stream",
     "text": [
      "       # |   User | Category                                 |  Previous |   \u001b[1mNew UX\u001b[0m\n",
      "       0 |      0 | electronics.tablet                       |   0.00000 | \u001b[1m 0.30444\u001b[0m\n",
      "   30000 |  17192 | appliances.environment.vacuum            |   0.71106 | \u001b[1m 0.74991\u001b[0m\n",
      "   60000 |  17556 | appliances.kitchen.microwave             |   0.00000 | \u001b[1m 0.30472\u001b[0m\n",
      "   90000 |  18267 | stationery.battery                       |  \u001b[91m   ignored category\u001b[0m\n",
      "  120000 |  33666 | appliances.iron                          |   0.00000 | \u001b[1m 0.31295\u001b[0m\n",
      "  150000 |  42946 | electronics.smartphone                   |   0.00000 | \u001b[1m 0.14362\u001b[0m\n",
      "  180000 |  50869 | computers.notebook                       |   0.76159 | \u001b[1m 0.94268\u001b[0m\n",
      "  210000 |  58459 | electronics.smartphone                   |   0.00000 | \u001b[1m 0.14362\u001b[0m\n",
      "  240000 |  65079 | appliances.kitchen.meat_grinder          |   0.00000 | \u001b[1m 0.34483\u001b[0m\n",
      "  270000 |  42529 | appliances.environment.vacuum            |   0.25587 | \u001b[1m 0.47582\u001b[0m\n",
      "  300000 |  57768 | appliances.kitchen.microwave             |   0.30472 | \u001b[1m 0.55074\u001b[0m\n",
      "  330000 |  64883 | appliances.environment.vacuum            |   0.25587 | \u001b[1m 0.47582\u001b[0m\n",
      "  360000 |   3874 | computers.ebooks                         |  \u001b[91m   ignored category\u001b[0m\n",
      "  390000 |  23079 | appliances.environment.vacuum            |   0.00000 | \u001b[1m 0.25587\u001b[0m\n",
      "  420000 |  78240 | appliances.kitchen.blender               |   0.00000 | \u001b[1m 0.28831\u001b[0m\n",
      "  433937 |  82533 | appliances.kitchen.blender               |   0.00000 | \u001b[1m 0.28831\u001b[0m\n",
      "Ignored keys: 92116\n",
      "Wall time: 9.5 s\n"
     ]
    }
   ],
   "source": [
    "%%time\n",
    "uxm = user_experience_matrix(df,1)"
   ]
  },
  {
   "cell_type": "code",
   "execution_count": 37,
   "metadata": {},
   "outputs": [
    {
     "name": "stdout",
     "output_type": "stream",
     "text": [
      "Elapsed time: 9.54 seconds\n"
     ]
    }
   ],
   "source": [
    "print(f\"Elapsed time: {time.time()-start_time:.2f} seconds\")"
   ]
  },
  {
   "cell_type": "markdown",
   "metadata": {},
   "source": [
    "# Train - test - validation split"
   ]
  },
  {
   "cell_type": "code",
   "execution_count": 38,
   "metadata": {},
   "outputs": [],
   "source": [
    "def save_to_npz(X,path):\n",
    "    X = X.tocoo()\n",
    "    sp.save_npz(path,X)\n",
    "    print(f\"{T.G}Sparse matrix saved to: {path}{T.E}\")"
   ]
  },
  {
   "cell_type": "code",
   "execution_count": 39,
   "metadata": {},
   "outputs": [
    {
     "name": "stdout",
     "output_type": "stream",
     "text": [
      "Train: 70.00% \n",
      "Validation: 15.00% \n",
      "Test: 15.00%\n"
     ]
    }
   ],
   "source": [
    "print(f\"Train: {VAL_THRESHOLD*100:.2f}% \\nValidation: {(1-TEST_THRESHOLD)*100:.2f}% \\nTest: {(1-TEST_THRESHOLD)*100:.2f}%\")"
   ]
  },
  {
   "cell_type": "code",
   "execution_count": 40,
   "metadata": {},
   "outputs": [
    {
     "name": "stdout",
     "output_type": "stream",
     "text": [
      "Number of stored values: 161,086\n"
     ]
    }
   ],
   "source": [
    "NNZ = uxm.nnz\n",
    "print(f\"Number of stored values: {NNZ:,}\")"
   ]
  },
  {
   "cell_type": "code",
   "execution_count": 41,
   "metadata": {},
   "outputs": [
    {
     "data": {
      "text/plain": [
       "(82534, 24)"
      ]
     },
     "execution_count": 41,
     "metadata": {},
     "output_type": "execute_result"
    }
   ],
   "source": [
    "uxm.shape"
   ]
  },
  {
   "cell_type": "code",
   "execution_count": 42,
   "metadata": {},
   "outputs": [
    {
     "name": "stdout",
     "output_type": "stream",
     "text": [
      "Wall time: 1.3 s\n"
     ]
    }
   ],
   "source": [
    "%%time\n",
    "uxm_train = sp.dok_matrix.copy(uxm)\n",
    "uxm_val = sp.dok_matrix((number_of_users, number_of_features), dtype=np.float32) \n",
    "uxm_test = sp.dok_matrix((number_of_users, number_of_features), dtype=np.float32) "
   ]
  },
  {
   "cell_type": "code",
   "execution_count": 43,
   "metadata": {},
   "outputs": [
    {
     "name": "stdout",
     "output_type": "stream",
     "text": [
      "Wall time: 1.63 s\n"
     ]
    }
   ],
   "source": [
    "%%time\n",
    "rows,cols = uxm_train.nonzero()\n",
    "for row,col in zip(rows,cols):\n",
    "    rnd = random.random()\n",
    "    if rnd > TEST_THRESHOLD:\n",
    "        uxm_test[row,col] = uxm_train[row,col]\n",
    "        uxm_train[row,col] = 0\n",
    "    elif rnd > VAL_THRESHOLD:\n",
    "        uxm_val[row,col] = uxm_train[row,col]\n",
    "        uxm_train[row,col] = 0   "
   ]
  },
  {
   "cell_type": "code",
   "execution_count": 44,
   "metadata": {},
   "outputs": [
    {
     "name": "stdout",
     "output_type": "stream",
     "text": [
      "Number of train data values: 112,757 (70.00%)\n",
      "Number of validation data values: 24,241 (15.05%)\n",
      "Number of test data values: 24,088 (14.95%)\n"
     ]
    }
   ],
   "source": [
    "print(f\"Number of train data values: {uxm_train.nnz:,} ({uxm_train.nnz*100/NNZ:.2f}%)\")\n",
    "print(f\"Number of validation data values: {uxm_val.nnz:,} ({uxm_val.nnz*100/NNZ:.2f}%)\")\n",
    "print(f\"Number of test data values: {uxm_test.nnz:,} ({uxm_test.nnz*100/NNZ:.2f}%)\")\n",
    "errormessage = '''All datapoints should be in either the train, the test of the validation datasets. \n",
    "The reason might be a change in how .nnz of a DOK matrix (scipy.sparse.dok_matrix) is calculated. \n",
    "In version 1.5.2 SciPy setting the value to zero explicitly (X[i,j]=0) is not counted by .nnz'''\n",
    "assert NNZ - uxm_train.nnz - uxm_val.nnz - uxm_test.nnz == 0, errormessage"
   ]
  },
  {
   "cell_type": "code",
   "execution_count": 45,
   "metadata": {},
   "outputs": [],
   "source": [
    "# save_to_npz(uxm,ALL_DATA_PATH)\n",
    "# save_to_npz(uxm_train,TRAIN_DATA_PATH)\n",
    "# save_to_npz(uxm_val,VAL_DATA_PATH)\n",
    "# save_to_npz(uxm_test,TEST_DATA_PATH)"
   ]
  },
  {
   "cell_type": "code",
   "execution_count": null,
   "metadata": {},
   "outputs": [],
   "source": []
  }
 ],
 "metadata": {
  "kernelspec": {
   "display_name": "Python 3",
   "language": "python",
   "name": "python3"
  },
  "language_info": {
   "codemirror_mode": {
    "name": "ipython",
    "version": 3
   },
   "file_extension": ".py",
   "mimetype": "text/x-python",
   "name": "python",
   "nbconvert_exporter": "python",
   "pygments_lexer": "ipython3",
   "version": "3.8.5"
  }
 },
 "nbformat": 4,
 "nbformat_minor": 4
}

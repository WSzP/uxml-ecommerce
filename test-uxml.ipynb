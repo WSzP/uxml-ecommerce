{
 "cells": [
  {
   "cell_type": "code",
   "execution_count": 3,
   "metadata": {},
   "outputs": [],
   "source": [
    "import numpy as np\n",
    "import scipy.sparse as sp\n",
    "from scipy.sparse import csc_matrix as csc"
   ]
  },
  {
   "cell_type": "code",
   "execution_count": 4,
   "metadata": {},
   "outputs": [],
   "source": [
    "NAME = r'BasicMatrixFactorization' \n",
    "DATA_DIR = r'./data/'\n",
    "Y_HAT_PATH = DATA_DIR+r'/'+NAME+r'-y_hat.npz'\n",
    "TEST_DATA_PATH = DATA_DIR+r'uxm_test.npz'"
   ]
  },
  {
   "cell_type": "code",
   "execution_count": 5,
   "metadata": {},
   "outputs": [
    {
     "name": "stdout",
     "output_type": "stream",
     "text": [
      "Shape of the matrices: (177592, 44780)\n",
      "Number of non-zero values:\n",
      "Y:  552,255\n",
      "Ŷ:  552,255\n"
     ]
    }
   ],
   "source": [
    "y_hat = sp.load_npz(Y_HAT_PATH)\n",
    "y = sp.load_npz(TEST_DATA_PATH)\n",
    "assert y_hat.shape == y.shape, 'The shape of Y and Y_hat must match, otherwise they are not comparable.'\n",
    "print(f\"Shape of the matrices: {y.shape}\")\n",
    "print(\"Number of non-zero values:\")\n",
    "print(f\"Y: {y.nnz:8,}\")\n",
    "print(f\"Ŷ: {y_hat.nnz:8,}\")"
   ]
  },
  {
   "cell_type": "code",
   "execution_count": 6,
   "metadata": {},
   "outputs": [],
   "source": [
    "# Usually, the CSC is used when there are more rows than columns. (If there are more columns, use CSR instead.)\n",
    "y_hat = y_hat.tocsc()\n",
    "y = y.tocsc()"
   ]
  },
  {
   "cell_type": "code",
   "execution_count": 10,
   "metadata": {},
   "outputs": [
    {
     "name": "stdout",
     "output_type": "stream",
     "text": [
      "Mean Squared Error: 6.32073362848684\n"
     ]
    }
   ],
   "source": [
    "MSE = csc.sum(csc.power(y_hat-y,2))/y.nnz\n",
    "print(f\"Mean Squared Error: {MSE}\")"
   ]
  },
  {
   "cell_type": "code",
   "execution_count": null,
   "metadata": {},
   "outputs": [],
   "source": []
  }
 ],
 "metadata": {
  "kernelspec": {
   "display_name": "Python 3",
   "language": "python",
   "name": "python3"
  },
  "language_info": {
   "codemirror_mode": {
    "name": "ipython",
    "version": 3
   },
   "file_extension": ".py",
   "mimetype": "text/x-python",
   "name": "python",
   "nbconvert_exporter": "python",
   "pygments_lexer": "ipython3",
   "version": "3.7.7"
  },
  "widgets": {
   "application/vnd.jupyter.widget-state+json": {
    "state": {},
    "version_major": 2,
    "version_minor": 0
   }
  }
 },
 "nbformat": 4,
 "nbformat_minor": 4
}

{
 "cells": [
  {
   "cell_type": "code",
   "execution_count": 1,
   "metadata": {},
   "outputs": [],
   "source": [
    "import numpy as np\n",
    "import scipy.sparse as sp\n",
    "from scipy.sparse import csc_matrix as csc\n",
    "import pandas as pd"
   ]
  },
  {
   "cell_type": "code",
   "execution_count": 2,
   "metadata": {},
   "outputs": [],
   "source": [
    "EVENT_THRESHOLD = 5\n",
    "LOG_DIR = r'C:\\TensorLogs'\n",
    "NAME = r'BasicMatrixFactorization' \n",
    "DATA_DIR = r'./data/'\n",
    "Y_HAT_PATH = DATA_DIR+r'/'+NAME+r'-y_hat.npz'\n",
    "TEST_DATA_PATH = DATA_DIR+r'uxm_test.npz'\n",
    "TEST_RESULTS_PATH = LOG_DIR+'\\\\'+NAME+'\\\\test-results.csv'\n",
    "DATA_OCT = DATA_DIR+r'2019-Oct.csv'\n",
    "DATA_NOV = DATA_DIR+r'2019-Nov.csv'\n",
    "USECOLS = [\"event_type\",\"product_id\",\"user_id\"]"
   ]
  },
  {
   "cell_type": "code",
   "execution_count": 3,
   "metadata": {},
   "outputs": [],
   "source": [
    "ux_constants = pd.Series(pd.read_csv(DATA_DIR+r'ux_constants.csv', index_col=0, squeeze=True, header=None), dtype='float32')\n",
    "VIEW     = ux_constants['view_to_purchase']\n",
    "CART     = ux_constants['cart_to_purchase']\n",
    "REMOVE   = ux_constants['remove_to_purchase']\n",
    "PURCHASE = ux_constants['purchase_to_purchase']"
   ]
  },
  {
   "cell_type": "code",
   "execution_count": 4,
   "metadata": {},
   "outputs": [
    {
     "name": "stdout",
     "output_type": "stream",
     "text": [
      "Shape of the matrices: (177592, 44780)\n",
      "Number of non-zero values:\n",
      "Y:  552,255\n",
      "Ŷ:  552,255\n"
     ]
    }
   ],
   "source": [
    "log = pd.Series(dtype='float64')\n",
    "y_hat = sp.load_npz(Y_HAT_PATH)\n",
    "y = sp.load_npz(TEST_DATA_PATH)\n",
    "assert y_hat.shape == y.shape, 'The shape of Y and Y_hat must match, otherwise they are not comparable.'\n",
    "print(f\"Shape of the matrices: {y.shape}\")\n",
    "print(\"Number of non-zero values:\")\n",
    "print(f\"Y: {y.nnz:8,}\")\n",
    "print(f\"Ŷ: {y_hat.nnz:8,}\")"
   ]
  },
  {
   "cell_type": "code",
   "execution_count": 5,
   "metadata": {},
   "outputs": [],
   "source": [
    "# Usually, the CSC is used when there are more rows than columns. (If there are more columns, use CSR instead.)\n",
    "y_hat = y_hat.tocsc()\n",
    "y = y.tocsc()"
   ]
  },
  {
   "cell_type": "code",
   "execution_count": 6,
   "metadata": {},
   "outputs": [
    {
     "name": "stdout",
     "output_type": "stream",
     "text": [
      "Mean Square Error: 1.3106135299816208\n"
     ]
    }
   ],
   "source": [
    "MSE = csc.sum(csc.power(y_hat-y,2))/y.nnz\n",
    "print(f\"Mean Square Error: {MSE}\")\n",
    "log[\"MSE\"]=MSE"
   ]
  },
  {
   "cell_type": "code",
   "execution_count": 7,
   "metadata": {},
   "outputs": [
    {
     "name": "stdout",
     "output_type": "stream",
     "text": [
      "Root Mean Square Error: 1.14482030466865\n"
     ]
    }
   ],
   "source": [
    "RMSE = np.sqrt(MSE)\n",
    "print(f\"Root Mean Square Error: {RMSE}\")\n",
    "log[\"RMSE\"]=RMSE"
   ]
  },
  {
   "cell_type": "code",
   "execution_count": 8,
   "metadata": {},
   "outputs": [
    {
     "name": "stdout",
     "output_type": "stream",
     "text": [
      "Mean Absolute Error: 0.58932699794479\n"
     ]
    }
   ],
   "source": [
    "MAE = csc.sum(abs(y_hat-y))/y.nnz\n",
    "print(f\"Mean Absolute Error: {MAE}\")\n",
    "log[\"MAE\"]=MAE"
   ]
  },
  {
   "cell_type": "code",
   "execution_count": 9,
   "metadata": {},
   "outputs": [],
   "source": [
    "# log.to_csv(TEST_RESULTS_PATH, index = True, header=False)\n",
    "# log"
   ]
  },
  {
   "cell_type": "markdown",
   "metadata": {},
   "source": [
    "# Did we predict purchase behaviour correctly?\n",
    "Can we know if a user will buy a product before their first event related to the product?"
   ]
  },
  {
   "cell_type": "markdown",
   "metadata": {},
   "source": [
    "We need to be aware that some users might have purchased without dispatching EVENT_THRESHOLD (5) number of events!\n",
    "For example user_id:533444013 had 2 events, one of the purchase."
   ]
  },
  {
   "cell_type": "code",
   "execution_count": 10,
   "metadata": {},
   "outputs": [],
   "source": [
    "df = pd.concat([pd.read_csv(DATA_OCT, engine='c', sep=',',usecols=USECOLS)\n",
    "                ,pd.read_csv(DATA_NOV, engine='c', sep=',',usecols=USECOLS)])\n",
    "drop_visitors = set(df.user_id.value_counts()[df.user_id.value_counts()<EVENT_THRESHOLD].index)\n",
    "df = df[~df.user_id.isin(drop_visitors)]\n",
    "df.reset_index(inplace=True,drop=True)"
   ]
  },
  {
   "cell_type": "code",
   "execution_count": 11,
   "metadata": {},
   "outputs": [],
   "source": [
    "df = df[df.event_type=='purchase']\n",
    "df = df.drop(columns=['event_type'])"
   ]
  },
  {
   "cell_type": "code",
   "execution_count": 12,
   "metadata": {},
   "outputs": [],
   "source": [
    "new_user_id = pd.Series(pd.read_csv(DATA_DIR+r'new_user_id.csv', index_col=1, squeeze=True), dtype='int32')\n",
    "new_product_id = pd.Series(pd.read_csv(DATA_DIR+r'new_product_id.csv', index_col=1, squeeze=True), dtype='int32')"
   ]
  },
  {
   "cell_type": "code",
   "execution_count": 13,
   "metadata": {},
   "outputs": [],
   "source": [
    "purchases = set()\n",
    "i = 0\n",
    "for row in df.itertuples(): \n",
    "    uid = new_user_id[row.user_id]\n",
    "    pid = new_product_id[row.product_id]\n",
    "    purchases.add((uid,pid))    "
   ]
  },
  {
   "cell_type": "code",
   "execution_count": 14,
   "metadata": {},
   "outputs": [
    {
     "data": {
      "text/plain": [
       "True"
      ]
     },
     "execution_count": 14,
     "metadata": {},
     "output_type": "execute_result"
    }
   ],
   "source": [
    "# To test our set: We know that new_user_id 102890 made a purchase for the product with new_product_id 21957, so this should be in purchases.\n",
    "(102890, 21957) in purchases "
   ]
  },
  {
   "cell_type": "code",
   "execution_count": 15,
   "metadata": {},
   "outputs": [
    {
     "name": "stdout",
     "output_type": "stream",
     "text": [
      "VIEW     = 0.05302\n",
      "CART     = 0.19540\n",
      "REMOVE   = 0.04219\n",
      "PURCHASE = 1.00000\n"
     ]
    }
   ],
   "source": [
    "print(f\"VIEW     = {VIEW:.5f}\")\n",
    "print(f\"CART     = {CART:.5f}\")\n",
    "print(f\"REMOVE   = {REMOVE:.5f}\")\n",
    "print(f\"PURCHASE = {PURCHASE:.5f}\")"
   ]
  },
  {
   "cell_type": "code",
   "execution_count": 16,
   "metadata": {},
   "outputs": [],
   "source": [
    "def confusion_matrix(A, log):\n",
    "    true_positives = 0\n",
    "    true_negatives = 0\n",
    "    false_positives = 0\n",
    "    false_negatives = 0\n",
    "    # false_values = set()\n",
    "\n",
    "    rows,cols = A.nonzero()\n",
    "    for row,col in zip(rows,cols):\n",
    "        predicted_positive = expected_positive = False\n",
    "        predicted_positive = (A[row,col] >= 0.5)\n",
    "        expected_positive = (row, col) in purchases\n",
    "        if expected_positive and predicted_positive:\n",
    "            true_positives += 1\n",
    "        elif expected_positive and (not predicted_positive):\n",
    "            false_negatives += 1\n",
    "    #         false_values.add(A[row,col])\n",
    "        elif (not expected_positive) and predicted_positive:\n",
    "            false_positives += 1\n",
    "    #         false_values.add(A[row,col])\n",
    "        else: \n",
    "            true_negatives += 1\n",
    "\n",
    "    ### Print and log the results   \n",
    "    # false_values = np.array(list(false_values))\n",
    "    print(f\"* True positives: {true_positives}\")\n",
    "    log[\"true_positives\"]=true_positives\n",
    "    print(f\"* True negatives: {true_negatives}\")\n",
    "    log[\"true_negatives\"]=true_negatives\n",
    "    print(f\"* False positives: {false_positives}\")\n",
    "    log[\"false_positives\"]=false_positives\n",
    "    print(f\"* False negatives (worst case): {false_negatives}\")\n",
    "    log[\"false_negatives\"]=false_negatives\n",
    "    print(f\"* False total: {false_negatives+false_positives}\")\n",
    "    return log"
   ]
  },
  {
   "cell_type": "markdown",
   "metadata": {},
   "source": [
    "## Example output for y\n",
    "### Essentially testing if our data preparation works (should have near zero false negatives) (MSE=0)\n",
    "* True positives: 82194\n",
    "* True negatives: 463701\n",
    "* False positives: 6357\n",
    "* False negatives (worst case): 3\n",
    "* False total: 6360"
   ]
  },
  {
   "cell_type": "code",
   "execution_count": 17,
   "metadata": {},
   "outputs": [
    {
     "name": "stdout",
     "output_type": "stream",
     "text": [
      "* True positives: 6762\n",
      "* True negatives: 427498\n",
      "* False positives: 42560\n",
      "* False negatives (worst case): 75435\n",
      "* False total: 117995\n"
     ]
    }
   ],
   "source": [
    "log = confusion_matrix(y_hat,log)"
   ]
  },
  {
   "cell_type": "code",
   "execution_count": 18,
   "metadata": {},
   "outputs": [
    {
     "data": {
      "text/plain": [
       "MSE                     1.310614\n",
       "RMSE                    1.144820\n",
       "MAE                     0.589327\n",
       "true_positives       6762.000000\n",
       "true_negatives     427498.000000\n",
       "false_positives     42560.000000\n",
       "false_negatives     75435.000000\n",
       "dtype: float64"
      ]
     },
     "execution_count": 18,
     "metadata": {},
     "output_type": "execute_result"
    }
   ],
   "source": [
    "log"
   ]
  },
  {
   "cell_type": "code",
   "execution_count": null,
   "metadata": {},
   "outputs": [],
   "source": []
  }
 ],
 "metadata": {
  "kernelspec": {
   "display_name": "Python 3",
   "language": "python",
   "name": "python3"
  },
  "language_info": {
   "codemirror_mode": {
    "name": "ipython",
    "version": 3
   },
   "file_extension": ".py",
   "mimetype": "text/x-python",
   "name": "python",
   "nbconvert_exporter": "python",
   "pygments_lexer": "ipython3",
   "version": "3.7.7"
  },
  "widgets": {
   "application/vnd.jupyter.widget-state+json": {
    "state": {},
    "version_major": 2,
    "version_minor": 0
   }
  }
 },
 "nbformat": 4,
 "nbformat_minor": 4
}

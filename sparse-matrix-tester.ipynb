{
 "cells": [
  {
   "cell_type": "code",
   "execution_count": 1,
   "metadata": {},
   "outputs": [],
   "source": [
    "import numpy as np\n",
    "import scipy.sparse as sp\n",
    "from scipy.sparse import coo_matrix as coo"
   ]
  },
  {
   "cell_type": "code",
   "execution_count": 2,
   "metadata": {},
   "outputs": [],
   "source": [
    "class T:\n",
    "   B = '\\033[94m' # blue\n",
    "   G = '\\033[92m' # green\n",
    "   Y = '\\033[93m' # yellow\n",
    "   R = '\\033[91m' # red\n",
    "   b = '\\033[1m' # bold\n",
    "   E = '\\033[0m' # end formatting"
   ]
  },
  {
   "cell_type": "code",
   "execution_count": 3,
   "metadata": {},
   "outputs": [],
   "source": [
    "DATA_DIR = r'./data/'"
   ]
  },
  {
   "cell_type": "code",
   "execution_count": 4,
   "metadata": {},
   "outputs": [],
   "source": [
    "uxm = sp.load_npz(DATA_DIR+r'uxm.npz')"
   ]
  },
  {
   "cell_type": "code",
   "execution_count": 5,
   "metadata": {},
   "outputs": [
    {
     "data": {
      "text/plain": [
       "(177592, 44780)"
      ]
     },
     "execution_count": 5,
     "metadata": {},
     "output_type": "execute_result"
    }
   ],
   "source": [
    "nonzero = coo.count_nonzero(uxm)\n",
    "assert uxm.nnz == nonzero, \"There should be no explicitely stored zero values in uxm.npz\"\n",
    "uxm.shape"
   ]
  },
  {
   "cell_type": "code",
   "execution_count": 6,
   "metadata": {},
   "outputs": [
    {
     "name": "stdout",
     "output_type": "stream",
     "text": [
      "Number of non-zero values: \u001b[94m3,687,560\u001b[0m\n"
     ]
    }
   ],
   "source": [
    "print(f\"Number of non-zero values: {T.B}{nonzero:,}{T.E}\")"
   ]
  },
  {
   "cell_type": "code",
   "execution_count": 7,
   "metadata": {},
   "outputs": [
    {
     "name": "stdout",
     "output_type": "stream",
     "text": [
      "Total number of values (including zeros): \u001b[94m7,952,569,760\u001b[0m\n"
     ]
    }
   ],
   "source": [
    "print(f\"Total number of values (including zeros): {T.B}{uxm.shape[0]*uxm.shape[1]:,}{T.E}\")"
   ]
  },
  {
   "cell_type": "code",
   "execution_count": 8,
   "metadata": {},
   "outputs": [
    {
     "name": "stdout",
     "output_type": "stream",
     "text": [
      "The sparsity of the matrix: \u001b[94m0.99954\u001b[0m\n"
     ]
    }
   ],
   "source": [
    "assert 1-nonzero/(uxm.shape[0]*uxm.shape[1]) > 0.5, \"The matrix needs to be sparse (its sparsity should be greater than 0.5).\"\n",
    "print(f\"The sparsity of the matrix: {T.B}{1-nonzero/(uxm.shape[0]*uxm.shape[1]):.5f}{T.E}\")"
   ]
  },
  {
   "cell_type": "code",
   "execution_count": 9,
   "metadata": {},
   "outputs": [
    {
     "name": "stdout",
     "output_type": "stream",
     "text": [
      "The maximum value of the matrix: \u001b[94m0.96117\u001b[0m\n"
     ]
    }
   ],
   "source": [
    "assert coo.max(uxm) <= 1, \"The maximum value of the sparse matrix should be <= 1.\"\n",
    "print(f\"The maximum value of the matrix: {T.B}{coo.max(uxm):.5f}{T.E}\")"
   ]
  },
  {
   "cell_type": "code",
   "execution_count": 10,
   "metadata": {},
   "outputs": [
    {
     "name": "stdout",
     "output_type": "stream",
     "text": [
      "The minimum value of the matrix: \u001b[94m0.00000\u001b[0m\n"
     ]
    }
   ],
   "source": [
    "assert coo.min(uxm) == 0, \"The minimum value of the sparse matrix should be 0.\"\n",
    "print(f\"The minimum value of the matrix: {T.B}{coo.min(uxm):.5f}{T.E}\")"
   ]
  },
  {
   "cell_type": "code",
   "execution_count": 11,
   "metadata": {},
   "outputs": [
    {
     "name": "stdout",
     "output_type": "stream",
     "text": [
      "The minimum non-zero value of the matrix: \u001b[94m0.04216\u001b[0m\n"
     ]
    }
   ],
   "source": [
    "uxm_nonzero = np.array(sp.find(uxm))\n",
    "print(f\"The minimum non-zero value of the matrix: {T.B}{uxm_nonzero[2].min():.5f}{T.E}\")"
   ]
  },
  {
   "cell_type": "code",
   "execution_count": 12,
   "metadata": {},
   "outputs": [
    {
     "name": "stdout",
     "output_type": "stream",
     "text": [
      "\u001b[92m [PASS] \u001b[0m\n"
     ]
    }
   ],
   "source": [
    "print('\\033[92m [PASS] \\033[0m')"
   ]
  },
  {
   "cell_type": "code",
   "execution_count": null,
   "metadata": {},
   "outputs": [],
   "source": []
  }
 ],
 "metadata": {
  "kernelspec": {
   "display_name": "Python 3",
   "language": "python",
   "name": "python3"
  },
  "language_info": {
   "codemirror_mode": {
    "name": "ipython",
    "version": 3
   },
   "file_extension": ".py",
   "mimetype": "text/x-python",
   "name": "python",
   "nbconvert_exporter": "python",
   "pygments_lexer": "ipython3",
   "version": "3.7.7"
  },
  "widgets": {
   "application/vnd.jupyter.widget-state+json": {
    "state": {},
    "version_major": 2,
    "version_minor": 0
   }
  }
 },
 "nbformat": 4,
 "nbformat_minor": 4
}

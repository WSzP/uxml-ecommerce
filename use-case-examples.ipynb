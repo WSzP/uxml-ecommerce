{
 "cells": [
  {
   "cell_type": "code",
   "execution_count": 1,
   "metadata": {},
   "outputs": [],
   "source": [
    "import numpy as np\n",
    "import matplotlib.pyplot as plt\n",
    "FONT_SIZE = 16\n",
    "plt.rcParams['figure.figsize'] = (20,8)\n",
    "plt.rcParams['text.usetex'] = True\n",
    "plt.rcParams['font.size'] = FONT_SIZE\n",
    "plt.rcParams['legend.fontsize'] = FONT_SIZE\n",
    "plt.rcParams['xtick.labelsize'] = FONT_SIZE\n",
    "plt.rcParams['ytick.labelsize'] = FONT_SIZE\n",
    "%config InlineBackend.figure_format ='retina'\n",
    "import scipy.sparse as sp\n",
    "import pandas as pd\n",
    "pd.options.display.float_format = '{:,.4f}'.format\n",
    "from constants import (TEST_DATA_PATH, UX_CONSTANTS,DATA_DIR, SEED,\n",
    "                        TEST_DATA_PATH, TRAIN_DATA_PATH,\n",
    "                       DATA_OCT, DATA_NOV,USECOLS,EVENT_THRESHOLD)\n",
    "from collections import OrderedDict\n",
    "from tqdm.notebook import tqdm"
   ]
  },
  {
   "cell_type": "code",
   "execution_count": 2,
   "metadata": {},
   "outputs": [],
   "source": [
    "Y_HAT_PATH = DATA_DIR+r'/AdamUXML-y_hat-500epochs.npz'\n",
    "ux_constants = pd.Series(pd.read_csv(UX_CONSTANTS, index_col=0, squeeze=True, header=None), dtype='float32')\n",
    "POSITIVE_ABOVE = ux_constants['positive_above']"
   ]
  },
  {
   "cell_type": "code",
   "execution_count": 3,
   "metadata": {},
   "outputs": [],
   "source": [
    "input_df = pd.concat([pd.read_csv(DATA_OCT, engine='c', sep=',')\n",
    "                ,pd.read_csv(DATA_NOV, engine='c', sep=',')])\n",
    "drop_visitors = set(input_df.user_id.value_counts()[input_df.user_id.value_counts()<EVENT_THRESHOLD].index)\n",
    "input_df = input_df[~input_df.user_id.isin(drop_visitors)]\n",
    "input_df.reset_index(inplace=True,drop=True)"
   ]
  },
  {
   "cell_type": "code",
   "execution_count": 4,
   "metadata": {},
   "outputs": [],
   "source": [
    "### Convert new_user_id and new_product_id to database user_id and product_id\n",
    "new_user_id = pd.Series(pd.read_csv(DATA_DIR+r'new_user_id.csv', index_col=0, squeeze=True), dtype='int32')\n",
    "uid_lookup = new_user_id.to_dict(OrderedDict)\n",
    "del new_user_id\n",
    "new_product_id = pd.Series(pd.read_csv(DATA_DIR+r'new_product_id.csv', index_col=0, squeeze=True), dtype='int32')\n",
    "pid_lookup = new_product_id.to_dict(OrderedDict)\n",
    "del new_product_id"
   ]
  },
  {
   "cell_type": "code",
   "execution_count": 5,
   "metadata": {},
   "outputs": [
    {
     "name": "stdout",
     "output_type": "stream",
     "text": [
      "For example, new_user_id:4 is user_id:467916806 in the database and the CSV export of it.\n"
     ]
    }
   ],
   "source": [
    "#to convert new_*_id to database *_id, simply use uid_lookup[new_user_id] or pid_lookup[new_product_id]\n",
    "i = 4\n",
    "print(f\"For example, new_user_id:{i} is user_id:{uid_lookup[i]} in the database and the CSV export of it.\")"
   ]
  },
  {
   "cell_type": "code",
   "execution_count": 6,
   "metadata": {},
   "outputs": [
    {
     "name": "stdout",
     "output_type": "stream",
     "text": [
      "MLUX made 552,255 pedictions, being trained on 2,581,863 datapoints for 500 epochs.\n"
     ]
    }
   ],
   "source": [
    "y_hat = sp.load_npz(Y_HAT_PATH) \n",
    "y = sp.load_npz(TEST_DATA_PATH)\n",
    "y_train = sp.load_npz(TRAIN_DATA_PATH)\n",
    "print(f\"MLUX made {y_hat.nnz:,} pedictions, being trained on {y_train.nnz:,} datapoints for 500 epochs.\")"
   ]
  },
  {
   "cell_type": "markdown",
   "metadata": {},
   "source": [
    "# All predictions as a dataframe"
   ]
  },
  {
   "cell_type": "code",
   "execution_count": 7,
   "metadata": {},
   "outputs": [],
   "source": [
    "rows,cols = y_hat.nonzero()\n",
    "y_hat = y_hat.todok()\n",
    "preds_data = []\n",
    "test_set = set()\n",
    "for row, col in zip(rows,cols):\n",
    "    uid= uid_lookup[row]\n",
    "    pid = pid_lookup[col]\n",
    "    preds_data.append([uid,pid,y_hat[row,col]])\n",
    "    test_set.add((uid,pid))\n",
    "preds = pd.DataFrame(columns=['user_id','product_id','p_conversion'], data=preds_data)\n",
    "del preds_data"
   ]
  },
  {
   "cell_type": "code",
   "execution_count": 8,
   "metadata": {},
   "outputs": [
    {
     "data": {
      "text/html": [
       "<div>\n",
       "<style scoped>\n",
       "    .dataframe tbody tr th:only-of-type {\n",
       "        vertical-align: middle;\n",
       "    }\n",
       "\n",
       "    .dataframe tbody tr th {\n",
       "        vertical-align: top;\n",
       "    }\n",
       "\n",
       "    .dataframe thead th {\n",
       "        text-align: right;\n",
       "    }\n",
       "</style>\n",
       "<table border=\"1\" class=\"dataframe\">\n",
       "  <thead>\n",
       "    <tr style=\"text-align: right;\">\n",
       "      <th></th>\n",
       "      <th>user_id</th>\n",
       "      <th>product_id</th>\n",
       "      <th>p_conversion</th>\n",
       "    </tr>\n",
       "  </thead>\n",
       "  <tbody>\n",
       "    <tr>\n",
       "      <th>0</th>\n",
       "      <td>559469332</td>\n",
       "      <td>5877495</td>\n",
       "      <td>0.0328</td>\n",
       "    </tr>\n",
       "    <tr>\n",
       "      <th>1</th>\n",
       "      <td>536041479</td>\n",
       "      <td>5711162</td>\n",
       "      <td>0.0136</td>\n",
       "    </tr>\n",
       "    <tr>\n",
       "      <th>2</th>\n",
       "      <td>551025996</td>\n",
       "      <td>5900647</td>\n",
       "      <td>-0.1729</td>\n",
       "    </tr>\n",
       "    <tr>\n",
       "      <th>3</th>\n",
       "      <td>529061768</td>\n",
       "      <td>5649461</td>\n",
       "      <td>0.3923</td>\n",
       "    </tr>\n",
       "    <tr>\n",
       "      <th>4</th>\n",
       "      <td>552392310</td>\n",
       "      <td>5875392</td>\n",
       "      <td>0.2250</td>\n",
       "    </tr>\n",
       "    <tr>\n",
       "      <th>...</th>\n",
       "      <td>...</td>\n",
       "      <td>...</td>\n",
       "      <td>...</td>\n",
       "    </tr>\n",
       "    <tr>\n",
       "      <th>552250</th>\n",
       "      <td>565813192</td>\n",
       "      <td>5843949</td>\n",
       "      <td>0.1340</td>\n",
       "    </tr>\n",
       "    <tr>\n",
       "      <th>552251</th>\n",
       "      <td>494135107</td>\n",
       "      <td>5875513</td>\n",
       "      <td>0.0861</td>\n",
       "    </tr>\n",
       "    <tr>\n",
       "      <th>552252</th>\n",
       "      <td>563238967</td>\n",
       "      <td>5815732</td>\n",
       "      <td>0.7068</td>\n",
       "    </tr>\n",
       "    <tr>\n",
       "      <th>552253</th>\n",
       "      <td>476481009</td>\n",
       "      <td>31612</td>\n",
       "      <td>0.5522</td>\n",
       "    </tr>\n",
       "    <tr>\n",
       "      <th>552254</th>\n",
       "      <td>440897197</td>\n",
       "      <td>5617823</td>\n",
       "      <td>0.3843</td>\n",
       "    </tr>\n",
       "  </tbody>\n",
       "</table>\n",
       "<p>552255 rows × 3 columns</p>\n",
       "</div>"
      ],
      "text/plain": [
       "          user_id  product_id  p_conversion\n",
       "0       559469332     5877495        0.0328\n",
       "1       536041479     5711162        0.0136\n",
       "2       551025996     5900647       -0.1729\n",
       "3       529061768     5649461        0.3923\n",
       "4       552392310     5875392        0.2250\n",
       "...           ...         ...           ...\n",
       "552250  565813192     5843949        0.1340\n",
       "552251  494135107     5875513        0.0861\n",
       "552252  563238967     5815732        0.7068\n",
       "552253  476481009       31612        0.5522\n",
       "552254  440897197     5617823        0.3843\n",
       "\n",
       "[552255 rows x 3 columns]"
      ]
     },
     "execution_count": 8,
     "metadata": {},
     "output_type": "execute_result"
    }
   ],
   "source": [
    "preds"
   ]
  },
  {
   "cell_type": "code",
   "execution_count": 9,
   "metadata": {},
   "outputs": [
    {
     "name": "stderr",
     "output_type": "stream",
     "text": [
      "C:\\ProgramData\\Anaconda3\\lib\\site-packages\\tqdm\\std.py:658: FutureWarning: The Panel class is removed from pandas. Accessing it from the top-level namespace will also be removed in the next version\n",
      "  from pandas import Panel\n"
     ]
    },
    {
     "data": {
      "application/vnd.jupyter.widget-view+json": {
       "model_id": "7f423c7e5ce24c9d94db8f3dc185ca6c",
       "version_major": 2,
       "version_minor": 0
      },
      "text/plain": [
       "HBox(children=(FloatProgress(value=0.0, max=7780864.0), HTML(value='')))"
      ]
     },
     "metadata": {},
     "output_type": "display_data"
    },
    {
     "name": "stdout",
     "output_type": "stream",
     "text": [
      "\n"
     ]
    }
   ],
   "source": [
    "tqdm.pandas()\n",
    "def func(user_id,product_id):    \n",
    "    return tuple([user_id,product_id]) in test_set\n",
    "input_df['in_test']= input_df.progress_apply(lambda x: func(x['user_id'],x['product_id']), axis=1) "
   ]
  },
  {
   "cell_type": "code",
   "execution_count": 10,
   "metadata": {},
   "outputs": [],
   "source": [
    "test_df = input_df[input_df.in_test == True]"
   ]
  },
  {
   "cell_type": "markdown",
   "metadata": {},
   "source": [
    "# A. Ordered recommendations for a user from the test set"
   ]
  },
  {
   "cell_type": "code",
   "execution_count": 11,
   "metadata": {},
   "outputs": [
    {
     "data": {
      "text/plain": [
       "557616099    380\n",
       "557956487    256\n",
       "352394658    250\n",
       "510369366    191\n",
       "541975884    181\n",
       "            ... \n",
       "536232573      1\n",
       "563891981      1\n",
       "562280433      1\n",
       "578019071      1\n",
       "465577979      1\n",
       "Name: user_id, Length: 128624, dtype: int64"
      ]
     },
     "execution_count": 11,
     "metadata": {},
     "output_type": "execute_result"
    }
   ],
   "source": [
    "predictions_for_each_user = preds.user_id.value_counts()\n",
    "predictions_for_each_user"
   ]
  },
  {
   "cell_type": "code",
   "execution_count": 12,
   "metadata": {},
   "outputs": [
    {
     "data": {
      "text/plain": [
       "463654656    15\n",
       "Name: user_id, dtype: int64"
      ]
     },
     "execution_count": 12,
     "metadata": {},
     "output_type": "execute_result"
    }
   ],
   "source": [
    "# let's take a sample user\n",
    "sample = predictions_for_each_user.sample(n=1, random_state=0)\n",
    "sample"
   ]
  },
  {
   "cell_type": "code",
   "execution_count": 13,
   "metadata": {},
   "outputs": [
    {
     "name": "stdout",
     "output_type": "stream",
     "text": [
      "We should recommend the following products to the user:\n",
      "[5653177 5820720   59973 5867073 5683376 5879134 5820717 5723471 5879120\n",
      " 5775814]\n"
     ]
    }
   ],
   "source": [
    "recommendations = preds[preds.user_id==sample.index[0]].sort_values(by=['p_conversion'],ascending=False).head(10).product_id.values\n",
    "print(f\"We should recommend the following products to the user:\\n{recommendations}\")"
   ]
  },
  {
   "cell_type": "markdown",
   "metadata": {},
   "source": [
    "# B. Minimalistic prediction of the number of items needed to be in stock for the near future"
   ]
  },
  {
   "cell_type": "code",
   "execution_count": 14,
   "metadata": {},
   "outputs": [
    {
     "data": {
      "text/plain": [
       "5854897    202\n",
       "5802432    196\n",
       "5809910    189\n",
       "5815662    151\n",
       "5700037    144\n",
       "          ... \n",
       "5876996      1\n",
       "5676290      1\n",
       "5600447      1\n",
       "5864638      1\n",
       "5900289      1\n",
       "Name: product_id, Length: 14498, dtype: int64"
      ]
     },
     "execution_count": 14,
     "metadata": {},
     "output_type": "execute_result"
    }
   ],
   "source": [
    "item_conversion_predictions = preds[preds.p_conversion>POSITIVE_ABOVE]\n",
    "stock_needed = item_conversion_predictions.product_id.value_counts()\n",
    "stock_needed"
   ]
  },
  {
   "cell_type": "markdown",
   "metadata": {},
   "source": [
    "### What we predict"
   ]
  },
  {
   "cell_type": "code",
   "execution_count": 15,
   "metadata": {},
   "outputs": [
    {
     "data": {
      "text/plain": [
       "5900594    2\n",
       "Name: product_id, dtype: int64"
      ]
     },
     "execution_count": 15,
     "metadata": {},
     "output_type": "execute_result"
    }
   ],
   "source": [
    "samples = stock_needed.sample(n=1, random_state=0)\n",
    "samples"
   ]
  },
  {
   "cell_type": "code",
   "execution_count": 16,
   "metadata": {},
   "outputs": [
    {
     "data": {
      "text/html": [
       "<div>\n",
       "<style scoped>\n",
       "    .dataframe tbody tr th:only-of-type {\n",
       "        vertical-align: middle;\n",
       "    }\n",
       "\n",
       "    .dataframe tbody tr th {\n",
       "        vertical-align: top;\n",
       "    }\n",
       "\n",
       "    .dataframe thead th {\n",
       "        text-align: right;\n",
       "    }\n",
       "</style>\n",
       "<table border=\"1\" class=\"dataframe\">\n",
       "  <thead>\n",
       "    <tr style=\"text-align: right;\">\n",
       "      <th></th>\n",
       "      <th>user_id</th>\n",
       "      <th>product_id</th>\n",
       "      <th>p_conversion</th>\n",
       "    </tr>\n",
       "  </thead>\n",
       "  <tbody>\n",
       "    <tr>\n",
       "      <th>102071</th>\n",
       "      <td>564697246</td>\n",
       "      <td>5900594</td>\n",
       "      <td>0.6464</td>\n",
       "    </tr>\n",
       "    <tr>\n",
       "      <th>336594</th>\n",
       "      <td>470892422</td>\n",
       "      <td>5900594</td>\n",
       "      <td>0.6929</td>\n",
       "    </tr>\n",
       "  </tbody>\n",
       "</table>\n",
       "</div>"
      ],
      "text/plain": [
       "          user_id  product_id  p_conversion\n",
       "102071  564697246     5900594        0.6464\n",
       "336594  470892422     5900594        0.6929"
      ]
     },
     "execution_count": 16,
     "metadata": {},
     "output_type": "execute_result"
    }
   ],
   "source": [
    "item_conversion_predictions[item_conversion_predictions.product_id == samples.index[0]]"
   ]
  },
  {
   "cell_type": "markdown",
   "metadata": {},
   "source": [
    "### What is the ground truth from the CSV?"
   ]
  },
  {
   "cell_type": "code",
   "execution_count": 17,
   "metadata": {},
   "outputs": [
    {
     "data": {
      "text/html": [
       "<div>\n",
       "<style scoped>\n",
       "    .dataframe tbody tr th:only-of-type {\n",
       "        vertical-align: middle;\n",
       "    }\n",
       "\n",
       "    .dataframe tbody tr th {\n",
       "        vertical-align: top;\n",
       "    }\n",
       "\n",
       "    .dataframe thead th {\n",
       "        text-align: right;\n",
       "    }\n",
       "</style>\n",
       "<table border=\"1\" class=\"dataframe\">\n",
       "  <thead>\n",
       "    <tr style=\"text-align: right;\">\n",
       "      <th></th>\n",
       "      <th>event_time</th>\n",
       "      <th>event_type</th>\n",
       "      <th>product_id</th>\n",
       "      <th>category_id</th>\n",
       "      <th>category_code</th>\n",
       "      <th>brand</th>\n",
       "      <th>price</th>\n",
       "      <th>user_id</th>\n",
       "      <th>user_session</th>\n",
       "      <th>in_test</th>\n",
       "    </tr>\n",
       "  </thead>\n",
       "  <tbody>\n",
       "    <tr>\n",
       "      <th>3790298</th>\n",
       "      <td>2019-11-03 12:48:56 UTC</td>\n",
       "      <td>purchase</td>\n",
       "      <td>5900594</td>\n",
       "      <td>1487580007675986893</td>\n",
       "      <td>NaN</td>\n",
       "      <td>freedecor</td>\n",
       "      <td>0.7900</td>\n",
       "      <td>564697246</td>\n",
       "      <td>44d48704-24c6-4ab1-da23-65acddeaacfb</td>\n",
       "      <td>True</td>\n",
       "    </tr>\n",
       "    <tr>\n",
       "      <th>7592608</th>\n",
       "      <td>2019-11-29 18:54:02 UTC</td>\n",
       "      <td>purchase</td>\n",
       "      <td>5900594</td>\n",
       "      <td>1487580007675986893</td>\n",
       "      <td>NaN</td>\n",
       "      <td>freedecor</td>\n",
       "      <td>0.6700</td>\n",
       "      <td>470892422</td>\n",
       "      <td>6010c118-6483-41da-8ed5-df805022182d</td>\n",
       "      <td>True</td>\n",
       "    </tr>\n",
       "  </tbody>\n",
       "</table>\n",
       "</div>"
      ],
      "text/plain": [
       "                      event_time event_type  product_id          category_id  \\\n",
       "3790298  2019-11-03 12:48:56 UTC   purchase     5900594  1487580007675986893   \n",
       "7592608  2019-11-29 18:54:02 UTC   purchase     5900594  1487580007675986893   \n",
       "\n",
       "        category_code      brand  price    user_id  \\\n",
       "3790298           NaN  freedecor 0.7900  564697246   \n",
       "7592608           NaN  freedecor 0.6700  470892422   \n",
       "\n",
       "                                 user_session  in_test  \n",
       "3790298  44d48704-24c6-4ab1-da23-65acddeaacfb     True  \n",
       "7592608  6010c118-6483-41da-8ed5-df805022182d     True  "
      ]
     },
     "execution_count": 17,
     "metadata": {},
     "output_type": "execute_result"
    }
   ],
   "source": [
    "gt_puchases = test_df[test_df.event_type=='purchase']\n",
    "gt_puchases[gt_puchases.product_id==samples.index[0]] "
   ]
  },
  {
   "cell_type": "markdown",
   "metadata": {},
   "source": [
    "## For n samples"
   ]
  },
  {
   "cell_type": "code",
   "execution_count": 18,
   "metadata": {},
   "outputs": [],
   "source": [
    "def stock_prediction(samples,minimalism=0):\n",
    "    assert minimalism < 1, \"The minimalism must be in (-1,1) range.\"\n",
    "    assert minimalism > -1, \"The minimalism must be in [0,1) range.\"\n",
    "    adjusted_p = POSITIVE_ABOVE + (1-POSITIVE_ABOVE)*minimalism \n",
    "    item_conversion_predictions = preds[preds.p_conversion>adjusted_p]\n",
    "    predicted_stock_need = [len(item_conversion_predictions[item_conversion_predictions.product_id==sample]) for sample in samples.index]\n",
    "    predicted_stock_need = np.array(predicted_stock_need)\n",
    "#     print(f\"Predicted stock need:    {predicted_stock_need}\")\n",
    "    ground_truth_stock_need = [len(gt_puchases[gt_puchases.product_id==sample]) for sample in samples.index]\n",
    "    ground_truth_stock_need = np.array(ground_truth_stock_need)\n",
    "#     print(f\"Ground truth stock need: {ground_truth_stock_need}\")\n",
    "    print(f\"We predicted the need for {predicted_stock_need.sum()} items\")\n",
    "    print(f\"The ground truth is {ground_truth_stock_need.sum()} items\")\n",
    "    dif = ground_truth_stock_need-predicted_stock_need \n",
    "    prefect_match = 0\n",
    "    under_predicted = 0\n",
    "    over_predicted = 0\n",
    "    for g,p in zip(ground_truth_stock_need,predicted_stock_need):\n",
    "        if g==p:\n",
    "            prefect_match+=1\n",
    "        elif g>p:\n",
    "            under_predicted+=1\n",
    "        else:\n",
    "            over_predicted+=1\n",
    "    print(f\"We had {prefect_match} perfect predictions, {under_predicted} were under predicted, and {over_predicted} were over predicted\")\n",
    "    return predicted_stock_need"
   ]
  },
  {
   "cell_type": "code",
   "execution_count": 19,
   "metadata": {},
   "outputs": [
    {
     "name": "stdout",
     "output_type": "stream",
     "text": [
      "We predicted the need for 20 items\n",
      "The ground truth is 25 items\n",
      "We had 4 perfect predictions, 4 were under predicted, and 2 were over predicted\n"
     ]
    }
   ],
   "source": [
    "n = 10\n",
    "samples = stock_needed.sample(n=n, random_state=0)\n",
    "stock_to_get = stock_prediction(samples)"
   ]
  },
  {
   "cell_type": "code",
   "execution_count": 20,
   "metadata": {},
   "outputs": [
    {
     "name": "stdout",
     "output_type": "stream",
     "text": [
      "We predicted the need for 2853 items\n",
      "The ground truth is 4840 items\n",
      "We had 243 perfect predictions, 535 were under predicted, and 222 were over predicted\n"
     ]
    }
   ],
   "source": [
    "n = 1000\n",
    "samples = stock_needed.sample(n=n, random_state=SEED)\n",
    "stock_to_get = stock_prediction(samples)"
   ]
  },
  {
   "cell_type": "markdown",
   "metadata": {},
   "source": [
    "## With minimalism"
   ]
  },
  {
   "cell_type": "code",
   "execution_count": 21,
   "metadata": {},
   "outputs": [
    {
     "name": "stdout",
     "output_type": "stream",
     "text": [
      "We predicted the need for 11 items\n",
      "The ground truth is 25 items\n",
      "We had 3 perfect predictions, 7 were under predicted, and 0 were over predicted\n"
     ]
    }
   ],
   "source": [
    "# With minimalism of 0.25\n",
    "n = 10\n",
    "samples = stock_needed.sample(n=n, random_state=0)\n",
    "stock_to_get = stock_prediction(samples,0.25)"
   ]
  },
  {
   "cell_type": "code",
   "execution_count": 22,
   "metadata": {},
   "outputs": [
    {
     "name": "stdout",
     "output_type": "stream",
     "text": [
      "We predicted the need for 890 items\n",
      "The ground truth is 4840 items\n",
      "We had 182 perfect predictions, 770 were under predicted, and 48 were over predicted\n"
     ]
    }
   ],
   "source": [
    "n = 1000\n",
    "samples = stock_needed.sample(n=n, random_state=SEED)\n",
    "stock_to_get = stock_prediction(samples,0.5)"
   ]
  }
 ],
 "metadata": {
  "kernelspec": {
   "display_name": "Python 3",
   "language": "python",
   "name": "python3"
  },
  "language_info": {
   "codemirror_mode": {
    "name": "ipython",
    "version": 3
   },
   "file_extension": ".py",
   "mimetype": "text/x-python",
   "name": "python",
   "nbconvert_exporter": "python",
   "pygments_lexer": "ipython3",
   "version": "3.7.7"
  },
  "widgets": {
   "application/vnd.jupyter.widget-state+json": {
    "state": {
     "001d54b84b5c4e3d9955a673293f25a3": {
      "model_module": "@jupyter-widgets/controls",
      "model_module_version": "1.5.0",
      "model_name": "DescriptionStyleModel",
      "state": {
       "description_width": ""
      }
     },
     "516dac53c5f94528bf7d4cc3d6e503c3": {
      "model_module": "@jupyter-widgets/base",
      "model_module_version": "1.2.0",
      "model_name": "LayoutModel",
      "state": {}
     },
     "5ef267c0fab84d7b93910f47a307ace8": {
      "model_module": "@jupyter-widgets/controls",
      "model_module_version": "1.5.0",
      "model_name": "HTMLModel",
      "state": {
       "layout": "IPY_MODEL_516dac53c5f94528bf7d4cc3d6e503c3",
       "style": "IPY_MODEL_001d54b84b5c4e3d9955a673293f25a3",
       "value": " 7780864/7780864 [02:18&lt;00:00, 56306.54it/s]"
      }
     },
     "698d1bfd356842fc81612a2ebfb2f9cb": {
      "model_module": "@jupyter-widgets/base",
      "model_module_version": "1.2.0",
      "model_name": "LayoutModel",
      "state": {}
     },
     "7f423c7e5ce24c9d94db8f3dc185ca6c": {
      "model_module": "@jupyter-widgets/controls",
      "model_module_version": "1.5.0",
      "model_name": "HBoxModel",
      "state": {
       "children": [
        "IPY_MODEL_bd9ef1eb359d48bbaea54aee3ef0f5f5",
        "IPY_MODEL_5ef267c0fab84d7b93910f47a307ace8"
       ],
       "layout": "IPY_MODEL_f11b488974664b38a1fa9605024895a6"
      }
     },
     "bd9ef1eb359d48bbaea54aee3ef0f5f5": {
      "model_module": "@jupyter-widgets/controls",
      "model_module_version": "1.5.0",
      "model_name": "FloatProgressModel",
      "state": {
       "bar_style": "success",
       "description": "100%",
       "layout": "IPY_MODEL_698d1bfd356842fc81612a2ebfb2f9cb",
       "max": 7780864,
       "style": "IPY_MODEL_cc30772ee63648559ac1786b11362088",
       "value": 7780864
      }
     },
     "cc30772ee63648559ac1786b11362088": {
      "model_module": "@jupyter-widgets/controls",
      "model_module_version": "1.5.0",
      "model_name": "ProgressStyleModel",
      "state": {
       "description_width": "initial"
      }
     },
     "f11b488974664b38a1fa9605024895a6": {
      "model_module": "@jupyter-widgets/base",
      "model_module_version": "1.2.0",
      "model_name": "LayoutModel",
      "state": {}
     }
    },
    "version_major": 2,
    "version_minor": 0
   }
  }
 },
 "nbformat": 4,
 "nbformat_minor": 4
}

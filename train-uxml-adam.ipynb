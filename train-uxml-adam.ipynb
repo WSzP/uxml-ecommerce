{
 "cells": [
  {
   "cell_type": "code",
   "execution_count": 1,
   "metadata": {},
   "outputs": [
    {
     "name": "stdout",
     "output_type": "stream",
     "text": [
      "PyTorch version: 1.4.0\n",
      "CUDA GPU 1: GeForce RTX 2080 Ti [Compute Capability: 7.5]\n"
     ]
    },
    {
     "name": "stderr",
     "output_type": "stream",
     "text": [
      "DEBUG:root:Logging enabled at DEBUG level.\n"
     ]
    },
    {
     "name": "stdout",
     "output_type": "stream",
     "text": [
      "PyTorch Lightning version: 0.7.3\n"
     ]
    }
   ],
   "source": [
    "# import os\n",
    "# os.environ[\"CUDA_VISIBLE_DEVICES\"] = \"-1\" \n",
    "\n",
    "import numpy as np\n",
    "import torch\n",
    "print(\"PyTorch version:\",torch.__version__)\n",
    "if torch.cuda.is_available():\n",
    "    for i in range(torch.cuda.device_count()):\n",
    "      print(f\"CUDA GPU {i+1}: {torch.cuda.get_device_name(i)} [Compute Capability: {torch.cuda.get_device_capability(0)[0]}.{torch.cuda.get_device_capability(0)[1]}]\")\n",
    "    device = torch.device('cuda')\n",
    "    kwargs = {'num_workers': 8, 'pin_memory': True}\n",
    "    torch.backends.cudnn.benchmark = True\n",
    "else:\n",
    "    device = torch.device('cpu')\n",
    "    print(\"CUDA GPU is not available. :(\")  \n",
    "import torch.nn as nn\n",
    "from torch.utils.data import DataLoader, Dataset\n",
    "\n",
    "import pytorch_lightning as pl\n",
    "from pytorch_lightning.loggers import TensorBoardLogger\n",
    "print (\"PyTorch Lightning version:\",pl.__version__)\n",
    "    \n",
    "import scipy.sparse as sp\n",
    "from argparse import Namespace\n",
    "\n",
    "from utilities.custom_lightning import CSVProfiler\n",
    "\n",
    "import logging\n",
    "logger = logging.getLogger()\n",
    "logger.setLevel(logging.DEBUG)\n",
    "logging.debug(\"Logging enabled at DEBUG level.\")\n",
    "\n",
    "from constants import (SEED, DATA_DIR, LOG_DIR, TRAIN_DATA_PATH, VAL_DATA_PATH, TEST_DATA_PATH)\n",
    "torch.manual_seed(SEED)\n",
    "torch.cuda.manual_seed(SEED)"
   ]
  },
  {
   "cell_type": "code",
   "execution_count": 2,
   "metadata": {},
   "outputs": [],
   "source": [
    "NAME = r'AdamUXML' \n",
    "SAVE_PATH = DATA_DIR+r'/'+NAME+r'.pt'\n",
    "PROFILE_PATH = LOG_DIR+'\\\\'+NAME+'\\\\profile.csv'"
   ]
  },
  {
   "cell_type": "code",
   "execution_count": 3,
   "metadata": {},
   "outputs": [],
   "source": [
    "class Interactions(Dataset):\n",
    "    \"\"\"\n",
    "    Create interactions matrix.\n",
    "    \"\"\"\n",
    "\n",
    "    def __init__(self, matrix):\n",
    "        self.matrix = matrix\n",
    "        self.n_users = self.matrix.shape[0]\n",
    "        self.n_items = self.matrix.shape[1]\n",
    "\n",
    "    def __getitem__(self, index):\n",
    "        row = self.matrix.row[index]\n",
    "        col = self.matrix.col[index]\n",
    "        val = self.matrix.data[index]\n",
    "        return (row, col), val\n",
    "\n",
    "    def __len__(self):\n",
    "        return self.matrix.nnz\n",
    "    \n",
    "interaction = Interactions"
   ]
  },
  {
   "cell_type": "code",
   "execution_count": 4,
   "metadata": {},
   "outputs": [],
   "source": [
    "class TestingCallbacks(pl.Callback):\n",
    "    def on_test_start(self, trainer, pl_module):\n",
    "        global y_hat \n",
    "        y_hat = sp.dok_matrix((hparams.total_users, hparams.total_items), dtype=np.float32) \n",
    "    def on_test_end(self, trainer, pl_module):\n",
    "        logging.debug(f\"Non-zero values in prediction matrix: {y_hat.nnz:,}\")\n",
    "        sp.save_npz(DATA_DIR+NAME+r'-y_hat.npz',y_hat.tocoo())\n",
    "\n"
   ]
  },
  {
   "cell_type": "code",
   "execution_count": 5,
   "metadata": {},
   "outputs": [],
   "source": [
    "class AdamUXML(pl.LightningModule):\n",
    "    def __init__(self, hparams):\n",
    "        super(AdamUXML, self).__init__() \n",
    "        self.hparams = hparams\n",
    "        self.user_factors = nn.Embedding(hparams.total_users, hparams.n_factors, sparse=hparams.sparse)\n",
    "        self.item_factors = nn.Embedding(hparams.total_items, hparams.n_factors, sparse=hparams.sparse)\n",
    "        self.user_biases = nn.Embedding(hparams.total_users, 1, sparse=hparams.sparse)\n",
    "        self.item_biases = nn.Embedding(hparams.total_items, 1, sparse=hparams.sparse)\n",
    "        self.dropout = nn.Dropout(p=self.hparams.dropout_p)\n",
    "        \n",
    "    def forward(self, users, items):            \n",
    "        \n",
    "        user_factors_users = self.user_factors(users)\n",
    "        item_factors_items = self.item_factors(items)        \n",
    "        predictions = self.user_biases(users)\n",
    "        predictions += self.item_biases(items)\n",
    "        predictions += (self.dropout(user_factors_users) * self.dropout(item_factors_items)).sum(dim=1, keepdim=True)              \n",
    "        return predictions.squeeze()\n",
    "    \n",
    "    def MSELoss(self, logits, labels):\n",
    "        return nn.functional.mse_loss(logits, labels)\n",
    "    \n",
    "    def training_step(self, train_batch, batch_idx):\n",
    "        x, y = train_batch\n",
    "        row, column = x\n",
    "        row = row.long()\n",
    "        column = column.long()\n",
    "        logits = self.forward(row,column)\n",
    "        loss = self.MSELoss(logits, y)\n",
    "        logs = {'train_loss': loss}\n",
    "        return {'loss': loss, 'log': logs}\n",
    "\n",
    "    def validation_step(self, val_batch, batch_idx):\n",
    "        x, y = val_batch\n",
    "        row, column = x\n",
    "        row = row.long()\n",
    "        column = column.long()\n",
    "        logits = self.forward(row,column)                \n",
    "        loss = self.MSELoss(logits, y)\n",
    "        return {'val_loss': loss}\n",
    "    \n",
    "    def validation_epoch_end(self, outputs):\n",
    "        avg_loss = torch.stack([x['val_loss'] for x in outputs]).mean()\n",
    "        tensorboard_logs = {'val_loss': avg_loss}\n",
    "        return {'avg_val_loss': avg_loss, 'log': tensorboard_logs}\n",
    "    \n",
    "    def test_step(self, test_batch, batch_idx):\n",
    "        x, y = test_batch\n",
    "        row, column = x\n",
    "        row = row.long()\n",
    "        column = column.long()\n",
    "        logits = self.forward(row,column)                \n",
    "        loss = self.MSELoss(logits, y)        \n",
    "       \n",
    "        logits_array = logits.cpu().numpy()\n",
    "        r = row.cpu().numpy()\n",
    "        c = column.cpu().numpy()\n",
    "        for i in range(len(logits_array)):\n",
    "            y_hat[r[i],c[i]]=logits_array[i]      \n",
    "        \n",
    "        return {'test_loss': loss}\n",
    "    \n",
    "    def test_epoch_end(self, outputs):\n",
    "        avg_loss = torch.stack([x['test_loss'] for x in outputs]).mean()\n",
    "        tensorboard_logs = {'MSE': avg_loss}\n",
    "        print(f\"Test Mean Squared Error (MSE): {avg_loss}\")                   \n",
    "        \n",
    "        return {'avg_test_loss': avg_loss, 'log': tensorboard_logs}\n",
    "      \n",
    "    def prepare_data(self):\n",
    "        self.train_dataset = sp.load_npz(TRAIN_DATA_PATH)\n",
    "        self.val_dataset = sp.load_npz(VAL_DATA_PATH)\n",
    "        self.test_dataset = sp.load_npz(TEST_DATA_PATH)\n",
    "        \n",
    "    def train_dataloader(self):\n",
    "        return DataLoader(interaction(self.train_dataset), batch_size=self.hparams.batch_size, shuffle=True)\n",
    "    \n",
    "    def val_dataloader(self):\n",
    "        return DataLoader(interaction(self.val_dataset), batch_size=self.hparams.batch_size, shuffle=True)\n",
    "    \n",
    "    def test_dataloader(self):\n",
    "        return DataLoader(interaction(self.test_dataset), batch_size=self.hparams.batch_size, shuffle=True)\n",
    "    \n",
    "    def configure_optimizers(self):\n",
    "        optimizer = torch.optim.Adam(self.parameters(), lr=self.hparams.learning_rate, betas=self.hparams.betas)\n",
    "        return optimizer"
   ]
  },
  {
   "cell_type": "code",
   "execution_count": 12,
   "metadata": {},
   "outputs": [
    {
     "name": "stderr",
     "output_type": "stream",
     "text": [
      "INFO:lightning:GPU available: True, used: True\n",
      "INFO:lightning:VISIBLE GPUS: 0\n",
      "INFO:lightning:\n",
      "  | Name         | Type      | Params\n",
      "---------------------------------------\n",
      "0 | user_factors | Embedding | 3 M   \n",
      "1 | item_factors | Embedding | 895 K \n",
      "2 | user_biases  | Embedding | 177 K \n",
      "3 | item_biases  | Embedding | 44 K  \n",
      "4 | dropout      | Dropout   | 0     \n"
     ]
    },
    {
     "data": {
      "application/vnd.jupyter.widget-view+json": {
       "model_id": "",
       "version_major": 2,
       "version_minor": 0
      },
      "text/plain": [
       "HBox(children=(FloatProgress(value=0.0, description='Validation sanity check', layout=Layout(flex='2'), max=5.…"
      ]
     },
     "metadata": {},
     "output_type": "display_data"
    },
    {
     "name": "stdout",
     "output_type": "stream",
     "text": [
      "\r"
     ]
    },
    {
     "data": {
      "application/vnd.jupyter.widget-view+json": {
       "model_id": "9fcf6960081641e1a4339da453235642",
       "version_major": 2,
       "version_minor": 0
      },
      "text/plain": [
       "HBox(children=(FloatProgress(value=1.0, bar_style='info', layout=Layout(flex='2'), max=1.0), HTML(value='')), …"
      ]
     },
     "metadata": {},
     "output_type": "display_data"
    },
    {
     "name": "stderr",
     "output_type": "stream",
     "text": [
      "C:\\ProgramData\\Anaconda3\\lib\\site-packages\\pytorch_lightning\\utilities\\warnings.py:18: RuntimeWarning: Displayed epoch numbers in the progress bar start from \"1\" until v0.6.x, but will start from \"0\" in v0.8.0.\n",
      "  warnings.warn(*args, **kwargs)\n"
     ]
    },
    {
     "data": {
      "application/vnd.jupyter.widget-view+json": {
       "model_id": "",
       "version_major": 2,
       "version_minor": 0
      },
      "text/plain": [
       "HBox(children=(FloatProgress(value=0.0, description='Validating', layout=Layout(flex='2'), max=541.0, style=Pr…"
      ]
     },
     "metadata": {},
     "output_type": "display_data"
    },
    {
     "data": {
      "application/vnd.jupyter.widget-view+json": {
       "model_id": "",
       "version_major": 2,
       "version_minor": 0
      },
      "text/plain": [
       "HBox(children=(FloatProgress(value=0.0, description='Validating', layout=Layout(flex='2'), max=541.0, style=Pr…"
      ]
     },
     "metadata": {},
     "output_type": "display_data"
    },
    {
     "data": {
      "application/vnd.jupyter.widget-view+json": {
       "model_id": "",
       "version_major": 2,
       "version_minor": 0
      },
      "text/plain": [
       "HBox(children=(FloatProgress(value=0.0, description='Validating', layout=Layout(flex='2'), max=541.0, style=Pr…"
      ]
     },
     "metadata": {},
     "output_type": "display_data"
    },
    {
     "data": {
      "application/vnd.jupyter.widget-view+json": {
       "model_id": "",
       "version_major": 2,
       "version_minor": 0
      },
      "text/plain": [
       "HBox(children=(FloatProgress(value=0.0, description='Validating', layout=Layout(flex='2'), max=541.0, style=Pr…"
      ]
     },
     "metadata": {},
     "output_type": "display_data"
    },
    {
     "data": {
      "application/vnd.jupyter.widget-view+json": {
       "model_id": "",
       "version_major": 2,
       "version_minor": 0
      },
      "text/plain": [
       "HBox(children=(FloatProgress(value=0.0, description='Validating', layout=Layout(flex='2'), max=541.0, style=Pr…"
      ]
     },
     "metadata": {},
     "output_type": "display_data"
    },
    {
     "data": {
      "application/vnd.jupyter.widget-view+json": {
       "model_id": "",
       "version_major": 2,
       "version_minor": 0
      },
      "text/plain": [
       "HBox(children=(FloatProgress(value=0.0, description='Validating', layout=Layout(flex='2'), max=541.0, style=Pr…"
      ]
     },
     "metadata": {},
     "output_type": "display_data"
    },
    {
     "data": {
      "application/vnd.jupyter.widget-view+json": {
       "model_id": "",
       "version_major": 2,
       "version_minor": 0
      },
      "text/plain": [
       "HBox(children=(FloatProgress(value=0.0, description='Validating', layout=Layout(flex='2'), max=541.0, style=Pr…"
      ]
     },
     "metadata": {},
     "output_type": "display_data"
    },
    {
     "data": {
      "application/vnd.jupyter.widget-view+json": {
       "model_id": "",
       "version_major": 2,
       "version_minor": 0
      },
      "text/plain": [
       "HBox(children=(FloatProgress(value=0.0, description='Validating', layout=Layout(flex='2'), max=541.0, style=Pr…"
      ]
     },
     "metadata": {},
     "output_type": "display_data"
    },
    {
     "data": {
      "application/vnd.jupyter.widget-view+json": {
       "model_id": "",
       "version_major": 2,
       "version_minor": 0
      },
      "text/plain": [
       "HBox(children=(FloatProgress(value=0.0, description='Validating', layout=Layout(flex='2'), max=541.0, style=Pr…"
      ]
     },
     "metadata": {},
     "output_type": "display_data"
    },
    {
     "data": {
      "application/vnd.jupyter.widget-view+json": {
       "model_id": "",
       "version_major": 2,
       "version_minor": 0
      },
      "text/plain": [
       "HBox(children=(FloatProgress(value=0.0, description='Validating', layout=Layout(flex='2'), max=541.0, style=Pr…"
      ]
     },
     "metadata": {},
     "output_type": "display_data"
    },
    {
     "data": {
      "application/vnd.jupyter.widget-view+json": {
       "model_id": "",
       "version_major": 2,
       "version_minor": 0
      },
      "text/plain": [
       "HBox(children=(FloatProgress(value=0.0, description='Validating', layout=Layout(flex='2'), max=541.0, style=Pr…"
      ]
     },
     "metadata": {},
     "output_type": "display_data"
    },
    {
     "data": {
      "application/vnd.jupyter.widget-view+json": {
       "model_id": "",
       "version_major": 2,
       "version_minor": 0
      },
      "text/plain": [
       "HBox(children=(FloatProgress(value=0.0, description='Validating', layout=Layout(flex='2'), max=541.0, style=Pr…"
      ]
     },
     "metadata": {},
     "output_type": "display_data"
    },
    {
     "data": {
      "application/vnd.jupyter.widget-view+json": {
       "model_id": "",
       "version_major": 2,
       "version_minor": 0
      },
      "text/plain": [
       "HBox(children=(FloatProgress(value=0.0, description='Validating', layout=Layout(flex='2'), max=541.0, style=Pr…"
      ]
     },
     "metadata": {},
     "output_type": "display_data"
    },
    {
     "data": {
      "application/vnd.jupyter.widget-view+json": {
       "model_id": "",
       "version_major": 2,
       "version_minor": 0
      },
      "text/plain": [
       "HBox(children=(FloatProgress(value=0.0, description='Validating', layout=Layout(flex='2'), max=541.0, style=Pr…"
      ]
     },
     "metadata": {},
     "output_type": "display_data"
    },
    {
     "data": {
      "application/vnd.jupyter.widget-view+json": {
       "model_id": "",
       "version_major": 2,
       "version_minor": 0
      },
      "text/plain": [
       "HBox(children=(FloatProgress(value=0.0, description='Validating', layout=Layout(flex='2'), max=541.0, style=Pr…"
      ]
     },
     "metadata": {},
     "output_type": "display_data"
    },
    {
     "data": {
      "application/vnd.jupyter.widget-view+json": {
       "model_id": "",
       "version_major": 2,
       "version_minor": 0
      },
      "text/plain": [
       "HBox(children=(FloatProgress(value=0.0, description='Validating', layout=Layout(flex='2'), max=541.0, style=Pr…"
      ]
     },
     "metadata": {},
     "output_type": "display_data"
    },
    {
     "data": {
      "application/vnd.jupyter.widget-view+json": {
       "model_id": "",
       "version_major": 2,
       "version_minor": 0
      },
      "text/plain": [
       "HBox(children=(FloatProgress(value=0.0, description='Validating', layout=Layout(flex='2'), max=541.0, style=Pr…"
      ]
     },
     "metadata": {},
     "output_type": "display_data"
    },
    {
     "data": {
      "application/vnd.jupyter.widget-view+json": {
       "model_id": "",
       "version_major": 2,
       "version_minor": 0
      },
      "text/plain": [
       "HBox(children=(FloatProgress(value=0.0, description='Validating', layout=Layout(flex='2'), max=541.0, style=Pr…"
      ]
     },
     "metadata": {},
     "output_type": "display_data"
    },
    {
     "data": {
      "application/vnd.jupyter.widget-view+json": {
       "model_id": "",
       "version_major": 2,
       "version_minor": 0
      },
      "text/plain": [
       "HBox(children=(FloatProgress(value=0.0, description='Validating', layout=Layout(flex='2'), max=541.0, style=Pr…"
      ]
     },
     "metadata": {},
     "output_type": "display_data"
    },
    {
     "data": {
      "application/vnd.jupyter.widget-view+json": {
       "model_id": "",
       "version_major": 2,
       "version_minor": 0
      },
      "text/plain": [
       "HBox(children=(FloatProgress(value=0.0, description='Validating', layout=Layout(flex='2'), max=541.0, style=Pr…"
      ]
     },
     "metadata": {},
     "output_type": "display_data"
    },
    {
     "data": {
      "application/vnd.jupyter.widget-view+json": {
       "model_id": "",
       "version_major": 2,
       "version_minor": 0
      },
      "text/plain": [
       "HBox(children=(FloatProgress(value=0.0, description='Validating', layout=Layout(flex='2'), max=541.0, style=Pr…"
      ]
     },
     "metadata": {},
     "output_type": "display_data"
    },
    {
     "data": {
      "application/vnd.jupyter.widget-view+json": {
       "model_id": "",
       "version_major": 2,
       "version_minor": 0
      },
      "text/plain": [
       "HBox(children=(FloatProgress(value=0.0, description='Validating', layout=Layout(flex='2'), max=541.0, style=Pr…"
      ]
     },
     "metadata": {},
     "output_type": "display_data"
    },
    {
     "data": {
      "application/vnd.jupyter.widget-view+json": {
       "model_id": "",
       "version_major": 2,
       "version_minor": 0
      },
      "text/plain": [
       "HBox(children=(FloatProgress(value=0.0, description='Validating', layout=Layout(flex='2'), max=541.0, style=Pr…"
      ]
     },
     "metadata": {},
     "output_type": "display_data"
    },
    {
     "data": {
      "application/vnd.jupyter.widget-view+json": {
       "model_id": "",
       "version_major": 2,
       "version_minor": 0
      },
      "text/plain": [
       "HBox(children=(FloatProgress(value=0.0, description='Validating', layout=Layout(flex='2'), max=541.0, style=Pr…"
      ]
     },
     "metadata": {},
     "output_type": "display_data"
    },
    {
     "data": {
      "application/vnd.jupyter.widget-view+json": {
       "model_id": "",
       "version_major": 2,
       "version_minor": 0
      },
      "text/plain": [
       "HBox(children=(FloatProgress(value=0.0, description='Validating', layout=Layout(flex='2'), max=541.0, style=Pr…"
      ]
     },
     "metadata": {},
     "output_type": "display_data"
    },
    {
     "data": {
      "application/vnd.jupyter.widget-view+json": {
       "model_id": "",
       "version_major": 2,
       "version_minor": 0
      },
      "text/plain": [
       "HBox(children=(FloatProgress(value=0.0, description='Validating', layout=Layout(flex='2'), max=541.0, style=Pr…"
      ]
     },
     "metadata": {},
     "output_type": "display_data"
    },
    {
     "data": {
      "application/vnd.jupyter.widget-view+json": {
       "model_id": "",
       "version_major": 2,
       "version_minor": 0
      },
      "text/plain": [
       "HBox(children=(FloatProgress(value=0.0, description='Validating', layout=Layout(flex='2'), max=541.0, style=Pr…"
      ]
     },
     "metadata": {},
     "output_type": "display_data"
    },
    {
     "data": {
      "application/vnd.jupyter.widget-view+json": {
       "model_id": "",
       "version_major": 2,
       "version_minor": 0
      },
      "text/plain": [
       "HBox(children=(FloatProgress(value=0.0, description='Validating', layout=Layout(flex='2'), max=541.0, style=Pr…"
      ]
     },
     "metadata": {},
     "output_type": "display_data"
    },
    {
     "data": {
      "application/vnd.jupyter.widget-view+json": {
       "model_id": "",
       "version_major": 2,
       "version_minor": 0
      },
      "text/plain": [
       "HBox(children=(FloatProgress(value=0.0, description='Validating', layout=Layout(flex='2'), max=541.0, style=Pr…"
      ]
     },
     "metadata": {},
     "output_type": "display_data"
    },
    {
     "data": {
      "application/vnd.jupyter.widget-view+json": {
       "model_id": "",
       "version_major": 2,
       "version_minor": 0
      },
      "text/plain": [
       "HBox(children=(FloatProgress(value=0.0, description='Validating', layout=Layout(flex='2'), max=541.0, style=Pr…"
      ]
     },
     "metadata": {},
     "output_type": "display_data"
    },
    {
     "data": {
      "application/vnd.jupyter.widget-view+json": {
       "model_id": "",
       "version_major": 2,
       "version_minor": 0
      },
      "text/plain": [
       "HBox(children=(FloatProgress(value=0.0, description='Validating', layout=Layout(flex='2'), max=541.0, style=Pr…"
      ]
     },
     "metadata": {},
     "output_type": "display_data"
    },
    {
     "data": {
      "application/vnd.jupyter.widget-view+json": {
       "model_id": "",
       "version_major": 2,
       "version_minor": 0
      },
      "text/plain": [
       "HBox(children=(FloatProgress(value=0.0, description='Validating', layout=Layout(flex='2'), max=541.0, style=Pr…"
      ]
     },
     "metadata": {},
     "output_type": "display_data"
    },
    {
     "data": {
      "application/vnd.jupyter.widget-view+json": {
       "model_id": "",
       "version_major": 2,
       "version_minor": 0
      },
      "text/plain": [
       "HBox(children=(FloatProgress(value=0.0, description='Validating', layout=Layout(flex='2'), max=541.0, style=Pr…"
      ]
     },
     "metadata": {},
     "output_type": "display_data"
    },
    {
     "data": {
      "application/vnd.jupyter.widget-view+json": {
       "model_id": "",
       "version_major": 2,
       "version_minor": 0
      },
      "text/plain": [
       "HBox(children=(FloatProgress(value=0.0, description='Validating', layout=Layout(flex='2'), max=541.0, style=Pr…"
      ]
     },
     "metadata": {},
     "output_type": "display_data"
    },
    {
     "data": {
      "application/vnd.jupyter.widget-view+json": {
       "model_id": "",
       "version_major": 2,
       "version_minor": 0
      },
      "text/plain": [
       "HBox(children=(FloatProgress(value=0.0, description='Validating', layout=Layout(flex='2'), max=541.0, style=Pr…"
      ]
     },
     "metadata": {},
     "output_type": "display_data"
    },
    {
     "data": {
      "application/vnd.jupyter.widget-view+json": {
       "model_id": "",
       "version_major": 2,
       "version_minor": 0
      },
      "text/plain": [
       "HBox(children=(FloatProgress(value=0.0, description='Validating', layout=Layout(flex='2'), max=541.0, style=Pr…"
      ]
     },
     "metadata": {},
     "output_type": "display_data"
    },
    {
     "data": {
      "application/vnd.jupyter.widget-view+json": {
       "model_id": "",
       "version_major": 2,
       "version_minor": 0
      },
      "text/plain": [
       "HBox(children=(FloatProgress(value=0.0, description='Validating', layout=Layout(flex='2'), max=541.0, style=Pr…"
      ]
     },
     "metadata": {},
     "output_type": "display_data"
    },
    {
     "data": {
      "application/vnd.jupyter.widget-view+json": {
       "model_id": "",
       "version_major": 2,
       "version_minor": 0
      },
      "text/plain": [
       "HBox(children=(FloatProgress(value=0.0, description='Validating', layout=Layout(flex='2'), max=541.0, style=Pr…"
      ]
     },
     "metadata": {},
     "output_type": "display_data"
    },
    {
     "data": {
      "application/vnd.jupyter.widget-view+json": {
       "model_id": "",
       "version_major": 2,
       "version_minor": 0
      },
      "text/plain": [
       "HBox(children=(FloatProgress(value=0.0, description='Validating', layout=Layout(flex='2'), max=541.0, style=Pr…"
      ]
     },
     "metadata": {},
     "output_type": "display_data"
    },
    {
     "data": {
      "application/vnd.jupyter.widget-view+json": {
       "model_id": "",
       "version_major": 2,
       "version_minor": 0
      },
      "text/plain": [
       "HBox(children=(FloatProgress(value=0.0, description='Validating', layout=Layout(flex='2'), max=541.0, style=Pr…"
      ]
     },
     "metadata": {},
     "output_type": "display_data"
    },
    {
     "data": {
      "application/vnd.jupyter.widget-view+json": {
       "model_id": "",
       "version_major": 2,
       "version_minor": 0
      },
      "text/plain": [
       "HBox(children=(FloatProgress(value=0.0, description='Validating', layout=Layout(flex='2'), max=541.0, style=Pr…"
      ]
     },
     "metadata": {},
     "output_type": "display_data"
    },
    {
     "data": {
      "application/vnd.jupyter.widget-view+json": {
       "model_id": "",
       "version_major": 2,
       "version_minor": 0
      },
      "text/plain": [
       "HBox(children=(FloatProgress(value=0.0, description='Validating', layout=Layout(flex='2'), max=541.0, style=Pr…"
      ]
     },
     "metadata": {},
     "output_type": "display_data"
    },
    {
     "data": {
      "application/vnd.jupyter.widget-view+json": {
       "model_id": "",
       "version_major": 2,
       "version_minor": 0
      },
      "text/plain": [
       "HBox(children=(FloatProgress(value=0.0, description='Validating', layout=Layout(flex='2'), max=541.0, style=Pr…"
      ]
     },
     "metadata": {},
     "output_type": "display_data"
    },
    {
     "data": {
      "application/vnd.jupyter.widget-view+json": {
       "model_id": "",
       "version_major": 2,
       "version_minor": 0
      },
      "text/plain": [
       "HBox(children=(FloatProgress(value=0.0, description='Validating', layout=Layout(flex='2'), max=541.0, style=Pr…"
      ]
     },
     "metadata": {},
     "output_type": "display_data"
    },
    {
     "data": {
      "application/vnd.jupyter.widget-view+json": {
       "model_id": "",
       "version_major": 2,
       "version_minor": 0
      },
      "text/plain": [
       "HBox(children=(FloatProgress(value=0.0, description='Validating', layout=Layout(flex='2'), max=541.0, style=Pr…"
      ]
     },
     "metadata": {},
     "output_type": "display_data"
    },
    {
     "data": {
      "application/vnd.jupyter.widget-view+json": {
       "model_id": "",
       "version_major": 2,
       "version_minor": 0
      },
      "text/plain": [
       "HBox(children=(FloatProgress(value=0.0, description='Validating', layout=Layout(flex='2'), max=541.0, style=Pr…"
      ]
     },
     "metadata": {},
     "output_type": "display_data"
    },
    {
     "data": {
      "application/vnd.jupyter.widget-view+json": {
       "model_id": "",
       "version_major": 2,
       "version_minor": 0
      },
      "text/plain": [
       "HBox(children=(FloatProgress(value=0.0, description='Validating', layout=Layout(flex='2'), max=541.0, style=Pr…"
      ]
     },
     "metadata": {},
     "output_type": "display_data"
    },
    {
     "data": {
      "application/vnd.jupyter.widget-view+json": {
       "model_id": "",
       "version_major": 2,
       "version_minor": 0
      },
      "text/plain": [
       "HBox(children=(FloatProgress(value=0.0, description='Validating', layout=Layout(flex='2'), max=541.0, style=Pr…"
      ]
     },
     "metadata": {},
     "output_type": "display_data"
    },
    {
     "data": {
      "application/vnd.jupyter.widget-view+json": {
       "model_id": "",
       "version_major": 2,
       "version_minor": 0
      },
      "text/plain": [
       "HBox(children=(FloatProgress(value=0.0, description='Validating', layout=Layout(flex='2'), max=541.0, style=Pr…"
      ]
     },
     "metadata": {},
     "output_type": "display_data"
    },
    {
     "data": {
      "application/vnd.jupyter.widget-view+json": {
       "model_id": "",
       "version_major": 2,
       "version_minor": 0
      },
      "text/plain": [
       "HBox(children=(FloatProgress(value=0.0, description='Validating', layout=Layout(flex='2'), max=541.0, style=Pr…"
      ]
     },
     "metadata": {},
     "output_type": "display_data"
    },
    {
     "data": {
      "application/vnd.jupyter.widget-view+json": {
       "model_id": "",
       "version_major": 2,
       "version_minor": 0
      },
      "text/plain": [
       "HBox(children=(FloatProgress(value=0.0, description='Validating', layout=Layout(flex='2'), max=541.0, style=Pr…"
      ]
     },
     "metadata": {},
     "output_type": "display_data"
    },
    {
     "data": {
      "application/vnd.jupyter.widget-view+json": {
       "model_id": "",
       "version_major": 2,
       "version_minor": 0
      },
      "text/plain": [
       "HBox(children=(FloatProgress(value=0.0, description='Validating', layout=Layout(flex='2'), max=541.0, style=Pr…"
      ]
     },
     "metadata": {},
     "output_type": "display_data"
    },
    {
     "data": {
      "application/vnd.jupyter.widget-view+json": {
       "model_id": "",
       "version_major": 2,
       "version_minor": 0
      },
      "text/plain": [
       "HBox(children=(FloatProgress(value=0.0, description='Validating', layout=Layout(flex='2'), max=541.0, style=Pr…"
      ]
     },
     "metadata": {},
     "output_type": "display_data"
    },
    {
     "data": {
      "application/vnd.jupyter.widget-view+json": {
       "model_id": "",
       "version_major": 2,
       "version_minor": 0
      },
      "text/plain": [
       "HBox(children=(FloatProgress(value=0.0, description='Validating', layout=Layout(flex='2'), max=541.0, style=Pr…"
      ]
     },
     "metadata": {},
     "output_type": "display_data"
    },
    {
     "data": {
      "application/vnd.jupyter.widget-view+json": {
       "model_id": "",
       "version_major": 2,
       "version_minor": 0
      },
      "text/plain": [
       "HBox(children=(FloatProgress(value=0.0, description='Validating', layout=Layout(flex='2'), max=541.0, style=Pr…"
      ]
     },
     "metadata": {},
     "output_type": "display_data"
    },
    {
     "data": {
      "application/vnd.jupyter.widget-view+json": {
       "model_id": "",
       "version_major": 2,
       "version_minor": 0
      },
      "text/plain": [
       "HBox(children=(FloatProgress(value=0.0, description='Validating', layout=Layout(flex='2'), max=541.0, style=Pr…"
      ]
     },
     "metadata": {},
     "output_type": "display_data"
    },
    {
     "data": {
      "application/vnd.jupyter.widget-view+json": {
       "model_id": "",
       "version_major": 2,
       "version_minor": 0
      },
      "text/plain": [
       "HBox(children=(FloatProgress(value=0.0, description='Validating', layout=Layout(flex='2'), max=541.0, style=Pr…"
      ]
     },
     "metadata": {},
     "output_type": "display_data"
    },
    {
     "data": {
      "application/vnd.jupyter.widget-view+json": {
       "model_id": "",
       "version_major": 2,
       "version_minor": 0
      },
      "text/plain": [
       "HBox(children=(FloatProgress(value=0.0, description='Validating', layout=Layout(flex='2'), max=541.0, style=Pr…"
      ]
     },
     "metadata": {},
     "output_type": "display_data"
    },
    {
     "data": {
      "application/vnd.jupyter.widget-view+json": {
       "model_id": "",
       "version_major": 2,
       "version_minor": 0
      },
      "text/plain": [
       "HBox(children=(FloatProgress(value=0.0, description='Validating', layout=Layout(flex='2'), max=541.0, style=Pr…"
      ]
     },
     "metadata": {},
     "output_type": "display_data"
    },
    {
     "data": {
      "application/vnd.jupyter.widget-view+json": {
       "model_id": "",
       "version_major": 2,
       "version_minor": 0
      },
      "text/plain": [
       "HBox(children=(FloatProgress(value=0.0, description='Validating', layout=Layout(flex='2'), max=541.0, style=Pr…"
      ]
     },
     "metadata": {},
     "output_type": "display_data"
    },
    {
     "data": {
      "application/vnd.jupyter.widget-view+json": {
       "model_id": "",
       "version_major": 2,
       "version_minor": 0
      },
      "text/plain": [
       "HBox(children=(FloatProgress(value=0.0, description='Validating', layout=Layout(flex='2'), max=541.0, style=Pr…"
      ]
     },
     "metadata": {},
     "output_type": "display_data"
    },
    {
     "data": {
      "application/vnd.jupyter.widget-view+json": {
       "model_id": "",
       "version_major": 2,
       "version_minor": 0
      },
      "text/plain": [
       "HBox(children=(FloatProgress(value=0.0, description='Validating', layout=Layout(flex='2'), max=541.0, style=Pr…"
      ]
     },
     "metadata": {},
     "output_type": "display_data"
    },
    {
     "data": {
      "application/vnd.jupyter.widget-view+json": {
       "model_id": "",
       "version_major": 2,
       "version_minor": 0
      },
      "text/plain": [
       "HBox(children=(FloatProgress(value=0.0, description='Validating', layout=Layout(flex='2'), max=541.0, style=Pr…"
      ]
     },
     "metadata": {},
     "output_type": "display_data"
    },
    {
     "data": {
      "application/vnd.jupyter.widget-view+json": {
       "model_id": "",
       "version_major": 2,
       "version_minor": 0
      },
      "text/plain": [
       "HBox(children=(FloatProgress(value=0.0, description='Validating', layout=Layout(flex='2'), max=541.0, style=Pr…"
      ]
     },
     "metadata": {},
     "output_type": "display_data"
    },
    {
     "data": {
      "application/vnd.jupyter.widget-view+json": {
       "model_id": "",
       "version_major": 2,
       "version_minor": 0
      },
      "text/plain": [
       "HBox(children=(FloatProgress(value=0.0, description='Validating', layout=Layout(flex='2'), max=541.0, style=Pr…"
      ]
     },
     "metadata": {},
     "output_type": "display_data"
    },
    {
     "data": {
      "application/vnd.jupyter.widget-view+json": {
       "model_id": "",
       "version_major": 2,
       "version_minor": 0
      },
      "text/plain": [
       "HBox(children=(FloatProgress(value=0.0, description='Validating', layout=Layout(flex='2'), max=541.0, style=Pr…"
      ]
     },
     "metadata": {},
     "output_type": "display_data"
    },
    {
     "data": {
      "application/vnd.jupyter.widget-view+json": {
       "model_id": "",
       "version_major": 2,
       "version_minor": 0
      },
      "text/plain": [
       "HBox(children=(FloatProgress(value=0.0, description='Validating', layout=Layout(flex='2'), max=541.0, style=Pr…"
      ]
     },
     "metadata": {},
     "output_type": "display_data"
    },
    {
     "data": {
      "application/vnd.jupyter.widget-view+json": {
       "model_id": "",
       "version_major": 2,
       "version_minor": 0
      },
      "text/plain": [
       "HBox(children=(FloatProgress(value=0.0, description='Validating', layout=Layout(flex='2'), max=541.0, style=Pr…"
      ]
     },
     "metadata": {},
     "output_type": "display_data"
    },
    {
     "data": {
      "application/vnd.jupyter.widget-view+json": {
       "model_id": "",
       "version_major": 2,
       "version_minor": 0
      },
      "text/plain": [
       "HBox(children=(FloatProgress(value=0.0, description='Validating', layout=Layout(flex='2'), max=541.0, style=Pr…"
      ]
     },
     "metadata": {},
     "output_type": "display_data"
    },
    {
     "data": {
      "application/vnd.jupyter.widget-view+json": {
       "model_id": "",
       "version_major": 2,
       "version_minor": 0
      },
      "text/plain": [
       "HBox(children=(FloatProgress(value=0.0, description='Validating', layout=Layout(flex='2'), max=541.0, style=Pr…"
      ]
     },
     "metadata": {},
     "output_type": "display_data"
    },
    {
     "data": {
      "application/vnd.jupyter.widget-view+json": {
       "model_id": "",
       "version_major": 2,
       "version_minor": 0
      },
      "text/plain": [
       "HBox(children=(FloatProgress(value=0.0, description='Validating', layout=Layout(flex='2'), max=541.0, style=Pr…"
      ]
     },
     "metadata": {},
     "output_type": "display_data"
    },
    {
     "data": {
      "application/vnd.jupyter.widget-view+json": {
       "model_id": "",
       "version_major": 2,
       "version_minor": 0
      },
      "text/plain": [
       "HBox(children=(FloatProgress(value=0.0, description='Validating', layout=Layout(flex='2'), max=541.0, style=Pr…"
      ]
     },
     "metadata": {},
     "output_type": "display_data"
    },
    {
     "data": {
      "application/vnd.jupyter.widget-view+json": {
       "model_id": "",
       "version_major": 2,
       "version_minor": 0
      },
      "text/plain": [
       "HBox(children=(FloatProgress(value=0.0, description='Validating', layout=Layout(flex='2'), max=541.0, style=Pr…"
      ]
     },
     "metadata": {},
     "output_type": "display_data"
    },
    {
     "data": {
      "application/vnd.jupyter.widget-view+json": {
       "model_id": "",
       "version_major": 2,
       "version_minor": 0
      },
      "text/plain": [
       "HBox(children=(FloatProgress(value=0.0, description='Validating', layout=Layout(flex='2'), max=541.0, style=Pr…"
      ]
     },
     "metadata": {},
     "output_type": "display_data"
    },
    {
     "data": {
      "application/vnd.jupyter.widget-view+json": {
       "model_id": "",
       "version_major": 2,
       "version_minor": 0
      },
      "text/plain": [
       "HBox(children=(FloatProgress(value=0.0, description='Validating', layout=Layout(flex='2'), max=541.0, style=Pr…"
      ]
     },
     "metadata": {},
     "output_type": "display_data"
    },
    {
     "data": {
      "application/vnd.jupyter.widget-view+json": {
       "model_id": "",
       "version_major": 2,
       "version_minor": 0
      },
      "text/plain": [
       "HBox(children=(FloatProgress(value=0.0, description='Validating', layout=Layout(flex='2'), max=541.0, style=Pr…"
      ]
     },
     "metadata": {},
     "output_type": "display_data"
    },
    {
     "data": {
      "application/vnd.jupyter.widget-view+json": {
       "model_id": "",
       "version_major": 2,
       "version_minor": 0
      },
      "text/plain": [
       "HBox(children=(FloatProgress(value=0.0, description='Validating', layout=Layout(flex='2'), max=541.0, style=Pr…"
      ]
     },
     "metadata": {},
     "output_type": "display_data"
    },
    {
     "data": {
      "application/vnd.jupyter.widget-view+json": {
       "model_id": "",
       "version_major": 2,
       "version_minor": 0
      },
      "text/plain": [
       "HBox(children=(FloatProgress(value=0.0, description='Validating', layout=Layout(flex='2'), max=541.0, style=Pr…"
      ]
     },
     "metadata": {},
     "output_type": "display_data"
    },
    {
     "data": {
      "application/vnd.jupyter.widget-view+json": {
       "model_id": "",
       "version_major": 2,
       "version_minor": 0
      },
      "text/plain": [
       "HBox(children=(FloatProgress(value=0.0, description='Validating', layout=Layout(flex='2'), max=541.0, style=Pr…"
      ]
     },
     "metadata": {},
     "output_type": "display_data"
    },
    {
     "data": {
      "application/vnd.jupyter.widget-view+json": {
       "model_id": "",
       "version_major": 2,
       "version_minor": 0
      },
      "text/plain": [
       "HBox(children=(FloatProgress(value=0.0, description='Validating', layout=Layout(flex='2'), max=541.0, style=Pr…"
      ]
     },
     "metadata": {},
     "output_type": "display_data"
    },
    {
     "data": {
      "application/vnd.jupyter.widget-view+json": {
       "model_id": "",
       "version_major": 2,
       "version_minor": 0
      },
      "text/plain": [
       "HBox(children=(FloatProgress(value=0.0, description='Validating', layout=Layout(flex='2'), max=541.0, style=Pr…"
      ]
     },
     "metadata": {},
     "output_type": "display_data"
    },
    {
     "data": {
      "application/vnd.jupyter.widget-view+json": {
       "model_id": "",
       "version_major": 2,
       "version_minor": 0
      },
      "text/plain": [
       "HBox(children=(FloatProgress(value=0.0, description='Validating', layout=Layout(flex='2'), max=541.0, style=Pr…"
      ]
     },
     "metadata": {},
     "output_type": "display_data"
    },
    {
     "data": {
      "application/vnd.jupyter.widget-view+json": {
       "model_id": "",
       "version_major": 2,
       "version_minor": 0
      },
      "text/plain": [
       "HBox(children=(FloatProgress(value=0.0, description='Validating', layout=Layout(flex='2'), max=541.0, style=Pr…"
      ]
     },
     "metadata": {},
     "output_type": "display_data"
    },
    {
     "data": {
      "application/vnd.jupyter.widget-view+json": {
       "model_id": "",
       "version_major": 2,
       "version_minor": 0
      },
      "text/plain": [
       "HBox(children=(FloatProgress(value=0.0, description='Validating', layout=Layout(flex='2'), max=541.0, style=Pr…"
      ]
     },
     "metadata": {},
     "output_type": "display_data"
    },
    {
     "data": {
      "application/vnd.jupyter.widget-view+json": {
       "model_id": "",
       "version_major": 2,
       "version_minor": 0
      },
      "text/plain": [
       "HBox(children=(FloatProgress(value=0.0, description='Validating', layout=Layout(flex='2'), max=541.0, style=Pr…"
      ]
     },
     "metadata": {},
     "output_type": "display_data"
    },
    {
     "data": {
      "application/vnd.jupyter.widget-view+json": {
       "model_id": "",
       "version_major": 2,
       "version_minor": 0
      },
      "text/plain": [
       "HBox(children=(FloatProgress(value=0.0, description='Validating', layout=Layout(flex='2'), max=541.0, style=Pr…"
      ]
     },
     "metadata": {},
     "output_type": "display_data"
    },
    {
     "data": {
      "application/vnd.jupyter.widget-view+json": {
       "model_id": "",
       "version_major": 2,
       "version_minor": 0
      },
      "text/plain": [
       "HBox(children=(FloatProgress(value=0.0, description='Validating', layout=Layout(flex='2'), max=541.0, style=Pr…"
      ]
     },
     "metadata": {},
     "output_type": "display_data"
    },
    {
     "data": {
      "application/vnd.jupyter.widget-view+json": {
       "model_id": "",
       "version_major": 2,
       "version_minor": 0
      },
      "text/plain": [
       "HBox(children=(FloatProgress(value=0.0, description='Validating', layout=Layout(flex='2'), max=541.0, style=Pr…"
      ]
     },
     "metadata": {},
     "output_type": "display_data"
    },
    {
     "data": {
      "application/vnd.jupyter.widget-view+json": {
       "model_id": "",
       "version_major": 2,
       "version_minor": 0
      },
      "text/plain": [
       "HBox(children=(FloatProgress(value=0.0, description='Validating', layout=Layout(flex='2'), max=541.0, style=Pr…"
      ]
     },
     "metadata": {},
     "output_type": "display_data"
    },
    {
     "data": {
      "application/vnd.jupyter.widget-view+json": {
       "model_id": "",
       "version_major": 2,
       "version_minor": 0
      },
      "text/plain": [
       "HBox(children=(FloatProgress(value=0.0, description='Validating', layout=Layout(flex='2'), max=541.0, style=Pr…"
      ]
     },
     "metadata": {},
     "output_type": "display_data"
    },
    {
     "data": {
      "application/vnd.jupyter.widget-view+json": {
       "model_id": "",
       "version_major": 2,
       "version_minor": 0
      },
      "text/plain": [
       "HBox(children=(FloatProgress(value=0.0, description='Validating', layout=Layout(flex='2'), max=541.0, style=Pr…"
      ]
     },
     "metadata": {},
     "output_type": "display_data"
    },
    {
     "data": {
      "application/vnd.jupyter.widget-view+json": {
       "model_id": "",
       "version_major": 2,
       "version_minor": 0
      },
      "text/plain": [
       "HBox(children=(FloatProgress(value=0.0, description='Validating', layout=Layout(flex='2'), max=541.0, style=Pr…"
      ]
     },
     "metadata": {},
     "output_type": "display_data"
    },
    {
     "data": {
      "application/vnd.jupyter.widget-view+json": {
       "model_id": "",
       "version_major": 2,
       "version_minor": 0
      },
      "text/plain": [
       "HBox(children=(FloatProgress(value=0.0, description='Validating', layout=Layout(flex='2'), max=541.0, style=Pr…"
      ]
     },
     "metadata": {},
     "output_type": "display_data"
    },
    {
     "data": {
      "application/vnd.jupyter.widget-view+json": {
       "model_id": "",
       "version_major": 2,
       "version_minor": 0
      },
      "text/plain": [
       "HBox(children=(FloatProgress(value=0.0, description='Validating', layout=Layout(flex='2'), max=541.0, style=Pr…"
      ]
     },
     "metadata": {},
     "output_type": "display_data"
    },
    {
     "data": {
      "application/vnd.jupyter.widget-view+json": {
       "model_id": "",
       "version_major": 2,
       "version_minor": 0
      },
      "text/plain": [
       "HBox(children=(FloatProgress(value=0.0, description='Validating', layout=Layout(flex='2'), max=541.0, style=Pr…"
      ]
     },
     "metadata": {},
     "output_type": "display_data"
    },
    {
     "data": {
      "application/vnd.jupyter.widget-view+json": {
       "model_id": "",
       "version_major": 2,
       "version_minor": 0
      },
      "text/plain": [
       "HBox(children=(FloatProgress(value=0.0, description='Validating', layout=Layout(flex='2'), max=541.0, style=Pr…"
      ]
     },
     "metadata": {},
     "output_type": "display_data"
    },
    {
     "data": {
      "application/vnd.jupyter.widget-view+json": {
       "model_id": "",
       "version_major": 2,
       "version_minor": 0
      },
      "text/plain": [
       "HBox(children=(FloatProgress(value=0.0, description='Validating', layout=Layout(flex='2'), max=541.0, style=Pr…"
      ]
     },
     "metadata": {},
     "output_type": "display_data"
    },
    {
     "data": {
      "application/vnd.jupyter.widget-view+json": {
       "model_id": "",
       "version_major": 2,
       "version_minor": 0
      },
      "text/plain": [
       "HBox(children=(FloatProgress(value=0.0, description='Validating', layout=Layout(flex='2'), max=541.0, style=Pr…"
      ]
     },
     "metadata": {},
     "output_type": "display_data"
    },
    {
     "data": {
      "application/vnd.jupyter.widget-view+json": {
       "model_id": "",
       "version_major": 2,
       "version_minor": 0
      },
      "text/plain": [
       "HBox(children=(FloatProgress(value=0.0, description='Validating', layout=Layout(flex='2'), max=541.0, style=Pr…"
      ]
     },
     "metadata": {},
     "output_type": "display_data"
    },
    {
     "data": {
      "application/vnd.jupyter.widget-view+json": {
       "model_id": "",
       "version_major": 2,
       "version_minor": 0
      },
      "text/plain": [
       "HBox(children=(FloatProgress(value=0.0, description='Validating', layout=Layout(flex='2'), max=541.0, style=Pr…"
      ]
     },
     "metadata": {},
     "output_type": "display_data"
    },
    {
     "name": "stdout",
     "output_type": "stream",
     "text": [
      "\n",
      "\u001b[1mProfiler Report\u001b[0m\n",
      "                   mean_duration  total_time\n",
      "on_train_start              0.00        0.00\n",
      "on_epoch_start              0.00        0.00\n",
      "get_train_batch             0.00      570.08\n",
      "on_batch_start              0.00        2.33\n",
      "model_forward               0.00      218.53\n",
      "model_backward              0.00      581.54\n",
      "on_after_backward           0.00        0.33\n",
      "optimizer_step              0.00      199.49\n",
      "on_batch_end                0.00        2.52\n",
      "on_epoch_end                0.00        0.00\n",
      "on_train_end                0.00        0.00\n",
      "\n",
      "Profiler output saved to: C:\\TensorLogs\\AdamUXML\\profile.csv\n"
     ]
    },
    {
     "data": {
      "text/plain": [
       "1"
      ]
     },
     "execution_count": 12,
     "metadata": {},
     "output_type": "execute_result"
    }
   ],
   "source": [
    "hparams = Namespace(**{\n",
    "    'batch_size': 1024,\n",
    "    'learning_rate': 0.001,\n",
    "    'betas': (0.9, 0.999),\n",
    "    'n_factors': 20,\n",
    "    'dropout_p': 0.02,\n",
    "    'sparse': False,\n",
    "    'max_epochs': 100,\n",
    "    'total_users': 177592,\n",
    "    'total_items': 44780\n",
    "})\n",
    "\n",
    "profiler = CSVProfiler(output_path=PROFILE_PATH,verbose=True)\n",
    "logger = TensorBoardLogger(LOG_DIR, name=NAME)\n",
    "model = AdamUXML(hparams)\n",
    "trainer = pl.Trainer(max_epochs=hparams.max_epochs,\n",
    "                     benchmark=True,\n",
    "                     profiler=profiler,\n",
    "                     logger=logger,\n",
    "                     gpus=1,\n",
    "                     fast_dev_run=False,\n",
    "                     callbacks=[TestingCallbacks()])                \n",
    "trainer.fit(model)"
   ]
  },
  {
   "cell_type": "code",
   "execution_count": 13,
   "metadata": {},
   "outputs": [
    {
     "data": {
      "application/vnd.jupyter.widget-view+json": {
       "model_id": "1ccbc5debb1a43a7876d0cb67f900f18",
       "version_major": 2,
       "version_minor": 0
      },
      "text/plain": [
       "HBox(children=(FloatProgress(value=0.0, description='Testing', layout=Layout(flex='2'), max=540.0, style=Progr…"
      ]
     },
     "metadata": {},
     "output_type": "display_data"
    },
    {
     "name": "stderr",
     "output_type": "stream",
     "text": [
      "DEBUG:root:Non-zero values in prediction matrix: 552,255\n"
     ]
    },
    {
     "name": "stdout",
     "output_type": "stream",
     "text": [
      "Test Mean Squared Error (MSE): 0.2457655668258667\n",
      "--------------------------------------------------------------------------------\n",
      "TEST RESULTS\n",
      "{'MSE': 0.2457655668258667, 'avg_test_loss': 0.2457655668258667}\n",
      "--------------------------------------------------------------------------------\n",
      "\n"
     ]
    }
   ],
   "source": [
    "trainer.test()"
   ]
  },
  {
   "cell_type": "code",
   "execution_count": 8,
   "metadata": {},
   "outputs": [],
   "source": [
    "# torch.save(model.state_dict(), SAVE_PATH)"
   ]
  },
  {
   "cell_type": "code",
   "execution_count": 9,
   "metadata": {},
   "outputs": [],
   "source": [
    "# loaded_model = BasicMatrixFactorization(hparams)\n",
    "# loaded_model.load_state_dict(torch.load(SAVE_PATH))\n",
    "# loaded_model.eval()\n",
    "# print(\"Model's state_dict:\")\n",
    "# for param_tensor in loaded_model.state_dict():\n",
    "#     print(param_tensor, \"\\t\", loaded_model.state_dict()[param_tensor].size())"
   ]
  },
  {
   "cell_type": "code",
   "execution_count": 10,
   "metadata": {},
   "outputs": [],
   "source": [
    "# loaded_model.state_dict()['user_factors.weight']"
   ]
  },
  {
   "cell_type": "code",
   "execution_count": 11,
   "metadata": {},
   "outputs": [],
   "source": [
    "# loaded_model.state_dict()['item_factors.weight']"
   ]
  },
  {
   "cell_type": "code",
   "execution_count": null,
   "metadata": {},
   "outputs": [],
   "source": []
  }
 ],
 "metadata": {
  "kernelspec": {
   "display_name": "Python 3",
   "language": "python",
   "name": "python3"
  },
  "language_info": {
   "codemirror_mode": {
    "name": "ipython",
    "version": 3
   },
   "file_extension": ".py",
   "mimetype": "text/x-python",
   "name": "python",
   "nbconvert_exporter": "python",
   "pygments_lexer": "ipython3",
   "version": "3.7.7"
  },
  "widgets": {
   "application/vnd.jupyter.widget-state+json": {
    "state": {
     "0024793572b9453aa2d85937dcc5f0f3": {
      "model_module": "@jupyter-widgets/controls",
      "model_module_version": "1.5.0",
      "model_name": "DescriptionStyleModel",
      "state": {
       "description_width": ""
      }
     },
     "00dd6a3040a84e5abd6e2b82be8e5493": {
      "model_module": "@jupyter-widgets/base",
      "model_module_version": "1.2.0",
      "model_name": "LayoutModel",
      "state": {
       "display": "inline-flex",
       "flex_flow": "row wrap",
       "width": "100%"
      }
     },
     "00e6bf893be04e3da23c304139162e52": {
      "model_module": "@jupyter-widgets/controls",
      "model_module_version": "1.5.0",
      "model_name": "DescriptionStyleModel",
      "state": {
       "description_width": ""
      }
     },
     "01c14984c35646dab4787c47ca5eeafc": {
      "model_module": "@jupyter-widgets/controls",
      "model_module_version": "1.5.0",
      "model_name": "ProgressStyleModel",
      "state": {
       "description_width": "initial"
      }
     },
     "01e7c843f90d427f8e2672e23c2a99d0": {
      "model_module": "@jupyter-widgets/controls",
      "model_module_version": "1.5.0",
      "model_name": "FloatProgressModel",
      "state": {
       "description": "Validating: 100%",
       "layout": "IPY_MODEL_0bb53d9dfcb34b88aa381debd4a2755f",
       "max": 541,
       "style": "IPY_MODEL_c735ec3c750e45a897bfbd4910f36cd1",
       "value": 541
      }
     },
     "01f285cbf92e4d51825ed43fd606d004": {
      "model_module": "@jupyter-widgets/controls",
      "model_module_version": "1.5.0",
      "model_name": "ProgressStyleModel",
      "state": {
       "description_width": "initial"
      }
     },
     "023a75ecbafb4ef49cd3a78474eaa2b7": {
      "model_module": "@jupyter-widgets/controls",
      "model_module_version": "1.5.0",
      "model_name": "HTMLModel",
      "state": {
       "layout": "IPY_MODEL_2af89d678ea9428dbc8ebe18bfd73edb",
       "style": "IPY_MODEL_b88025c6bddd4e3b855bb3c2b67b8253",
       "value": " 541/541 [00:01&lt;00:00, 424.92it/s]"
      }
     },
     "02cb720c96af4e048818276684beda9a": {
      "model_module": "@jupyter-widgets/controls",
      "model_module_version": "1.5.0",
      "model_name": "FloatProgressModel",
      "state": {
       "description": "Validation sanity check: 100%",
       "layout": "IPY_MODEL_b6987a2757c349a0a6b861c5838a3ffb",
       "max": 5,
       "style": "IPY_MODEL_06e454b5133b4d868f6ce7f83c04d711",
       "value": 5
      }
     },
     "02ea0b8e733545948f0aa2cbd0a98b95": {
      "model_module": "@jupyter-widgets/controls",
      "model_module_version": "1.5.0",
      "model_name": "FloatProgressModel",
      "state": {
       "description": "Validating: 100%",
       "layout": "IPY_MODEL_a609f7847733464bbf9cebecf9dd7d6c",
       "max": 541,
       "style": "IPY_MODEL_9af6764133574c6989ae5c38fd587d27",
       "value": 541
      }
     },
     "037a60fd23c0442f8e7632b22f220998": {
      "model_module": "@jupyter-widgets/base",
      "model_module_version": "1.2.0",
      "model_name": "LayoutModel",
      "state": {
       "flex": "2"
      }
     },
     "03ecc58c45734576bf38f673265556de": {
      "model_module": "@jupyter-widgets/controls",
      "model_module_version": "1.5.0",
      "model_name": "HTMLModel",
      "state": {
       "layout": "IPY_MODEL_e721d9649df54bd98e386b3b35e4a9df",
       "style": "IPY_MODEL_79b9bb31c2f5413ca0990bff4eb7db07",
       "value": " 541/541 [00:01&lt;00:00, 424.88it/s]"
      }
     },
     "0637459797004378bcbc20ee1bc4891e": {
      "model_module": "@jupyter-widgets/controls",
      "model_module_version": "1.5.0",
      "model_name": "ProgressStyleModel",
      "state": {
       "description_width": "initial"
      }
     },
     "06bdd9a531d94e4d8102b89507e87700": {
      "model_module": "@jupyter-widgets/base",
      "model_module_version": "1.2.0",
      "model_name": "LayoutModel",
      "state": {}
     },
     "06e454b5133b4d868f6ce7f83c04d711": {
      "model_module": "@jupyter-widgets/controls",
      "model_module_version": "1.5.0",
      "model_name": "ProgressStyleModel",
      "state": {
       "description_width": "initial"
      }
     },
     "072e3aef62cd4051afd46ae8393e5acc": {
      "model_module": "@jupyter-widgets/base",
      "model_module_version": "1.2.0",
      "model_name": "LayoutModel",
      "state": {
       "display": "inline-flex",
       "flex_flow": "row wrap",
       "width": "100%"
      }
     },
     "072f372a7a9649a78db3885694f6860f": {
      "model_module": "@jupyter-widgets/controls",
      "model_module_version": "1.5.0",
      "model_name": "FloatProgressModel",
      "state": {
       "description": "Validating: 100%",
       "layout": "IPY_MODEL_6a92dd6319214741a06ba149f2f083db",
       "max": 541,
       "style": "IPY_MODEL_dce5a5987fb44b2993ba9911cea86380",
       "value": 541
      }
     },
     "079e8273fbd5462c9b79c835fed67bef": {
      "model_module": "@jupyter-widgets/controls",
      "model_module_version": "1.5.0",
      "model_name": "DescriptionStyleModel",
      "state": {
       "description_width": ""
      }
     },
     "07e352b08bf04537a5fb527b3e9f77a7": {
      "model_module": "@jupyter-widgets/controls",
      "model_module_version": "1.5.0",
      "model_name": "HTMLModel",
      "state": {
       "layout": "IPY_MODEL_de672bc0975c424889f2429ca5ac30b4",
       "style": "IPY_MODEL_c9c582de672c4133b522b935874490fa",
       "value": " 541/541 [00:01&lt;00:00, 390.72it/s]"
      }
     },
     "08143c93e6c349e2bce001c66bc635f5": {
      "model_module": "@jupyter-widgets/controls",
      "model_module_version": "1.5.0",
      "model_name": "DescriptionStyleModel",
      "state": {
       "description_width": ""
      }
     },
     "08cbf2a31201451da405d0a9fde96405": {
      "model_module": "@jupyter-widgets/controls",
      "model_module_version": "1.5.0",
      "model_name": "DescriptionStyleModel",
      "state": {
       "description_width": ""
      }
     },
     "08f713a99b0649e4b0890806e647ebca": {
      "model_module": "@jupyter-widgets/base",
      "model_module_version": "1.2.0",
      "model_name": "LayoutModel",
      "state": {}
     },
     "095838967c434fbda3ffee03f9d63bc7": {
      "model_module": "@jupyter-widgets/controls",
      "model_module_version": "1.5.0",
      "model_name": "FloatProgressModel",
      "state": {
       "description": "Validating: 100%",
       "layout": "IPY_MODEL_a1ae2a842c1b4f5381126827fd57a771",
       "max": 541,
       "style": "IPY_MODEL_a487f58075054e0eab2d3d23045a07c2",
       "value": 541
      }
     },
     "0966776b660f49ab8318f65886ec14f7": {
      "model_module": "@jupyter-widgets/base",
      "model_module_version": "1.2.0",
      "model_name": "LayoutModel",
      "state": {
       "flex": "2"
      }
     },
     "096a122fec55491db5b3a79f70a98dbd": {
      "model_module": "@jupyter-widgets/controls",
      "model_module_version": "1.5.0",
      "model_name": "FloatProgressModel",
      "state": {
       "description": "Validating: 100%",
       "layout": "IPY_MODEL_1761f832442e43b79841497fa4ef5fd3",
       "max": 541,
       "style": "IPY_MODEL_c5cceada3b5c4fb3bda35fd79ca640b1",
       "value": 541
      }
     },
     "0a10dedaeaf944b6b572b220045165f7": {
      "model_module": "@jupyter-widgets/base",
      "model_module_version": "1.2.0",
      "model_name": "LayoutModel",
      "state": {}
     },
     "0a5f919b5ea4482c844f7b7476ebc531": {
      "model_module": "@jupyter-widgets/base",
      "model_module_version": "1.2.0",
      "model_name": "LayoutModel",
      "state": {
       "display": "inline-flex",
       "flex_flow": "row wrap",
       "width": "100%"
      }
     },
     "0a6689e539514ae2b031d8c7de29e086": {
      "model_module": "@jupyter-widgets/base",
      "model_module_version": "1.2.0",
      "model_name": "LayoutModel",
      "state": {
       "flex": "2"
      }
     },
     "0a6a2ca77b9f4bbfa845a8d3ef659681": {
      "model_module": "@jupyter-widgets/controls",
      "model_module_version": "1.5.0",
      "model_name": "FloatProgressModel",
      "state": {
       "description": "Validating: 100%",
       "layout": "IPY_MODEL_9fe7d1322e234f6689a418de92a8ed5f",
       "max": 541,
       "style": "IPY_MODEL_0e77dcc49adf4bacbd793a3abe32f01c",
       "value": 541
      }
     },
     "0a6b8f4207d54db1a0325d2f9319de2a": {
      "model_module": "@jupyter-widgets/base",
      "model_module_version": "1.2.0",
      "model_name": "LayoutModel",
      "state": {}
     },
     "0a6fc2d7b1bf4f43a0bc5e92a2ec7619": {
      "model_module": "@jupyter-widgets/controls",
      "model_module_version": "1.5.0",
      "model_name": "DescriptionStyleModel",
      "state": {
       "description_width": ""
      }
     },
     "0b9c4e55cb7744868af6785662e089af": {
      "model_module": "@jupyter-widgets/base",
      "model_module_version": "1.2.0",
      "model_name": "LayoutModel",
      "state": {}
     },
     "0bb53d9dfcb34b88aa381debd4a2755f": {
      "model_module": "@jupyter-widgets/base",
      "model_module_version": "1.2.0",
      "model_name": "LayoutModel",
      "state": {
       "flex": "2"
      }
     },
     "0d1f4e7a60fa4e67bbb96c66575695b5": {
      "model_module": "@jupyter-widgets/base",
      "model_module_version": "1.2.0",
      "model_name": "LayoutModel",
      "state": {}
     },
     "0d20e322d8974140b4d0d25db2bcb008": {
      "model_module": "@jupyter-widgets/base",
      "model_module_version": "1.2.0",
      "model_name": "LayoutModel",
      "state": {
       "display": "inline-flex",
       "flex_flow": "row wrap",
       "width": "100%"
      }
     },
     "0db3bd04213b4dc8b45e5233bc86384b": {
      "model_module": "@jupyter-widgets/controls",
      "model_module_version": "1.5.0",
      "model_name": "FloatProgressModel",
      "state": {
       "description": "Validating: 100%",
       "layout": "IPY_MODEL_ca404a56da024ec1bfc50ff62233e498",
       "max": 541,
       "style": "IPY_MODEL_a5922caa98f340d48a0211b67ec9598c",
       "value": 541
      }
     },
     "0dd39bb72218462b95739f08a60b4cd8": {
      "model_module": "@jupyter-widgets/controls",
      "model_module_version": "1.5.0",
      "model_name": "DescriptionStyleModel",
      "state": {
       "description_width": ""
      }
     },
     "0e16cd740f6841ffbf798be6a0957a32": {
      "model_module": "@jupyter-widgets/controls",
      "model_module_version": "1.5.0",
      "model_name": "HTMLModel",
      "state": {
       "layout": "IPY_MODEL_c8fee6e591994500b317b30b18260543",
       "style": "IPY_MODEL_4278f152e2fc4f17896bb09a26c205af",
       "value": " 541/541 [00:01&lt;00:00, 381.16it/s]"
      }
     },
     "0e17f7dc526847e58151559ff5e50dfd": {
      "model_module": "@jupyter-widgets/controls",
      "model_module_version": "1.5.0",
      "model_name": "ProgressStyleModel",
      "state": {
       "description_width": "initial"
      }
     },
     "0e77dcc49adf4bacbd793a3abe32f01c": {
      "model_module": "@jupyter-widgets/controls",
      "model_module_version": "1.5.0",
      "model_name": "ProgressStyleModel",
      "state": {
       "description_width": "initial"
      }
     },
     "0ec9ea0c796c426395046eec999f43b7": {
      "model_module": "@jupyter-widgets/controls",
      "model_module_version": "1.5.0",
      "model_name": "DescriptionStyleModel",
      "state": {
       "description_width": ""
      }
     },
     "0f11c7e2b23a40fe92d10a47a907e234": {
      "model_module": "@jupyter-widgets/base",
      "model_module_version": "1.2.0",
      "model_name": "LayoutModel",
      "state": {}
     },
     "101999fef6cc45d6b99c417ce4269149": {
      "model_module": "@jupyter-widgets/controls",
      "model_module_version": "1.5.0",
      "model_name": "ProgressStyleModel",
      "state": {
       "description_width": "initial"
      }
     },
     "11fdea6770e0468491ddb4a21dc178e6": {
      "model_module": "@jupyter-widgets/base",
      "model_module_version": "1.2.0",
      "model_name": "LayoutModel",
      "state": {}
     },
     "121391524f02481d94f96e37514f3486": {
      "model_module": "@jupyter-widgets/controls",
      "model_module_version": "1.5.0",
      "model_name": "HTMLModel",
      "state": {
       "layout": "IPY_MODEL_b8ce5016c92f45a59b73d2e08f64d013",
       "style": "IPY_MODEL_703f8c988c7946d387bfd33d891e9bcd",
       "value": " 541/541 [00:01&lt;00:00, 367.74it/s]"
      }
     },
     "12503527f50a4eb6806ef3cebee26934": {
      "model_module": "@jupyter-widgets/controls",
      "model_module_version": "1.5.0",
      "model_name": "FloatProgressModel",
      "state": {
       "description": "Validating: 100%",
       "layout": "IPY_MODEL_d578f8f9444240b09a3d0bc8373a6775",
       "max": 541,
       "style": "IPY_MODEL_b5b20225be564cd09aa7b4e71c9318d8",
       "value": 541
      }
     },
     "1273ec3df10c467a97c5b29bfe2ddae9": {
      "model_module": "@jupyter-widgets/base",
      "model_module_version": "1.2.0",
      "model_name": "LayoutModel",
      "state": {
       "flex": "2"
      }
     },
     "1295741446714241b556970ea8e31a92": {
      "model_module": "@jupyter-widgets/base",
      "model_module_version": "1.2.0",
      "model_name": "LayoutModel",
      "state": {
       "flex": "2"
      }
     },
     "12df1e916cce444098faba16b824eb12": {
      "model_module": "@jupyter-widgets/controls",
      "model_module_version": "1.5.0",
      "model_name": "HTMLModel",
      "state": {
       "layout": "IPY_MODEL_3bf8273804cd44cb925a0bebc83f1383",
       "style": "IPY_MODEL_150d877dc32349299355fcf38ebd032c",
       "value": " 541/541 [00:01&lt;00:00, 371.96it/s]"
      }
     },
     "12e1567bee8c4245837e49cc3f59b2ea": {
      "model_module": "@jupyter-widgets/base",
      "model_module_version": "1.2.0",
      "model_name": "LayoutModel",
      "state": {}
     },
     "1350e8e6fea34b63bf4fe0bb1b16f311": {
      "model_module": "@jupyter-widgets/controls",
      "model_module_version": "1.5.0",
      "model_name": "HTMLModel",
      "state": {
       "layout": "IPY_MODEL_ef29fffb641d4ffcae84fc27cf872d95",
       "style": "IPY_MODEL_a50baf67e7dd40838c9319ae564ceec1",
       "value": " 541/541 [00:01&lt;00:00, 394.40it/s]"
      }
     },
     "136e56f1318a4182afdcfc469187059c": {
      "model_module": "@jupyter-widgets/controls",
      "model_module_version": "1.5.0",
      "model_name": "ProgressStyleModel",
      "state": {
       "description_width": "initial"
      }
     },
     "13d88fd1615b4b72b9f247886e30b779": {
      "model_module": "@jupyter-widgets/base",
      "model_module_version": "1.2.0",
      "model_name": "LayoutModel",
      "state": {
       "flex": "2"
      }
     },
     "141eb18c3f1b4884948ea0387e091432": {
      "model_module": "@jupyter-widgets/controls",
      "model_module_version": "1.5.0",
      "model_name": "ProgressStyleModel",
      "state": {
       "description_width": "initial"
      }
     },
     "14293a21cbf64c14aefb393074f81f36": {
      "model_module": "@jupyter-widgets/base",
      "model_module_version": "1.2.0",
      "model_name": "LayoutModel",
      "state": {
       "display": "inline-flex",
       "flex_flow": "row wrap",
       "width": "100%"
      }
     },
     "142ca1f6eb5d43bd851cf14afefed709": {
      "model_module": "@jupyter-widgets/controls",
      "model_module_version": "1.5.0",
      "model_name": "HTMLModel",
      "state": {
       "layout": "IPY_MODEL_376cb201565d4d96bc66354af0ffeb4e",
       "style": "IPY_MODEL_cd1f41cb700941ffbb9e79eb969fe873",
       "value": " 541/541 [00:01&lt;00:00, 429.41it/s]"
      }
     },
     "1443ea5d298943d4a1e7e4ec6e617a77": {
      "model_module": "@jupyter-widgets/controls",
      "model_module_version": "1.5.0",
      "model_name": "FloatProgressModel",
      "state": {
       "description": "Validating: 100%",
       "layout": "IPY_MODEL_e1dda56462004eacbc4f77b321e26b77",
       "max": 541,
       "style": "IPY_MODEL_88b2dde77a084d01a1238a0305a4c689",
       "value": 541
      }
     },
     "14576c2fd605450da8584cbfbf7d8d75": {
      "model_module": "@jupyter-widgets/controls",
      "model_module_version": "1.5.0",
      "model_name": "DescriptionStyleModel",
      "state": {
       "description_width": ""
      }
     },
     "14bcabb3c47c48c5a3e9b0e826a118ea": {
      "model_module": "@jupyter-widgets/controls",
      "model_module_version": "1.5.0",
      "model_name": "ProgressStyleModel",
      "state": {
       "description_width": "initial"
      }
     },
     "14c4aedcd2054ea3ac310d0119cb94b4": {
      "model_module": "@jupyter-widgets/controls",
      "model_module_version": "1.5.0",
      "model_name": "DescriptionStyleModel",
      "state": {
       "description_width": ""
      }
     },
     "14d8316a049d4b89b0b64f7ba33381cd": {
      "model_module": "@jupyter-widgets/base",
      "model_module_version": "1.2.0",
      "model_name": "LayoutModel",
      "state": {}
     },
     "15078b3e92d44a6b82618029596e7404": {
      "model_module": "@jupyter-widgets/controls",
      "model_module_version": "1.5.0",
      "model_name": "ProgressStyleModel",
      "state": {
       "description_width": "initial"
      }
     },
     "150d877dc32349299355fcf38ebd032c": {
      "model_module": "@jupyter-widgets/controls",
      "model_module_version": "1.5.0",
      "model_name": "DescriptionStyleModel",
      "state": {
       "description_width": ""
      }
     },
     "15e9dac4794c40efbd5ca3aff407d5c0": {
      "model_module": "@jupyter-widgets/base",
      "model_module_version": "1.2.0",
      "model_name": "LayoutModel",
      "state": {}
     },
     "16602c32a5fd486b87094d7a9d9286d5": {
      "model_module": "@jupyter-widgets/controls",
      "model_module_version": "1.5.0",
      "model_name": "ProgressStyleModel",
      "state": {
       "description_width": "initial"
      }
     },
     "168acd79a4224cc3b215c39cda0194dc": {
      "model_module": "@jupyter-widgets/base",
      "model_module_version": "1.2.0",
      "model_name": "LayoutModel",
      "state": {}
     },
     "16d7145669d9435097b3235e7ae6c88f": {
      "model_module": "@jupyter-widgets/controls",
      "model_module_version": "1.5.0",
      "model_name": "DescriptionStyleModel",
      "state": {
       "description_width": ""
      }
     },
     "16e319d7a233408bbfa07cdf5adb9c20": {
      "model_module": "@jupyter-widgets/base",
      "model_module_version": "1.2.0",
      "model_name": "LayoutModel",
      "state": {
       "flex": "2"
      }
     },
     "1761f832442e43b79841497fa4ef5fd3": {
      "model_module": "@jupyter-widgets/base",
      "model_module_version": "1.2.0",
      "model_name": "LayoutModel",
      "state": {
       "flex": "2"
      }
     },
     "17a237799c454a3a87f2f27602049464": {
      "model_module": "@jupyter-widgets/controls",
      "model_module_version": "1.5.0",
      "model_name": "FloatProgressModel",
      "state": {
       "bar_style": "success",
       "description": "Testing: 100%",
       "layout": "IPY_MODEL_d2053c3512fe47e2b819771323ff8258",
       "max": 540,
       "style": "IPY_MODEL_f296233ae1a140b68d568a1f8e6567a2",
       "value": 540
      }
     },
     "17ec52680cab442a96ba98886f54c899": {
      "model_module": "@jupyter-widgets/base",
      "model_module_version": "1.2.0",
      "model_name": "LayoutModel",
      "state": {}
     },
     "187ade40acbd440eb072165d4ac25c54": {
      "model_module": "@jupyter-widgets/controls",
      "model_module_version": "1.5.0",
      "model_name": "DescriptionStyleModel",
      "state": {
       "description_width": ""
      }
     },
     "18c6a82b98304ba2bcff9eb079b7ea84": {
      "model_module": "@jupyter-widgets/controls",
      "model_module_version": "1.5.0",
      "model_name": "ProgressStyleModel",
      "state": {
       "description_width": "initial"
      }
     },
     "190ffd78b4884d26ae423d64e36a7122": {
      "model_module": "@jupyter-widgets/controls",
      "model_module_version": "1.5.0",
      "model_name": "ProgressStyleModel",
      "state": {
       "description_width": "initial"
      }
     },
     "196c7b7e225049ddac8cb4d40e14d327": {
      "model_module": "@jupyter-widgets/base",
      "model_module_version": "1.2.0",
      "model_name": "LayoutModel",
      "state": {
       "flex": "2"
      }
     },
     "197f903478ae44bd87a1b11b663593b4": {
      "model_module": "@jupyter-widgets/controls",
      "model_module_version": "1.5.0",
      "model_name": "DescriptionStyleModel",
      "state": {
       "description_width": ""
      }
     },
     "1a0965174739415b8e6998ffdf6765a4": {
      "model_module": "@jupyter-widgets/base",
      "model_module_version": "1.2.0",
      "model_name": "LayoutModel",
      "state": {
       "flex": "2"
      }
     },
     "1a0dd189cfcb41899643e173052be1d8": {
      "model_module": "@jupyter-widgets/controls",
      "model_module_version": "1.5.0",
      "model_name": "ProgressStyleModel",
      "state": {
       "description_width": "initial"
      }
     },
     "1a7a63c9943d43af934330e4afceccf0": {
      "model_module": "@jupyter-widgets/base",
      "model_module_version": "1.2.0",
      "model_name": "LayoutModel",
      "state": {
       "display": "inline-flex",
       "flex_flow": "row wrap",
       "width": "100%"
      }
     },
     "1a95781a8f0e4d47814102edb33b0d1a": {
      "model_module": "@jupyter-widgets/base",
      "model_module_version": "1.2.0",
      "model_name": "LayoutModel",
      "state": {
       "flex": "2"
      }
     },
     "1ae08c04d10a4a0c92cf7d80b25e897f": {
      "model_module": "@jupyter-widgets/controls",
      "model_module_version": "1.5.0",
      "model_name": "DescriptionStyleModel",
      "state": {
       "description_width": ""
      }
     },
     "1af5e45560b24a329480c3708b65fb05": {
      "model_module": "@jupyter-widgets/controls",
      "model_module_version": "1.5.0",
      "model_name": "FloatProgressModel",
      "state": {
       "description": "Validating: 100%",
       "layout": "IPY_MODEL_ba94f8e8aaf64a51952a41600bab407b",
       "max": 541,
       "style": "IPY_MODEL_c0d8ac883f784be389cd0a3c28821088",
       "value": 541
      }
     },
     "1b036305db8a4ddf9b50fb6e0aedaa01": {
      "model_module": "@jupyter-widgets/base",
      "model_module_version": "1.2.0",
      "model_name": "LayoutModel",
      "state": {
       "display": "inline-flex",
       "flex_flow": "row wrap",
       "width": "100%"
      }
     },
     "1b09c47e2d1e4d58b49435de868ca5c9": {
      "model_module": "@jupyter-widgets/controls",
      "model_module_version": "1.5.0",
      "model_name": "DescriptionStyleModel",
      "state": {
       "description_width": ""
      }
     },
     "1b0c679f8b934583993ad26725dd0634": {
      "model_module": "@jupyter-widgets/controls",
      "model_module_version": "1.5.0",
      "model_name": "ProgressStyleModel",
      "state": {
       "description_width": "initial"
      }
     },
     "1b1c3214aef841e6995b50d72995bb87": {
      "model_module": "@jupyter-widgets/controls",
      "model_module_version": "1.5.0",
      "model_name": "DescriptionStyleModel",
      "state": {
       "description_width": ""
      }
     },
     "1b49ae34dd8c47ba951b09edba17030a": {
      "model_module": "@jupyter-widgets/base",
      "model_module_version": "1.2.0",
      "model_name": "LayoutModel",
      "state": {}
     },
     "1bdc46f57f55458399173c07354c1c27": {
      "model_module": "@jupyter-widgets/base",
      "model_module_version": "1.2.0",
      "model_name": "LayoutModel",
      "state": {}
     },
     "1c26ab252b3748a3bae8fa229423ddbf": {
      "model_module": "@jupyter-widgets/controls",
      "model_module_version": "1.5.0",
      "model_name": "DescriptionStyleModel",
      "state": {
       "description_width": ""
      }
     },
     "1ccbc5debb1a43a7876d0cb67f900f18": {
      "model_module": "@jupyter-widgets/controls",
      "model_module_version": "1.5.0",
      "model_name": "HBoxModel",
      "state": {
       "children": [
        "IPY_MODEL_9043121490bc49d7b4312847cec61cc9",
        "IPY_MODEL_dbd0e922f3494943b7826dd3a5927b16"
       ],
       "layout": "IPY_MODEL_7eee90d6efdd426087fad3b6a8162e9b"
      }
     },
     "1d469767fc60490fb5d3754f19518273": {
      "model_module": "@jupyter-widgets/controls",
      "model_module_version": "1.5.0",
      "model_name": "DescriptionStyleModel",
      "state": {
       "description_width": ""
      }
     },
     "1df1589850e8492780ec1c31c3f57470": {
      "model_module": "@jupyter-widgets/controls",
      "model_module_version": "1.5.0",
      "model_name": "FloatProgressModel",
      "state": {
       "description": "Validating: 100%",
       "layout": "IPY_MODEL_a9cd50b2c142474abf406e9667d9c087",
       "max": 541,
       "style": "IPY_MODEL_c18a26754c7c4bd89c04b75b76bfbf01",
       "value": 541
      }
     },
     "1f02c0dc54224db9be335873485fa0d5": {
      "model_module": "@jupyter-widgets/controls",
      "model_module_version": "1.5.0",
      "model_name": "ProgressStyleModel",
      "state": {
       "description_width": "initial"
      }
     },
     "1f2cce2b314542feb1c6a3ee6c702d02": {
      "model_module": "@jupyter-widgets/controls",
      "model_module_version": "1.5.0",
      "model_name": "ProgressStyleModel",
      "state": {
       "description_width": "initial"
      }
     },
     "1fa228d819374dacbe3e1be4c673adae": {
      "model_module": "@jupyter-widgets/controls",
      "model_module_version": "1.5.0",
      "model_name": "HTMLModel",
      "state": {
       "layout": "IPY_MODEL_38d9ab218a454f8391061e07df057bf1",
       "style": "IPY_MODEL_6937a941af554ebd806d4df3682cc1ee",
       "value": " 541/541 [00:01&lt;00:00, 380.29it/s]"
      }
     },
     "202758222a094eb3968c4ce8ff006a96": {
      "model_module": "@jupyter-widgets/controls",
      "model_module_version": "1.5.0",
      "model_name": "FloatProgressModel",
      "state": {
       "description": "Validating: 100%",
       "layout": "IPY_MODEL_52f0ce8a67a446a6bccbb7be6b04e06e",
       "max": 541,
       "style": "IPY_MODEL_bc2587cdd2694e8e8d6289797e7b8168",
       "value": 541
      }
     },
     "215669184703433782d8532029f56264": {
      "model_module": "@jupyter-widgets/base",
      "model_module_version": "1.2.0",
      "model_name": "LayoutModel",
      "state": {
       "flex": "2"
      }
     },
     "217a4aadd26c42ab9abe255dfdba6951": {
      "model_module": "@jupyter-widgets/controls",
      "model_module_version": "1.5.0",
      "model_name": "HTMLModel",
      "state": {
       "layout": "IPY_MODEL_d1cd4a880881431f8d06afb25ed50f51",
       "style": "IPY_MODEL_37d214c0a1564e01acec9d5c027404a7",
       "value": " 541/541 [00:01&lt;00:00, 393.25it/s]"
      }
     },
     "21a192afc10a42d485e585fbdb097662": {
      "model_module": "@jupyter-widgets/base",
      "model_module_version": "1.2.0",
      "model_name": "LayoutModel",
      "state": {
       "display": "inline-flex",
       "flex_flow": "row wrap",
       "width": "100%"
      }
     },
     "220eda12d06342a2a773d97e3cbed873": {
      "model_module": "@jupyter-widgets/base",
      "model_module_version": "1.2.0",
      "model_name": "LayoutModel",
      "state": {}
     },
     "22313b5661f742bfabcd862ddf0f070c": {
      "model_module": "@jupyter-widgets/base",
      "model_module_version": "1.2.0",
      "model_name": "LayoutModel",
      "state": {}
     },
     "22b5d7fbc3584dbaa446d4f7744ff26c": {
      "model_module": "@jupyter-widgets/base",
      "model_module_version": "1.2.0",
      "model_name": "LayoutModel",
      "state": {}
     },
     "22c688ec811c49dd9ce55d173d7f040f": {
      "model_module": "@jupyter-widgets/base",
      "model_module_version": "1.2.0",
      "model_name": "LayoutModel",
      "state": {}
     },
     "22f2e97083e44df9af4e6b98e95c1dba": {
      "model_module": "@jupyter-widgets/controls",
      "model_module_version": "1.5.0",
      "model_name": "HTMLModel",
      "state": {
       "layout": "IPY_MODEL_c41238ee011e498987ed7f4899cfe3cc",
       "style": "IPY_MODEL_7e49501a90f249fab9eb755550f2e0ce",
       "value": " 541/541 [00:01&lt;00:00, 418.56it/s]"
      }
     },
     "22f4d91e9d8c42439cabb89e606e2c96": {
      "model_module": "@jupyter-widgets/base",
      "model_module_version": "1.2.0",
      "model_name": "LayoutModel",
      "state": {
       "display": "inline-flex",
       "flex_flow": "row wrap",
       "width": "100%"
      }
     },
     "232f483866504ad4bf30ac6618ccb868": {
      "model_module": "@jupyter-widgets/controls",
      "model_module_version": "1.5.0",
      "model_name": "DescriptionStyleModel",
      "state": {
       "description_width": ""
      }
     },
     "23ec185eac95418c92bcc27b7415b861": {
      "model_module": "@jupyter-widgets/base",
      "model_module_version": "1.2.0",
      "model_name": "LayoutModel",
      "state": {}
     },
     "241913733c464fd88c23f340cf16f6d6": {
      "model_module": "@jupyter-widgets/controls",
      "model_module_version": "1.5.0",
      "model_name": "ProgressStyleModel",
      "state": {
       "description_width": "initial"
      }
     },
     "24ed4c14f8c44fd6a8a75f57e7009376": {
      "model_module": "@jupyter-widgets/base",
      "model_module_version": "1.2.0",
      "model_name": "LayoutModel",
      "state": {}
     },
     "24f00665e4b14563bf31a783df5c8388": {
      "model_module": "@jupyter-widgets/controls",
      "model_module_version": "1.5.0",
      "model_name": "DescriptionStyleModel",
      "state": {
       "description_width": ""
      }
     },
     "24f50171efd14fa5b4192b7fcba08ae1": {
      "model_module": "@jupyter-widgets/controls",
      "model_module_version": "1.5.0",
      "model_name": "DescriptionStyleModel",
      "state": {
       "description_width": ""
      }
     },
     "258ed55f25ba4f8998c9e631b15ec486": {
      "model_module": "@jupyter-widgets/base",
      "model_module_version": "1.2.0",
      "model_name": "LayoutModel",
      "state": {}
     },
     "263317c8346241f6931f6a9a4015acf2": {
      "model_module": "@jupyter-widgets/controls",
      "model_module_version": "1.5.0",
      "model_name": "FloatProgressModel",
      "state": {
       "description": "Validating: 100%",
       "layout": "IPY_MODEL_b18c478b213d4e24bab0b86daef725b4",
       "max": 541,
       "style": "IPY_MODEL_1b0c679f8b934583993ad26725dd0634",
       "value": 541
      }
     },
     "2643207be36d44b4840035dad562d81a": {
      "model_module": "@jupyter-widgets/controls",
      "model_module_version": "1.5.0",
      "model_name": "ProgressStyleModel",
      "state": {
       "description_width": "initial"
      }
     },
     "27378eb868464563aeeb4f75a07695fb": {
      "model_module": "@jupyter-widgets/controls",
      "model_module_version": "1.5.0",
      "model_name": "ProgressStyleModel",
      "state": {
       "description_width": "initial"
      }
     },
     "2744d6d1a9c842348ca257c25676843e": {
      "model_module": "@jupyter-widgets/base",
      "model_module_version": "1.2.0",
      "model_name": "LayoutModel",
      "state": {
       "display": "inline-flex",
       "flex_flow": "row wrap",
       "width": "100%"
      }
     },
     "27bff0eda1074957bf35355fb6637e11": {
      "model_module": "@jupyter-widgets/controls",
      "model_module_version": "1.5.0",
      "model_name": "HTMLModel",
      "state": {
       "layout": "IPY_MODEL_dab1122ec228439c8ac693747704f71e",
       "style": "IPY_MODEL_f6483149bac94d879c63fe8069649b02",
       "value": " 541/541 [00:01&lt;00:00, 406.36it/s]"
      }
     },
     "280c8b561d37412dad423c37811e60df": {
      "model_module": "@jupyter-widgets/controls",
      "model_module_version": "1.5.0",
      "model_name": "ProgressStyleModel",
      "state": {
       "description_width": "initial"
      }
     },
     "292b93dcb0e2458caeb056cc8870d43a": {
      "model_module": "@jupyter-widgets/controls",
      "model_module_version": "1.5.0",
      "model_name": "ProgressStyleModel",
      "state": {
       "description_width": "initial"
      }
     },
     "293c798cc4504e66925ec5e30db690e0": {
      "model_module": "@jupyter-widgets/controls",
      "model_module_version": "1.5.0",
      "model_name": "ProgressStyleModel",
      "state": {
       "description_width": "initial"
      }
     },
     "2a0c51379b634ebb86f58139de883d99": {
      "model_module": "@jupyter-widgets/controls",
      "model_module_version": "1.5.0",
      "model_name": "ProgressStyleModel",
      "state": {
       "description_width": "initial"
      }
     },
     "2aab06810a9547038a808955ba2470f3": {
      "model_module": "@jupyter-widgets/base",
      "model_module_version": "1.2.0",
      "model_name": "LayoutModel",
      "state": {
       "flex": "2"
      }
     },
     "2af89d678ea9428dbc8ebe18bfd73edb": {
      "model_module": "@jupyter-widgets/base",
      "model_module_version": "1.2.0",
      "model_name": "LayoutModel",
      "state": {}
     },
     "2b0c530f5c454edb8ce794b38d227f7f": {
      "model_module": "@jupyter-widgets/controls",
      "model_module_version": "1.5.0",
      "model_name": "FloatProgressModel",
      "state": {
       "description": "Validating: 100%",
       "layout": "IPY_MODEL_196c7b7e225049ddac8cb4d40e14d327",
       "max": 541,
       "style": "IPY_MODEL_01f285cbf92e4d51825ed43fd606d004",
       "value": 541
      }
     },
     "2b4cb614f0e542d0a99541b6e9e13543": {
      "model_module": "@jupyter-widgets/base",
      "model_module_version": "1.2.0",
      "model_name": "LayoutModel",
      "state": {
       "display": "inline-flex",
       "flex_flow": "row wrap",
       "width": "100%"
      }
     },
     "2c2c62ba1a754ac09e1aa7182f363669": {
      "model_module": "@jupyter-widgets/controls",
      "model_module_version": "1.5.0",
      "model_name": "DescriptionStyleModel",
      "state": {
       "description_width": ""
      }
     },
     "2c3f1a7e5fd44b4ba087c225b6eb5331": {
      "model_module": "@jupyter-widgets/controls",
      "model_module_version": "1.5.0",
      "model_name": "DescriptionStyleModel",
      "state": {
       "description_width": ""
      }
     },
     "2d19cad926e244d98b3c7bf66a5b4188": {
      "model_module": "@jupyter-widgets/controls",
      "model_module_version": "1.5.0",
      "model_name": "HTMLModel",
      "state": {
       "layout": "IPY_MODEL_5a483edfdb1f4359a7db5f1062e4cbaa",
       "style": "IPY_MODEL_6724e33ef7b84cb386441222a3267a3c",
       "value": " 541/541 [00:01&lt;00:00, 414.67it/s]"
      }
     },
     "2e0c7f7789f44f38970a4a972fe485d3": {
      "model_module": "@jupyter-widgets/controls",
      "model_module_version": "1.5.0",
      "model_name": "HTMLModel",
      "state": {
       "layout": "IPY_MODEL_658968b37a7543bea154fd91196ba777",
       "style": "IPY_MODEL_419ad665a5e44022b15e7ebe681d5d06",
       "value": " 541/541 [00:01&lt;00:00, 349.01it/s]"
      }
     },
     "2e1c17ae06cf4af693dbaf16e1c515d7": {
      "model_module": "@jupyter-widgets/base",
      "model_module_version": "1.2.0",
      "model_name": "LayoutModel",
      "state": {
       "flex": "2"
      }
     },
     "2e877704c69d411b89af43dd69efead1": {
      "model_module": "@jupyter-widgets/controls",
      "model_module_version": "1.5.0",
      "model_name": "FloatProgressModel",
      "state": {
       "description": "Validating: 100%",
       "layout": "IPY_MODEL_1273ec3df10c467a97c5b29bfe2ddae9",
       "max": 541,
       "style": "IPY_MODEL_8a73a6a029344bfbbd66b81daf02aac3",
       "value": 541
      }
     },
     "2f13281032cc4b1bbde266fd209d2ff1": {
      "model_module": "@jupyter-widgets/base",
      "model_module_version": "1.2.0",
      "model_name": "LayoutModel",
      "state": {
       "display": "inline-flex",
       "flex_flow": "row wrap",
       "width": "100%"
      }
     },
     "2f36efdaa4ab4c17a73a0ff8563bb4ff": {
      "model_module": "@jupyter-widgets/controls",
      "model_module_version": "1.5.0",
      "model_name": "FloatProgressModel",
      "state": {
       "description": "Validating: 100%",
       "layout": "IPY_MODEL_b8e27503c4114c0185cad98a05107eb8",
       "max": 541,
       "style": "IPY_MODEL_f02dc378b0004bc2b2b1df7eca4ce66c",
       "value": 541
      }
     },
     "2f643ff54f5346e89b89d1d0860b6f12": {
      "model_module": "@jupyter-widgets/base",
      "model_module_version": "1.2.0",
      "model_name": "LayoutModel",
      "state": {}
     },
     "3015b05d50d148b4b439ef1eb52abada": {
      "model_module": "@jupyter-widgets/base",
      "model_module_version": "1.2.0",
      "model_name": "LayoutModel",
      "state": {
       "display": "inline-flex",
       "flex_flow": "row wrap",
       "width": "100%"
      }
     },
     "305ad2698621423b9c6fef2b5d4083dc": {
      "model_module": "@jupyter-widgets/base",
      "model_module_version": "1.2.0",
      "model_name": "LayoutModel",
      "state": {
       "flex": "2"
      }
     },
     "308425c0d37f4082a68dcf8773d95dad": {
      "model_module": "@jupyter-widgets/base",
      "model_module_version": "1.2.0",
      "model_name": "LayoutModel",
      "state": {}
     },
     "30f46cb83fa548ed81d2b204f7e30d50": {
      "model_module": "@jupyter-widgets/base",
      "model_module_version": "1.2.0",
      "model_name": "LayoutModel",
      "state": {
       "display": "inline-flex",
       "flex_flow": "row wrap",
       "width": "100%"
      }
     },
     "30fbebe82c6e441089682214a22da031": {
      "model_module": "@jupyter-widgets/base",
      "model_module_version": "1.2.0",
      "model_name": "LayoutModel",
      "state": {}
     },
     "3178c90d19fa4f7aa4ebb15cf0e8757b": {
      "model_module": "@jupyter-widgets/base",
      "model_module_version": "1.2.0",
      "model_name": "LayoutModel",
      "state": {
       "display": "inline-flex",
       "flex_flow": "row wrap",
       "width": "100%"
      }
     },
     "318032a397f84fcdb4d94c52b0a8b439": {
      "model_module": "@jupyter-widgets/controls",
      "model_module_version": "1.5.0",
      "model_name": "FloatProgressModel",
      "state": {
       "description": "Validating: 100%",
       "layout": "IPY_MODEL_f30a8b9f2fd44368a755d52c3b474c12",
       "max": 541,
       "style": "IPY_MODEL_280c8b561d37412dad423c37811e60df",
       "value": 541
      }
     },
     "31be3ee8d58f456d8d9f927a438b99ab": {
      "model_module": "@jupyter-widgets/base",
      "model_module_version": "1.2.0",
      "model_name": "LayoutModel",
      "state": {
       "flex": "2"
      }
     },
     "325405087c4345b1a6e847b57e2e0adf": {
      "model_module": "@jupyter-widgets/base",
      "model_module_version": "1.2.0",
      "model_name": "LayoutModel",
      "state": {
       "flex": "2"
      }
     },
     "325eeac3bd934091b9af9b3d22bd376a": {
      "model_module": "@jupyter-widgets/controls",
      "model_module_version": "1.5.0",
      "model_name": "FloatProgressModel",
      "state": {
       "description": "Validating: 100%",
       "layout": "IPY_MODEL_50119b61e1a94b4b956818f35f846479",
       "max": 541,
       "style": "IPY_MODEL_1f2cce2b314542feb1c6a3ee6c702d02",
       "value": 541
      }
     },
     "32bc2a62bd4e4249b6b3e1cb3c12d087": {
      "model_module": "@jupyter-widgets/base",
      "model_module_version": "1.2.0",
      "model_name": "LayoutModel",
      "state": {
       "flex": "2"
      }
     },
     "330200bb06364da1a0b3433d542c7c0d": {
      "model_module": "@jupyter-widgets/controls",
      "model_module_version": "1.5.0",
      "model_name": "DescriptionStyleModel",
      "state": {
       "description_width": ""
      }
     },
     "342f93088a284cc1a56bf9458503f596": {
      "model_module": "@jupyter-widgets/base",
      "model_module_version": "1.2.0",
      "model_name": "LayoutModel",
      "state": {
       "display": "inline-flex",
       "flex_flow": "row wrap",
       "width": "100%"
      }
     },
     "34a33efd49c7461d9abfbb618f47f547": {
      "model_module": "@jupyter-widgets/controls",
      "model_module_version": "1.5.0",
      "model_name": "ProgressStyleModel",
      "state": {
       "description_width": "initial"
      }
     },
     "34f869a95f7149eaa47eb10726c07313": {
      "model_module": "@jupyter-widgets/base",
      "model_module_version": "1.2.0",
      "model_name": "LayoutModel",
      "state": {
       "flex": "2"
      }
     },
     "34f9c5add6284d21ad4f3f0a03c5b72a": {
      "model_module": "@jupyter-widgets/controls",
      "model_module_version": "1.5.0",
      "model_name": "HTMLModel",
      "state": {
       "layout": "IPY_MODEL_95fe3028db424c2bbcc5048f2d92ab4f",
       "style": "IPY_MODEL_2c2c62ba1a754ac09e1aa7182f363669",
       "value": " 541/541 [00:01&lt;00:00, 420.43it/s]"
      }
     },
     "352c0bca788c45db91273dec7a8b8634": {
      "model_module": "@jupyter-widgets/controls",
      "model_module_version": "1.5.0",
      "model_name": "FloatProgressModel",
      "state": {
       "description": "Validating: 100%",
       "layout": "IPY_MODEL_cf692286639c49eba932b2db7be4763d",
       "max": 541,
       "style": "IPY_MODEL_14bcabb3c47c48c5a3e9b0e826a118ea",
       "value": 541
      }
     },
     "3547b3c61316436bafcaa0306625285f": {
      "model_module": "@jupyter-widgets/controls",
      "model_module_version": "1.5.0",
      "model_name": "HTMLModel",
      "state": {
       "layout": "IPY_MODEL_30fbebe82c6e441089682214a22da031",
       "style": "IPY_MODEL_3ee042c22c6c44cdb3a8518e8379c7c8",
       "value": " 541/541 [00:01&lt;00:00, 433.78it/s]"
      }
     },
     "35e7c063106d4c5687aa22f91fd80156": {
      "model_module": "@jupyter-widgets/controls",
      "model_module_version": "1.5.0",
      "model_name": "FloatProgressModel",
      "state": {
       "description": "Validating: 100%",
       "layout": "IPY_MODEL_a8d6bd1ad1be45cf89e96653bd4e7833",
       "max": 541,
       "style": "IPY_MODEL_715b4d38a8324ac7b0c37702b74c8677",
       "value": 541
      }
     },
     "367edb8b28e44e3a8366b15cc24fff48": {
      "model_module": "@jupyter-widgets/base",
      "model_module_version": "1.2.0",
      "model_name": "LayoutModel",
      "state": {
       "display": "inline-flex",
       "flex_flow": "row wrap",
       "width": "100%"
      }
     },
     "37061f38af774074b680f65ce5056b79": {
      "model_module": "@jupyter-widgets/base",
      "model_module_version": "1.2.0",
      "model_name": "LayoutModel",
      "state": {
       "display": "inline-flex",
       "flex_flow": "row wrap",
       "width": "100%"
      }
     },
     "370985b23cc44c3fb3539e3e7ed52088": {
      "model_module": "@jupyter-widgets/controls",
      "model_module_version": "1.5.0",
      "model_name": "DescriptionStyleModel",
      "state": {
       "description_width": ""
      }
     },
     "37570b26617840e6a5058902bc2940cd": {
      "model_module": "@jupyter-widgets/controls",
      "model_module_version": "1.5.0",
      "model_name": "HTMLModel",
      "state": {
       "layout": "IPY_MODEL_8a0d1da7774a4af6bdd050a8f3da7eea",
       "style": "IPY_MODEL_f868103c74c541ffac4f7e95137b7d35",
       "value": " 541/541 [00:01&lt;00:00, 412.75it/s]"
      }
     },
     "375c4da29e2a4f9892d67708a61f5d53": {
      "model_module": "@jupyter-widgets/base",
      "model_module_version": "1.2.0",
      "model_name": "LayoutModel",
      "state": {
       "display": "inline-flex",
       "flex_flow": "row wrap",
       "width": "100%"
      }
     },
     "376cb201565d4d96bc66354af0ffeb4e": {
      "model_module": "@jupyter-widgets/base",
      "model_module_version": "1.2.0",
      "model_name": "LayoutModel",
      "state": {}
     },
     "37a713f79d5b476fafbe9035c6c685df": {
      "model_module": "@jupyter-widgets/base",
      "model_module_version": "1.2.0",
      "model_name": "LayoutModel",
      "state": {}
     },
     "37d214c0a1564e01acec9d5c027404a7": {
      "model_module": "@jupyter-widgets/controls",
      "model_module_version": "1.5.0",
      "model_name": "DescriptionStyleModel",
      "state": {
       "description_width": ""
      }
     },
     "37f7c6a16767472bbdbb92bb7dd229b9": {
      "model_module": "@jupyter-widgets/base",
      "model_module_version": "1.2.0",
      "model_name": "LayoutModel",
      "state": {}
     },
     "38d9ab218a454f8391061e07df057bf1": {
      "model_module": "@jupyter-widgets/base",
      "model_module_version": "1.2.0",
      "model_name": "LayoutModel",
      "state": {}
     },
     "398690d30b9f4137bc028fff36c03446": {
      "model_module": "@jupyter-widgets/base",
      "model_module_version": "1.2.0",
      "model_name": "LayoutModel",
      "state": {}
     },
     "398f73b0de2b4a2a9e05b0f5fdd8b67c": {
      "model_module": "@jupyter-widgets/controls",
      "model_module_version": "1.5.0",
      "model_name": "HTMLModel",
      "state": {
       "layout": "IPY_MODEL_08f713a99b0649e4b0890806e647ebca",
       "style": "IPY_MODEL_45e491da02ea476db62b3eba0a08f6e4",
       "value": " 541/541 [00:01&lt;00:00, 354.11it/s]"
      }
     },
     "39b227c27ad74cbea908785613e06a27": {
      "model_module": "@jupyter-widgets/controls",
      "model_module_version": "1.5.0",
      "model_name": "FloatProgressModel",
      "state": {
       "description": "Validating: 100%",
       "layout": "IPY_MODEL_b2077e003fa04065b0a483c01bfbc14b",
       "max": 541,
       "style": "IPY_MODEL_ac317daa769e45f48ecca2a3e1aaf126",
       "value": 541
      }
     },
     "3a183fa2eb8a498ab62f2994eaee3610": {
      "model_module": "@jupyter-widgets/controls",
      "model_module_version": "1.5.0",
      "model_name": "DescriptionStyleModel",
      "state": {
       "description_width": ""
      }
     },
     "3a1d06360e984e06af16015a64e03082": {
      "model_module": "@jupyter-widgets/base",
      "model_module_version": "1.2.0",
      "model_name": "LayoutModel",
      "state": {
       "display": "inline-flex",
       "flex_flow": "row wrap",
       "width": "100%"
      }
     },
     "3a2741fca63644458f8325b3129fa66b": {
      "model_module": "@jupyter-widgets/controls",
      "model_module_version": "1.5.0",
      "model_name": "HTMLModel",
      "state": {
       "layout": "IPY_MODEL_c3b00aa6672f4b87997ff2ed2f66615d",
       "style": "IPY_MODEL_608306e425284b7cb49b8611a4218362",
       "value": " 541/541 [00:01&lt;00:00, 406.96it/s]"
      }
     },
     "3a55133772434b3cad50cb1f44b26d03": {
      "model_module": "@jupyter-widgets/controls",
      "model_module_version": "1.5.0",
      "model_name": "FloatProgressModel",
      "state": {
       "description": "Validating: 100%",
       "layout": "IPY_MODEL_915d348a016e4e95bb7944a1a6ed55e2",
       "max": 541,
       "style": "IPY_MODEL_796c985c0ba346278f958ae47fce2728",
       "value": 541
      }
     },
     "3b54021cf2034f62b3bb7ceda025e84c": {
      "model_module": "@jupyter-widgets/controls",
      "model_module_version": "1.5.0",
      "model_name": "FloatProgressModel",
      "state": {
       "description": "Validating: 100%",
       "layout": "IPY_MODEL_3c900e8dec7b4cafb9b83b572bf4b702",
       "max": 541,
       "style": "IPY_MODEL_a12bbd5eba3c463491f01ef10b746daf",
       "value": 541
      }
     },
     "3b6aafc59c27467696cee32ddeac97a8": {
      "model_module": "@jupyter-widgets/controls",
      "model_module_version": "1.5.0",
      "model_name": "FloatProgressModel",
      "state": {
       "description": "Validating: 100%",
       "layout": "IPY_MODEL_98c9929aec1e4232a82b3d13398d966a",
       "max": 541,
       "style": "IPY_MODEL_5ed1f84490f04aceb9071da16e4e0dff",
       "value": 541
      }
     },
     "3b7c0a66df4d46d38d83e6bf562b964c": {
      "model_module": "@jupyter-widgets/controls",
      "model_module_version": "1.5.0",
      "model_name": "HTMLModel",
      "state": {
       "layout": "IPY_MODEL_22c688ec811c49dd9ce55d173d7f040f",
       "style": "IPY_MODEL_a5affdffaad041609e70f3be2dd6cab7",
       "value": " 541/541 [00:01&lt;00:00, 391.74it/s]"
      }
     },
     "3bab0ae098bc4f41acc0222261ccdc4e": {
      "model_module": "@jupyter-widgets/controls",
      "model_module_version": "1.5.0",
      "model_name": "HTMLModel",
      "state": {
       "layout": "IPY_MODEL_24ed4c14f8c44fd6a8a75f57e7009376",
       "style": "IPY_MODEL_8bbf9d219ac64f8191054564305184af",
       "value": " 541/541 [00:01&lt;00:00, 381.82it/s]"
      }
     },
     "3bdac19b0e594d6e928871f56373a376": {
      "model_module": "@jupyter-widgets/base",
      "model_module_version": "1.2.0",
      "model_name": "LayoutModel",
      "state": {
       "display": "inline-flex",
       "flex_flow": "row wrap",
       "width": "100%"
      }
     },
     "3bf8273804cd44cb925a0bebc83f1383": {
      "model_module": "@jupyter-widgets/base",
      "model_module_version": "1.2.0",
      "model_name": "LayoutModel",
      "state": {}
     },
     "3c900e8dec7b4cafb9b83b572bf4b702": {
      "model_module": "@jupyter-widgets/base",
      "model_module_version": "1.2.0",
      "model_name": "LayoutModel",
      "state": {
       "flex": "2"
      }
     },
     "3d5eb57f0ee54e198b4f0bc3684f973d": {
      "model_module": "@jupyter-widgets/controls",
      "model_module_version": "1.5.0",
      "model_name": "ProgressStyleModel",
      "state": {
       "description_width": "initial"
      }
     },
     "3d69bd5e4f2c4cb5ae9812133feb017b": {
      "model_module": "@jupyter-widgets/base",
      "model_module_version": "1.2.0",
      "model_name": "LayoutModel",
      "state": {
       "flex": "2"
      }
     },
     "3dd0c58babc84dfa9b746aa9fd51cf80": {
      "model_module": "@jupyter-widgets/controls",
      "model_module_version": "1.5.0",
      "model_name": "FloatProgressModel",
      "state": {
       "description": "Validating: 100%",
       "layout": "IPY_MODEL_efdbeb920d5a4b76bf3cb464a8f11006",
       "max": 541,
       "style": "IPY_MODEL_47e581acd6674ea7a4ffd0d8b3402bb9",
       "value": 541
      }
     },
     "3e706b1daf374507b72d4d806ba1b5cc": {
      "model_module": "@jupyter-widgets/base",
      "model_module_version": "1.2.0",
      "model_name": "LayoutModel",
      "state": {
       "flex": "2"
      }
     },
     "3e8135c6919940a8988e0025d0c54ab2": {
      "model_module": "@jupyter-widgets/base",
      "model_module_version": "1.2.0",
      "model_name": "LayoutModel",
      "state": {}
     },
     "3ed56ccf09dc47069f69ce2e3c29f3c7": {
      "model_module": "@jupyter-widgets/controls",
      "model_module_version": "1.5.0",
      "model_name": "ProgressStyleModel",
      "state": {
       "description_width": "initial"
      }
     },
     "3ee042c22c6c44cdb3a8518e8379c7c8": {
      "model_module": "@jupyter-widgets/controls",
      "model_module_version": "1.5.0",
      "model_name": "DescriptionStyleModel",
      "state": {
       "description_width": ""
      }
     },
     "3ee661f4e1cc43219b79346c28e4e063": {
      "model_module": "@jupyter-widgets/base",
      "model_module_version": "1.2.0",
      "model_name": "LayoutModel",
      "state": {}
     },
     "3f5295544683400b986096e716b70cd0": {
      "model_module": "@jupyter-widgets/controls",
      "model_module_version": "1.5.0",
      "model_name": "DescriptionStyleModel",
      "state": {
       "description_width": ""
      }
     },
     "3f6996fc3a3f4b2fbe43a3cdd1d25830": {
      "model_module": "@jupyter-widgets/base",
      "model_module_version": "1.2.0",
      "model_name": "LayoutModel",
      "state": {}
     },
     "405a5655b07e46f8a87eba26a2108350": {
      "model_module": "@jupyter-widgets/base",
      "model_module_version": "1.2.0",
      "model_name": "LayoutModel",
      "state": {
       "flex": "2"
      }
     },
     "406b327eeef24e81bf455e782eeda537": {
      "model_module": "@jupyter-widgets/base",
      "model_module_version": "1.2.0",
      "model_name": "LayoutModel",
      "state": {
       "flex": "2"
      }
     },
     "4101d4ecc2f544c796e8493ec965d716": {
      "model_module": "@jupyter-widgets/controls",
      "model_module_version": "1.5.0",
      "model_name": "FloatProgressModel",
      "state": {
       "description": "Validating: 100%",
       "layout": "IPY_MODEL_79c16f6c81a8402d8165fc27193e1af3",
       "max": 541,
       "style": "IPY_MODEL_bd1a58dd6c414853ab378c60e9a0a383",
       "value": 541
      }
     },
     "4102f1eba0d040a49d7998983a189077": {
      "model_module": "@jupyter-widgets/base",
      "model_module_version": "1.2.0",
      "model_name": "LayoutModel",
      "state": {
       "display": "inline-flex",
       "flex_flow": "row wrap",
       "width": "100%"
      }
     },
     "41354b026c754100a7b9dbaa679c76aa": {
      "model_module": "@jupyter-widgets/base",
      "model_module_version": "1.2.0",
      "model_name": "LayoutModel",
      "state": {
       "flex": "2"
      }
     },
     "4145ecd384274ae7a3561d893300317e": {
      "model_module": "@jupyter-widgets/base",
      "model_module_version": "1.2.0",
      "model_name": "LayoutModel",
      "state": {
       "display": "inline-flex",
       "flex_flow": "row wrap",
       "width": "100%"
      }
     },
     "41642a6786db4efd9335b76899525ac6": {
      "model_module": "@jupyter-widgets/base",
      "model_module_version": "1.2.0",
      "model_name": "LayoutModel",
      "state": {}
     },
     "419ad665a5e44022b15e7ebe681d5d06": {
      "model_module": "@jupyter-widgets/controls",
      "model_module_version": "1.5.0",
      "model_name": "DescriptionStyleModel",
      "state": {
       "description_width": ""
      }
     },
     "41ee856b681c43fbb5ccc40141d0d048": {
      "model_module": "@jupyter-widgets/controls",
      "model_module_version": "1.5.0",
      "model_name": "FloatProgressModel",
      "state": {
       "description": "Validating: 100%",
       "layout": "IPY_MODEL_75345a2337dc45c4a9ec3e46c158c3b2",
       "max": 541,
       "style": "IPY_MODEL_f0648c3c05334071b08ccc3fe57dc1f5",
       "value": 541
      }
     },
     "4238b0a4262c4081b427fc4a53cd4519": {
      "model_module": "@jupyter-widgets/controls",
      "model_module_version": "1.5.0",
      "model_name": "DescriptionStyleModel",
      "state": {
       "description_width": ""
      }
     },
     "4278f152e2fc4f17896bb09a26c205af": {
      "model_module": "@jupyter-widgets/controls",
      "model_module_version": "1.5.0",
      "model_name": "DescriptionStyleModel",
      "state": {
       "description_width": ""
      }
     },
     "42df33b412014664b443db1a47ba5189": {
      "model_module": "@jupyter-widgets/base",
      "model_module_version": "1.2.0",
      "model_name": "LayoutModel",
      "state": {
       "display": "inline-flex",
       "flex_flow": "row wrap",
       "width": "100%"
      }
     },
     "4319f20f7f914e468d163d7d4b43cc4f": {
      "model_module": "@jupyter-widgets/base",
      "model_module_version": "1.2.0",
      "model_name": "LayoutModel",
      "state": {
       "display": "inline-flex",
       "flex_flow": "row wrap",
       "width": "100%"
      }
     },
     "4322f2368e3a4c9e8092bf83bf3586de": {
      "model_module": "@jupyter-widgets/base",
      "model_module_version": "1.2.0",
      "model_name": "LayoutModel",
      "state": {
       "display": "inline-flex",
       "flex_flow": "row wrap",
       "width": "100%"
      }
     },
     "4329522ff64f416fb0ac76dd9ff9499b": {
      "model_module": "@jupyter-widgets/base",
      "model_module_version": "1.2.0",
      "model_name": "LayoutModel",
      "state": {
       "flex": "2"
      }
     },
     "439309edc2404418913868d4347ef660": {
      "model_module": "@jupyter-widgets/base",
      "model_module_version": "1.2.0",
      "model_name": "LayoutModel",
      "state": {
       "flex": "2"
      }
     },
     "43c05648aa814ab3a27ac88fa7e7969e": {
      "model_module": "@jupyter-widgets/controls",
      "model_module_version": "1.5.0",
      "model_name": "DescriptionStyleModel",
      "state": {
       "description_width": ""
      }
     },
     "43e1e08a1691452bba4b85c5f87a5cd9": {
      "model_module": "@jupyter-widgets/controls",
      "model_module_version": "1.5.0",
      "model_name": "FloatProgressModel",
      "state": {
       "description": "Validating: 100%",
       "layout": "IPY_MODEL_ec0e802e638e43d89d087c7317af139b",
       "max": 541,
       "style": "IPY_MODEL_9ea0b882d73f4aadb8108d73a81ba763",
       "value": 541
      }
     },
     "43e716438657469981b48eae8e08f4d3": {
      "model_module": "@jupyter-widgets/base",
      "model_module_version": "1.2.0",
      "model_name": "LayoutModel",
      "state": {}
     },
     "4472bf9631504714b94b792b5d853c9e": {
      "model_module": "@jupyter-widgets/controls",
      "model_module_version": "1.5.0",
      "model_name": "ProgressStyleModel",
      "state": {
       "description_width": "initial"
      }
     },
     "447b4527f22d4f298d970d72f3b08ce2": {
      "model_module": "@jupyter-widgets/controls",
      "model_module_version": "1.5.0",
      "model_name": "FloatProgressModel",
      "state": {
       "description": "Validating: 100%",
       "layout": "IPY_MODEL_a94fed9c87254acdbd768d211be02adb",
       "max": 541,
       "style": "IPY_MODEL_2643207be36d44b4840035dad562d81a",
       "value": 541
      }
     },
     "44a4e2c3a1914c5d84dc404ac54f4024": {
      "model_module": "@jupyter-widgets/controls",
      "model_module_version": "1.5.0",
      "model_name": "ProgressStyleModel",
      "state": {
       "description_width": "initial"
      }
     },
     "44e4792acca246e7b6e0ff5dde9a14e7": {
      "model_module": "@jupyter-widgets/base",
      "model_module_version": "1.2.0",
      "model_name": "LayoutModel",
      "state": {
       "flex": "2"
      }
     },
     "452400e7df264699beee1ca716548f7a": {
      "model_module": "@jupyter-widgets/controls",
      "model_module_version": "1.5.0",
      "model_name": "HTMLModel",
      "state": {
       "layout": "IPY_MODEL_47dd88416d0c4171a82705b210f0845c",
       "style": "IPY_MODEL_6d77c2199f6b4e78a8c261cd6693733d",
       "value": " 541/541 [00:01&lt;00:00, 372.02it/s]"
      }
     },
     "45b3543892e043dbbca7f2c87c3b34cf": {
      "model_module": "@jupyter-widgets/base",
      "model_module_version": "1.2.0",
      "model_name": "LayoutModel",
      "state": {
       "flex": "2"
      }
     },
     "45e491da02ea476db62b3eba0a08f6e4": {
      "model_module": "@jupyter-widgets/controls",
      "model_module_version": "1.5.0",
      "model_name": "DescriptionStyleModel",
      "state": {
       "description_width": ""
      }
     },
     "465066884edf4254891a8be10d2f2c44": {
      "model_module": "@jupyter-widgets/controls",
      "model_module_version": "1.5.0",
      "model_name": "ProgressStyleModel",
      "state": {
       "description_width": "initial"
      }
     },
     "46944e4b68bd4763aa913d43325c9ae3": {
      "model_module": "@jupyter-widgets/controls",
      "model_module_version": "1.5.0",
      "model_name": "FloatProgressModel",
      "state": {
       "description": "Validating: 100%",
       "layout": "IPY_MODEL_cdf31d886f9e4855b1495461881bd8f0",
       "max": 541,
       "style": "IPY_MODEL_60c4e2f086244f7baababafc9f74ed68",
       "value": 541
      }
     },
     "46fb018b5f804d5fb6e645fe1014d2d5": {
      "model_module": "@jupyter-widgets/controls",
      "model_module_version": "1.5.0",
      "model_name": "FloatProgressModel",
      "state": {
       "description": "Validating: 100%",
       "layout": "IPY_MODEL_9b13f656a6ff48bcad9844ad4cac83e1",
       "max": 541,
       "style": "IPY_MODEL_9a10154d5fee43c4b3b82b6aba1a8f3b",
       "value": 541
      }
     },
     "47286a67b16d4452a1b7f6e98f21ac00": {
      "model_module": "@jupyter-widgets/controls",
      "model_module_version": "1.5.0",
      "model_name": "FloatProgressModel",
      "state": {
       "description": "Validating: 100%",
       "layout": "IPY_MODEL_fe0a958ee07c417d9a7ffc1c114e3d4d",
       "max": 541,
       "style": "IPY_MODEL_7bc5a30148ab4d4e97871b857352f6ba",
       "value": 541
      }
     },
     "479831b224e84bd2a1ef252821951bd4": {
      "model_module": "@jupyter-widgets/controls",
      "model_module_version": "1.5.0",
      "model_name": "FloatProgressModel",
      "state": {
       "description": "Validating: 100%",
       "layout": "IPY_MODEL_67edc6ea8e0a444abf7a807d694181d6",
       "max": 541,
       "style": "IPY_MODEL_6008484237994d049fcb658df5be8060",
       "value": 541
      }
     },
     "47dd88416d0c4171a82705b210f0845c": {
      "model_module": "@jupyter-widgets/base",
      "model_module_version": "1.2.0",
      "model_name": "LayoutModel",
      "state": {}
     },
     "47e581acd6674ea7a4ffd0d8b3402bb9": {
      "model_module": "@jupyter-widgets/controls",
      "model_module_version": "1.5.0",
      "model_name": "ProgressStyleModel",
      "state": {
       "description_width": "initial"
      }
     },
     "47ffb82a96f846cb894f1c46dce83334": {
      "model_module": "@jupyter-widgets/controls",
      "model_module_version": "1.5.0",
      "model_name": "DescriptionStyleModel",
      "state": {
       "description_width": ""
      }
     },
     "482e325fb148434583ebc884bd4b2269": {
      "model_module": "@jupyter-widgets/controls",
      "model_module_version": "1.5.0",
      "model_name": "FloatProgressModel",
      "state": {
       "description": "Validating: 100%",
       "layout": "IPY_MODEL_ad8c3b8a2420442eae6dcfc6d8c002d0",
       "max": 541,
       "style": "IPY_MODEL_4472bf9631504714b94b792b5d853c9e",
       "value": 541
      }
     },
     "4915f43482a94550a16978ab663db4af": {
      "model_module": "@jupyter-widgets/controls",
      "model_module_version": "1.5.0",
      "model_name": "FloatProgressModel",
      "state": {
       "description": "Validating: 100%",
       "layout": "IPY_MODEL_553d4fbc23c94bc7876cfd5803ccda19",
       "max": 541,
       "style": "IPY_MODEL_7bbf0c1cc19c46cb91ed7d7fda583d32",
       "value": 541
      }
     },
     "491fc6e780404601ab30fef1dc1efc3d": {
      "model_module": "@jupyter-widgets/base",
      "model_module_version": "1.2.0",
      "model_name": "LayoutModel",
      "state": {
       "flex": "2"
      }
     },
     "49bbadaed9634a669c6daa229ca82e4b": {
      "model_module": "@jupyter-widgets/controls",
      "model_module_version": "1.5.0",
      "model_name": "ProgressStyleModel",
      "state": {
       "description_width": "initial"
      }
     },
     "49bca556817847e99af48472f241a610": {
      "model_module": "@jupyter-widgets/controls",
      "model_module_version": "1.5.0",
      "model_name": "ProgressStyleModel",
      "state": {
       "description_width": "initial"
      }
     },
     "4a8b08ab4f5143b0b587de57fd8ccf16": {
      "model_module": "@jupyter-widgets/controls",
      "model_module_version": "1.5.0",
      "model_name": "HTMLModel",
      "state": {
       "layout": "IPY_MODEL_c5663c95e4e44f5a8eba63f7d2f18bfd",
       "style": "IPY_MODEL_24f00665e4b14563bf31a783df5c8388",
       "value": " 541/541 [00:01&lt;00:00, 400.08it/s]"
      }
     },
     "4b2f8fae2dd54914937aab1277c83ecd": {
      "model_module": "@jupyter-widgets/controls",
      "model_module_version": "1.5.0",
      "model_name": "HTMLModel",
      "state": {
       "layout": "IPY_MODEL_e85bb35b447b4aada633c18387b0775e",
       "style": "IPY_MODEL_daacba2607784f40b40f6ffec9692190",
       "value": " 541/541 [00:01&lt;00:00, 407.61it/s]"
      }
     },
     "4b43d27cc23b40e3838d6ee812a6b7ce": {
      "model_module": "@jupyter-widgets/controls",
      "model_module_version": "1.5.0",
      "model_name": "FloatProgressModel",
      "state": {
       "description": "Validating: 100%",
       "layout": "IPY_MODEL_68a4cd1efaaa4085b32433340be1a33b",
       "max": 541,
       "style": "IPY_MODEL_7fa339cf359345f8b423c6133403c80b",
       "value": 541
      }
     },
     "4c2779336fd34692a12fa23a320ce395": {
      "model_module": "@jupyter-widgets/base",
      "model_module_version": "1.2.0",
      "model_name": "LayoutModel",
      "state": {}
     },
     "4cf2a4356c494b6c814033edd4dc3002": {
      "model_module": "@jupyter-widgets/controls",
      "model_module_version": "1.5.0",
      "model_name": "DescriptionStyleModel",
      "state": {
       "description_width": ""
      }
     },
     "4d28eb1531fe419aba39298805ffbec0": {
      "model_module": "@jupyter-widgets/controls",
      "model_module_version": "1.5.0",
      "model_name": "HTMLModel",
      "state": {
       "layout": "IPY_MODEL_11fdea6770e0468491ddb4a21dc178e6",
       "style": "IPY_MODEL_47ffb82a96f846cb894f1c46dce83334",
       "value": " 541/541 [00:01&lt;00:00, 370.57it/s]"
      }
     },
     "4d291b22904b4ff3a835294dc10f8d7c": {
      "model_module": "@jupyter-widgets/controls",
      "model_module_version": "1.5.0",
      "model_name": "DescriptionStyleModel",
      "state": {
       "description_width": ""
      }
     },
     "4d3b7a176ef540328a12a720d975953e": {
      "model_module": "@jupyter-widgets/controls",
      "model_module_version": "1.5.0",
      "model_name": "HTMLModel",
      "state": {
       "layout": "IPY_MODEL_830bab1aad3a466aaa7432d7b965a8c6",
       "style": "IPY_MODEL_0a6fc2d7b1bf4f43a0bc5e92a2ec7619",
       "value": " 541/541 [00:01&lt;00:00, 388.57it/s]"
      }
     },
     "4dad1b30f8304ad0bbba8d43dc8a649e": {
      "model_module": "@jupyter-widgets/controls",
      "model_module_version": "1.5.0",
      "model_name": "ProgressStyleModel",
      "state": {
       "description_width": "initial"
      }
     },
     "4dafd896de2e4fc2a77334e6c4901c57": {
      "model_module": "@jupyter-widgets/base",
      "model_module_version": "1.2.0",
      "model_name": "LayoutModel",
      "state": {
       "display": "inline-flex",
       "flex_flow": "row wrap",
       "width": "100%"
      }
     },
     "4e895521509f460b8b2453dc0a93ccf7": {
      "model_module": "@jupyter-widgets/base",
      "model_module_version": "1.2.0",
      "model_name": "LayoutModel",
      "state": {
       "flex": "2"
      }
     },
     "4efa4c3bbb2b4e079cb4bc0294e9cff3": {
      "model_module": "@jupyter-widgets/controls",
      "model_module_version": "1.5.0",
      "model_name": "DescriptionStyleModel",
      "state": {
       "description_width": ""
      }
     },
     "4f174387e3bc4dfda002e92c3ded5852": {
      "model_module": "@jupyter-widgets/base",
      "model_module_version": "1.2.0",
      "model_name": "LayoutModel",
      "state": {
       "display": "inline-flex",
       "flex_flow": "row wrap",
       "width": "100%"
      }
     },
     "4f88f6bd93fd45dfb518e5564fc71254": {
      "model_module": "@jupyter-widgets/controls",
      "model_module_version": "1.5.0",
      "model_name": "FloatProgressModel",
      "state": {
       "description": "Validating: 100%",
       "layout": "IPY_MODEL_c2db95f47b1c4d1281d8d2f3dea24a42",
       "max": 541,
       "style": "IPY_MODEL_141eb18c3f1b4884948ea0387e091432",
       "value": 541
      }
     },
     "4faac102b0c34135944c1599303a509b": {
      "model_module": "@jupyter-widgets/controls",
      "model_module_version": "1.5.0",
      "model_name": "DescriptionStyleModel",
      "state": {
       "description_width": ""
      }
     },
     "50119b61e1a94b4b956818f35f846479": {
      "model_module": "@jupyter-widgets/base",
      "model_module_version": "1.2.0",
      "model_name": "LayoutModel",
      "state": {
       "flex": "2"
      }
     },
     "504a35ca50844141994168ce83b12e2e": {
      "model_module": "@jupyter-widgets/controls",
      "model_module_version": "1.5.0",
      "model_name": "HTMLModel",
      "state": {
       "layout": "IPY_MODEL_898ed232496d4a649764b93a85b7a5ef",
       "style": "IPY_MODEL_702867a055ee41d2b802162815bde7b4",
       "value": " 541/541 [00:01&lt;00:00, 342.03it/s]"
      }
     },
     "504e6df6cacc45de9b2a95e554e58a5a": {
      "model_module": "@jupyter-widgets/controls",
      "model_module_version": "1.5.0",
      "model_name": "FloatProgressModel",
      "state": {
       "description": "Validating: 100%",
       "layout": "IPY_MODEL_5951e71f0fb34dac9110366df41d94c7",
       "max": 541,
       "style": "IPY_MODEL_49bbadaed9634a669c6daa229ca82e4b",
       "value": 541
      }
     },
     "5065728ff15e455e972d335f0ed67c26": {
      "model_module": "@jupyter-widgets/base",
      "model_module_version": "1.2.0",
      "model_name": "LayoutModel",
      "state": {}
     },
     "506c4ae4dbf8447fb510a26dc2691d00": {
      "model_module": "@jupyter-widgets/controls",
      "model_module_version": "1.5.0",
      "model_name": "HBoxModel",
      "state": {
       "children": [
        "IPY_MODEL_b1770949a9b14e09be58f0f129c1e73b",
        "IPY_MODEL_72bb3d16a4174532bb1d776729978f07"
       ],
       "layout": "IPY_MODEL_8a48e658d69947858001229b52f5ab24"
      }
     },
     "50c6c9ded0874c1aada8b692aeb06250": {
      "model_module": "@jupyter-widgets/controls",
      "model_module_version": "1.5.0",
      "model_name": "DescriptionStyleModel",
      "state": {
       "description_width": ""
      }
     },
     "5152f6e43a98448a8c7aeb6cbe742f07": {
      "model_module": "@jupyter-widgets/controls",
      "model_module_version": "1.5.0",
      "model_name": "FloatProgressModel",
      "state": {
       "description": "Validating: 100%",
       "layout": "IPY_MODEL_45b3543892e043dbbca7f2c87c3b34cf",
       "max": 541,
       "style": "IPY_MODEL_97db2d7c654f4413b21f4c22a5cf0fd9",
       "value": 541
      }
     },
     "519995ecaade4605a5fa32c2d63bd680": {
      "model_module": "@jupyter-widgets/base",
      "model_module_version": "1.2.0",
      "model_name": "LayoutModel",
      "state": {
       "display": "inline-flex",
       "flex_flow": "row wrap",
       "width": "100%"
      }
     },
     "51e9a5f2abdb4b288ae38b8118780282": {
      "model_module": "@jupyter-widgets/controls",
      "model_module_version": "1.5.0",
      "model_name": "FloatProgressModel",
      "state": {
       "description": "Validating: 100%",
       "layout": "IPY_MODEL_a8761c48ea4b4f5592b5a9cfcf2584a2",
       "max": 541,
       "style": "IPY_MODEL_870fe04b234f457596077f5d22ffe2e3",
       "value": 541
      }
     },
     "51faece32d9d43e684cb59ead2033853": {
      "model_module": "@jupyter-widgets/base",
      "model_module_version": "1.2.0",
      "model_name": "LayoutModel",
      "state": {
       "display": "inline-flex",
       "flex_flow": "row wrap",
       "width": "100%"
      }
     },
     "52167c46a82e45879733586c3ce70819": {
      "model_module": "@jupyter-widgets/controls",
      "model_module_version": "1.5.0",
      "model_name": "FloatProgressModel",
      "state": {
       "description": "Validating: 100%",
       "layout": "IPY_MODEL_bf675240976b4c29aaf4af3d55061490",
       "max": 541,
       "style": "IPY_MODEL_6586593ee2a5495d80097d0c9a4f7eea",
       "value": 541
      }
     },
     "52cc6842c1cf42c5ad08603907480b01": {
      "model_module": "@jupyter-widgets/base",
      "model_module_version": "1.2.0",
      "model_name": "LayoutModel",
      "state": {
       "display": "inline-flex",
       "flex_flow": "row wrap",
       "width": "100%"
      }
     },
     "52d511bdb685421db65fc2c9cb6cc91e": {
      "model_module": "@jupyter-widgets/base",
      "model_module_version": "1.2.0",
      "model_name": "LayoutModel",
      "state": {
       "flex": "2"
      }
     },
     "52ecc43ca1824fdb9b18db4ec90f1e99": {
      "model_module": "@jupyter-widgets/base",
      "model_module_version": "1.2.0",
      "model_name": "LayoutModel",
      "state": {
       "flex": "2"
      }
     },
     "52f0ce8a67a446a6bccbb7be6b04e06e": {
      "model_module": "@jupyter-widgets/base",
      "model_module_version": "1.2.0",
      "model_name": "LayoutModel",
      "state": {
       "flex": "2"
      }
     },
     "530abd27634d47399def5f2da297ef63": {
      "model_module": "@jupyter-widgets/controls",
      "model_module_version": "1.5.0",
      "model_name": "HTMLModel",
      "state": {
       "layout": "IPY_MODEL_91acc9404fb54c7d87837caab802b843",
       "style": "IPY_MODEL_c67d82222c844b02b64aa0ad37c424ce",
       "value": " 541/541 [00:01&lt;00:00, 370.34it/s]"
      }
     },
     "531e90218623449388ba128a8dfb0bbd": {
      "model_module": "@jupyter-widgets/controls",
      "model_module_version": "1.5.0",
      "model_name": "FloatProgressModel",
      "state": {
       "description": "Validating: 100%",
       "layout": "IPY_MODEL_d281a48e8ed34cdfad26be5cabcf9e1e",
       "max": 541,
       "style": "IPY_MODEL_b6586526ca0347769e8cc7f8d3cf6804",
       "value": 541
      }
     },
     "537d6c23eef3477e86a424e55354782f": {
      "model_module": "@jupyter-widgets/controls",
      "model_module_version": "1.5.0",
      "model_name": "FloatProgressModel",
      "state": {
       "description": "Validating: 100%",
       "layout": "IPY_MODEL_b677f7e81f2e4429b07528055414fd64",
       "max": 541,
       "style": "IPY_MODEL_c260d30dfa384cf1bbade5c2ca534bf6",
       "value": 541
      }
     },
     "5483cdc7bc2d423280e40fda00abde56": {
      "model_module": "@jupyter-widgets/controls",
      "model_module_version": "1.5.0",
      "model_name": "FloatProgressModel",
      "state": {
       "description": "Validating: 100%",
       "layout": "IPY_MODEL_52ecc43ca1824fdb9b18db4ec90f1e99",
       "max": 541,
       "style": "IPY_MODEL_3ed56ccf09dc47069f69ce2e3c29f3c7",
       "value": 541
      }
     },
     "54b06637070c4ed6a64532e0ed1649f2": {
      "model_module": "@jupyter-widgets/controls",
      "model_module_version": "1.5.0",
      "model_name": "HTMLModel",
      "state": {
       "layout": "IPY_MODEL_bd97038838744be5a12f797fe6055499",
       "style": "IPY_MODEL_43c05648aa814ab3a27ac88fa7e7969e",
       "value": " 541/541 [00:01&lt;00:00, 349.81it/s]"
      }
     },
     "5511414ed8ac4266836cd9c1ef3f77c0": {
      "model_module": "@jupyter-widgets/controls",
      "model_module_version": "1.5.0",
      "model_name": "FloatProgressModel",
      "state": {
       "description": "Validating: 100%",
       "layout": "IPY_MODEL_5783c3f904c4413da2e9f5094acaf61e",
       "max": 541,
       "style": "IPY_MODEL_81d4265043f8418e9be1a20d3155448b",
       "value": 541
      }
     },
     "553d4fbc23c94bc7876cfd5803ccda19": {
      "model_module": "@jupyter-widgets/base",
      "model_module_version": "1.2.0",
      "model_name": "LayoutModel",
      "state": {
       "flex": "2"
      }
     },
     "55755c9463ba4ffcb558484c78f61a3f": {
      "model_module": "@jupyter-widgets/base",
      "model_module_version": "1.2.0",
      "model_name": "LayoutModel",
      "state": {
       "display": "inline-flex",
       "flex_flow": "row wrap",
       "width": "100%"
      }
     },
     "55945b47e87d4ce895c5a3020fa3bbc5": {
      "model_module": "@jupyter-widgets/controls",
      "model_module_version": "1.5.0",
      "model_name": "HTMLModel",
      "state": {
       "layout": "IPY_MODEL_9d6f169569604c9281444050534345d5",
       "style": "IPY_MODEL_66c9a285d4824856b8e63d9b689872d0",
       "value": " 541/541 [00:01&lt;00:00, 394.39it/s]"
      }
     },
     "55a93f6cf2a54d3781a625ae6a62350b": {
      "model_module": "@jupyter-widgets/controls",
      "model_module_version": "1.5.0",
      "model_name": "DescriptionStyleModel",
      "state": {
       "description_width": ""
      }
     },
     "55e79cdee2be4bbb89bc231639066c63": {
      "model_module": "@jupyter-widgets/controls",
      "model_module_version": "1.5.0",
      "model_name": "ProgressStyleModel",
      "state": {
       "description_width": "initial"
      }
     },
     "56dd9a0f491540db83f691f6c6c2d300": {
      "model_module": "@jupyter-widgets/base",
      "model_module_version": "1.2.0",
      "model_name": "LayoutModel",
      "state": {
       "display": "inline-flex",
       "flex_flow": "row wrap",
       "width": "100%"
      }
     },
     "56fa1ad3727c4e87b5910782d1906fc0": {
      "model_module": "@jupyter-widgets/base",
      "model_module_version": "1.2.0",
      "model_name": "LayoutModel",
      "state": {
       "display": "inline-flex",
       "flex_flow": "row wrap",
       "width": "100%"
      }
     },
     "5700daff70a34eeca8a7d1dbcc7aa0ab": {
      "model_module": "@jupyter-widgets/base",
      "model_module_version": "1.2.0",
      "model_name": "LayoutModel",
      "state": {}
     },
     "5783c3f904c4413da2e9f5094acaf61e": {
      "model_module": "@jupyter-widgets/base",
      "model_module_version": "1.2.0",
      "model_name": "LayoutModel",
      "state": {
       "flex": "2"
      }
     },
     "57f2c545e0514d9ab1dfd8e5fbde803c": {
      "model_module": "@jupyter-widgets/base",
      "model_module_version": "1.2.0",
      "model_name": "LayoutModel",
      "state": {}
     },
     "5929123d0da94ee3ba86f0dc9f9e5d71": {
      "model_module": "@jupyter-widgets/controls",
      "model_module_version": "1.5.0",
      "model_name": "FloatProgressModel",
      "state": {
       "description": "Validating: 100%",
       "layout": "IPY_MODEL_87b11078986b4bd9843e9d2a9f9bcecd",
       "max": 541,
       "style": "IPY_MODEL_d86484e15b164cd886c8598e27591495",
       "value": 541
      }
     },
     "5951e71f0fb34dac9110366df41d94c7": {
      "model_module": "@jupyter-widgets/base",
      "model_module_version": "1.2.0",
      "model_name": "LayoutModel",
      "state": {
       "flex": "2"
      }
     },
     "598b393c027d458cbb436d8599882d8e": {
      "model_module": "@jupyter-widgets/controls",
      "model_module_version": "1.5.0",
      "model_name": "FloatProgressModel",
      "state": {
       "description": "Validating: 100%",
       "layout": "IPY_MODEL_44e4792acca246e7b6e0ff5dde9a14e7",
       "max": 541,
       "style": "IPY_MODEL_18c6a82b98304ba2bcff9eb079b7ea84",
       "value": 541
      }
     },
     "59e2ea00027c422b8d582d90b929c4b6": {
      "model_module": "@jupyter-widgets/controls",
      "model_module_version": "1.5.0",
      "model_name": "ProgressStyleModel",
      "state": {
       "description_width": "initial"
      }
     },
     "59e3aa79d73c48cc88f55105fbad8cb9": {
      "model_module": "@jupyter-widgets/base",
      "model_module_version": "1.2.0",
      "model_name": "LayoutModel",
      "state": {
       "display": "inline-flex",
       "flex_flow": "row wrap",
       "width": "100%"
      }
     },
     "5a07b6a801dd4986bda5f9121d9fdf83": {
      "model_module": "@jupyter-widgets/controls",
      "model_module_version": "1.5.0",
      "model_name": "ProgressStyleModel",
      "state": {
       "description_width": "initial"
      }
     },
     "5a21578bbb204034b36995c50b1b90a2": {
      "model_module": "@jupyter-widgets/base",
      "model_module_version": "1.2.0",
      "model_name": "LayoutModel",
      "state": {
       "display": "inline-flex",
       "flex_flow": "row wrap",
       "width": "100%"
      }
     },
     "5a483edfdb1f4359a7db5f1062e4cbaa": {
      "model_module": "@jupyter-widgets/base",
      "model_module_version": "1.2.0",
      "model_name": "LayoutModel",
      "state": {}
     },
     "5a56c030f64b410a90c934654f15decc": {
      "model_module": "@jupyter-widgets/base",
      "model_module_version": "1.2.0",
      "model_name": "LayoutModel",
      "state": {
       "flex": "2"
      }
     },
     "5a57997efd664bae84acd51d60a0c790": {
      "model_module": "@jupyter-widgets/controls",
      "model_module_version": "1.5.0",
      "model_name": "HTMLModel",
      "state": {
       "layout": "IPY_MODEL_f496e72d130940ba8ab1eaa8bdda8666",
       "style": "IPY_MODEL_24f50171efd14fa5b4192b7fcba08ae1",
       "value": " 541/541 [00:01&lt;00:00, 386.59it/s]"
      }
     },
     "5a8c5534168e4c6b8b30be8f65dd5098": {
      "model_module": "@jupyter-widgets/controls",
      "model_module_version": "1.5.0",
      "model_name": "FloatProgressModel",
      "state": {
       "description": "Validating: 100%",
       "layout": "IPY_MODEL_3e706b1daf374507b72d4d806ba1b5cc",
       "max": 541,
       "style": "IPY_MODEL_27378eb868464563aeeb4f75a07695fb",
       "value": 541
      }
     },
     "5ac3774213a5464bb888a4ff615097d4": {
      "model_module": "@jupyter-widgets/base",
      "model_module_version": "1.2.0",
      "model_name": "LayoutModel",
      "state": {}
     },
     "5b93d2044948479cab59d569ae814b43": {
      "model_module": "@jupyter-widgets/controls",
      "model_module_version": "1.5.0",
      "model_name": "ProgressStyleModel",
      "state": {
       "description_width": "initial"
      }
     },
     "5bb63b40dcca40bfa5950abeca186473": {
      "model_module": "@jupyter-widgets/controls",
      "model_module_version": "1.5.0",
      "model_name": "HTMLModel",
      "state": {
       "layout": "IPY_MODEL_0b9c4e55cb7744868af6785662e089af",
       "style": "IPY_MODEL_e7bbbecf40da4b18872d972f2e72a1d1",
       "value": " 541/541 [00:01&lt;00:00, 429.55it/s]"
      }
     },
     "5be8b12d614b4dcfaec68a6a4ab111c3": {
      "model_module": "@jupyter-widgets/controls",
      "model_module_version": "1.5.0",
      "model_name": "ProgressStyleModel",
      "state": {
       "description_width": "initial"
      }
     },
     "5d1d352fa2084f94b3c841a019665312": {
      "model_module": "@jupyter-widgets/controls",
      "model_module_version": "1.5.0",
      "model_name": "ProgressStyleModel",
      "state": {
       "description_width": "initial"
      }
     },
     "5e2a3ee53c80457da3c38c6cfad24bbe": {
      "model_module": "@jupyter-widgets/controls",
      "model_module_version": "1.5.0",
      "model_name": "FloatProgressModel",
      "state": {
       "description": "Validating: 100%",
       "layout": "IPY_MODEL_68798c7260414c79b444ad26d4b4a73a",
       "max": 541,
       "style": "IPY_MODEL_f7d62a97469d4d6695d946503c4fd0d3",
       "value": 541
      }
     },
     "5e434566edf047c8b6e9050e5fff2e2f": {
      "model_module": "@jupyter-widgets/controls",
      "model_module_version": "1.5.0",
      "model_name": "HTMLModel",
      "state": {
       "layout": "IPY_MODEL_f13312a057a14b668e57f78774dfe4e1",
       "style": "IPY_MODEL_695a429d17a048ed97c5ac29aeb7bcf0",
       "value": " 541/541 [00:01&lt;00:00, 390.80it/s]"
      }
     },
     "5e51c412d1ca4e8abc00ccf4813b45e1": {
      "model_module": "@jupyter-widgets/base",
      "model_module_version": "1.2.0",
      "model_name": "LayoutModel",
      "state": {
       "flex": "2"
      }
     },
     "5e7a6fc70a7f4b3cba23e22a8ee4d135": {
      "model_module": "@jupyter-widgets/controls",
      "model_module_version": "1.5.0",
      "model_name": "HTMLModel",
      "state": {
       "layout": "IPY_MODEL_bcb4f0a288054d0c80474dadf5f017d7",
       "style": "IPY_MODEL_1b1c3214aef841e6995b50d72995bb87",
       "value": " 541/541 [00:01&lt;00:00, 349.27it/s]"
      }
     },
     "5ed1f84490f04aceb9071da16e4e0dff": {
      "model_module": "@jupyter-widgets/controls",
      "model_module_version": "1.5.0",
      "model_name": "ProgressStyleModel",
      "state": {
       "description_width": "initial"
      }
     },
     "5ede74b7a6974507ab400c113d2ea1ae": {
      "model_module": "@jupyter-widgets/base",
      "model_module_version": "1.2.0",
      "model_name": "LayoutModel",
      "state": {
       "display": "inline-flex",
       "flex_flow": "row wrap",
       "width": "100%"
      }
     },
     "5f288ba7dc994bb3915f64bddc6eaa9c": {
      "model_module": "@jupyter-widgets/controls",
      "model_module_version": "1.5.0",
      "model_name": "FloatProgressModel",
      "state": {
       "description": "Validating: 100%",
       "layout": "IPY_MODEL_6ac46aa62ca14503b2bfb99efc14e53d",
       "max": 541,
       "style": "IPY_MODEL_8c9962767acd46d9956023bced5c4e5d",
       "value": 541
      }
     },
     "5f577476723a4cea9bf390065065df39": {
      "model_module": "@jupyter-widgets/base",
      "model_module_version": "1.2.0",
      "model_name": "LayoutModel",
      "state": {
       "display": "inline-flex",
       "flex_flow": "row wrap",
       "width": "100%"
      }
     },
     "5f5ec64d111348ed951e658119d34ae9": {
      "model_module": "@jupyter-widgets/controls",
      "model_module_version": "1.5.0",
      "model_name": "ProgressStyleModel",
      "state": {
       "description_width": "initial"
      }
     },
     "5fa4d713d95c456ea53901a4f43e08d2": {
      "model_module": "@jupyter-widgets/controls",
      "model_module_version": "1.5.0",
      "model_name": "HTMLModel",
      "state": {
       "layout": "IPY_MODEL_9e2913108ba44044a6710dc0c061cf01",
       "style": "IPY_MODEL_be7c42d8c8ae4ec0a80a3f3db7c6a50a",
       "value": " 541/541 [00:01&lt;00:00, 377.48it/s]"
      }
     },
     "6008484237994d049fcb658df5be8060": {
      "model_module": "@jupyter-widgets/controls",
      "model_module_version": "1.5.0",
      "model_name": "ProgressStyleModel",
      "state": {
       "description_width": "initial"
      }
     },
     "6054636bf90b4110b5860e521e88cb5a": {
      "model_module": "@jupyter-widgets/base",
      "model_module_version": "1.2.0",
      "model_name": "LayoutModel",
      "state": {
       "display": "inline-flex",
       "flex_flow": "row wrap",
       "width": "100%"
      }
     },
     "605498422d884ee096e84bfd7d1abf9d": {
      "model_module": "@jupyter-widgets/controls",
      "model_module_version": "1.5.0",
      "model_name": "FloatProgressModel",
      "state": {
       "description": "Validating: 100%",
       "layout": "IPY_MODEL_41354b026c754100a7b9dbaa679c76aa",
       "max": 541,
       "style": "IPY_MODEL_34a33efd49c7461d9abfbb618f47f547",
       "value": 541
      }
     },
     "608306e425284b7cb49b8611a4218362": {
      "model_module": "@jupyter-widgets/controls",
      "model_module_version": "1.5.0",
      "model_name": "DescriptionStyleModel",
      "state": {
       "description_width": ""
      }
     },
     "60c4e2f086244f7baababafc9f74ed68": {
      "model_module": "@jupyter-widgets/controls",
      "model_module_version": "1.5.0",
      "model_name": "ProgressStyleModel",
      "state": {
       "description_width": "initial"
      }
     },
     "62405a7b0b4e48079b3e6a09723b7a13": {
      "model_module": "@jupyter-widgets/controls",
      "model_module_version": "1.5.0",
      "model_name": "FloatProgressModel",
      "state": {
       "description": "Validating: 100%",
       "layout": "IPY_MODEL_a4b835281b534f678015579dab7932c1",
       "max": 541,
       "style": "IPY_MODEL_5f5ec64d111348ed951e658119d34ae9",
       "value": 541
      }
     },
     "6290b81572ef4119b989488fde008a94": {
      "model_module": "@jupyter-widgets/base",
      "model_module_version": "1.2.0",
      "model_name": "LayoutModel",
      "state": {}
     },
     "6306f10e30564c5597c2f4ac52277a2c": {
      "model_module": "@jupyter-widgets/base",
      "model_module_version": "1.2.0",
      "model_name": "LayoutModel",
      "state": {}
     },
     "635f201e0af14742841d82dd41cabae1": {
      "model_module": "@jupyter-widgets/base",
      "model_module_version": "1.2.0",
      "model_name": "LayoutModel",
      "state": {}
     },
     "63a6aa9107d6494aa0f63e61383d78e5": {
      "model_module": "@jupyter-widgets/base",
      "model_module_version": "1.2.0",
      "model_name": "LayoutModel",
      "state": {
       "display": "inline-flex",
       "flex_flow": "row wrap",
       "width": "100%"
      }
     },
     "63dc1b90729143eab6f860a901d0ccc3": {
      "model_module": "@jupyter-widgets/base",
      "model_module_version": "1.2.0",
      "model_name": "LayoutModel",
      "state": {
       "display": "inline-flex",
       "flex_flow": "row wrap",
       "width": "100%"
      }
     },
     "6547c91ccbf1491b9ca57bea72c7492f": {
      "model_module": "@jupyter-widgets/base",
      "model_module_version": "1.2.0",
      "model_name": "LayoutModel",
      "state": {
       "display": "inline-flex",
       "flex_flow": "row wrap",
       "width": "100%"
      }
     },
     "655797f4294341d4aaaefff713e41a9d": {
      "model_module": "@jupyter-widgets/base",
      "model_module_version": "1.2.0",
      "model_name": "LayoutModel",
      "state": {
       "display": "inline-flex",
       "flex_flow": "row wrap",
       "width": "100%"
      }
     },
     "657e6e34cb6b4082980a1aac4042c7bd": {
      "model_module": "@jupyter-widgets/controls",
      "model_module_version": "1.5.0",
      "model_name": "HTMLModel",
      "state": {
       "layout": "IPY_MODEL_ee9fa88028de46c3a32d9d75bd02a37e",
       "style": "IPY_MODEL_bc1022e8219e46c5b4ed252a66dd3d0a",
       "value": " 541/541 [00:01&lt;00:00, 350.11it/s]"
      }
     },
     "65803886bb6442f6b613a3300d090b3f": {
      "model_module": "@jupyter-widgets/controls",
      "model_module_version": "1.5.0",
      "model_name": "HTMLModel",
      "state": {
       "layout": "IPY_MODEL_686aee89a2094f8f9631c18cb87c6aca",
       "style": "IPY_MODEL_fe5499c0722b47d7997233ddde354578",
       "value": " 541/541 [00:01&lt;00:00, 400.31it/s]"
      }
     },
     "6586593ee2a5495d80097d0c9a4f7eea": {
      "model_module": "@jupyter-widgets/controls",
      "model_module_version": "1.5.0",
      "model_name": "ProgressStyleModel",
      "state": {
       "description_width": "initial"
      }
     },
     "658968b37a7543bea154fd91196ba777": {
      "model_module": "@jupyter-widgets/base",
      "model_module_version": "1.2.0",
      "model_name": "LayoutModel",
      "state": {}
     },
     "660cdc8b3a8e4a9c905da71cba8bb1e1": {
      "model_module": "@jupyter-widgets/controls",
      "model_module_version": "1.5.0",
      "model_name": "HBoxModel",
      "state": {
       "children": [
        "IPY_MODEL_17a237799c454a3a87f2f27602049464",
        "IPY_MODEL_cde5ec6534ed41f786dd76b2b25fdb97"
       ],
       "layout": "IPY_MODEL_21a192afc10a42d485e585fbdb097662"
      }
     },
     "661ad04df6554065a61e03adec084c37": {
      "model_module": "@jupyter-widgets/controls",
      "model_module_version": "1.5.0",
      "model_name": "FloatProgressModel",
      "state": {
       "description": "Validating: 100%",
       "layout": "IPY_MODEL_16e319d7a233408bbfa07cdf5adb9c20",
       "max": 541,
       "style": "IPY_MODEL_6b4f5dd313344293b387d50a9f1a401e",
       "value": 541
      }
     },
     "66c33bef10c64784aa576bb02a019bbc": {
      "model_module": "@jupyter-widgets/controls",
      "model_module_version": "1.5.0",
      "model_name": "ProgressStyleModel",
      "state": {
       "description_width": "initial"
      }
     },
     "66c9a285d4824856b8e63d9b689872d0": {
      "model_module": "@jupyter-widgets/controls",
      "model_module_version": "1.5.0",
      "model_name": "DescriptionStyleModel",
      "state": {
       "description_width": ""
      }
     },
     "66fe71c3c95f45ff983606d37060f310": {
      "model_module": "@jupyter-widgets/controls",
      "model_module_version": "1.5.0",
      "model_name": "ProgressStyleModel",
      "state": {
       "description_width": "initial"
      }
     },
     "6724e33ef7b84cb386441222a3267a3c": {
      "model_module": "@jupyter-widgets/controls",
      "model_module_version": "1.5.0",
      "model_name": "DescriptionStyleModel",
      "state": {
       "description_width": ""
      }
     },
     "675143d786104347a3e4909f98a6d72b": {
      "model_module": "@jupyter-widgets/controls",
      "model_module_version": "1.5.0",
      "model_name": "FloatProgressModel",
      "state": {
       "description": "Validating: 100%",
       "layout": "IPY_MODEL_0a6689e539514ae2b031d8c7de29e086",
       "max": 541,
       "style": "IPY_MODEL_ab636dec543d4b9397d4a8d4f297d917",
       "value": 541
      }
     },
     "67edc6ea8e0a444abf7a807d694181d6": {
      "model_module": "@jupyter-widgets/base",
      "model_module_version": "1.2.0",
      "model_name": "LayoutModel",
      "state": {
       "flex": "2"
      }
     },
     "684a76a2afb540ad97f781073345020d": {
      "model_module": "@jupyter-widgets/controls",
      "model_module_version": "1.5.0",
      "model_name": "HTMLModel",
      "state": {
       "layout": "IPY_MODEL_0a10dedaeaf944b6b572b220045165f7",
       "style": "IPY_MODEL_7a8ee0d06cb84941ae118f5c627c85d0",
       "value": " 3063/3063 [00:23&lt;00:00, 131.34it/s, loss=0.023, v_num=0]"
      }
     },
     "684befc179d94203a268243eca7dc633": {
      "model_module": "@jupyter-widgets/controls",
      "model_module_version": "1.5.0",
      "model_name": "HTMLModel",
      "state": {
       "layout": "IPY_MODEL_ba1aab23498c4db6970a3342979471e3",
       "style": "IPY_MODEL_3f5295544683400b986096e716b70cd0",
       "value": " 541/541 [00:01&lt;00:00, 394.54it/s]"
      }
     },
     "6853fd28718e4fb1ae5633d4d38f59ce": {
      "model_module": "@jupyter-widgets/base",
      "model_module_version": "1.2.0",
      "model_name": "LayoutModel",
      "state": {
       "display": "inline-flex",
       "flex_flow": "row wrap",
       "width": "100%"
      }
     },
     "68544db29b1b4f6f84448d84b4560196": {
      "model_module": "@jupyter-widgets/controls",
      "model_module_version": "1.5.0",
      "model_name": "DescriptionStyleModel",
      "state": {
       "description_width": ""
      }
     },
     "686aee89a2094f8f9631c18cb87c6aca": {
      "model_module": "@jupyter-widgets/base",
      "model_module_version": "1.2.0",
      "model_name": "LayoutModel",
      "state": {}
     },
     "68798c7260414c79b444ad26d4b4a73a": {
      "model_module": "@jupyter-widgets/base",
      "model_module_version": "1.2.0",
      "model_name": "LayoutModel",
      "state": {
       "flex": "2"
      }
     },
     "68a4cd1efaaa4085b32433340be1a33b": {
      "model_module": "@jupyter-widgets/base",
      "model_module_version": "1.2.0",
      "model_name": "LayoutModel",
      "state": {
       "flex": "2"
      }
     },
     "6907a845843b4e278fcf3dafd9d8d652": {
      "model_module": "@jupyter-widgets/controls",
      "model_module_version": "1.5.0",
      "model_name": "FloatProgressModel",
      "state": {
       "description": "Validating: 100%",
       "layout": "IPY_MODEL_cddfa9fb97304a7f94fa147f64e6ec6a",
       "max": 541,
       "style": "IPY_MODEL_a2380ecc6ef74d9dabcaed874a404f3d",
       "value": 541
      }
     },
     "6937a941af554ebd806d4df3682cc1ee": {
      "model_module": "@jupyter-widgets/controls",
      "model_module_version": "1.5.0",
      "model_name": "DescriptionStyleModel",
      "state": {
       "description_width": ""
      }
     },
     "695a429d17a048ed97c5ac29aeb7bcf0": {
      "model_module": "@jupyter-widgets/controls",
      "model_module_version": "1.5.0",
      "model_name": "DescriptionStyleModel",
      "state": {
       "description_width": ""
      }
     },
     "69793cc07ca44d848a069e5357c43367": {
      "model_module": "@jupyter-widgets/controls",
      "model_module_version": "1.5.0",
      "model_name": "FloatProgressModel",
      "state": {
       "description": "Validating: 100%",
       "layout": "IPY_MODEL_eae7a1652cfb4eafb1a883d4dee8d9e5",
       "max": 541,
       "style": "IPY_MODEL_5a07b6a801dd4986bda5f9121d9fdf83",
       "value": 541
      }
     },
     "69897f7f70e4437db9bd11eadc1be6fa": {
      "model_module": "@jupyter-widgets/base",
      "model_module_version": "1.2.0",
      "model_name": "LayoutModel",
      "state": {
       "display": "inline-flex",
       "flex_flow": "row wrap",
       "width": "100%"
      }
     },
     "6a92dd6319214741a06ba149f2f083db": {
      "model_module": "@jupyter-widgets/base",
      "model_module_version": "1.2.0",
      "model_name": "LayoutModel",
      "state": {
       "flex": "2"
      }
     },
     "6ab7ff536d0a498b94010e5c4b7adb51": {
      "model_module": "@jupyter-widgets/controls",
      "model_module_version": "1.5.0",
      "model_name": "FloatProgressModel",
      "state": {
       "description": "Validating: 100%",
       "layout": "IPY_MODEL_5e51c412d1ca4e8abc00ccf4813b45e1",
       "max": 541,
       "style": "IPY_MODEL_6b69894ab4b74cf79037c623fa9646fc",
       "value": 541
      }
     },
     "6ac46aa62ca14503b2bfb99efc14e53d": {
      "model_module": "@jupyter-widgets/base",
      "model_module_version": "1.2.0",
      "model_name": "LayoutModel",
      "state": {
       "flex": "2"
      }
     },
     "6af737669e8b4b49b684434ffbdf71fd": {
      "model_module": "@jupyter-widgets/base",
      "model_module_version": "1.2.0",
      "model_name": "LayoutModel",
      "state": {
       "flex": "2"
      }
     },
     "6b0d8eaef438448daa4046c92e84c677": {
      "model_module": "@jupyter-widgets/base",
      "model_module_version": "1.2.0",
      "model_name": "LayoutModel",
      "state": {
       "display": "inline-flex",
       "flex_flow": "row wrap",
       "width": "100%"
      }
     },
     "6b401e24b683499cbde4e1f40df568ab": {
      "model_module": "@jupyter-widgets/controls",
      "model_module_version": "1.5.0",
      "model_name": "DescriptionStyleModel",
      "state": {
       "description_width": ""
      }
     },
     "6b4f5dd313344293b387d50a9f1a401e": {
      "model_module": "@jupyter-widgets/controls",
      "model_module_version": "1.5.0",
      "model_name": "ProgressStyleModel",
      "state": {
       "description_width": "initial"
      }
     },
     "6b69894ab4b74cf79037c623fa9646fc": {
      "model_module": "@jupyter-widgets/controls",
      "model_module_version": "1.5.0",
      "model_name": "ProgressStyleModel",
      "state": {
       "description_width": "initial"
      }
     },
     "6b84bd222b46444fb268b20beb3dead6": {
      "model_module": "@jupyter-widgets/controls",
      "model_module_version": "1.5.0",
      "model_name": "FloatProgressModel",
      "state": {
       "description": "Validating: 100%",
       "layout": "IPY_MODEL_1a0965174739415b8e6998ffdf6765a4",
       "max": 541,
       "style": "IPY_MODEL_be805e167a2b45198bd8ce50fb9b544a",
       "value": 541
      }
     },
     "6c75eaebcc85481bab6b0e23426c36a6": {
      "model_module": "@jupyter-widgets/base",
      "model_module_version": "1.2.0",
      "model_name": "LayoutModel",
      "state": {
       "display": "inline-flex",
       "flex_flow": "row wrap",
       "width": "100%"
      }
     },
     "6c7f748cfa3f4ac1928a46924adf3c7f": {
      "model_module": "@jupyter-widgets/base",
      "model_module_version": "1.2.0",
      "model_name": "LayoutModel",
      "state": {}
     },
     "6d256ae5cf364afea9d0d40d72f410b6": {
      "model_module": "@jupyter-widgets/controls",
      "model_module_version": "1.5.0",
      "model_name": "HTMLModel",
      "state": {
       "layout": "IPY_MODEL_398690d30b9f4137bc028fff36c03446",
       "style": "IPY_MODEL_a3f34a6f250943b1961057c33f754d19",
       "value": " 541/541 [00:01&lt;00:00, 392.28it/s]"
      }
     },
     "6d2b4563536c4ee996bfc7e756df9ee0": {
      "model_module": "@jupyter-widgets/controls",
      "model_module_version": "1.5.0",
      "model_name": "HTMLModel",
      "state": {
       "layout": "IPY_MODEL_43e716438657469981b48eae8e08f4d3",
       "style": "IPY_MODEL_14576c2fd605450da8584cbfbf7d8d75",
       "value": " 541/541 [00:01&lt;00:00, 362.99it/s]"
      }
     },
     "6d5f4fe95ad8427c9890146eee8380ea": {
      "model_module": "@jupyter-widgets/controls",
      "model_module_version": "1.5.0",
      "model_name": "DescriptionStyleModel",
      "state": {
       "description_width": ""
      }
     },
     "6d77c2199f6b4e78a8c261cd6693733d": {
      "model_module": "@jupyter-widgets/controls",
      "model_module_version": "1.5.0",
      "model_name": "DescriptionStyleModel",
      "state": {
       "description_width": ""
      }
     },
     "6eb000e45eed4595bfc9f300da01bacb": {
      "model_module": "@jupyter-widgets/controls",
      "model_module_version": "1.5.0",
      "model_name": "DescriptionStyleModel",
      "state": {
       "description_width": ""
      }
     },
     "6efb310d33344e8e97cb8f0c41d4222a": {
      "model_module": "@jupyter-widgets/controls",
      "model_module_version": "1.5.0",
      "model_name": "DescriptionStyleModel",
      "state": {
       "description_width": ""
      }
     },
     "6f0da37374d343fc835689998736f425": {
      "model_module": "@jupyter-widgets/controls",
      "model_module_version": "1.5.0",
      "model_name": "ProgressStyleModel",
      "state": {
       "description_width": "initial"
      }
     },
     "702867a055ee41d2b802162815bde7b4": {
      "model_module": "@jupyter-widgets/controls",
      "model_module_version": "1.5.0",
      "model_name": "DescriptionStyleModel",
      "state": {
       "description_width": ""
      }
     },
     "703f8c988c7946d387bfd33d891e9bcd": {
      "model_module": "@jupyter-widgets/controls",
      "model_module_version": "1.5.0",
      "model_name": "DescriptionStyleModel",
      "state": {
       "description_width": ""
      }
     },
     "7050ac8633b0453f91eea754e9a7bf42": {
      "model_module": "@jupyter-widgets/controls",
      "model_module_version": "1.5.0",
      "model_name": "HTMLModel",
      "state": {
       "layout": "IPY_MODEL_cf09b26a715943969b8e9f024c7a6617",
       "style": "IPY_MODEL_0dd39bb72218462b95739f08a60b4cd8",
       "value": " 541/541 [00:01&lt;00:00, 398.15it/s]"
      }
     },
     "7071f59656ea4c998c4df66a3dfc57e3": {
      "model_module": "@jupyter-widgets/base",
      "model_module_version": "1.2.0",
      "model_name": "LayoutModel",
      "state": {
       "display": "inline-flex",
       "flex_flow": "row wrap",
       "width": "100%"
      }
     },
     "7116b90c03fd4eb1980f2b8c3a8221db": {
      "model_module": "@jupyter-widgets/controls",
      "model_module_version": "1.5.0",
      "model_name": "HTMLModel",
      "state": {
       "layout": "IPY_MODEL_0f11c7e2b23a40fe92d10a47a907e234",
       "style": "IPY_MODEL_4d291b22904b4ff3a835294dc10f8d7c",
       "value": " 541/541 [00:01&lt;00:00, 384.08it/s]"
      }
     },
     "715b4d38a8324ac7b0c37702b74c8677": {
      "model_module": "@jupyter-widgets/controls",
      "model_module_version": "1.5.0",
      "model_name": "ProgressStyleModel",
      "state": {
       "description_width": "initial"
      }
     },
     "71bd222514f54914b203e75800088190": {
      "model_module": "@jupyter-widgets/base",
      "model_module_version": "1.2.0",
      "model_name": "LayoutModel",
      "state": {
       "flex": "2"
      }
     },
     "7224e4c631714f519b66bac99d3fe75f": {
      "model_module": "@jupyter-widgets/controls",
      "model_module_version": "1.5.0",
      "model_name": "FloatProgressModel",
      "state": {
       "description": "Validating: 100%",
       "layout": "IPY_MODEL_9738e3d2ac584951862994323e3c9c76",
       "max": 541,
       "style": "IPY_MODEL_e91ac35475db4392a0d4325927a25f8d",
       "value": 541
      }
     },
     "725d18f93ed44a6db1b979c711a1fa4d": {
      "model_module": "@jupyter-widgets/base",
      "model_module_version": "1.2.0",
      "model_name": "LayoutModel",
      "state": {
       "display": "inline-flex",
       "flex_flow": "row wrap",
       "width": "100%"
      }
     },
     "72b88a91853a45e8af951eec3c447992": {
      "model_module": "@jupyter-widgets/controls",
      "model_module_version": "1.5.0",
      "model_name": "DescriptionStyleModel",
      "state": {
       "description_width": ""
      }
     },
     "72bb3d16a4174532bb1d776729978f07": {
      "model_module": "@jupyter-widgets/controls",
      "model_module_version": "1.5.0",
      "model_name": "HTMLModel",
      "state": {
       "layout": "IPY_MODEL_bc0aa2df124842c0a044d396d592b2b4",
       "style": "IPY_MODEL_e84f5679ae524b1cabe7ea7af86195e4",
       "value": " 3063/3063 [1:06:51&lt;00:00,  1.31s/it, loss=0.551, v_num=0]"
      }
     },
     "72c5f55a97c84c158f3e60956d02efe1": {
      "model_module": "@jupyter-widgets/base",
      "model_module_version": "1.2.0",
      "model_name": "LayoutModel",
      "state": {
       "display": "inline-flex",
       "flex_flow": "row wrap",
       "width": "100%"
      }
     },
     "732314e6d9754dff966557c76cca42b1": {
      "model_module": "@jupyter-widgets/controls",
      "model_module_version": "1.5.0",
      "model_name": "HTMLModel",
      "state": {
       "layout": "IPY_MODEL_883f326f43544a908296e90066994499",
       "style": "IPY_MODEL_16d7145669d9435097b3235e7ae6c88f",
       "value": " 541/541 [00:01&lt;00:00, 355.32it/s]"
      }
     },
     "73882cadbadc452b9bd90d74c0cfaec7": {
      "model_module": "@jupyter-widgets/controls",
      "model_module_version": "1.5.0",
      "model_name": "FloatProgressModel",
      "state": {
       "bar_style": "success",
       "description": "Epoch 100: 100%",
       "layout": "IPY_MODEL_31be3ee8d58f456d8d9f927a438b99ab",
       "max": 3063,
       "style": "IPY_MODEL_16602c32a5fd486b87094d7a9d9286d5",
       "value": 3063
      }
     },
     "7442d1817afa4255a93010e96f186ee7": {
      "model_module": "@jupyter-widgets/controls",
      "model_module_version": "1.5.0",
      "model_name": "DescriptionStyleModel",
      "state": {
       "description_width": ""
      }
     },
     "7472970bbb6b42f6b280f5c4ba414c53": {
      "model_module": "@jupyter-widgets/controls",
      "model_module_version": "1.5.0",
      "model_name": "HTMLModel",
      "state": {
       "layout": "IPY_MODEL_c628104d741a479ea16f328df5131197",
       "style": "IPY_MODEL_6eb000e45eed4595bfc9f300da01bacb",
       "value": " 541/541 [00:01&lt;00:00, 383.00it/s]"
      }
     },
     "74f138ea977c4ba6a4513749a07feda9": {
      "model_module": "@jupyter-widgets/controls",
      "model_module_version": "1.5.0",
      "model_name": "ProgressStyleModel",
      "state": {
       "description_width": "initial"
      }
     },
     "75345a2337dc45c4a9ec3e46c158c3b2": {
      "model_module": "@jupyter-widgets/base",
      "model_module_version": "1.2.0",
      "model_name": "LayoutModel",
      "state": {
       "flex": "2"
      }
     },
     "7535888bde7645aeab6dd028f7741182": {
      "model_module": "@jupyter-widgets/controls",
      "model_module_version": "1.5.0",
      "model_name": "FloatProgressModel",
      "state": {
       "description": "Validating: 100%",
       "layout": "IPY_MODEL_215669184703433782d8532029f56264",
       "max": 541,
       "style": "IPY_MODEL_de4df615f2214bbd934d4a1b0090e65e",
       "value": 541
      }
     },
     "7624f397e1b24c54b087785f557fd4cb": {
      "model_module": "@jupyter-widgets/base",
      "model_module_version": "1.2.0",
      "model_name": "LayoutModel",
      "state": {
       "flex": "2"
      }
     },
     "763507919da84ab39885789fe761d4fa": {
      "model_module": "@jupyter-widgets/controls",
      "model_module_version": "1.5.0",
      "model_name": "DescriptionStyleModel",
      "state": {
       "description_width": ""
      }
     },
     "763953c6148c45999eb91d509c210675": {
      "model_module": "@jupyter-widgets/base",
      "model_module_version": "1.2.0",
      "model_name": "LayoutModel",
      "state": {
       "display": "inline-flex",
       "flex_flow": "row wrap",
       "width": "100%"
      }
     },
     "766c96fbcd854ca9a27c75ca15b6d96f": {
      "model_module": "@jupyter-widgets/base",
      "model_module_version": "1.2.0",
      "model_name": "LayoutModel",
      "state": {
       "display": "inline-flex",
       "flex_flow": "row wrap",
       "width": "100%"
      }
     },
     "766f0309ccf948fe8c93f2a6e722a855": {
      "model_module": "@jupyter-widgets/controls",
      "model_module_version": "1.5.0",
      "model_name": "ProgressStyleModel",
      "state": {
       "description_width": "initial"
      }
     },
     "7761c1e3f3024bf79f296a1b599c8578": {
      "model_module": "@jupyter-widgets/base",
      "model_module_version": "1.2.0",
      "model_name": "LayoutModel",
      "state": {
       "display": "inline-flex",
       "flex_flow": "row wrap",
       "width": "100%"
      }
     },
     "787e04d130704f8dac3deadf3c4a51fe": {
      "model_module": "@jupyter-widgets/controls",
      "model_module_version": "1.5.0",
      "model_name": "DescriptionStyleModel",
      "state": {
       "description_width": ""
      }
     },
     "790685ad1bfe41388e62bbb1dac40a19": {
      "model_module": "@jupyter-widgets/base",
      "model_module_version": "1.2.0",
      "model_name": "LayoutModel",
      "state": {
       "display": "inline-flex",
       "flex_flow": "row wrap",
       "width": "100%"
      }
     },
     "796c985c0ba346278f958ae47fce2728": {
      "model_module": "@jupyter-widgets/controls",
      "model_module_version": "1.5.0",
      "model_name": "ProgressStyleModel",
      "state": {
       "description_width": "initial"
      }
     },
     "79b9bb31c2f5413ca0990bff4eb7db07": {
      "model_module": "@jupyter-widgets/controls",
      "model_module_version": "1.5.0",
      "model_name": "DescriptionStyleModel",
      "state": {
       "description_width": ""
      }
     },
     "79c16f6c81a8402d8165fc27193e1af3": {
      "model_module": "@jupyter-widgets/base",
      "model_module_version": "1.2.0",
      "model_name": "LayoutModel",
      "state": {
       "flex": "2"
      }
     },
     "7a8ee0d06cb84941ae118f5c627c85d0": {
      "model_module": "@jupyter-widgets/controls",
      "model_module_version": "1.5.0",
      "model_name": "DescriptionStyleModel",
      "state": {
       "description_width": ""
      }
     },
     "7abcc780d3a14dc09bb01663fa9cf4ed": {
      "model_module": "@jupyter-widgets/base",
      "model_module_version": "1.2.0",
      "model_name": "LayoutModel",
      "state": {
       "flex": "2"
      }
     },
     "7ac2aca864e64198b2a15a5a628a559a": {
      "model_module": "@jupyter-widgets/base",
      "model_module_version": "1.2.0",
      "model_name": "LayoutModel",
      "state": {
       "flex": "2"
      }
     },
     "7b7d9d5ced6e47e3896fd57d183b8d9c": {
      "model_module": "@jupyter-widgets/controls",
      "model_module_version": "1.5.0",
      "model_name": "HTMLModel",
      "state": {
       "layout": "IPY_MODEL_c7d855cc067043a8bc2a9b222cc7b5ba",
       "style": "IPY_MODEL_0ec9ea0c796c426395046eec999f43b7",
       "value": " 541/541 [00:01&lt;00:00, 360.54it/s]"
      }
     },
     "7b7eb22307be4c798b25d8d270588958": {
      "model_module": "@jupyter-widgets/controls",
      "model_module_version": "1.5.0",
      "model_name": "HTMLModel",
      "state": {
       "layout": "IPY_MODEL_a18e4abd8eee41fd9ba8f7e4de3f51ac",
       "style": "IPY_MODEL_08143c93e6c349e2bce001c66bc635f5",
       "value": " 541/541 [00:01&lt;00:00, 395.59it/s]"
      }
     },
     "7b8a87e8b9f44279a94013eb6df9163a": {
      "model_module": "@jupyter-widgets/controls",
      "model_module_version": "1.5.0",
      "model_name": "DescriptionStyleModel",
      "state": {
       "description_width": ""
      }
     },
     "7b8db1157bb841eeb94777eaa93fc304": {
      "model_module": "@jupyter-widgets/base",
      "model_module_version": "1.2.0",
      "model_name": "LayoutModel",
      "state": {
       "display": "inline-flex",
       "flex_flow": "row wrap",
       "width": "100%"
      }
     },
     "7bab8375e4124bd5979ff096dd399459": {
      "model_module": "@jupyter-widgets/controls",
      "model_module_version": "1.5.0",
      "model_name": "FloatProgressModel",
      "state": {
       "description": "Validating: 100%",
       "layout": "IPY_MODEL_0966776b660f49ab8318f65886ec14f7",
       "max": 541,
       "style": "IPY_MODEL_7d7d4924b6684cfcb9e24828749a9a78",
       "value": 541
      }
     },
     "7bbf0c1cc19c46cb91ed7d7fda583d32": {
      "model_module": "@jupyter-widgets/controls",
      "model_module_version": "1.5.0",
      "model_name": "ProgressStyleModel",
      "state": {
       "description_width": "initial"
      }
     },
     "7bc5a30148ab4d4e97871b857352f6ba": {
      "model_module": "@jupyter-widgets/controls",
      "model_module_version": "1.5.0",
      "model_name": "ProgressStyleModel",
      "state": {
       "description_width": "initial"
      }
     },
     "7c4c7be6525245fe9f0c0bec328ba92a": {
      "model_module": "@jupyter-widgets/base",
      "model_module_version": "1.2.0",
      "model_name": "LayoutModel",
      "state": {
       "display": "inline-flex",
       "flex_flow": "row wrap",
       "width": "100%"
      }
     },
     "7d0eb1af73ec44c38a093c99e346e6e6": {
      "model_module": "@jupyter-widgets/controls",
      "model_module_version": "1.5.0",
      "model_name": "DescriptionStyleModel",
      "state": {
       "description_width": ""
      }
     },
     "7d7d4924b6684cfcb9e24828749a9a78": {
      "model_module": "@jupyter-widgets/controls",
      "model_module_version": "1.5.0",
      "model_name": "ProgressStyleModel",
      "state": {
       "description_width": "initial"
      }
     },
     "7e087c820ec64eb8bdbfb359be99c03d": {
      "model_module": "@jupyter-widgets/controls",
      "model_module_version": "1.5.0",
      "model_name": "ProgressStyleModel",
      "state": {
       "description_width": "initial"
      }
     },
     "7e400c8be2fb446390e4ed1f8311fb6d": {
      "model_module": "@jupyter-widgets/controls",
      "model_module_version": "1.5.0",
      "model_name": "ProgressStyleModel",
      "state": {
       "description_width": "initial"
      }
     },
     "7e49501a90f249fab9eb755550f2e0ce": {
      "model_module": "@jupyter-widgets/controls",
      "model_module_version": "1.5.0",
      "model_name": "DescriptionStyleModel",
      "state": {
       "description_width": ""
      }
     },
     "7e7fb307d995454c80bbd0d29666c967": {
      "model_module": "@jupyter-widgets/base",
      "model_module_version": "1.2.0",
      "model_name": "LayoutModel",
      "state": {
       "display": "inline-flex",
       "flex_flow": "row wrap",
       "width": "100%"
      }
     },
     "7e91087e86474f68aac38c9e5a938ac0": {
      "model_module": "@jupyter-widgets/controls",
      "model_module_version": "1.5.0",
      "model_name": "HTMLModel",
      "state": {
       "layout": "IPY_MODEL_bdc8dd45fdf24521b39b292383db7db3",
       "style": "IPY_MODEL_370985b23cc44c3fb3539e3e7ed52088",
       "value": " 541/541 [00:01&lt;00:00, 336.46it/s]"
      }
     },
     "7eee90d6efdd426087fad3b6a8162e9b": {
      "model_module": "@jupyter-widgets/base",
      "model_module_version": "1.2.0",
      "model_name": "LayoutModel",
      "state": {
       "display": "inline-flex",
       "flex_flow": "row wrap",
       "width": "100%"
      }
     },
     "7fa339cf359345f8b423c6133403c80b": {
      "model_module": "@jupyter-widgets/controls",
      "model_module_version": "1.5.0",
      "model_name": "ProgressStyleModel",
      "state": {
       "description_width": "initial"
      }
     },
     "7fe2b735038d4fe9934620cb6d418311": {
      "model_module": "@jupyter-widgets/controls",
      "model_module_version": "1.5.0",
      "model_name": "HTMLModel",
      "state": {
       "layout": "IPY_MODEL_6290b81572ef4119b989488fde008a94",
       "style": "IPY_MODEL_c4646251f8f0402e93848319daada80e",
       "value": " 541/541 [00:01&lt;00:00, 343.54it/s]"
      }
     },
     "80133f1ea52a4595b61c392ce1cb68ff": {
      "model_module": "@jupyter-widgets/controls",
      "model_module_version": "1.5.0",
      "model_name": "ProgressStyleModel",
      "state": {
       "description_width": "initial"
      }
     },
     "802be36881e7493ca0f939e4f525787e": {
      "model_module": "@jupyter-widgets/base",
      "model_module_version": "1.2.0",
      "model_name": "LayoutModel",
      "state": {
       "display": "inline-flex",
       "flex_flow": "row wrap",
       "width": "100%"
      }
     },
     "812f488846214fd0bcd248eb35beaf8c": {
      "model_module": "@jupyter-widgets/controls",
      "model_module_version": "1.5.0",
      "model_name": "FloatProgressModel",
      "state": {
       "description": "Validating: 100%",
       "layout": "IPY_MODEL_a5cdff05c1c94edbb30fab3224fbff4a",
       "max": 541,
       "style": "IPY_MODEL_c72c533bea9949e396d240d720473012",
       "value": 541
      }
     },
     "816e8cb039d047a0a8edf18cf25358c1": {
      "model_module": "@jupyter-widgets/controls",
      "model_module_version": "1.5.0",
      "model_name": "HTMLModel",
      "state": {
       "layout": "IPY_MODEL_91f72a85ddd14134983405cc62650245",
       "style": "IPY_MODEL_232f483866504ad4bf30ac6618ccb868",
       "value": " 541/541 [00:01&lt;00:00, 368.84it/s]"
      }
     },
     "819e616ad470427bb38b8b04cd277f02": {
      "model_module": "@jupyter-widgets/controls",
      "model_module_version": "1.5.0",
      "model_name": "FloatProgressModel",
      "state": {
       "description": "Validating: 100%",
       "layout": "IPY_MODEL_8316d03fbf7a4cffb3527890f0c070b3",
       "max": 541,
       "style": "IPY_MODEL_4dad1b30f8304ad0bbba8d43dc8a649e",
       "value": 541
      }
     },
     "81d4265043f8418e9be1a20d3155448b": {
      "model_module": "@jupyter-widgets/controls",
      "model_module_version": "1.5.0",
      "model_name": "ProgressStyleModel",
      "state": {
       "description_width": "initial"
      }
     },
     "81e50f82b9ed41d981c6319cb4376339": {
      "model_module": "@jupyter-widgets/controls",
      "model_module_version": "1.5.0",
      "model_name": "HTMLModel",
      "state": {
       "layout": "IPY_MODEL_f5401ffb6d654890bf0433ae11aec55d",
       "style": "IPY_MODEL_b0f029c976ef4e3d83bc55bfbd957f48",
       "value": " 541/541 [00:01&lt;00:00, 410.94it/s]"
      }
     },
     "821e2336eab343fa8fe1cc0601ca274e": {
      "model_module": "@jupyter-widgets/controls",
      "model_module_version": "1.5.0",
      "model_name": "DescriptionStyleModel",
      "state": {
       "description_width": ""
      }
     },
     "830bab1aad3a466aaa7432d7b965a8c6": {
      "model_module": "@jupyter-widgets/base",
      "model_module_version": "1.2.0",
      "model_name": "LayoutModel",
      "state": {}
     },
     "830ef4ec24524e9781310a7b86990233": {
      "model_module": "@jupyter-widgets/base",
      "model_module_version": "1.2.0",
      "model_name": "LayoutModel",
      "state": {
       "display": "inline-flex",
       "flex_flow": "row wrap",
       "width": "100%"
      }
     },
     "8316d03fbf7a4cffb3527890f0c070b3": {
      "model_module": "@jupyter-widgets/base",
      "model_module_version": "1.2.0",
      "model_name": "LayoutModel",
      "state": {
       "flex": "2"
      }
     },
     "832985c07eaf45458711c2f092e78e45": {
      "model_module": "@jupyter-widgets/base",
      "model_module_version": "1.2.0",
      "model_name": "LayoutModel",
      "state": {}
     },
     "83a8b476aa01497bb07885f2f964d22b": {
      "model_module": "@jupyter-widgets/controls",
      "model_module_version": "1.5.0",
      "model_name": "FloatProgressModel",
      "state": {
       "description": "Validating: 100%",
       "layout": "IPY_MODEL_d641bebbe10148e1a161ff27fba8d0f9",
       "max": 541,
       "style": "IPY_MODEL_74f138ea977c4ba6a4513749a07feda9",
       "value": 541
      }
     },
     "848ca4a49bba4708bc48636e72ccdbf8": {
      "model_module": "@jupyter-widgets/controls",
      "model_module_version": "1.5.0",
      "model_name": "FloatProgressModel",
      "state": {
       "description": "Validating: 100%",
       "layout": "IPY_MODEL_ecd0aae1ad93409db19c1945e83fcd24",
       "max": 541,
       "style": "IPY_MODEL_241913733c464fd88c23f340cf16f6d6",
       "value": 541
      }
     },
     "85b840281ccd452fba3260cddc500666": {
      "model_module": "@jupyter-widgets/controls",
      "model_module_version": "1.5.0",
      "model_name": "ProgressStyleModel",
      "state": {
       "description_width": "initial"
      }
     },
     "8675bd2e3cac41aba4250181e7a986e2": {
      "model_module": "@jupyter-widgets/base",
      "model_module_version": "1.2.0",
      "model_name": "LayoutModel",
      "state": {
       "display": "inline-flex",
       "flex_flow": "row wrap",
       "width": "100%"
      }
     },
     "870fe04b234f457596077f5d22ffe2e3": {
      "model_module": "@jupyter-widgets/controls",
      "model_module_version": "1.5.0",
      "model_name": "ProgressStyleModel",
      "state": {
       "description_width": "initial"
      }
     },
     "87b11078986b4bd9843e9d2a9f9bcecd": {
      "model_module": "@jupyter-widgets/base",
      "model_module_version": "1.2.0",
      "model_name": "LayoutModel",
      "state": {
       "flex": "2"
      }
     },
     "883f326f43544a908296e90066994499": {
      "model_module": "@jupyter-widgets/base",
      "model_module_version": "1.2.0",
      "model_name": "LayoutModel",
      "state": {}
     },
     "88b2dde77a084d01a1238a0305a4c689": {
      "model_module": "@jupyter-widgets/controls",
      "model_module_version": "1.5.0",
      "model_name": "ProgressStyleModel",
      "state": {
       "description_width": "initial"
      }
     },
     "8909ddd085254d1485f1fb8213195367": {
      "model_module": "@jupyter-widgets/controls",
      "model_module_version": "1.5.0",
      "model_name": "FloatProgressModel",
      "state": {
       "description": "Validating: 100%",
       "layout": "IPY_MODEL_8ac9aa09947d40689df12f93f8897a35",
       "max": 541,
       "style": "IPY_MODEL_55e79cdee2be4bbb89bc231639066c63",
       "value": 541
      }
     },
     "8921fab6487c41829be0536d2f047711": {
      "model_module": "@jupyter-widgets/controls",
      "model_module_version": "1.5.0",
      "model_name": "HTMLModel",
      "state": {
       "layout": "IPY_MODEL_6c7f748cfa3f4ac1928a46924adf3c7f",
       "style": "IPY_MODEL_db8c4e36f2d7441a9a8cb762ab224c15",
       "value": " 541/541 [00:01&lt;00:00, 425.72it/s]"
      }
     },
     "89544433113640bb8463e9eff9f1e427": {
      "model_module": "@jupyter-widgets/controls",
      "model_module_version": "1.5.0",
      "model_name": "FloatProgressModel",
      "state": {
       "description": "Validating: 100%",
       "layout": "IPY_MODEL_2e1c17ae06cf4af693dbaf16e1c515d7",
       "max": 541,
       "style": "IPY_MODEL_01c14984c35646dab4787c47ca5eeafc",
       "value": 541
      }
     },
     "897fe9d4d2fd4ff2b0cc2bb0ee364500": {
      "model_module": "@jupyter-widgets/base",
      "model_module_version": "1.2.0",
      "model_name": "LayoutModel",
      "state": {}
     },
     "898ed232496d4a649764b93a85b7a5ef": {
      "model_module": "@jupyter-widgets/base",
      "model_module_version": "1.2.0",
      "model_name": "LayoutModel",
      "state": {}
     },
     "89c4009053c54b6f991ff71335da856f": {
      "model_module": "@jupyter-widgets/controls",
      "model_module_version": "1.5.0",
      "model_name": "HTMLModel",
      "state": {
       "layout": "IPY_MODEL_14d8316a049d4b89b0b64f7ba33381cd",
       "style": "IPY_MODEL_079e8273fbd5462c9b79c835fed67bef",
       "value": " 541/541 [00:01&lt;00:00, 417.21it/s]"
      }
     },
     "8a0d1da7774a4af6bdd050a8f3da7eea": {
      "model_module": "@jupyter-widgets/base",
      "model_module_version": "1.2.0",
      "model_name": "LayoutModel",
      "state": {}
     },
     "8a24b74435c24619bc7bab87c1e6c3f9": {
      "model_module": "@jupyter-widgets/base",
      "model_module_version": "1.2.0",
      "model_name": "LayoutModel",
      "state": {}
     },
     "8a46b79d19cc4cd58b0753a544d078d0": {
      "model_module": "@jupyter-widgets/base",
      "model_module_version": "1.2.0",
      "model_name": "LayoutModel",
      "state": {
       "display": "inline-flex",
       "flex_flow": "row wrap",
       "width": "100%"
      }
     },
     "8a48e658d69947858001229b52f5ab24": {
      "model_module": "@jupyter-widgets/base",
      "model_module_version": "1.2.0",
      "model_name": "LayoutModel",
      "state": {
       "display": "inline-flex",
       "flex_flow": "row wrap",
       "width": "100%"
      }
     },
     "8a73a6a029344bfbbd66b81daf02aac3": {
      "model_module": "@jupyter-widgets/controls",
      "model_module_version": "1.5.0",
      "model_name": "ProgressStyleModel",
      "state": {
       "description_width": "initial"
      }
     },
     "8ac9aa09947d40689df12f93f8897a35": {
      "model_module": "@jupyter-widgets/base",
      "model_module_version": "1.2.0",
      "model_name": "LayoutModel",
      "state": {
       "flex": "2"
      }
     },
     "8b132bb553e64e40af11e10b46b34ce5": {
      "model_module": "@jupyter-widgets/controls",
      "model_module_version": "1.5.0",
      "model_name": "HTMLModel",
      "state": {
       "layout": "IPY_MODEL_8e30e2d7e17e4e00a0c07c7f5656db83",
       "style": "IPY_MODEL_1d469767fc60490fb5d3754f19518273",
       "value": " 541/541 [00:01&lt;00:00, 395.30it/s]"
      }
     },
     "8b42940c59244e159666def7e4e8eaf3": {
      "model_module": "@jupyter-widgets/controls",
      "model_module_version": "1.5.0",
      "model_name": "FloatProgressModel",
      "state": {
       "description": "Validating: 100%",
       "layout": "IPY_MODEL_8c97c7d1cea544b9866a0fa3068eb2b8",
       "max": 541,
       "style": "IPY_MODEL_5b93d2044948479cab59d569ae814b43",
       "value": 541
      }
     },
     "8bbf9d219ac64f8191054564305184af": {
      "model_module": "@jupyter-widgets/controls",
      "model_module_version": "1.5.0",
      "model_name": "DescriptionStyleModel",
      "state": {
       "description_width": ""
      }
     },
     "8bee1f32764548c4898d2c789bb84b6b": {
      "model_module": "@jupyter-widgets/controls",
      "model_module_version": "1.5.0",
      "model_name": "FloatProgressModel",
      "state": {
       "description": "Validating: 100%",
       "layout": "IPY_MODEL_cf662bdaebf74fa2857581a40df1cb18",
       "max": 541,
       "style": "IPY_MODEL_9d0c8e40936d4af4a7260ac461b872fc",
       "value": 541
      }
     },
     "8c97c7d1cea544b9866a0fa3068eb2b8": {
      "model_module": "@jupyter-widgets/base",
      "model_module_version": "1.2.0",
      "model_name": "LayoutModel",
      "state": {
       "flex": "2"
      }
     },
     "8c9962767acd46d9956023bced5c4e5d": {
      "model_module": "@jupyter-widgets/controls",
      "model_module_version": "1.5.0",
      "model_name": "ProgressStyleModel",
      "state": {
       "description_width": "initial"
      }
     },
     "8cba45181b6548f7a41efc99807d6f0e": {
      "model_module": "@jupyter-widgets/controls",
      "model_module_version": "1.5.0",
      "model_name": "ProgressStyleModel",
      "state": {
       "description_width": "initial"
      }
     },
     "8d3f031fbbd2415aae029c31be630403": {
      "model_module": "@jupyter-widgets/base",
      "model_module_version": "1.2.0",
      "model_name": "LayoutModel",
      "state": {
       "flex": "2"
      }
     },
     "8e30e2d7e17e4e00a0c07c7f5656db83": {
      "model_module": "@jupyter-widgets/base",
      "model_module_version": "1.2.0",
      "model_name": "LayoutModel",
      "state": {}
     },
     "8e449bf39815462e9feb50d32c07d254": {
      "model_module": "@jupyter-widgets/controls",
      "model_module_version": "1.5.0",
      "model_name": "FloatProgressModel",
      "state": {
       "description": "Validating: 100%",
       "layout": "IPY_MODEL_4329522ff64f416fb0ac76dd9ff9499b",
       "max": 541,
       "style": "IPY_MODEL_59e2ea00027c422b8d582d90b929c4b6",
       "value": 541
      }
     },
     "8e4f2752653e4870bee3f5306be3f681": {
      "model_module": "@jupyter-widgets/controls",
      "model_module_version": "1.5.0",
      "model_name": "FloatProgressModel",
      "state": {
       "description": "Validating: 100%",
       "layout": "IPY_MODEL_d1624e9d01bf4c688f95dc84b2c50770",
       "max": 541,
       "style": "IPY_MODEL_190ffd78b4884d26ae423d64e36a7122",
       "value": 541
      }
     },
     "8ecd4a7e83a74fd294b9dd5672c69b34": {
      "model_module": "@jupyter-widgets/controls",
      "model_module_version": "1.5.0",
      "model_name": "ProgressStyleModel",
      "state": {
       "description_width": "initial"
      }
     },
     "8f21a7809d474241b8b6202fa5e09e96": {
      "model_module": "@jupyter-widgets/controls",
      "model_module_version": "1.5.0",
      "model_name": "FloatProgressModel",
      "state": {
       "description": "Validating: 100%",
       "layout": "IPY_MODEL_037a60fd23c0442f8e7632b22f220998",
       "max": 541,
       "style": "IPY_MODEL_66c33bef10c64784aa576bb02a019bbc",
       "value": 541
      }
     },
     "8f39102a49184ff598c95db022feaa44": {
      "model_module": "@jupyter-widgets/controls",
      "model_module_version": "1.5.0",
      "model_name": "ProgressStyleModel",
      "state": {
       "description_width": "initial"
      }
     },
     "9043121490bc49d7b4312847cec61cc9": {
      "model_module": "@jupyter-widgets/controls",
      "model_module_version": "1.5.0",
      "model_name": "FloatProgressModel",
      "state": {
       "bar_style": "success",
       "description": "Testing: 100%",
       "layout": "IPY_MODEL_7624f397e1b24c54b087785f557fd4cb",
       "max": 540,
       "style": "IPY_MODEL_1f02c0dc54224db9be335873485fa0d5",
       "value": 540
      }
     },
     "906315dc4b6944e7819818e995e7ecf5": {
      "model_module": "@jupyter-widgets/controls",
      "model_module_version": "1.5.0",
      "model_name": "FloatProgressModel",
      "state": {
       "description": "Validating: 100%",
       "layout": "IPY_MODEL_4e895521509f460b8b2453dc0a93ccf7",
       "max": 541,
       "style": "IPY_MODEL_8ecd4a7e83a74fd294b9dd5672c69b34",
       "value": 541
      }
     },
     "908141fc1492411c97c6257a6d8fdd63": {
      "model_module": "@jupyter-widgets/controls",
      "model_module_version": "1.5.0",
      "model_name": "FloatProgressModel",
      "state": {
       "description": "Validating: 100%",
       "layout": "IPY_MODEL_e8791b534b8540a785bfe7a484d13d81",
       "max": 541,
       "style": "IPY_MODEL_5be8b12d614b4dcfaec68a6a4ab111c3",
       "value": 541
      }
     },
     "90cc9f5bda8e45d685fde09adaa9a74d": {
      "model_module": "@jupyter-widgets/controls",
      "model_module_version": "1.5.0",
      "model_name": "FloatProgressModel",
      "state": {
       "description": "Validating: 100%",
       "layout": "IPY_MODEL_a7abb58e7a4341acb74c42aa4f03e66d",
       "max": 541,
       "style": "IPY_MODEL_c7339466dfe34b798fa5b4a2e7a3091b",
       "value": 541
      }
     },
     "915d348a016e4e95bb7944a1a6ed55e2": {
      "model_module": "@jupyter-widgets/base",
      "model_module_version": "1.2.0",
      "model_name": "LayoutModel",
      "state": {
       "flex": "2"
      }
     },
     "91acc9404fb54c7d87837caab802b843": {
      "model_module": "@jupyter-widgets/base",
      "model_module_version": "1.2.0",
      "model_name": "LayoutModel",
      "state": {}
     },
     "91bb336858c24b688417adfb7aba840b": {
      "model_module": "@jupyter-widgets/controls",
      "model_module_version": "1.5.0",
      "model_name": "HTMLModel",
      "state": {
       "layout": "IPY_MODEL_17ec52680cab442a96ba98886f54c899",
       "style": "IPY_MODEL_4cf2a4356c494b6c814033edd4dc3002",
       "value": " 541/541 [00:01&lt;00:00, 373.61it/s]"
      }
     },
     "91f72a85ddd14134983405cc62650245": {
      "model_module": "@jupyter-widgets/base",
      "model_module_version": "1.2.0",
      "model_name": "LayoutModel",
      "state": {}
     },
     "92403f2abfd94aba914a6175f5f89df8": {
      "model_module": "@jupyter-widgets/base",
      "model_module_version": "1.2.0",
      "model_name": "LayoutModel",
      "state": {
       "display": "inline-flex",
       "flex_flow": "row wrap",
       "width": "100%"
      }
     },
     "934d791b93664e66bd2766ed08a3a869": {
      "model_module": "@jupyter-widgets/base",
      "model_module_version": "1.2.0",
      "model_name": "LayoutModel",
      "state": {
       "flex": "2"
      }
     },
     "939093f03b4b4787b16f0f671ed2139f": {
      "model_module": "@jupyter-widgets/base",
      "model_module_version": "1.2.0",
      "model_name": "LayoutModel",
      "state": {}
     },
     "9462f692d2ce403191d78b041b009f7f": {
      "model_module": "@jupyter-widgets/base",
      "model_module_version": "1.2.0",
      "model_name": "LayoutModel",
      "state": {
       "display": "inline-flex",
       "flex_flow": "row wrap",
       "width": "100%"
      }
     },
     "948e7b72882148e5bb32249bb004c5d5": {
      "model_module": "@jupyter-widgets/controls",
      "model_module_version": "1.5.0",
      "model_name": "HTMLModel",
      "state": {
       "layout": "IPY_MODEL_b9a74130fbad47b7aa10d619c83f5aa4",
       "style": "IPY_MODEL_3a183fa2eb8a498ab62f2994eaee3610",
       "value": " 541/541 [00:01&lt;00:00, 384.13it/s]"
      }
     },
     "94b62c688d2e44c1a9807934ff29f030": {
      "model_module": "@jupyter-widgets/controls",
      "model_module_version": "1.5.0",
      "model_name": "ProgressStyleModel",
      "state": {
       "description_width": "initial"
      }
     },
     "95450deda8574e7d87a17e4fddb434bb": {
      "model_module": "@jupyter-widgets/controls",
      "model_module_version": "1.5.0",
      "model_name": "DescriptionStyleModel",
      "state": {
       "description_width": ""
      }
     },
     "959a2fd9c72646ca8e9af5daea39eed1": {
      "model_module": "@jupyter-widgets/controls",
      "model_module_version": "1.5.0",
      "model_name": "HTMLModel",
      "state": {
       "layout": "IPY_MODEL_5ac3774213a5464bb888a4ff615097d4",
       "style": "IPY_MODEL_ea83f6111d2e4575888562d951b306ef",
       "value": " 541/541 [00:01&lt;00:00, 407.79it/s]"
      }
     },
     "95fe3028db424c2bbcc5048f2d92ab4f": {
      "model_module": "@jupyter-widgets/base",
      "model_module_version": "1.2.0",
      "model_name": "LayoutModel",
      "state": {}
     },
     "96399c2ccc4e4bad9284ea314eea57e9": {
      "model_module": "@jupyter-widgets/base",
      "model_module_version": "1.2.0",
      "model_name": "LayoutModel",
      "state": {
       "flex": "2"
      }
     },
     "96adc59b305b4637a1886e29bb242591": {
      "model_module": "@jupyter-widgets/controls",
      "model_module_version": "1.5.0",
      "model_name": "HTMLModel",
      "state": {
       "layout": "IPY_MODEL_b421af3a73564d61860882071ca2480c",
       "style": "IPY_MODEL_a3546961629c4d3595ba1be3dc410992",
       "value": " 541/541 [00:01&lt;00:00, 357.51it/s]"
      }
     },
     "9738e3d2ac584951862994323e3c9c76": {
      "model_module": "@jupyter-widgets/base",
      "model_module_version": "1.2.0",
      "model_name": "LayoutModel",
      "state": {
       "flex": "2"
      }
     },
     "97db2d7c654f4413b21f4c22a5cf0fd9": {
      "model_module": "@jupyter-widgets/controls",
      "model_module_version": "1.5.0",
      "model_name": "ProgressStyleModel",
      "state": {
       "description_width": "initial"
      }
     },
     "984c41b8cae24cb08f35ad7d8ac3178e": {
      "model_module": "@jupyter-widgets/controls",
      "model_module_version": "1.5.0",
      "model_name": "FloatProgressModel",
      "state": {
       "description": "Validating: 100%",
       "layout": "IPY_MODEL_8d3f031fbbd2415aae029c31be630403",
       "max": 541,
       "style": "IPY_MODEL_2a0c51379b634ebb86f58139de883d99",
       "value": 541
      }
     },
     "98c9929aec1e4232a82b3d13398d966a": {
      "model_module": "@jupyter-widgets/base",
      "model_module_version": "1.2.0",
      "model_name": "LayoutModel",
      "state": {
       "flex": "2"
      }
     },
     "98e17be087ec43c2926bf8d66d337e43": {
      "model_module": "@jupyter-widgets/controls",
      "model_module_version": "1.5.0",
      "model_name": "HTMLModel",
      "state": {
       "layout": "IPY_MODEL_b1d2b770cfd447a2acb7de40ee7359c6",
       "style": "IPY_MODEL_00e6bf893be04e3da23c304139162e52",
       "value": " 541/541 [00:01&lt;00:00, 364.00it/s]"
      }
     },
     "98fe19d4844642578b3da47a2ef2bc34": {
      "model_module": "@jupyter-widgets/base",
      "model_module_version": "1.2.0",
      "model_name": "LayoutModel",
      "state": {
       "display": "inline-flex",
       "flex_flow": "row wrap",
       "width": "100%"
      }
     },
     "9951ce2c912c4c9da8aa4077a9f6c6dc": {
      "model_module": "@jupyter-widgets/base",
      "model_module_version": "1.2.0",
      "model_name": "LayoutModel",
      "state": {
       "flex": "2"
      }
     },
     "997d5df6a32249c19bd4499f5398c9fd": {
      "model_module": "@jupyter-widgets/base",
      "model_module_version": "1.2.0",
      "model_name": "LayoutModel",
      "state": {
       "flex": "2"
      }
     },
     "9a0a82d03c774c1c87ab9712fbc23b64": {
      "model_module": "@jupyter-widgets/controls",
      "model_module_version": "1.5.0",
      "model_name": "DescriptionStyleModel",
      "state": {
       "description_width": ""
      }
     },
     "9a10154d5fee43c4b3b82b6aba1a8f3b": {
      "model_module": "@jupyter-widgets/controls",
      "model_module_version": "1.5.0",
      "model_name": "ProgressStyleModel",
      "state": {
       "description_width": "initial"
      }
     },
     "9a438e2f465041a5bfb0da5b24c39c98": {
      "model_module": "@jupyter-widgets/controls",
      "model_module_version": "1.5.0",
      "model_name": "HTMLModel",
      "state": {
       "layout": "IPY_MODEL_ac37e90d273b4597b73c5b06b6a141af",
       "style": "IPY_MODEL_1ae08c04d10a4a0c92cf7d80b25e897f",
       "value": " 541/541 [00:01&lt;00:00, 416.77it/s]"
      }
     },
     "9a7c646c761d48a18caa0912ef9a0f51": {
      "model_module": "@jupyter-widgets/base",
      "model_module_version": "1.2.0",
      "model_name": "LayoutModel",
      "state": {}
     },
     "9aa596f17dfd49b9a9654993f58e9a8b": {
      "model_module": "@jupyter-widgets/controls",
      "model_module_version": "1.5.0",
      "model_name": "DescriptionStyleModel",
      "state": {
       "description_width": ""
      }
     },
     "9af6764133574c6989ae5c38fd587d27": {
      "model_module": "@jupyter-widgets/controls",
      "model_module_version": "1.5.0",
      "model_name": "ProgressStyleModel",
      "state": {
       "description_width": "initial"
      }
     },
     "9b13f656a6ff48bcad9844ad4cac83e1": {
      "model_module": "@jupyter-widgets/base",
      "model_module_version": "1.2.0",
      "model_name": "LayoutModel",
      "state": {
       "flex": "2"
      }
     },
     "9b5069dcd139437d8b22572feb10d1a1": {
      "model_module": "@jupyter-widgets/base",
      "model_module_version": "1.2.0",
      "model_name": "LayoutModel",
      "state": {
       "display": "inline-flex",
       "flex_flow": "row wrap",
       "width": "100%"
      }
     },
     "9b5d22fad3a24113869ded4ef7e8d5c9": {
      "model_module": "@jupyter-widgets/controls",
      "model_module_version": "1.5.0",
      "model_name": "DescriptionStyleModel",
      "state": {
       "description_width": ""
      }
     },
     "9b7c9e0bbdef49de9de70e7159d4f015": {
      "model_module": "@jupyter-widgets/controls",
      "model_module_version": "1.5.0",
      "model_name": "FloatProgressModel",
      "state": {
       "description": "Validating: 100%",
       "layout": "IPY_MODEL_cbecfe3877544aecb64a7cff93d5175e",
       "max": 541,
       "style": "IPY_MODEL_15078b3e92d44a6b82618029596e7404",
       "value": 541
      }
     },
     "9bda75d2dadf4738ae5b07cc02a37be5": {
      "model_module": "@jupyter-widgets/controls",
      "model_module_version": "1.5.0",
      "model_name": "DescriptionStyleModel",
      "state": {
       "description_width": ""
      }
     },
     "9bfea3b60e254dc9a145f4b2a8143fc3": {
      "model_module": "@jupyter-widgets/base",
      "model_module_version": "1.2.0",
      "model_name": "LayoutModel",
      "state": {}
     },
     "9d0c8e40936d4af4a7260ac461b872fc": {
      "model_module": "@jupyter-widgets/controls",
      "model_module_version": "1.5.0",
      "model_name": "ProgressStyleModel",
      "state": {
       "description_width": "initial"
      }
     },
     "9d1daf9c460d4930aa2afcd724aa495e": {
      "model_module": "@jupyter-widgets/base",
      "model_module_version": "1.2.0",
      "model_name": "LayoutModel",
      "state": {
       "display": "inline-flex",
       "flex_flow": "row wrap",
       "width": "100%"
      }
     },
     "9d6f169569604c9281444050534345d5": {
      "model_module": "@jupyter-widgets/base",
      "model_module_version": "1.2.0",
      "model_name": "LayoutModel",
      "state": {}
     },
     "9d84b2ea5f3049fb8559d56aa076a516": {
      "model_module": "@jupyter-widgets/controls",
      "model_module_version": "1.5.0",
      "model_name": "FloatProgressModel",
      "state": {
       "description": "Validating: 100%",
       "layout": "IPY_MODEL_305ad2698621423b9c6fef2b5d4083dc",
       "max": 541,
       "style": "IPY_MODEL_5d1d352fa2084f94b3c841a019665312",
       "value": 541
      }
     },
     "9de5523cf17b472a856935adeb8cae9b": {
      "model_module": "@jupyter-widgets/controls",
      "model_module_version": "1.5.0",
      "model_name": "HTMLModel",
      "state": {
       "layout": "IPY_MODEL_4c2779336fd34692a12fa23a320ce395",
       "style": "IPY_MODEL_50c6c9ded0874c1aada8b692aeb06250",
       "value": " 541/541 [00:01&lt;00:00, 387.69it/s]"
      }
     },
     "9e2913108ba44044a6710dc0c061cf01": {
      "model_module": "@jupyter-widgets/base",
      "model_module_version": "1.2.0",
      "model_name": "LayoutModel",
      "state": {}
     },
     "9e67c8d696a94170811f4b6e0134fab6": {
      "model_module": "@jupyter-widgets/base",
      "model_module_version": "1.2.0",
      "model_name": "LayoutModel",
      "state": {
       "display": "inline-flex",
       "flex_flow": "row wrap",
       "width": "100%"
      }
     },
     "9ea0b882d73f4aadb8108d73a81ba763": {
      "model_module": "@jupyter-widgets/controls",
      "model_module_version": "1.5.0",
      "model_name": "ProgressStyleModel",
      "state": {
       "description_width": "initial"
      }
     },
     "9f73367c4576442dac65536404758fe4": {
      "model_module": "@jupyter-widgets/controls",
      "model_module_version": "1.5.0",
      "model_name": "FloatProgressModel",
      "state": {
       "description": "Validating: 100%",
       "layout": "IPY_MODEL_ce85ea414c9d43e8ab9e34bc9f0258a6",
       "max": 541,
       "style": "IPY_MODEL_fee3dea5733f43b092780b1df642f022",
       "value": 541
      }
     },
     "9fcf6960081641e1a4339da453235642": {
      "model_module": "@jupyter-widgets/controls",
      "model_module_version": "1.5.0",
      "model_name": "HBoxModel",
      "state": {
       "children": [
        "IPY_MODEL_73882cadbadc452b9bd90d74c0cfaec7",
        "IPY_MODEL_684a76a2afb540ad97f781073345020d"
       ],
       "layout": "IPY_MODEL_30f46cb83fa548ed81d2b204f7e30d50"
      }
     },
     "9fe7d1322e234f6689a418de92a8ed5f": {
      "model_module": "@jupyter-widgets/base",
      "model_module_version": "1.2.0",
      "model_name": "LayoutModel",
      "state": {
       "flex": "2"
      }
     },
     "a014a570b5af4150bebd05e0ca49e05e": {
      "model_module": "@jupyter-widgets/controls",
      "model_module_version": "1.5.0",
      "model_name": "DescriptionStyleModel",
      "state": {
       "description_width": ""
      }
     },
     "a1001204fca54185b987cd9aa9df6805": {
      "model_module": "@jupyter-widgets/base",
      "model_module_version": "1.2.0",
      "model_name": "LayoutModel",
      "state": {
       "display": "inline-flex",
       "flex_flow": "row wrap",
       "width": "100%"
      }
     },
     "a12bbd5eba3c463491f01ef10b746daf": {
      "model_module": "@jupyter-widgets/controls",
      "model_module_version": "1.5.0",
      "model_name": "ProgressStyleModel",
      "state": {
       "description_width": "initial"
      }
     },
     "a15fcbca9af44a06af821e2b10078cf4": {
      "model_module": "@jupyter-widgets/controls",
      "model_module_version": "1.5.0",
      "model_name": "FloatProgressModel",
      "state": {
       "description": "Validating: 100%",
       "layout": "IPY_MODEL_fe18e5a6f31448868a4953301aef261f",
       "max": 541,
       "style": "IPY_MODEL_49bca556817847e99af48472f241a610",
       "value": 541
      }
     },
     "a1660392c95149eb8e896d520041d310": {
      "model_module": "@jupyter-widgets/base",
      "model_module_version": "1.2.0",
      "model_name": "LayoutModel",
      "state": {
       "display": "inline-flex",
       "flex_flow": "row wrap",
       "width": "100%"
      }
     },
     "a18e4abd8eee41fd9ba8f7e4de3f51ac": {
      "model_module": "@jupyter-widgets/base",
      "model_module_version": "1.2.0",
      "model_name": "LayoutModel",
      "state": {}
     },
     "a1ae2a842c1b4f5381126827fd57a771": {
      "model_module": "@jupyter-widgets/base",
      "model_module_version": "1.2.0",
      "model_name": "LayoutModel",
      "state": {
       "flex": "2"
      }
     },
     "a22d1532ee4f470b9f637a2868dbf5d0": {
      "model_module": "@jupyter-widgets/controls",
      "model_module_version": "1.5.0",
      "model_name": "DescriptionStyleModel",
      "state": {
       "description_width": ""
      }
     },
     "a2380ecc6ef74d9dabcaed874a404f3d": {
      "model_module": "@jupyter-widgets/controls",
      "model_module_version": "1.5.0",
      "model_name": "ProgressStyleModel",
      "state": {
       "description_width": "initial"
      }
     },
     "a25ee06ef86c47dda6626a1b12defbec": {
      "model_module": "@jupyter-widgets/controls",
      "model_module_version": "1.5.0",
      "model_name": "FloatProgressModel",
      "state": {
       "description": "Validating: 100%",
       "layout": "IPY_MODEL_439309edc2404418913868d4347ef660",
       "max": 541,
       "style": "IPY_MODEL_ba17d6898059425eaf7c318a20047359",
       "value": 541
      }
     },
     "a2d37f82553643d0982d073e6d6e31a8": {
      "model_module": "@jupyter-widgets/base",
      "model_module_version": "1.2.0",
      "model_name": "LayoutModel",
      "state": {
       "display": "inline-flex",
       "flex_flow": "row wrap",
       "width": "100%"
      }
     },
     "a30c83db1171447fa36baaef4cd4b39b": {
      "model_module": "@jupyter-widgets/base",
      "model_module_version": "1.2.0",
      "model_name": "LayoutModel",
      "state": {
       "display": "inline-flex",
       "flex_flow": "row wrap",
       "width": "100%"
      }
     },
     "a32aa7bc51b841b29108f54efc45480a": {
      "model_module": "@jupyter-widgets/controls",
      "model_module_version": "1.5.0",
      "model_name": "HTMLModel",
      "state": {
       "layout": "IPY_MODEL_f4f90c327104411a899263a3e7112025",
       "style": "IPY_MODEL_e04f63e5d155470b939a9304cd4279e3",
       "value": " 541/541 [00:01&lt;00:00, 400.16it/s]"
      }
     },
     "a3546961629c4d3595ba1be3dc410992": {
      "model_module": "@jupyter-widgets/controls",
      "model_module_version": "1.5.0",
      "model_name": "DescriptionStyleModel",
      "state": {
       "description_width": ""
      }
     },
     "a367092e73664fe5b6cc372c11a54785": {
      "model_module": "@jupyter-widgets/controls",
      "model_module_version": "1.5.0",
      "model_name": "HTMLModel",
      "state": {
       "layout": "IPY_MODEL_dc1b89de961a4951b104248f5d0ed494",
       "style": "IPY_MODEL_e42d1f43f73540acaa7ffd032bee3012",
       "value": " 541/541 [00:01&lt;00:00, 408.26it/s]"
      }
     },
     "a3eae83e7a5347e988aeb3b1a9b56e70": {
      "model_module": "@jupyter-widgets/controls",
      "model_module_version": "1.5.0",
      "model_name": "HTMLModel",
      "state": {
       "layout": "IPY_MODEL_b6f6a519e02c4834b8de9c75af9be683",
       "style": "IPY_MODEL_fe918a8804b2435a91022768056af1a2",
       "value": " 541/541 [00:01&lt;00:00, 369.79it/s]"
      }
     },
     "a3f34a6f250943b1961057c33f754d19": {
      "model_module": "@jupyter-widgets/controls",
      "model_module_version": "1.5.0",
      "model_name": "DescriptionStyleModel",
      "state": {
       "description_width": ""
      }
     },
     "a460ce24114c46258fc45492a9548eb6": {
      "model_module": "@jupyter-widgets/controls",
      "model_module_version": "1.5.0",
      "model_name": "FloatProgressModel",
      "state": {
       "description": "Validating: 100%",
       "layout": "IPY_MODEL_13d88fd1615b4b72b9f247886e30b779",
       "max": 541,
       "style": "IPY_MODEL_8cba45181b6548f7a41efc99807d6f0e",
       "value": 541
      }
     },
     "a4803b3aa9ed408dba14618401fc1ec3": {
      "model_module": "@jupyter-widgets/base",
      "model_module_version": "1.2.0",
      "model_name": "LayoutModel",
      "state": {
       "display": "inline-flex",
       "flex_flow": "row wrap",
       "width": "100%"
      }
     },
     "a487f58075054e0eab2d3d23045a07c2": {
      "model_module": "@jupyter-widgets/controls",
      "model_module_version": "1.5.0",
      "model_name": "ProgressStyleModel",
      "state": {
       "description_width": "initial"
      }
     },
     "a4a6b510618a47f7b9fd740b79a3c9cc": {
      "model_module": "@jupyter-widgets/base",
      "model_module_version": "1.2.0",
      "model_name": "LayoutModel",
      "state": {
       "display": "inline-flex",
       "flex_flow": "row wrap",
       "width": "100%"
      }
     },
     "a4b835281b534f678015579dab7932c1": {
      "model_module": "@jupyter-widgets/base",
      "model_module_version": "1.2.0",
      "model_name": "LayoutModel",
      "state": {
       "flex": "2"
      }
     },
     "a50baf67e7dd40838c9319ae564ceec1": {
      "model_module": "@jupyter-widgets/controls",
      "model_module_version": "1.5.0",
      "model_name": "DescriptionStyleModel",
      "state": {
       "description_width": ""
      }
     },
     "a5700b2246c54bc2b6cbe3b51b554d53": {
      "model_module": "@jupyter-widgets/controls",
      "model_module_version": "1.5.0",
      "model_name": "FloatProgressModel",
      "state": {
       "description": "Validating: 100%",
       "layout": "IPY_MODEL_b7e5ec5785534a309955cb4cc9c35b0f",
       "max": 541,
       "style": "IPY_MODEL_0e17f7dc526847e58151559ff5e50dfd",
       "value": 541
      }
     },
     "a5922caa98f340d48a0211b67ec9598c": {
      "model_module": "@jupyter-widgets/controls",
      "model_module_version": "1.5.0",
      "model_name": "ProgressStyleModel",
      "state": {
       "description_width": "initial"
      }
     },
     "a5affdffaad041609e70f3be2dd6cab7": {
      "model_module": "@jupyter-widgets/controls",
      "model_module_version": "1.5.0",
      "model_name": "DescriptionStyleModel",
      "state": {
       "description_width": ""
      }
     },
     "a5cdff05c1c94edbb30fab3224fbff4a": {
      "model_module": "@jupyter-widgets/base",
      "model_module_version": "1.2.0",
      "model_name": "LayoutModel",
      "state": {
       "flex": "2"
      }
     },
     "a609f7847733464bbf9cebecf9dd7d6c": {
      "model_module": "@jupyter-widgets/base",
      "model_module_version": "1.2.0",
      "model_name": "LayoutModel",
      "state": {
       "flex": "2"
      }
     },
     "a62896a05a6c43b49b1054f79366a0f4": {
      "model_module": "@jupyter-widgets/controls",
      "model_module_version": "1.5.0",
      "model_name": "FloatProgressModel",
      "state": {
       "description": "Validating: 100%",
       "layout": "IPY_MODEL_96399c2ccc4e4bad9284ea314eea57e9",
       "max": 541,
       "style": "IPY_MODEL_d24ace3656144835a96a6472555c7966",
       "value": 541
      }
     },
     "a66d8279867a47f588fcfca2bc5f64b3": {
      "model_module": "@jupyter-widgets/controls",
      "model_module_version": "1.5.0",
      "model_name": "DescriptionStyleModel",
      "state": {
       "description_width": ""
      }
     },
     "a686893d38204bc2be7d31d641d96816": {
      "model_module": "@jupyter-widgets/controls",
      "model_module_version": "1.5.0",
      "model_name": "HTMLModel",
      "state": {
       "layout": "IPY_MODEL_0a6b8f4207d54db1a0325d2f9319de2a",
       "style": "IPY_MODEL_7d0eb1af73ec44c38a093c99e346e6e6",
       "value": " 541/541 [00:01&lt;00:00, 349.16it/s]"
      }
     },
     "a6a9633bfea14f40903543f1a6851251": {
      "model_module": "@jupyter-widgets/controls",
      "model_module_version": "1.5.0",
      "model_name": "DescriptionStyleModel",
      "state": {
       "description_width": ""
      }
     },
     "a77def6baa504ce78c719006104e2590": {
      "model_module": "@jupyter-widgets/base",
      "model_module_version": "1.2.0",
      "model_name": "LayoutModel",
      "state": {
       "display": "inline-flex",
       "flex_flow": "row wrap",
       "width": "100%"
      }
     },
     "a7a4d63224374f8e8fee21b75118028b": {
      "model_module": "@jupyter-widgets/controls",
      "model_module_version": "1.5.0",
      "model_name": "ProgressStyleModel",
      "state": {
       "description_width": "initial"
      }
     },
     "a7abb58e7a4341acb74c42aa4f03e66d": {
      "model_module": "@jupyter-widgets/base",
      "model_module_version": "1.2.0",
      "model_name": "LayoutModel",
      "state": {
       "flex": "2"
      }
     },
     "a7c9f0d0ff78433c9283174014de2946": {
      "model_module": "@jupyter-widgets/base",
      "model_module_version": "1.2.0",
      "model_name": "LayoutModel",
      "state": {}
     },
     "a8761c48ea4b4f5592b5a9cfcf2584a2": {
      "model_module": "@jupyter-widgets/base",
      "model_module_version": "1.2.0",
      "model_name": "LayoutModel",
      "state": {
       "flex": "2"
      }
     },
     "a897b00cb74843488ec9b28fe845bd5d": {
      "model_module": "@jupyter-widgets/controls",
      "model_module_version": "1.5.0",
      "model_name": "ProgressStyleModel",
      "state": {
       "description_width": "initial"
      }
     },
     "a8b53bb71b5c488b9dd29a55896c06f7": {
      "model_module": "@jupyter-widgets/controls",
      "model_module_version": "1.5.0",
      "model_name": "HTMLModel",
      "state": {
       "layout": "IPY_MODEL_15e9dac4794c40efbd5ca3aff407d5c0",
       "style": "IPY_MODEL_7b8a87e8b9f44279a94013eb6df9163a",
       "value": " 541/541 [00:01&lt;00:00, 429.59it/s]"
      }
     },
     "a8d6bd1ad1be45cf89e96653bd4e7833": {
      "model_module": "@jupyter-widgets/base",
      "model_module_version": "1.2.0",
      "model_name": "LayoutModel",
      "state": {
       "flex": "2"
      }
     },
     "a94fed9c87254acdbd768d211be02adb": {
      "model_module": "@jupyter-widgets/base",
      "model_module_version": "1.2.0",
      "model_name": "LayoutModel",
      "state": {
       "flex": "2"
      }
     },
     "a979a7d61de54bcab1315716d0be104b": {
      "model_module": "@jupyter-widgets/controls",
      "model_module_version": "1.5.0",
      "model_name": "HTMLModel",
      "state": {
       "layout": "IPY_MODEL_d71b5949886d4be2b75f999d5116d6dd",
       "style": "IPY_MODEL_6b401e24b683499cbde4e1f40df568ab",
       "value": " 541/541 [00:01&lt;00:00, 395.02it/s]"
      }
     },
     "a993200801a742c99eda4462983c52a5": {
      "model_module": "@jupyter-widgets/base",
      "model_module_version": "1.2.0",
      "model_name": "LayoutModel",
      "state": {
       "display": "inline-flex",
       "flex_flow": "row wrap",
       "width": "100%"
      }
     },
     "a9cd50b2c142474abf406e9667d9c087": {
      "model_module": "@jupyter-widgets/base",
      "model_module_version": "1.2.0",
      "model_name": "LayoutModel",
      "state": {
       "flex": "2"
      }
     },
     "aa7a62f16c43484eb8cc25e77f14e481": {
      "model_module": "@jupyter-widgets/controls",
      "model_module_version": "1.5.0",
      "model_name": "HTMLModel",
      "state": {
       "layout": "IPY_MODEL_22b5d7fbc3584dbaa446d4f7744ff26c",
       "style": "IPY_MODEL_a66d8279867a47f588fcfca2bc5f64b3",
       "value": " 541/541 [00:01&lt;00:00, 390.25it/s]"
      }
     },
     "ab636dec543d4b9397d4a8d4f297d917": {
      "model_module": "@jupyter-widgets/controls",
      "model_module_version": "1.5.0",
      "model_name": "ProgressStyleModel",
      "state": {
       "description_width": "initial"
      }
     },
     "ac317daa769e45f48ecca2a3e1aaf126": {
      "model_module": "@jupyter-widgets/controls",
      "model_module_version": "1.5.0",
      "model_name": "ProgressStyleModel",
      "state": {
       "description_width": "initial"
      }
     },
     "ac37e90d273b4597b73c5b06b6a141af": {
      "model_module": "@jupyter-widgets/base",
      "model_module_version": "1.2.0",
      "model_name": "LayoutModel",
      "state": {}
     },
     "ac429031040a4698b41d735db88f0fdc": {
      "model_module": "@jupyter-widgets/controls",
      "model_module_version": "1.5.0",
      "model_name": "HTMLModel",
      "state": {
       "layout": "IPY_MODEL_2f643ff54f5346e89b89d1d0860b6f12",
       "style": "IPY_MODEL_e34eb0ea97ce48f2a7918f0ca8720abd",
       "value": " 541/541 [00:01&lt;00:00, 376.15it/s]"
      }
     },
     "aca62fbb7e1d48f892071e18539c7e21": {
      "model_module": "@jupyter-widgets/base",
      "model_module_version": "1.2.0",
      "model_name": "LayoutModel",
      "state": {}
     },
     "ad8c3b8a2420442eae6dcfc6d8c002d0": {
      "model_module": "@jupyter-widgets/base",
      "model_module_version": "1.2.0",
      "model_name": "LayoutModel",
      "state": {
       "flex": "2"
      }
     },
     "ae0dbfc52e374aeaa7491672f1577647": {
      "model_module": "@jupyter-widgets/base",
      "model_module_version": "1.2.0",
      "model_name": "LayoutModel",
      "state": {
       "display": "inline-flex",
       "flex_flow": "row wrap",
       "width": "100%"
      }
     },
     "affe87f90d2a4e66ac90d5653d8a9c10": {
      "model_module": "@jupyter-widgets/controls",
      "model_module_version": "1.5.0",
      "model_name": "HTMLModel",
      "state": {
       "layout": "IPY_MODEL_41642a6786db4efd9335b76899525ac6",
       "style": "IPY_MODEL_0024793572b9453aa2d85937dcc5f0f3",
       "value": " 541/541 [00:01&lt;00:00, 373.19it/s]"
      }
     },
     "b00118eb595446d783f175fdf0bf7478": {
      "model_module": "@jupyter-widgets/base",
      "model_module_version": "1.2.0",
      "model_name": "LayoutModel",
      "state": {
       "flex": "2"
      }
     },
     "b06ba29e205c4729aa1886bdc46f5509": {
      "model_module": "@jupyter-widgets/base",
      "model_module_version": "1.2.0",
      "model_name": "LayoutModel",
      "state": {
       "display": "inline-flex",
       "flex_flow": "row wrap",
       "width": "100%"
      }
     },
     "b0f029c976ef4e3d83bc55bfbd957f48": {
      "model_module": "@jupyter-widgets/controls",
      "model_module_version": "1.5.0",
      "model_name": "DescriptionStyleModel",
      "state": {
       "description_width": ""
      }
     },
     "b1695ee77ede49b4becf100b78399bb1": {
      "model_module": "@jupyter-widgets/controls",
      "model_module_version": "1.5.0",
      "model_name": "HTMLModel",
      "state": {
       "layout": "IPY_MODEL_df7689f7f6d949ddb3b55fd136273968",
       "style": "IPY_MODEL_6d5f4fe95ad8427c9890146eee8380ea",
       "value": " 541/541 [00:01&lt;00:00, 357.89it/s]"
      }
     },
     "b172615fa99047ebb40f46fb50960ac6": {
      "model_module": "@jupyter-widgets/controls",
      "model_module_version": "1.5.0",
      "model_name": "HTMLModel",
      "state": {
       "layout": "IPY_MODEL_06bdd9a531d94e4d8102b89507e87700",
       "style": "IPY_MODEL_14c4aedcd2054ea3ac310d0119cb94b4",
       "value": " 541/541 [00:01&lt;00:00, 400.20it/s]"
      }
     },
     "b1770949a9b14e09be58f0f129c1e73b": {
      "model_module": "@jupyter-widgets/controls",
      "model_module_version": "1.5.0",
      "model_name": "FloatProgressModel",
      "state": {
       "bar_style": "success",
       "description": "Epoch 10: 100%",
       "layout": "IPY_MODEL_71bd222514f54914b203e75800088190",
       "max": 3063,
       "style": "IPY_MODEL_e7337c03d8934489bc3cc1110fcc505d",
       "value": 3063
      }
     },
     "b18c478b213d4e24bab0b86daef725b4": {
      "model_module": "@jupyter-widgets/base",
      "model_module_version": "1.2.0",
      "model_name": "LayoutModel",
      "state": {
       "flex": "2"
      }
     },
     "b1d2b770cfd447a2acb7de40ee7359c6": {
      "model_module": "@jupyter-widgets/base",
      "model_module_version": "1.2.0",
      "model_name": "LayoutModel",
      "state": {}
     },
     "b2077e003fa04065b0a483c01bfbc14b": {
      "model_module": "@jupyter-widgets/base",
      "model_module_version": "1.2.0",
      "model_name": "LayoutModel",
      "state": {
       "flex": "2"
      }
     },
     "b2695f9e04cd4ff8a310f453b21dcf37": {
      "model_module": "@jupyter-widgets/controls",
      "model_module_version": "1.5.0",
      "model_name": "DescriptionStyleModel",
      "state": {
       "description_width": ""
      }
     },
     "b2832ddcff80484d938bf5f258491844": {
      "model_module": "@jupyter-widgets/base",
      "model_module_version": "1.2.0",
      "model_name": "LayoutModel",
      "state": {
       "display": "inline-flex",
       "flex_flow": "row wrap",
       "width": "100%"
      }
     },
     "b3435ae35d7e466abb5820c63f66191f": {
      "model_module": "@jupyter-widgets/controls",
      "model_module_version": "1.5.0",
      "model_name": "HTMLModel",
      "state": {
       "layout": "IPY_MODEL_22313b5661f742bfabcd862ddf0f070c",
       "style": "IPY_MODEL_2c3f1a7e5fd44b4ba087c225b6eb5331",
       "value": " 541/541 [00:01&lt;00:00, 382.77it/s]"
      }
     },
     "b3d3b76a58ca4fa6b33a8a8592968e67": {
      "model_module": "@jupyter-widgets/controls",
      "model_module_version": "1.5.0",
      "model_name": "HTMLModel",
      "state": {
       "layout": "IPY_MODEL_57f2c545e0514d9ab1dfd8e5fbde803c",
       "style": "IPY_MODEL_c9c50db271c6474d96b6dc85cdba741f",
       "value": " 541/541 [00:01&lt;00:00, 428.30it/s]"
      }
     },
     "b410a13eafa747c9b4fa20b75ebc1790": {
      "model_module": "@jupyter-widgets/base",
      "model_module_version": "1.2.0",
      "model_name": "LayoutModel",
      "state": {
       "display": "inline-flex",
       "flex_flow": "row wrap",
       "width": "100%"
      }
     },
     "b421af3a73564d61860882071ca2480c": {
      "model_module": "@jupyter-widgets/base",
      "model_module_version": "1.2.0",
      "model_name": "LayoutModel",
      "state": {}
     },
     "b42ab004bdc249f0ab52747e6fd7800f": {
      "model_module": "@jupyter-widgets/controls",
      "model_module_version": "1.5.0",
      "model_name": "HTMLModel",
      "state": {
       "layout": "IPY_MODEL_9a7c646c761d48a18caa0912ef9a0f51",
       "style": "IPY_MODEL_df7edb3c976d4321898ef8af246ffcaf",
       "value": " 541/541 [00:01&lt;00:00, 443.69it/s]"
      }
     },
     "b55da2935ccb4c17a0ccd79712149ceb": {
      "model_module": "@jupyter-widgets/base",
      "model_module_version": "1.2.0",
      "model_name": "LayoutModel",
      "state": {
       "display": "inline-flex",
       "flex_flow": "row wrap",
       "width": "100%"
      }
     },
     "b5b20225be564cd09aa7b4e71c9318d8": {
      "model_module": "@jupyter-widgets/controls",
      "model_module_version": "1.5.0",
      "model_name": "ProgressStyleModel",
      "state": {
       "description_width": "initial"
      }
     },
     "b6586526ca0347769e8cc7f8d3cf6804": {
      "model_module": "@jupyter-widgets/controls",
      "model_module_version": "1.5.0",
      "model_name": "ProgressStyleModel",
      "state": {
       "description_width": "initial"
      }
     },
     "b677f7e81f2e4429b07528055414fd64": {
      "model_module": "@jupyter-widgets/base",
      "model_module_version": "1.2.0",
      "model_name": "LayoutModel",
      "state": {
       "flex": "2"
      }
     },
     "b6987a2757c349a0a6b861c5838a3ffb": {
      "model_module": "@jupyter-widgets/base",
      "model_module_version": "1.2.0",
      "model_name": "LayoutModel",
      "state": {
       "flex": "2"
      }
     },
     "b6edd167de9a43a3b4e572822bbcdef2": {
      "model_module": "@jupyter-widgets/controls",
      "model_module_version": "1.5.0",
      "model_name": "HTMLModel",
      "state": {
       "layout": "IPY_MODEL_832985c07eaf45458711c2f092e78e45",
       "style": "IPY_MODEL_4238b0a4262c4081b427fc4a53cd4519",
       "value": " 541/541 [00:01&lt;00:00, 408.04it/s]"
      }
     },
     "b6f6a519e02c4834b8de9c75af9be683": {
      "model_module": "@jupyter-widgets/base",
      "model_module_version": "1.2.0",
      "model_name": "LayoutModel",
      "state": {}
     },
     "b7e5ec5785534a309955cb4cc9c35b0f": {
      "model_module": "@jupyter-widgets/base",
      "model_module_version": "1.2.0",
      "model_name": "LayoutModel",
      "state": {
       "flex": "2"
      }
     },
     "b81cb79e08d349878c41ecd7b31e6f62": {
      "model_module": "@jupyter-widgets/controls",
      "model_module_version": "1.5.0",
      "model_name": "FloatProgressModel",
      "state": {
       "description": "Validating: 100%",
       "layout": "IPY_MODEL_5a56c030f64b410a90c934654f15decc",
       "max": 541,
       "style": "IPY_MODEL_766f0309ccf948fe8c93f2a6e722a855",
       "value": 541
      }
     },
     "b821e028e6d4407697fc0f9c015ac344": {
      "model_module": "@jupyter-widgets/base",
      "model_module_version": "1.2.0",
      "model_name": "LayoutModel",
      "state": {}
     },
     "b88025c6bddd4e3b855bb3c2b67b8253": {
      "model_module": "@jupyter-widgets/controls",
      "model_module_version": "1.5.0",
      "model_name": "DescriptionStyleModel",
      "state": {
       "description_width": ""
      }
     },
     "b8ce5016c92f45a59b73d2e08f64d013": {
      "model_module": "@jupyter-widgets/base",
      "model_module_version": "1.2.0",
      "model_name": "LayoutModel",
      "state": {}
     },
     "b8e27503c4114c0185cad98a05107eb8": {
      "model_module": "@jupyter-widgets/base",
      "model_module_version": "1.2.0",
      "model_name": "LayoutModel",
      "state": {
       "flex": "2"
      }
     },
     "b915ee97f1464ef59f593175512f15d1": {
      "model_module": "@jupyter-widgets/controls",
      "model_module_version": "1.5.0",
      "model_name": "DescriptionStyleModel",
      "state": {
       "description_width": ""
      }
     },
     "b98cffae209848299a0442d059315246": {
      "model_module": "@jupyter-widgets/base",
      "model_module_version": "1.2.0",
      "model_name": "LayoutModel",
      "state": {}
     },
     "b9a74130fbad47b7aa10d619c83f5aa4": {
      "model_module": "@jupyter-widgets/base",
      "model_module_version": "1.2.0",
      "model_name": "LayoutModel",
      "state": {}
     },
     "b9afd48a2aa74770be05b7a0eaf58029": {
      "model_module": "@jupyter-widgets/controls",
      "model_module_version": "1.5.0",
      "model_name": "HTMLModel",
      "state": {
       "layout": "IPY_MODEL_f572942de2e5468294673b848a1eb600",
       "style": "IPY_MODEL_9aa596f17dfd49b9a9654993f58e9a8b",
       "value": " 541/541 [00:01&lt;00:00, 384.25it/s]"
      }
     },
     "ba17d6898059425eaf7c318a20047359": {
      "model_module": "@jupyter-widgets/controls",
      "model_module_version": "1.5.0",
      "model_name": "ProgressStyleModel",
      "state": {
       "description_width": "initial"
      }
     },
     "ba1aab23498c4db6970a3342979471e3": {
      "model_module": "@jupyter-widgets/base",
      "model_module_version": "1.2.0",
      "model_name": "LayoutModel",
      "state": {}
     },
     "ba35be6faa4945da9d1d73d3bf728326": {
      "model_module": "@jupyter-widgets/base",
      "model_module_version": "1.2.0",
      "model_name": "LayoutModel",
      "state": {}
     },
     "ba94f8e8aaf64a51952a41600bab407b": {
      "model_module": "@jupyter-widgets/base",
      "model_module_version": "1.2.0",
      "model_name": "LayoutModel",
      "state": {
       "flex": "2"
      }
     },
     "bb2858e9520d4a4ca0ae1f7c894462fd": {
      "model_module": "@jupyter-widgets/controls",
      "model_module_version": "1.5.0",
      "model_name": "FloatProgressModel",
      "state": {
       "description": "Validating: 100%",
       "layout": "IPY_MODEL_997d5df6a32249c19bd4499f5398c9fd",
       "max": 541,
       "style": "IPY_MODEL_465066884edf4254891a8be10d2f2c44",
       "value": 541
      }
     },
     "bbadb595ccb44631832051285c46c62a": {
      "model_module": "@jupyter-widgets/controls",
      "model_module_version": "1.5.0",
      "model_name": "FloatProgressModel",
      "state": {
       "description": "Validating: 100%",
       "layout": "IPY_MODEL_34f869a95f7149eaa47eb10726c07313",
       "max": 541,
       "style": "IPY_MODEL_fb132f803ecf4414b85e1ecd41ed68c3",
       "value": 541
      }
     },
     "bbb163aeda564b3ca1623465ac87ddf9": {
      "model_module": "@jupyter-widgets/controls",
      "model_module_version": "1.5.0",
      "model_name": "HTMLModel",
      "state": {
       "layout": "IPY_MODEL_ed9a09f7380347fa938444c5889674bd",
       "style": "IPY_MODEL_08cbf2a31201451da405d0a9fde96405",
       "value": " 541/541 [00:01&lt;00:00, 387.81it/s]"
      }
     },
     "bc0aa2df124842c0a044d396d592b2b4": {
      "model_module": "@jupyter-widgets/base",
      "model_module_version": "1.2.0",
      "model_name": "LayoutModel",
      "state": {}
     },
     "bc1022e8219e46c5b4ed252a66dd3d0a": {
      "model_module": "@jupyter-widgets/controls",
      "model_module_version": "1.5.0",
      "model_name": "DescriptionStyleModel",
      "state": {
       "description_width": ""
      }
     },
     "bc2587cdd2694e8e8d6289797e7b8168": {
      "model_module": "@jupyter-widgets/controls",
      "model_module_version": "1.5.0",
      "model_name": "ProgressStyleModel",
      "state": {
       "description_width": "initial"
      }
     },
     "bc4bf70f609541e7a8e523c55c372332": {
      "model_module": "@jupyter-widgets/base",
      "model_module_version": "1.2.0",
      "model_name": "LayoutModel",
      "state": {
       "display": "inline-flex",
       "flex_flow": "row wrap",
       "width": "100%"
      }
     },
     "bc744da619244bbe9fd2ce56c40a9878": {
      "model_module": "@jupyter-widgets/controls",
      "model_module_version": "1.5.0",
      "model_name": "ProgressStyleModel",
      "state": {
       "description_width": "initial"
      }
     },
     "bcb4f0a288054d0c80474dadf5f017d7": {
      "model_module": "@jupyter-widgets/base",
      "model_module_version": "1.2.0",
      "model_name": "LayoutModel",
      "state": {}
     },
     "bd1a58dd6c414853ab378c60e9a0a383": {
      "model_module": "@jupyter-widgets/controls",
      "model_module_version": "1.5.0",
      "model_name": "ProgressStyleModel",
      "state": {
       "description_width": "initial"
      }
     },
     "bd7396d23ed549a796f7e26f5df6d838": {
      "model_module": "@jupyter-widgets/controls",
      "model_module_version": "1.5.0",
      "model_name": "FloatProgressModel",
      "state": {
       "description": "Validating: 100%",
       "layout": "IPY_MODEL_405a5655b07e46f8a87eba26a2108350",
       "max": 541,
       "style": "IPY_MODEL_293c798cc4504e66925ec5e30db690e0",
       "value": 541
      }
     },
     "bd97038838744be5a12f797fe6055499": {
      "model_module": "@jupyter-widgets/base",
      "model_module_version": "1.2.0",
      "model_name": "LayoutModel",
      "state": {}
     },
     "bdc8dd45fdf24521b39b292383db7db3": {
      "model_module": "@jupyter-widgets/base",
      "model_module_version": "1.2.0",
      "model_name": "LayoutModel",
      "state": {}
     },
     "be7c42d8c8ae4ec0a80a3f3db7c6a50a": {
      "model_module": "@jupyter-widgets/controls",
      "model_module_version": "1.5.0",
      "model_name": "DescriptionStyleModel",
      "state": {
       "description_width": ""
      }
     },
     "be805e167a2b45198bd8ce50fb9b544a": {
      "model_module": "@jupyter-widgets/controls",
      "model_module_version": "1.5.0",
      "model_name": "ProgressStyleModel",
      "state": {
       "description_width": "initial"
      }
     },
     "bf1a152c060d4210932dfec69ed7fa8e": {
      "model_module": "@jupyter-widgets/base",
      "model_module_version": "1.2.0",
      "model_name": "LayoutModel",
      "state": {}
     },
     "bf1a7d693946443ea7402c8f332c1678": {
      "model_module": "@jupyter-widgets/controls",
      "model_module_version": "1.5.0",
      "model_name": "HTMLModel",
      "state": {
       "layout": "IPY_MODEL_897fe9d4d2fd4ff2b0cc2bb0ee364500",
       "style": "IPY_MODEL_d1a053f709ab4690b26a50511605f453",
       "value": " 541/541 [00:01&lt;00:00, 421.54it/s]"
      }
     },
     "bf675240976b4c29aaf4af3d55061490": {
      "model_module": "@jupyter-widgets/base",
      "model_module_version": "1.2.0",
      "model_name": "LayoutModel",
      "state": {
       "flex": "2"
      }
     },
     "bfabfb4b67704c1985bd7f190ccd15f9": {
      "model_module": "@jupyter-widgets/base",
      "model_module_version": "1.2.0",
      "model_name": "LayoutModel",
      "state": {
       "display": "inline-flex",
       "flex_flow": "row wrap",
       "width": "100%"
      }
     },
     "c0b5705892b344de9b50871dee7f23ec": {
      "model_module": "@jupyter-widgets/base",
      "model_module_version": "1.2.0",
      "model_name": "LayoutModel",
      "state": {
       "display": "inline-flex",
       "flex_flow": "row wrap",
       "width": "100%"
      }
     },
     "c0d8ac883f784be389cd0a3c28821088": {
      "model_module": "@jupyter-widgets/controls",
      "model_module_version": "1.5.0",
      "model_name": "ProgressStyleModel",
      "state": {
       "description_width": "initial"
      }
     },
     "c15e59a92d184a0cbe5a959e1f265b3a": {
      "model_module": "@jupyter-widgets/base",
      "model_module_version": "1.2.0",
      "model_name": "LayoutModel",
      "state": {
       "display": "inline-flex",
       "flex_flow": "row wrap",
       "width": "100%"
      }
     },
     "c18a26754c7c4bd89c04b75b76bfbf01": {
      "model_module": "@jupyter-widgets/controls",
      "model_module_version": "1.5.0",
      "model_name": "ProgressStyleModel",
      "state": {
       "description_width": "initial"
      }
     },
     "c1a7e9dc26524528923c5510ee666f0b": {
      "model_module": "@jupyter-widgets/controls",
      "model_module_version": "1.5.0",
      "model_name": "DescriptionStyleModel",
      "state": {
       "description_width": ""
      }
     },
     "c1c44cf2398d4877a971f9dcf8ff03c5": {
      "model_module": "@jupyter-widgets/controls",
      "model_module_version": "1.5.0",
      "model_name": "HTMLModel",
      "state": {
       "layout": "IPY_MODEL_37a713f79d5b476fafbe9035c6c685df",
       "style": "IPY_MODEL_dba66830af7b40ca9280e0757d8f3de3",
       "value": " 541/541 [00:01&lt;00:00, 352.74it/s]"
      }
     },
     "c2370bd584ac4ccab78bdcb19ccbbf29": {
      "model_module": "@jupyter-widgets/controls",
      "model_module_version": "1.5.0",
      "model_name": "FloatProgressModel",
      "state": {
       "description": "Validating: 100%",
       "layout": "IPY_MODEL_b00118eb595446d783f175fdf0bf7478",
       "max": 541,
       "style": "IPY_MODEL_136e56f1318a4182afdcfc469187059c",
       "value": 541
      }
     },
     "c260d30dfa384cf1bbade5c2ca534bf6": {
      "model_module": "@jupyter-widgets/controls",
      "model_module_version": "1.5.0",
      "model_name": "ProgressStyleModel",
      "state": {
       "description_width": "initial"
      }
     },
     "c27a4c8b91cc422b8432675f9669bb8b": {
      "model_module": "@jupyter-widgets/controls",
      "model_module_version": "1.5.0",
      "model_name": "FloatProgressModel",
      "state": {
       "description": "Validating: 100%",
       "layout": "IPY_MODEL_db6e79aebb4c485c88c4cfc4fe57594f",
       "max": 541,
       "style": "IPY_MODEL_3d5eb57f0ee54e198b4f0bc3684f973d",
       "value": 541
      }
     },
     "c2a4c9d6a25449a7b063e9d57bf9299d": {
      "model_module": "@jupyter-widgets/controls",
      "model_module_version": "1.5.0",
      "model_name": "HTMLModel",
      "state": {
       "layout": "IPY_MODEL_308425c0d37f4082a68dcf8773d95dad",
       "style": "IPY_MODEL_9b5d22fad3a24113869ded4ef7e8d5c9",
       "value": " 5/5 [00:00&lt;00:00, 62.67it/s]"
      }
     },
     "c2db95f47b1c4d1281d8d2f3dea24a42": {
      "model_module": "@jupyter-widgets/base",
      "model_module_version": "1.2.0",
      "model_name": "LayoutModel",
      "state": {
       "flex": "2"
      }
     },
     "c31c7207c438492bb4f6730a59c5bf94": {
      "model_module": "@jupyter-widgets/controls",
      "model_module_version": "1.5.0",
      "model_name": "HTMLModel",
      "state": {
       "layout": "IPY_MODEL_1bdc46f57f55458399173c07354c1c27",
       "style": "IPY_MODEL_9bda75d2dadf4738ae5b07cc02a37be5",
       "value": " 5/5 [00:00&lt;00:00, 83.59it/s]"
      }
     },
     "c3b00aa6672f4b87997ff2ed2f66615d": {
      "model_module": "@jupyter-widgets/base",
      "model_module_version": "1.2.0",
      "model_name": "LayoutModel",
      "state": {}
     },
     "c41238ee011e498987ed7f4899cfe3cc": {
      "model_module": "@jupyter-widgets/base",
      "model_module_version": "1.2.0",
      "model_name": "LayoutModel",
      "state": {}
     },
     "c4301661e04448918626ca5e0b1278d6": {
      "model_module": "@jupyter-widgets/controls",
      "model_module_version": "1.5.0",
      "model_name": "DescriptionStyleModel",
      "state": {
       "description_width": ""
      }
     },
     "c4646251f8f0402e93848319daada80e": {
      "model_module": "@jupyter-widgets/controls",
      "model_module_version": "1.5.0",
      "model_name": "DescriptionStyleModel",
      "state": {
       "description_width": ""
      }
     },
     "c4e6bbf693e8416cb06358959fea4ceb": {
      "model_module": "@jupyter-widgets/controls",
      "model_module_version": "1.5.0",
      "model_name": "DescriptionStyleModel",
      "state": {
       "description_width": ""
      }
     },
     "c550381fc74144cf86313a3b034514c9": {
      "model_module": "@jupyter-widgets/base",
      "model_module_version": "1.2.0",
      "model_name": "LayoutModel",
      "state": {
       "display": "inline-flex",
       "flex_flow": "row wrap",
       "width": "100%"
      }
     },
     "c55af2095c714cc9b59ca4ad8acab48c": {
      "model_module": "@jupyter-widgets/controls",
      "model_module_version": "1.5.0",
      "model_name": "HTMLModel",
      "state": {
       "layout": "IPY_MODEL_5065728ff15e455e972d335f0ed67c26",
       "style": "IPY_MODEL_6efb310d33344e8e97cb8f0c41d4222a",
       "value": " 541/541 [00:01&lt;00:00, 370.35it/s]"
      }
     },
     "c5663c95e4e44f5a8eba63f7d2f18bfd": {
      "model_module": "@jupyter-widgets/base",
      "model_module_version": "1.2.0",
      "model_name": "LayoutModel",
      "state": {}
     },
     "c597b30b903b4c43af602baaf14d4e5f": {
      "model_module": "@jupyter-widgets/base",
      "model_module_version": "1.2.0",
      "model_name": "LayoutModel",
      "state": {
       "display": "inline-flex",
       "flex_flow": "row wrap",
       "width": "100%"
      }
     },
     "c5cceada3b5c4fb3bda35fd79ca640b1": {
      "model_module": "@jupyter-widgets/controls",
      "model_module_version": "1.5.0",
      "model_name": "ProgressStyleModel",
      "state": {
       "description_width": "initial"
      }
     },
     "c5cfa2afa8c544e3a751dec80316af44": {
      "model_module": "@jupyter-widgets/controls",
      "model_module_version": "1.5.0",
      "model_name": "HTMLModel",
      "state": {
       "layout": "IPY_MODEL_635f201e0af14742841d82dd41cabae1",
       "style": "IPY_MODEL_e7a66c7f1ed54391ba4e9febe032b47a",
       "value": " 541/541 [00:01&lt;00:00, 388.24it/s]"
      }
     },
     "c628104d741a479ea16f328df5131197": {
      "model_module": "@jupyter-widgets/base",
      "model_module_version": "1.2.0",
      "model_name": "LayoutModel",
      "state": {}
     },
     "c67d82222c844b02b64aa0ad37c424ce": {
      "model_module": "@jupyter-widgets/controls",
      "model_module_version": "1.5.0",
      "model_name": "DescriptionStyleModel",
      "state": {
       "description_width": ""
      }
     },
     "c694881ab8ef454b99b881460e088f48": {
      "model_module": "@jupyter-widgets/base",
      "model_module_version": "1.2.0",
      "model_name": "LayoutModel",
      "state": {
       "flex": "2"
      }
     },
     "c6a0d436d0dd40c8b2bbecf8982d0bc5": {
      "model_module": "@jupyter-widgets/base",
      "model_module_version": "1.2.0",
      "model_name": "LayoutModel",
      "state": {
       "display": "inline-flex",
       "flex_flow": "row wrap",
       "width": "100%"
      }
     },
     "c6a54600c3fa4709b4d5785f28a8a798": {
      "model_module": "@jupyter-widgets/base",
      "model_module_version": "1.2.0",
      "model_name": "LayoutModel",
      "state": {
       "display": "inline-flex",
       "flex_flow": "row wrap",
       "width": "100%"
      }
     },
     "c6b9ac5132574280a1aacb814b4c56e5": {
      "model_module": "@jupyter-widgets/base",
      "model_module_version": "1.2.0",
      "model_name": "LayoutModel",
      "state": {
       "display": "inline-flex",
       "flex_flow": "row wrap",
       "width": "100%"
      }
     },
     "c72c533bea9949e396d240d720473012": {
      "model_module": "@jupyter-widgets/controls",
      "model_module_version": "1.5.0",
      "model_name": "ProgressStyleModel",
      "state": {
       "description_width": "initial"
      }
     },
     "c7339466dfe34b798fa5b4a2e7a3091b": {
      "model_module": "@jupyter-widgets/controls",
      "model_module_version": "1.5.0",
      "model_name": "ProgressStyleModel",
      "state": {
       "description_width": "initial"
      }
     },
     "c735ec3c750e45a897bfbd4910f36cd1": {
      "model_module": "@jupyter-widgets/controls",
      "model_module_version": "1.5.0",
      "model_name": "ProgressStyleModel",
      "state": {
       "description_width": "initial"
      }
     },
     "c7d4934939c64340bdebcbc002be577c": {
      "model_module": "@jupyter-widgets/base",
      "model_module_version": "1.2.0",
      "model_name": "LayoutModel",
      "state": {
       "display": "inline-flex",
       "flex_flow": "row wrap",
       "width": "100%"
      }
     },
     "c7d855cc067043a8bc2a9b222cc7b5ba": {
      "model_module": "@jupyter-widgets/base",
      "model_module_version": "1.2.0",
      "model_name": "LayoutModel",
      "state": {}
     },
     "c8fddc80cb744f238fdd81bd10392ff0": {
      "model_module": "@jupyter-widgets/controls",
      "model_module_version": "1.5.0",
      "model_name": "HTMLModel",
      "state": {
       "layout": "IPY_MODEL_a7c9f0d0ff78433c9283174014de2946",
       "style": "IPY_MODEL_c1a7e9dc26524528923c5510ee666f0b",
       "value": " 541/541 [00:01&lt;00:00, 369.32it/s]"
      }
     },
     "c8fee6e591994500b317b30b18260543": {
      "model_module": "@jupyter-widgets/base",
      "model_module_version": "1.2.0",
      "model_name": "LayoutModel",
      "state": {}
     },
     "c922b76775ee410390fa0878bce86905": {
      "model_module": "@jupyter-widgets/base",
      "model_module_version": "1.2.0",
      "model_name": "LayoutModel",
      "state": {
       "display": "inline-flex",
       "flex_flow": "row wrap",
       "width": "100%"
      }
     },
     "c9b15105e3844e41887803bd1baa42b1": {
      "model_module": "@jupyter-widgets/controls",
      "model_module_version": "1.5.0",
      "model_name": "FloatProgressModel",
      "state": {
       "description": "Validating: 100%",
       "layout": "IPY_MODEL_ed4364517d954ea68f3d6e67515c3578",
       "max": 541,
       "style": "IPY_MODEL_bc744da619244bbe9fd2ce56c40a9878",
       "value": 541
      }
     },
     "c9c50db271c6474d96b6dc85cdba741f": {
      "model_module": "@jupyter-widgets/controls",
      "model_module_version": "1.5.0",
      "model_name": "DescriptionStyleModel",
      "state": {
       "description_width": ""
      }
     },
     "c9c582de672c4133b522b935874490fa": {
      "model_module": "@jupyter-widgets/controls",
      "model_module_version": "1.5.0",
      "model_name": "DescriptionStyleModel",
      "state": {
       "description_width": ""
      }
     },
     "ca404a56da024ec1bfc50ff62233e498": {
      "model_module": "@jupyter-widgets/base",
      "model_module_version": "1.2.0",
      "model_name": "LayoutModel",
      "state": {
       "flex": "2"
      }
     },
     "cb59b95b47a740f88066eb74d9ef8736": {
      "model_module": "@jupyter-widgets/controls",
      "model_module_version": "1.5.0",
      "model_name": "FloatProgressModel",
      "state": {
       "description": "Validating: 100%",
       "layout": "IPY_MODEL_d75fe6f96a9f4c569d3ab0d67eeaedd9",
       "max": 541,
       "style": "IPY_MODEL_0637459797004378bcbc20ee1bc4891e",
       "value": 541
      }
     },
     "cbdff3e655b7499ab1361c1dc3117c7d": {
      "model_module": "@jupyter-widgets/base",
      "model_module_version": "1.2.0",
      "model_name": "LayoutModel",
      "state": {
       "display": "inline-flex",
       "flex_flow": "row wrap",
       "width": "100%"
      }
     },
     "cbecfe3877544aecb64a7cff93d5175e": {
      "model_module": "@jupyter-widgets/base",
      "model_module_version": "1.2.0",
      "model_name": "LayoutModel",
      "state": {
       "flex": "2"
      }
     },
     "cbf73292f902485f882f7cd0590d31b2": {
      "model_module": "@jupyter-widgets/controls",
      "model_module_version": "1.5.0",
      "model_name": "HTMLModel",
      "state": {
       "layout": "IPY_MODEL_12e1567bee8c4245837e49cc3f59b2ea",
       "style": "IPY_MODEL_197f903478ae44bd87a1b11b663593b4",
       "value": " 541/541 [00:01&lt;00:00, 344.02it/s]"
      }
     },
     "cbf897a31c234c0db38f7181b175fa2e": {
      "model_module": "@jupyter-widgets/base",
      "model_module_version": "1.2.0",
      "model_name": "LayoutModel",
      "state": {
       "flex": "2"
      }
     },
     "cc882eae306142468712b1fde44652a4": {
      "model_module": "@jupyter-widgets/base",
      "model_module_version": "1.2.0",
      "model_name": "LayoutModel",
      "state": {
       "display": "inline-flex",
       "flex_flow": "row wrap",
       "width": "100%"
      }
     },
     "cca6f483a58e4a73b762ca4665a57e30": {
      "model_module": "@jupyter-widgets/controls",
      "model_module_version": "1.5.0",
      "model_name": "HTMLModel",
      "state": {
       "layout": "IPY_MODEL_1b49ae34dd8c47ba951b09edba17030a",
       "style": "IPY_MODEL_b915ee97f1464ef59f593175512f15d1",
       "value": " 541/541 [00:01&lt;00:00, 424.05it/s]"
      }
     },
     "cd1f41cb700941ffbb9e79eb969fe873": {
      "model_module": "@jupyter-widgets/controls",
      "model_module_version": "1.5.0",
      "model_name": "DescriptionStyleModel",
      "state": {
       "description_width": ""
      }
     },
     "cd21dc91603f41ada1e830c4e0ba6a5a": {
      "model_module": "@jupyter-widgets/base",
      "model_module_version": "1.2.0",
      "model_name": "LayoutModel",
      "state": {
       "display": "inline-flex",
       "flex_flow": "row wrap",
       "width": "100%"
      }
     },
     "cddfa9fb97304a7f94fa147f64e6ec6a": {
      "model_module": "@jupyter-widgets/base",
      "model_module_version": "1.2.0",
      "model_name": "LayoutModel",
      "state": {
       "flex": "2"
      }
     },
     "cde5ec6534ed41f786dd76b2b25fdb97": {
      "model_module": "@jupyter-widgets/controls",
      "model_module_version": "1.5.0",
      "model_name": "HTMLModel",
      "state": {
       "layout": "IPY_MODEL_23ec185eac95418c92bcc27b7415b861",
       "style": "IPY_MODEL_4efa4c3bbb2b4e079cb4bc0294e9cff3",
       "value": " 540/540 [1:06:28&lt;00:00,  7.39s/it]"
      }
     },
     "cdf31d886f9e4855b1495461881bd8f0": {
      "model_module": "@jupyter-widgets/base",
      "model_module_version": "1.2.0",
      "model_name": "LayoutModel",
      "state": {
       "flex": "2"
      }
     },
     "ce85ea414c9d43e8ab9e34bc9f0258a6": {
      "model_module": "@jupyter-widgets/base",
      "model_module_version": "1.2.0",
      "model_name": "LayoutModel",
      "state": {
       "flex": "2"
      }
     },
     "ce9d612abcc64e40930b0bf238036c6c": {
      "model_module": "@jupyter-widgets/controls",
      "model_module_version": "1.5.0",
      "model_name": "HTMLModel",
      "state": {
       "layout": "IPY_MODEL_258ed55f25ba4f8998c9e631b15ec486",
       "style": "IPY_MODEL_7442d1817afa4255a93010e96f186ee7",
       "value": " 541/541 [00:01&lt;00:00, 385.21it/s]"
      }
     },
     "cf09b26a715943969b8e9f024c7a6617": {
      "model_module": "@jupyter-widgets/base",
      "model_module_version": "1.2.0",
      "model_name": "LayoutModel",
      "state": {}
     },
     "cf662bdaebf74fa2857581a40df1cb18": {
      "model_module": "@jupyter-widgets/base",
      "model_module_version": "1.2.0",
      "model_name": "LayoutModel",
      "state": {
       "flex": "2"
      }
     },
     "cf692286639c49eba932b2db7be4763d": {
      "model_module": "@jupyter-widgets/base",
      "model_module_version": "1.2.0",
      "model_name": "LayoutModel",
      "state": {
       "flex": "2"
      }
     },
     "d0fcdac4fb644a9fb36fc1b5eb8f46f1": {
      "model_module": "@jupyter-widgets/controls",
      "model_module_version": "1.5.0",
      "model_name": "FloatProgressModel",
      "state": {
       "description": "Validating: 100%",
       "layout": "IPY_MODEL_325405087c4345b1a6e847b57e2e0adf",
       "max": 541,
       "style": "IPY_MODEL_ea29d045d4d04d9b849b4b8585503d2b",
       "value": 541
      }
     },
     "d154ebb6eb854b5b90cecfd49c71ce42": {
      "model_module": "@jupyter-widgets/controls",
      "model_module_version": "1.5.0",
      "model_name": "HTMLModel",
      "state": {
       "layout": "IPY_MODEL_6306f10e30564c5597c2f4ac52277a2c",
       "style": "IPY_MODEL_787e04d130704f8dac3deadf3c4a51fe",
       "value": " 541/541 [00:01&lt;00:00, 362.65it/s]"
      }
     },
     "d1624e9d01bf4c688f95dc84b2c50770": {
      "model_module": "@jupyter-widgets/base",
      "model_module_version": "1.2.0",
      "model_name": "LayoutModel",
      "state": {
       "flex": "2"
      }
     },
     "d18889a1cf174e8aa3b0f622833b1e0b": {
      "model_module": "@jupyter-widgets/controls",
      "model_module_version": "1.5.0",
      "model_name": "FloatProgressModel",
      "state": {
       "description": "Validating: 100%",
       "layout": "IPY_MODEL_7abcc780d3a14dc09bb01663fa9cf4ed",
       "max": 541,
       "style": "IPY_MODEL_7e087c820ec64eb8bdbfb359be99c03d",
       "value": 541
      }
     },
     "d1a053f709ab4690b26a50511605f453": {
      "model_module": "@jupyter-widgets/controls",
      "model_module_version": "1.5.0",
      "model_name": "DescriptionStyleModel",
      "state": {
       "description_width": ""
      }
     },
     "d1cd4a880881431f8d06afb25ed50f51": {
      "model_module": "@jupyter-widgets/base",
      "model_module_version": "1.2.0",
      "model_name": "LayoutModel",
      "state": {}
     },
     "d1fe6ca60f6340d5a25d60b07383be00": {
      "model_module": "@jupyter-widgets/controls",
      "model_module_version": "1.5.0",
      "model_name": "FloatProgressModel",
      "state": {
       "description": "Validating: 100%",
       "layout": "IPY_MODEL_c694881ab8ef454b99b881460e088f48",
       "max": 541,
       "style": "IPY_MODEL_fe2b2a2a8d894110b491ee123870f637",
       "value": 541
      }
     },
     "d2053c3512fe47e2b819771323ff8258": {
      "model_module": "@jupyter-widgets/base",
      "model_module_version": "1.2.0",
      "model_name": "LayoutModel",
      "state": {
       "flex": "2"
      }
     },
     "d24ace3656144835a96a6472555c7966": {
      "model_module": "@jupyter-widgets/controls",
      "model_module_version": "1.5.0",
      "model_name": "ProgressStyleModel",
      "state": {
       "description_width": "initial"
      }
     },
     "d267bedb8a1e41d38562ca523b0104dd": {
      "model_module": "@jupyter-widgets/controls",
      "model_module_version": "1.5.0",
      "model_name": "FloatProgressModel",
      "state": {
       "description": "Validating: 100%",
       "layout": "IPY_MODEL_fe14a49b63f14e989a9ae4972b60161f",
       "max": 541,
       "style": "IPY_MODEL_1a0dd189cfcb41899643e173052be1d8",
       "value": 541
      }
     },
     "d281a48e8ed34cdfad26be5cabcf9e1e": {
      "model_module": "@jupyter-widgets/base",
      "model_module_version": "1.2.0",
      "model_name": "LayoutModel",
      "state": {
       "flex": "2"
      }
     },
     "d36584ac4e544d35b60a05992b07c178": {
      "model_module": "@jupyter-widgets/controls",
      "model_module_version": "1.5.0",
      "model_name": "FloatProgressModel",
      "state": {
       "description": "Validating: 100%",
       "layout": "IPY_MODEL_1295741446714241b556970ea8e31a92",
       "max": 541,
       "style": "IPY_MODEL_a897b00cb74843488ec9b28fe845bd5d",
       "value": 541
      }
     },
     "d3b7ebd9b54e44c8b1674318def69b02": {
      "model_module": "@jupyter-widgets/base",
      "model_module_version": "1.2.0",
      "model_name": "LayoutModel",
      "state": {}
     },
     "d42464908c5949b69bd136d19bed59df": {
      "model_module": "@jupyter-widgets/controls",
      "model_module_version": "1.5.0",
      "model_name": "HTMLModel",
      "state": {
       "layout": "IPY_MODEL_fe5e983179a842a98307c94f7e40af90",
       "style": "IPY_MODEL_330200bb06364da1a0b3433d542c7c0d",
       "value": " 541/541 [00:01&lt;00:00, 424.95it/s]"
      }
     },
     "d4c65a20f8494d7383e7dea7ee407770": {
      "model_module": "@jupyter-widgets/controls",
      "model_module_version": "1.5.0",
      "model_name": "FloatProgressModel",
      "state": {
       "description": "Validating: 100%",
       "layout": "IPY_MODEL_934d791b93664e66bd2766ed08a3a869",
       "max": 541,
       "style": "IPY_MODEL_d845b3676d6b4a19a936fc1aed0ccd24",
       "value": 541
      }
     },
     "d4d9fe9172b44e40b72306e2cc597c42": {
      "model_module": "@jupyter-widgets/base",
      "model_module_version": "1.2.0",
      "model_name": "LayoutModel",
      "state": {
       "display": "inline-flex",
       "flex_flow": "row wrap",
       "width": "100%"
      }
     },
     "d578f8f9444240b09a3d0bc8373a6775": {
      "model_module": "@jupyter-widgets/base",
      "model_module_version": "1.2.0",
      "model_name": "LayoutModel",
      "state": {
       "flex": "2"
      }
     },
     "d599a3025cc64001b3908a1095f4d8fe": {
      "model_module": "@jupyter-widgets/controls",
      "model_module_version": "1.5.0",
      "model_name": "FloatProgressModel",
      "state": {
       "description": "Validating: 100%",
       "layout": "IPY_MODEL_cbf897a31c234c0db38f7181b175fa2e",
       "max": 541,
       "style": "IPY_MODEL_94b62c688d2e44c1a9807934ff29f030",
       "value": 541
      }
     },
     "d5eaa4e548774df08d85bbb56f3c2db9": {
      "model_module": "@jupyter-widgets/base",
      "model_module_version": "1.2.0",
      "model_name": "LayoutModel",
      "state": {
       "display": "inline-flex",
       "flex_flow": "row wrap",
       "width": "100%"
      }
     },
     "d641bebbe10148e1a161ff27fba8d0f9": {
      "model_module": "@jupyter-widgets/base",
      "model_module_version": "1.2.0",
      "model_name": "LayoutModel",
      "state": {
       "flex": "2"
      }
     },
     "d659f8a42b6949fda7c73c7fec0c9a75": {
      "model_module": "@jupyter-widgets/base",
      "model_module_version": "1.2.0",
      "model_name": "LayoutModel",
      "state": {
       "display": "inline-flex",
       "flex_flow": "row wrap",
       "width": "100%"
      }
     },
     "d66afe29449342569053c6c5052501ab": {
      "model_module": "@jupyter-widgets/controls",
      "model_module_version": "1.5.0",
      "model_name": "HTMLModel",
      "state": {
       "layout": "IPY_MODEL_bf1a152c060d4210932dfec69ed7fa8e",
       "style": "IPY_MODEL_72b88a91853a45e8af951eec3c447992",
       "value": " 541/541 [00:01&lt;00:00, 416.73it/s]"
      }
     },
     "d71b5949886d4be2b75f999d5116d6dd": {
      "model_module": "@jupyter-widgets/base",
      "model_module_version": "1.2.0",
      "model_name": "LayoutModel",
      "state": {}
     },
     "d75fe6f96a9f4c569d3ab0d67eeaedd9": {
      "model_module": "@jupyter-widgets/base",
      "model_module_version": "1.2.0",
      "model_name": "LayoutModel",
      "state": {
       "flex": "2"
      }
     },
     "d76654dccd224bf1ad5caa2ae431012e": {
      "model_module": "@jupyter-widgets/base",
      "model_module_version": "1.2.0",
      "model_name": "LayoutModel",
      "state": {}
     },
     "d845b3676d6b4a19a936fc1aed0ccd24": {
      "model_module": "@jupyter-widgets/controls",
      "model_module_version": "1.5.0",
      "model_name": "ProgressStyleModel",
      "state": {
       "description_width": "initial"
      }
     },
     "d86484e15b164cd886c8598e27591495": {
      "model_module": "@jupyter-widgets/controls",
      "model_module_version": "1.5.0",
      "model_name": "ProgressStyleModel",
      "state": {
       "description_width": "initial"
      }
     },
     "d94be7752220418aac406ce4c0b3e927": {
      "model_module": "@jupyter-widgets/base",
      "model_module_version": "1.2.0",
      "model_name": "LayoutModel",
      "state": {
       "display": "inline-flex",
       "flex_flow": "row wrap",
       "width": "100%"
      }
     },
     "d9b81f14c8d44adaa4fae254c55c3825": {
      "model_module": "@jupyter-widgets/base",
      "model_module_version": "1.2.0",
      "model_name": "LayoutModel",
      "state": {}
     },
     "da0a5fe591b34353a5af79f3fa288398": {
      "model_module": "@jupyter-widgets/base",
      "model_module_version": "1.2.0",
      "model_name": "LayoutModel",
      "state": {
       "display": "inline-flex",
       "flex_flow": "row wrap",
       "width": "100%"
      }
     },
     "daacba2607784f40b40f6ffec9692190": {
      "model_module": "@jupyter-widgets/controls",
      "model_module_version": "1.5.0",
      "model_name": "DescriptionStyleModel",
      "state": {
       "description_width": ""
      }
     },
     "dab1122ec228439c8ac693747704f71e": {
      "model_module": "@jupyter-widgets/base",
      "model_module_version": "1.2.0",
      "model_name": "LayoutModel",
      "state": {}
     },
     "dad63198b21d4f2aa03de5f07bff87bb": {
      "model_module": "@jupyter-widgets/base",
      "model_module_version": "1.2.0",
      "model_name": "LayoutModel",
      "state": {}
     },
     "db0e8d01a2a94327a97e0c930d9fcdbf": {
      "model_module": "@jupyter-widgets/controls",
      "model_module_version": "1.5.0",
      "model_name": "HTMLModel",
      "state": {
       "layout": "IPY_MODEL_3ee661f4e1cc43219b79346c28e4e063",
       "style": "IPY_MODEL_b2695f9e04cd4ff8a310f453b21dcf37",
       "value": " 541/541 [00:01&lt;00:00, 379.06it/s]"
      }
     },
     "db1bc3fa4d4a4c97848df156618c38eb": {
      "model_module": "@jupyter-widgets/controls",
      "model_module_version": "1.5.0",
      "model_name": "HTMLModel",
      "state": {
       "layout": "IPY_MODEL_dad63198b21d4f2aa03de5f07bff87bb",
       "style": "IPY_MODEL_c4301661e04448918626ca5e0b1278d6",
       "value": " 541/541 [00:01&lt;00:00, 368.22it/s]"
      }
     },
     "db255a44a8284d1da69bf974155b9adf": {
      "model_module": "@jupyter-widgets/base",
      "model_module_version": "1.2.0",
      "model_name": "LayoutModel",
      "state": {
       "flex": "2"
      }
     },
     "db6e79aebb4c485c88c4cfc4fe57594f": {
      "model_module": "@jupyter-widgets/base",
      "model_module_version": "1.2.0",
      "model_name": "LayoutModel",
      "state": {
       "flex": "2"
      }
     },
     "db8c4e36f2d7441a9a8cb762ab224c15": {
      "model_module": "@jupyter-widgets/controls",
      "model_module_version": "1.5.0",
      "model_name": "DescriptionStyleModel",
      "state": {
       "description_width": ""
      }
     },
     "dba66830af7b40ca9280e0757d8f3de3": {
      "model_module": "@jupyter-widgets/controls",
      "model_module_version": "1.5.0",
      "model_name": "DescriptionStyleModel",
      "state": {
       "description_width": ""
      }
     },
     "dbd0e922f3494943b7826dd3a5927b16": {
      "model_module": "@jupyter-widgets/controls",
      "model_module_version": "1.5.0",
      "model_name": "HTMLModel",
      "state": {
       "layout": "IPY_MODEL_d9b81f14c8d44adaa4fae254c55c3825",
       "style": "IPY_MODEL_a22d1532ee4f470b9f637a2868dbf5d0",
       "value": " 540/540 [00:05&lt;00:00, 98.84it/s]"
      }
     },
     "dc1b89de961a4951b104248f5d0ed494": {
      "model_module": "@jupyter-widgets/base",
      "model_module_version": "1.2.0",
      "model_name": "LayoutModel",
      "state": {}
     },
     "dce5a5987fb44b2993ba9911cea86380": {
      "model_module": "@jupyter-widgets/controls",
      "model_module_version": "1.5.0",
      "model_name": "ProgressStyleModel",
      "state": {
       "description_width": "initial"
      }
     },
     "dd062b3bd21d4bc1872a6a9daeabdaaf": {
      "model_module": "@jupyter-widgets/controls",
      "model_module_version": "1.5.0",
      "model_name": "HTMLModel",
      "state": {
       "layout": "IPY_MODEL_168acd79a4224cc3b215c39cda0194dc",
       "style": "IPY_MODEL_9a0a82d03c774c1c87ab9712fbc23b64",
       "value": " 541/541 [00:01&lt;00:00, 392.57it/s]"
      }
     },
     "dd3b812ba06648f3b221062373ac95d4": {
      "model_module": "@jupyter-widgets/controls",
      "model_module_version": "1.5.0",
      "model_name": "HTMLModel",
      "state": {
       "layout": "IPY_MODEL_939093f03b4b4787b16f0f671ed2139f",
       "style": "IPY_MODEL_edf43b3b2e6c4840ba1f472f37417dd8",
       "value": " 541/541 [00:01&lt;00:00, 396.49it/s]"
      }
     },
     "de423a1ff1614651a63a972e5b6335e7": {
      "model_module": "@jupyter-widgets/controls",
      "model_module_version": "1.5.0",
      "model_name": "DescriptionStyleModel",
      "state": {
       "description_width": ""
      }
     },
     "de4df615f2214bbd934d4a1b0090e65e": {
      "model_module": "@jupyter-widgets/controls",
      "model_module_version": "1.5.0",
      "model_name": "ProgressStyleModel",
      "state": {
       "description_width": "initial"
      }
     },
     "de672bc0975c424889f2429ca5ac30b4": {
      "model_module": "@jupyter-widgets/base",
      "model_module_version": "1.2.0",
      "model_name": "LayoutModel",
      "state": {}
     },
     "de89c81a1dda4cfca40d4c0c13933c46": {
      "model_module": "@jupyter-widgets/base",
      "model_module_version": "1.2.0",
      "model_name": "LayoutModel",
      "state": {
       "display": "inline-flex",
       "flex_flow": "row wrap",
       "width": "100%"
      }
     },
     "df0f208206c14bcfa581adb8462d982d": {
      "model_module": "@jupyter-widgets/base",
      "model_module_version": "1.2.0",
      "model_name": "LayoutModel",
      "state": {}
     },
     "df5dcd40f264431fa315105078c2f811": {
      "model_module": "@jupyter-widgets/controls",
      "model_module_version": "1.5.0",
      "model_name": "FloatProgressModel",
      "state": {
       "description": "Validating: 100%",
       "layout": "IPY_MODEL_406b327eeef24e81bf455e782eeda537",
       "max": 541,
       "style": "IPY_MODEL_80133f1ea52a4595b61c392ce1cb68ff",
       "value": 541
      }
     },
     "df5dd72f6ac54c3eb1af72598ff506f1": {
      "model_module": "@jupyter-widgets/base",
      "model_module_version": "1.2.0",
      "model_name": "LayoutModel",
      "state": {
       "display": "inline-flex",
       "flex_flow": "row wrap",
       "width": "100%"
      }
     },
     "df7689f7f6d949ddb3b55fd136273968": {
      "model_module": "@jupyter-widgets/base",
      "model_module_version": "1.2.0",
      "model_name": "LayoutModel",
      "state": {}
     },
     "df7edb3c976d4321898ef8af246ffcaf": {
      "model_module": "@jupyter-widgets/controls",
      "model_module_version": "1.5.0",
      "model_name": "DescriptionStyleModel",
      "state": {
       "description_width": ""
      }
     },
     "dfb71a3e09c24cff8ea47696dd189d98": {
      "model_module": "@jupyter-widgets/base",
      "model_module_version": "1.2.0",
      "model_name": "LayoutModel",
      "state": {
       "flex": "2"
      }
     },
     "dff16ba7962245768c4b111f99c31724": {
      "model_module": "@jupyter-widgets/base",
      "model_module_version": "1.2.0",
      "model_name": "LayoutModel",
      "state": {
       "display": "inline-flex",
       "flex_flow": "row wrap",
       "width": "100%"
      }
     },
     "e04f63e5d155470b939a9304cd4279e3": {
      "model_module": "@jupyter-widgets/controls",
      "model_module_version": "1.5.0",
      "model_name": "DescriptionStyleModel",
      "state": {
       "description_width": ""
      }
     },
     "e069a76a5bc6412ba4f347a97a499f50": {
      "model_module": "@jupyter-widgets/base",
      "model_module_version": "1.2.0",
      "model_name": "LayoutModel",
      "state": {}
     },
     "e154e31c5a44487ebaed05d72dbbe92c": {
      "model_module": "@jupyter-widgets/controls",
      "model_module_version": "1.5.0",
      "model_name": "HTMLModel",
      "state": {
       "layout": "IPY_MODEL_e6dd3e4b58a74b72b42f596a233125c0",
       "style": "IPY_MODEL_a6a9633bfea14f40903543f1a6851251",
       "value": " 541/541 [00:01&lt;00:00, 354.56it/s]"
      }
     },
     "e1cf9e6598d545d09da2342f86764cb0": {
      "model_module": "@jupyter-widgets/controls",
      "model_module_version": "1.5.0",
      "model_name": "FloatProgressModel",
      "state": {
       "description": "Validating: 100%",
       "layout": "IPY_MODEL_3d69bd5e4f2c4cb5ae9812133feb017b",
       "max": 541,
       "style": "IPY_MODEL_6f0da37374d343fc835689998736f425",
       "value": 541
      }
     },
     "e1dda56462004eacbc4f77b321e26b77": {
      "model_module": "@jupyter-widgets/base",
      "model_module_version": "1.2.0",
      "model_name": "LayoutModel",
      "state": {
       "flex": "2"
      }
     },
     "e226c68d43f9468a8ac7093d9831bb3d": {
      "model_module": "@jupyter-widgets/controls",
      "model_module_version": "1.5.0",
      "model_name": "FloatProgressModel",
      "state": {
       "description": "Validating: 100%",
       "layout": "IPY_MODEL_491fc6e780404601ab30fef1dc1efc3d",
       "max": 541,
       "style": "IPY_MODEL_8f39102a49184ff598c95db022feaa44",
       "value": 541
      }
     },
     "e284d15ef5284c2498dc0ea279394b36": {
      "model_module": "@jupyter-widgets/controls",
      "model_module_version": "1.5.0",
      "model_name": "DescriptionStyleModel",
      "state": {
       "description_width": ""
      }
     },
     "e2acb99ff2d24342a3d12c35fe79094a": {
      "model_module": "@jupyter-widgets/controls",
      "model_module_version": "1.5.0",
      "model_name": "HTMLModel",
      "state": {
       "layout": "IPY_MODEL_37f7c6a16767472bbdbb92bb7dd229b9",
       "style": "IPY_MODEL_c4e6bbf693e8416cb06358959fea4ceb",
       "value": " 541/541 [00:01&lt;00:00, 409.10it/s]"
      }
     },
     "e2d627ec191e4d2d91832f77bce9e7da": {
      "model_module": "@jupyter-widgets/controls",
      "model_module_version": "1.5.0",
      "model_name": "DescriptionStyleModel",
      "state": {
       "description_width": ""
      }
     },
     "e2d7632d697c4a16ba263a8bde145803": {
      "model_module": "@jupyter-widgets/controls",
      "model_module_version": "1.5.0",
      "model_name": "DescriptionStyleModel",
      "state": {
       "description_width": ""
      }
     },
     "e34eb0ea97ce48f2a7918f0ca8720abd": {
      "model_module": "@jupyter-widgets/controls",
      "model_module_version": "1.5.0",
      "model_name": "DescriptionStyleModel",
      "state": {
       "description_width": ""
      }
     },
     "e42d1f43f73540acaa7ffd032bee3012": {
      "model_module": "@jupyter-widgets/controls",
      "model_module_version": "1.5.0",
      "model_name": "DescriptionStyleModel",
      "state": {
       "description_width": ""
      }
     },
     "e4ef1882c4344bbda3df4ca148843a4d": {
      "model_module": "@jupyter-widgets/controls",
      "model_module_version": "1.5.0",
      "model_name": "HTMLModel",
      "state": {
       "layout": "IPY_MODEL_f4b8344ea9f448b1a990308efc4ecfa9",
       "style": "IPY_MODEL_f689d917d9604441aaa640239573258e",
       "value": " 541/541 [00:01&lt;00:00, 376.82it/s]"
      }
     },
     "e51b7a69b42b445fb1d53d7cceb514d6": {
      "model_module": "@jupyter-widgets/controls",
      "model_module_version": "1.5.0",
      "model_name": "HTMLModel",
      "state": {
       "layout": "IPY_MODEL_5700daff70a34eeca8a7d1dbcc7aa0ab",
       "style": "IPY_MODEL_4faac102b0c34135944c1599303a509b",
       "value": " 541/541 [00:01&lt;00:00, 390.70it/s]"
      }
     },
     "e5205332e2e942e4a2dcce489aa14149": {
      "model_module": "@jupyter-widgets/controls",
      "model_module_version": "1.5.0",
      "model_name": "HTMLModel",
      "state": {
       "layout": "IPY_MODEL_df0f208206c14bcfa581adb8462d982d",
       "style": "IPY_MODEL_a014a570b5af4150bebd05e0ca49e05e",
       "value": " 541/541 [00:01&lt;00:00, 372.39it/s]"
      }
     },
     "e6dd3e4b58a74b72b42f596a233125c0": {
      "model_module": "@jupyter-widgets/base",
      "model_module_version": "1.2.0",
      "model_name": "LayoutModel",
      "state": {}
     },
     "e70025d9cbdf4cd3bf2c18fb9668b566": {
      "model_module": "@jupyter-widgets/base",
      "model_module_version": "1.2.0",
      "model_name": "LayoutModel",
      "state": {
       "display": "inline-flex",
       "flex_flow": "row wrap",
       "width": "100%"
      }
     },
     "e721d9649df54bd98e386b3b35e4a9df": {
      "model_module": "@jupyter-widgets/base",
      "model_module_version": "1.2.0",
      "model_name": "LayoutModel",
      "state": {}
     },
     "e7273d535bb44faab6454eb45584a778": {
      "model_module": "@jupyter-widgets/controls",
      "model_module_version": "1.5.0",
      "model_name": "HTMLModel",
      "state": {
       "layout": "IPY_MODEL_9bfea3b60e254dc9a145f4b2a8143fc3",
       "style": "IPY_MODEL_1b09c47e2d1e4d58b49435de868ca5c9",
       "value": " 541/541 [00:01&lt;00:00, 365.76it/s]"
      }
     },
     "e7337c03d8934489bc3cc1110fcc505d": {
      "model_module": "@jupyter-widgets/controls",
      "model_module_version": "1.5.0",
      "model_name": "ProgressStyleModel",
      "state": {
       "description_width": "initial"
      }
     },
     "e7a66c7f1ed54391ba4e9febe032b47a": {
      "model_module": "@jupyter-widgets/controls",
      "model_module_version": "1.5.0",
      "model_name": "DescriptionStyleModel",
      "state": {
       "description_width": ""
      }
     },
     "e7bbbecf40da4b18872d972f2e72a1d1": {
      "model_module": "@jupyter-widgets/controls",
      "model_module_version": "1.5.0",
      "model_name": "DescriptionStyleModel",
      "state": {
       "description_width": ""
      }
     },
     "e7cafd89512e4d61b9004a0e851d4a21": {
      "model_module": "@jupyter-widgets/controls",
      "model_module_version": "1.5.0",
      "model_name": "FloatProgressModel",
      "state": {
       "description": "Validating: 100%",
       "layout": "IPY_MODEL_9951ce2c912c4c9da8aa4077a9f6c6dc",
       "max": 541,
       "style": "IPY_MODEL_a7a4d63224374f8e8fee21b75118028b",
       "value": 541
      }
     },
     "e84f5679ae524b1cabe7ea7af86195e4": {
      "model_module": "@jupyter-widgets/controls",
      "model_module_version": "1.5.0",
      "model_name": "DescriptionStyleModel",
      "state": {
       "description_width": ""
      }
     },
     "e85bb35b447b4aada633c18387b0775e": {
      "model_module": "@jupyter-widgets/base",
      "model_module_version": "1.2.0",
      "model_name": "LayoutModel",
      "state": {}
     },
     "e8791b534b8540a785bfe7a484d13d81": {
      "model_module": "@jupyter-widgets/base",
      "model_module_version": "1.2.0",
      "model_name": "LayoutModel",
      "state": {
       "flex": "2"
      }
     },
     "e8ab74106fea43a4bb9944969a1461d9": {
      "model_module": "@jupyter-widgets/base",
      "model_module_version": "1.2.0",
      "model_name": "LayoutModel",
      "state": {
       "display": "inline-flex",
       "flex_flow": "row wrap",
       "width": "100%"
      }
     },
     "e91ac35475db4392a0d4325927a25f8d": {
      "model_module": "@jupyter-widgets/controls",
      "model_module_version": "1.5.0",
      "model_name": "ProgressStyleModel",
      "state": {
       "description_width": "initial"
      }
     },
     "e933649c4ea24fd0b592f23d32856b77": {
      "model_module": "@jupyter-widgets/controls",
      "model_module_version": "1.5.0",
      "model_name": "HTMLModel",
      "state": {
       "layout": "IPY_MODEL_d3b7ebd9b54e44c8b1674318def69b02",
       "style": "IPY_MODEL_e98a6ff357384255adbc86232fe512aa",
       "value": " 541/541 [00:01&lt;00:00, 416.86it/s]"
      }
     },
     "e98a6ff357384255adbc86232fe512aa": {
      "model_module": "@jupyter-widgets/controls",
      "model_module_version": "1.5.0",
      "model_name": "DescriptionStyleModel",
      "state": {
       "description_width": ""
      }
     },
     "e9baf49378484b6b842761a0554fa51e": {
      "model_module": "@jupyter-widgets/controls",
      "model_module_version": "1.5.0",
      "model_name": "FloatProgressModel",
      "state": {
       "description": "Validation sanity check: 100%",
       "layout": "IPY_MODEL_7ac2aca864e64198b2a15a5a628a559a",
       "max": 5,
       "style": "IPY_MODEL_85b840281ccd452fba3260cddc500666",
       "value": 5
      }
     },
     "ea29d045d4d04d9b849b4b8585503d2b": {
      "model_module": "@jupyter-widgets/controls",
      "model_module_version": "1.5.0",
      "model_name": "ProgressStyleModel",
      "state": {
       "description_width": "initial"
      }
     },
     "ea2cf8b0f90643c5ac7523e39aca2445": {
      "model_module": "@jupyter-widgets/controls",
      "model_module_version": "1.5.0",
      "model_name": "HTMLModel",
      "state": {
       "layout": "IPY_MODEL_d76654dccd224bf1ad5caa2ae431012e",
       "style": "IPY_MODEL_1c26ab252b3748a3bae8fa229423ddbf",
       "value": " 541/541 [00:01&lt;00:00, 347.26it/s]"
      }
     },
     "ea37312f2d5f4194b955a8e00679b6a5": {
      "model_module": "@jupyter-widgets/controls",
      "model_module_version": "1.5.0",
      "model_name": "FloatProgressModel",
      "state": {
       "description": "Validating: 100%",
       "layout": "IPY_MODEL_52d511bdb685421db65fc2c9cb6cc91e",
       "max": 541,
       "style": "IPY_MODEL_f1247ab973454dfe88e9d5607e566d24",
       "value": 541
      }
     },
     "ea83f6111d2e4575888562d951b306ef": {
      "model_module": "@jupyter-widgets/controls",
      "model_module_version": "1.5.0",
      "model_name": "DescriptionStyleModel",
      "state": {
       "description_width": ""
      }
     },
     "eac9c10b0c454217b210c33c982da924": {
      "model_module": "@jupyter-widgets/controls",
      "model_module_version": "1.5.0",
      "model_name": "HTMLModel",
      "state": {
       "layout": "IPY_MODEL_3e8135c6919940a8988e0025d0c54ab2",
       "style": "IPY_MODEL_187ade40acbd440eb072165d4ac25c54",
       "value": " 541/541 [00:01&lt;00:00, 378.12it/s]"
      }
     },
     "eae7a1652cfb4eafb1a883d4dee8d9e5": {
      "model_module": "@jupyter-widgets/base",
      "model_module_version": "1.2.0",
      "model_name": "LayoutModel",
      "state": {
       "flex": "2"
      }
     },
     "eb051046d5b7440ea17e33a27b39650c": {
      "model_module": "@jupyter-widgets/controls",
      "model_module_version": "1.5.0",
      "model_name": "HTMLModel",
      "state": {
       "layout": "IPY_MODEL_aca62fbb7e1d48f892071e18539c7e21",
       "style": "IPY_MODEL_e284d15ef5284c2498dc0ea279394b36",
       "value": " 541/541 [00:01&lt;00:00, 443.56it/s]"
      }
     },
     "eb391d6d010246ec94b6b60c73b010bc": {
      "model_module": "@jupyter-widgets/controls",
      "model_module_version": "1.5.0",
      "model_name": "FloatProgressModel",
      "state": {
       "description": "Validating: 100%",
       "layout": "IPY_MODEL_1a95781a8f0e4d47814102edb33b0d1a",
       "max": 541,
       "style": "IPY_MODEL_eea75a9408254115b622d0e30b6a6c33",
       "value": 541
      }
     },
     "ec0e802e638e43d89d087c7317af139b": {
      "model_module": "@jupyter-widgets/base",
      "model_module_version": "1.2.0",
      "model_name": "LayoutModel",
      "state": {
       "flex": "2"
      }
     },
     "ecd0aae1ad93409db19c1945e83fcd24": {
      "model_module": "@jupyter-widgets/base",
      "model_module_version": "1.2.0",
      "model_name": "LayoutModel",
      "state": {
       "flex": "2"
      }
     },
     "ed4364517d954ea68f3d6e67515c3578": {
      "model_module": "@jupyter-widgets/base",
      "model_module_version": "1.2.0",
      "model_name": "LayoutModel",
      "state": {
       "flex": "2"
      }
     },
     "ed9a09f7380347fa938444c5889674bd": {
      "model_module": "@jupyter-widgets/base",
      "model_module_version": "1.2.0",
      "model_name": "LayoutModel",
      "state": {}
     },
     "edd76dbe31684d63a5caea52f703452b": {
      "model_module": "@jupyter-widgets/controls",
      "model_module_version": "1.5.0",
      "model_name": "FloatProgressModel",
      "state": {
       "description": "Validating: 100%",
       "layout": "IPY_MODEL_dfb71a3e09c24cff8ea47696dd189d98",
       "max": 541,
       "style": "IPY_MODEL_44a4e2c3a1914c5d84dc404ac54f4024",
       "value": 541
      }
     },
     "edf43b3b2e6c4840ba1f472f37417dd8": {
      "model_module": "@jupyter-widgets/controls",
      "model_module_version": "1.5.0",
      "model_name": "DescriptionStyleModel",
      "state": {
       "description_width": ""
      }
     },
     "ee0f3bc131624d0ca75cdafd01710f66": {
      "model_module": "@jupyter-widgets/base",
      "model_module_version": "1.2.0",
      "model_name": "LayoutModel",
      "state": {
       "display": "inline-flex",
       "flex_flow": "row wrap",
       "width": "100%"
      }
     },
     "ee50b38a8aa1457692360fbe97580fba": {
      "model_module": "@jupyter-widgets/base",
      "model_module_version": "1.2.0",
      "model_name": "LayoutModel",
      "state": {
       "display": "inline-flex",
       "flex_flow": "row wrap",
       "width": "100%"
      }
     },
     "ee9fa88028de46c3a32d9d75bd02a37e": {
      "model_module": "@jupyter-widgets/base",
      "model_module_version": "1.2.0",
      "model_name": "LayoutModel",
      "state": {}
     },
     "eea75a9408254115b622d0e30b6a6c33": {
      "model_module": "@jupyter-widgets/controls",
      "model_module_version": "1.5.0",
      "model_name": "ProgressStyleModel",
      "state": {
       "description_width": "initial"
      }
     },
     "ef29fffb641d4ffcae84fc27cf872d95": {
      "model_module": "@jupyter-widgets/base",
      "model_module_version": "1.2.0",
      "model_name": "LayoutModel",
      "state": {}
     },
     "efa39af5988440e3bca48eb176507d97": {
      "model_module": "@jupyter-widgets/controls",
      "model_module_version": "1.5.0",
      "model_name": "FloatProgressModel",
      "state": {
       "description": "Validating: 100%",
       "layout": "IPY_MODEL_6af737669e8b4b49b684434ffbdf71fd",
       "max": 541,
       "style": "IPY_MODEL_292b93dcb0e2458caeb056cc8870d43a",
       "value": 541
      }
     },
     "efdbeb920d5a4b76bf3cb464a8f11006": {
      "model_module": "@jupyter-widgets/base",
      "model_module_version": "1.2.0",
      "model_name": "LayoutModel",
      "state": {
       "flex": "2"
      }
     },
     "f02dc378b0004bc2b2b1df7eca4ce66c": {
      "model_module": "@jupyter-widgets/controls",
      "model_module_version": "1.5.0",
      "model_name": "ProgressStyleModel",
      "state": {
       "description_width": "initial"
      }
     },
     "f0648c3c05334071b08ccc3fe57dc1f5": {
      "model_module": "@jupyter-widgets/controls",
      "model_module_version": "1.5.0",
      "model_name": "ProgressStyleModel",
      "state": {
       "description_width": "initial"
      }
     },
     "f09f4cd698df48dca345469018d36aa7": {
      "model_module": "@jupyter-widgets/controls",
      "model_module_version": "1.5.0",
      "model_name": "HTMLModel",
      "state": {
       "layout": "IPY_MODEL_8a24b74435c24619bc7bab87c1e6c3f9",
       "style": "IPY_MODEL_55a93f6cf2a54d3781a625ae6a62350b",
       "value": " 541/541 [00:01&lt;00:00, 418.20it/s]"
      }
     },
     "f115ddf8b6ed48859aa8e8dac6aca21c": {
      "model_module": "@jupyter-widgets/controls",
      "model_module_version": "1.5.0",
      "model_name": "FloatProgressModel",
      "state": {
       "description": "Validating: 100%",
       "layout": "IPY_MODEL_db255a44a8284d1da69bf974155b9adf",
       "max": 541,
       "style": "IPY_MODEL_7e400c8be2fb446390e4ed1f8311fb6d",
       "value": 541
      }
     },
     "f1247ab973454dfe88e9d5607e566d24": {
      "model_module": "@jupyter-widgets/controls",
      "model_module_version": "1.5.0",
      "model_name": "ProgressStyleModel",
      "state": {
       "description_width": "initial"
      }
     },
     "f13312a057a14b668e57f78774dfe4e1": {
      "model_module": "@jupyter-widgets/base",
      "model_module_version": "1.2.0",
      "model_name": "LayoutModel",
      "state": {}
     },
     "f1a8ee5e37ae476697275d9c33c04734": {
      "model_module": "@jupyter-widgets/base",
      "model_module_version": "1.2.0",
      "model_name": "LayoutModel",
      "state": {
       "display": "inline-flex",
       "flex_flow": "row wrap",
       "width": "100%"
      }
     },
     "f1a9b8c8d65b4aeeae7dd95a6d0a0ecb": {
      "model_module": "@jupyter-widgets/controls",
      "model_module_version": "1.5.0",
      "model_name": "HTMLModel",
      "state": {
       "layout": "IPY_MODEL_220eda12d06342a2a773d97e3cbed873",
       "style": "IPY_MODEL_de423a1ff1614651a63a972e5b6335e7",
       "value": " 541/541 [00:01&lt;00:00, 373.81it/s]"
      }
     },
     "f296233ae1a140b68d568a1f8e6567a2": {
      "model_module": "@jupyter-widgets/controls",
      "model_module_version": "1.5.0",
      "model_name": "ProgressStyleModel",
      "state": {
       "description_width": "initial"
      }
     },
     "f2b31ee5254d4dd190565e48767b2510": {
      "model_module": "@jupyter-widgets/base",
      "model_module_version": "1.2.0",
      "model_name": "LayoutModel",
      "state": {
       "display": "inline-flex",
       "flex_flow": "row wrap",
       "width": "100%"
      }
     },
     "f30a8b9f2fd44368a755d52c3b474c12": {
      "model_module": "@jupyter-widgets/base",
      "model_module_version": "1.2.0",
      "model_name": "LayoutModel",
      "state": {
       "flex": "2"
      }
     },
     "f356bd0427ac49b6b05a1584eca45974": {
      "model_module": "@jupyter-widgets/base",
      "model_module_version": "1.2.0",
      "model_name": "LayoutModel",
      "state": {
       "display": "inline-flex",
       "flex_flow": "row wrap",
       "width": "100%"
      }
     },
     "f496e72d130940ba8ab1eaa8bdda8666": {
      "model_module": "@jupyter-widgets/base",
      "model_module_version": "1.2.0",
      "model_name": "LayoutModel",
      "state": {}
     },
     "f4b8344ea9f448b1a990308efc4ecfa9": {
      "model_module": "@jupyter-widgets/base",
      "model_module_version": "1.2.0",
      "model_name": "LayoutModel",
      "state": {}
     },
     "f4f90c327104411a899263a3e7112025": {
      "model_module": "@jupyter-widgets/base",
      "model_module_version": "1.2.0",
      "model_name": "LayoutModel",
      "state": {}
     },
     "f5401ffb6d654890bf0433ae11aec55d": {
      "model_module": "@jupyter-widgets/base",
      "model_module_version": "1.2.0",
      "model_name": "LayoutModel",
      "state": {}
     },
     "f546d976a0d84e5bb1270f029a5bb839": {
      "model_module": "@jupyter-widgets/base",
      "model_module_version": "1.2.0",
      "model_name": "LayoutModel",
      "state": {
       "display": "inline-flex",
       "flex_flow": "row wrap",
       "width": "100%"
      }
     },
     "f552152ec6bb466bbe2eec2bd3c79e4f": {
      "model_module": "@jupyter-widgets/base",
      "model_module_version": "1.2.0",
      "model_name": "LayoutModel",
      "state": {
       "display": "inline-flex",
       "flex_flow": "row wrap",
       "width": "100%"
      }
     },
     "f572942de2e5468294673b848a1eb600": {
      "model_module": "@jupyter-widgets/base",
      "model_module_version": "1.2.0",
      "model_name": "LayoutModel",
      "state": {}
     },
     "f5939e902b2f42c88d25e4bbb7679422": {
      "model_module": "@jupyter-widgets/controls",
      "model_module_version": "1.5.0",
      "model_name": "HTMLModel",
      "state": {
       "layout": "IPY_MODEL_b98cffae209848299a0442d059315246",
       "style": "IPY_MODEL_68544db29b1b4f6f84448d84b4560196",
       "value": " 541/541 [00:01&lt;00:00, 397.57it/s]"
      }
     },
     "f6483149bac94d879c63fe8069649b02": {
      "model_module": "@jupyter-widgets/controls",
      "model_module_version": "1.5.0",
      "model_name": "DescriptionStyleModel",
      "state": {
       "description_width": ""
      }
     },
     "f67f35d5e33448aaa4b811aa9eca24ba": {
      "model_module": "@jupyter-widgets/controls",
      "model_module_version": "1.5.0",
      "model_name": "FloatProgressModel",
      "state": {
       "description": "Validating: 100%",
       "layout": "IPY_MODEL_2aab06810a9547038a808955ba2470f3",
       "max": 541,
       "style": "IPY_MODEL_66fe71c3c95f45ff983606d37060f310",
       "value": 541
      }
     },
     "f689d917d9604441aaa640239573258e": {
      "model_module": "@jupyter-widgets/controls",
      "model_module_version": "1.5.0",
      "model_name": "DescriptionStyleModel",
      "state": {
       "description_width": ""
      }
     },
     "f72a148e8f564d289aaba4a9062b7633": {
      "model_module": "@jupyter-widgets/base",
      "model_module_version": "1.2.0",
      "model_name": "LayoutModel",
      "state": {
       "display": "inline-flex",
       "flex_flow": "row wrap",
       "width": "100%"
      }
     },
     "f785248f1a2b43e3a6865c0c8c04e464": {
      "model_module": "@jupyter-widgets/controls",
      "model_module_version": "1.5.0",
      "model_name": "HTMLModel",
      "state": {
       "layout": "IPY_MODEL_ba35be6faa4945da9d1d73d3bf728326",
       "style": "IPY_MODEL_95450deda8574e7d87a17e4fddb434bb",
       "value": " 541/541 [00:01&lt;00:00, 412.69it/s]"
      }
     },
     "f78e3dbb3e2f4aa0adaffceeb26f0fd3": {
      "model_module": "@jupyter-widgets/controls",
      "model_module_version": "1.5.0",
      "model_name": "HTMLModel",
      "state": {
       "layout": "IPY_MODEL_3f6996fc3a3f4b2fbe43a3cdd1d25830",
       "style": "IPY_MODEL_763507919da84ab39885789fe761d4fa",
       "value": " 541/541 [00:01&lt;00:00, 402.71it/s]"
      }
     },
     "f7d62a97469d4d6695d946503c4fd0d3": {
      "model_module": "@jupyter-widgets/controls",
      "model_module_version": "1.5.0",
      "model_name": "ProgressStyleModel",
      "state": {
       "description_width": "initial"
      }
     },
     "f868103c74c541ffac4f7e95137b7d35": {
      "model_module": "@jupyter-widgets/controls",
      "model_module_version": "1.5.0",
      "model_name": "DescriptionStyleModel",
      "state": {
       "description_width": ""
      }
     },
     "f8b159665db4472ea682b9f93ccdc261": {
      "model_module": "@jupyter-widgets/controls",
      "model_module_version": "1.5.0",
      "model_name": "HTMLModel",
      "state": {
       "layout": "IPY_MODEL_e069a76a5bc6412ba4f347a97a499f50",
       "style": "IPY_MODEL_e2d627ec191e4d2d91832f77bce9e7da",
       "value": " 541/541 [00:01&lt;00:00, 391.04it/s]"
      }
     },
     "fa51fde926374151b78eaeb8a5a095df": {
      "model_module": "@jupyter-widgets/base",
      "model_module_version": "1.2.0",
      "model_name": "LayoutModel",
      "state": {
       "display": "inline-flex",
       "flex_flow": "row wrap",
       "width": "100%"
      }
     },
     "fa9a03ec2f7244a5b454262b725aa624": {
      "model_module": "@jupyter-widgets/controls",
      "model_module_version": "1.5.0",
      "model_name": "FloatProgressModel",
      "state": {
       "description": "Validating: 100%",
       "layout": "IPY_MODEL_32bc2a62bd4e4249b6b3e1cb3c12d087",
       "max": 541,
       "style": "IPY_MODEL_101999fef6cc45d6b99c417ce4269149",
       "value": 541
      }
     },
     "fb132f803ecf4414b85e1ecd41ed68c3": {
      "model_module": "@jupyter-widgets/controls",
      "model_module_version": "1.5.0",
      "model_name": "ProgressStyleModel",
      "state": {
       "description_width": "initial"
      }
     },
     "fc61162504b34f4a9336b654f900fc5c": {
      "model_module": "@jupyter-widgets/controls",
      "model_module_version": "1.5.0",
      "model_name": "HTMLModel",
      "state": {
       "layout": "IPY_MODEL_0d1f4e7a60fa4e67bbb96c66575695b5",
       "style": "IPY_MODEL_821e2336eab343fa8fe1cc0601ca274e",
       "value": " 541/541 [00:01&lt;00:00, 403.13it/s]"
      }
     },
     "fca5bb9c88724fa2856a42591b19ae0d": {
      "model_module": "@jupyter-widgets/controls",
      "model_module_version": "1.5.0",
      "model_name": "HTMLModel",
      "state": {
       "layout": "IPY_MODEL_b821e028e6d4407697fc0f9c015ac344",
       "style": "IPY_MODEL_e2d7632d697c4a16ba263a8bde145803",
       "value": " 541/541 [00:01&lt;00:00, 371.62it/s]"
      }
     },
     "fcf7d9d8a583488181ab7c6e06091a4d": {
      "model_module": "@jupyter-widgets/base",
      "model_module_version": "1.2.0",
      "model_name": "LayoutModel",
      "state": {
       "display": "inline-flex",
       "flex_flow": "row wrap",
       "width": "100%"
      }
     },
     "fe0a958ee07c417d9a7ffc1c114e3d4d": {
      "model_module": "@jupyter-widgets/base",
      "model_module_version": "1.2.0",
      "model_name": "LayoutModel",
      "state": {
       "flex": "2"
      }
     },
     "fe14a49b63f14e989a9ae4972b60161f": {
      "model_module": "@jupyter-widgets/base",
      "model_module_version": "1.2.0",
      "model_name": "LayoutModel",
      "state": {
       "flex": "2"
      }
     },
     "fe18e5a6f31448868a4953301aef261f": {
      "model_module": "@jupyter-widgets/base",
      "model_module_version": "1.2.0",
      "model_name": "LayoutModel",
      "state": {
       "flex": "2"
      }
     },
     "fe2b2a2a8d894110b491ee123870f637": {
      "model_module": "@jupyter-widgets/controls",
      "model_module_version": "1.5.0",
      "model_name": "ProgressStyleModel",
      "state": {
       "description_width": "initial"
      }
     },
     "fe5499c0722b47d7997233ddde354578": {
      "model_module": "@jupyter-widgets/controls",
      "model_module_version": "1.5.0",
      "model_name": "DescriptionStyleModel",
      "state": {
       "description_width": ""
      }
     },
     "fe5e983179a842a98307c94f7e40af90": {
      "model_module": "@jupyter-widgets/base",
      "model_module_version": "1.2.0",
      "model_name": "LayoutModel",
      "state": {}
     },
     "fe918a8804b2435a91022768056af1a2": {
      "model_module": "@jupyter-widgets/controls",
      "model_module_version": "1.5.0",
      "model_name": "DescriptionStyleModel",
      "state": {
       "description_width": ""
      }
     },
     "fee3dea5733f43b092780b1df642f022": {
      "model_module": "@jupyter-widgets/controls",
      "model_module_version": "1.5.0",
      "model_name": "ProgressStyleModel",
      "state": {
       "description_width": "initial"
      }
     }
    },
    "version_major": 2,
    "version_minor": 0
   }
  }
 },
 "nbformat": 4,
 "nbformat_minor": 4
}

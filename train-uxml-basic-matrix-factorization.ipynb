{
 "cells": [
  {
   "cell_type": "code",
   "execution_count": 1,
   "metadata": {},
   "outputs": [
    {
     "name": "stdout",
     "output_type": "stream",
     "text": [
      "PyTorch version: 1.4.0\n",
      "CUDA GPU 1: GeForce RTX 2080 Ti [Compute Capability: 7.5]\n"
     ]
    },
    {
     "name": "stderr",
     "output_type": "stream",
     "text": [
      "DEBUG:root:Logging enabled at DEBUG level.\n"
     ]
    },
    {
     "name": "stdout",
     "output_type": "stream",
     "text": [
      "PyTorch Lightning version: 0.7.1\n"
     ]
    }
   ],
   "source": [
    "# import os\n",
    "# os.environ[\"CUDA_VISIBLE_DEVICES\"] = \"-1\" \n",
    "\n",
    "import numpy as np\n",
    "import torch\n",
    "print(\"PyTorch version:\",torch.__version__)\n",
    "if torch.cuda.is_available():\n",
    "    for i in range(torch.cuda.device_count()):\n",
    "      print(f\"CUDA GPU {i+1}: {torch.cuda.get_device_name(i)} [Compute Capability: {torch.cuda.get_device_capability(0)[0]}.{torch.cuda.get_device_capability(0)[1]}]\")\n",
    "    device = torch.device('cuda')\n",
    "    kwargs = {'num_workers': 8, 'pin_memory': True}\n",
    "else:\n",
    "    device = torch.device('cpu')\n",
    "    print(\"CUDA GPU is not available. :(\")  \n",
    "import torch.nn as nn\n",
    "from torch.utils.data import DataLoader, Dataset\n",
    "\n",
    "import pytorch_lightning as pl\n",
    "from pytorch_lightning.loggers import TensorBoardLogger\n",
    "\n",
    "print (\"PyTorch Lightning version:\",pl.__version__)\n",
    "    \n",
    "import scipy.sparse as sp\n",
    "from argparse import Namespace\n",
    "\n",
    "import logging\n",
    "logger = logging.getLogger()\n",
    "logger.setLevel(logging.DEBUG)\n",
    "logging.debug(\"Logging enabled at DEBUG level.\")"
   ]
  },
  {
   "cell_type": "code",
   "execution_count": 2,
   "metadata": {},
   "outputs": [],
   "source": [
    "NAME = r'BasicMatrixFactorization' \n",
    "DATA_DIR = r'../_data/eCommerce-cosmetics/'\n",
    "LOG_DIR = r'C:\\TensorLogs'\n",
    "SAVE_PATH = DATA_DIR+r'/'+NAME+r'.pt'\n",
    "TRAIN_DATA_PATH = DATA_DIR+r'uxm_train.npz'\n",
    "VAL_DATA_PATH = DATA_DIR+r'uxm_val.npz'\n",
    "TEST_DATA_PATH = DATA_DIR+r'uxm_test.npz'"
   ]
  },
  {
   "cell_type": "code",
   "execution_count": 3,
   "metadata": {},
   "outputs": [],
   "source": [
    "# Random seeds for reproducibility\n",
    "SEED = 74\n",
    "torch.manual_seed(SEED)\n",
    "torch.backends.cudnn.deterministic = True\n",
    "torch.backends.cudnn.benchmark = False\n",
    "torch.cuda.manual_seed(SEED)"
   ]
  },
  {
   "cell_type": "code",
   "execution_count": 4,
   "metadata": {},
   "outputs": [],
   "source": [
    "class Interactions(Dataset):\n",
    "    \"\"\"\n",
    "    Create interactions matrix.\n",
    "    \"\"\"\n",
    "\n",
    "    def __init__(self, matrix):\n",
    "        self.matrix = matrix\n",
    "        self.n_users = self.matrix.shape[0]\n",
    "        self.n_items = self.matrix.shape[1]\n",
    "\n",
    "    def __getitem__(self, index):\n",
    "        row = self.matrix.row[index]\n",
    "        col = self.matrix.col[index]\n",
    "        val = self.matrix.data[index]\n",
    "        return (row, col), val\n",
    "\n",
    "    def __len__(self):\n",
    "        return self.matrix.nnz\n",
    "    \n",
    "interaction = Interactions"
   ]
  },
  {
   "cell_type": "code",
   "execution_count": 5,
   "metadata": {},
   "outputs": [],
   "source": [
    "class TestingCallbacks(pl.Callback):\n",
    "    def on_test_start(self, trainer, pl_module):\n",
    "        global y_hat \n",
    "        y_hat = sp.dok_matrix((hparams.total_users, hparams.total_items), dtype=np.float32) \n",
    "    def on_test_end(self, trainer, pl_module):\n",
    "        logging.debug(f\"Non-zero values in prediction matrix: {y_hat.nnz:,}\")\n",
    "        sp.save_npz(DATA_DIR+NAME+r'-y_hat.npz',y_hat.tocoo())\n",
    "\n"
   ]
  },
  {
   "cell_type": "code",
   "execution_count": 6,
   "metadata": {},
   "outputs": [],
   "source": [
    "class BasicMatrixFactorization(pl.LightningModule):\n",
    "    def __init__(self, hparams):\n",
    "        super(BasicMatrixFactorization, self).__init__() \n",
    "        self.hparams = hparams\n",
    "        self.user_factors = nn.Embedding(hparams.total_users, hparams.n_factors, sparse=hparams.sparse)\n",
    "        self.item_factors = nn.Embedding(hparams.total_items, hparams.n_factors, sparse=hparams.sparse)\n",
    "        \n",
    "    def forward(self, users, items):            \n",
    "        predictions = (self.user_factors(users) * self.item_factors(items)).sum(dim=1, keepdim=True)\n",
    "        return predictions.squeeze()\n",
    "    \n",
    "    def MSELoss(self, logits, labels):\n",
    "        return nn.functional.mse_loss(logits, labels)\n",
    "    \n",
    "    def training_step(self, train_batch, batch_idx):\n",
    "        x, y = train_batch\n",
    "        row, column = x\n",
    "        row = row.long()\n",
    "        column = column.long()\n",
    "        logits = self.forward(row,column)\n",
    "        loss = self.MSELoss(logits, y)\n",
    "        logs = {'train_loss': loss}\n",
    "        return {'loss': loss, 'log': logs}\n",
    "\n",
    "    def validation_step(self, val_batch, batch_idx):\n",
    "        x, y = val_batch\n",
    "        row, column = x\n",
    "        row = row.long()\n",
    "        column = column.long()\n",
    "        logits = self.forward(row,column)                \n",
    "        loss = self.MSELoss(logits, y)\n",
    "        return {'val_loss': loss}\n",
    "    \n",
    "    def validation_epoch_end(self, outputs):\n",
    "        avg_loss = torch.stack([x['val_loss'] for x in outputs]).mean()\n",
    "        tensorboard_logs = {'val_loss': avg_loss}\n",
    "        return {'avg_val_loss': avg_loss, 'log': tensorboard_logs}\n",
    "    \n",
    "    def test_step(self, test_batch, batch_idx):\n",
    "        x, y = test_batch\n",
    "        row, column = x\n",
    "        row = row.long()\n",
    "        column = column.long()\n",
    "        logits = self.forward(row,column)                \n",
    "        loss = self.MSELoss(logits, y)        \n",
    "       \n",
    "        logits_array = logits.cpu().numpy()\n",
    "        r = row.cpu().numpy()\n",
    "        c = column.cpu().numpy()\n",
    "        for i in range(len(logits_array)):\n",
    "            y_hat[r[i],c[i]]=logits_array[i]      \n",
    "        \n",
    "        return {'test_loss': loss}\n",
    "    \n",
    "    def test_epoch_end(self, outputs):\n",
    "        avg_loss = torch.stack([x['test_loss'] for x in outputs]).mean()\n",
    "        tensorboard_logs = {'MSE': avg_loss}\n",
    "        print(f\"Test Mean Squared Error (MSE): {avg_loss}\")                   \n",
    "        \n",
    "        return {'avg_test_loss': avg_loss, 'log': tensorboard_logs}\n",
    "      \n",
    "    def prepare_data(self):\n",
    "        self.train_dataset = sp.load_npz(TRAIN_DATA_PATH)\n",
    "        self.val_dataset = sp.load_npz(VAL_DATA_PATH)\n",
    "        self.test_dataset = sp.load_npz(TEST_DATA_PATH)\n",
    "        \n",
    "    def train_dataloader(self):\n",
    "        return DataLoader(interaction(self.train_dataset), batch_size=self.hparams.batch_size, shuffle=True)\n",
    "    \n",
    "    def val_dataloader(self):\n",
    "        return DataLoader(interaction(self.val_dataset), batch_size=self.hparams.batch_size, shuffle=True)\n",
    "    \n",
    "    def test_dataloader(self):\n",
    "        return DataLoader(interaction(self.test_dataset), batch_size=self.hparams.batch_size, shuffle=True)\n",
    "    \n",
    "    def configure_optimizers(self):\n",
    "        optimizer = torch.optim.SGD(self.parameters(), lr=self.hparams.learning_rate)\n",
    "        return optimizer"
   ]
  },
  {
   "cell_type": "code",
   "execution_count": 7,
   "metadata": {},
   "outputs": [
    {
     "name": "stderr",
     "output_type": "stream",
     "text": [
      "INFO:root:GPU available: True, used: True\n",
      "INFO:root:VISIBLE GPUS: 0\n",
      "INFO:root:\n",
      "  | Name         | Type      | Params\n",
      "---------------------------------------\n",
      "0 | user_factors | Embedding | 3 M   \n",
      "1 | item_factors | Embedding | 895 K \n"
     ]
    },
    {
     "data": {
      "application/vnd.jupyter.widget-view+json": {
       "model_id": "",
       "version_major": 2,
       "version_minor": 0
      },
      "text/plain": [
       "HBox(children=(FloatProgress(value=0.0, description='Validation sanity check', layout=Layout(flex='2'), max=5.…"
      ]
     },
     "metadata": {},
     "output_type": "display_data"
    },
    {
     "name": "stdout",
     "output_type": "stream",
     "text": [
      "\r"
     ]
    },
    {
     "data": {
      "application/vnd.jupyter.widget-view+json": {
       "model_id": "6e8821721d244b7daecceff93a01e61e",
       "version_major": 2,
       "version_minor": 0
      },
      "text/plain": [
       "HBox(children=(FloatProgress(value=1.0, bar_style='info', layout=Layout(flex='2'), max=1.0), HTML(value='')), …"
      ]
     },
     "metadata": {},
     "output_type": "display_data"
    },
    {
     "data": {
      "application/vnd.jupyter.widget-view+json": {
       "model_id": "",
       "version_major": 2,
       "version_minor": 0
      },
      "text/plain": [
       "HBox(children=(FloatProgress(value=0.0, description='Validating', layout=Layout(flex='2'), max=541.0, style=Pr…"
      ]
     },
     "metadata": {},
     "output_type": "display_data"
    },
    {
     "data": {
      "application/vnd.jupyter.widget-view+json": {
       "model_id": "",
       "version_major": 2,
       "version_minor": 0
      },
      "text/plain": [
       "HBox(children=(FloatProgress(value=0.0, description='Validating', layout=Layout(flex='2'), max=541.0, style=Pr…"
      ]
     },
     "metadata": {},
     "output_type": "display_data"
    },
    {
     "data": {
      "application/vnd.jupyter.widget-view+json": {
       "model_id": "",
       "version_major": 2,
       "version_minor": 0
      },
      "text/plain": [
       "HBox(children=(FloatProgress(value=0.0, description='Validating', layout=Layout(flex='2'), max=541.0, style=Pr…"
      ]
     },
     "metadata": {},
     "output_type": "display_data"
    },
    {
     "data": {
      "application/vnd.jupyter.widget-view+json": {
       "model_id": "",
       "version_major": 2,
       "version_minor": 0
      },
      "text/plain": [
       "HBox(children=(FloatProgress(value=0.0, description='Validating', layout=Layout(flex='2'), max=541.0, style=Pr…"
      ]
     },
     "metadata": {},
     "output_type": "display_data"
    },
    {
     "data": {
      "application/vnd.jupyter.widget-view+json": {
       "model_id": "",
       "version_major": 2,
       "version_minor": 0
      },
      "text/plain": [
       "HBox(children=(FloatProgress(value=0.0, description='Validating', layout=Layout(flex='2'), max=541.0, style=Pr…"
      ]
     },
     "metadata": {},
     "output_type": "display_data"
    },
    {
     "data": {
      "application/vnd.jupyter.widget-view+json": {
       "model_id": "",
       "version_major": 2,
       "version_minor": 0
      },
      "text/plain": [
       "HBox(children=(FloatProgress(value=0.0, description='Validating', layout=Layout(flex='2'), max=541.0, style=Pr…"
      ]
     },
     "metadata": {},
     "output_type": "display_data"
    },
    {
     "data": {
      "application/vnd.jupyter.widget-view+json": {
       "model_id": "",
       "version_major": 2,
       "version_minor": 0
      },
      "text/plain": [
       "HBox(children=(FloatProgress(value=0.0, description='Validating', layout=Layout(flex='2'), max=541.0, style=Pr…"
      ]
     },
     "metadata": {},
     "output_type": "display_data"
    },
    {
     "data": {
      "application/vnd.jupyter.widget-view+json": {
       "model_id": "",
       "version_major": 2,
       "version_minor": 0
      },
      "text/plain": [
       "HBox(children=(FloatProgress(value=0.0, description='Validating', layout=Layout(flex='2'), max=541.0, style=Pr…"
      ]
     },
     "metadata": {},
     "output_type": "display_data"
    },
    {
     "data": {
      "application/vnd.jupyter.widget-view+json": {
       "model_id": "",
       "version_major": 2,
       "version_minor": 0
      },
      "text/plain": [
       "HBox(children=(FloatProgress(value=0.0, description='Validating', layout=Layout(flex='2'), max=541.0, style=Pr…"
      ]
     },
     "metadata": {},
     "output_type": "display_data"
    },
    {
     "data": {
      "application/vnd.jupyter.widget-view+json": {
       "model_id": "",
       "version_major": 2,
       "version_minor": 0
      },
      "text/plain": [
       "HBox(children=(FloatProgress(value=0.0, description='Validating', layout=Layout(flex='2'), max=541.0, style=Pr…"
      ]
     },
     "metadata": {},
     "output_type": "display_data"
    },
    {
     "data": {
      "application/vnd.jupyter.widget-view+json": {
       "model_id": "",
       "version_major": 2,
       "version_minor": 0
      },
      "text/plain": [
       "HBox(children=(FloatProgress(value=0.0, description='Validating', layout=Layout(flex='2'), max=541.0, style=Pr…"
      ]
     },
     "metadata": {},
     "output_type": "display_data"
    },
    {
     "data": {
      "application/vnd.jupyter.widget-view+json": {
       "model_id": "",
       "version_major": 2,
       "version_minor": 0
      },
      "text/plain": [
       "HBox(children=(FloatProgress(value=0.0, description='Validating', layout=Layout(flex='2'), max=541.0, style=Pr…"
      ]
     },
     "metadata": {},
     "output_type": "display_data"
    },
    {
     "data": {
      "application/vnd.jupyter.widget-view+json": {
       "model_id": "",
       "version_major": 2,
       "version_minor": 0
      },
      "text/plain": [
       "HBox(children=(FloatProgress(value=0.0, description='Validating', layout=Layout(flex='2'), max=541.0, style=Pr…"
      ]
     },
     "metadata": {},
     "output_type": "display_data"
    },
    {
     "data": {
      "application/vnd.jupyter.widget-view+json": {
       "model_id": "",
       "version_major": 2,
       "version_minor": 0
      },
      "text/plain": [
       "HBox(children=(FloatProgress(value=0.0, description='Validating', layout=Layout(flex='2'), max=541.0, style=Pr…"
      ]
     },
     "metadata": {},
     "output_type": "display_data"
    },
    {
     "data": {
      "application/vnd.jupyter.widget-view+json": {
       "model_id": "",
       "version_major": 2,
       "version_minor": 0
      },
      "text/plain": [
       "HBox(children=(FloatProgress(value=0.0, description='Validating', layout=Layout(flex='2'), max=541.0, style=Pr…"
      ]
     },
     "metadata": {},
     "output_type": "display_data"
    },
    {
     "data": {
      "application/vnd.jupyter.widget-view+json": {
       "model_id": "",
       "version_major": 2,
       "version_minor": 0
      },
      "text/plain": [
       "HBox(children=(FloatProgress(value=0.0, description='Validating', layout=Layout(flex='2'), max=541.0, style=Pr…"
      ]
     },
     "metadata": {},
     "output_type": "display_data"
    },
    {
     "data": {
      "application/vnd.jupyter.widget-view+json": {
       "model_id": "",
       "version_major": 2,
       "version_minor": 0
      },
      "text/plain": [
       "HBox(children=(FloatProgress(value=0.0, description='Validating', layout=Layout(flex='2'), max=541.0, style=Pr…"
      ]
     },
     "metadata": {},
     "output_type": "display_data"
    },
    {
     "data": {
      "application/vnd.jupyter.widget-view+json": {
       "model_id": "",
       "version_major": 2,
       "version_minor": 0
      },
      "text/plain": [
       "HBox(children=(FloatProgress(value=0.0, description='Validating', layout=Layout(flex='2'), max=541.0, style=Pr…"
      ]
     },
     "metadata": {},
     "output_type": "display_data"
    },
    {
     "data": {
      "application/vnd.jupyter.widget-view+json": {
       "model_id": "",
       "version_major": 2,
       "version_minor": 0
      },
      "text/plain": [
       "HBox(children=(FloatProgress(value=0.0, description='Validating', layout=Layout(flex='2'), max=541.0, style=Pr…"
      ]
     },
     "metadata": {},
     "output_type": "display_data"
    },
    {
     "data": {
      "application/vnd.jupyter.widget-view+json": {
       "model_id": "",
       "version_major": 2,
       "version_minor": 0
      },
      "text/plain": [
       "HBox(children=(FloatProgress(value=0.0, description='Validating', layout=Layout(flex='2'), max=541.0, style=Pr…"
      ]
     },
     "metadata": {},
     "output_type": "display_data"
    },
    {
     "data": {
      "application/vnd.jupyter.widget-view+json": {
       "model_id": "",
       "version_major": 2,
       "version_minor": 0
      },
      "text/plain": [
       "HBox(children=(FloatProgress(value=0.0, description='Validating', layout=Layout(flex='2'), max=541.0, style=Pr…"
      ]
     },
     "metadata": {},
     "output_type": "display_data"
    },
    {
     "data": {
      "application/vnd.jupyter.widget-view+json": {
       "model_id": "",
       "version_major": 2,
       "version_minor": 0
      },
      "text/plain": [
       "HBox(children=(FloatProgress(value=0.0, description='Validating', layout=Layout(flex='2'), max=541.0, style=Pr…"
      ]
     },
     "metadata": {},
     "output_type": "display_data"
    },
    {
     "data": {
      "application/vnd.jupyter.widget-view+json": {
       "model_id": "",
       "version_major": 2,
       "version_minor": 0
      },
      "text/plain": [
       "HBox(children=(FloatProgress(value=0.0, description='Validating', layout=Layout(flex='2'), max=541.0, style=Pr…"
      ]
     },
     "metadata": {},
     "output_type": "display_data"
    },
    {
     "data": {
      "application/vnd.jupyter.widget-view+json": {
       "model_id": "",
       "version_major": 2,
       "version_minor": 0
      },
      "text/plain": [
       "HBox(children=(FloatProgress(value=0.0, description='Validating', layout=Layout(flex='2'), max=541.0, style=Pr…"
      ]
     },
     "metadata": {},
     "output_type": "display_data"
    },
    {
     "data": {
      "application/vnd.jupyter.widget-view+json": {
       "model_id": "",
       "version_major": 2,
       "version_minor": 0
      },
      "text/plain": [
       "HBox(children=(FloatProgress(value=0.0, description='Validating', layout=Layout(flex='2'), max=541.0, style=Pr…"
      ]
     },
     "metadata": {},
     "output_type": "display_data"
    },
    {
     "data": {
      "application/vnd.jupyter.widget-view+json": {
       "model_id": "",
       "version_major": 2,
       "version_minor": 0
      },
      "text/plain": [
       "HBox(children=(FloatProgress(value=0.0, description='Validating', layout=Layout(flex='2'), max=541.0, style=Pr…"
      ]
     },
     "metadata": {},
     "output_type": "display_data"
    },
    {
     "data": {
      "application/vnd.jupyter.widget-view+json": {
       "model_id": "",
       "version_major": 2,
       "version_minor": 0
      },
      "text/plain": [
       "HBox(children=(FloatProgress(value=0.0, description='Validating', layout=Layout(flex='2'), max=541.0, style=Pr…"
      ]
     },
     "metadata": {},
     "output_type": "display_data"
    },
    {
     "data": {
      "application/vnd.jupyter.widget-view+json": {
       "model_id": "",
       "version_major": 2,
       "version_minor": 0
      },
      "text/plain": [
       "HBox(children=(FloatProgress(value=0.0, description='Validating', layout=Layout(flex='2'), max=541.0, style=Pr…"
      ]
     },
     "metadata": {},
     "output_type": "display_data"
    },
    {
     "data": {
      "application/vnd.jupyter.widget-view+json": {
       "model_id": "",
       "version_major": 2,
       "version_minor": 0
      },
      "text/plain": [
       "HBox(children=(FloatProgress(value=0.0, description='Validating', layout=Layout(flex='2'), max=541.0, style=Pr…"
      ]
     },
     "metadata": {},
     "output_type": "display_data"
    },
    {
     "data": {
      "application/vnd.jupyter.widget-view+json": {
       "model_id": "",
       "version_major": 2,
       "version_minor": 0
      },
      "text/plain": [
       "HBox(children=(FloatProgress(value=0.0, description='Validating', layout=Layout(flex='2'), max=541.0, style=Pr…"
      ]
     },
     "metadata": {},
     "output_type": "display_data"
    },
    {
     "data": {
      "application/vnd.jupyter.widget-view+json": {
       "model_id": "",
       "version_major": 2,
       "version_minor": 0
      },
      "text/plain": [
       "HBox(children=(FloatProgress(value=0.0, description='Validating', layout=Layout(flex='2'), max=541.0, style=Pr…"
      ]
     },
     "metadata": {},
     "output_type": "display_data"
    },
    {
     "data": {
      "application/vnd.jupyter.widget-view+json": {
       "model_id": "",
       "version_major": 2,
       "version_minor": 0
      },
      "text/plain": [
       "HBox(children=(FloatProgress(value=0.0, description='Validating', layout=Layout(flex='2'), max=541.0, style=Pr…"
      ]
     },
     "metadata": {},
     "output_type": "display_data"
    },
    {
     "data": {
      "application/vnd.jupyter.widget-view+json": {
       "model_id": "",
       "version_major": 2,
       "version_minor": 0
      },
      "text/plain": [
       "HBox(children=(FloatProgress(value=0.0, description='Validating', layout=Layout(flex='2'), max=541.0, style=Pr…"
      ]
     },
     "metadata": {},
     "output_type": "display_data"
    },
    {
     "data": {
      "application/vnd.jupyter.widget-view+json": {
       "model_id": "",
       "version_major": 2,
       "version_minor": 0
      },
      "text/plain": [
       "HBox(children=(FloatProgress(value=0.0, description='Validating', layout=Layout(flex='2'), max=541.0, style=Pr…"
      ]
     },
     "metadata": {},
     "output_type": "display_data"
    },
    {
     "data": {
      "application/vnd.jupyter.widget-view+json": {
       "model_id": "",
       "version_major": 2,
       "version_minor": 0
      },
      "text/plain": [
       "HBox(children=(FloatProgress(value=0.0, description='Validating', layout=Layout(flex='2'), max=541.0, style=Pr…"
      ]
     },
     "metadata": {},
     "output_type": "display_data"
    },
    {
     "data": {
      "application/vnd.jupyter.widget-view+json": {
       "model_id": "",
       "version_major": 2,
       "version_minor": 0
      },
      "text/plain": [
       "HBox(children=(FloatProgress(value=0.0, description='Validating', layout=Layout(flex='2'), max=541.0, style=Pr…"
      ]
     },
     "metadata": {},
     "output_type": "display_data"
    },
    {
     "data": {
      "application/vnd.jupyter.widget-view+json": {
       "model_id": "",
       "version_major": 2,
       "version_minor": 0
      },
      "text/plain": [
       "HBox(children=(FloatProgress(value=0.0, description='Validating', layout=Layout(flex='2'), max=541.0, style=Pr…"
      ]
     },
     "metadata": {},
     "output_type": "display_data"
    },
    {
     "data": {
      "application/vnd.jupyter.widget-view+json": {
       "model_id": "",
       "version_major": 2,
       "version_minor": 0
      },
      "text/plain": [
       "HBox(children=(FloatProgress(value=0.0, description='Validating', layout=Layout(flex='2'), max=541.0, style=Pr…"
      ]
     },
     "metadata": {},
     "output_type": "display_data"
    },
    {
     "data": {
      "application/vnd.jupyter.widget-view+json": {
       "model_id": "",
       "version_major": 2,
       "version_minor": 0
      },
      "text/plain": [
       "HBox(children=(FloatProgress(value=0.0, description='Validating', layout=Layout(flex='2'), max=541.0, style=Pr…"
      ]
     },
     "metadata": {},
     "output_type": "display_data"
    },
    {
     "data": {
      "application/vnd.jupyter.widget-view+json": {
       "model_id": "",
       "version_major": 2,
       "version_minor": 0
      },
      "text/plain": [
       "HBox(children=(FloatProgress(value=0.0, description='Validating', layout=Layout(flex='2'), max=541.0, style=Pr…"
      ]
     },
     "metadata": {},
     "output_type": "display_data"
    },
    {
     "data": {
      "application/vnd.jupyter.widget-view+json": {
       "model_id": "",
       "version_major": 2,
       "version_minor": 0
      },
      "text/plain": [
       "HBox(children=(FloatProgress(value=0.0, description='Validating', layout=Layout(flex='2'), max=541.0, style=Pr…"
      ]
     },
     "metadata": {},
     "output_type": "display_data"
    },
    {
     "data": {
      "application/vnd.jupyter.widget-view+json": {
       "model_id": "",
       "version_major": 2,
       "version_minor": 0
      },
      "text/plain": [
       "HBox(children=(FloatProgress(value=0.0, description='Validating', layout=Layout(flex='2'), max=541.0, style=Pr…"
      ]
     },
     "metadata": {},
     "output_type": "display_data"
    },
    {
     "data": {
      "application/vnd.jupyter.widget-view+json": {
       "model_id": "",
       "version_major": 2,
       "version_minor": 0
      },
      "text/plain": [
       "HBox(children=(FloatProgress(value=0.0, description='Validating', layout=Layout(flex='2'), max=541.0, style=Pr…"
      ]
     },
     "metadata": {},
     "output_type": "display_data"
    },
    {
     "data": {
      "application/vnd.jupyter.widget-view+json": {
       "model_id": "",
       "version_major": 2,
       "version_minor": 0
      },
      "text/plain": [
       "HBox(children=(FloatProgress(value=0.0, description='Validating', layout=Layout(flex='2'), max=541.0, style=Pr…"
      ]
     },
     "metadata": {},
     "output_type": "display_data"
    },
    {
     "data": {
      "application/vnd.jupyter.widget-view+json": {
       "model_id": "",
       "version_major": 2,
       "version_minor": 0
      },
      "text/plain": [
       "HBox(children=(FloatProgress(value=0.0, description='Validating', layout=Layout(flex='2'), max=541.0, style=Pr…"
      ]
     },
     "metadata": {},
     "output_type": "display_data"
    },
    {
     "data": {
      "application/vnd.jupyter.widget-view+json": {
       "model_id": "",
       "version_major": 2,
       "version_minor": 0
      },
      "text/plain": [
       "HBox(children=(FloatProgress(value=0.0, description='Validating', layout=Layout(flex='2'), max=541.0, style=Pr…"
      ]
     },
     "metadata": {},
     "output_type": "display_data"
    },
    {
     "data": {
      "application/vnd.jupyter.widget-view+json": {
       "model_id": "",
       "version_major": 2,
       "version_minor": 0
      },
      "text/plain": [
       "HBox(children=(FloatProgress(value=0.0, description='Validating', layout=Layout(flex='2'), max=541.0, style=Pr…"
      ]
     },
     "metadata": {},
     "output_type": "display_data"
    },
    {
     "data": {
      "application/vnd.jupyter.widget-view+json": {
       "model_id": "",
       "version_major": 2,
       "version_minor": 0
      },
      "text/plain": [
       "HBox(children=(FloatProgress(value=0.0, description='Validating', layout=Layout(flex='2'), max=541.0, style=Pr…"
      ]
     },
     "metadata": {},
     "output_type": "display_data"
    },
    {
     "data": {
      "application/vnd.jupyter.widget-view+json": {
       "model_id": "",
       "version_major": 2,
       "version_minor": 0
      },
      "text/plain": [
       "HBox(children=(FloatProgress(value=0.0, description='Validating', layout=Layout(flex='2'), max=541.0, style=Pr…"
      ]
     },
     "metadata": {},
     "output_type": "display_data"
    },
    {
     "data": {
      "application/vnd.jupyter.widget-view+json": {
       "model_id": "",
       "version_major": 2,
       "version_minor": 0
      },
      "text/plain": [
       "HBox(children=(FloatProgress(value=0.0, description='Validating', layout=Layout(flex='2'), max=541.0, style=Pr…"
      ]
     },
     "metadata": {},
     "output_type": "display_data"
    },
    {
     "data": {
      "application/vnd.jupyter.widget-view+json": {
       "model_id": "",
       "version_major": 2,
       "version_minor": 0
      },
      "text/plain": [
       "HBox(children=(FloatProgress(value=0.0, description='Validating', layout=Layout(flex='2'), max=541.0, style=Pr…"
      ]
     },
     "metadata": {},
     "output_type": "display_data"
    },
    {
     "data": {
      "application/vnd.jupyter.widget-view+json": {
       "model_id": "",
       "version_major": 2,
       "version_minor": 0
      },
      "text/plain": [
       "HBox(children=(FloatProgress(value=0.0, description='Validating', layout=Layout(flex='2'), max=541.0, style=Pr…"
      ]
     },
     "metadata": {},
     "output_type": "display_data"
    },
    {
     "data": {
      "application/vnd.jupyter.widget-view+json": {
       "model_id": "",
       "version_major": 2,
       "version_minor": 0
      },
      "text/plain": [
       "HBox(children=(FloatProgress(value=0.0, description='Validating', layout=Layout(flex='2'), max=541.0, style=Pr…"
      ]
     },
     "metadata": {},
     "output_type": "display_data"
    },
    {
     "data": {
      "application/vnd.jupyter.widget-view+json": {
       "model_id": "",
       "version_major": 2,
       "version_minor": 0
      },
      "text/plain": [
       "HBox(children=(FloatProgress(value=0.0, description='Validating', layout=Layout(flex='2'), max=541.0, style=Pr…"
      ]
     },
     "metadata": {},
     "output_type": "display_data"
    },
    {
     "data": {
      "application/vnd.jupyter.widget-view+json": {
       "model_id": "",
       "version_major": 2,
       "version_minor": 0
      },
      "text/plain": [
       "HBox(children=(FloatProgress(value=0.0, description='Validating', layout=Layout(flex='2'), max=541.0, style=Pr…"
      ]
     },
     "metadata": {},
     "output_type": "display_data"
    },
    {
     "data": {
      "application/vnd.jupyter.widget-view+json": {
       "model_id": "",
       "version_major": 2,
       "version_minor": 0
      },
      "text/plain": [
       "HBox(children=(FloatProgress(value=0.0, description='Validating', layout=Layout(flex='2'), max=541.0, style=Pr…"
      ]
     },
     "metadata": {},
     "output_type": "display_data"
    },
    {
     "data": {
      "application/vnd.jupyter.widget-view+json": {
       "model_id": "",
       "version_major": 2,
       "version_minor": 0
      },
      "text/plain": [
       "HBox(children=(FloatProgress(value=0.0, description='Validating', layout=Layout(flex='2'), max=541.0, style=Pr…"
      ]
     },
     "metadata": {},
     "output_type": "display_data"
    },
    {
     "data": {
      "application/vnd.jupyter.widget-view+json": {
       "model_id": "",
       "version_major": 2,
       "version_minor": 0
      },
      "text/plain": [
       "HBox(children=(FloatProgress(value=0.0, description='Validating', layout=Layout(flex='2'), max=541.0, style=Pr…"
      ]
     },
     "metadata": {},
     "output_type": "display_data"
    },
    {
     "data": {
      "application/vnd.jupyter.widget-view+json": {
       "model_id": "",
       "version_major": 2,
       "version_minor": 0
      },
      "text/plain": [
       "HBox(children=(FloatProgress(value=0.0, description='Validating', layout=Layout(flex='2'), max=541.0, style=Pr…"
      ]
     },
     "metadata": {},
     "output_type": "display_data"
    },
    {
     "data": {
      "application/vnd.jupyter.widget-view+json": {
       "model_id": "",
       "version_major": 2,
       "version_minor": 0
      },
      "text/plain": [
       "HBox(children=(FloatProgress(value=0.0, description='Validating', layout=Layout(flex='2'), max=541.0, style=Pr…"
      ]
     },
     "metadata": {},
     "output_type": "display_data"
    },
    {
     "data": {
      "application/vnd.jupyter.widget-view+json": {
       "model_id": "",
       "version_major": 2,
       "version_minor": 0
      },
      "text/plain": [
       "HBox(children=(FloatProgress(value=0.0, description='Validating', layout=Layout(flex='2'), max=541.0, style=Pr…"
      ]
     },
     "metadata": {},
     "output_type": "display_data"
    },
    {
     "data": {
      "application/vnd.jupyter.widget-view+json": {
       "model_id": "",
       "version_major": 2,
       "version_minor": 0
      },
      "text/plain": [
       "HBox(children=(FloatProgress(value=0.0, description='Validating', layout=Layout(flex='2'), max=541.0, style=Pr…"
      ]
     },
     "metadata": {},
     "output_type": "display_data"
    },
    {
     "data": {
      "application/vnd.jupyter.widget-view+json": {
       "model_id": "",
       "version_major": 2,
       "version_minor": 0
      },
      "text/plain": [
       "HBox(children=(FloatProgress(value=0.0, description='Validating', layout=Layout(flex='2'), max=541.0, style=Pr…"
      ]
     },
     "metadata": {},
     "output_type": "display_data"
    },
    {
     "data": {
      "application/vnd.jupyter.widget-view+json": {
       "model_id": "",
       "version_major": 2,
       "version_minor": 0
      },
      "text/plain": [
       "HBox(children=(FloatProgress(value=0.0, description='Validating', layout=Layout(flex='2'), max=541.0, style=Pr…"
      ]
     },
     "metadata": {},
     "output_type": "display_data"
    },
    {
     "data": {
      "application/vnd.jupyter.widget-view+json": {
       "model_id": "",
       "version_major": 2,
       "version_minor": 0
      },
      "text/plain": [
       "HBox(children=(FloatProgress(value=0.0, description='Validating', layout=Layout(flex='2'), max=541.0, style=Pr…"
      ]
     },
     "metadata": {},
     "output_type": "display_data"
    },
    {
     "data": {
      "application/vnd.jupyter.widget-view+json": {
       "model_id": "",
       "version_major": 2,
       "version_minor": 0
      },
      "text/plain": [
       "HBox(children=(FloatProgress(value=0.0, description='Validating', layout=Layout(flex='2'), max=541.0, style=Pr…"
      ]
     },
     "metadata": {},
     "output_type": "display_data"
    },
    {
     "data": {
      "application/vnd.jupyter.widget-view+json": {
       "model_id": "",
       "version_major": 2,
       "version_minor": 0
      },
      "text/plain": [
       "HBox(children=(FloatProgress(value=0.0, description='Validating', layout=Layout(flex='2'), max=541.0, style=Pr…"
      ]
     },
     "metadata": {},
     "output_type": "display_data"
    },
    {
     "data": {
      "application/vnd.jupyter.widget-view+json": {
       "model_id": "",
       "version_major": 2,
       "version_minor": 0
      },
      "text/plain": [
       "HBox(children=(FloatProgress(value=0.0, description='Validating', layout=Layout(flex='2'), max=541.0, style=Pr…"
      ]
     },
     "metadata": {},
     "output_type": "display_data"
    },
    {
     "data": {
      "application/vnd.jupyter.widget-view+json": {
       "model_id": "",
       "version_major": 2,
       "version_minor": 0
      },
      "text/plain": [
       "HBox(children=(FloatProgress(value=0.0, description='Validating', layout=Layout(flex='2'), max=541.0, style=Pr…"
      ]
     },
     "metadata": {},
     "output_type": "display_data"
    },
    {
     "data": {
      "application/vnd.jupyter.widget-view+json": {
       "model_id": "",
       "version_major": 2,
       "version_minor": 0
      },
      "text/plain": [
       "HBox(children=(FloatProgress(value=0.0, description='Validating', layout=Layout(flex='2'), max=541.0, style=Pr…"
      ]
     },
     "metadata": {},
     "output_type": "display_data"
    },
    {
     "data": {
      "application/vnd.jupyter.widget-view+json": {
       "model_id": "",
       "version_major": 2,
       "version_minor": 0
      },
      "text/plain": [
       "HBox(children=(FloatProgress(value=0.0, description='Validating', layout=Layout(flex='2'), max=541.0, style=Pr…"
      ]
     },
     "metadata": {},
     "output_type": "display_data"
    },
    {
     "data": {
      "application/vnd.jupyter.widget-view+json": {
       "model_id": "",
       "version_major": 2,
       "version_minor": 0
      },
      "text/plain": [
       "HBox(children=(FloatProgress(value=0.0, description='Validating', layout=Layout(flex='2'), max=541.0, style=Pr…"
      ]
     },
     "metadata": {},
     "output_type": "display_data"
    },
    {
     "data": {
      "application/vnd.jupyter.widget-view+json": {
       "model_id": "",
       "version_major": 2,
       "version_minor": 0
      },
      "text/plain": [
       "HBox(children=(FloatProgress(value=0.0, description='Validating', layout=Layout(flex='2'), max=541.0, style=Pr…"
      ]
     },
     "metadata": {},
     "output_type": "display_data"
    },
    {
     "data": {
      "application/vnd.jupyter.widget-view+json": {
       "model_id": "",
       "version_major": 2,
       "version_minor": 0
      },
      "text/plain": [
       "HBox(children=(FloatProgress(value=0.0, description='Validating', layout=Layout(flex='2'), max=541.0, style=Pr…"
      ]
     },
     "metadata": {},
     "output_type": "display_data"
    },
    {
     "data": {
      "application/vnd.jupyter.widget-view+json": {
       "model_id": "",
       "version_major": 2,
       "version_minor": 0
      },
      "text/plain": [
       "HBox(children=(FloatProgress(value=0.0, description='Validating', layout=Layout(flex='2'), max=541.0, style=Pr…"
      ]
     },
     "metadata": {},
     "output_type": "display_data"
    },
    {
     "data": {
      "application/vnd.jupyter.widget-view+json": {
       "model_id": "",
       "version_major": 2,
       "version_minor": 0
      },
      "text/plain": [
       "HBox(children=(FloatProgress(value=0.0, description='Validating', layout=Layout(flex='2'), max=541.0, style=Pr…"
      ]
     },
     "metadata": {},
     "output_type": "display_data"
    },
    {
     "data": {
      "application/vnd.jupyter.widget-view+json": {
       "model_id": "",
       "version_major": 2,
       "version_minor": 0
      },
      "text/plain": [
       "HBox(children=(FloatProgress(value=0.0, description='Validating', layout=Layout(flex='2'), max=541.0, style=Pr…"
      ]
     },
     "metadata": {},
     "output_type": "display_data"
    },
    {
     "data": {
      "application/vnd.jupyter.widget-view+json": {
       "model_id": "",
       "version_major": 2,
       "version_minor": 0
      },
      "text/plain": [
       "HBox(children=(FloatProgress(value=0.0, description='Validating', layout=Layout(flex='2'), max=541.0, style=Pr…"
      ]
     },
     "metadata": {},
     "output_type": "display_data"
    },
    {
     "data": {
      "application/vnd.jupyter.widget-view+json": {
       "model_id": "",
       "version_major": 2,
       "version_minor": 0
      },
      "text/plain": [
       "HBox(children=(FloatProgress(value=0.0, description='Validating', layout=Layout(flex='2'), max=541.0, style=Pr…"
      ]
     },
     "metadata": {},
     "output_type": "display_data"
    },
    {
     "data": {
      "application/vnd.jupyter.widget-view+json": {
       "model_id": "",
       "version_major": 2,
       "version_minor": 0
      },
      "text/plain": [
       "HBox(children=(FloatProgress(value=0.0, description='Validating', layout=Layout(flex='2'), max=541.0, style=Pr…"
      ]
     },
     "metadata": {},
     "output_type": "display_data"
    },
    {
     "data": {
      "application/vnd.jupyter.widget-view+json": {
       "model_id": "",
       "version_major": 2,
       "version_minor": 0
      },
      "text/plain": [
       "HBox(children=(FloatProgress(value=0.0, description='Validating', layout=Layout(flex='2'), max=541.0, style=Pr…"
      ]
     },
     "metadata": {},
     "output_type": "display_data"
    },
    {
     "data": {
      "application/vnd.jupyter.widget-view+json": {
       "model_id": "",
       "version_major": 2,
       "version_minor": 0
      },
      "text/plain": [
       "HBox(children=(FloatProgress(value=0.0, description='Validating', layout=Layout(flex='2'), max=541.0, style=Pr…"
      ]
     },
     "metadata": {},
     "output_type": "display_data"
    },
    {
     "data": {
      "application/vnd.jupyter.widget-view+json": {
       "model_id": "",
       "version_major": 2,
       "version_minor": 0
      },
      "text/plain": [
       "HBox(children=(FloatProgress(value=0.0, description='Validating', layout=Layout(flex='2'), max=541.0, style=Pr…"
      ]
     },
     "metadata": {},
     "output_type": "display_data"
    },
    {
     "data": {
      "application/vnd.jupyter.widget-view+json": {
       "model_id": "",
       "version_major": 2,
       "version_minor": 0
      },
      "text/plain": [
       "HBox(children=(FloatProgress(value=0.0, description='Validating', layout=Layout(flex='2'), max=541.0, style=Pr…"
      ]
     },
     "metadata": {},
     "output_type": "display_data"
    },
    {
     "data": {
      "application/vnd.jupyter.widget-view+json": {
       "model_id": "",
       "version_major": 2,
       "version_minor": 0
      },
      "text/plain": [
       "HBox(children=(FloatProgress(value=0.0, description='Validating', layout=Layout(flex='2'), max=541.0, style=Pr…"
      ]
     },
     "metadata": {},
     "output_type": "display_data"
    },
    {
     "data": {
      "application/vnd.jupyter.widget-view+json": {
       "model_id": "",
       "version_major": 2,
       "version_minor": 0
      },
      "text/plain": [
       "HBox(children=(FloatProgress(value=0.0, description='Validating', layout=Layout(flex='2'), max=541.0, style=Pr…"
      ]
     },
     "metadata": {},
     "output_type": "display_data"
    },
    {
     "data": {
      "application/vnd.jupyter.widget-view+json": {
       "model_id": "",
       "version_major": 2,
       "version_minor": 0
      },
      "text/plain": [
       "HBox(children=(FloatProgress(value=0.0, description='Validating', layout=Layout(flex='2'), max=541.0, style=Pr…"
      ]
     },
     "metadata": {},
     "output_type": "display_data"
    },
    {
     "data": {
      "application/vnd.jupyter.widget-view+json": {
       "model_id": "",
       "version_major": 2,
       "version_minor": 0
      },
      "text/plain": [
       "HBox(children=(FloatProgress(value=0.0, description='Validating', layout=Layout(flex='2'), max=541.0, style=Pr…"
      ]
     },
     "metadata": {},
     "output_type": "display_data"
    },
    {
     "data": {
      "application/vnd.jupyter.widget-view+json": {
       "model_id": "",
       "version_major": 2,
       "version_minor": 0
      },
      "text/plain": [
       "HBox(children=(FloatProgress(value=0.0, description='Validating', layout=Layout(flex='2'), max=541.0, style=Pr…"
      ]
     },
     "metadata": {},
     "output_type": "display_data"
    },
    {
     "data": {
      "application/vnd.jupyter.widget-view+json": {
       "model_id": "",
       "version_major": 2,
       "version_minor": 0
      },
      "text/plain": [
       "HBox(children=(FloatProgress(value=0.0, description='Validating', layout=Layout(flex='2'), max=541.0, style=Pr…"
      ]
     },
     "metadata": {},
     "output_type": "display_data"
    },
    {
     "data": {
      "application/vnd.jupyter.widget-view+json": {
       "model_id": "",
       "version_major": 2,
       "version_minor": 0
      },
      "text/plain": [
       "HBox(children=(FloatProgress(value=0.0, description='Validating', layout=Layout(flex='2'), max=541.0, style=Pr…"
      ]
     },
     "metadata": {},
     "output_type": "display_data"
    },
    {
     "data": {
      "application/vnd.jupyter.widget-view+json": {
       "model_id": "",
       "version_major": 2,
       "version_minor": 0
      },
      "text/plain": [
       "HBox(children=(FloatProgress(value=0.0, description='Validating', layout=Layout(flex='2'), max=541.0, style=Pr…"
      ]
     },
     "metadata": {},
     "output_type": "display_data"
    },
    {
     "data": {
      "application/vnd.jupyter.widget-view+json": {
       "model_id": "",
       "version_major": 2,
       "version_minor": 0
      },
      "text/plain": [
       "HBox(children=(FloatProgress(value=0.0, description='Validating', layout=Layout(flex='2'), max=541.0, style=Pr…"
      ]
     },
     "metadata": {},
     "output_type": "display_data"
    },
    {
     "data": {
      "application/vnd.jupyter.widget-view+json": {
       "model_id": "",
       "version_major": 2,
       "version_minor": 0
      },
      "text/plain": [
       "HBox(children=(FloatProgress(value=0.0, description='Validating', layout=Layout(flex='2'), max=541.0, style=Pr…"
      ]
     },
     "metadata": {},
     "output_type": "display_data"
    },
    {
     "data": {
      "application/vnd.jupyter.widget-view+json": {
       "model_id": "",
       "version_major": 2,
       "version_minor": 0
      },
      "text/plain": [
       "HBox(children=(FloatProgress(value=0.0, description='Validating', layout=Layout(flex='2'), max=541.0, style=Pr…"
      ]
     },
     "metadata": {},
     "output_type": "display_data"
    },
    {
     "data": {
      "application/vnd.jupyter.widget-view+json": {
       "model_id": "",
       "version_major": 2,
       "version_minor": 0
      },
      "text/plain": [
       "HBox(children=(FloatProgress(value=0.0, description='Validating', layout=Layout(flex='2'), max=541.0, style=Pr…"
      ]
     },
     "metadata": {},
     "output_type": "display_data"
    },
    {
     "data": {
      "application/vnd.jupyter.widget-view+json": {
       "model_id": "",
       "version_major": 2,
       "version_minor": 0
      },
      "text/plain": [
       "HBox(children=(FloatProgress(value=0.0, description='Validating', layout=Layout(flex='2'), max=541.0, style=Pr…"
      ]
     },
     "metadata": {},
     "output_type": "display_data"
    },
    {
     "data": {
      "application/vnd.jupyter.widget-view+json": {
       "model_id": "",
       "version_major": 2,
       "version_minor": 0
      },
      "text/plain": [
       "HBox(children=(FloatProgress(value=0.0, description='Validating', layout=Layout(flex='2'), max=541.0, style=Pr…"
      ]
     },
     "metadata": {},
     "output_type": "display_data"
    },
    {
     "data": {
      "application/vnd.jupyter.widget-view+json": {
       "model_id": "",
       "version_major": 2,
       "version_minor": 0
      },
      "text/plain": [
       "HBox(children=(FloatProgress(value=0.0, description='Validating', layout=Layout(flex='2'), max=541.0, style=Pr…"
      ]
     },
     "metadata": {},
     "output_type": "display_data"
    },
    {
     "data": {
      "application/vnd.jupyter.widget-view+json": {
       "model_id": "",
       "version_major": 2,
       "version_minor": 0
      },
      "text/plain": [
       "HBox(children=(FloatProgress(value=0.0, description='Validating', layout=Layout(flex='2'), max=541.0, style=Pr…"
      ]
     },
     "metadata": {},
     "output_type": "display_data"
    },
    {
     "name": "stdout",
     "output_type": "stream",
     "text": [
      "\n"
     ]
    },
    {
     "name": "stderr",
     "output_type": "stream",
     "text": [
      "INFO:root:\n",
      "\n",
      "Profiler Report\n",
      "\n",
      "Action              \t|  Mean duration (s)\t|  Total time (s) \n",
      "-----------------------------------------------------------------\n",
      "on_train_start      \t|  0.0            \t|  0.0            \n",
      "on_epoch_start      \t|  0.0            \t|  0.0            \n",
      "get_train_batch     \t|  0.0021694      \t|  547.34         \n",
      "on_batch_start      \t|  5.7851e-06     \t|  1.459          \n",
      "model_forward       \t|  0.00049457     \t|  124.73         \n",
      "model_backward      \t|  0.00055984     \t|  141.19         \n",
      "on_after_backward   \t|  1.6019e-06     \t|  0.404          \n",
      "optimizer_step      \t|  0.00020811     \t|  52.485         \n",
      "on_batch_end        \t|  6.6059e-06     \t|  1.666          \n",
      "on_epoch_end        \t|  0.0            \t|  0.0            \n",
      "on_train_end        \t|  0.0            \t|  0.0            \n",
      "\n"
     ]
    },
    {
     "data": {
      "text/plain": [
       "1"
      ]
     },
     "execution_count": 7,
     "metadata": {},
     "output_type": "execute_result"
    }
   ],
   "source": [
    "hparams = Namespace(**{\n",
    "    'batch_size': 1024,\n",
    "    'learning_rate': 0.02,\n",
    "    'n_factors': 20,\n",
    "    'sparse': True,\n",
    "    'total_users': 177592,\n",
    "    'total_items': 44780\n",
    "})\n",
    "\n",
    "logger = TensorBoardLogger(LOG_DIR, name=NAME)\n",
    "model = BasicMatrixFactorization(hparams)\n",
    "trainer = pl.Trainer(max_epochs=100,\n",
    "                     benchmark=True,\n",
    "                     profiler=True,\n",
    "                     logger=logger,\n",
    "                     gpus=1,\n",
    "                     fast_dev_run=False,\n",
    "                     callbacks=[TestingCallbacks()])                \n",
    "trainer.fit(model)"
   ]
  },
  {
   "cell_type": "code",
   "execution_count": 8,
   "metadata": {},
   "outputs": [
    {
     "data": {
      "application/vnd.jupyter.widget-view+json": {
       "model_id": "a57d6aed45244a798229839c08e37072",
       "version_major": 2,
       "version_minor": 0
      },
      "text/plain": [
       "HBox(children=(FloatProgress(value=0.0, description='Testing', layout=Layout(flex='2'), max=540.0, style=Progr…"
      ]
     },
     "metadata": {},
     "output_type": "display_data"
    },
    {
     "name": "stderr",
     "output_type": "stream",
     "text": [
      "DEBUG:root:Non-zero values in prediction matrix: 552,255\n"
     ]
    },
    {
     "name": "stdout",
     "output_type": "stream",
     "text": [
      "Test Mean Squared Error (MSE): 6.320509433746338\n",
      "----------------------------------------------------------------------------------------------------\n",
      "TEST RESULTS\n",
      "{}\n",
      "----------------------------------------------------------------------------------------------------\n",
      "\n"
     ]
    }
   ],
   "source": [
    "trainer.test()"
   ]
  },
  {
   "cell_type": "code",
   "execution_count": 9,
   "metadata": {},
   "outputs": [],
   "source": [
    "# torch.save(model.state_dict(), SAVE_PATH)"
   ]
  },
  {
   "cell_type": "code",
   "execution_count": 10,
   "metadata": {},
   "outputs": [],
   "source": [
    "# loaded_model = BasicMatrixFactorization(hparams)\n",
    "# loaded_model.load_state_dict(torch.load(SAVE_PATH))\n",
    "# loaded_model.eval()\n",
    "# print(\"Model's state_dict:\")\n",
    "# for param_tensor in loaded_model.state_dict():\n",
    "#     print(param_tensor, \"\\t\", loaded_model.state_dict()[param_tensor].size())"
   ]
  },
  {
   "cell_type": "code",
   "execution_count": 11,
   "metadata": {},
   "outputs": [],
   "source": [
    "# loaded_model.state_dict()['user_factors.weight']"
   ]
  },
  {
   "cell_type": "code",
   "execution_count": 12,
   "metadata": {},
   "outputs": [],
   "source": [
    "# loaded_model.state_dict()['item_factors.weight']"
   ]
  },
  {
   "cell_type": "code",
   "execution_count": null,
   "metadata": {},
   "outputs": [],
   "source": []
  }
 ],
 "metadata": {
  "kernelspec": {
   "display_name": "Python 3",
   "language": "python",
   "name": "python3"
  },
  "language_info": {
   "codemirror_mode": {
    "name": "ipython",
    "version": 3
   },
   "file_extension": ".py",
   "mimetype": "text/x-python",
   "name": "python",
   "nbconvert_exporter": "python",
   "pygments_lexer": "ipython3",
   "version": "3.7.7"
  },
  "widgets": {
   "application/vnd.jupyter.widget-state+json": {
    "state": {
     "00bd644b832744ddb3af0000229fe9eb": {
      "model_module": "@jupyter-widgets/base",
      "model_module_version": "1.2.0",
      "model_name": "LayoutModel",
      "state": {
       "flex": "2"
      }
     },
     "010a53141bd94962973bdb41a89aa6b8": {
      "model_module": "@jupyter-widgets/base",
      "model_module_version": "1.2.0",
      "model_name": "LayoutModel",
      "state": {}
     },
     "01727e8a72af41be92ebca457ebe484b": {
      "model_module": "@jupyter-widgets/controls",
      "model_module_version": "1.5.0",
      "model_name": "DescriptionStyleModel",
      "state": {
       "description_width": ""
      }
     },
     "0174230abf1a4e0c8e810cf490ade4b0": {
      "model_module": "@jupyter-widgets/base",
      "model_module_version": "1.2.0",
      "model_name": "LayoutModel",
      "state": {
       "flex": "2"
      }
     },
     "01d0bd6972e649f0b94e58c8d674498a": {
      "model_module": "@jupyter-widgets/controls",
      "model_module_version": "1.5.0",
      "model_name": "FloatProgressModel",
      "state": {
       "description": "Validating: ",
       "layout": "IPY_MODEL_66a416fdb51144499b4abfda155d81c7",
       "max": 541,
       "style": "IPY_MODEL_9f80c1fded5949d49b0633f1592ad0ae",
       "value": 541
      }
     },
     "02d864aa7d8748a9a541b93425c62d75": {
      "model_module": "@jupyter-widgets/controls",
      "model_module_version": "1.5.0",
      "model_name": "ProgressStyleModel",
      "state": {
       "description_width": "initial"
      }
     },
     "0304d26b48be4455b97e6bf50d7ef187": {
      "model_module": "@jupyter-widgets/controls",
      "model_module_version": "1.5.0",
      "model_name": "HTMLModel",
      "state": {
       "layout": "IPY_MODEL_1c1470b384704d48a2353e2ae1944b9c",
       "style": "IPY_MODEL_1c63256498c84c6085fc8440478df698",
       "value": " 550/? [00:01&lt;00:00, 468.97it/s]"
      }
     },
     "032a1b8091314ca9959f4b6f9cac0e84": {
      "model_module": "@jupyter-widgets/base",
      "model_module_version": "1.2.0",
      "model_name": "LayoutModel",
      "state": {}
     },
     "032bd681e71d486c916bc1cb12a76bab": {
      "model_module": "@jupyter-widgets/controls",
      "model_module_version": "1.5.0",
      "model_name": "HTMLModel",
      "state": {
       "layout": "IPY_MODEL_83dd1b9c82cd4b7ca657c4630c79f48a",
       "style": "IPY_MODEL_efd0b645695d47878be6072d455e572b",
       "value": " 550/? [00:01&lt;00:00, 349.23it/s]"
      }
     },
     "0345ba0e53964f4b90c8489df0270a0d": {
      "model_module": "@jupyter-widgets/controls",
      "model_module_version": "1.5.0",
      "model_name": "FloatProgressModel",
      "state": {
       "description": "Validating: ",
       "layout": "IPY_MODEL_c2e5a5407d164069a3e4075094511e38",
       "max": 541,
       "style": "IPY_MODEL_5700676fc46849edb70f30a05ead61f8",
       "value": 541
      }
     },
     "039d7e03b229488fac37258a60e18dfd": {
      "model_module": "@jupyter-widgets/base",
      "model_module_version": "1.2.0",
      "model_name": "LayoutModel",
      "state": {}
     },
     "03fe3e95c293427c82a1fd217d232fff": {
      "model_module": "@jupyter-widgets/controls",
      "model_module_version": "1.5.0",
      "model_name": "HTMLModel",
      "state": {
       "layout": "IPY_MODEL_fe11d4e015b34579b934344814c1c28e",
       "style": "IPY_MODEL_126609f931834251a810b4ca0c8c566e",
       "value": " 550/? [00:01&lt;00:00, 428.15it/s]"
      }
     },
     "0403d581406d453186bc74bc4f9c7bc4": {
      "model_module": "@jupyter-widgets/base",
      "model_module_version": "1.2.0",
      "model_name": "LayoutModel",
      "state": {
       "flex": "2"
      }
     },
     "044e81f5c9fd45a48116ce0948ccfb44": {
      "model_module": "@jupyter-widgets/base",
      "model_module_version": "1.2.0",
      "model_name": "LayoutModel",
      "state": {}
     },
     "049372c5a75a4a399e3adad3ed6fae69": {
      "model_module": "@jupyter-widgets/base",
      "model_module_version": "1.2.0",
      "model_name": "LayoutModel",
      "state": {}
     },
     "052bdbbee2f04444bda3c56129b9a119": {
      "model_module": "@jupyter-widgets/base",
      "model_module_version": "1.2.0",
      "model_name": "LayoutModel",
      "state": {
       "flex": "2"
      }
     },
     "054d325c46484f6180ddb9ab32441c89": {
      "model_module": "@jupyter-widgets/controls",
      "model_module_version": "1.5.0",
      "model_name": "HTMLModel",
      "state": {
       "layout": "IPY_MODEL_b176a83ae4a6462e8659b99939aee668",
       "style": "IPY_MODEL_f855061148f14ef9bdcb43d9216f756e",
       "value": " 550/? [00:01&lt;00:00, 450.47it/s]"
      }
     },
     "064cc7044d464163b438e3298047756d": {
      "model_module": "@jupyter-widgets/base",
      "model_module_version": "1.2.0",
      "model_name": "LayoutModel",
      "state": {}
     },
     "0672728a7b9749ceaf9d2c355a3450d3": {
      "model_module": "@jupyter-widgets/controls",
      "model_module_version": "1.5.0",
      "model_name": "FloatProgressModel",
      "state": {
       "description": "Validating: ",
       "layout": "IPY_MODEL_d8a09a2d198f495eaa0b94c8881769c4",
       "max": 541,
       "style": "IPY_MODEL_1b013e66b5be43ad86d7af5f4deae8d3",
       "value": 541
      }
     },
     "0812b558feb647a49ae1b9cdf2b10880": {
      "model_module": "@jupyter-widgets/base",
      "model_module_version": "1.2.0",
      "model_name": "LayoutModel",
      "state": {
       "display": "inline-flex",
       "flex_flow": "row wrap",
       "width": "100%"
      }
     },
     "08752902d7474934b405c0dde4e48e4d": {
      "model_module": "@jupyter-widgets/base",
      "model_module_version": "1.2.0",
      "model_name": "LayoutModel",
      "state": {}
     },
     "08cf6f13e2f74027bb585e2bda5602af": {
      "model_module": "@jupyter-widgets/base",
      "model_module_version": "1.2.0",
      "model_name": "LayoutModel",
      "state": {
       "display": "inline-flex",
       "flex_flow": "row wrap",
       "width": "100%"
      }
     },
     "091cc22142ed4aadada0ebfe8652ea05": {
      "model_module": "@jupyter-widgets/controls",
      "model_module_version": "1.5.0",
      "model_name": "DescriptionStyleModel",
      "state": {
       "description_width": ""
      }
     },
     "0962c41148064bab8ac0dad43195a8e8": {
      "model_module": "@jupyter-widgets/base",
      "model_module_version": "1.2.0",
      "model_name": "LayoutModel",
      "state": {}
     },
     "09f7f82e1f754c59aa045b12ba387c3b": {
      "model_module": "@jupyter-widgets/base",
      "model_module_version": "1.2.0",
      "model_name": "LayoutModel",
      "state": {}
     },
     "09fa308b578a4202a787333919e0db02": {
      "model_module": "@jupyter-widgets/controls",
      "model_module_version": "1.5.0",
      "model_name": "FloatProgressModel",
      "state": {
       "description": "Validating: ",
       "layout": "IPY_MODEL_28a3d16fb06b4c508f185d26610ad4c1",
       "max": 541,
       "style": "IPY_MODEL_266465a9e7ea486eb7630399c15ac15b",
       "value": 541
      }
     },
     "0b1cbabf50e743bd9923fcae8e206256": {
      "model_module": "@jupyter-widgets/controls",
      "model_module_version": "1.5.0",
      "model_name": "FloatProgressModel",
      "state": {
       "description": "Validating: ",
       "layout": "IPY_MODEL_26f9d50e719d4563aa8fe777d0a9a0de",
       "max": 541,
       "style": "IPY_MODEL_b805584f6b8d412b8a8ff42b5dde7915",
       "value": 541
      }
     },
     "0b4720482a744d2298a894473635bc31": {
      "model_module": "@jupyter-widgets/controls",
      "model_module_version": "1.5.0",
      "model_name": "FloatProgressModel",
      "state": {
       "description": "Validating: ",
       "layout": "IPY_MODEL_f4db812fe5b94d07b4a4a1cb90b96372",
       "max": 541,
       "style": "IPY_MODEL_02d864aa7d8748a9a541b93425c62d75",
       "value": 541
      }
     },
     "0b4cfcedaace4d6e95fa164691536353": {
      "model_module": "@jupyter-widgets/base",
      "model_module_version": "1.2.0",
      "model_name": "LayoutModel",
      "state": {
       "display": "inline-flex",
       "flex_flow": "row wrap",
       "width": "100%"
      }
     },
     "0b5c33b7682f4070a3faa157029aaad7": {
      "model_module": "@jupyter-widgets/base",
      "model_module_version": "1.2.0",
      "model_name": "LayoutModel",
      "state": {
       "flex": "2"
      }
     },
     "0b91e4877e744e35a1b7952738a8ea4e": {
      "model_module": "@jupyter-widgets/controls",
      "model_module_version": "1.5.0",
      "model_name": "ProgressStyleModel",
      "state": {
       "description_width": "initial"
      }
     },
     "0be3dc28a0b340ec924cfcec8faf68c8": {
      "model_module": "@jupyter-widgets/controls",
      "model_module_version": "1.5.0",
      "model_name": "HTMLModel",
      "state": {
       "layout": "IPY_MODEL_36bce982a7944146a249c4be6b970b15",
       "style": "IPY_MODEL_9f75981eca234e02bf768eaa10854961",
       "value": " 550/? [00:01&lt;00:00, 477.05it/s]"
      }
     },
     "0c42f4b31ac94afeb5e639ad152b413b": {
      "model_module": "@jupyter-widgets/controls",
      "model_module_version": "1.5.0",
      "model_name": "DescriptionStyleModel",
      "state": {
       "description_width": ""
      }
     },
     "0c748aebfe5b4de2a2eda7b79d826ba3": {
      "model_module": "@jupyter-widgets/controls",
      "model_module_version": "1.5.0",
      "model_name": "ProgressStyleModel",
      "state": {
       "description_width": "initial"
      }
     },
     "0cc2f73defc14437bd999e5443a3f63b": {
      "model_module": "@jupyter-widgets/base",
      "model_module_version": "1.2.0",
      "model_name": "LayoutModel",
      "state": {
       "display": "inline-flex",
       "flex_flow": "row wrap",
       "width": "100%"
      }
     },
     "0cfcf62d621443dfbc8f789c869e17eb": {
      "model_module": "@jupyter-widgets/base",
      "model_module_version": "1.2.0",
      "model_name": "LayoutModel",
      "state": {}
     },
     "0d65ab114caa4e78983ea6dac0610326": {
      "model_module": "@jupyter-widgets/controls",
      "model_module_version": "1.5.0",
      "model_name": "HTMLModel",
      "state": {
       "layout": "IPY_MODEL_3e0966c1965d44be92b3bb560f346ede",
       "style": "IPY_MODEL_fa689031cdd14a7c8695f479a64312f7",
       "value": " 550/? [00:01&lt;00:00, 467.14it/s]"
      }
     },
     "0d65cede7a8444e1af53372a1231f2fa": {
      "model_module": "@jupyter-widgets/controls",
      "model_module_version": "1.5.0",
      "model_name": "DescriptionStyleModel",
      "state": {
       "description_width": ""
      }
     },
     "0db7fe98571e45a3b70f522c1011d0b1": {
      "model_module": "@jupyter-widgets/controls",
      "model_module_version": "1.5.0",
      "model_name": "FloatProgressModel",
      "state": {
       "description": "Validating: ",
       "layout": "IPY_MODEL_7b512f007a73411b9cb1c5e2a4ea1d0e",
       "max": 541,
       "style": "IPY_MODEL_fe64ca814b4741a381d16ef3e38a20cc",
       "value": 541
      }
     },
     "0ee22b77f1894b3ba5444b5123882b65": {
      "model_module": "@jupyter-widgets/base",
      "model_module_version": "1.2.0",
      "model_name": "LayoutModel",
      "state": {
       "display": "inline-flex",
       "flex_flow": "row wrap",
       "width": "100%"
      }
     },
     "0f4dbc51b8a34d7791423f31360d188a": {
      "model_module": "@jupyter-widgets/controls",
      "model_module_version": "1.5.0",
      "model_name": "FloatProgressModel",
      "state": {
       "description": "Validating: ",
       "layout": "IPY_MODEL_4b0d4954ccff411a889a11143d492297",
       "max": 541,
       "style": "IPY_MODEL_603d8f8a6ddc424d9b26858e65f20a4d",
       "value": 541
      }
     },
     "0f567d29155b4ab98023d9056a1ff3ee": {
      "model_module": "@jupyter-widgets/controls",
      "model_module_version": "1.5.0",
      "model_name": "DescriptionStyleModel",
      "state": {
       "description_width": ""
      }
     },
     "0f736d3003a942879f71dedcdec3c8af": {
      "model_module": "@jupyter-widgets/controls",
      "model_module_version": "1.5.0",
      "model_name": "HTMLModel",
      "state": {
       "layout": "IPY_MODEL_c5fd5d91185245cbaf3eaf7dfc54bfbb",
       "style": "IPY_MODEL_fd2e141155904454bb47745865cf4e2b",
       "value": " 550/? [00:01&lt;00:00, 462.94it/s]"
      }
     },
     "0ffecabc3bac455498541fd9307217ee": {
      "model_module": "@jupyter-widgets/base",
      "model_module_version": "1.2.0",
      "model_name": "LayoutModel",
      "state": {}
     },
     "1020fe39fcfb466ebf900afa9c7f271b": {
      "model_module": "@jupyter-widgets/controls",
      "model_module_version": "1.5.0",
      "model_name": "ProgressStyleModel",
      "state": {
       "description_width": "initial"
      }
     },
     "102f0ef571bc4befa843aedb280d60cf": {
      "model_module": "@jupyter-widgets/base",
      "model_module_version": "1.2.0",
      "model_name": "LayoutModel",
      "state": {
       "display": "inline-flex",
       "flex_flow": "row wrap",
       "width": "100%"
      }
     },
     "1123b7213cbd435c8cc32e0aaf3f9f11": {
      "model_module": "@jupyter-widgets/controls",
      "model_module_version": "1.5.0",
      "model_name": "FloatProgressModel",
      "state": {
       "description": "Validating: ",
       "layout": "IPY_MODEL_0174230abf1a4e0c8e810cf490ade4b0",
       "max": 541,
       "style": "IPY_MODEL_0b91e4877e744e35a1b7952738a8ea4e",
       "value": 541
      }
     },
     "11a446b1bedd4b4aa79d51bc450ce542": {
      "model_module": "@jupyter-widgets/controls",
      "model_module_version": "1.5.0",
      "model_name": "FloatProgressModel",
      "state": {
       "description": "Validating: ",
       "layout": "IPY_MODEL_7dbf570cbe824872b3966a6fa704e6e7",
       "max": 541,
       "style": "IPY_MODEL_93b4c8efa3ee40b791a628c7ed9f0514",
       "value": 541
      }
     },
     "11f304305bfd42948dafecd9bc0120a3": {
      "model_module": "@jupyter-widgets/controls",
      "model_module_version": "1.5.0",
      "model_name": "DescriptionStyleModel",
      "state": {
       "description_width": ""
      }
     },
     "126609f931834251a810b4ca0c8c566e": {
      "model_module": "@jupyter-widgets/controls",
      "model_module_version": "1.5.0",
      "model_name": "DescriptionStyleModel",
      "state": {
       "description_width": ""
      }
     },
     "12748297f27f4fd3893762544602ace3": {
      "model_module": "@jupyter-widgets/controls",
      "model_module_version": "1.5.0",
      "model_name": "FloatProgressModel",
      "state": {
       "description": "Validating: ",
       "layout": "IPY_MODEL_63270136c8794bbab83fec84109a854d",
       "max": 541,
       "style": "IPY_MODEL_3a3d0ca0b2884c38be221538bd630d64",
       "value": 541
      }
     },
     "12cff491521842358346faff7abb2887": {
      "model_module": "@jupyter-widgets/base",
      "model_module_version": "1.2.0",
      "model_name": "LayoutModel",
      "state": {
       "display": "inline-flex",
       "flex_flow": "row wrap",
       "width": "100%"
      }
     },
     "12f110bc6f684f888ff868c049b0819b": {
      "model_module": "@jupyter-widgets/controls",
      "model_module_version": "1.5.0",
      "model_name": "ProgressStyleModel",
      "state": {
       "description_width": "initial"
      }
     },
     "13274ad99a1b4ae7956947e5d5a10a88": {
      "model_module": "@jupyter-widgets/controls",
      "model_module_version": "1.5.0",
      "model_name": "HTMLModel",
      "state": {
       "layout": "IPY_MODEL_b47498952c3c49528823518bfde44318",
       "style": "IPY_MODEL_39bd508e859b433face65b23b993a5a5",
       "value": " 550/? [00:01&lt;00:00, 459.21it/s]"
      }
     },
     "13be6ed03a1045158c87ba4dd3bb23ee": {
      "model_module": "@jupyter-widgets/base",
      "model_module_version": "1.2.0",
      "model_name": "LayoutModel",
      "state": {}
     },
     "13cd16df9a914d30b4d7f13b41722e71": {
      "model_module": "@jupyter-widgets/base",
      "model_module_version": "1.2.0",
      "model_name": "LayoutModel",
      "state": {
       "display": "inline-flex",
       "flex_flow": "row wrap",
       "width": "100%"
      }
     },
     "1400b574028042d19baa86e88f1393a9": {
      "model_module": "@jupyter-widgets/controls",
      "model_module_version": "1.5.0",
      "model_name": "HTMLModel",
      "state": {
       "layout": "IPY_MODEL_13be6ed03a1045158c87ba4dd3bb23ee",
       "style": "IPY_MODEL_d1e4c566ec8c47c6b8fe38041ce8b909",
       "value": " 550/? [00:01&lt;00:00, 417.02it/s]"
      }
     },
     "145a2ee793344726a8032022a1167d0c": {
      "model_module": "@jupyter-widgets/base",
      "model_module_version": "1.2.0",
      "model_name": "LayoutModel",
      "state": {}
     },
     "149b244b6dae45cd8e2bfc9c3befa4a8": {
      "model_module": "@jupyter-widgets/controls",
      "model_module_version": "1.5.0",
      "model_name": "FloatProgressModel",
      "state": {
       "description": "Validating: ",
       "layout": "IPY_MODEL_45bbfd84ef3747c7b3e904723daca297",
       "max": 541,
       "style": "IPY_MODEL_6f16a51480c0481e90625d99baa940e0",
       "value": 541
      }
     },
     "14b38f38eaa3464eae542edfa17ef8b8": {
      "model_module": "@jupyter-widgets/controls",
      "model_module_version": "1.5.0",
      "model_name": "FloatProgressModel",
      "state": {
       "description": "Validating: ",
       "layout": "IPY_MODEL_15230cc7a40c467b883dfc33228897a5",
       "max": 541,
       "style": "IPY_MODEL_1c5f3cb48b894e8c9aabb205b9b3774b",
       "value": 541
      }
     },
     "15230cc7a40c467b883dfc33228897a5": {
      "model_module": "@jupyter-widgets/base",
      "model_module_version": "1.2.0",
      "model_name": "LayoutModel",
      "state": {
       "flex": "2"
      }
     },
     "157a22868df74218baa86435f2700f3e": {
      "model_module": "@jupyter-widgets/controls",
      "model_module_version": "1.5.0",
      "model_name": "FloatProgressModel",
      "state": {
       "description": "Validating: ",
       "layout": "IPY_MODEL_3d98f2c2be534cb0b19a452a21aa958d",
       "max": 541,
       "style": "IPY_MODEL_be066597451e451dbf27b0a36146d1cd",
       "value": 541
      }
     },
     "161a9f72e987487bb26744d47dc5d02a": {
      "model_module": "@jupyter-widgets/base",
      "model_module_version": "1.2.0",
      "model_name": "LayoutModel",
      "state": {
       "flex": "2"
      }
     },
     "162f26d67613494f8b6f63be936d2660": {
      "model_module": "@jupyter-widgets/controls",
      "model_module_version": "1.5.0",
      "model_name": "HTMLModel",
      "state": {
       "layout": "IPY_MODEL_08752902d7474934b405c0dde4e48e4d",
       "style": "IPY_MODEL_57e9f7ca861342f2a43cbb385cea5e20",
       "value": " 550/? [00:01&lt;00:00, 422.18it/s]"
      }
     },
     "1630044251e3409f9175c626fc8dbc07": {
      "model_module": "@jupyter-widgets/controls",
      "model_module_version": "1.5.0",
      "model_name": "FloatProgressModel",
      "state": {
       "description": "Validating: ",
       "layout": "IPY_MODEL_3b606d03bac34582b34c3cd646727d49",
       "max": 541,
       "style": "IPY_MODEL_5847f3399c9f49c982497c855d436c9a",
       "value": 541
      }
     },
     "16371f04bb7a4df8acc7f2cf045da34e": {
      "model_module": "@jupyter-widgets/base",
      "model_module_version": "1.2.0",
      "model_name": "LayoutModel",
      "state": {
       "display": "inline-flex",
       "flex_flow": "row wrap",
       "width": "100%"
      }
     },
     "16b13a0bed2346fda9adda99a3cd163b": {
      "model_module": "@jupyter-widgets/controls",
      "model_module_version": "1.5.0",
      "model_name": "ProgressStyleModel",
      "state": {
       "description_width": "initial"
      }
     },
     "177d67f3af4e4e29ac09f99b24006a55": {
      "model_module": "@jupyter-widgets/base",
      "model_module_version": "1.2.0",
      "model_name": "LayoutModel",
      "state": {
       "flex": "2"
      }
     },
     "17b99ba736f44aac9acae854c8985d9a": {
      "model_module": "@jupyter-widgets/controls",
      "model_module_version": "1.5.0",
      "model_name": "DescriptionStyleModel",
      "state": {
       "description_width": ""
      }
     },
     "17f1a5ae925d42aa868d64cf9895bc26": {
      "model_module": "@jupyter-widgets/controls",
      "model_module_version": "1.5.0",
      "model_name": "HTMLModel",
      "state": {
       "layout": "IPY_MODEL_dd9da3dee91a46a2b7abedcb58ca15ed",
       "style": "IPY_MODEL_385bc35231e9439aa41de67aac0aafaf",
       "value": " 550/? [00:01&lt;00:00, 411.49it/s]"
      }
     },
     "18530da573214f789a95061dd88d6a69": {
      "model_module": "@jupyter-widgets/base",
      "model_module_version": "1.2.0",
      "model_name": "LayoutModel",
      "state": {
       "flex": "2"
      }
     },
     "18acd1b5c9ce43aa90081abb58a442c5": {
      "model_module": "@jupyter-widgets/base",
      "model_module_version": "1.2.0",
      "model_name": "LayoutModel",
      "state": {}
     },
     "18b013066c7746688a2d25bdf3c089ac": {
      "model_module": "@jupyter-widgets/controls",
      "model_module_version": "1.5.0",
      "model_name": "DescriptionStyleModel",
      "state": {
       "description_width": ""
      }
     },
     "1935133b5cef444f8b7610339c34bebd": {
      "model_module": "@jupyter-widgets/base",
      "model_module_version": "1.2.0",
      "model_name": "LayoutModel",
      "state": {
       "display": "inline-flex",
       "flex_flow": "row wrap",
       "width": "100%"
      }
     },
     "196fa37fd5a045989f1ba37d8ff3fcdb": {
      "model_module": "@jupyter-widgets/controls",
      "model_module_version": "1.5.0",
      "model_name": "ProgressStyleModel",
      "state": {
       "description_width": "initial"
      }
     },
     "19ceea4111684b9db60e617969ad07b6": {
      "model_module": "@jupyter-widgets/base",
      "model_module_version": "1.2.0",
      "model_name": "LayoutModel",
      "state": {}
     },
     "1a56b999848e47c3a1bf3e0cddbf6cfa": {
      "model_module": "@jupyter-widgets/controls",
      "model_module_version": "1.5.0",
      "model_name": "HTMLModel",
      "state": {
       "layout": "IPY_MODEL_b74b0adf83244e6fb9ceecc194220eb6",
       "style": "IPY_MODEL_2538cb0956b943828eb723cab79b67b0",
       "value": " 550/? [00:01&lt;00:00, 463.87it/s]"
      }
     },
     "1a813621c8f44f939599c7b217d7c445": {
      "model_module": "@jupyter-widgets/controls",
      "model_module_version": "1.5.0",
      "model_name": "DescriptionStyleModel",
      "state": {
       "description_width": ""
      }
     },
     "1aa265142ad44ba9a74e85e710cb8a08": {
      "model_module": "@jupyter-widgets/controls",
      "model_module_version": "1.5.0",
      "model_name": "ProgressStyleModel",
      "state": {
       "description_width": "initial"
      }
     },
     "1b013e66b5be43ad86d7af5f4deae8d3": {
      "model_module": "@jupyter-widgets/controls",
      "model_module_version": "1.5.0",
      "model_name": "ProgressStyleModel",
      "state": {
       "description_width": "initial"
      }
     },
     "1b06eaf7d32347d7b14730b777ca1c23": {
      "model_module": "@jupyter-widgets/controls",
      "model_module_version": "1.5.0",
      "model_name": "ProgressStyleModel",
      "state": {
       "description_width": "initial"
      }
     },
     "1b0a8ee3dde444acb1695c32984f26ad": {
      "model_module": "@jupyter-widgets/base",
      "model_module_version": "1.2.0",
      "model_name": "LayoutModel",
      "state": {}
     },
     "1b325829ae2e48af8a06cf692fb64c3f": {
      "model_module": "@jupyter-widgets/base",
      "model_module_version": "1.2.0",
      "model_name": "LayoutModel",
      "state": {
       "display": "inline-flex",
       "flex_flow": "row wrap",
       "width": "100%"
      }
     },
     "1b4637538b454bd9a9044378ee0a7ef2": {
      "model_module": "@jupyter-widgets/controls",
      "model_module_version": "1.5.0",
      "model_name": "ProgressStyleModel",
      "state": {
       "description_width": "initial"
      }
     },
     "1b4da84eca30445fbd8ba7ddf8750d88": {
      "model_module": "@jupyter-widgets/controls",
      "model_module_version": "1.5.0",
      "model_name": "DescriptionStyleModel",
      "state": {
       "description_width": ""
      }
     },
     "1b5f6544f27e4dbc8cd3d1d95d664640": {
      "model_module": "@jupyter-widgets/controls",
      "model_module_version": "1.5.0",
      "model_name": "FloatProgressModel",
      "state": {
       "description": "Validating: ",
       "layout": "IPY_MODEL_9be2eb6455824564b135c2e17526cca1",
       "max": 541,
       "style": "IPY_MODEL_2b7564b003134b57a18f693190ee5bdb",
       "value": 541
      }
     },
     "1b69405998aa4f5c98fd4c383216e577": {
      "model_module": "@jupyter-widgets/controls",
      "model_module_version": "1.5.0",
      "model_name": "DescriptionStyleModel",
      "state": {
       "description_width": ""
      }
     },
     "1b793a4f70fe4959a7c9386408e20290": {
      "model_module": "@jupyter-widgets/controls",
      "model_module_version": "1.5.0",
      "model_name": "ProgressStyleModel",
      "state": {
       "description_width": "initial"
      }
     },
     "1bacda1b2b9749d5a0852f4486b618f8": {
      "model_module": "@jupyter-widgets/base",
      "model_module_version": "1.2.0",
      "model_name": "LayoutModel",
      "state": {
       "display": "inline-flex",
       "flex_flow": "row wrap",
       "width": "100%"
      }
     },
     "1bfae492789c441cafd757d963364d58": {
      "model_module": "@jupyter-widgets/base",
      "model_module_version": "1.2.0",
      "model_name": "LayoutModel",
      "state": {}
     },
     "1c1470b384704d48a2353e2ae1944b9c": {
      "model_module": "@jupyter-widgets/base",
      "model_module_version": "1.2.0",
      "model_name": "LayoutModel",
      "state": {}
     },
     "1c57975c80bb42c7b0c36ef3a0ddd099": {
      "model_module": "@jupyter-widgets/controls",
      "model_module_version": "1.5.0",
      "model_name": "HTMLModel",
      "state": {
       "layout": "IPY_MODEL_73ebf8a362ce41f7a762c4cda47b79e1",
       "style": "IPY_MODEL_7d88b23e84194af2884cd786dae0b68b",
       "value": " 550/? [00:01&lt;00:00, 446.06it/s]"
      }
     },
     "1c5f3cb48b894e8c9aabb205b9b3774b": {
      "model_module": "@jupyter-widgets/controls",
      "model_module_version": "1.5.0",
      "model_name": "ProgressStyleModel",
      "state": {
       "description_width": "initial"
      }
     },
     "1c63256498c84c6085fc8440478df698": {
      "model_module": "@jupyter-widgets/controls",
      "model_module_version": "1.5.0",
      "model_name": "DescriptionStyleModel",
      "state": {
       "description_width": ""
      }
     },
     "1c633473e705433c8d86cd4f0a1b9043": {
      "model_module": "@jupyter-widgets/controls",
      "model_module_version": "1.5.0",
      "model_name": "ProgressStyleModel",
      "state": {
       "description_width": "initial"
      }
     },
     "1d0bcd00cbe34e4cbf59a19893fd7e34": {
      "model_module": "@jupyter-widgets/controls",
      "model_module_version": "1.5.0",
      "model_name": "ProgressStyleModel",
      "state": {
       "description_width": "initial"
      }
     },
     "1d331db3bd6248b180b0f6da1fc58d5a": {
      "model_module": "@jupyter-widgets/base",
      "model_module_version": "1.2.0",
      "model_name": "LayoutModel",
      "state": {
       "flex": "2"
      }
     },
     "1d5ac049f25c42fcbd3f5fdc9d93cb3a": {
      "model_module": "@jupyter-widgets/controls",
      "model_module_version": "1.5.0",
      "model_name": "DescriptionStyleModel",
      "state": {
       "description_width": ""
      }
     },
     "1e9aaf31908547d6931aca0e884d73c9": {
      "model_module": "@jupyter-widgets/base",
      "model_module_version": "1.2.0",
      "model_name": "LayoutModel",
      "state": {
       "display": "inline-flex",
       "flex_flow": "row wrap",
       "width": "100%"
      }
     },
     "1f2518e645a0411fb3b90c16c191f436": {
      "model_module": "@jupyter-widgets/base",
      "model_module_version": "1.2.0",
      "model_name": "LayoutModel",
      "state": {
       "flex": "2"
      }
     },
     "200ab3203b504e3aaafd8c6f3a377274": {
      "model_module": "@jupyter-widgets/controls",
      "model_module_version": "1.5.0",
      "model_name": "DescriptionStyleModel",
      "state": {
       "description_width": ""
      }
     },
     "202c8e4eccb240569b4d64aa34d9a7f2": {
      "model_module": "@jupyter-widgets/base",
      "model_module_version": "1.2.0",
      "model_name": "LayoutModel",
      "state": {
       "flex": "2"
      }
     },
     "2052044a47114068b0d68a48b3acc4da": {
      "model_module": "@jupyter-widgets/controls",
      "model_module_version": "1.5.0",
      "model_name": "DescriptionStyleModel",
      "state": {
       "description_width": ""
      }
     },
     "2055db60dec84db1b49331c7f835188a": {
      "model_module": "@jupyter-widgets/controls",
      "model_module_version": "1.5.0",
      "model_name": "ProgressStyleModel",
      "state": {
       "description_width": "initial"
      }
     },
     "20e79b639ef94a82a14b01846fbea621": {
      "model_module": "@jupyter-widgets/controls",
      "model_module_version": "1.5.0",
      "model_name": "DescriptionStyleModel",
      "state": {
       "description_width": ""
      }
     },
     "21b814ade2b843e89873e196bf5f7157": {
      "model_module": "@jupyter-widgets/base",
      "model_module_version": "1.2.0",
      "model_name": "LayoutModel",
      "state": {
       "flex": "2"
      }
     },
     "21e2b486311e4a119bafb79111f15ff9": {
      "model_module": "@jupyter-widgets/controls",
      "model_module_version": "1.5.0",
      "model_name": "ProgressStyleModel",
      "state": {
       "description_width": "initial"
      }
     },
     "21ec6515d0794950a9fd30722dac6a86": {
      "model_module": "@jupyter-widgets/base",
      "model_module_version": "1.2.0",
      "model_name": "LayoutModel",
      "state": {}
     },
     "220a7cf69d424633aa6cca044723041e": {
      "model_module": "@jupyter-widgets/base",
      "model_module_version": "1.2.0",
      "model_name": "LayoutModel",
      "state": {
       "display": "inline-flex",
       "flex_flow": "row wrap",
       "width": "100%"
      }
     },
     "22428947ac7942eaa361303ff01bfd01": {
      "model_module": "@jupyter-widgets/base",
      "model_module_version": "1.2.0",
      "model_name": "LayoutModel",
      "state": {
       "flex": "2"
      }
     },
     "23824f1cf2ce4a9c9443f6aebf91268f": {
      "model_module": "@jupyter-widgets/controls",
      "model_module_version": "1.5.0",
      "model_name": "FloatProgressModel",
      "state": {
       "description": "Validating: ",
       "layout": "IPY_MODEL_202c8e4eccb240569b4d64aa34d9a7f2",
       "max": 541,
       "style": "IPY_MODEL_4a780ed556e348138415583252d31f50",
       "value": 541
      }
     },
     "2485f516ebf54fc08b5c45d311c9d49c": {
      "model_module": "@jupyter-widgets/base",
      "model_module_version": "1.2.0",
      "model_name": "LayoutModel",
      "state": {}
     },
     "2493d3821e6c41418a218134b0922cea": {
      "model_module": "@jupyter-widgets/base",
      "model_module_version": "1.2.0",
      "model_name": "LayoutModel",
      "state": {
       "display": "inline-flex",
       "flex_flow": "row wrap",
       "width": "100%"
      }
     },
     "24ecde7287244a5183a6095e250fe07b": {
      "model_module": "@jupyter-widgets/base",
      "model_module_version": "1.2.0",
      "model_name": "LayoutModel",
      "state": {
       "flex": "2"
      }
     },
     "24fdc28b875e4c13b9e7db27722da005": {
      "model_module": "@jupyter-widgets/controls",
      "model_module_version": "1.5.0",
      "model_name": "ProgressStyleModel",
      "state": {
       "description_width": "initial"
      }
     },
     "24fedde77e7c444989c689afb54e7100": {
      "model_module": "@jupyter-widgets/base",
      "model_module_version": "1.2.0",
      "model_name": "LayoutModel",
      "state": {
       "display": "inline-flex",
       "flex_flow": "row wrap",
       "width": "100%"
      }
     },
     "2538cb0956b943828eb723cab79b67b0": {
      "model_module": "@jupyter-widgets/controls",
      "model_module_version": "1.5.0",
      "model_name": "DescriptionStyleModel",
      "state": {
       "description_width": ""
      }
     },
     "25f0d0fed1e8453ebd09192272f0e3a6": {
      "model_module": "@jupyter-widgets/controls",
      "model_module_version": "1.5.0",
      "model_name": "HTMLModel",
      "state": {
       "layout": "IPY_MODEL_09f7f82e1f754c59aa045b12ba387c3b",
       "style": "IPY_MODEL_5b04714f10e34b42ac402e20b805b9cd",
       "value": " 550/? [00:01&lt;00:00, 464.30it/s]"
      }
     },
     "26435074f69d4b2c8f69a2e1a460567e": {
      "model_module": "@jupyter-widgets/base",
      "model_module_version": "1.2.0",
      "model_name": "LayoutModel",
      "state": {
       "display": "inline-flex",
       "flex_flow": "row wrap",
       "width": "100%"
      }
     },
     "265c3a2e399c457bad2cf9ce1d8a73b3": {
      "model_module": "@jupyter-widgets/base",
      "model_module_version": "1.2.0",
      "model_name": "LayoutModel",
      "state": {}
     },
     "266465a9e7ea486eb7630399c15ac15b": {
      "model_module": "@jupyter-widgets/controls",
      "model_module_version": "1.5.0",
      "model_name": "ProgressStyleModel",
      "state": {
       "description_width": "initial"
      }
     },
     "267485cb2f404ffbb3ba18b6b753c8c1": {
      "model_module": "@jupyter-widgets/controls",
      "model_module_version": "1.5.0",
      "model_name": "DescriptionStyleModel",
      "state": {
       "description_width": ""
      }
     },
     "2682ed8fbbf148c08789a57662738e4a": {
      "model_module": "@jupyter-widgets/controls",
      "model_module_version": "1.5.0",
      "model_name": "ProgressStyleModel",
      "state": {
       "description_width": "initial"
      }
     },
     "26aa1632900b4c2ea16b8706dd7a530e": {
      "model_module": "@jupyter-widgets/controls",
      "model_module_version": "1.5.0",
      "model_name": "DescriptionStyleModel",
      "state": {
       "description_width": ""
      }
     },
     "26b09bb6de314feb9852f6d036304eef": {
      "model_module": "@jupyter-widgets/base",
      "model_module_version": "1.2.0",
      "model_name": "LayoutModel",
      "state": {
       "flex": "2"
      }
     },
     "26c7034d191546ec917b95c50e9a4984": {
      "model_module": "@jupyter-widgets/controls",
      "model_module_version": "1.5.0",
      "model_name": "ProgressStyleModel",
      "state": {
       "description_width": "initial"
      }
     },
     "26f9d50e719d4563aa8fe777d0a9a0de": {
      "model_module": "@jupyter-widgets/base",
      "model_module_version": "1.2.0",
      "model_name": "LayoutModel",
      "state": {
       "flex": "2"
      }
     },
     "276885ccb8684c5b93be78daacec9f86": {
      "model_module": "@jupyter-widgets/base",
      "model_module_version": "1.2.0",
      "model_name": "LayoutModel",
      "state": {}
     },
     "27b9c374c52c4a3299a320c186271ab0": {
      "model_module": "@jupyter-widgets/controls",
      "model_module_version": "1.5.0",
      "model_name": "ProgressStyleModel",
      "state": {
       "description_width": "initial"
      }
     },
     "281e4ef89c794bb7b87caf9b38750cde": {
      "model_module": "@jupyter-widgets/controls",
      "model_module_version": "1.5.0",
      "model_name": "HTMLModel",
      "state": {
       "layout": "IPY_MODEL_b7f34ce12cea4887a6dbd7057aa3a57f",
       "style": "IPY_MODEL_aae138b6cf5e4e2ba1d7bc7c23c06abf",
       "value": " 550/? [00:01&lt;00:00, 444.16it/s]"
      }
     },
     "2822de0c9fbc432aa8fe141f5688c301": {
      "model_module": "@jupyter-widgets/base",
      "model_module_version": "1.2.0",
      "model_name": "LayoutModel",
      "state": {}
     },
     "28718c98381b475489f62cb75986df11": {
      "model_module": "@jupyter-widgets/controls",
      "model_module_version": "1.5.0",
      "model_name": "DescriptionStyleModel",
      "state": {
       "description_width": ""
      }
     },
     "28a3d16fb06b4c508f185d26610ad4c1": {
      "model_module": "@jupyter-widgets/base",
      "model_module_version": "1.2.0",
      "model_name": "LayoutModel",
      "state": {
       "flex": "2"
      }
     },
     "28c50cad88ba4e388d9c6f3106ef5c0f": {
      "model_module": "@jupyter-widgets/base",
      "model_module_version": "1.2.0",
      "model_name": "LayoutModel",
      "state": {
       "display": "inline-flex",
       "flex_flow": "row wrap",
       "width": "100%"
      }
     },
     "28c6830129db4fa885f20cc8d50044d9": {
      "model_module": "@jupyter-widgets/controls",
      "model_module_version": "1.5.0",
      "model_name": "FloatProgressModel",
      "state": {
       "description": "Validating: ",
       "layout": "IPY_MODEL_161a9f72e987487bb26744d47dc5d02a",
       "max": 541,
       "style": "IPY_MODEL_8e4543391d514daea24a8c36aecfa94a",
       "value": 541
      }
     },
     "29afd05f9d144ad3a034923c246d9813": {
      "model_module": "@jupyter-widgets/controls",
      "model_module_version": "1.5.0",
      "model_name": "ProgressStyleModel",
      "state": {
       "description_width": "initial"
      }
     },
     "29ea477628b546b1bbb524fa70b26807": {
      "model_module": "@jupyter-widgets/controls",
      "model_module_version": "1.5.0",
      "model_name": "ProgressStyleModel",
      "state": {
       "description_width": "initial"
      }
     },
     "2a26c1359f794cf1b390448f15c81604": {
      "model_module": "@jupyter-widgets/base",
      "model_module_version": "1.2.0",
      "model_name": "LayoutModel",
      "state": {
       "display": "inline-flex",
       "flex_flow": "row wrap",
       "width": "100%"
      }
     },
     "2a544ebb03b8405aa5aaa6004c5a1e7a": {
      "model_module": "@jupyter-widgets/base",
      "model_module_version": "1.2.0",
      "model_name": "LayoutModel",
      "state": {}
     },
     "2a60b3f6edd14369bde5c6fd7282749b": {
      "model_module": "@jupyter-widgets/base",
      "model_module_version": "1.2.0",
      "model_name": "LayoutModel",
      "state": {
       "display": "inline-flex",
       "flex_flow": "row wrap",
       "width": "100%"
      }
     },
     "2a61a76df3a44de694900d1787406225": {
      "model_module": "@jupyter-widgets/controls",
      "model_module_version": "1.5.0",
      "model_name": "HTMLModel",
      "state": {
       "layout": "IPY_MODEL_010a53141bd94962973bdb41a89aa6b8",
       "style": "IPY_MODEL_4e8a39d0df844f42a7b17e4e78941730",
       "value": " 550/? [00:01&lt;00:00, 470.14it/s]"
      }
     },
     "2a76d98b3bbe4b23841a1c53941383ea": {
      "model_module": "@jupyter-widgets/controls",
      "model_module_version": "1.5.0",
      "model_name": "HTMLModel",
      "state": {
       "layout": "IPY_MODEL_5b09e652862340afafcc1139eca12f18",
       "style": "IPY_MODEL_1d5ac049f25c42fcbd3f5fdc9d93cb3a",
       "value": " 550/? [00:01&lt;00:00, 399.01it/s]"
      }
     },
     "2a9dad1485954d1e8759934de3ee036d": {
      "model_module": "@jupyter-widgets/base",
      "model_module_version": "1.2.0",
      "model_name": "LayoutModel",
      "state": {
       "display": "inline-flex",
       "flex_flow": "row wrap",
       "width": "100%"
      }
     },
     "2aef5fa44acb4c9bad7ea5bab5c97f30": {
      "model_module": "@jupyter-widgets/controls",
      "model_module_version": "1.5.0",
      "model_name": "DescriptionStyleModel",
      "state": {
       "description_width": ""
      }
     },
     "2af252832be54d178292491a94fc0d1a": {
      "model_module": "@jupyter-widgets/controls",
      "model_module_version": "1.5.0",
      "model_name": "ProgressStyleModel",
      "state": {
       "description_width": "initial"
      }
     },
     "2b514edd795a4b22a9f3e9c6eae24de4": {
      "model_module": "@jupyter-widgets/base",
      "model_module_version": "1.2.0",
      "model_name": "LayoutModel",
      "state": {
       "display": "inline-flex",
       "flex_flow": "row wrap",
       "width": "100%"
      }
     },
     "2b7564b003134b57a18f693190ee5bdb": {
      "model_module": "@jupyter-widgets/controls",
      "model_module_version": "1.5.0",
      "model_name": "ProgressStyleModel",
      "state": {
       "description_width": "initial"
      }
     },
     "2b89aa8aee7a4f998215df0a09ca6d9e": {
      "model_module": "@jupyter-widgets/base",
      "model_module_version": "1.2.0",
      "model_name": "LayoutModel",
      "state": {}
     },
     "2b8ef82a85784d90af171f91b8f7f94d": {
      "model_module": "@jupyter-widgets/controls",
      "model_module_version": "1.5.0",
      "model_name": "HTMLModel",
      "state": {
       "layout": "IPY_MODEL_2ed57baa69694e3e88a2d115b81a6271",
       "style": "IPY_MODEL_0f567d29155b4ab98023d9056a1ff3ee",
       "value": " 550/? [00:01&lt;00:00, 428.29it/s]"
      }
     },
     "2b9a639a3ee1447691b863a71c953819": {
      "model_module": "@jupyter-widgets/base",
      "model_module_version": "1.2.0",
      "model_name": "LayoutModel",
      "state": {}
     },
     "2bb9cf5e83744269b4830098421cb6a3": {
      "model_module": "@jupyter-widgets/base",
      "model_module_version": "1.2.0",
      "model_name": "LayoutModel",
      "state": {
       "display": "inline-flex",
       "flex_flow": "row wrap",
       "width": "100%"
      }
     },
     "2c2bcb6db34a41a2bab39bc2ee9f520b": {
      "model_module": "@jupyter-widgets/base",
      "model_module_version": "1.2.0",
      "model_name": "LayoutModel",
      "state": {
       "display": "inline-flex",
       "flex_flow": "row wrap",
       "width": "100%"
      }
     },
     "2c3e7f9ca2eb4023ad2bbff7990bc872": {
      "model_module": "@jupyter-widgets/base",
      "model_module_version": "1.2.0",
      "model_name": "LayoutModel",
      "state": {
       "flex": "2"
      }
     },
     "2c561d17677c46ddbe37ba9c16bec79c": {
      "model_module": "@jupyter-widgets/base",
      "model_module_version": "1.2.0",
      "model_name": "LayoutModel",
      "state": {
       "flex": "2"
      }
     },
     "2d9967af0fc3462c93850f107516ee92": {
      "model_module": "@jupyter-widgets/base",
      "model_module_version": "1.2.0",
      "model_name": "LayoutModel",
      "state": {}
     },
     "2e384992f5b14213b8ea38db0c1dc94a": {
      "model_module": "@jupyter-widgets/controls",
      "model_module_version": "1.5.0",
      "model_name": "DescriptionStyleModel",
      "state": {
       "description_width": ""
      }
     },
     "2eb0559aa2004a9ea8ba7a2d12ef7edc": {
      "model_module": "@jupyter-widgets/controls",
      "model_module_version": "1.5.0",
      "model_name": "ProgressStyleModel",
      "state": {
       "description_width": "initial"
      }
     },
     "2ed57baa69694e3e88a2d115b81a6271": {
      "model_module": "@jupyter-widgets/base",
      "model_module_version": "1.2.0",
      "model_name": "LayoutModel",
      "state": {}
     },
     "2edd10a887c14bc7b8bbb50a555338c6": {
      "model_module": "@jupyter-widgets/base",
      "model_module_version": "1.2.0",
      "model_name": "LayoutModel",
      "state": {}
     },
     "2edebdf7aa7f46f9b13878243f8d35e2": {
      "model_module": "@jupyter-widgets/controls",
      "model_module_version": "1.5.0",
      "model_name": "ProgressStyleModel",
      "state": {
       "description_width": "initial"
      }
     },
     "2fa40359ecc841b0bacdca5db4db5d48": {
      "model_module": "@jupyter-widgets/base",
      "model_module_version": "1.2.0",
      "model_name": "LayoutModel",
      "state": {
       "flex": "2"
      }
     },
     "2fe8017b14a349c3a0eeeb004a7ad0ba": {
      "model_module": "@jupyter-widgets/controls",
      "model_module_version": "1.5.0",
      "model_name": "HTMLModel",
      "state": {
       "layout": "IPY_MODEL_fa8ae5e7442a437ba08752da063bfa7f",
       "style": "IPY_MODEL_888d741d51c54b8aa882ddb5de1d6b20",
       "value": " 550/? [00:01&lt;00:00, 370.53it/s]"
      }
     },
     "30024ddb5f6e4b428406565f1e62a0f9": {
      "model_module": "@jupyter-widgets/controls",
      "model_module_version": "1.5.0",
      "model_name": "HTMLModel",
      "state": {
       "layout": "IPY_MODEL_bd0ce6f758824dba9c53655d56973ef0",
       "style": "IPY_MODEL_900f4c20e86f41708dfec2cb48910d85",
       "value": " 550/? [00:01&lt;00:00, 385.04it/s]"
      }
     },
     "30168738499c45a4950f4b98f41acf64": {
      "model_module": "@jupyter-widgets/controls",
      "model_module_version": "1.5.0",
      "model_name": "ProgressStyleModel",
      "state": {
       "description_width": "initial"
      }
     },
     "304fe3fa0c164e51b3279efcd170b941": {
      "model_module": "@jupyter-widgets/controls",
      "model_module_version": "1.5.0",
      "model_name": "ProgressStyleModel",
      "state": {
       "description_width": "initial"
      }
     },
     "306f631b425b4618ae8aafae15cdc071": {
      "model_module": "@jupyter-widgets/controls",
      "model_module_version": "1.5.0",
      "model_name": "FloatProgressModel",
      "state": {
       "description": "Validating: ",
       "layout": "IPY_MODEL_e086c67f5fff46918bc2564e810286e1",
       "max": 541,
       "style": "IPY_MODEL_e3e17964e9764bdebab4c499802ebf6e",
       "value": 541
      }
     },
     "3072f05656c942ff9ef82cbb70784b13": {
      "model_module": "@jupyter-widgets/base",
      "model_module_version": "1.2.0",
      "model_name": "LayoutModel",
      "state": {
       "flex": "2"
      }
     },
     "32480a88e1874cfb84a930b9894bf5e1": {
      "model_module": "@jupyter-widgets/base",
      "model_module_version": "1.2.0",
      "model_name": "LayoutModel",
      "state": {
       "display": "inline-flex",
       "flex_flow": "row wrap",
       "width": "100%"
      }
     },
     "3266a737a2374b8fbd8ddfffa0966438": {
      "model_module": "@jupyter-widgets/base",
      "model_module_version": "1.2.0",
      "model_name": "LayoutModel",
      "state": {}
     },
     "32a93957f26d4533925d55ee02bd9982": {
      "model_module": "@jupyter-widgets/base",
      "model_module_version": "1.2.0",
      "model_name": "LayoutModel",
      "state": {}
     },
     "32e59f575b8343edbe9c33d5ff3d2411": {
      "model_module": "@jupyter-widgets/controls",
      "model_module_version": "1.5.0",
      "model_name": "HTMLModel",
      "state": {
       "layout": "IPY_MODEL_ae12875daf2048e48822c62cf66cd8bc",
       "style": "IPY_MODEL_77509376a7bb4d68bbc9942c127165dc",
       "value": " 550/? [00:01&lt;00:00, 434.20it/s]"
      }
     },
     "33366ef0d7274700ab41042e5c3593f5": {
      "model_module": "@jupyter-widgets/controls",
      "model_module_version": "1.5.0",
      "model_name": "FloatProgressModel",
      "state": {
       "description": "Validating: ",
       "layout": "IPY_MODEL_c11b61296d5c4a7d9d4ffe40a0875ab7",
       "max": 541,
       "style": "IPY_MODEL_de31ec3292be4fe1b37ec4f1fc46b411",
       "value": 541
      }
     },
     "3348e333bc3d4a67bc259ff47194f1c9": {
      "model_module": "@jupyter-widgets/base",
      "model_module_version": "1.2.0",
      "model_name": "LayoutModel",
      "state": {
       "flex": "2"
      }
     },
     "33518faf62814ff09c71a7e9aeeea63b": {
      "model_module": "@jupyter-widgets/controls",
      "model_module_version": "1.5.0",
      "model_name": "HTMLModel",
      "state": {
       "layout": "IPY_MODEL_0ffecabc3bac455498541fd9307217ee",
       "style": "IPY_MODEL_68b2a962ba83467f93acbae78439e0e4",
       "value": " 550/? [00:01&lt;00:00, 482.94it/s]"
      }
     },
     "33789bf3734a4ead9c53588b1d2f05bd": {
      "model_module": "@jupyter-widgets/controls",
      "model_module_version": "1.5.0",
      "model_name": "DescriptionStyleModel",
      "state": {
       "description_width": ""
      }
     },
     "33e4865981054b64bcc4b46e8b4a1ad2": {
      "model_module": "@jupyter-widgets/controls",
      "model_module_version": "1.5.0",
      "model_name": "DescriptionStyleModel",
      "state": {
       "description_width": ""
      }
     },
     "34ca605b1d1e4ad3a892854ae57771e6": {
      "model_module": "@jupyter-widgets/base",
      "model_module_version": "1.2.0",
      "model_name": "LayoutModel",
      "state": {
       "flex": "2"
      }
     },
     "34cc5ff7118c4a6d858441a1bd6f4dde": {
      "model_module": "@jupyter-widgets/controls",
      "model_module_version": "1.5.0",
      "model_name": "DescriptionStyleModel",
      "state": {
       "description_width": ""
      }
     },
     "356070c738404b739dfc80ee41e50976": {
      "model_module": "@jupyter-widgets/controls",
      "model_module_version": "1.5.0",
      "model_name": "FloatProgressModel",
      "state": {
       "description": "Validating: ",
       "layout": "IPY_MODEL_98ca7e8652924922b6d9493528e12173",
       "max": 541,
       "style": "IPY_MODEL_9b08f94049bb484eb6c79bb714ed16df",
       "value": 541
      }
     },
     "358c26bf6c7247cb8eb6cdbd25c74924": {
      "model_module": "@jupyter-widgets/base",
      "model_module_version": "1.2.0",
      "model_name": "LayoutModel",
      "state": {
       "flex": "2"
      }
     },
     "35bea77cad4348618f8162153c9de212": {
      "model_module": "@jupyter-widgets/base",
      "model_module_version": "1.2.0",
      "model_name": "LayoutModel",
      "state": {
       "flex": "2"
      }
     },
     "35d7815266704ab59d5cb46f8bac84c3": {
      "model_module": "@jupyter-widgets/base",
      "model_module_version": "1.2.0",
      "model_name": "LayoutModel",
      "state": {}
     },
     "35e1732966984d89b7431ea5dc108f64": {
      "model_module": "@jupyter-widgets/base",
      "model_module_version": "1.2.0",
      "model_name": "LayoutModel",
      "state": {
       "display": "inline-flex",
       "flex_flow": "row wrap",
       "width": "100%"
      }
     },
     "3626d2701d324d1f89e46354fab649d4": {
      "model_module": "@jupyter-widgets/base",
      "model_module_version": "1.2.0",
      "model_name": "LayoutModel",
      "state": {
       "flex": "2"
      }
     },
     "36589a30f7a94884a1bfb45969b59b96": {
      "model_module": "@jupyter-widgets/base",
      "model_module_version": "1.2.0",
      "model_name": "LayoutModel",
      "state": {
       "display": "inline-flex",
       "flex_flow": "row wrap",
       "width": "100%"
      }
     },
     "36bce982a7944146a249c4be6b970b15": {
      "model_module": "@jupyter-widgets/base",
      "model_module_version": "1.2.0",
      "model_name": "LayoutModel",
      "state": {}
     },
     "36c17cb6804e41e5a1a30bb52957d9dc": {
      "model_module": "@jupyter-widgets/base",
      "model_module_version": "1.2.0",
      "model_name": "LayoutModel",
      "state": {
       "display": "inline-flex",
       "flex_flow": "row wrap",
       "width": "100%"
      }
     },
     "371f8e221230439b8dfe5f34a64f869c": {
      "model_module": "@jupyter-widgets/base",
      "model_module_version": "1.2.0",
      "model_name": "LayoutModel",
      "state": {
       "flex": "2"
      }
     },
     "381f173f84124bbca4cfb10161f7f2ef": {
      "model_module": "@jupyter-widgets/controls",
      "model_module_version": "1.5.0",
      "model_name": "ProgressStyleModel",
      "state": {
       "description_width": "initial"
      }
     },
     "38581acb243b4f258995e759502e3dfb": {
      "model_module": "@jupyter-widgets/base",
      "model_module_version": "1.2.0",
      "model_name": "LayoutModel",
      "state": {
       "flex": "2"
      }
     },
     "385bc35231e9439aa41de67aac0aafaf": {
      "model_module": "@jupyter-widgets/controls",
      "model_module_version": "1.5.0",
      "model_name": "DescriptionStyleModel",
      "state": {
       "description_width": ""
      }
     },
     "38815a8428494e09a51e9be272018416": {
      "model_module": "@jupyter-widgets/base",
      "model_module_version": "1.2.0",
      "model_name": "LayoutModel",
      "state": {}
     },
     "38c4e02d3d014594a1e6f087dd7a1c4f": {
      "model_module": "@jupyter-widgets/controls",
      "model_module_version": "1.5.0",
      "model_name": "FloatProgressModel",
      "state": {
       "description": "Validating: ",
       "layout": "IPY_MODEL_b0988f6f4fd941ef8f8330900916f7c2",
       "max": 541,
       "style": "IPY_MODEL_2682ed8fbbf148c08789a57662738e4a",
       "value": 541
      }
     },
     "38e712c9905a491084bd3fd8ee112b1e": {
      "model_module": "@jupyter-widgets/controls",
      "model_module_version": "1.5.0",
      "model_name": "FloatProgressModel",
      "state": {
       "description": "Validating: ",
       "layout": "IPY_MODEL_4075de2426e344219e87c5ed75e0f6b7",
       "max": 541,
       "style": "IPY_MODEL_852a6cfb89db469d89585a92a12f4d86",
       "value": 541
      }
     },
     "38f0dd4e61a7480c860f69805ac29630": {
      "model_module": "@jupyter-widgets/base",
      "model_module_version": "1.2.0",
      "model_name": "LayoutModel",
      "state": {
       "display": "inline-flex",
       "flex_flow": "row wrap",
       "width": "100%"
      }
     },
     "3902aa13ab404d3aac0f868ab5e51631": {
      "model_module": "@jupyter-widgets/base",
      "model_module_version": "1.2.0",
      "model_name": "LayoutModel",
      "state": {}
     },
     "3959fb47524b4a9389faf8320b81029c": {
      "model_module": "@jupyter-widgets/base",
      "model_module_version": "1.2.0",
      "model_name": "LayoutModel",
      "state": {
       "flex": "2"
      }
     },
     "39bd508e859b433face65b23b993a5a5": {
      "model_module": "@jupyter-widgets/controls",
      "model_module_version": "1.5.0",
      "model_name": "DescriptionStyleModel",
      "state": {
       "description_width": ""
      }
     },
     "39dc64847c6e4313ae9137ea5bbe61dc": {
      "model_module": "@jupyter-widgets/controls",
      "model_module_version": "1.5.0",
      "model_name": "HTMLModel",
      "state": {
       "layout": "IPY_MODEL_c77d452abe5d4e27ae728a85f99ee3e8",
       "style": "IPY_MODEL_c93c670566a5478e906009902b936dca",
       "value": " 550/? [00:01&lt;00:00, 458.67it/s]"
      }
     },
     "3a0575c110ff4f0898b06cdeb8b5c91a": {
      "model_module": "@jupyter-widgets/base",
      "model_module_version": "1.2.0",
      "model_name": "LayoutModel",
      "state": {
       "display": "inline-flex",
       "flex_flow": "row wrap",
       "width": "100%"
      }
     },
     "3a3d0ca0b2884c38be221538bd630d64": {
      "model_module": "@jupyter-widgets/controls",
      "model_module_version": "1.5.0",
      "model_name": "ProgressStyleModel",
      "state": {
       "description_width": "initial"
      }
     },
     "3a4fc643eb904450af49953dc4616457": {
      "model_module": "@jupyter-widgets/base",
      "model_module_version": "1.2.0",
      "model_name": "LayoutModel",
      "state": {
       "flex": "2"
      }
     },
     "3a538ec4d81b449d826476170793f188": {
      "model_module": "@jupyter-widgets/base",
      "model_module_version": "1.2.0",
      "model_name": "LayoutModel",
      "state": {}
     },
     "3b5ff44ec00d4e6f9543639b88b01d32": {
      "model_module": "@jupyter-widgets/base",
      "model_module_version": "1.2.0",
      "model_name": "LayoutModel",
      "state": {
       "flex": "2"
      }
     },
     "3b606d03bac34582b34c3cd646727d49": {
      "model_module": "@jupyter-widgets/base",
      "model_module_version": "1.2.0",
      "model_name": "LayoutModel",
      "state": {
       "flex": "2"
      }
     },
     "3bb7cab9322c4598bee9e3fb155fbee3": {
      "model_module": "@jupyter-widgets/controls",
      "model_module_version": "1.5.0",
      "model_name": "DescriptionStyleModel",
      "state": {
       "description_width": ""
      }
     },
     "3bf278ef0d8b4eb0be2e908bf31979ba": {
      "model_module": "@jupyter-widgets/controls",
      "model_module_version": "1.5.0",
      "model_name": "DescriptionStyleModel",
      "state": {
       "description_width": ""
      }
     },
     "3bf688c4d39246d194611e049707cfaf": {
      "model_module": "@jupyter-widgets/base",
      "model_module_version": "1.2.0",
      "model_name": "LayoutModel",
      "state": {}
     },
     "3c1d68854c8d4dc5ac2a889571801d0b": {
      "model_module": "@jupyter-widgets/base",
      "model_module_version": "1.2.0",
      "model_name": "LayoutModel",
      "state": {
       "flex": "2"
      }
     },
     "3cf6707c94914653b832a9c8e40df953": {
      "model_module": "@jupyter-widgets/controls",
      "model_module_version": "1.5.0",
      "model_name": "DescriptionStyleModel",
      "state": {
       "description_width": ""
      }
     },
     "3d1823261a014e3b9d4918d6da41b7bd": {
      "model_module": "@jupyter-widgets/controls",
      "model_module_version": "1.5.0",
      "model_name": "HTMLModel",
      "state": {
       "layout": "IPY_MODEL_049372c5a75a4a399e3adad3ed6fae69",
       "style": "IPY_MODEL_79395e8298864db1a3232fb6a97d3699",
       "value": " 550/? [00:01&lt;00:00, 409.88it/s]"
      }
     },
     "3d39f8609e8a4fb0ad8f58e479f3a24f": {
      "model_module": "@jupyter-widgets/controls",
      "model_module_version": "1.5.0",
      "model_name": "FloatProgressModel",
      "state": {
       "description": "Validating: ",
       "layout": "IPY_MODEL_4e686c228cca44f693175be504b78276",
       "max": 541,
       "style": "IPY_MODEL_0c748aebfe5b4de2a2eda7b79d826ba3",
       "value": 541
      }
     },
     "3d6ec858d7ec4e028f88e02af49e1a55": {
      "model_module": "@jupyter-widgets/base",
      "model_module_version": "1.2.0",
      "model_name": "LayoutModel",
      "state": {}
     },
     "3d98f2c2be534cb0b19a452a21aa958d": {
      "model_module": "@jupyter-widgets/base",
      "model_module_version": "1.2.0",
      "model_name": "LayoutModel",
      "state": {
       "flex": "2"
      }
     },
     "3dced3f6ca834a0cb08ace7c57b42832": {
      "model_module": "@jupyter-widgets/controls",
      "model_module_version": "1.5.0",
      "model_name": "FloatProgressModel",
      "state": {
       "description": "Validating: ",
       "layout": "IPY_MODEL_f82bfb6817a842bd8e8614f8584865a6",
       "max": 541,
       "style": "IPY_MODEL_29afd05f9d144ad3a034923c246d9813",
       "value": 541
      }
     },
     "3df7e85629b741d0bed4b014cb27e446": {
      "model_module": "@jupyter-widgets/base",
      "model_module_version": "1.2.0",
      "model_name": "LayoutModel",
      "state": {
       "flex": "2"
      }
     },
     "3e0966c1965d44be92b3bb560f346ede": {
      "model_module": "@jupyter-widgets/base",
      "model_module_version": "1.2.0",
      "model_name": "LayoutModel",
      "state": {}
     },
     "3e55dda9ea6240e489d1eaac6b8e5255": {
      "model_module": "@jupyter-widgets/controls",
      "model_module_version": "1.5.0",
      "model_name": "FloatProgressModel",
      "state": {
       "description": "Validating: ",
       "layout": "IPY_MODEL_e8b29f78422a4b238f1ca793b1016739",
       "max": 541,
       "style": "IPY_MODEL_be95d95454554604af3985936aa639b9",
       "value": 541
      }
     },
     "3ebedd4981034ff0bfeef47a4e997a09": {
      "model_module": "@jupyter-widgets/controls",
      "model_module_version": "1.5.0",
      "model_name": "FloatProgressModel",
      "state": {
       "description": "Validating: ",
       "layout": "IPY_MODEL_7e9b0ee7c4f94a5e8e4cecd802341fdd",
       "max": 541,
       "style": "IPY_MODEL_12f110bc6f684f888ff868c049b0819b",
       "value": 541
      }
     },
     "3f130faf28974fe893383ba0dac785c8": {
      "model_module": "@jupyter-widgets/controls",
      "model_module_version": "1.5.0",
      "model_name": "HTMLModel",
      "state": {
       "layout": "IPY_MODEL_69a6f9ef0d9244c58d05251d7e8b5e90",
       "style": "IPY_MODEL_a3e6c6de4a6e45daae8bbeaf5c55055a",
       "value": " 550/? [00:01&lt;00:00, 443.17it/s]"
      }
     },
     "3f360f8066374fdbbcbb3bb81e5db422": {
      "model_module": "@jupyter-widgets/controls",
      "model_module_version": "1.5.0",
      "model_name": "HTMLModel",
      "state": {
       "layout": "IPY_MODEL_89b0a70ce0974ed488be009a54a7435e",
       "style": "IPY_MODEL_d8c435a3ec3e4f2487fe593b7ca9685e",
       "value": " 550/? [00:01&lt;00:00, 450.23it/s]"
      }
     },
     "3f49fe2af44a4f42834f0a027c91912d": {
      "model_module": "@jupyter-widgets/controls",
      "model_module_version": "1.5.0",
      "model_name": "HTMLModel",
      "state": {
       "layout": "IPY_MODEL_0cfcf62d621443dfbc8f789c869e17eb",
       "style": "IPY_MODEL_807f5cbe89d942b886e13e9bae720dc1",
       "value": " 550/? [00:01&lt;00:00, 447.43it/s]"
      }
     },
     "3f8f5fe277194e49b79736726e6f24af": {
      "model_module": "@jupyter-widgets/base",
      "model_module_version": "1.2.0",
      "model_name": "LayoutModel",
      "state": {
       "flex": "2"
      }
     },
     "3fb0c0406d6b47469b828671caca39e4": {
      "model_module": "@jupyter-widgets/controls",
      "model_module_version": "1.5.0",
      "model_name": "FloatProgressModel",
      "state": {
       "description": "Validating: ",
       "layout": "IPY_MODEL_371f8e221230439b8dfe5f34a64f869c",
       "max": 541,
       "style": "IPY_MODEL_6a2260d4fb7a41f7a6085dda495bf427",
       "value": 541
      }
     },
     "40639531bc8e457982d6bd053d31c5d1": {
      "model_module": "@jupyter-widgets/base",
      "model_module_version": "1.2.0",
      "model_name": "LayoutModel",
      "state": {}
     },
     "4075de2426e344219e87c5ed75e0f6b7": {
      "model_module": "@jupyter-widgets/base",
      "model_module_version": "1.2.0",
      "model_name": "LayoutModel",
      "state": {
       "flex": "2"
      }
     },
     "415356f28c9c496fb3232e85d67789fd": {
      "model_module": "@jupyter-widgets/controls",
      "model_module_version": "1.5.0",
      "model_name": "FloatProgressModel",
      "state": {
       "description": "Validating: ",
       "layout": "IPY_MODEL_c0521d54fa7f4eb39ea06b659967d734",
       "max": 541,
       "style": "IPY_MODEL_a7d02c0334134ec0a500d38836182b93",
       "value": 541
      }
     },
     "4160664f88a743ec9caf3d03e80cafa9": {
      "model_module": "@jupyter-widgets/controls",
      "model_module_version": "1.5.0",
      "model_name": "DescriptionStyleModel",
      "state": {
       "description_width": ""
      }
     },
     "41dec9ce2a814f5f87a65d6184c4e024": {
      "model_module": "@jupyter-widgets/controls",
      "model_module_version": "1.5.0",
      "model_name": "ProgressStyleModel",
      "state": {
       "description_width": "initial"
      }
     },
     "424a839ec4d44d4c9882f37fa53adf4d": {
      "model_module": "@jupyter-widgets/controls",
      "model_module_version": "1.5.0",
      "model_name": "FloatProgressModel",
      "state": {
       "description": "Validating: ",
       "layout": "IPY_MODEL_3959fb47524b4a9389faf8320b81029c",
       "max": 541,
       "style": "IPY_MODEL_b9082853f50e4f8596acad13c3cd9b65",
       "value": 541
      }
     },
     "428b2ad055fc4f8c80e509283af484a5": {
      "model_module": "@jupyter-widgets/controls",
      "model_module_version": "1.5.0",
      "model_name": "DescriptionStyleModel",
      "state": {
       "description_width": ""
      }
     },
     "42b4c9b78ba247a493136bfec8a07dd0": {
      "model_module": "@jupyter-widgets/base",
      "model_module_version": "1.2.0",
      "model_name": "LayoutModel",
      "state": {
       "flex": "2"
      }
     },
     "43a81c320d974629b1adf1939c946814": {
      "model_module": "@jupyter-widgets/controls",
      "model_module_version": "1.5.0",
      "model_name": "HTMLModel",
      "state": {
       "layout": "IPY_MODEL_f880d1d90e0c433d892396f659a73d79",
       "style": "IPY_MODEL_5fe84b193ba2471baa6b2551d04f0aa3",
       "value": " 550/? [00:01&lt;00:00, 423.28it/s]"
      }
     },
     "43dae02f2faf4a56a846eeba9d0dc79a": {
      "model_module": "@jupyter-widgets/base",
      "model_module_version": "1.2.0",
      "model_name": "LayoutModel",
      "state": {}
     },
     "43e53c6d8dbc40b2af8ffb583cc82421": {
      "model_module": "@jupyter-widgets/base",
      "model_module_version": "1.2.0",
      "model_name": "LayoutModel",
      "state": {
       "display": "inline-flex",
       "flex_flow": "row wrap",
       "width": "100%"
      }
     },
     "43f46fb8ba754ed9b340ec546129d52b": {
      "model_module": "@jupyter-widgets/base",
      "model_module_version": "1.2.0",
      "model_name": "LayoutModel",
      "state": {
       "flex": "2"
      }
     },
     "440f294513f94e0eafafe1175fea490f": {
      "model_module": "@jupyter-widgets/base",
      "model_module_version": "1.2.0",
      "model_name": "LayoutModel",
      "state": {
       "flex": "2"
      }
     },
     "4442fdd7d8aa449293263ee8f5191ab1": {
      "model_module": "@jupyter-widgets/base",
      "model_module_version": "1.2.0",
      "model_name": "LayoutModel",
      "state": {
       "display": "inline-flex",
       "flex_flow": "row wrap",
       "width": "100%"
      }
     },
     "446ecd2b6f3540529d0ae035885c870b": {
      "model_module": "@jupyter-widgets/base",
      "model_module_version": "1.2.0",
      "model_name": "LayoutModel",
      "state": {}
     },
     "45390d9c68914bec8ce18e2d6524db68": {
      "model_module": "@jupyter-widgets/controls",
      "model_module_version": "1.5.0",
      "model_name": "DescriptionStyleModel",
      "state": {
       "description_width": ""
      }
     },
     "45bbfd84ef3747c7b3e904723daca297": {
      "model_module": "@jupyter-widgets/base",
      "model_module_version": "1.2.0",
      "model_name": "LayoutModel",
      "state": {
       "flex": "2"
      }
     },
     "45fc3098a93f4501bd8a9f0c1e75abc0": {
      "model_module": "@jupyter-widgets/controls",
      "model_module_version": "1.5.0",
      "model_name": "ProgressStyleModel",
      "state": {
       "description_width": "initial"
      }
     },
     "467c71f496144a8bbe7a320ea812f607": {
      "model_module": "@jupyter-widgets/base",
      "model_module_version": "1.2.0",
      "model_name": "LayoutModel",
      "state": {
       "display": "inline-flex",
       "flex_flow": "row wrap",
       "width": "100%"
      }
     },
     "46a02fcdc8a048caa60651696b3ad028": {
      "model_module": "@jupyter-widgets/controls",
      "model_module_version": "1.5.0",
      "model_name": "DescriptionStyleModel",
      "state": {
       "description_width": ""
      }
     },
     "46eae13b05c544da9f85ba5cd09bae1b": {
      "model_module": "@jupyter-widgets/controls",
      "model_module_version": "1.5.0",
      "model_name": "FloatProgressModel",
      "state": {
       "description": "Validating: ",
       "layout": "IPY_MODEL_c3e7be117a5e49599deae5226de6f165",
       "max": 541,
       "style": "IPY_MODEL_8a4aded7184e4800880f39298eabbe35",
       "value": 541
      }
     },
     "46ebb5d751e54369b2801957365322dc": {
      "model_module": "@jupyter-widgets/base",
      "model_module_version": "1.2.0",
      "model_name": "LayoutModel",
      "state": {}
     },
     "476b32613fc14f29b89b62a53ec10688": {
      "model_module": "@jupyter-widgets/base",
      "model_module_version": "1.2.0",
      "model_name": "LayoutModel",
      "state": {
       "flex": "2"
      }
     },
     "48327e684cc44d2db199dccb4c51961d": {
      "model_module": "@jupyter-widgets/controls",
      "model_module_version": "1.5.0",
      "model_name": "ProgressStyleModel",
      "state": {
       "description_width": "initial"
      }
     },
     "48dc450e89544ad7b8a2e45ec7c3954e": {
      "model_module": "@jupyter-widgets/controls",
      "model_module_version": "1.5.0",
      "model_name": "FloatProgressModel",
      "state": {
       "description": "Validating: ",
       "layout": "IPY_MODEL_9d278cb9afbd4bbdb93638972bb8eb23",
       "max": 541,
       "style": "IPY_MODEL_c94b4fb0af81448e9da7ea5b51c15dfc",
       "value": 541
      }
     },
     "49b0c87e54ba49038be19f4a66e8b1a0": {
      "model_module": "@jupyter-widgets/base",
      "model_module_version": "1.2.0",
      "model_name": "LayoutModel",
      "state": {
       "flex": "2"
      }
     },
     "4a3e5d23d0be4e978cbae14f353f4119": {
      "model_module": "@jupyter-widgets/controls",
      "model_module_version": "1.5.0",
      "model_name": "FloatProgressModel",
      "state": {
       "description": "Validating: ",
       "layout": "IPY_MODEL_b36979e27e6f4aceaed5a36e4d160465",
       "max": 541,
       "style": "IPY_MODEL_5fb050c2273a4930a7b172381e3c67e7",
       "value": 541
      }
     },
     "4a780ed556e348138415583252d31f50": {
      "model_module": "@jupyter-widgets/controls",
      "model_module_version": "1.5.0",
      "model_name": "ProgressStyleModel",
      "state": {
       "description_width": "initial"
      }
     },
     "4a9e1fff4be64750b0490ec6c96b9df5": {
      "model_module": "@jupyter-widgets/controls",
      "model_module_version": "1.5.0",
      "model_name": "DescriptionStyleModel",
      "state": {
       "description_width": ""
      }
     },
     "4af5f5b1c65f44e5a4c82624a45ebc40": {
      "model_module": "@jupyter-widgets/controls",
      "model_module_version": "1.5.0",
      "model_name": "DescriptionStyleModel",
      "state": {
       "description_width": ""
      }
     },
     "4b0d4954ccff411a889a11143d492297": {
      "model_module": "@jupyter-widgets/base",
      "model_module_version": "1.2.0",
      "model_name": "LayoutModel",
      "state": {
       "flex": "2"
      }
     },
     "4b468b9506464db79f926468f4fd259e": {
      "model_module": "@jupyter-widgets/base",
      "model_module_version": "1.2.0",
      "model_name": "LayoutModel",
      "state": {}
     },
     "4bb017ebe6e84ac699df93e404b01b7f": {
      "model_module": "@jupyter-widgets/controls",
      "model_module_version": "1.5.0",
      "model_name": "HTMLModel",
      "state": {
       "layout": "IPY_MODEL_ac2e40aa62314e4da05d8da493b4dc61",
       "style": "IPY_MODEL_c1d917e7b9374f7ebb9b53f5b8ba9260",
       "value": " 550/? [00:01&lt;00:00, 396.55it/s]"
      }
     },
     "4bf84d2ca57043c5832e48ec33f74f40": {
      "model_module": "@jupyter-widgets/controls",
      "model_module_version": "1.5.0",
      "model_name": "HTMLModel",
      "state": {
       "layout": "IPY_MODEL_d13773d58572490eae0735a0c12d2d13",
       "style": "IPY_MODEL_acb492122de94df4ac4ef757bc5792bb",
       "value": " 550/? [00:01&lt;00:00, 391.95it/s]"
      }
     },
     "4d227c4f22c6467c9545beb64327015f": {
      "model_module": "@jupyter-widgets/base",
      "model_module_version": "1.2.0",
      "model_name": "LayoutModel",
      "state": {
       "flex": "2"
      }
     },
     "4d367f59aec746dc8462a7c1cd7d08d0": {
      "model_module": "@jupyter-widgets/controls",
      "model_module_version": "1.5.0",
      "model_name": "FloatProgressModel",
      "state": {
       "description": "Validating: ",
       "layout": "IPY_MODEL_c05b529b1b854f4398d37dca5d691937",
       "max": 541,
       "style": "IPY_MODEL_dcf16ba92e7544fe8c5fbfdf12ce74be",
       "value": 541
      }
     },
     "4d68a71f73c44d7a8ae7b3e9e23ca6bb": {
      "model_module": "@jupyter-widgets/base",
      "model_module_version": "1.2.0",
      "model_name": "LayoutModel",
      "state": {}
     },
     "4d748b86c2984ecfbeeb3df8ff1bb6ae": {
      "model_module": "@jupyter-widgets/base",
      "model_module_version": "1.2.0",
      "model_name": "LayoutModel",
      "state": {
       "flex": "2"
      }
     },
     "4e686c228cca44f693175be504b78276": {
      "model_module": "@jupyter-widgets/base",
      "model_module_version": "1.2.0",
      "model_name": "LayoutModel",
      "state": {
       "flex": "2"
      }
     },
     "4e8a39d0df844f42a7b17e4e78941730": {
      "model_module": "@jupyter-widgets/controls",
      "model_module_version": "1.5.0",
      "model_name": "DescriptionStyleModel",
      "state": {
       "description_width": ""
      }
     },
     "4f45e762086548298374d16bad365c15": {
      "model_module": "@jupyter-widgets/controls",
      "model_module_version": "1.5.0",
      "model_name": "ProgressStyleModel",
      "state": {
       "description_width": "initial"
      }
     },
     "504c1dd62a3d441c8fe81c1cde734718": {
      "model_module": "@jupyter-widgets/base",
      "model_module_version": "1.2.0",
      "model_name": "LayoutModel",
      "state": {
       "display": "inline-flex",
       "flex_flow": "row wrap",
       "width": "100%"
      }
     },
     "52ca88bc358c4570992bb7d7c3182df3": {
      "model_module": "@jupyter-widgets/controls",
      "model_module_version": "1.5.0",
      "model_name": "DescriptionStyleModel",
      "state": {
       "description_width": ""
      }
     },
     "55a2cda2c6bf4f56a7dffecc7053e4d3": {
      "model_module": "@jupyter-widgets/base",
      "model_module_version": "1.2.0",
      "model_name": "LayoutModel",
      "state": {}
     },
     "55ca2c630e4747a89d81fcbcaf6e33b7": {
      "model_module": "@jupyter-widgets/controls",
      "model_module_version": "1.5.0",
      "model_name": "ProgressStyleModel",
      "state": {
       "description_width": "initial"
      }
     },
     "560664e4aef547b5a3cd1621016a168b": {
      "model_module": "@jupyter-widgets/controls",
      "model_module_version": "1.5.0",
      "model_name": "DescriptionStyleModel",
      "state": {
       "description_width": ""
      }
     },
     "5645b99483114035818fa51039ffd65a": {
      "model_module": "@jupyter-widgets/controls",
      "model_module_version": "1.5.0",
      "model_name": "HTMLModel",
      "state": {
       "layout": "IPY_MODEL_0962c41148064bab8ac0dad43195a8e8",
       "style": "IPY_MODEL_fe158abf89be4f0a95cf1df23477b74f",
       "value": " 550/? [00:01&lt;00:00, 403.67it/s]"
      }
     },
     "5654aeb5b0f6411d8937bd301d20f0fb": {
      "model_module": "@jupyter-widgets/controls",
      "model_module_version": "1.5.0",
      "model_name": "HTMLModel",
      "state": {
       "layout": "IPY_MODEL_3bf688c4d39246d194611e049707cfaf",
       "style": "IPY_MODEL_428b2ad055fc4f8c80e509283af484a5",
       "value": " 550/? [00:01&lt;00:00, 433.71it/s]"
      }
     },
     "568386f7d7014a6cad41f2624268190b": {
      "model_module": "@jupyter-widgets/controls",
      "model_module_version": "1.5.0",
      "model_name": "HTMLModel",
      "state": {
       "layout": "IPY_MODEL_2a544ebb03b8405aa5aaa6004c5a1e7a",
       "style": "IPY_MODEL_92e69e5d0764419b8aefa985f0f6af52",
       "value": " 550/? [00:01&lt;00:00, 452.93it/s]"
      }
     },
     "56ce05624ec34eb5b3b2b8aaf9344388": {
      "model_module": "@jupyter-widgets/base",
      "model_module_version": "1.2.0",
      "model_name": "LayoutModel",
      "state": {
       "display": "inline-flex",
       "flex_flow": "row wrap",
       "width": "100%"
      }
     },
     "56e946ca40d94226ae9bb873f59550df": {
      "model_module": "@jupyter-widgets/base",
      "model_module_version": "1.2.0",
      "model_name": "LayoutModel",
      "state": {
       "display": "inline-flex",
       "flex_flow": "row wrap",
       "width": "100%"
      }
     },
     "5700676fc46849edb70f30a05ead61f8": {
      "model_module": "@jupyter-widgets/controls",
      "model_module_version": "1.5.0",
      "model_name": "ProgressStyleModel",
      "state": {
       "description_width": "initial"
      }
     },
     "5765671efb3f437baf9f72467676e12b": {
      "model_module": "@jupyter-widgets/controls",
      "model_module_version": "1.5.0",
      "model_name": "ProgressStyleModel",
      "state": {
       "description_width": "initial"
      }
     },
     "57e9f7ca861342f2a43cbb385cea5e20": {
      "model_module": "@jupyter-widgets/controls",
      "model_module_version": "1.5.0",
      "model_name": "DescriptionStyleModel",
      "state": {
       "description_width": ""
      }
     },
     "5847f3399c9f49c982497c855d436c9a": {
      "model_module": "@jupyter-widgets/controls",
      "model_module_version": "1.5.0",
      "model_name": "ProgressStyleModel",
      "state": {
       "description_width": "initial"
      }
     },
     "587e4b9efa934138be275b35080c9524": {
      "model_module": "@jupyter-widgets/controls",
      "model_module_version": "1.5.0",
      "model_name": "FloatProgressModel",
      "state": {
       "description": "Validating: ",
       "layout": "IPY_MODEL_3348e333bc3d4a67bc259ff47194f1c9",
       "max": 541,
       "style": "IPY_MODEL_381f173f84124bbca4cfb10161f7f2ef",
       "value": 541
      }
     },
     "588c0c8f935747e291877761091007d7": {
      "model_module": "@jupyter-widgets/base",
      "model_module_version": "1.2.0",
      "model_name": "LayoutModel",
      "state": {}
     },
     "595be4b88b1e47e2b38f98850fd12cb9": {
      "model_module": "@jupyter-widgets/controls",
      "model_module_version": "1.5.0",
      "model_name": "ProgressStyleModel",
      "state": {
       "description_width": "initial"
      }
     },
     "59ce698f0124429889fbded579a46701": {
      "model_module": "@jupyter-widgets/controls",
      "model_module_version": "1.5.0",
      "model_name": "HTMLModel",
      "state": {
       "layout": "IPY_MODEL_2b9a639a3ee1447691b863a71c953819",
       "style": "IPY_MODEL_cfe0f3d74ae0415c9357c3e68b837ae7",
       "value": " 550/? [00:01&lt;00:00, 411.89it/s]"
      }
     },
     "59f11ae04a9a4673a5823092b987df7b": {
      "model_module": "@jupyter-widgets/controls",
      "model_module_version": "1.5.0",
      "model_name": "FloatProgressModel",
      "state": {
       "description": "Validating: ",
       "layout": "IPY_MODEL_7dea29fa1f0c448aa4a6a19221917bbc",
       "max": 541,
       "style": "IPY_MODEL_5ade3dfcbeca470a8afd4bc2d892373a",
       "value": 541
      }
     },
     "5a49ef244304438386e07dae1d083cdc": {
      "model_module": "@jupyter-widgets/controls",
      "model_module_version": "1.5.0",
      "model_name": "DescriptionStyleModel",
      "state": {
       "description_width": ""
      }
     },
     "5ade3dfcbeca470a8afd4bc2d892373a": {
      "model_module": "@jupyter-widgets/controls",
      "model_module_version": "1.5.0",
      "model_name": "ProgressStyleModel",
      "state": {
       "description_width": "initial"
      }
     },
     "5b04714f10e34b42ac402e20b805b9cd": {
      "model_module": "@jupyter-widgets/controls",
      "model_module_version": "1.5.0",
      "model_name": "DescriptionStyleModel",
      "state": {
       "description_width": ""
      }
     },
     "5b09e652862340afafcc1139eca12f18": {
      "model_module": "@jupyter-widgets/base",
      "model_module_version": "1.2.0",
      "model_name": "LayoutModel",
      "state": {}
     },
     "5b3fd5d8d7474175879c737125f75255": {
      "model_module": "@jupyter-widgets/base",
      "model_module_version": "1.2.0",
      "model_name": "LayoutModel",
      "state": {
       "display": "inline-flex",
       "flex_flow": "row wrap",
       "width": "100%"
      }
     },
     "5b88b9941faa4f18b0f5924033aa53e2": {
      "model_module": "@jupyter-widgets/base",
      "model_module_version": "1.2.0",
      "model_name": "LayoutModel",
      "state": {
       "display": "inline-flex",
       "flex_flow": "row wrap",
       "width": "100%"
      }
     },
     "5bb94c3587674eb69cd3fb0287c1b3e9": {
      "model_module": "@jupyter-widgets/controls",
      "model_module_version": "1.5.0",
      "model_name": "HTMLModel",
      "state": {
       "layout": "IPY_MODEL_ee1b49f94d394d2188ff99a3cb0095c7",
       "style": "IPY_MODEL_11f304305bfd42948dafecd9bc0120a3",
       "value": " 3100/? [00:11&lt;00:00, 278.04it/s, loss=4.844, v_num=0]"
      }
     },
     "5bf0eeb3e08341da8708fbdc901e203a": {
      "model_module": "@jupyter-widgets/controls",
      "model_module_version": "1.5.0",
      "model_name": "FloatProgressModel",
      "state": {
       "description": "Validating: ",
       "layout": "IPY_MODEL_3f8f5fe277194e49b79736726e6f24af",
       "max": 541,
       "style": "IPY_MODEL_ca07d0af546b4281aeda7c8044096659",
       "value": 541
      }
     },
     "5c7ba377ef924c33928fcec3c1a06057": {
      "model_module": "@jupyter-widgets/controls",
      "model_module_version": "1.5.0",
      "model_name": "HTMLModel",
      "state": {
       "layout": "IPY_MODEL_265c3a2e399c457bad2cf9ce1d8a73b3",
       "style": "IPY_MODEL_690d131018674d4a9ade155f3eecb91a",
       "value": " 550/? [00:01&lt;00:00, 417.46it/s]"
      }
     },
     "5ced8b11be64475483687724958e69f4": {
      "model_module": "@jupyter-widgets/base",
      "model_module_version": "1.2.0",
      "model_name": "LayoutModel",
      "state": {
       "display": "inline-flex",
       "flex_flow": "row wrap",
       "width": "100%"
      }
     },
     "5d20cf5e535c41e2b95a8d8dcdacc0f0": {
      "model_module": "@jupyter-widgets/controls",
      "model_module_version": "1.5.0",
      "model_name": "HTMLModel",
      "state": {
       "layout": "IPY_MODEL_4b468b9506464db79f926468f4fd259e",
       "style": "IPY_MODEL_01727e8a72af41be92ebca457ebe484b",
       "value": " 550/? [00:01&lt;00:00, 420.59it/s]"
      }
     },
     "5d53a92b1b3e46e2be9233b88879e982": {
      "model_module": "@jupyter-widgets/controls",
      "model_module_version": "1.5.0",
      "model_name": "FloatProgressModel",
      "state": {
       "description": "Validating: ",
       "layout": "IPY_MODEL_fbcd0643d0d646a795ff2e33dd3532cf",
       "max": 541,
       "style": "IPY_MODEL_595be4b88b1e47e2b38f98850fd12cb9",
       "value": 541
      }
     },
     "5d5f7066dfdd42c28195367f4658b4f9": {
      "model_module": "@jupyter-widgets/controls",
      "model_module_version": "1.5.0",
      "model_name": "ProgressStyleModel",
      "state": {
       "description_width": "initial"
      }
     },
     "5edbd48ef3f2475883c90f3234081203": {
      "model_module": "@jupyter-widgets/controls",
      "model_module_version": "1.5.0",
      "model_name": "ProgressStyleModel",
      "state": {
       "description_width": "initial"
      }
     },
     "5f5d44577c124e198fb9b17cfacb23e4": {
      "model_module": "@jupyter-widgets/base",
      "model_module_version": "1.2.0",
      "model_name": "LayoutModel",
      "state": {}
     },
     "5fb050c2273a4930a7b172381e3c67e7": {
      "model_module": "@jupyter-widgets/controls",
      "model_module_version": "1.5.0",
      "model_name": "ProgressStyleModel",
      "state": {
       "description_width": "initial"
      }
     },
     "5fe2df1f710d4489bc5f2445d0c949a3": {
      "model_module": "@jupyter-widgets/base",
      "model_module_version": "1.2.0",
      "model_name": "LayoutModel",
      "state": {
       "display": "inline-flex",
       "flex_flow": "row wrap",
       "width": "100%"
      }
     },
     "5fe84b193ba2471baa6b2551d04f0aa3": {
      "model_module": "@jupyter-widgets/controls",
      "model_module_version": "1.5.0",
      "model_name": "DescriptionStyleModel",
      "state": {
       "description_width": ""
      }
     },
     "603d8f8a6ddc424d9b26858e65f20a4d": {
      "model_module": "@jupyter-widgets/controls",
      "model_module_version": "1.5.0",
      "model_name": "ProgressStyleModel",
      "state": {
       "description_width": "initial"
      }
     },
     "6045d290649a4a8caa3c895f369d7943": {
      "model_module": "@jupyter-widgets/base",
      "model_module_version": "1.2.0",
      "model_name": "LayoutModel",
      "state": {}
     },
     "60680683b87d4027b76522ef35b35723": {
      "model_module": "@jupyter-widgets/controls",
      "model_module_version": "1.5.0",
      "model_name": "FloatProgressModel",
      "state": {
       "description": "Validating: ",
       "layout": "IPY_MODEL_6c0b5b9f5d284eba9fec75696ac51d11",
       "max": 541,
       "style": "IPY_MODEL_d836fafc4e1b4cdba74641616f840a0d",
       "value": 541
      }
     },
     "611be5d9442c49858afbbffcf3e1bd75": {
      "model_module": "@jupyter-widgets/controls",
      "model_module_version": "1.5.0",
      "model_name": "DescriptionStyleModel",
      "state": {
       "description_width": ""
      }
     },
     "612bd5d313404da0b59cbfeecff2090e": {
      "model_module": "@jupyter-widgets/controls",
      "model_module_version": "1.5.0",
      "model_name": "HTMLModel",
      "state": {
       "layout": "IPY_MODEL_46ebb5d751e54369b2801957365322dc",
       "style": "IPY_MODEL_fe10d535ffaa47beacfbb05801aca645",
       "value": " 550/? [00:01&lt;00:00, 459.68it/s]"
      }
     },
     "614f9c4419944fcca5585e41c323c390": {
      "model_module": "@jupyter-widgets/base",
      "model_module_version": "1.2.0",
      "model_name": "LayoutModel",
      "state": {
       "flex": "2"
      }
     },
     "61ffb1ffcffd4d4283b4ce053c87fb53": {
      "model_module": "@jupyter-widgets/base",
      "model_module_version": "1.2.0",
      "model_name": "LayoutModel",
      "state": {}
     },
     "62f70dfa12f44b7284225a856a817f89": {
      "model_module": "@jupyter-widgets/controls",
      "model_module_version": "1.5.0",
      "model_name": "DescriptionStyleModel",
      "state": {
       "description_width": ""
      }
     },
     "63270136c8794bbab83fec84109a854d": {
      "model_module": "@jupyter-widgets/base",
      "model_module_version": "1.2.0",
      "model_name": "LayoutModel",
      "state": {
       "flex": "2"
      }
     },
     "638ee142e6d74098881ac5301eac9fd1": {
      "model_module": "@jupyter-widgets/controls",
      "model_module_version": "1.5.0",
      "model_name": "HTMLModel",
      "state": {
       "layout": "IPY_MODEL_039d7e03b229488fac37258a60e18dfd",
       "style": "IPY_MODEL_34cc5ff7118c4a6d858441a1bd6f4dde",
       "value": " 550/? [00:01&lt;00:00, 399.74it/s]"
      }
     },
     "6400732a62124b9d986a271d257bc256": {
      "model_module": "@jupyter-widgets/base",
      "model_module_version": "1.2.0",
      "model_name": "LayoutModel",
      "state": {
       "display": "inline-flex",
       "flex_flow": "row wrap",
       "width": "100%"
      }
     },
     "642f115181494da79cfbe200630f45d4": {
      "model_module": "@jupyter-widgets/controls",
      "model_module_version": "1.5.0",
      "model_name": "HTMLModel",
      "state": {
       "layout": "IPY_MODEL_8921b0b17c3d485298a98f660a2aab18",
       "style": "IPY_MODEL_33789bf3734a4ead9c53588b1d2f05bd",
       "value": " 550/? [00:01&lt;00:00, 420.76it/s]"
      }
     },
     "64c74e85c48c42dc92929f2c5398cd4c": {
      "model_module": "@jupyter-widgets/base",
      "model_module_version": "1.2.0",
      "model_name": "LayoutModel",
      "state": {
       "display": "inline-flex",
       "flex_flow": "row wrap",
       "width": "100%"
      }
     },
     "66628058f4514f05b27b6c0cd563ea34": {
      "model_module": "@jupyter-widgets/controls",
      "model_module_version": "1.5.0",
      "model_name": "HTMLModel",
      "state": {
       "layout": "IPY_MODEL_79dc1b64b8564cad87d59b79bf357a41",
       "style": "IPY_MODEL_4af5f5b1c65f44e5a4c82624a45ebc40",
       "value": " 550/? [00:01&lt;00:00, 451.71it/s]"
      }
     },
     "6664795f92d0414098c3493ea13eb315": {
      "model_module": "@jupyter-widgets/base",
      "model_module_version": "1.2.0",
      "model_name": "LayoutModel",
      "state": {}
     },
     "6693b6f6d4314599b3fdba6839ecf795": {
      "model_module": "@jupyter-widgets/controls",
      "model_module_version": "1.5.0",
      "model_name": "FloatProgressModel",
      "state": {
       "description": "Validating: ",
       "layout": "IPY_MODEL_21b814ade2b843e89873e196bf5f7157",
       "max": 541,
       "style": "IPY_MODEL_2eb0559aa2004a9ea8ba7a2d12ef7edc",
       "value": 541
      }
     },
     "66a416fdb51144499b4abfda155d81c7": {
      "model_module": "@jupyter-widgets/base",
      "model_module_version": "1.2.0",
      "model_name": "LayoutModel",
      "state": {
       "flex": "2"
      }
     },
     "66df62fafeb047bd98c9ad7de596e6ea": {
      "model_module": "@jupyter-widgets/controls",
      "model_module_version": "1.5.0",
      "model_name": "HTMLModel",
      "state": {
       "layout": "IPY_MODEL_18acd1b5c9ce43aa90081abb58a442c5",
       "style": "IPY_MODEL_26aa1632900b4c2ea16b8706dd7a530e",
       "value": " 550/? [00:01&lt;00:00, 435.24it/s]"
      }
     },
     "67019941a4ce4e5abeb5dc23da09e6da": {
      "model_module": "@jupyter-widgets/base",
      "model_module_version": "1.2.0",
      "model_name": "LayoutModel",
      "state": {
       "display": "inline-flex",
       "flex_flow": "row wrap",
       "width": "100%"
      }
     },
     "67d89a40396049578e1ebd4ddb01fc28": {
      "model_module": "@jupyter-widgets/controls",
      "model_module_version": "1.5.0",
      "model_name": "FloatProgressModel",
      "state": {
       "description": "Validation sanity check: ",
       "layout": "IPY_MODEL_2c3e7f9ca2eb4023ad2bbff7990bc872",
       "max": 5,
       "style": "IPY_MODEL_d991ce0866e94eef87effefb27b1c8bd",
       "value": 5
      }
     },
     "67f4f0e5da90420f8bd0d56a430caef4": {
      "model_module": "@jupyter-widgets/controls",
      "model_module_version": "1.5.0",
      "model_name": "DescriptionStyleModel",
      "state": {
       "description_width": ""
      }
     },
     "685bee7898754791920e87b0c09c7ef9": {
      "model_module": "@jupyter-widgets/controls",
      "model_module_version": "1.5.0",
      "model_name": "HTMLModel",
      "state": {
       "layout": "IPY_MODEL_43dae02f2faf4a56a846eeba9d0dc79a",
       "style": "IPY_MODEL_ab112589b3ba4f0c821db95d7a0bb671",
       "value": " 550/? [00:01&lt;00:00, 390.42it/s]"
      }
     },
     "68b2a962ba83467f93acbae78439e0e4": {
      "model_module": "@jupyter-widgets/controls",
      "model_module_version": "1.5.0",
      "model_name": "DescriptionStyleModel",
      "state": {
       "description_width": ""
      }
     },
     "68ef520a9cec476c995dc801f6278fd8": {
      "model_module": "@jupyter-widgets/base",
      "model_module_version": "1.2.0",
      "model_name": "LayoutModel",
      "state": {
       "flex": "2"
      }
     },
     "690d131018674d4a9ade155f3eecb91a": {
      "model_module": "@jupyter-widgets/controls",
      "model_module_version": "1.5.0",
      "model_name": "DescriptionStyleModel",
      "state": {
       "description_width": ""
      }
     },
     "693b2de8c4744d279cf2a59fae9ea6c4": {
      "model_module": "@jupyter-widgets/base",
      "model_module_version": "1.2.0",
      "model_name": "LayoutModel",
      "state": {
       "flex": "2"
      }
     },
     "69a6f9ef0d9244c58d05251d7e8b5e90": {
      "model_module": "@jupyter-widgets/base",
      "model_module_version": "1.2.0",
      "model_name": "LayoutModel",
      "state": {}
     },
     "69b573ef02634f44bb7c0b69acc4c482": {
      "model_module": "@jupyter-widgets/base",
      "model_module_version": "1.2.0",
      "model_name": "LayoutModel",
      "state": {
       "flex": "2"
      }
     },
     "6a2260d4fb7a41f7a6085dda495bf427": {
      "model_module": "@jupyter-widgets/controls",
      "model_module_version": "1.5.0",
      "model_name": "ProgressStyleModel",
      "state": {
       "description_width": "initial"
      }
     },
     "6aa62a52d9d84dbaa189b6c5780fe12b": {
      "model_module": "@jupyter-widgets/controls",
      "model_module_version": "1.5.0",
      "model_name": "ProgressStyleModel",
      "state": {
       "description_width": "initial"
      }
     },
     "6bbfade586754fc395778e40341d2c4b": {
      "model_module": "@jupyter-widgets/controls",
      "model_module_version": "1.5.0",
      "model_name": "FloatProgressModel",
      "state": {
       "description": "Validating: ",
       "layout": "IPY_MODEL_3072f05656c942ff9ef82cbb70784b13",
       "max": 541,
       "style": "IPY_MODEL_f9652a0f56fe4fde91e84c0edaf287ae",
       "value": 541
      }
     },
     "6c0b5b9f5d284eba9fec75696ac51d11": {
      "model_module": "@jupyter-widgets/base",
      "model_module_version": "1.2.0",
      "model_name": "LayoutModel",
      "state": {
       "flex": "2"
      }
     },
     "6c20cbaa492c4405ad77109f9b71c279": {
      "model_module": "@jupyter-widgets/base",
      "model_module_version": "1.2.0",
      "model_name": "LayoutModel",
      "state": {
       "display": "inline-flex",
       "flex_flow": "row wrap",
       "width": "100%"
      }
     },
     "6ce8b8c310ab4c048d81d070c21adb32": {
      "model_module": "@jupyter-widgets/controls",
      "model_module_version": "1.5.0",
      "model_name": "DescriptionStyleModel",
      "state": {
       "description_width": ""
      }
     },
     "6d2b7c721e7d49f48582cb2e6c351525": {
      "model_module": "@jupyter-widgets/controls",
      "model_module_version": "1.5.0",
      "model_name": "DescriptionStyleModel",
      "state": {
       "description_width": ""
      }
     },
     "6d84d287212540d98e1a3b48fb3742fe": {
      "model_module": "@jupyter-widgets/controls",
      "model_module_version": "1.5.0",
      "model_name": "HTMLModel",
      "state": {
       "layout": "IPY_MODEL_446ecd2b6f3540529d0ae035885c870b",
       "style": "IPY_MODEL_9bbcb02dc07f43219d3558963ad7bf6a",
       "value": " 550/? [00:01&lt;00:00, 466.83it/s]"
      }
     },
     "6ded45b9684f499da6bbef900dd23db4": {
      "model_module": "@jupyter-widgets/controls",
      "model_module_version": "1.5.0",
      "model_name": "FloatProgressModel",
      "state": {
       "description": "Validating: ",
       "layout": "IPY_MODEL_f590f51eb7d64195892cdf12df2d441e",
       "max": 541,
       "style": "IPY_MODEL_bb4410495b7d48dbbd42c1b9d6bcd307",
       "value": 541
      }
     },
     "6e544ef30c194f339da1349c4c3b9e76": {
      "model_module": "@jupyter-widgets/controls",
      "model_module_version": "1.5.0",
      "model_name": "DescriptionStyleModel",
      "state": {
       "description_width": ""
      }
     },
     "6e8014bfcf35470aa89d2c969f3e3b5e": {
      "model_module": "@jupyter-widgets/base",
      "model_module_version": "1.2.0",
      "model_name": "LayoutModel",
      "state": {
       "display": "inline-flex",
       "flex_flow": "row wrap",
       "width": "100%"
      }
     },
     "6e8821721d244b7daecceff93a01e61e": {
      "model_module": "@jupyter-widgets/controls",
      "model_module_version": "1.5.0",
      "model_name": "HBoxModel",
      "state": {
       "children": [
        "IPY_MODEL_b72b7a33d72448cc9f2c9b7d45317b88",
        "IPY_MODEL_5bb94c3587674eb69cd3fb0287c1b3e9"
       ],
       "layout": "IPY_MODEL_1bacda1b2b9749d5a0852f4486b618f8"
      }
     },
     "6efd777b55ed4b089e864f235f94f62c": {
      "model_module": "@jupyter-widgets/controls",
      "model_module_version": "1.5.0",
      "model_name": "HTMLModel",
      "state": {
       "layout": "IPY_MODEL_2485f516ebf54fc08b5c45d311c9d49c",
       "style": "IPY_MODEL_611be5d9442c49858afbbffcf3e1bd75",
       "value": " 550/? [00:01&lt;00:00, 399.14it/s]"
      }
     },
     "6f16a51480c0481e90625d99baa940e0": {
      "model_module": "@jupyter-widgets/controls",
      "model_module_version": "1.5.0",
      "model_name": "ProgressStyleModel",
      "state": {
       "description_width": "initial"
      }
     },
     "6f6311a9f8fe4d3091ab8ed272505019": {
      "model_module": "@jupyter-widgets/controls",
      "model_module_version": "1.5.0",
      "model_name": "FloatProgressModel",
      "state": {
       "description": "Validating: ",
       "layout": "IPY_MODEL_1f2518e645a0411fb3b90c16c191f436",
       "max": 541,
       "style": "IPY_MODEL_5765671efb3f437baf9f72467676e12b",
       "value": 541
      }
     },
     "6f8e9ee4c04240ad9b4cd328a8e9a371": {
      "model_module": "@jupyter-widgets/controls",
      "model_module_version": "1.5.0",
      "model_name": "DescriptionStyleModel",
      "state": {
       "description_width": ""
      }
     },
     "6fe2fdd97cb44f5c8b2aa6d9b8107293": {
      "model_module": "@jupyter-widgets/controls",
      "model_module_version": "1.5.0",
      "model_name": "ProgressStyleModel",
      "state": {
       "description_width": "initial"
      }
     },
     "6ffd51ba5e6a44358b9c06eb140b79a3": {
      "model_module": "@jupyter-widgets/controls",
      "model_module_version": "1.5.0",
      "model_name": "HTMLModel",
      "state": {
       "layout": "IPY_MODEL_7509f1ef3ebc4fca8a43cf86d4930ee1",
       "style": "IPY_MODEL_200ab3203b504e3aaafd8c6f3a377274",
       "value": " 550/? [00:01&lt;00:00, 414.90it/s]"
      }
     },
     "700d3da056c34e42aac1431a1c0b1325": {
      "model_module": "@jupyter-widgets/controls",
      "model_module_version": "1.5.0",
      "model_name": "ProgressStyleModel",
      "state": {
       "description_width": "initial"
      }
     },
     "73628aac2ab844d8b61dd543a31b71eb": {
      "model_module": "@jupyter-widgets/controls",
      "model_module_version": "1.5.0",
      "model_name": "DescriptionStyleModel",
      "state": {
       "description_width": ""
      }
     },
     "73676c7664d74c1ba9006afda3730685": {
      "model_module": "@jupyter-widgets/base",
      "model_module_version": "1.2.0",
      "model_name": "LayoutModel",
      "state": {
       "display": "inline-flex",
       "flex_flow": "row wrap",
       "width": "100%"
      }
     },
     "73accedcca174750b8ab37df7df6bbdc": {
      "model_module": "@jupyter-widgets/base",
      "model_module_version": "1.2.0",
      "model_name": "LayoutModel",
      "state": {
       "display": "inline-flex",
       "flex_flow": "row wrap",
       "width": "100%"
      }
     },
     "73ebf8a362ce41f7a762c4cda47b79e1": {
      "model_module": "@jupyter-widgets/base",
      "model_module_version": "1.2.0",
      "model_name": "LayoutModel",
      "state": {}
     },
     "747c2368c50b40c197aac710c0db7851": {
      "model_module": "@jupyter-widgets/base",
      "model_module_version": "1.2.0",
      "model_name": "LayoutModel",
      "state": {
       "display": "inline-flex",
       "flex_flow": "row wrap",
       "width": "100%"
      }
     },
     "7509f1ef3ebc4fca8a43cf86d4930ee1": {
      "model_module": "@jupyter-widgets/base",
      "model_module_version": "1.2.0",
      "model_name": "LayoutModel",
      "state": {}
     },
     "7585cdc7ab634d3fa8148d552eac83b4": {
      "model_module": "@jupyter-widgets/base",
      "model_module_version": "1.2.0",
      "model_name": "LayoutModel",
      "state": {}
     },
     "75c11a51dd0e43a387c1a0f02bfbd9c6": {
      "model_module": "@jupyter-widgets/base",
      "model_module_version": "1.2.0",
      "model_name": "LayoutModel",
      "state": {
       "display": "inline-flex",
       "flex_flow": "row wrap",
       "width": "100%"
      }
     },
     "7657f5e170f4438e9f07e1883874eeec": {
      "model_module": "@jupyter-widgets/base",
      "model_module_version": "1.2.0",
      "model_name": "LayoutModel",
      "state": {
       "display": "inline-flex",
       "flex_flow": "row wrap",
       "width": "100%"
      }
     },
     "76efb65cb26344c7929d2021ba39e89e": {
      "model_module": "@jupyter-widgets/base",
      "model_module_version": "1.2.0",
      "model_name": "LayoutModel",
      "state": {
       "display": "inline-flex",
       "flex_flow": "row wrap",
       "width": "100%"
      }
     },
     "77509376a7bb4d68bbc9942c127165dc": {
      "model_module": "@jupyter-widgets/controls",
      "model_module_version": "1.5.0",
      "model_name": "DescriptionStyleModel",
      "state": {
       "description_width": ""
      }
     },
     "787329ac04d647b4971d79744b683c70": {
      "model_module": "@jupyter-widgets/controls",
      "model_module_version": "1.5.0",
      "model_name": "HTMLModel",
      "state": {
       "layout": "IPY_MODEL_5f5d44577c124e198fb9b17cfacb23e4",
       "style": "IPY_MODEL_a2b53a45a93a4d24acb7a74a8c05a4bc",
       "value": " 550/? [00:01&lt;00:00, 442.97it/s]"
      }
     },
     "78c355a497ac4368b360fdebac24cffe": {
      "model_module": "@jupyter-widgets/base",
      "model_module_version": "1.2.0",
      "model_name": "LayoutModel",
      "state": {}
     },
     "79395e8298864db1a3232fb6a97d3699": {
      "model_module": "@jupyter-widgets/controls",
      "model_module_version": "1.5.0",
      "model_name": "DescriptionStyleModel",
      "state": {
       "description_width": ""
      }
     },
     "79c061a58b5e434694e40688a9332fca": {
      "model_module": "@jupyter-widgets/base",
      "model_module_version": "1.2.0",
      "model_name": "LayoutModel",
      "state": {
       "display": "inline-flex",
       "flex_flow": "row wrap",
       "width": "100%"
      }
     },
     "79dc1b64b8564cad87d59b79bf357a41": {
      "model_module": "@jupyter-widgets/base",
      "model_module_version": "1.2.0",
      "model_name": "LayoutModel",
      "state": {}
     },
     "7ad929cd6d774bbda6f205f93c31f777": {
      "model_module": "@jupyter-widgets/base",
      "model_module_version": "1.2.0",
      "model_name": "LayoutModel",
      "state": {}
     },
     "7b512f007a73411b9cb1c5e2a4ea1d0e": {
      "model_module": "@jupyter-widgets/base",
      "model_module_version": "1.2.0",
      "model_name": "LayoutModel",
      "state": {
       "flex": "2"
      }
     },
     "7b6e118fe749409a90e5f54ea225f3b2": {
      "model_module": "@jupyter-widgets/controls",
      "model_module_version": "1.5.0",
      "model_name": "HTMLModel",
      "state": {
       "layout": "IPY_MODEL_b4e4021e7a524edb9d670d93d52d5139",
       "style": "IPY_MODEL_6ce8b8c310ab4c048d81d070c21adb32",
       "value": " 550/? [00:01&lt;00:00, 448.96it/s]"
      }
     },
     "7bb88ce5fe414849bd6c1baa6072f91a": {
      "model_module": "@jupyter-widgets/controls",
      "model_module_version": "1.5.0",
      "model_name": "DescriptionStyleModel",
      "state": {
       "description_width": ""
      }
     },
     "7bbcd4eb54ac4d9981fc40e3a327ecea": {
      "model_module": "@jupyter-widgets/base",
      "model_module_version": "1.2.0",
      "model_name": "LayoutModel",
      "state": {
       "display": "inline-flex",
       "flex_flow": "row wrap",
       "width": "100%"
      }
     },
     "7c7e6ad2011a4e04a8641a406a66e50d": {
      "model_module": "@jupyter-widgets/controls",
      "model_module_version": "1.5.0",
      "model_name": "FloatProgressModel",
      "state": {
       "description": "Validating: ",
       "layout": "IPY_MODEL_efe93cc95d164b6796cf4bbb110f5629",
       "max": 541,
       "style": "IPY_MODEL_1c633473e705433c8d86cd4f0a1b9043",
       "value": 541
      }
     },
     "7d8102c58ef54a16a839fbf149bc7ac0": {
      "model_module": "@jupyter-widgets/controls",
      "model_module_version": "1.5.0",
      "model_name": "FloatProgressModel",
      "state": {
       "description": "Validating: ",
       "layout": "IPY_MODEL_f3c4c53a2fec4cc3a3148af034248e38",
       "max": 541,
       "style": "IPY_MODEL_2055db60dec84db1b49331c7f835188a",
       "value": 541
      }
     },
     "7d88b23e84194af2884cd786dae0b68b": {
      "model_module": "@jupyter-widgets/controls",
      "model_module_version": "1.5.0",
      "model_name": "DescriptionStyleModel",
      "state": {
       "description_width": ""
      }
     },
     "7dbf570cbe824872b3966a6fa704e6e7": {
      "model_module": "@jupyter-widgets/base",
      "model_module_version": "1.2.0",
      "model_name": "LayoutModel",
      "state": {
       "flex": "2"
      }
     },
     "7dea29fa1f0c448aa4a6a19221917bbc": {
      "model_module": "@jupyter-widgets/base",
      "model_module_version": "1.2.0",
      "model_name": "LayoutModel",
      "state": {
       "flex": "2"
      }
     },
     "7e9b0ee7c4f94a5e8e4cecd802341fdd": {
      "model_module": "@jupyter-widgets/base",
      "model_module_version": "1.2.0",
      "model_name": "LayoutModel",
      "state": {
       "flex": "2"
      }
     },
     "7ed6f761f4c14eebafcb305ea007e6df": {
      "model_module": "@jupyter-widgets/base",
      "model_module_version": "1.2.0",
      "model_name": "LayoutModel",
      "state": {
       "display": "inline-flex",
       "flex_flow": "row wrap",
       "width": "100%"
      }
     },
     "7ef830b0355a4aa7a3577722d25ad17b": {
      "model_module": "@jupyter-widgets/base",
      "model_module_version": "1.2.0",
      "model_name": "LayoutModel",
      "state": {
       "flex": "2"
      }
     },
     "7f8bdd32a5b1415a81d11e40dba0b823": {
      "model_module": "@jupyter-widgets/controls",
      "model_module_version": "1.5.0",
      "model_name": "ProgressStyleModel",
      "state": {
       "description_width": "initial"
      }
     },
     "807f5cbe89d942b886e13e9bae720dc1": {
      "model_module": "@jupyter-widgets/controls",
      "model_module_version": "1.5.0",
      "model_name": "DescriptionStyleModel",
      "state": {
       "description_width": ""
      }
     },
     "807fa74f17b04414831de01201869ddb": {
      "model_module": "@jupyter-widgets/controls",
      "model_module_version": "1.5.0",
      "model_name": "DescriptionStyleModel",
      "state": {
       "description_width": ""
      }
     },
     "80cd703e1f6f4c8bbb5729fb8e62c527": {
      "model_module": "@jupyter-widgets/base",
      "model_module_version": "1.2.0",
      "model_name": "LayoutModel",
      "state": {
       "flex": "2"
      }
     },
     "80fb5c3783c942b9bfdcfd352583e7d6": {
      "model_module": "@jupyter-widgets/base",
      "model_module_version": "1.2.0",
      "model_name": "LayoutModel",
      "state": {
       "display": "inline-flex",
       "flex_flow": "row wrap",
       "width": "100%"
      }
     },
     "81168275be3b401f96d7f10201d3be90": {
      "model_module": "@jupyter-widgets/base",
      "model_module_version": "1.2.0",
      "model_name": "LayoutModel",
      "state": {
       "display": "inline-flex",
       "flex_flow": "row wrap",
       "width": "100%"
      }
     },
     "816674954def4d07b41056b04d917007": {
      "model_module": "@jupyter-widgets/controls",
      "model_module_version": "1.5.0",
      "model_name": "HTMLModel",
      "state": {
       "layout": "IPY_MODEL_3d6ec858d7ec4e028f88e02af49e1a55",
       "style": "IPY_MODEL_d9de34dcc0e24fd8bd670a1454c21794",
       "value": " 550/? [00:01&lt;00:00, 435.20it/s]"
      }
     },
     "82c86df6afcf40fd80eaa2e183386140": {
      "model_module": "@jupyter-widgets/base",
      "model_module_version": "1.2.0",
      "model_name": "LayoutModel",
      "state": {}
     },
     "830948f4837842768ca70ae248f5ff66": {
      "model_module": "@jupyter-widgets/controls",
      "model_module_version": "1.5.0",
      "model_name": "HTMLModel",
      "state": {
       "layout": "IPY_MODEL_6045d290649a4a8caa3c895f369d7943",
       "style": "IPY_MODEL_e6668d85da724b09908d10d2ab930e7a",
       "value": " 550/? [00:01&lt;00:00, 427.48it/s]"
      }
     },
     "8347e6f7cf0b4575930a7684de69c7e0": {
      "model_module": "@jupyter-widgets/base",
      "model_module_version": "1.2.0",
      "model_name": "LayoutModel",
      "state": {
       "flex": "2"
      }
     },
     "838b1d0b70c04369a687601bc976f2aa": {
      "model_module": "@jupyter-widgets/base",
      "model_module_version": "1.2.0",
      "model_name": "LayoutModel",
      "state": {}
     },
     "83dd1b9c82cd4b7ca657c4630c79f48a": {
      "model_module": "@jupyter-widgets/base",
      "model_module_version": "1.2.0",
      "model_name": "LayoutModel",
      "state": {}
     },
     "84b3fd669b7342179965bc4c9a8db3e0": {
      "model_module": "@jupyter-widgets/base",
      "model_module_version": "1.2.0",
      "model_name": "LayoutModel",
      "state": {
       "display": "inline-flex",
       "flex_flow": "row wrap",
       "width": "100%"
      }
     },
     "852a6cfb89db469d89585a92a12f4d86": {
      "model_module": "@jupyter-widgets/controls",
      "model_module_version": "1.5.0",
      "model_name": "ProgressStyleModel",
      "state": {
       "description_width": "initial"
      }
     },
     "861402af2d634daeae258eb1fdd38218": {
      "model_module": "@jupyter-widgets/controls",
      "model_module_version": "1.5.0",
      "model_name": "FloatProgressModel",
      "state": {
       "description": "Validating: ",
       "layout": "IPY_MODEL_49b0c87e54ba49038be19f4a66e8b1a0",
       "max": 541,
       "style": "IPY_MODEL_1d0bcd00cbe34e4cbf59a19893fd7e34",
       "value": 541
      }
     },
     "869e20a923204404bfc741bf1e96f47d": {
      "model_module": "@jupyter-widgets/controls",
      "model_module_version": "1.5.0",
      "model_name": "HTMLModel",
      "state": {
       "layout": "IPY_MODEL_6664795f92d0414098c3493ea13eb315",
       "style": "IPY_MODEL_267485cb2f404ffbb3ba18b6b753c8c1",
       "value": " 550/? [00:01&lt;00:00, 440.74it/s]"
      }
     },
     "874efc4a4452410db27f01c9db2af762": {
      "model_module": "@jupyter-widgets/controls",
      "model_module_version": "1.5.0",
      "model_name": "HTMLModel",
      "state": {
       "layout": "IPY_MODEL_2edd10a887c14bc7b8bbb50a555338c6",
       "style": "IPY_MODEL_f99d69841bef478b9b8de55c5fd411fb",
       "value": " 550/? [00:01&lt;00:00, 395.05it/s]"
      }
     },
     "88194df08fdd4738b617767cac1d305b": {
      "model_module": "@jupyter-widgets/controls",
      "model_module_version": "1.5.0",
      "model_name": "HTMLModel",
      "state": {
       "layout": "IPY_MODEL_f64d8ff84de747ed96d873397a5556ab",
       "style": "IPY_MODEL_a97ea70ce69b4854bff55d024e3a6ff8",
       "value": " 550/? [00:01&lt;00:00, 483.15it/s]"
      }
     },
     "884420c0c78d424c9fb13e2e7380065f": {
      "model_module": "@jupyter-widgets/controls",
      "model_module_version": "1.5.0",
      "model_name": "FloatProgressModel",
      "state": {
       "description": "Validating: ",
       "layout": "IPY_MODEL_a3c32e60d2994370ac7bf22d45a1b679",
       "max": 541,
       "style": "IPY_MODEL_9dc780c210bc4dad9e6c511c155d9d27",
       "value": 541
      }
     },
     "888d741d51c54b8aa882ddb5de1d6b20": {
      "model_module": "@jupyter-widgets/controls",
      "model_module_version": "1.5.0",
      "model_name": "DescriptionStyleModel",
      "state": {
       "description_width": ""
      }
     },
     "8921b0b17c3d485298a98f660a2aab18": {
      "model_module": "@jupyter-widgets/base",
      "model_module_version": "1.2.0",
      "model_name": "LayoutModel",
      "state": {}
     },
     "89b0a70ce0974ed488be009a54a7435e": {
      "model_module": "@jupyter-widgets/base",
      "model_module_version": "1.2.0",
      "model_name": "LayoutModel",
      "state": {}
     },
     "8a4aded7184e4800880f39298eabbe35": {
      "model_module": "@jupyter-widgets/controls",
      "model_module_version": "1.5.0",
      "model_name": "ProgressStyleModel",
      "state": {
       "description_width": "initial"
      }
     },
     "8b5c0a566813448487d4b2a00d6f6076": {
      "model_module": "@jupyter-widgets/controls",
      "model_module_version": "1.5.0",
      "model_name": "ProgressStyleModel",
      "state": {
       "description_width": "initial"
      }
     },
     "8bae2250acee43d79fc3a6a96ffbe9ea": {
      "model_module": "@jupyter-widgets/base",
      "model_module_version": "1.2.0",
      "model_name": "LayoutModel",
      "state": {
       "display": "inline-flex",
       "flex_flow": "row wrap",
       "width": "100%"
      }
     },
     "8d89065350cf4894843bbf8efa0d22f2": {
      "model_module": "@jupyter-widgets/base",
      "model_module_version": "1.2.0",
      "model_name": "LayoutModel",
      "state": {
       "display": "inline-flex",
       "flex_flow": "row wrap",
       "width": "100%"
      }
     },
     "8dd6169d99fc409d82d2e25b97d692f6": {
      "model_module": "@jupyter-widgets/base",
      "model_module_version": "1.2.0",
      "model_name": "LayoutModel",
      "state": {}
     },
     "8e438a049bcc4ae99a68fb57e016c757": {
      "model_module": "@jupyter-widgets/controls",
      "model_module_version": "1.5.0",
      "model_name": "FloatProgressModel",
      "state": {
       "description": "Validating: ",
       "layout": "IPY_MODEL_69b573ef02634f44bb7c0b69acc4c482",
       "max": 541,
       "style": "IPY_MODEL_1020fe39fcfb466ebf900afa9c7f271b",
       "value": 541
      }
     },
     "8e4543391d514daea24a8c36aecfa94a": {
      "model_module": "@jupyter-widgets/controls",
      "model_module_version": "1.5.0",
      "model_name": "ProgressStyleModel",
      "state": {
       "description_width": "initial"
      }
     },
     "8e5165f660b245378bd0596121c8ea50": {
      "model_module": "@jupyter-widgets/controls",
      "model_module_version": "1.5.0",
      "model_name": "HTMLModel",
      "state": {
       "layout": "IPY_MODEL_838b1d0b70c04369a687601bc976f2aa",
       "style": "IPY_MODEL_0d65cede7a8444e1af53372a1231f2fa",
       "value": " 550/? [00:01&lt;00:00, 425.81it/s]"
      }
     },
     "8f5ee37b88eb402b9e334867723c3728": {
      "model_module": "@jupyter-widgets/base",
      "model_module_version": "1.2.0",
      "model_name": "LayoutModel",
      "state": {
       "display": "inline-flex",
       "flex_flow": "row wrap",
       "width": "100%"
      }
     },
     "8f85bd0db09641b9848f7f5c0f7fc54d": {
      "model_module": "@jupyter-widgets/controls",
      "model_module_version": "1.5.0",
      "model_name": "HTMLModel",
      "state": {
       "layout": "IPY_MODEL_e28a1f8f393543aabc708497a052b5ac",
       "style": "IPY_MODEL_3bf278ef0d8b4eb0be2e908bf31979ba",
       "value": " 550/? [00:01&lt;00:00, 433.92it/s]"
      }
     },
     "8f95b48773824308859aee66d5219de3": {
      "model_module": "@jupyter-widgets/base",
      "model_module_version": "1.2.0",
      "model_name": "LayoutModel",
      "state": {
       "display": "inline-flex",
       "flex_flow": "row wrap",
       "width": "100%"
      }
     },
     "8fc932c7d2334a8388dc92262135a6b7": {
      "model_module": "@jupyter-widgets/controls",
      "model_module_version": "1.5.0",
      "model_name": "HTMLModel",
      "state": {
       "layout": "IPY_MODEL_f7228fedaef24b6e8591fbfd4396f48d",
       "style": "IPY_MODEL_fa6fa2631ad34f0398a76855a49fdbc9",
       "value": " 550/? [00:01&lt;00:00, 398.68it/s]"
      }
     },
     "9000d1394a7e4936a14de56e4a86f136": {
      "model_module": "@jupyter-widgets/base",
      "model_module_version": "1.2.0",
      "model_name": "LayoutModel",
      "state": {
       "display": "inline-flex",
       "flex_flow": "row wrap",
       "width": "100%"
      }
     },
     "900f4c20e86f41708dfec2cb48910d85": {
      "model_module": "@jupyter-widgets/controls",
      "model_module_version": "1.5.0",
      "model_name": "DescriptionStyleModel",
      "state": {
       "description_width": ""
      }
     },
     "908b5388974a4675994abc4fbefedf93": {
      "model_module": "@jupyter-widgets/base",
      "model_module_version": "1.2.0",
      "model_name": "LayoutModel",
      "state": {
       "display": "inline-flex",
       "flex_flow": "row wrap",
       "width": "100%"
      }
     },
     "90ab379234c2444086624000a3bdc862": {
      "model_module": "@jupyter-widgets/controls",
      "model_module_version": "1.5.0",
      "model_name": "HTMLModel",
      "state": {
       "layout": "IPY_MODEL_2b89aa8aee7a4f998215df0a09ca6d9e",
       "style": "IPY_MODEL_f65d751b909e4a67955b23be4b5c3722",
       "value": " 50/? [00:00&lt;00:00, 783.69it/s]"
      }
     },
     "90fc2566b7b64cd891d604563d682cef": {
      "model_module": "@jupyter-widgets/controls",
      "model_module_version": "1.5.0",
      "model_name": "FloatProgressModel",
      "state": {
       "description": "Validating: ",
       "layout": "IPY_MODEL_9b0313f798dc404286451c529ee69788",
       "max": 541,
       "style": "IPY_MODEL_ef512010d1ed41fea879a289e2a08e21",
       "value": 541
      }
     },
     "9137cf9f32294b4a90ae128a6ba93564": {
      "model_module": "@jupyter-widgets/controls",
      "model_module_version": "1.5.0",
      "model_name": "HTMLModel",
      "state": {
       "layout": "IPY_MODEL_032a1b8091314ca9959f4b6f9cac0e84",
       "style": "IPY_MODEL_a955a3749f574deab1fac0da7e8678d1",
       "value": " 550/? [00:01&lt;00:00, 430.56it/s]"
      }
     },
     "92a93897c1fa45899525d59020df7501": {
      "model_module": "@jupyter-widgets/base",
      "model_module_version": "1.2.0",
      "model_name": "LayoutModel",
      "state": {
       "display": "inline-flex",
       "flex_flow": "row wrap",
       "width": "100%"
      }
     },
     "92bd6ebabc7c4e369f87f93ce8dee366": {
      "model_module": "@jupyter-widgets/base",
      "model_module_version": "1.2.0",
      "model_name": "LayoutModel",
      "state": {
       "flex": "2"
      }
     },
     "92e69e5d0764419b8aefa985f0f6af52": {
      "model_module": "@jupyter-widgets/controls",
      "model_module_version": "1.5.0",
      "model_name": "DescriptionStyleModel",
      "state": {
       "description_width": ""
      }
     },
     "930c43b03a334a559888cecd3f5de2e4": {
      "model_module": "@jupyter-widgets/controls",
      "model_module_version": "1.5.0",
      "model_name": "DescriptionStyleModel",
      "state": {
       "description_width": ""
      }
     },
     "93b4c8efa3ee40b791a628c7ed9f0514": {
      "model_module": "@jupyter-widgets/controls",
      "model_module_version": "1.5.0",
      "model_name": "ProgressStyleModel",
      "state": {
       "description_width": "initial"
      }
     },
     "93fd125be60a4eca950de0ea7dc10bd7": {
      "model_module": "@jupyter-widgets/controls",
      "model_module_version": "1.5.0",
      "model_name": "HTMLModel",
      "state": {
       "layout": "IPY_MODEL_d70ec4f661764a11bcc7d03a6ca1909e",
       "style": "IPY_MODEL_9ffdfdb3ba924f39bb37d832ff7d261b",
       "value": " 550/? [00:01&lt;00:00, 422.05it/s]"
      }
     },
     "94cd1248543e43b1a3055e1b5e16a977": {
      "model_module": "@jupyter-widgets/controls",
      "model_module_version": "1.5.0",
      "model_name": "HTMLModel",
      "state": {
       "layout": "IPY_MODEL_7ad929cd6d774bbda6f205f93c31f777",
       "style": "IPY_MODEL_67f4f0e5da90420f8bd0d56a430caef4",
       "value": " 550/? [00:01&lt;00:00, 432.81it/s]"
      }
     },
     "95c57c66991d4d7f9bfb58f83c290ebb": {
      "model_module": "@jupyter-widgets/controls",
      "model_module_version": "1.5.0",
      "model_name": "HTMLModel",
      "state": {
       "layout": "IPY_MODEL_276885ccb8684c5b93be78daacec9f86",
       "style": "IPY_MODEL_52ca88bc358c4570992bb7d7c3182df3",
       "value": " 550/? [00:01&lt;00:00, 472.53it/s]"
      }
     },
     "96760903461c463aa7074e4604ce475c": {
      "model_module": "@jupyter-widgets/controls",
      "model_module_version": "1.5.0",
      "model_name": "HTMLModel",
      "state": {
       "layout": "IPY_MODEL_19ceea4111684b9db60e617969ad07b6",
       "style": "IPY_MODEL_9e832921dba94fa59be4f19378288ee8",
       "value": " 550/? [00:01&lt;00:00, 451.07it/s]"
      }
     },
     "97509ea3c5934e8cb8129255f6a820d6": {
      "model_module": "@jupyter-widgets/base",
      "model_module_version": "1.2.0",
      "model_name": "LayoutModel",
      "state": {}
     },
     "97b1e3e0729645f0847203e3b2dc1acb": {
      "model_module": "@jupyter-widgets/controls",
      "model_module_version": "1.5.0",
      "model_name": "DescriptionStyleModel",
      "state": {
       "description_width": ""
      }
     },
     "97ca2cce122c4cdbb3df0f7514000eb3": {
      "model_module": "@jupyter-widgets/controls",
      "model_module_version": "1.5.0",
      "model_name": "HTMLModel",
      "state": {
       "layout": "IPY_MODEL_cfaec8133392457d980f4428f6c4fc2f",
       "style": "IPY_MODEL_5a49ef244304438386e07dae1d083cdc",
       "value": " 550/? [00:01&lt;00:00, 440.37it/s]"
      }
     },
     "9874465bda294c0b8825dcddfe5f6eed": {
      "model_module": "@jupyter-widgets/controls",
      "model_module_version": "1.5.0",
      "model_name": "HTMLModel",
      "state": {
       "layout": "IPY_MODEL_d593a236a9e04b6687dc088c39e20437",
       "style": "IPY_MODEL_3bb7cab9322c4598bee9e3fb155fbee3",
       "value": " 550/? [00:01&lt;00:00, 467.29it/s]"
      }
     },
     "989b3f446aee4bbea72dfca66b66dff7": {
      "model_module": "@jupyter-widgets/controls",
      "model_module_version": "1.5.0",
      "model_name": "FloatProgressModel",
      "state": {
       "description": "Validating: ",
       "layout": "IPY_MODEL_d25a570f708549f6b88b7ba4660f759a",
       "max": 541,
       "style": "IPY_MODEL_27b9c374c52c4a3299a320c186271ab0",
       "value": 541
      }
     },
     "98ca7e8652924922b6d9493528e12173": {
      "model_module": "@jupyter-widgets/base",
      "model_module_version": "1.2.0",
      "model_name": "LayoutModel",
      "state": {
       "flex": "2"
      }
     },
     "98dc7dcf043a4f89b80d9bf710e8d8ff": {
      "model_module": "@jupyter-widgets/controls",
      "model_module_version": "1.5.0",
      "model_name": "ProgressStyleModel",
      "state": {
       "description_width": "initial"
      }
     },
     "99b391753959462c92022d79a87e62d3": {
      "model_module": "@jupyter-widgets/controls",
      "model_module_version": "1.5.0",
      "model_name": "FloatProgressModel",
      "state": {
       "description": "Validating: ",
       "layout": "IPY_MODEL_d6f657d74abe475595ff7ff4e3057e9f",
       "max": 541,
       "style": "IPY_MODEL_c66d9f1c434f4ccc897721790f81dc39",
       "value": 541
      }
     },
     "9a479fc734594bcaa7a2875125861741": {
      "model_module": "@jupyter-widgets/controls",
      "model_module_version": "1.5.0",
      "model_name": "FloatProgressModel",
      "state": {
       "description": "Validating: ",
       "layout": "IPY_MODEL_ee7fbceda9f94b4595fe7986ef6ecea9",
       "max": 541,
       "style": "IPY_MODEL_41dec9ce2a814f5f87a65d6184c4e024",
       "value": 541
      }
     },
     "9a8bec808072470aa52ddd7a0f6febc6": {
      "model_module": "@jupyter-widgets/controls",
      "model_module_version": "1.5.0",
      "model_name": "HTMLModel",
      "state": {
       "layout": "IPY_MODEL_bb67b592b0b84e159e4381842f756a47",
       "style": "IPY_MODEL_46a02fcdc8a048caa60651696b3ad028",
       "value": " 550/? [00:01&lt;00:00, 414.43it/s]"
      }
     },
     "9ac3b21663bb44b7b42bc94929c95a2e": {
      "model_module": "@jupyter-widgets/base",
      "model_module_version": "1.2.0",
      "model_name": "LayoutModel",
      "state": {
       "flex": "2"
      }
     },
     "9b0313f798dc404286451c529ee69788": {
      "model_module": "@jupyter-widgets/base",
      "model_module_version": "1.2.0",
      "model_name": "LayoutModel",
      "state": {
       "flex": "2"
      }
     },
     "9b08f94049bb484eb6c79bb714ed16df": {
      "model_module": "@jupyter-widgets/controls",
      "model_module_version": "1.5.0",
      "model_name": "ProgressStyleModel",
      "state": {
       "description_width": "initial"
      }
     },
     "9b6b9c02893741508d64c11f4fc9c940": {
      "model_module": "@jupyter-widgets/controls",
      "model_module_version": "1.5.0",
      "model_name": "FloatProgressModel",
      "state": {
       "description": "Validating: ",
       "layout": "IPY_MODEL_4d227c4f22c6467c9545beb64327015f",
       "max": 541,
       "style": "IPY_MODEL_16b13a0bed2346fda9adda99a3cd163b",
       "value": 541
      }
     },
     "9baab40ce55e4d298d0307b1eb73d14a": {
      "model_module": "@jupyter-widgets/controls",
      "model_module_version": "1.5.0",
      "model_name": "ProgressStyleModel",
      "state": {
       "description_width": "initial"
      }
     },
     "9bbcb02dc07f43219d3558963ad7bf6a": {
      "model_module": "@jupyter-widgets/controls",
      "model_module_version": "1.5.0",
      "model_name": "DescriptionStyleModel",
      "state": {
       "description_width": ""
      }
     },
     "9bd5ae8426094b5791fd68545cfb54e9": {
      "model_module": "@jupyter-widgets/controls",
      "model_module_version": "1.5.0",
      "model_name": "FloatProgressModel",
      "state": {
       "description": "Validating: ",
       "layout": "IPY_MODEL_476b32613fc14f29b89b62a53ec10688",
       "max": 541,
       "style": "IPY_MODEL_48327e684cc44d2db199dccb4c51961d",
       "value": 541
      }
     },
     "9be2eb6455824564b135c2e17526cca1": {
      "model_module": "@jupyter-widgets/base",
      "model_module_version": "1.2.0",
      "model_name": "LayoutModel",
      "state": {
       "flex": "2"
      }
     },
     "9be30156fad34d8d98fad0b43b72a276": {
      "model_module": "@jupyter-widgets/base",
      "model_module_version": "1.2.0",
      "model_name": "LayoutModel",
      "state": {
       "display": "inline-flex",
       "flex_flow": "row wrap",
       "width": "100%"
      }
     },
     "9c5ac15e78204fe19852d08c7435e48a": {
      "model_module": "@jupyter-widgets/controls",
      "model_module_version": "1.5.0",
      "model_name": "FloatProgressModel",
      "state": {
       "description": "Validating: ",
       "layout": "IPY_MODEL_92bd6ebabc7c4e369f87f93ce8dee366",
       "max": 541,
       "style": "IPY_MODEL_55ca2c630e4747a89d81fcbcaf6e33b7",
       "value": 541
      }
     },
     "9c8c116a476f492ea5c90fab785a9654": {
      "model_module": "@jupyter-widgets/controls",
      "model_module_version": "1.5.0",
      "model_name": "ProgressStyleModel",
      "state": {
       "description_width": "initial"
      }
     },
     "9d278cb9afbd4bbdb93638972bb8eb23": {
      "model_module": "@jupyter-widgets/base",
      "model_module_version": "1.2.0",
      "model_name": "LayoutModel",
      "state": {
       "flex": "2"
      }
     },
     "9d4b8f52ad4641bf97eb35d837477f51": {
      "model_module": "@jupyter-widgets/base",
      "model_module_version": "1.2.0",
      "model_name": "LayoutModel",
      "state": {
       "display": "inline-flex",
       "flex_flow": "row wrap",
       "width": "100%"
      }
     },
     "9db111954ce641a1a0e86e79051b7cf6": {
      "model_module": "@jupyter-widgets/controls",
      "model_module_version": "1.5.0",
      "model_name": "FloatProgressModel",
      "state": {
       "description": "Validating: ",
       "layout": "IPY_MODEL_80cd703e1f6f4c8bbb5729fb8e62c527",
       "max": 541,
       "style": "IPY_MODEL_45fc3098a93f4501bd8a9f0c1e75abc0",
       "value": 541
      }
     },
     "9dc780c210bc4dad9e6c511c155d9d27": {
      "model_module": "@jupyter-widgets/controls",
      "model_module_version": "1.5.0",
      "model_name": "ProgressStyleModel",
      "state": {
       "description_width": "initial"
      }
     },
     "9e21676579b34ad58b05207c8c61095b": {
      "model_module": "@jupyter-widgets/controls",
      "model_module_version": "1.5.0",
      "model_name": "FloatProgressModel",
      "state": {
       "description": "Validating: ",
       "layout": "IPY_MODEL_00bd644b832744ddb3af0000229fe9eb",
       "max": 541,
       "style": "IPY_MODEL_5edbd48ef3f2475883c90f3234081203",
       "value": 541
      }
     },
     "9e832921dba94fa59be4f19378288ee8": {
      "model_module": "@jupyter-widgets/controls",
      "model_module_version": "1.5.0",
      "model_name": "DescriptionStyleModel",
      "state": {
       "description_width": ""
      }
     },
     "9f14940c9c15448f985b11df2f5c6057": {
      "model_module": "@jupyter-widgets/controls",
      "model_module_version": "1.5.0",
      "model_name": "DescriptionStyleModel",
      "state": {
       "description_width": ""
      }
     },
     "9f75981eca234e02bf768eaa10854961": {
      "model_module": "@jupyter-widgets/controls",
      "model_module_version": "1.5.0",
      "model_name": "DescriptionStyleModel",
      "state": {
       "description_width": ""
      }
     },
     "9f80c1fded5949d49b0633f1592ad0ae": {
      "model_module": "@jupyter-widgets/controls",
      "model_module_version": "1.5.0",
      "model_name": "ProgressStyleModel",
      "state": {
       "description_width": "initial"
      }
     },
     "9ffdfdb3ba924f39bb37d832ff7d261b": {
      "model_module": "@jupyter-widgets/controls",
      "model_module_version": "1.5.0",
      "model_name": "DescriptionStyleModel",
      "state": {
       "description_width": ""
      }
     },
     "a0c85df721c34575b587eee5691d6003": {
      "model_module": "@jupyter-widgets/controls",
      "model_module_version": "1.5.0",
      "model_name": "HTMLModel",
      "state": {
       "layout": "IPY_MODEL_064cc7044d464163b438e3298047756d",
       "style": "IPY_MODEL_28718c98381b475489f62cb75986df11",
       "value": " 550/? [00:01&lt;00:00, 428.42it/s]"
      }
     },
     "a0d59b9dea2a4d6b9602372407c4a834": {
      "model_module": "@jupyter-widgets/base",
      "model_module_version": "1.2.0",
      "model_name": "LayoutModel",
      "state": {
       "display": "inline-flex",
       "flex_flow": "row wrap",
       "width": "100%"
      }
     },
     "a2891ebd66d24dc78289bea2b310a2e6": {
      "model_module": "@jupyter-widgets/controls",
      "model_module_version": "1.5.0",
      "model_name": "FloatProgressModel",
      "state": {
       "description": "Validating: ",
       "layout": "IPY_MODEL_efa3e40362444456abc2821cfc80e2df",
       "max": 541,
       "style": "IPY_MODEL_a714b19a182c46e49afb8c3775efa865",
       "value": 541
      }
     },
     "a29af1868a5c44188cd791be2748c501": {
      "model_module": "@jupyter-widgets/controls",
      "model_module_version": "1.5.0",
      "model_name": "ProgressStyleModel",
      "state": {
       "description_width": "initial"
      }
     },
     "a2ab48ebf50f4f619080f6b502b50542": {
      "model_module": "@jupyter-widgets/controls",
      "model_module_version": "1.5.0",
      "model_name": "ProgressStyleModel",
      "state": {
       "description_width": "initial"
      }
     },
     "a2b53a45a93a4d24acb7a74a8c05a4bc": {
      "model_module": "@jupyter-widgets/controls",
      "model_module_version": "1.5.0",
      "model_name": "DescriptionStyleModel",
      "state": {
       "description_width": ""
      }
     },
     "a3aa22a8c7aa42d88ae509c8fc8ba99a": {
      "model_module": "@jupyter-widgets/controls",
      "model_module_version": "1.5.0",
      "model_name": "HTMLModel",
      "state": {
       "layout": "IPY_MODEL_e06fb4af88b240eb990f08d2bca3b03a",
       "style": "IPY_MODEL_ff5b796820734f14b3cfbd1ea6df6ce1",
       "value": " 550/? [00:01&lt;00:00, 475.00it/s]"
      }
     },
     "a3b6fe05cc204430a3234d2d21d3dab0": {
      "model_module": "@jupyter-widgets/controls",
      "model_module_version": "1.5.0",
      "model_name": "FloatProgressModel",
      "state": {
       "description": "Validating: ",
       "layout": "IPY_MODEL_177d67f3af4e4e29ac09f99b24006a55",
       "max": 541,
       "style": "IPY_MODEL_f26ea249e4fd4ddaa0fc45e3b50ef702",
       "value": 541
      }
     },
     "a3c32e60d2994370ac7bf22d45a1b679": {
      "model_module": "@jupyter-widgets/base",
      "model_module_version": "1.2.0",
      "model_name": "LayoutModel",
      "state": {
       "flex": "2"
      }
     },
     "a3c7f7729eb9406d805d3a9b1d797652": {
      "model_module": "@jupyter-widgets/controls",
      "model_module_version": "1.5.0",
      "model_name": "HTMLModel",
      "state": {
       "layout": "IPY_MODEL_f9f40e77ce724b5e83fa677933915813",
       "style": "IPY_MODEL_18b013066c7746688a2d25bdf3c089ac",
       "value": " 550/? [00:01&lt;00:00, 473.99it/s]"
      }
     },
     "a3e6c6de4a6e45daae8bbeaf5c55055a": {
      "model_module": "@jupyter-widgets/controls",
      "model_module_version": "1.5.0",
      "model_name": "DescriptionStyleModel",
      "state": {
       "description_width": ""
      }
     },
     "a527eba0089d4475aea246a81c24d273": {
      "model_module": "@jupyter-widgets/base",
      "model_module_version": "1.2.0",
      "model_name": "LayoutModel",
      "state": {
       "display": "inline-flex",
       "flex_flow": "row wrap",
       "width": "100%"
      }
     },
     "a56ce8cc73834412a3988f93ccc61190": {
      "model_module": "@jupyter-widgets/controls",
      "model_module_version": "1.5.0",
      "model_name": "HTMLModel",
      "state": {
       "layout": "IPY_MODEL_f3ea837ad787409aa8884fc082b9e07c",
       "style": "IPY_MODEL_73628aac2ab844d8b61dd543a31b71eb",
       "value": " 550/? [00:01&lt;00:00, 423.91it/s]"
      }
     },
     "a57d6aed45244a798229839c08e37072": {
      "model_module": "@jupyter-widgets/controls",
      "model_module_version": "1.5.0",
      "model_name": "HBoxModel",
      "state": {
       "children": [
        "IPY_MODEL_b00574b981d0435d91a88855c0213a4e",
        "IPY_MODEL_de92ccdec61440f1a3462b30f40b12d5"
       ],
       "layout": "IPY_MODEL_0cc2f73defc14437bd999e5443a3f63b"
      }
     },
     "a7025ee9fa3e4068b0d379bbfdd23ddc": {
      "model_module": "@jupyter-widgets/base",
      "model_module_version": "1.2.0",
      "model_name": "LayoutModel",
      "state": {
       "display": "inline-flex",
       "flex_flow": "row wrap",
       "width": "100%"
      }
     },
     "a714b19a182c46e49afb8c3775efa865": {
      "model_module": "@jupyter-widgets/controls",
      "model_module_version": "1.5.0",
      "model_name": "ProgressStyleModel",
      "state": {
       "description_width": "initial"
      }
     },
     "a714fed7a98c49899927303380866a16": {
      "model_module": "@jupyter-widgets/base",
      "model_module_version": "1.2.0",
      "model_name": "LayoutModel",
      "state": {
       "display": "inline-flex",
       "flex_flow": "row wrap",
       "width": "100%"
      }
     },
     "a743e88804bf4772b6514c11e91fcd10": {
      "model_module": "@jupyter-widgets/base",
      "model_module_version": "1.2.0",
      "model_name": "LayoutModel",
      "state": {
       "flex": "2"
      }
     },
     "a7d02c0334134ec0a500d38836182b93": {
      "model_module": "@jupyter-widgets/controls",
      "model_module_version": "1.5.0",
      "model_name": "ProgressStyleModel",
      "state": {
       "description_width": "initial"
      }
     },
     "a8831d38354440b2bf203a0344b5300e": {
      "model_module": "@jupyter-widgets/controls",
      "model_module_version": "1.5.0",
      "model_name": "DescriptionStyleModel",
      "state": {
       "description_width": ""
      }
     },
     "a8dc9e220f1a41abaad5979117584573": {
      "model_module": "@jupyter-widgets/controls",
      "model_module_version": "1.5.0",
      "model_name": "HTMLModel",
      "state": {
       "layout": "IPY_MODEL_82c86df6afcf40fd80eaa2e183386140",
       "style": "IPY_MODEL_33e4865981054b64bcc4b46e8b4a1ad2",
       "value": " 550/? [00:01&lt;00:00, 403.87it/s]"
      }
     },
     "a955a3749f574deab1fac0da7e8678d1": {
      "model_module": "@jupyter-widgets/controls",
      "model_module_version": "1.5.0",
      "model_name": "DescriptionStyleModel",
      "state": {
       "description_width": ""
      }
     },
     "a967786487c94debab31135e6fae050d": {
      "model_module": "@jupyter-widgets/controls",
      "model_module_version": "1.5.0",
      "model_name": "HTMLModel",
      "state": {
       "layout": "IPY_MODEL_61ffb1ffcffd4d4283b4ce053c87fb53",
       "style": "IPY_MODEL_c9d5d98791574194890e5a3e5bdf303e",
       "value": " 550/? [00:01&lt;00:00, 462.97it/s]"
      }
     },
     "a97ea70ce69b4854bff55d024e3a6ff8": {
      "model_module": "@jupyter-widgets/controls",
      "model_module_version": "1.5.0",
      "model_name": "DescriptionStyleModel",
      "state": {
       "description_width": ""
      }
     },
     "aa530483e00a4ff597b4b315ffc6e521": {
      "model_module": "@jupyter-widgets/controls",
      "model_module_version": "1.5.0",
      "model_name": "HTMLModel",
      "state": {
       "layout": "IPY_MODEL_f432d2b55ecb4b84bb89529cc20072a0",
       "style": "IPY_MODEL_560664e4aef547b5a3cd1621016a168b",
       "value": " 550/? [00:01&lt;00:00, 408.52it/s]"
      }
     },
     "aae138b6cf5e4e2ba1d7bc7c23c06abf": {
      "model_module": "@jupyter-widgets/controls",
      "model_module_version": "1.5.0",
      "model_name": "DescriptionStyleModel",
      "state": {
       "description_width": ""
      }
     },
     "ab112589b3ba4f0c821db95d7a0bb671": {
      "model_module": "@jupyter-widgets/controls",
      "model_module_version": "1.5.0",
      "model_name": "DescriptionStyleModel",
      "state": {
       "description_width": ""
      }
     },
     "ab20b70ebadf415bb64cb23b8b932cd8": {
      "model_module": "@jupyter-widgets/controls",
      "model_module_version": "1.5.0",
      "model_name": "ProgressStyleModel",
      "state": {
       "description_width": "initial"
      }
     },
     "ac2e40aa62314e4da05d8da493b4dc61": {
      "model_module": "@jupyter-widgets/base",
      "model_module_version": "1.2.0",
      "model_name": "LayoutModel",
      "state": {}
     },
     "acb492122de94df4ac4ef757bc5792bb": {
      "model_module": "@jupyter-widgets/controls",
      "model_module_version": "1.5.0",
      "model_name": "DescriptionStyleModel",
      "state": {
       "description_width": ""
      }
     },
     "ad04ab6da8c6480da18fdaa963b80cde": {
      "model_module": "@jupyter-widgets/controls",
      "model_module_version": "1.5.0",
      "model_name": "FloatProgressModel",
      "state": {
       "description": "Validating: ",
       "layout": "IPY_MODEL_b8d74ab88ec84180a181b680dadaff07",
       "max": 541,
       "style": "IPY_MODEL_f1f5694350994531b21b324f4ba7632a",
       "value": 541
      }
     },
     "ad3267c233ac4d509126270238ce7cfe": {
      "model_module": "@jupyter-widgets/controls",
      "model_module_version": "1.5.0",
      "model_name": "FloatProgressModel",
      "state": {
       "description": "Validating: ",
       "layout": "IPY_MODEL_3626d2701d324d1f89e46354fab649d4",
       "max": 541,
       "style": "IPY_MODEL_29ea477628b546b1bbb524fa70b26807",
       "value": 541
      }
     },
     "adb6c8d7dc134cd8aaddbdda397144d9": {
      "model_module": "@jupyter-widgets/controls",
      "model_module_version": "1.5.0",
      "model_name": "ProgressStyleModel",
      "state": {
       "description_width": "initial"
      }
     },
     "ae00e0dc5d634b8cad8c17d9544e069c": {
      "model_module": "@jupyter-widgets/controls",
      "model_module_version": "1.5.0",
      "model_name": "FloatProgressModel",
      "state": {
       "description": "Validating: ",
       "layout": "IPY_MODEL_0b5c33b7682f4070a3faa157029aaad7",
       "max": 541,
       "style": "IPY_MODEL_9baab40ce55e4d298d0307b1eb73d14a",
       "value": 541
      }
     },
     "ae12875daf2048e48822c62cf66cd8bc": {
      "model_module": "@jupyter-widgets/base",
      "model_module_version": "1.2.0",
      "model_name": "LayoutModel",
      "state": {}
     },
     "af9f89be61584f4f915517480974e86d": {
      "model_module": "@jupyter-widgets/controls",
      "model_module_version": "1.5.0",
      "model_name": "FloatProgressModel",
      "state": {
       "description": "Validating: ",
       "layout": "IPY_MODEL_693b2de8c4744d279cf2a59fae9ea6c4",
       "max": 541,
       "style": "IPY_MODEL_f74291612645450ca9af6dcc2338eae4",
       "value": 541
      }
     },
     "afb9e14c93474e4599d3edda2654a656": {
      "model_module": "@jupyter-widgets/base",
      "model_module_version": "1.2.0",
      "model_name": "LayoutModel",
      "state": {
       "display": "inline-flex",
       "flex_flow": "row wrap",
       "width": "100%"
      }
     },
     "b00574b981d0435d91a88855c0213a4e": {
      "model_module": "@jupyter-widgets/controls",
      "model_module_version": "1.5.0",
      "model_name": "FloatProgressModel",
      "state": {
       "bar_style": "success",
       "description": "Testing: ",
       "layout": "IPY_MODEL_42b4c9b78ba247a493136bfec8a07dd0",
       "max": 540,
       "style": "IPY_MODEL_a2ab48ebf50f4f619080f6b502b50542",
       "value": 540
      }
     },
     "b0158a6084464999ada053cf0daf4ec7": {
      "model_module": "@jupyter-widgets/base",
      "model_module_version": "1.2.0",
      "model_name": "LayoutModel",
      "state": {
       "display": "inline-flex",
       "flex_flow": "row wrap",
       "width": "100%"
      }
     },
     "b0222c7baeca440cb7821a753e847472": {
      "model_module": "@jupyter-widgets/base",
      "model_module_version": "1.2.0",
      "model_name": "LayoutModel",
      "state": {}
     },
     "b0988f6f4fd941ef8f8330900916f7c2": {
      "model_module": "@jupyter-widgets/base",
      "model_module_version": "1.2.0",
      "model_name": "LayoutModel",
      "state": {
       "flex": "2"
      }
     },
     "b0e0e68665c04177bde99752f5a9e5e8": {
      "model_module": "@jupyter-widgets/controls",
      "model_module_version": "1.5.0",
      "model_name": "FloatProgressModel",
      "state": {
       "description": "Validating: ",
       "layout": "IPY_MODEL_fad9784e5ba848a99cfb77bf0e4c44a7",
       "max": 541,
       "style": "IPY_MODEL_2af252832be54d178292491a94fc0d1a",
       "value": 541
      }
     },
     "b13eea0bd5c74366b81c1175201b0328": {
      "model_module": "@jupyter-widgets/controls",
      "model_module_version": "1.5.0",
      "model_name": "FloatProgressModel",
      "state": {
       "description": "Validating: ",
       "layout": "IPY_MODEL_ccd87e9dab864232925cca7c78c89b53",
       "max": 541,
       "style": "IPY_MODEL_21e2b486311e4a119bafb79111f15ff9",
       "value": 541
      }
     },
     "b15619aa3896457dadfee1e71afc3f6f": {
      "model_module": "@jupyter-widgets/controls",
      "model_module_version": "1.5.0",
      "model_name": "FloatProgressModel",
      "state": {
       "description": "Validating: ",
       "layout": "IPY_MODEL_24ecde7287244a5183a6095e250fe07b",
       "max": 541,
       "style": "IPY_MODEL_7f8bdd32a5b1415a81d11e40dba0b823",
       "value": 541
      }
     },
     "b176a83ae4a6462e8659b99939aee668": {
      "model_module": "@jupyter-widgets/base",
      "model_module_version": "1.2.0",
      "model_name": "LayoutModel",
      "state": {}
     },
     "b2052558a7bb4878b51ea490cea2ea66": {
      "model_module": "@jupyter-widgets/base",
      "model_module_version": "1.2.0",
      "model_name": "LayoutModel",
      "state": {
       "flex": "2"
      }
     },
     "b2b8952b3c884276ad617601fa614cbb": {
      "model_module": "@jupyter-widgets/base",
      "model_module_version": "1.2.0",
      "model_name": "LayoutModel",
      "state": {
       "display": "inline-flex",
       "flex_flow": "row wrap",
       "width": "100%"
      }
     },
     "b33a253735244deb933e7882c2380957": {
      "model_module": "@jupyter-widgets/controls",
      "model_module_version": "1.5.0",
      "model_name": "ProgressStyleModel",
      "state": {
       "description_width": "initial"
      }
     },
     "b3459b963525420f981df64fbb5c14f3": {
      "model_module": "@jupyter-widgets/base",
      "model_module_version": "1.2.0",
      "model_name": "LayoutModel",
      "state": {
       "display": "inline-flex",
       "flex_flow": "row wrap",
       "width": "100%"
      }
     },
     "b36979e27e6f4aceaed5a36e4d160465": {
      "model_module": "@jupyter-widgets/base",
      "model_module_version": "1.2.0",
      "model_name": "LayoutModel",
      "state": {
       "flex": "2"
      }
     },
     "b43e52125e50462cbff967e8d5cbe6ba": {
      "model_module": "@jupyter-widgets/controls",
      "model_module_version": "1.5.0",
      "model_name": "HTMLModel",
      "state": {
       "layout": "IPY_MODEL_3a538ec4d81b449d826476170793f188",
       "style": "IPY_MODEL_0c42f4b31ac94afeb5e639ad152b413b",
       "value": " 550/? [00:01&lt;00:00, 459.53it/s]"
      }
     },
     "b47498952c3c49528823518bfde44318": {
      "model_module": "@jupyter-widgets/base",
      "model_module_version": "1.2.0",
      "model_name": "LayoutModel",
      "state": {}
     },
     "b4d0e2bc91134387af43b4fe455edc42": {
      "model_module": "@jupyter-widgets/controls",
      "model_module_version": "1.5.0",
      "model_name": "FloatProgressModel",
      "state": {
       "description": "Validating: ",
       "layout": "IPY_MODEL_edf4fa5067ac4749ada5b851720f1b9d",
       "max": 541,
       "style": "IPY_MODEL_700d3da056c34e42aac1431a1c0b1325",
       "value": 541
      }
     },
     "b4d3d3062a3b429a9182f59c80de1a5c": {
      "model_module": "@jupyter-widgets/base",
      "model_module_version": "1.2.0",
      "model_name": "LayoutModel",
      "state": {
       "display": "inline-flex",
       "flex_flow": "row wrap",
       "width": "100%"
      }
     },
     "b4e4021e7a524edb9d670d93d52d5139": {
      "model_module": "@jupyter-widgets/base",
      "model_module_version": "1.2.0",
      "model_name": "LayoutModel",
      "state": {}
     },
     "b4fe66dad3534aa5851145ee98ebcee1": {
      "model_module": "@jupyter-widgets/base",
      "model_module_version": "1.2.0",
      "model_name": "LayoutModel",
      "state": {}
     },
     "b513568753a14770ad5c1b3d711ed0ed": {
      "model_module": "@jupyter-widgets/controls",
      "model_module_version": "1.5.0",
      "model_name": "FloatProgressModel",
      "state": {
       "description": "Validating: ",
       "layout": "IPY_MODEL_440f294513f94e0eafafe1175fea490f",
       "max": 541,
       "style": "IPY_MODEL_9c8c116a476f492ea5c90fab785a9654",
       "value": 541
      }
     },
     "b56046d8dfef49708afda29b01fe9db4": {
      "model_module": "@jupyter-widgets/base",
      "model_module_version": "1.2.0",
      "model_name": "LayoutModel",
      "state": {
       "display": "inline-flex",
       "flex_flow": "row wrap",
       "width": "100%"
      }
     },
     "b5a87d5ff39441e085b043137ebffeef": {
      "model_module": "@jupyter-widgets/controls",
      "model_module_version": "1.5.0",
      "model_name": "ProgressStyleModel",
      "state": {
       "description_width": "initial"
      }
     },
     "b6d2e282f916462e8a4ad0925530de59": {
      "model_module": "@jupyter-widgets/controls",
      "model_module_version": "1.5.0",
      "model_name": "HTMLModel",
      "state": {
       "layout": "IPY_MODEL_78c355a497ac4368b360fdebac24cffe",
       "style": "IPY_MODEL_6e544ef30c194f339da1349c4c3b9e76",
       "value": " 550/? [00:01&lt;00:00, 405.34it/s]"
      }
     },
     "b71ca5721ee54f709d99b95b9ceedfa7": {
      "model_module": "@jupyter-widgets/controls",
      "model_module_version": "1.5.0",
      "model_name": "HTMLModel",
      "state": {
       "layout": "IPY_MODEL_c729b21a0d3b403391aa78c04f87dbf8",
       "style": "IPY_MODEL_091cc22142ed4aadada0ebfe8652ea05",
       "value": " 550/? [00:01&lt;00:00, 400.76it/s]"
      }
     },
     "b72b7a33d72448cc9f2c9b7d45317b88": {
      "model_module": "@jupyter-widgets/controls",
      "model_module_version": "1.5.0",
      "model_name": "FloatProgressModel",
      "state": {
       "bar_style": "success",
       "description": "Epoch 100: ",
       "layout": "IPY_MODEL_43f46fb8ba754ed9b340ec546129d52b",
       "max": 3063,
       "style": "IPY_MODEL_d708e1c4a279447099c24adb6667ff00",
       "value": 3063
      }
     },
     "b72cc723edd4429f95f08541da90f68b": {
      "model_module": "@jupyter-widgets/base",
      "model_module_version": "1.2.0",
      "model_name": "LayoutModel",
      "state": {
       "display": "inline-flex",
       "flex_flow": "row wrap",
       "width": "100%"
      }
     },
     "b74b0adf83244e6fb9ceecc194220eb6": {
      "model_module": "@jupyter-widgets/base",
      "model_module_version": "1.2.0",
      "model_name": "LayoutModel",
      "state": {}
     },
     "b7f34ce12cea4887a6dbd7057aa3a57f": {
      "model_module": "@jupyter-widgets/base",
      "model_module_version": "1.2.0",
      "model_name": "LayoutModel",
      "state": {}
     },
     "b805584f6b8d412b8a8ff42b5dde7915": {
      "model_module": "@jupyter-widgets/controls",
      "model_module_version": "1.5.0",
      "model_name": "ProgressStyleModel",
      "state": {
       "description_width": "initial"
      }
     },
     "b833f1d79e894d668c13e694ae5ef160": {
      "model_module": "@jupyter-widgets/controls",
      "model_module_version": "1.5.0",
      "model_name": "ProgressStyleModel",
      "state": {
       "description_width": "initial"
      }
     },
     "b8d74ab88ec84180a181b680dadaff07": {
      "model_module": "@jupyter-widgets/base",
      "model_module_version": "1.2.0",
      "model_name": "LayoutModel",
      "state": {
       "flex": "2"
      }
     },
     "b9082853f50e4f8596acad13c3cd9b65": {
      "model_module": "@jupyter-widgets/controls",
      "model_module_version": "1.5.0",
      "model_name": "ProgressStyleModel",
      "state": {
       "description_width": "initial"
      }
     },
     "b9f83630c674469c99323c5c5c37e8f5": {
      "model_module": "@jupyter-widgets/controls",
      "model_module_version": "1.5.0",
      "model_name": "ProgressStyleModel",
      "state": {
       "description_width": "initial"
      }
     },
     "ba83bda6b15b4fa08f65e0cd10673f61": {
      "model_module": "@jupyter-widgets/base",
      "model_module_version": "1.2.0",
      "model_name": "LayoutModel",
      "state": {
       "display": "inline-flex",
       "flex_flow": "row wrap",
       "width": "100%"
      }
     },
     "bb4410495b7d48dbbd42c1b9d6bcd307": {
      "model_module": "@jupyter-widgets/controls",
      "model_module_version": "1.5.0",
      "model_name": "ProgressStyleModel",
      "state": {
       "description_width": "initial"
      }
     },
     "bb67b592b0b84e159e4381842f756a47": {
      "model_module": "@jupyter-widgets/base",
      "model_module_version": "1.2.0",
      "model_name": "LayoutModel",
      "state": {}
     },
     "bb7104af4bd24fc69032c79fc56b657b": {
      "model_module": "@jupyter-widgets/controls",
      "model_module_version": "1.5.0",
      "model_name": "HTMLModel",
      "state": {
       "layout": "IPY_MODEL_3266a737a2374b8fbd8ddfffa0966438",
       "style": "IPY_MODEL_4a9e1fff4be64750b0490ec6c96b9df5",
       "value": " 550/? [00:01&lt;00:00, 389.60it/s]"
      }
     },
     "bb8e0e887f1d49dd97125e2853a404f9": {
      "model_module": "@jupyter-widgets/controls",
      "model_module_version": "1.5.0",
      "model_name": "ProgressStyleModel",
      "state": {
       "description_width": "initial"
      }
     },
     "bbcebca0f06644939c3e72c5d6a2b4c7": {
      "model_module": "@jupyter-widgets/controls",
      "model_module_version": "1.5.0",
      "model_name": "HTMLModel",
      "state": {
       "layout": "IPY_MODEL_40639531bc8e457982d6bd053d31c5d1",
       "style": "IPY_MODEL_9f14940c9c15448f985b11df2f5c6057",
       "value": " 550/? [00:01&lt;00:00, 427.92it/s]"
      }
     },
     "bc05549055e646a3b3ca963a1119e70b": {
      "model_module": "@jupyter-widgets/base",
      "model_module_version": "1.2.0",
      "model_name": "LayoutModel",
      "state": {
       "display": "inline-flex",
       "flex_flow": "row wrap",
       "width": "100%"
      }
     },
     "bd0ce6f758824dba9c53655d56973ef0": {
      "model_module": "@jupyter-widgets/base",
      "model_module_version": "1.2.0",
      "model_name": "LayoutModel",
      "state": {}
     },
     "be066597451e451dbf27b0a36146d1cd": {
      "model_module": "@jupyter-widgets/controls",
      "model_module_version": "1.5.0",
      "model_name": "ProgressStyleModel",
      "state": {
       "description_width": "initial"
      }
     },
     "be22a88ea19e40ed99036aed77fb2581": {
      "model_module": "@jupyter-widgets/controls",
      "model_module_version": "1.5.0",
      "model_name": "FloatProgressModel",
      "state": {
       "description": "Validating: ",
       "layout": "IPY_MODEL_e89242104bf64a709efea8a76797d51a",
       "max": 541,
       "style": "IPY_MODEL_dd3fbaff4c924c8cb0c563e122435e0b",
       "value": 541
      }
     },
     "be2cc08ddad24c7fa87cbcea9e0ac153": {
      "model_module": "@jupyter-widgets/controls",
      "model_module_version": "1.5.0",
      "model_name": "DescriptionStyleModel",
      "state": {
       "description_width": ""
      }
     },
     "be95d95454554604af3985936aa639b9": {
      "model_module": "@jupyter-widgets/controls",
      "model_module_version": "1.5.0",
      "model_name": "ProgressStyleModel",
      "state": {
       "description_width": "initial"
      }
     },
     "bebb5235c80e4a378ccdf31c961192d5": {
      "model_module": "@jupyter-widgets/controls",
      "model_module_version": "1.5.0",
      "model_name": "FloatProgressModel",
      "state": {
       "description": "Validating: ",
       "layout": "IPY_MODEL_614f9c4419944fcca5585e41c323c390",
       "max": 541,
       "style": "IPY_MODEL_b833f1d79e894d668c13e694ae5ef160",
       "value": 541
      }
     },
     "becf4c170ee14f10a2da8f742aabf3f2": {
      "model_module": "@jupyter-widgets/base",
      "model_module_version": "1.2.0",
      "model_name": "LayoutModel",
      "state": {
       "display": "inline-flex",
       "flex_flow": "row wrap",
       "width": "100%"
      }
     },
     "bf77bb9d59dd40039b3b97efea207ae5": {
      "model_module": "@jupyter-widgets/controls",
      "model_module_version": "1.5.0",
      "model_name": "ProgressStyleModel",
      "state": {
       "description_width": "initial"
      }
     },
     "c00454cd33d94166a3d494c45c388057": {
      "model_module": "@jupyter-widgets/base",
      "model_module_version": "1.2.0",
      "model_name": "LayoutModel",
      "state": {}
     },
     "c0521d54fa7f4eb39ea06b659967d734": {
      "model_module": "@jupyter-widgets/base",
      "model_module_version": "1.2.0",
      "model_name": "LayoutModel",
      "state": {
       "flex": "2"
      }
     },
     "c05b529b1b854f4398d37dca5d691937": {
      "model_module": "@jupyter-widgets/base",
      "model_module_version": "1.2.0",
      "model_name": "LayoutModel",
      "state": {
       "flex": "2"
      }
     },
     "c0f191a7551b42c986aeee00b1e41c18": {
      "model_module": "@jupyter-widgets/controls",
      "model_module_version": "1.5.0",
      "model_name": "HTMLModel",
      "state": {
       "layout": "IPY_MODEL_d5de6c8eede74ed2b2d06d68e07fc084",
       "style": "IPY_MODEL_2052044a47114068b0d68a48b3acc4da",
       "value": " 550/? [00:01&lt;00:00, 430.71it/s]"
      }
     },
     "c11b61296d5c4a7d9d4ffe40a0875ab7": {
      "model_module": "@jupyter-widgets/base",
      "model_module_version": "1.2.0",
      "model_name": "LayoutModel",
      "state": {
       "flex": "2"
      }
     },
     "c1d917e7b9374f7ebb9b53f5b8ba9260": {
      "model_module": "@jupyter-widgets/controls",
      "model_module_version": "1.5.0",
      "model_name": "DescriptionStyleModel",
      "state": {
       "description_width": ""
      }
     },
     "c1e9f8b895964e018a761c045265b258": {
      "model_module": "@jupyter-widgets/controls",
      "model_module_version": "1.5.0",
      "model_name": "FloatProgressModel",
      "state": {
       "description": "Validating: ",
       "layout": "IPY_MODEL_26b09bb6de314feb9852f6d036304eef",
       "max": 541,
       "style": "IPY_MODEL_a29af1868a5c44188cd791be2748c501",
       "value": 541
      }
     },
     "c2e5a5407d164069a3e4075094511e38": {
      "model_module": "@jupyter-widgets/base",
      "model_module_version": "1.2.0",
      "model_name": "LayoutModel",
      "state": {
       "flex": "2"
      }
     },
     "c2fcf62c9d8548d48f0e458468904fbd": {
      "model_module": "@jupyter-widgets/controls",
      "model_module_version": "1.5.0",
      "model_name": "FloatProgressModel",
      "state": {
       "description": "Validating: ",
       "layout": "IPY_MODEL_8347e6f7cf0b4575930a7684de69c7e0",
       "max": 541,
       "style": "IPY_MODEL_24fdc28b875e4c13b9e7db27722da005",
       "value": 541
      }
     },
     "c308f34ce9734271bf42ee6b524a4a1a": {
      "model_module": "@jupyter-widgets/base",
      "model_module_version": "1.2.0",
      "model_name": "LayoutModel",
      "state": {}
     },
     "c31079675159436ab0b4bebb4872c3d4": {
      "model_module": "@jupyter-widgets/base",
      "model_module_version": "1.2.0",
      "model_name": "LayoutModel",
      "state": {}
     },
     "c35c1c8c182c4bf280491dd22768f87c": {
      "model_module": "@jupyter-widgets/base",
      "model_module_version": "1.2.0",
      "model_name": "LayoutModel",
      "state": {
       "display": "inline-flex",
       "flex_flow": "row wrap",
       "width": "100%"
      }
     },
     "c3e7be117a5e49599deae5226de6f165": {
      "model_module": "@jupyter-widgets/base",
      "model_module_version": "1.2.0",
      "model_name": "LayoutModel",
      "state": {
       "flex": "2"
      }
     },
     "c5082582f890423ab18b5f5b6a562498": {
      "model_module": "@jupyter-widgets/controls",
      "model_module_version": "1.5.0",
      "model_name": "FloatProgressModel",
      "state": {
       "description": "Validating: ",
       "layout": "IPY_MODEL_b2052558a7bb4878b51ea490cea2ea66",
       "max": 541,
       "style": "IPY_MODEL_30168738499c45a4950f4b98f41acf64",
       "value": 541
      }
     },
     "c5fd5d91185245cbaf3eaf7dfc54bfbb": {
      "model_module": "@jupyter-widgets/base",
      "model_module_version": "1.2.0",
      "model_name": "LayoutModel",
      "state": {}
     },
     "c66357eaf6ce45b5a859551c1a91e361": {
      "model_module": "@jupyter-widgets/controls",
      "model_module_version": "1.5.0",
      "model_name": "FloatProgressModel",
      "state": {
       "description": "Validating: ",
       "layout": "IPY_MODEL_3a4fc643eb904450af49953dc4616457",
       "max": 541,
       "style": "IPY_MODEL_adb6c8d7dc134cd8aaddbdda397144d9",
       "value": 541
      }
     },
     "c66d9f1c434f4ccc897721790f81dc39": {
      "model_module": "@jupyter-widgets/controls",
      "model_module_version": "1.5.0",
      "model_name": "ProgressStyleModel",
      "state": {
       "description_width": "initial"
      }
     },
     "c729b21a0d3b403391aa78c04f87dbf8": {
      "model_module": "@jupyter-widgets/base",
      "model_module_version": "1.2.0",
      "model_name": "LayoutModel",
      "state": {}
     },
     "c759eac2badd4246836f99186eca3b5f": {
      "model_module": "@jupyter-widgets/base",
      "model_module_version": "1.2.0",
      "model_name": "LayoutModel",
      "state": {
       "flex": "2"
      }
     },
     "c761242d62d14ad782f6b90d8a3a2148": {
      "model_module": "@jupyter-widgets/base",
      "model_module_version": "1.2.0",
      "model_name": "LayoutModel",
      "state": {
       "display": "inline-flex",
       "flex_flow": "row wrap",
       "width": "100%"
      }
     },
     "c77d452abe5d4e27ae728a85f99ee3e8": {
      "model_module": "@jupyter-widgets/base",
      "model_module_version": "1.2.0",
      "model_name": "LayoutModel",
      "state": {}
     },
     "c7df2d79ef96455ea65e37bd81874d1e": {
      "model_module": "@jupyter-widgets/base",
      "model_module_version": "1.2.0",
      "model_name": "LayoutModel",
      "state": {
       "display": "inline-flex",
       "flex_flow": "row wrap",
       "width": "100%"
      }
     },
     "c7f4113a5d8340bfb33672b92dc91f82": {
      "model_module": "@jupyter-widgets/base",
      "model_module_version": "1.2.0",
      "model_name": "LayoutModel",
      "state": {}
     },
     "c834eb9e7ed24a42ad61f50e7f2199df": {
      "model_module": "@jupyter-widgets/controls",
      "model_module_version": "1.5.0",
      "model_name": "HTMLModel",
      "state": {
       "layout": "IPY_MODEL_145a2ee793344726a8032022a1167d0c",
       "style": "IPY_MODEL_17b99ba736f44aac9acae854c8985d9a",
       "value": " 550/? [00:01&lt;00:00, 423.15it/s]"
      }
     },
     "c894da2bad3a4d83af681ecf8f045314": {
      "model_module": "@jupyter-widgets/base",
      "model_module_version": "1.2.0",
      "model_name": "LayoutModel",
      "state": {
       "display": "inline-flex",
       "flex_flow": "row wrap",
       "width": "100%"
      }
     },
     "c93c670566a5478e906009902b936dca": {
      "model_module": "@jupyter-widgets/controls",
      "model_module_version": "1.5.0",
      "model_name": "DescriptionStyleModel",
      "state": {
       "description_width": ""
      }
     },
     "c94b4fb0af81448e9da7ea5b51c15dfc": {
      "model_module": "@jupyter-widgets/controls",
      "model_module_version": "1.5.0",
      "model_name": "ProgressStyleModel",
      "state": {
       "description_width": "initial"
      }
     },
     "c9d5d98791574194890e5a3e5bdf303e": {
      "model_module": "@jupyter-widgets/controls",
      "model_module_version": "1.5.0",
      "model_name": "DescriptionStyleModel",
      "state": {
       "description_width": ""
      }
     },
     "ca07d0af546b4281aeda7c8044096659": {
      "model_module": "@jupyter-widgets/controls",
      "model_module_version": "1.5.0",
      "model_name": "ProgressStyleModel",
      "state": {
       "description_width": "initial"
      }
     },
     "ca345dbec85346b6bdcd2a4df9a232ca": {
      "model_module": "@jupyter-widgets/controls",
      "model_module_version": "1.5.0",
      "model_name": "HTMLModel",
      "state": {
       "layout": "IPY_MODEL_7585cdc7ab634d3fa8148d552eac83b4",
       "style": "IPY_MODEL_e710b446e52849cd9ead5c699703cc5c",
       "value": " 550/? [00:01&lt;00:00, 419.98it/s]"
      }
     },
     "cab56fec764f4f928d060a85210f74e3": {
      "model_module": "@jupyter-widgets/controls",
      "model_module_version": "1.5.0",
      "model_name": "HTMLModel",
      "state": {
       "layout": "IPY_MODEL_c31079675159436ab0b4bebb4872c3d4",
       "style": "IPY_MODEL_1a813621c8f44f939599c7b217d7c445",
       "value": " 550/? [00:01&lt;00:00, 451.31it/s]"
      }
     },
     "cb06d1896bd947d1949fb776add91170": {
      "model_module": "@jupyter-widgets/base",
      "model_module_version": "1.2.0",
      "model_name": "LayoutModel",
      "state": {
       "flex": "2"
      }
     },
     "cb081c20c38341598456a0490d287977": {
      "model_module": "@jupyter-widgets/controls",
      "model_module_version": "1.5.0",
      "model_name": "FloatProgressModel",
      "state": {
       "description": "Validating: ",
       "layout": "IPY_MODEL_35bea77cad4348618f8162153c9de212",
       "max": 541,
       "style": "IPY_MODEL_5d5f7066dfdd42c28195367f4658b4f9",
       "value": 541
      }
     },
     "cb2ad6a6b72648a5949f0a1765fce221": {
      "model_module": "@jupyter-widgets/base",
      "model_module_version": "1.2.0",
      "model_name": "LayoutModel",
      "state": {
       "display": "inline-flex",
       "flex_flow": "row wrap",
       "width": "100%"
      }
     },
     "cb838fbca9bc4bacbf92ee92786c9317": {
      "model_module": "@jupyter-widgets/base",
      "model_module_version": "1.2.0",
      "model_name": "LayoutModel",
      "state": {
       "display": "inline-flex",
       "flex_flow": "row wrap",
       "width": "100%"
      }
     },
     "ccc4dedacf5049ea8f2ddfb55924210d": {
      "model_module": "@jupyter-widgets/base",
      "model_module_version": "1.2.0",
      "model_name": "LayoutModel",
      "state": {
       "display": "inline-flex",
       "flex_flow": "row wrap",
       "width": "100%"
      }
     },
     "ccd87e9dab864232925cca7c78c89b53": {
      "model_module": "@jupyter-widgets/base",
      "model_module_version": "1.2.0",
      "model_name": "LayoutModel",
      "state": {
       "flex": "2"
      }
     },
     "cdb3d1e59e6948969f16cbe8279eb1a8": {
      "model_module": "@jupyter-widgets/controls",
      "model_module_version": "1.5.0",
      "model_name": "FloatProgressModel",
      "state": {
       "description": "Validating: ",
       "layout": "IPY_MODEL_7ef830b0355a4aa7a3577722d25ad17b",
       "max": 541,
       "style": "IPY_MODEL_1aa265142ad44ba9a74e85e710cb8a08",
       "value": 541
      }
     },
     "ce68f81a5f2f4a7aa8d4a106d13e7fc3": {
      "model_module": "@jupyter-widgets/controls",
      "model_module_version": "1.5.0",
      "model_name": "FloatProgressModel",
      "state": {
       "description": "Validating: ",
       "layout": "IPY_MODEL_fa01b690148c4e84b3888d6bbf434073",
       "max": 541,
       "style": "IPY_MODEL_ce7b209af4a740ff98bdc9b0e7e2e2ff",
       "value": 541
      }
     },
     "ce7b209af4a740ff98bdc9b0e7e2e2ff": {
      "model_module": "@jupyter-widgets/controls",
      "model_module_version": "1.5.0",
      "model_name": "ProgressStyleModel",
      "state": {
       "description_width": "initial"
      }
     },
     "cea1fbd470904cb6b2312a8d6357518b": {
      "model_module": "@jupyter-widgets/base",
      "model_module_version": "1.2.0",
      "model_name": "LayoutModel",
      "state": {
       "display": "inline-flex",
       "flex_flow": "row wrap",
       "width": "100%"
      }
     },
     "cf835501a1bd4e559b3f342d4c2fe1be": {
      "model_module": "@jupyter-widgets/controls",
      "model_module_version": "1.5.0",
      "model_name": "FloatProgressModel",
      "state": {
       "description": "Validating: ",
       "layout": "IPY_MODEL_a743e88804bf4772b6514c11e91fcd10",
       "max": 541,
       "style": "IPY_MODEL_e643a3fa6a4949ad9eb5235712726413",
       "value": 541
      }
     },
     "cfaec8133392457d980f4428f6c4fc2f": {
      "model_module": "@jupyter-widgets/base",
      "model_module_version": "1.2.0",
      "model_name": "LayoutModel",
      "state": {}
     },
     "cfbdbfbe8d2d4f6eba8484c3eb1fdb70": {
      "model_module": "@jupyter-widgets/base",
      "model_module_version": "1.2.0",
      "model_name": "LayoutModel",
      "state": {}
     },
     "cfe0f3d74ae0415c9357c3e68b837ae7": {
      "model_module": "@jupyter-widgets/controls",
      "model_module_version": "1.5.0",
      "model_name": "DescriptionStyleModel",
      "state": {
       "description_width": ""
      }
     },
     "d07f408f57dd429d8c5190b1afa65825": {
      "model_module": "@jupyter-widgets/controls",
      "model_module_version": "1.5.0",
      "model_name": "FloatProgressModel",
      "state": {
       "description": "Validating: ",
       "layout": "IPY_MODEL_9ac3b21663bb44b7b42bc94929c95a2e",
       "max": 541,
       "style": "IPY_MODEL_bf77bb9d59dd40039b3b97efea207ae5",
       "value": 541
      }
     },
     "d13773d58572490eae0735a0c12d2d13": {
      "model_module": "@jupyter-widgets/base",
      "model_module_version": "1.2.0",
      "model_name": "LayoutModel",
      "state": {}
     },
     "d1e4c566ec8c47c6b8fe38041ce8b909": {
      "model_module": "@jupyter-widgets/controls",
      "model_module_version": "1.5.0",
      "model_name": "DescriptionStyleModel",
      "state": {
       "description_width": ""
      }
     },
     "d1e68debfe58481ba7a709fe455b7a1b": {
      "model_module": "@jupyter-widgets/controls",
      "model_module_version": "1.5.0",
      "model_name": "FloatProgressModel",
      "state": {
       "description": "Validating: ",
       "layout": "IPY_MODEL_3df7e85629b741d0bed4b014cb27e446",
       "max": 541,
       "style": "IPY_MODEL_26c7034d191546ec917b95c50e9a4984",
       "value": 541
      }
     },
     "d25a570f708549f6b88b7ba4660f759a": {
      "model_module": "@jupyter-widgets/base",
      "model_module_version": "1.2.0",
      "model_name": "LayoutModel",
      "state": {
       "flex": "2"
      }
     },
     "d2708a6061ee4dbb9529e6533cdea21b": {
      "model_module": "@jupyter-widgets/controls",
      "model_module_version": "1.5.0",
      "model_name": "HTMLModel",
      "state": {
       "layout": "IPY_MODEL_c308f34ce9734271bf42ee6b524a4a1a",
       "style": "IPY_MODEL_930c43b03a334a559888cecd3f5de2e4",
       "value": " 550/? [00:01&lt;00:00, 425.54it/s]"
      }
     },
     "d287037d0dd0449bb1d95369af4fa974": {
      "model_module": "@jupyter-widgets/controls",
      "model_module_version": "1.5.0",
      "model_name": "FloatProgressModel",
      "state": {
       "description": "Validating: ",
       "layout": "IPY_MODEL_dbe80b1fa1b14b139a82cdb3c76e4409",
       "max": 541,
       "style": "IPY_MODEL_98dc7dcf043a4f89b80d9bf710e8d8ff",
       "value": 541
      }
     },
     "d2e3bd9d0f154630bd2f118a47278c2a": {
      "model_module": "@jupyter-widgets/base",
      "model_module_version": "1.2.0",
      "model_name": "LayoutModel",
      "state": {
       "display": "inline-flex",
       "flex_flow": "row wrap",
       "width": "100%"
      }
     },
     "d2ed6f59b4964b7faecd4148ef164d73": {
      "model_module": "@jupyter-widgets/controls",
      "model_module_version": "1.5.0",
      "model_name": "FloatProgressModel",
      "state": {
       "description": "Validating: ",
       "layout": "IPY_MODEL_c759eac2badd4246836f99186eca3b5f",
       "max": 541,
       "style": "IPY_MODEL_f62f3c4bd6fa4a8499f45c7b500beca4",
       "value": 541
      }
     },
     "d348017bab7841fca81c0124715cfe6b": {
      "model_module": "@jupyter-widgets/controls",
      "model_module_version": "1.5.0",
      "model_name": "FloatProgressModel",
      "state": {
       "description": "Validating: ",
       "layout": "IPY_MODEL_ebd0a733c20245c1a3b200fbc3f97622",
       "max": 541,
       "style": "IPY_MODEL_b33a253735244deb933e7882c2380957",
       "value": 541
      }
     },
     "d593a236a9e04b6687dc088c39e20437": {
      "model_module": "@jupyter-widgets/base",
      "model_module_version": "1.2.0",
      "model_name": "LayoutModel",
      "state": {}
     },
     "d5de6c8eede74ed2b2d06d68e07fc084": {
      "model_module": "@jupyter-widgets/base",
      "model_module_version": "1.2.0",
      "model_name": "LayoutModel",
      "state": {}
     },
     "d5f424c955244facbe3f5cb7b7a5dc16": {
      "model_module": "@jupyter-widgets/controls",
      "model_module_version": "1.5.0",
      "model_name": "FloatProgressModel",
      "state": {
       "description": "Validating: ",
       "layout": "IPY_MODEL_1d331db3bd6248b180b0f6da1fc58d5a",
       "max": 541,
       "style": "IPY_MODEL_4f45e762086548298374d16bad365c15",
       "value": 541
      }
     },
     "d6bab72eb8cc4cd2a0baa9c6d32b743c": {
      "model_module": "@jupyter-widgets/controls",
      "model_module_version": "1.5.0",
      "model_name": "HTMLModel",
      "state": {
       "layout": "IPY_MODEL_32a93957f26d4533925d55ee02bd9982",
       "style": "IPY_MODEL_97b1e3e0729645f0847203e3b2dc1acb",
       "value": " 550/? [00:01&lt;00:00, 481.46it/s]"
      }
     },
     "d6f657d74abe475595ff7ff4e3057e9f": {
      "model_module": "@jupyter-widgets/base",
      "model_module_version": "1.2.0",
      "model_name": "LayoutModel",
      "state": {
       "flex": "2"
      }
     },
     "d708e1c4a279447099c24adb6667ff00": {
      "model_module": "@jupyter-widgets/controls",
      "model_module_version": "1.5.0",
      "model_name": "ProgressStyleModel",
      "state": {
       "description_width": "initial"
      }
     },
     "d70ec4f661764a11bcc7d03a6ca1909e": {
      "model_module": "@jupyter-widgets/base",
      "model_module_version": "1.2.0",
      "model_name": "LayoutModel",
      "state": {}
     },
     "d7744426761d418ea9bd990468fd6499": {
      "model_module": "@jupyter-widgets/base",
      "model_module_version": "1.2.0",
      "model_name": "LayoutModel",
      "state": {
       "display": "inline-flex",
       "flex_flow": "row wrap",
       "width": "100%"
      }
     },
     "d82b8598f6de435a9689e2fc92188d0d": {
      "model_module": "@jupyter-widgets/controls",
      "model_module_version": "1.5.0",
      "model_name": "FloatProgressModel",
      "state": {
       "description": "Validating: ",
       "layout": "IPY_MODEL_34ca605b1d1e4ad3a892854ae57771e6",
       "max": 541,
       "style": "IPY_MODEL_bb8e0e887f1d49dd97125e2853a404f9",
       "value": 541
      }
     },
     "d836fafc4e1b4cdba74641616f840a0d": {
      "model_module": "@jupyter-widgets/controls",
      "model_module_version": "1.5.0",
      "model_name": "ProgressStyleModel",
      "state": {
       "description_width": "initial"
      }
     },
     "d83c19fa2f0e4e06a3d37198ac6fc36e": {
      "model_module": "@jupyter-widgets/controls",
      "model_module_version": "1.5.0",
      "model_name": "HTMLModel",
      "state": {
       "layout": "IPY_MODEL_8dd6169d99fc409d82d2e25b97d692f6",
       "style": "IPY_MODEL_6d2b7c721e7d49f48582cb2e6c351525",
       "value": " 550/? [00:01&lt;00:00, 411.53it/s]"
      }
     },
     "d88cd8b6b1174e71bb62cbed1b95587c": {
      "model_module": "@jupyter-widgets/controls",
      "model_module_version": "1.5.0",
      "model_name": "FloatProgressModel",
      "state": {
       "description": "Validating: ",
       "layout": "IPY_MODEL_2c561d17677c46ddbe37ba9c16bec79c",
       "max": 541,
       "style": "IPY_MODEL_1b793a4f70fe4959a7c9386408e20290",
       "value": 541
      }
     },
     "d8a09a2d198f495eaa0b94c8881769c4": {
      "model_module": "@jupyter-widgets/base",
      "model_module_version": "1.2.0",
      "model_name": "LayoutModel",
      "state": {
       "flex": "2"
      }
     },
     "d8c435a3ec3e4f2487fe593b7ca9685e": {
      "model_module": "@jupyter-widgets/controls",
      "model_module_version": "1.5.0",
      "model_name": "DescriptionStyleModel",
      "state": {
       "description_width": ""
      }
     },
     "d91de217967f4249abe7917f7c657068": {
      "model_module": "@jupyter-widgets/controls",
      "model_module_version": "1.5.0",
      "model_name": "HTMLModel",
      "state": {
       "layout": "IPY_MODEL_21ec6515d0794950a9fd30722dac6a86",
       "style": "IPY_MODEL_1b69405998aa4f5c98fd4c383216e577",
       "value": " 550/? [00:01&lt;00:00, 438.72it/s]"
      }
     },
     "d97a5371f3054745a226c78ed7319aea": {
      "model_module": "@jupyter-widgets/base",
      "model_module_version": "1.2.0",
      "model_name": "LayoutModel",
      "state": {
       "display": "inline-flex",
       "flex_flow": "row wrap",
       "width": "100%"
      }
     },
     "d991ce0866e94eef87effefb27b1c8bd": {
      "model_module": "@jupyter-widgets/controls",
      "model_module_version": "1.5.0",
      "model_name": "ProgressStyleModel",
      "state": {
       "description_width": "initial"
      }
     },
     "d9c6ea382bd44a08aeb5f70c8340a0fe": {
      "model_module": "@jupyter-widgets/controls",
      "model_module_version": "1.5.0",
      "model_name": "FloatProgressModel",
      "state": {
       "description": "Validating: ",
       "layout": "IPY_MODEL_2fa40359ecc841b0bacdca5db4db5d48",
       "max": 541,
       "style": "IPY_MODEL_ab20b70ebadf415bb64cb23b8b932cd8",
       "value": 541
      }
     },
     "d9de34dcc0e24fd8bd670a1454c21794": {
      "model_module": "@jupyter-widgets/controls",
      "model_module_version": "1.5.0",
      "model_name": "DescriptionStyleModel",
      "state": {
       "description_width": ""
      }
     },
     "db37db28bb84487b85da1163503c256e": {
      "model_module": "@jupyter-widgets/controls",
      "model_module_version": "1.5.0",
      "model_name": "HTMLModel",
      "state": {
       "layout": "IPY_MODEL_35d7815266704ab59d5cb46f8bac84c3",
       "style": "IPY_MODEL_1b4da84eca30445fbd8ba7ddf8750d88",
       "value": " 550/? [00:01&lt;00:00, 414.42it/s]"
      }
     },
     "db3b1694f5444c84ac820b1b7d251caf": {
      "model_module": "@jupyter-widgets/controls",
      "model_module_version": "1.5.0",
      "model_name": "FloatProgressModel",
      "state": {
       "description": "Validating: ",
       "layout": "IPY_MODEL_22428947ac7942eaa361303ff01bfd01",
       "max": 541,
       "style": "IPY_MODEL_b5a87d5ff39441e085b043137ebffeef",
       "value": 541
      }
     },
     "dbbf9cce0bec47a1b4c3f27ce4b88300": {
      "model_module": "@jupyter-widgets/base",
      "model_module_version": "1.2.0",
      "model_name": "LayoutModel",
      "state": {
       "display": "inline-flex",
       "flex_flow": "row wrap",
       "width": "100%"
      }
     },
     "dbe80b1fa1b14b139a82cdb3c76e4409": {
      "model_module": "@jupyter-widgets/base",
      "model_module_version": "1.2.0",
      "model_name": "LayoutModel",
      "state": {
       "flex": "2"
      }
     },
     "dc0ab28a4dd24addb819bbc4bc388dbc": {
      "model_module": "@jupyter-widgets/base",
      "model_module_version": "1.2.0",
      "model_name": "LayoutModel",
      "state": {
       "display": "inline-flex",
       "flex_flow": "row wrap",
       "width": "100%"
      }
     },
     "dccd805574124331886d57098e32767b": {
      "model_module": "@jupyter-widgets/controls",
      "model_module_version": "1.5.0",
      "model_name": "FloatProgressModel",
      "state": {
       "description": "Validating: ",
       "layout": "IPY_MODEL_38581acb243b4f258995e759502e3dfb",
       "max": 541,
       "style": "IPY_MODEL_1b4637538b454bd9a9044378ee0a7ef2",
       "value": 541
      }
     },
     "dcf16ba92e7544fe8c5fbfdf12ce74be": {
      "model_module": "@jupyter-widgets/controls",
      "model_module_version": "1.5.0",
      "model_name": "ProgressStyleModel",
      "state": {
       "description_width": "initial"
      }
     },
     "dd17cd1bb6164d9389be3fc04d87a3f5": {
      "model_module": "@jupyter-widgets/base",
      "model_module_version": "1.2.0",
      "model_name": "LayoutModel",
      "state": {
       "display": "inline-flex",
       "flex_flow": "row wrap",
       "width": "100%"
      }
     },
     "dd3fbaff4c924c8cb0c563e122435e0b": {
      "model_module": "@jupyter-widgets/controls",
      "model_module_version": "1.5.0",
      "model_name": "ProgressStyleModel",
      "state": {
       "description_width": "initial"
      }
     },
     "dd9bc24f92a643e482afd28e31e10940": {
      "model_module": "@jupyter-widgets/controls",
      "model_module_version": "1.5.0",
      "model_name": "ProgressStyleModel",
      "state": {
       "description_width": "initial"
      }
     },
     "dd9da3dee91a46a2b7abedcb58ca15ed": {
      "model_module": "@jupyter-widgets/base",
      "model_module_version": "1.2.0",
      "model_name": "LayoutModel",
      "state": {}
     },
     "de31ec3292be4fe1b37ec4f1fc46b411": {
      "model_module": "@jupyter-widgets/controls",
      "model_module_version": "1.5.0",
      "model_name": "ProgressStyleModel",
      "state": {
       "description_width": "initial"
      }
     },
     "de92ccdec61440f1a3462b30f40b12d5": {
      "model_module": "@jupyter-widgets/controls",
      "model_module_version": "1.5.0",
      "model_name": "HTMLModel",
      "state": {
       "layout": "IPY_MODEL_cfbdbfbe8d2d4f6eba8484c3eb1fdb70",
       "style": "IPY_MODEL_e279f596b8bd4746baaf19dabdf0eea3",
       "value": " 550/? [00:05&lt;00:00, 104.58it/s]"
      }
     },
     "dec3c51a01de47569df5590d3332b174": {
      "model_module": "@jupyter-widgets/controls",
      "model_module_version": "1.5.0",
      "model_name": "DescriptionStyleModel",
      "state": {
       "description_width": ""
      }
     },
     "df3421ad7e5342a484c0e3dde244cfd6": {
      "model_module": "@jupyter-widgets/base",
      "model_module_version": "1.2.0",
      "model_name": "LayoutModel",
      "state": {
       "display": "inline-flex",
       "flex_flow": "row wrap",
       "width": "100%"
      }
     },
     "dfffd4f57db4446ca6dd13a1c1f0b23a": {
      "model_module": "@jupyter-widgets/controls",
      "model_module_version": "1.5.0",
      "model_name": "HTMLModel",
      "state": {
       "layout": "IPY_MODEL_4d68a71f73c44d7a8ae7b3e9e23ca6bb",
       "style": "IPY_MODEL_6f8e9ee4c04240ad9b4cd328a8e9a371",
       "value": " 550/? [00:01&lt;00:00, 425.45it/s]"
      }
     },
     "e06fb4af88b240eb990f08d2bca3b03a": {
      "model_module": "@jupyter-widgets/base",
      "model_module_version": "1.2.0",
      "model_name": "LayoutModel",
      "state": {}
     },
     "e07687327ab2424281a15ccf1a0c7b09": {
      "model_module": "@jupyter-widgets/base",
      "model_module_version": "1.2.0",
      "model_name": "LayoutModel",
      "state": {
       "display": "inline-flex",
       "flex_flow": "row wrap",
       "width": "100%"
      }
     },
     "e086c67f5fff46918bc2564e810286e1": {
      "model_module": "@jupyter-widgets/base",
      "model_module_version": "1.2.0",
      "model_name": "LayoutModel",
      "state": {
       "flex": "2"
      }
     },
     "e08a3ede05b9490d9fae688dddecf894": {
      "model_module": "@jupyter-widgets/base",
      "model_module_version": "1.2.0",
      "model_name": "LayoutModel",
      "state": {
       "display": "inline-flex",
       "flex_flow": "row wrap",
       "width": "100%"
      }
     },
     "e0bf4e29133643a38fab2560054948b7": {
      "model_module": "@jupyter-widgets/controls",
      "model_module_version": "1.5.0",
      "model_name": "HTMLModel",
      "state": {
       "layout": "IPY_MODEL_588c0c8f935747e291877761091007d7",
       "style": "IPY_MODEL_62f70dfa12f44b7284225a856a817f89",
       "value": " 550/? [00:01&lt;00:00, 462.07it/s]"
      }
     },
     "e1b9943647004fe4a6491f1cfac5bddc": {
      "model_module": "@jupyter-widgets/controls",
      "model_module_version": "1.5.0",
      "model_name": "FloatProgressModel",
      "state": {
       "description": "Validating: ",
       "layout": "IPY_MODEL_f88eba94814e4595b3921cc3800a28c1",
       "max": 541,
       "style": "IPY_MODEL_8b5c0a566813448487d4b2a00d6f6076",
       "value": 541
      }
     },
     "e267de0a2c3343439aa5036c0ed8ee1e": {
      "model_module": "@jupyter-widgets/controls",
      "model_module_version": "1.5.0",
      "model_name": "FloatProgressModel",
      "state": {
       "description": "Validating: ",
       "layout": "IPY_MODEL_4d748b86c2984ecfbeeb3df8ff1bb6ae",
       "max": 541,
       "style": "IPY_MODEL_6fe2fdd97cb44f5c8b2aa6d9b8107293",
       "value": 541
      }
     },
     "e279f596b8bd4746baaf19dabdf0eea3": {
      "model_module": "@jupyter-widgets/controls",
      "model_module_version": "1.5.0",
      "model_name": "DescriptionStyleModel",
      "state": {
       "description_width": ""
      }
     },
     "e27b9b4fdd744176abc6405b353c542f": {
      "model_module": "@jupyter-widgets/controls",
      "model_module_version": "1.5.0",
      "model_name": "HTMLModel",
      "state": {
       "layout": "IPY_MODEL_e78a57c649cc430b9ea4e3afc884cbf1",
       "style": "IPY_MODEL_7bb88ce5fe414849bd6c1baa6072f91a",
       "value": " 550/? [00:01&lt;00:00, 416.49it/s]"
      }
     },
     "e28a1f8f393543aabc708497a052b5ac": {
      "model_module": "@jupyter-widgets/base",
      "model_module_version": "1.2.0",
      "model_name": "LayoutModel",
      "state": {}
     },
     "e2e779f2dc354b7e9aad56e29f34519e": {
      "model_module": "@jupyter-widgets/controls",
      "model_module_version": "1.5.0",
      "model_name": "FloatProgressModel",
      "state": {
       "description": "Validating: ",
       "layout": "IPY_MODEL_358c26bf6c7247cb8eb6cdbd25c74924",
       "max": 541,
       "style": "IPY_MODEL_f1950312de3d4df8b4d4bbaa6b7aa171",
       "value": 541
      }
     },
     "e3cfa1e876424e78a9fb1075a79c0085": {
      "model_module": "@jupyter-widgets/controls",
      "model_module_version": "1.5.0",
      "model_name": "FloatProgressModel",
      "state": {
       "description": "Validating: ",
       "layout": "IPY_MODEL_68ef520a9cec476c995dc801f6278fd8",
       "max": 541,
       "style": "IPY_MODEL_dd9bc24f92a643e482afd28e31e10940",
       "value": 541
      }
     },
     "e3d0f9fc43954655a377879cbaa65c1f": {
      "model_module": "@jupyter-widgets/controls",
      "model_module_version": "1.5.0",
      "model_name": "FloatProgressModel",
      "state": {
       "description": "Validating: ",
       "layout": "IPY_MODEL_cb06d1896bd947d1949fb776add91170",
       "max": 541,
       "style": "IPY_MODEL_1b06eaf7d32347d7b14730b777ca1c23",
       "value": 541
      }
     },
     "e3e17964e9764bdebab4c499802ebf6e": {
      "model_module": "@jupyter-widgets/controls",
      "model_module_version": "1.5.0",
      "model_name": "ProgressStyleModel",
      "state": {
       "description_width": "initial"
      }
     },
     "e4513727b0d7415fba97f242b1ac0bcc": {
      "model_module": "@jupyter-widgets/controls",
      "model_module_version": "1.5.0",
      "model_name": "DescriptionStyleModel",
      "state": {
       "description_width": ""
      }
     },
     "e5eda3a0a88b41c09f888d27c01beeba": {
      "model_module": "@jupyter-widgets/base",
      "model_module_version": "1.2.0",
      "model_name": "LayoutModel",
      "state": {
       "display": "inline-flex",
       "flex_flow": "row wrap",
       "width": "100%"
      }
     },
     "e643a3fa6a4949ad9eb5235712726413": {
      "model_module": "@jupyter-widgets/controls",
      "model_module_version": "1.5.0",
      "model_name": "ProgressStyleModel",
      "state": {
       "description_width": "initial"
      }
     },
     "e6668d85da724b09908d10d2ab930e7a": {
      "model_module": "@jupyter-widgets/controls",
      "model_module_version": "1.5.0",
      "model_name": "DescriptionStyleModel",
      "state": {
       "description_width": ""
      }
     },
     "e710b446e52849cd9ead5c699703cc5c": {
      "model_module": "@jupyter-widgets/controls",
      "model_module_version": "1.5.0",
      "model_name": "DescriptionStyleModel",
      "state": {
       "description_width": ""
      }
     },
     "e78a57c649cc430b9ea4e3afc884cbf1": {
      "model_module": "@jupyter-widgets/base",
      "model_module_version": "1.2.0",
      "model_name": "LayoutModel",
      "state": {}
     },
     "e78e3da7684e4d48a267d50ae50b07ec": {
      "model_module": "@jupyter-widgets/base",
      "model_module_version": "1.2.0",
      "model_name": "LayoutModel",
      "state": {
       "display": "inline-flex",
       "flex_flow": "row wrap",
       "width": "100%"
      }
     },
     "e7c7a7d87952468c82fc0d160bba826b": {
      "model_module": "@jupyter-widgets/controls",
      "model_module_version": "1.5.0",
      "model_name": "ProgressStyleModel",
      "state": {
       "description_width": "initial"
      }
     },
     "e87b43c79d0f45e1b3927eb452b449f2": {
      "model_module": "@jupyter-widgets/controls",
      "model_module_version": "1.5.0",
      "model_name": "HTMLModel",
      "state": {
       "layout": "IPY_MODEL_044e81f5c9fd45a48116ce0948ccfb44",
       "style": "IPY_MODEL_a8831d38354440b2bf203a0344b5300e",
       "value": " 550/? [00:01&lt;00:00, 456.08it/s]"
      }
     },
     "e89242104bf64a709efea8a76797d51a": {
      "model_module": "@jupyter-widgets/base",
      "model_module_version": "1.2.0",
      "model_name": "LayoutModel",
      "state": {
       "flex": "2"
      }
     },
     "e8b29f78422a4b238f1ca793b1016739": {
      "model_module": "@jupyter-widgets/base",
      "model_module_version": "1.2.0",
      "model_name": "LayoutModel",
      "state": {
       "flex": "2"
      }
     },
     "e8dcc7ce2ab14403949cc918c00829a7": {
      "model_module": "@jupyter-widgets/controls",
      "model_module_version": "1.5.0",
      "model_name": "DescriptionStyleModel",
      "state": {
       "description_width": ""
      }
     },
     "ea81816d0a7f41c192fcce1867cabdf8": {
      "model_module": "@jupyter-widgets/controls",
      "model_module_version": "1.5.0",
      "model_name": "FloatProgressModel",
      "state": {
       "description": "Validating: ",
       "layout": "IPY_MODEL_052bdbbee2f04444bda3c56129b9a119",
       "max": 541,
       "style": "IPY_MODEL_196fa37fd5a045989f1ba37d8ff3fcdb",
       "value": 541
      }
     },
     "ebd0a733c20245c1a3b200fbc3f97622": {
      "model_module": "@jupyter-widgets/base",
      "model_module_version": "1.2.0",
      "model_name": "LayoutModel",
      "state": {
       "flex": "2"
      }
     },
     "ec00c6ef497d4888b1bfa11296d8acba": {
      "model_module": "@jupyter-widgets/controls",
      "model_module_version": "1.5.0",
      "model_name": "HTMLModel",
      "state": {
       "layout": "IPY_MODEL_1bfae492789c441cafd757d963364d58",
       "style": "IPY_MODEL_dec3c51a01de47569df5590d3332b174",
       "value": " 550/? [00:01&lt;00:00, 405.21it/s]"
      }
     },
     "ed4154b17ab64a5fb22a2978a724ca8b": {
      "model_module": "@jupyter-widgets/controls",
      "model_module_version": "1.5.0",
      "model_name": "HTMLModel",
      "state": {
       "layout": "IPY_MODEL_b4fe66dad3534aa5851145ee98ebcee1",
       "style": "IPY_MODEL_4160664f88a743ec9caf3d03e80cafa9",
       "value": " 550/? [00:01&lt;00:00, 418.42it/s]"
      }
     },
     "ede7d37027b1414cad5fe491ffb92132": {
      "model_module": "@jupyter-widgets/controls",
      "model_module_version": "1.5.0",
      "model_name": "HTMLModel",
      "state": {
       "layout": "IPY_MODEL_c00454cd33d94166a3d494c45c388057",
       "style": "IPY_MODEL_45390d9c68914bec8ce18e2d6524db68",
       "value": " 550/? [00:01&lt;00:00, 409.72it/s]"
      }
     },
     "edf4fa5067ac4749ada5b851720f1b9d": {
      "model_module": "@jupyter-widgets/base",
      "model_module_version": "1.2.0",
      "model_name": "LayoutModel",
      "state": {
       "flex": "2"
      }
     },
     "ee1b49f94d394d2188ff99a3cb0095c7": {
      "model_module": "@jupyter-widgets/base",
      "model_module_version": "1.2.0",
      "model_name": "LayoutModel",
      "state": {}
     },
     "ee7fbceda9f94b4595fe7986ef6ecea9": {
      "model_module": "@jupyter-widgets/base",
      "model_module_version": "1.2.0",
      "model_name": "LayoutModel",
      "state": {
       "flex": "2"
      }
     },
     "ef3dbbaea20744a09a8870ca80b5f451": {
      "model_module": "@jupyter-widgets/controls",
      "model_module_version": "1.5.0",
      "model_name": "HTMLModel",
      "state": {
       "layout": "IPY_MODEL_3902aa13ab404d3aac0f868ab5e51631",
       "style": "IPY_MODEL_be2cc08ddad24c7fa87cbcea9e0ac153",
       "value": " 550/? [00:01&lt;00:00, 412.41it/s]"
      }
     },
     "ef512010d1ed41fea879a289e2a08e21": {
      "model_module": "@jupyter-widgets/controls",
      "model_module_version": "1.5.0",
      "model_name": "ProgressStyleModel",
      "state": {
       "description_width": "initial"
      }
     },
     "efa3e40362444456abc2821cfc80e2df": {
      "model_module": "@jupyter-widgets/base",
      "model_module_version": "1.2.0",
      "model_name": "LayoutModel",
      "state": {
       "flex": "2"
      }
     },
     "efd0b645695d47878be6072d455e572b": {
      "model_module": "@jupyter-widgets/controls",
      "model_module_version": "1.5.0",
      "model_name": "DescriptionStyleModel",
      "state": {
       "description_width": ""
      }
     },
     "efe93cc95d164b6796cf4bbb110f5629": {
      "model_module": "@jupyter-widgets/base",
      "model_module_version": "1.2.0",
      "model_name": "LayoutModel",
      "state": {
       "flex": "2"
      }
     },
     "f08ddcbc71e34840979f348c8c6b4109": {
      "model_module": "@jupyter-widgets/controls",
      "model_module_version": "1.5.0",
      "model_name": "FloatProgressModel",
      "state": {
       "description": "Validating: ",
       "layout": "IPY_MODEL_fa450cec46764742a61d3e249c48937a",
       "max": 541,
       "style": "IPY_MODEL_304fe3fa0c164e51b3279efcd170b941",
       "value": 541
      }
     },
     "f1950312de3d4df8b4d4bbaa6b7aa171": {
      "model_module": "@jupyter-widgets/controls",
      "model_module_version": "1.5.0",
      "model_name": "ProgressStyleModel",
      "state": {
       "description_width": "initial"
      }
     },
     "f1f5694350994531b21b324f4ba7632a": {
      "model_module": "@jupyter-widgets/controls",
      "model_module_version": "1.5.0",
      "model_name": "ProgressStyleModel",
      "state": {
       "description_width": "initial"
      }
     },
     "f21bc57f2b854080accbb595de378d89": {
      "model_module": "@jupyter-widgets/base",
      "model_module_version": "1.2.0",
      "model_name": "LayoutModel",
      "state": {
       "display": "inline-flex",
       "flex_flow": "row wrap",
       "width": "100%"
      }
     },
     "f22c8d51748341f2ae4d0f26c1806f97": {
      "model_module": "@jupyter-widgets/controls",
      "model_module_version": "1.5.0",
      "model_name": "HTMLModel",
      "state": {
       "layout": "IPY_MODEL_c7f4113a5d8340bfb33672b92dc91f82",
       "style": "IPY_MODEL_20e79b639ef94a82a14b01846fbea621",
       "value": " 550/? [00:01&lt;00:00, 416.48it/s]"
      }
     },
     "f26ea249e4fd4ddaa0fc45e3b50ef702": {
      "model_module": "@jupyter-widgets/controls",
      "model_module_version": "1.5.0",
      "model_name": "ProgressStyleModel",
      "state": {
       "description_width": "initial"
      }
     },
     "f356bdfd7d6b46c7905836d03c6fe6b9": {
      "model_module": "@jupyter-widgets/controls",
      "model_module_version": "1.5.0",
      "model_name": "DescriptionStyleModel",
      "state": {
       "description_width": ""
      }
     },
     "f3c4c53a2fec4cc3a3148af034248e38": {
      "model_module": "@jupyter-widgets/base",
      "model_module_version": "1.2.0",
      "model_name": "LayoutModel",
      "state": {
       "flex": "2"
      }
     },
     "f3ea837ad787409aa8884fc082b9e07c": {
      "model_module": "@jupyter-widgets/base",
      "model_module_version": "1.2.0",
      "model_name": "LayoutModel",
      "state": {}
     },
     "f432d2b55ecb4b84bb89529cc20072a0": {
      "model_module": "@jupyter-widgets/base",
      "model_module_version": "1.2.0",
      "model_name": "LayoutModel",
      "state": {}
     },
     "f49ba1dcbbf34dd99f329a728f17aa28": {
      "model_module": "@jupyter-widgets/controls",
      "model_module_version": "1.5.0",
      "model_name": "FloatProgressModel",
      "state": {
       "description": "Validating: ",
       "layout": "IPY_MODEL_3b5ff44ec00d4e6f9543639b88b01d32",
       "max": 541,
       "style": "IPY_MODEL_6aa62a52d9d84dbaa189b6c5780fe12b",
       "value": 541
      }
     },
     "f4db812fe5b94d07b4a4a1cb90b96372": {
      "model_module": "@jupyter-widgets/base",
      "model_module_version": "1.2.0",
      "model_name": "LayoutModel",
      "state": {
       "flex": "2"
      }
     },
     "f539af2247e24c96947f3136621c1dd1": {
      "model_module": "@jupyter-widgets/controls",
      "model_module_version": "1.5.0",
      "model_name": "FloatProgressModel",
      "state": {
       "description": "Validating: ",
       "layout": "IPY_MODEL_3c1d68854c8d4dc5ac2a889571801d0b",
       "max": 541,
       "style": "IPY_MODEL_2edebdf7aa7f46f9b13878243f8d35e2",
       "value": 541
      }
     },
     "f590f51eb7d64195892cdf12df2d441e": {
      "model_module": "@jupyter-widgets/base",
      "model_module_version": "1.2.0",
      "model_name": "LayoutModel",
      "state": {
       "flex": "2"
      }
     },
     "f62f3c4bd6fa4a8499f45c7b500beca4": {
      "model_module": "@jupyter-widgets/controls",
      "model_module_version": "1.5.0",
      "model_name": "ProgressStyleModel",
      "state": {
       "description_width": "initial"
      }
     },
     "f64d8ff84de747ed96d873397a5556ab": {
      "model_module": "@jupyter-widgets/base",
      "model_module_version": "1.2.0",
      "model_name": "LayoutModel",
      "state": {}
     },
     "f65d751b909e4a67955b23be4b5c3722": {
      "model_module": "@jupyter-widgets/controls",
      "model_module_version": "1.5.0",
      "model_name": "DescriptionStyleModel",
      "state": {
       "description_width": ""
      }
     },
     "f7228fedaef24b6e8591fbfd4396f48d": {
      "model_module": "@jupyter-widgets/base",
      "model_module_version": "1.2.0",
      "model_name": "LayoutModel",
      "state": {}
     },
     "f74291612645450ca9af6dcc2338eae4": {
      "model_module": "@jupyter-widgets/controls",
      "model_module_version": "1.5.0",
      "model_name": "ProgressStyleModel",
      "state": {
       "description_width": "initial"
      }
     },
     "f74899cad68e41a4bb41aee40197a5ef": {
      "model_module": "@jupyter-widgets/controls",
      "model_module_version": "1.5.0",
      "model_name": "HTMLModel",
      "state": {
       "layout": "IPY_MODEL_1b0a8ee3dde444acb1695c32984f26ad",
       "style": "IPY_MODEL_f356bdfd7d6b46c7905836d03c6fe6b9",
       "value": " 550/? [00:01&lt;00:00, 454.02it/s]"
      }
     },
     "f82bfb6817a842bd8e8614f8584865a6": {
      "model_module": "@jupyter-widgets/base",
      "model_module_version": "1.2.0",
      "model_name": "LayoutModel",
      "state": {
       "flex": "2"
      }
     },
     "f855061148f14ef9bdcb43d9216f756e": {
      "model_module": "@jupyter-widgets/controls",
      "model_module_version": "1.5.0",
      "model_name": "DescriptionStyleModel",
      "state": {
       "description_width": ""
      }
     },
     "f880d1d90e0c433d892396f659a73d79": {
      "model_module": "@jupyter-widgets/base",
      "model_module_version": "1.2.0",
      "model_name": "LayoutModel",
      "state": {}
     },
     "f88eba94814e4595b3921cc3800a28c1": {
      "model_module": "@jupyter-widgets/base",
      "model_module_version": "1.2.0",
      "model_name": "LayoutModel",
      "state": {
       "flex": "2"
      }
     },
     "f8f0997ad4524430af9d456600124335": {
      "model_module": "@jupyter-widgets/controls",
      "model_module_version": "1.5.0",
      "model_name": "HTMLModel",
      "state": {
       "layout": "IPY_MODEL_b0222c7baeca440cb7821a753e847472",
       "style": "IPY_MODEL_807fa74f17b04414831de01201869ddb",
       "value": " 550/? [00:01&lt;00:00, 444.72it/s]"
      }
     },
     "f9224b19b7a249a3acd898053098a54b": {
      "model_module": "@jupyter-widgets/controls",
      "model_module_version": "1.5.0",
      "model_name": "HTMLModel",
      "state": {
       "layout": "IPY_MODEL_2d9967af0fc3462c93850f107516ee92",
       "style": "IPY_MODEL_2aef5fa44acb4c9bad7ea5bab5c97f30",
       "value": " 550/? [00:01&lt;00:00, 485.23it/s]"
      }
     },
     "f941eabeb6074400888ca9c43b8ae492": {
      "model_module": "@jupyter-widgets/base",
      "model_module_version": "1.2.0",
      "model_name": "LayoutModel",
      "state": {
       "display": "inline-flex",
       "flex_flow": "row wrap",
       "width": "100%"
      }
     },
     "f9652a0f56fe4fde91e84c0edaf287ae": {
      "model_module": "@jupyter-widgets/controls",
      "model_module_version": "1.5.0",
      "model_name": "ProgressStyleModel",
      "state": {
       "description_width": "initial"
      }
     },
     "f99d69841bef478b9b8de55c5fd411fb": {
      "model_module": "@jupyter-widgets/controls",
      "model_module_version": "1.5.0",
      "model_name": "DescriptionStyleModel",
      "state": {
       "description_width": ""
      }
     },
     "f9f40e77ce724b5e83fa677933915813": {
      "model_module": "@jupyter-widgets/base",
      "model_module_version": "1.2.0",
      "model_name": "LayoutModel",
      "state": {}
     },
     "fa01b690148c4e84b3888d6bbf434073": {
      "model_module": "@jupyter-widgets/base",
      "model_module_version": "1.2.0",
      "model_name": "LayoutModel",
      "state": {
       "flex": "2"
      }
     },
     "fa450cec46764742a61d3e249c48937a": {
      "model_module": "@jupyter-widgets/base",
      "model_module_version": "1.2.0",
      "model_name": "LayoutModel",
      "state": {
       "flex": "2"
      }
     },
     "fa689031cdd14a7c8695f479a64312f7": {
      "model_module": "@jupyter-widgets/controls",
      "model_module_version": "1.5.0",
      "model_name": "DescriptionStyleModel",
      "state": {
       "description_width": ""
      }
     },
     "fa6fa2631ad34f0398a76855a49fdbc9": {
      "model_module": "@jupyter-widgets/controls",
      "model_module_version": "1.5.0",
      "model_name": "DescriptionStyleModel",
      "state": {
       "description_width": ""
      }
     },
     "fa8ae5e7442a437ba08752da063bfa7f": {
      "model_module": "@jupyter-widgets/base",
      "model_module_version": "1.2.0",
      "model_name": "LayoutModel",
      "state": {}
     },
     "fa8c51b070fd4eaf9d2cc4b8436183c4": {
      "model_module": "@jupyter-widgets/controls",
      "model_module_version": "1.5.0",
      "model_name": "HTMLModel",
      "state": {
       "layout": "IPY_MODEL_38815a8428494e09a51e9be272018416",
       "style": "IPY_MODEL_3cf6707c94914653b832a9c8e40df953",
       "value": " 550/? [00:01&lt;00:00, 482.47it/s]"
      }
     },
     "fab8b2b5554243869c23e3316340310a": {
      "model_module": "@jupyter-widgets/controls",
      "model_module_version": "1.5.0",
      "model_name": "FloatProgressModel",
      "state": {
       "description": "Validating: ",
       "layout": "IPY_MODEL_0403d581406d453186bc74bc4f9c7bc4",
       "max": 541,
       "style": "IPY_MODEL_e7c7a7d87952468c82fc0d160bba826b",
       "value": 541
      }
     },
     "fad9784e5ba848a99cfb77bf0e4c44a7": {
      "model_module": "@jupyter-widgets/base",
      "model_module_version": "1.2.0",
      "model_name": "LayoutModel",
      "state": {
       "flex": "2"
      }
     },
     "fb8e5cbbe7b14434ae206f5d4fd36102": {
      "model_module": "@jupyter-widgets/controls",
      "model_module_version": "1.5.0",
      "model_name": "HTMLModel",
      "state": {
       "layout": "IPY_MODEL_97509ea3c5934e8cb8129255f6a820d6",
       "style": "IPY_MODEL_e8dcc7ce2ab14403949cc918c00829a7",
       "value": " 550/? [00:01&lt;00:00, 388.58it/s]"
      }
     },
     "fbcd0643d0d646a795ff2e33dd3532cf": {
      "model_module": "@jupyter-widgets/base",
      "model_module_version": "1.2.0",
      "model_name": "LayoutModel",
      "state": {
       "flex": "2"
      }
     },
     "fc08c588625b4d01b2321c94eb840ec9": {
      "model_module": "@jupyter-widgets/base",
      "model_module_version": "1.2.0",
      "model_name": "LayoutModel",
      "state": {
       "display": "inline-flex",
       "flex_flow": "row wrap",
       "width": "100%"
      }
     },
     "fd2e141155904454bb47745865cf4e2b": {
      "model_module": "@jupyter-widgets/controls",
      "model_module_version": "1.5.0",
      "model_name": "DescriptionStyleModel",
      "state": {
       "description_width": ""
      }
     },
     "fd7538daff614a3c8babd6c206e861ff": {
      "model_module": "@jupyter-widgets/controls",
      "model_module_version": "1.5.0",
      "model_name": "FloatProgressModel",
      "state": {
       "description": "Validating: ",
       "layout": "IPY_MODEL_18530da573214f789a95061dd88d6a69",
       "max": 541,
       "style": "IPY_MODEL_b9f83630c674469c99323c5c5c37e8f5",
       "value": 541
      }
     },
     "fd896d113a8843728dd9f84d93d90699": {
      "model_module": "@jupyter-widgets/controls",
      "model_module_version": "1.5.0",
      "model_name": "HTMLModel",
      "state": {
       "layout": "IPY_MODEL_2822de0c9fbc432aa8fe141f5688c301",
       "style": "IPY_MODEL_2e384992f5b14213b8ea38db0c1dc94a",
       "value": " 550/? [00:01&lt;00:00, 463.23it/s]"
      }
     },
     "fdd5c7c092c94a59900123a8ee54890d": {
      "model_module": "@jupyter-widgets/base",
      "model_module_version": "1.2.0",
      "model_name": "LayoutModel",
      "state": {
       "display": "inline-flex",
       "flex_flow": "row wrap",
       "width": "100%"
      }
     },
     "fe10d535ffaa47beacfbb05801aca645": {
      "model_module": "@jupyter-widgets/controls",
      "model_module_version": "1.5.0",
      "model_name": "DescriptionStyleModel",
      "state": {
       "description_width": ""
      }
     },
     "fe11d4e015b34579b934344814c1c28e": {
      "model_module": "@jupyter-widgets/base",
      "model_module_version": "1.2.0",
      "model_name": "LayoutModel",
      "state": {}
     },
     "fe158abf89be4f0a95cf1df23477b74f": {
      "model_module": "@jupyter-widgets/controls",
      "model_module_version": "1.5.0",
      "model_name": "DescriptionStyleModel",
      "state": {
       "description_width": ""
      }
     },
     "fe64ca814b4741a381d16ef3e38a20cc": {
      "model_module": "@jupyter-widgets/controls",
      "model_module_version": "1.5.0",
      "model_name": "ProgressStyleModel",
      "state": {
       "description_width": "initial"
      }
     },
     "fe837cfb72f64d6caf023a391578bebf": {
      "model_module": "@jupyter-widgets/controls",
      "model_module_version": "1.5.0",
      "model_name": "HTMLModel",
      "state": {
       "layout": "IPY_MODEL_55a2cda2c6bf4f56a7dffecc7053e4d3",
       "style": "IPY_MODEL_e4513727b0d7415fba97f242b1ac0bcc",
       "value": " 550/? [00:01&lt;00:00, 396.83it/s]"
      }
     },
     "ff5b796820734f14b3cfbd1ea6df6ce1": {
      "model_module": "@jupyter-widgets/controls",
      "model_module_version": "1.5.0",
      "model_name": "DescriptionStyleModel",
      "state": {
       "description_width": ""
      }
     }
    },
    "version_major": 2,
    "version_minor": 0
   }
  }
 },
 "nbformat": 4,
 "nbformat_minor": 4
}

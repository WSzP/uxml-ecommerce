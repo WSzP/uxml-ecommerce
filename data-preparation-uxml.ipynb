{
 "cells": [
  {
   "cell_type": "code",
   "execution_count": 35,
   "metadata": {},
   "outputs": [],
   "source": [
    "import numpy as np\n",
    "import pandas as pd\n",
    "import scipy.sparse as sp"
   ]
  },
  {
   "cell_type": "code",
   "execution_count": 2,
   "metadata": {},
   "outputs": [],
   "source": [
    "DATA_DIR = '../_data/eCommerce-cosmetics/'\n",
    "DATA_OCT = DATA_DIR+'2019-Oct.csv'\n",
    "DATA_NOV = DATA_DIR+'2019-Nov.csv'\n",
    "USECOLS = [\"event_time\",\"event_type\",\"product_id\",\"category_id\",\"user_id\"]\n",
    "EVENT_THRESHOLD = "
   ]
  },
  {
   "cell_type": "code",
   "execution_count": 3,
   "metadata": {},
   "outputs": [],
   "source": [
    "df = pd.concat([pd.read_csv(DATA_OCT, engine='c', sep=',',usecols=USECOLS)\n",
    "                ,pd.read_csv(DATA_NOV, engine='c', sep=',',usecols=USECOLS)])"
   ]
  },
  {
   "cell_type": "code",
   "execution_count": 4,
   "metadata": {},
   "outputs": [],
   "source": [
    "df[\"event_type\"] = df[\"event_type\"].astype(\"category\")\n",
    "df['event_time'] = pd.to_datetime(df['event_time'],infer_datetime_format=True)"
   ]
  },
  {
   "cell_type": "code",
   "execution_count": 5,
   "metadata": {},
   "outputs": [
    {
     "name": "stdout",
     "output_type": "stream",
     "text": [
      "<class 'pandas.core.frame.DataFrame'>\n",
      "Int64Index: 8738120 entries, 0 to 4635836\n",
      "Data columns (total 5 columns):\n",
      " #   Column       Dtype         \n",
      "---  ------       -----         \n",
      " 0   event_time   datetime64[ns]\n",
      " 1   event_type   category      \n",
      " 2   product_id   int64         \n",
      " 3   category_id  int64         \n",
      " 4   user_id      int64         \n",
      "dtypes: category(1), datetime64[ns](1), int64(3)\n",
      "memory usage: 341.7 MB\n"
     ]
    }
   ],
   "source": [
    "df.info()"
   ]
  },
  {
   "cell_type": "code",
   "execution_count": 6,
   "metadata": {},
   "outputs": [
    {
     "data": {
      "text/html": [
       "<div>\n",
       "<style scoped>\n",
       "    .dataframe tbody tr th:only-of-type {\n",
       "        vertical-align: middle;\n",
       "    }\n",
       "\n",
       "    .dataframe tbody tr th {\n",
       "        vertical-align: top;\n",
       "    }\n",
       "\n",
       "    .dataframe thead th {\n",
       "        text-align: right;\n",
       "    }\n",
       "</style>\n",
       "<table border=\"1\" class=\"dataframe\">\n",
       "  <thead>\n",
       "    <tr style=\"text-align: right;\">\n",
       "      <th></th>\n",
       "      <th>event_time</th>\n",
       "      <th>event_type</th>\n",
       "      <th>product_id</th>\n",
       "      <th>category_id</th>\n",
       "      <th>user_id</th>\n",
       "    </tr>\n",
       "  </thead>\n",
       "  <tbody>\n",
       "    <tr>\n",
       "      <th>0</th>\n",
       "      <td>2019-10-01 00:00:00</td>\n",
       "      <td>cart</td>\n",
       "      <td>5773203</td>\n",
       "      <td>1487580005134238553</td>\n",
       "      <td>463240011</td>\n",
       "    </tr>\n",
       "    <tr>\n",
       "      <th>1</th>\n",
       "      <td>2019-10-01 00:00:03</td>\n",
       "      <td>cart</td>\n",
       "      <td>5773353</td>\n",
       "      <td>1487580005134238553</td>\n",
       "      <td>463240011</td>\n",
       "    </tr>\n",
       "    <tr>\n",
       "      <th>2</th>\n",
       "      <td>2019-10-01 00:00:07</td>\n",
       "      <td>cart</td>\n",
       "      <td>5881589</td>\n",
       "      <td>2151191071051219817</td>\n",
       "      <td>429681830</td>\n",
       "    </tr>\n",
       "    <tr>\n",
       "      <th>3</th>\n",
       "      <td>2019-10-01 00:00:07</td>\n",
       "      <td>cart</td>\n",
       "      <td>5723490</td>\n",
       "      <td>1487580005134238553</td>\n",
       "      <td>463240011</td>\n",
       "    </tr>\n",
       "    <tr>\n",
       "      <th>4</th>\n",
       "      <td>2019-10-01 00:00:15</td>\n",
       "      <td>cart</td>\n",
       "      <td>5881449</td>\n",
       "      <td>1487580013522845895</td>\n",
       "      <td>429681830</td>\n",
       "    </tr>\n",
       "    <tr>\n",
       "      <th>...</th>\n",
       "      <td>...</td>\n",
       "      <td>...</td>\n",
       "      <td>...</td>\n",
       "      <td>...</td>\n",
       "      <td>...</td>\n",
       "    </tr>\n",
       "    <tr>\n",
       "      <th>4635832</th>\n",
       "      <td>2019-11-30 23:59:46</td>\n",
       "      <td>view</td>\n",
       "      <td>5830317</td>\n",
       "      <td>1487580009496313889</td>\n",
       "      <td>457678989</td>\n",
       "    </tr>\n",
       "    <tr>\n",
       "      <th>4635833</th>\n",
       "      <td>2019-11-30 23:59:47</td>\n",
       "      <td>view</td>\n",
       "      <td>5733064</td>\n",
       "      <td>1487580004832248652</td>\n",
       "      <td>422196217</td>\n",
       "    </tr>\n",
       "    <tr>\n",
       "      <th>4635834</th>\n",
       "      <td>2019-11-30 23:59:47</td>\n",
       "      <td>view</td>\n",
       "      <td>5867785</td>\n",
       "      <td>1487580007835370453</td>\n",
       "      <td>572579084</td>\n",
       "    </tr>\n",
       "    <tr>\n",
       "      <th>4635835</th>\n",
       "      <td>2019-11-30 23:59:57</td>\n",
       "      <td>view</td>\n",
       "      <td>5779406</td>\n",
       "      <td>2151191071051219817</td>\n",
       "      <td>540006764</td>\n",
       "    </tr>\n",
       "    <tr>\n",
       "      <th>4635836</th>\n",
       "      <td>2019-11-30 23:59:58</td>\n",
       "      <td>view</td>\n",
       "      <td>5880201</td>\n",
       "      <td>2029731308699124089</td>\n",
       "      <td>579969854</td>\n",
       "    </tr>\n",
       "  </tbody>\n",
       "</table>\n",
       "<p>8738120 rows × 5 columns</p>\n",
       "</div>"
      ],
      "text/plain": [
       "                 event_time event_type  product_id          category_id  \\\n",
       "0       2019-10-01 00:00:00       cart     5773203  1487580005134238553   \n",
       "1       2019-10-01 00:00:03       cart     5773353  1487580005134238553   \n",
       "2       2019-10-01 00:00:07       cart     5881589  2151191071051219817   \n",
       "3       2019-10-01 00:00:07       cart     5723490  1487580005134238553   \n",
       "4       2019-10-01 00:00:15       cart     5881449  1487580013522845895   \n",
       "...                     ...        ...         ...                  ...   \n",
       "4635832 2019-11-30 23:59:46       view     5830317  1487580009496313889   \n",
       "4635833 2019-11-30 23:59:47       view     5733064  1487580004832248652   \n",
       "4635834 2019-11-30 23:59:47       view     5867785  1487580007835370453   \n",
       "4635835 2019-11-30 23:59:57       view     5779406  2151191071051219817   \n",
       "4635836 2019-11-30 23:59:58       view     5880201  2029731308699124089   \n",
       "\n",
       "           user_id  \n",
       "0        463240011  \n",
       "1        463240011  \n",
       "2        429681830  \n",
       "3        463240011  \n",
       "4        429681830  \n",
       "...            ...  \n",
       "4635832  457678989  \n",
       "4635833  422196217  \n",
       "4635834  572579084  \n",
       "4635835  540006764  \n",
       "4635836  579969854  \n",
       "\n",
       "[8738120 rows x 5 columns]"
      ]
     },
     "execution_count": 6,
     "metadata": {},
     "output_type": "execute_result"
    }
   ],
   "source": [
    "df"
   ]
  },
  {
   "cell_type": "code",
   "execution_count": 7,
   "metadata": {},
   "outputs": [],
   "source": [
    "def np_array_from_df(df):\n",
    "    total_users = df[USER_ID].unique().shape[0]\n",
    "    total_features = df[FEATURE_ID].unique().shape[0]\n",
    "    print(total_users)\n",
    "    print(total_features)\n",
    "    interactions = np.zeros((total_users, total_features))\n",
    "    i = 0\n",
    "    for row in df.itertuples():\n",
    "        if (i < 5) or (i == 495):\n",
    "            print('{0:>3} | {1:>3} | {2:>1}'.format(row[6],row[4],row[5]))\n",
    "        i +=1\n",
    "        interactions[row[6], row[4]] = row[5]           \n",
    "    return interactions"
   ]
  },
  {
   "cell_type": "code",
   "execution_count": 40,
   "metadata": {},
   "outputs": [
    {
     "data": {
      "text/plain": [
       "713100"
      ]
     },
     "execution_count": 40,
     "metadata": {},
     "output_type": "execute_result"
    }
   ],
   "source": [
    "new_user_id = pd.DataFrame(df.user_id.unique())\n",
    "len(new_user_id)"
   ]
  },
  {
   "cell_type": "code",
   "execution_count": 41,
   "metadata": {},
   "outputs": [
    {
     "data": {
      "text/plain": [
       "45960"
      ]
     },
     "execution_count": 41,
     "metadata": {},
     "output_type": "execute_result"
    }
   ],
   "source": [
    "new_product_id = pd.DataFrame(df.product_id.unique())\n",
    "len(new_product_id)"
   ]
  },
  {
   "cell_type": "code",
   "execution_count": 38,
   "metadata": {},
   "outputs": [],
   "source": [
    "def user_experience_matrix(df):\n",
    "    number_of_users = df['user_id'].unique().shape[0]\n",
    "    number_of_features = df['product_id'].unique().shape[0]\n",
    "    print(f\"Number of unique users: {number_of_users}\")\n",
    "    print(f\"Number of unique features (products for e-commerce): {number_of_features }\")\n",
    "    # Use np.float32 for torch.cuda.FloatTensor.or np.float16 for torch.cuda.HalfTensor (float64 not recommended)\n",
    "    uxm = sp.dok_matrix((number_of_users, number_of_features), dtype=np.float32) \n",
    "    i = 0\n",
    "    for row in df.itertuples():        \n",
    "        i += 1\n",
    "        if i<6:\n",
    "#             print(row)\n",
    "            print(f\"{row.Index} | {row.event_time} | {row.event_type} | {row.product_id} | {row.category_id} | {row.user_id}\")\n",
    "        else:\n",
    "            print(i)\n",
    "            break\n",
    "        \n",
    "    return uxm\n"
   ]
  },
  {
   "cell_type": "code",
   "execution_count": 39,
   "metadata": {},
   "outputs": [
    {
     "name": "stdout",
     "output_type": "stream",
     "text": [
      "Number of unique users: 713100\n",
      "Number of unique features (products for e-commerce): 45960\n",
      "0 | 2019-10-01 00:00:00 | cart | 5773203 | 1487580005134238553 | 463240011\n",
      "1 | 2019-10-01 00:00:03 | cart | 5773353 | 1487580005134238553 | 463240011\n",
      "2 | 2019-10-01 00:00:07 | cart | 5881589 | 2151191071051219817 | 429681830\n",
      "3 | 2019-10-01 00:00:07 | cart | 5723490 | 1487580005134238553 | 463240011\n",
      "4 | 2019-10-01 00:00:15 | cart | 5881449 | 1487580013522845895 | 429681830\n",
      "6\n"
     ]
    },
    {
     "data": {
      "text/plain": [
       "<713100x45960 sparse matrix of type '<class 'numpy.float32'>'\n",
       "\twith 0 stored elements in Dictionary Of Keys format>"
      ]
     },
     "execution_count": 39,
     "metadata": {},
     "output_type": "execute_result"
    }
   ],
   "source": [
    "uxm = user_experience_matrix(df)\n",
    "uxm"
   ]
  },
  {
   "cell_type": "code",
   "execution_count": null,
   "metadata": {},
   "outputs": [],
   "source": []
  }
 ],
 "metadata": {
  "kernelspec": {
   "display_name": "Python 3",
   "language": "python",
   "name": "python3"
  },
  "language_info": {
   "codemirror_mode": {
    "name": "ipython",
    "version": 3
   },
   "file_extension": ".py",
   "mimetype": "text/x-python",
   "name": "python",
   "nbconvert_exporter": "python",
   "pygments_lexer": "ipython3",
   "version": "3.7.6"
  },
  "widgets": {
   "application/vnd.jupyter.widget-state+json": {
    "state": {},
    "version_major": 2,
    "version_minor": 0
   }
  }
 },
 "nbformat": 4,
 "nbformat_minor": 4
}
